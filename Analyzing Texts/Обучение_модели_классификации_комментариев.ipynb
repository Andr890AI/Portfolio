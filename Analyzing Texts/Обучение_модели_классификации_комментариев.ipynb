{
  "cells": [
    {
      "cell_type": "markdown",
      "metadata": {
        "toc": true,
        "id": "Y6_u8qIRNnN_"
      },
      "source": [
        "<h1>Содержание<span class=\"tocSkip\"></span></h1>\n",
        "<div class=\"toc\"><ul class=\"toc-item\"><li><span><a href=\"#Подготовка\" data-toc-modified-id=\"Подготовка-1\"><span class=\"toc-item-num\">1&nbsp;&nbsp;</span>Подготовка</a></span></li><li><span><a href=\"#Обучение\" data-toc-modified-id=\"Обучение-2\"><span class=\"toc-item-num\">2&nbsp;&nbsp;</span>Обучение</a></span></li><li><span><a href=\"#Выводы\" data-toc-modified-id=\"Выводы-3\"><span class=\"toc-item-num\">3&nbsp;&nbsp;</span>Выводы</a></span></li><li><span><a href=\"#Чек-лист-проверки\" data-toc-modified-id=\"Чек-лист-проверки-4\"><span class=\"toc-item-num\">4&nbsp;&nbsp;</span>Чек-лист проверки</a></span></li></ul></div>"
      ]
    },
    {
      "cell_type": "markdown",
      "metadata": {
        "id": "p1ahplDzNnN_"
      },
      "source": [
        "# Проект для «Викишоп»"
      ]
    },
    {
      "cell_type": "markdown",
      "metadata": {
        "id": "_ToIUeEqNnOA"
      },
      "source": [
        "Интернет-магазин «Викишоп» запускает новый сервис. Теперь пользователи могут редактировать и дополнять описания товаров, как в вики-сообществах. То есть клиенты предлагают свои правки и комментируют изменения других. Магазину нужен инструмент, который будет искать токсичные комментарии и отправлять их на модерацию.\n",
        "\n",
        "Обучите модель классифицировать комментарии на позитивные и негативные. В вашем распоряжении набор данных с разметкой о токсичности правок.\n",
        "\n",
        "Постройте модель со значением метрики качества *F1* не меньше 0.75.\n",
        "\n",
        "**Инструкция по выполнению проекта**\n",
        "\n",
        "1. Загрузите и подготовьте данные.\n",
        "2. Обучите разные модели.\n",
        "3. Сделайте выводы.\n",
        "\n",
        "Для выполнения проекта применять *BERT* необязательно, но вы можете попробовать.\n",
        "\n",
        "**Описание данных**\n",
        "\n",
        "Данные находятся в файле `toxic_comments.csv`. Столбец *text* в нём содержит текст комментария, а *toxic* — целевой признак."
      ]
    },
    {
      "cell_type": "markdown",
      "metadata": {
        "id": "PAJ2SY7UNnOB"
      },
      "source": [
        "## Подготовка"
      ]
    },
    {
      "cell_type": "code",
      "execution_count": null,
      "metadata": {
        "id": "5Av6dzRpNnOC",
        "outputId": "57465769-8210-4a6c-f7fa-8095d5f50c6d"
      },
      "outputs": [
        {
          "name": "stderr",
          "output_type": "stream",
          "text": [
            "[nltk_data] Downloading package wordnet to /home/jovyan/nltk_data...\n",
            "[nltk_data]   Package wordnet is already up-to-date!\n",
            "[nltk_data] Downloading package averaged_perceptron_tagger to\n",
            "[nltk_data]     /home/jovyan/nltk_data...\n",
            "[nltk_data]   Package averaged_perceptron_tagger is already up-to-\n",
            "[nltk_data]       date!\n"
          ]
        }
      ],
      "source": [
        "import matplotlib.pyplot as plt\n",
        "import numpy as np\n",
        "import pandas as pd\n",
        "import re\n",
        "from pymystem3 import Mystem\n",
        "import nltk\n",
        "nltk.download('wordnet')\n",
        "nltk.download('averaged_perceptron_tagger')\n",
        "from nltk.stem import WordNetLemmatizer\n",
        "from tqdm.notebook import tqdm\n",
        "\n",
        "from nltk.corpus import stopwords as nltk_stopwords\n",
        "from sklearn.feature_extraction.text import TfidfVectorizer\n",
        "from sklearn.model_selection import train_test_split, cross_val_score, GridSearchCV, TimeSeriesSplit\n",
        "from sklearn.linear_model import LogisticRegression, SGDClassifier\n",
        "from sklearn.tree import DecisionTreeClassifier\n",
        "from catboost import CatBoostClassifier\n",
        "from sklearn.metrics import f1_score, precision_score, recall_score, accuracy_score, roc_auc_score, roc_curve\n",
        "from sklearn.utils import shuffle\n",
        "\n",
        "from sklearn.ensemble import RandomForestClassifier\n",
        "\n",
        "\n",
        "import warnings\n",
        "warnings.filterwarnings('ignore')"
      ]
    },
    {
      "cell_type": "code",
      "execution_count": null,
      "metadata": {
        "id": "GLJ6hKUSNnOE"
      },
      "outputs": [],
      "source": [
        "df = pd.read_csv('/datasets/toxic_comments.csv')"
      ]
    },
    {
      "cell_type": "code",
      "execution_count": null,
      "metadata": {
        "id": "9a_37HtfNnOF",
        "outputId": "6e6619c2-b8bb-48d7-a3f8-4fb2eeeaa17e"
      },
      "outputs": [
        {
          "data": {
            "text/plain": [
              "0    143106\n",
              "1     16186\n",
              "Name: toxic, dtype: int64"
            ]
          },
          "execution_count": 3,
          "metadata": {},
          "output_type": "execute_result"
        }
      ],
      "source": [
        "df['toxic'].value_counts()"
      ]
    },
    {
      "cell_type": "markdown",
      "metadata": {
        "id": "ov2YK6qWNnOG"
      },
      "source": [
        "Создадим корпус слов"
      ]
    },
    {
      "cell_type": "code",
      "execution_count": null,
      "metadata": {
        "id": "L8SYWwOiNnOG"
      },
      "outputs": [],
      "source": [
        "corpus = list(df['text'])"
      ]
    },
    {
      "cell_type": "code",
      "execution_count": null,
      "metadata": {
        "id": "3QSSw3q8NnOG"
      },
      "outputs": [],
      "source": [
        "lemmatizer = WordNetLemmatizer()"
      ]
    },
    {
      "cell_type": "markdown",
      "metadata": {
        "id": "G-ov6V01NnOG"
      },
      "source": [
        "Создадим функцию по очистке данных"
      ]
    },
    {
      "cell_type": "code",
      "execution_count": null,
      "metadata": {
        "id": "8rQyZandNnOG"
      },
      "outputs": [],
      "source": [
        "def clear_text(text):\n",
        "    y=re.sub(r\"[^'a-zA-Z ]\", ' ', text)\n",
        "    k=\" \".join(y.split())\n",
        "    return k"
      ]
    },
    {
      "cell_type": "markdown",
      "metadata": {
        "id": "QGe34eJXNnOG"
      },
      "source": [
        "Создадим функцию которая будет использовать функцию по очистке слов и лемматизировать каждое слово"
      ]
    },
    {
      "cell_type": "code",
      "execution_count": null,
      "metadata": {
        "id": "SoOswC0FNnOH"
      },
      "outputs": [],
      "source": [
        "from nltk.corpus import wordnet\n",
        "def get_wordnet_pos(word):\n",
        "    tag = nltk.pos_tag([word])[0][1][0].upper()\n",
        "    tag_dict = {\"J\": wordnet.ADJ,\n",
        "                \"N\": wordnet.NOUN,\n",
        "                \"V\": wordnet.VERB,\n",
        "                \"R\": wordnet.ADV}\n",
        "    return tag_dict.get(tag, wordnet.NOUN)"
      ]
    },
    {
      "cell_type": "markdown",
      "metadata": {
        "id": "wRf2pHtnNnOH"
      },
      "source": [
        "Выполним преобразование текста"
      ]
    },
    {
      "cell_type": "code",
      "execution_count": null,
      "metadata": {
        "colab": {
          "referenced_widgets": [
            "ab7a3aae204b4359a0b8a93b3a7a52da"
          ]
        },
        "id": "v1vZAMjfNnOH",
        "outputId": "cd290630-3580-433b-d6f3-ae6d0061095e"
      },
      "outputs": [
        {
          "data": {
            "application/vnd.jupyter.widget-view+json": {
              "model_id": "ab7a3aae204b4359a0b8a93b3a7a52da",
              "version_major": 2,
              "version_minor": 0
            },
            "text/plain": [
              "  0%|          | 0/10 [00:00<?, ?it/s]"
            ]
          },
          "metadata": {},
          "output_type": "display_data"
        }
      ],
      "source": [
        "def lemmafunction(textc):\n",
        "    k=[]\n",
        "    for i in nltk.word_tokenize(textc):\n",
        "        y=lemmatizer.lemmatize(i, get_wordnet_pos(i))\n",
        "        k.append(y)\n",
        "    return ' '.join(k)\n",
        "\n",
        "lemy=[]\n",
        "for i in tqdm(range(len(corpus))):\n",
        "\n",
        "    lemy.append(lemmafunction(clear_text(corpus[i])))\n",
        "df['lemm_text']=pd.Series(lemy, index=df.index)"
      ]
    },
    {
      "cell_type": "code",
      "execution_count": null,
      "metadata": {
        "scrolled": false,
        "id": "k-tGG6hCNnOH",
        "outputId": "5f3c349d-7d52-4953-e8e6-b53a83fb1900"
      },
      "outputs": [
        {
          "data": {
            "text/html": [
              "<div>\n",
              "<style scoped>\n",
              "    .dataframe tbody tr th:only-of-type {\n",
              "        vertical-align: middle;\n",
              "    }\n",
              "\n",
              "    .dataframe tbody tr th {\n",
              "        vertical-align: top;\n",
              "    }\n",
              "\n",
              "    .dataframe thead th {\n",
              "        text-align: right;\n",
              "    }\n",
              "</style>\n",
              "<table border=\"1\" class=\"dataframe\">\n",
              "  <thead>\n",
              "    <tr style=\"text-align: right;\">\n",
              "      <th></th>\n",
              "      <th>Unnamed: 0</th>\n",
              "      <th>text</th>\n",
              "      <th>toxic</th>\n",
              "      <th>lemm_text</th>\n",
              "    </tr>\n",
              "  </thead>\n",
              "  <tbody>\n",
              "    <tr>\n",
              "      <th>0</th>\n",
              "      <td>0</td>\n",
              "      <td>Explanation\\nWhy the edits made under my usern...</td>\n",
              "      <td>0</td>\n",
              "      <td>Explanation Why the edits make under my userna...</td>\n",
              "    </tr>\n",
              "    <tr>\n",
              "      <th>1</th>\n",
              "      <td>1</td>\n",
              "      <td>D'aww! He matches this background colour I'm s...</td>\n",
              "      <td>0</td>\n",
              "      <td>D'aww He match this background colour I 'm see...</td>\n",
              "    </tr>\n",
              "    <tr>\n",
              "      <th>2</th>\n",
              "      <td>2</td>\n",
              "      <td>Hey man, I'm really not trying to edit war. It...</td>\n",
              "      <td>0</td>\n",
              "      <td>Hey man I 'm really not try to edit war It 's ...</td>\n",
              "    </tr>\n",
              "    <tr>\n",
              "      <th>3</th>\n",
              "      <td>3</td>\n",
              "      <td>\"\\nMore\\nI can't make any real suggestions on ...</td>\n",
              "      <td>0</td>\n",
              "      <td>More I ca n't make any real suggestion on impr...</td>\n",
              "    </tr>\n",
              "    <tr>\n",
              "      <th>4</th>\n",
              "      <td>4</td>\n",
              "      <td>You, sir, are my hero. Any chance you remember...</td>\n",
              "      <td>0</td>\n",
              "      <td>You sir be my hero Any chance you remember wha...</td>\n",
              "    </tr>\n",
              "  </tbody>\n",
              "</table>\n",
              "</div>"
            ],
            "text/plain": [
              "   Unnamed: 0                                               text  toxic  \\\n",
              "0           0  Explanation\\nWhy the edits made under my usern...      0   \n",
              "1           1  D'aww! He matches this background colour I'm s...      0   \n",
              "2           2  Hey man, I'm really not trying to edit war. It...      0   \n",
              "3           3  \"\\nMore\\nI can't make any real suggestions on ...      0   \n",
              "4           4  You, sir, are my hero. Any chance you remember...      0   \n",
              "\n",
              "                                           lemm_text  \n",
              "0  Explanation Why the edits make under my userna...  \n",
              "1  D'aww He match this background colour I 'm see...  \n",
              "2  Hey man I 'm really not try to edit war It 's ...  \n",
              "3  More I ca n't make any real suggestion on impr...  \n",
              "4  You sir be my hero Any chance you remember wha...  "
            ]
          },
          "execution_count": 9,
          "metadata": {},
          "output_type": "execute_result"
        }
      ],
      "source": [
        "df.head()"
      ]
    },
    {
      "cell_type": "code",
      "execution_count": null,
      "metadata": {
        "id": "EtsV0OZuNnOI"
      },
      "outputs": [],
      "source": [
        "target = df['toxic']\n",
        "features = df.drop(['toxic'], axis=1)\n",
        "\n",
        "\n",
        "features_train, features_test, target_train, target_test = train_test_split(features, target, test_size=0.5, random_state=123)\n"
      ]
    },
    {
      "cell_type": "code",
      "execution_count": null,
      "metadata": {
        "id": "UXsjyc51NnOJ",
        "outputId": "4083b52c-420f-41eb-d623-7b04cd8fdc74"
      },
      "outputs": [
        {
          "name": "stderr",
          "output_type": "stream",
          "text": [
            "[nltk_data] Downloading package stopwords to /home/jovyan/nltk_data...\n",
            "[nltk_data]   Package stopwords is already up-to-date!\n"
          ]
        }
      ],
      "source": [
        "nltk.download('stopwords')\n",
        "stopwords = set(nltk_stopwords.words('english'))\n",
        "\n",
        "count_tf_idf = TfidfVectorizer(stop_words=stopwords)"
      ]
    },
    {
      "cell_type": "code",
      "execution_count": null,
      "metadata": {
        "id": "ev56lE3ENnOJ",
        "outputId": "c14580c7-9fd6-42e0-ed90-87adde6cb227"
      },
      "outputs": [
        {
          "name": "stdout",
          "output_type": "stream",
          "text": [
            "(79646, 106137)\n",
            "(79646, 106137)\n"
          ]
        }
      ],
      "source": [
        "features_train = count_tf_idf.fit_transform(features_train['lemm_text'].values) #astype('U'))\n",
        "features_test = count_tf_idf.transform(features_test['lemm_text'].values) #astype('U'))\n",
        "print(features_train.shape)\n",
        "print(features_test.shape)"
      ]
    },
    {
      "cell_type": "markdown",
      "metadata": {
        "id": "cnRPtGdwNnOL"
      },
      "source": [
        "## Обучение"
      ]
    },
    {
      "cell_type": "markdown",
      "metadata": {
        "id": "kjig7-i0NnOL"
      },
      "source": [
        " LogisticRegression"
      ]
    },
    {
      "cell_type": "code",
      "execution_count": null,
      "metadata": {
        "collapsed": true,
        "id": "E_rRBWbyNnOL",
        "outputId": "8c7ce347-6de4-4b3b-a927-6e93d9901ec2"
      },
      "outputs": [
        {
          "name": "stdout",
          "output_type": "stream",
          "text": [
            "Fitting 3 folds for each of 10 candidates, totalling 30 fits\n",
            "[CV 1/3; 1/10] START C=1, penalty=l1............................................\n",
            "[CV 1/3; 1/10] END ..........................C=1, penalty=l1; total time=   0.5s\n",
            "[CV 2/3; 1/10] START C=1, penalty=l1............................................\n",
            "[CV 2/3; 1/10] END ..........................C=1, penalty=l1; total time=   0.5s\n",
            "[CV 3/3; 1/10] START C=1, penalty=l1............................................\n",
            "[CV 3/3; 1/10] END ..........................C=1, penalty=l1; total time=   0.5s\n",
            "[CV 1/3; 2/10] START C=1, penalty=l2............................................\n",
            "[CV 1/3; 2/10] END ..........................C=1, penalty=l2; total time=   5.1s\n",
            "[CV 2/3; 2/10] START C=1, penalty=l2............................................\n",
            "[CV 2/3; 2/10] END ..........................C=1, penalty=l2; total time=   4.9s\n",
            "[CV 3/3; 2/10] START C=1, penalty=l2............................................\n",
            "[CV 3/3; 2/10] END ..........................C=1, penalty=l2; total time=   4.4s\n",
            "[CV 1/3; 3/10] START C=4, penalty=l1............................................\n",
            "[CV 1/3; 3/10] END ..........................C=4, penalty=l1; total time=   0.7s\n",
            "[CV 2/3; 3/10] START C=4, penalty=l1............................................\n",
            "[CV 2/3; 3/10] END ..........................C=4, penalty=l1; total time=   0.6s\n",
            "[CV 3/3; 3/10] START C=4, penalty=l1............................................\n",
            "[CV 3/3; 3/10] END ..........................C=4, penalty=l1; total time=   0.6s\n",
            "[CV 1/3; 4/10] START C=4, penalty=l2............................................\n",
            "[CV 1/3; 4/10] END ..........................C=4, penalty=l2; total time=   7.0s\n",
            "[CV 2/3; 4/10] START C=4, penalty=l2............................................\n",
            "[CV 2/3; 4/10] END ..........................C=4, penalty=l2; total time=   8.8s\n",
            "[CV 3/3; 4/10] START C=4, penalty=l2............................................\n",
            "[CV 3/3; 4/10] END ..........................C=4, penalty=l2; total time=   7.4s\n",
            "[CV 1/3; 5/10] START C=7, penalty=l1............................................\n",
            "[CV 1/3; 5/10] END ..........................C=7, penalty=l1; total time=   0.9s\n",
            "[CV 2/3; 5/10] START C=7, penalty=l1............................................\n",
            "[CV 2/3; 5/10] END ..........................C=7, penalty=l1; total time=   1.1s\n",
            "[CV 3/3; 5/10] START C=7, penalty=l1............................................\n",
            "[CV 3/3; 5/10] END ..........................C=7, penalty=l1; total time=   1.0s\n",
            "[CV 1/3; 6/10] START C=7, penalty=l2............................................\n",
            "[CV 1/3; 6/10] END ..........................C=7, penalty=l2; total time=   7.6s\n",
            "[CV 2/3; 6/10] START C=7, penalty=l2............................................\n",
            "[CV 2/3; 6/10] END ..........................C=7, penalty=l2; total time=   6.7s\n",
            "[CV 3/3; 6/10] START C=7, penalty=l2............................................\n",
            "[CV 3/3; 6/10] END ..........................C=7, penalty=l2; total time=   8.3s\n",
            "[CV 1/3; 7/10] START C=10, penalty=l1...........................................\n",
            "[CV 1/3; 7/10] END .........................C=10, penalty=l1; total time=   1.3s\n",
            "[CV 2/3; 7/10] START C=10, penalty=l1...........................................\n",
            "[CV 2/3; 7/10] END .........................C=10, penalty=l1; total time=   1.3s\n",
            "[CV 3/3; 7/10] START C=10, penalty=l1...........................................\n",
            "[CV 3/3; 7/10] END .........................C=10, penalty=l1; total time=   1.4s\n",
            "[CV 1/3; 8/10] START C=10, penalty=l2...........................................\n",
            "[CV 1/3; 8/10] END .........................C=10, penalty=l2; total time=   7.9s\n",
            "[CV 2/3; 8/10] START C=10, penalty=l2...........................................\n",
            "[CV 2/3; 8/10] END .........................C=10, penalty=l2; total time=   6.8s\n",
            "[CV 3/3; 8/10] START C=10, penalty=l2...........................................\n",
            "[CV 3/3; 8/10] END .........................C=10, penalty=l2; total time=   6.3s\n",
            "[CV 1/3; 9/10] START C=13, penalty=l1...........................................\n",
            "[CV 1/3; 9/10] END .........................C=13, penalty=l1; total time=   1.5s\n",
            "[CV 2/3; 9/10] START C=13, penalty=l1...........................................\n",
            "[CV 2/3; 9/10] END .........................C=13, penalty=l1; total time=   1.5s\n",
            "[CV 3/3; 9/10] START C=13, penalty=l1...........................................\n",
            "[CV 3/3; 9/10] END .........................C=13, penalty=l1; total time=   1.4s\n",
            "[CV 1/3; 10/10] START C=13, penalty=l2..........................................\n",
            "[CV 1/3; 10/10] END ........................C=13, penalty=l2; total time=  10.1s\n",
            "[CV 2/3; 10/10] START C=13, penalty=l2..........................................\n",
            "[CV 2/3; 10/10] END ........................C=13, penalty=l2; total time=   9.7s\n",
            "[CV 3/3; 10/10] START C=13, penalty=l2..........................................\n",
            "[CV 3/3; 10/10] END ........................C=13, penalty=l2; total time=   8.8s\n",
            "f1_score = 0.7627673354094773\n"
          ]
        }
      ],
      "source": [
        "model = LogisticRegression(random_state=1, solver='liblinear', max_iter=100)\n",
        "params = {\n",
        "    'penalty':['l1', 'l2'],\n",
        "   'C':list(range(1,15,3))\n",
        "    }\n",
        "grid_cv = GridSearchCV(estimator=model, cv=3, param_grid=params, n_jobs=-1, verbose=10, scoring='f1')\n",
        "grid_cv.fit(features_train, target_train)\n",
        "grid_cv.best_params_\n",
        "rf_rmse = grid_cv.best_score_\n",
        "print('f1_score =', rf_rmse)"
      ]
    },
    {
      "cell_type": "markdown",
      "metadata": {
        "id": "yv-q1ZVBNnOM"
      },
      "source": [
        "DecisionTreeClassifier"
      ]
    },
    {
      "cell_type": "code",
      "execution_count": null,
      "metadata": {
        "id": "8JLF1g-LNnOM",
        "outputId": "849d68cb-be72-4c9d-b9e2-ba4ce74ed1d7"
      },
      "outputs": [
        {
          "name": "stdout",
          "output_type": "stream",
          "text": [
            "Fitting 3 folds for each of 6 candidates, totalling 18 fits\n",
            "f1_score = 0.6010043208971775\n"
          ]
        }
      ],
      "source": [
        "tree = DecisionTreeClassifier(random_state = 123)\n",
        "params = {\n",
        "   'criterion':['gini', 'entropy'],\n",
        "   'max_depth':list(range(1,15,5))\n",
        "}\n",
        "\n",
        "\n",
        "\n",
        "tree_gs = GridSearchCV(tree, params, cv=3, scoring='f1', verbose=True).fit(features_train, target_train)\n",
        "\n",
        "print (\"f1_score =\", tree_gs.best_score_)"
      ]
    },
    {
      "cell_type": "code",
      "execution_count": null,
      "metadata": {
        "scrolled": true,
        "id": "y1TbY8l2NnOM",
        "outputId": "6348af4e-33be-41a1-da00-b31c61140f0e"
      },
      "outputs": [
        {
          "name": "stdout",
          "output_type": "stream",
          "text": [
            "f1_score = 0.7682711864406779\n"
          ]
        }
      ],
      "source": [
        "predict_lgb_test = grid_cv.predict(features_test)\n",
        "rmse_lgb_test = f1_score(target_test, predict_lgb_test)\n",
        "print (\"f1_score =\", rmse_lgb_test)"
      ]
    },
    {
      "cell_type": "markdown",
      "metadata": {
        "id": "POjfwiGTNnON"
      },
      "source": [
        "## Выводы"
      ]
    },
    {
      "cell_type": "markdown",
      "metadata": {
        "id": "zPLIn64sNnON"
      },
      "source": [
        "- Модель со значением метрики качества F1 не меньше 0.75 LogisticRegression.\n",
        "- Метрика f1_score LogisticRegression на тестовой выборке = 0.7781719885115729"
      ]
    }
  ],
  "metadata": {
    "ExecuteTimeLog": [
      {
        "duration": 1710,
        "start_time": "2023-07-16T18:19:08.495Z"
      },
      {
        "duration": 106,
        "start_time": "2023-07-16T18:19:37.526Z"
      },
      {
        "duration": 537,
        "start_time": "2023-07-16T18:20:04.797Z"
      },
      {
        "duration": 3297,
        "start_time": "2023-07-16T18:20:48.128Z"
      },
      {
        "duration": 15,
        "start_time": "2023-07-16T18:21:23.527Z"
      },
      {
        "duration": 7,
        "start_time": "2023-07-16T18:21:48.043Z"
      },
      {
        "duration": 100426,
        "start_time": "2023-07-16T18:22:14.917Z"
      },
      {
        "duration": 58,
        "start_time": "2023-07-16T18:23:55.346Z"
      },
      {
        "duration": 6,
        "start_time": "2023-07-16T18:24:22.552Z"
      },
      {
        "duration": 11740,
        "start_time": "2023-07-16T18:24:23.634Z"
      },
      {
        "duration": 915352,
        "start_time": "2023-07-16T18:26:10.814Z"
      },
      {
        "duration": 131,
        "start_time": "2023-07-17T08:16:41.745Z"
      },
      {
        "duration": 13,
        "start_time": "2023-07-17T08:18:43.083Z"
      },
      {
        "duration": 1554,
        "start_time": "2023-07-17T08:18:49.062Z"
      },
      {
        "duration": 810,
        "start_time": "2023-07-17T08:18:50.619Z"
      },
      {
        "duration": 91,
        "start_time": "2023-07-17T08:18:51.430Z"
      },
      {
        "duration": 41,
        "start_time": "2023-07-17T08:18:51.523Z"
      },
      {
        "duration": 83429,
        "start_time": "2023-07-17T08:18:51.565Z"
      },
      {
        "duration": 67,
        "start_time": "2023-07-17T08:20:14.996Z"
      },
      {
        "duration": 212,
        "start_time": "2023-07-17T08:20:15.065Z"
      },
      {
        "duration": 10392,
        "start_time": "2023-07-17T08:20:15.279Z"
      },
      {
        "duration": 130,
        "start_time": "2023-07-17T08:20:25.672Z"
      },
      {
        "duration": 0,
        "start_time": "2023-07-17T08:20:25.803Z"
      },
      {
        "duration": 4,
        "start_time": "2023-07-17T08:22:24.105Z"
      },
      {
        "duration": 3,
        "start_time": "2023-07-17T08:22:31.753Z"
      },
      {
        "duration": 45639,
        "start_time": "2023-07-17T08:22:34.302Z"
      },
      {
        "duration": 44360,
        "start_time": "2023-07-17T08:24:38.192Z"
      },
      {
        "duration": 25,
        "start_time": "2023-07-17T08:31:32.938Z"
      },
      {
        "duration": 2,
        "start_time": "2023-07-17T08:35:29.709Z"
      },
      {
        "duration": 163093,
        "start_time": "2023-07-17T08:35:31.442Z"
      },
      {
        "duration": 160944,
        "start_time": "2023-07-17T08:39:49.350Z"
      },
      {
        "duration": 1799,
        "start_time": "2023-07-17T10:29:10.598Z"
      },
      {
        "duration": 875,
        "start_time": "2023-07-17T10:29:12.399Z"
      },
      {
        "duration": 95,
        "start_time": "2023-07-17T10:29:13.275Z"
      },
      {
        "duration": 8,
        "start_time": "2023-07-17T10:29:13.371Z"
      },
      {
        "duration": 99056,
        "start_time": "2023-07-17T10:29:13.381Z"
      },
      {
        "duration": 48,
        "start_time": "2023-07-17T10:30:52.439Z"
      },
      {
        "duration": 190,
        "start_time": "2023-07-17T10:30:52.490Z"
      },
      {
        "duration": 11119,
        "start_time": "2023-07-17T10:30:52.682Z"
      },
      {
        "duration": 157693,
        "start_time": "2023-07-17T10:31:03.803Z"
      },
      {
        "duration": 270,
        "start_time": "2023-07-17T10:33:41.498Z"
      },
      {
        "duration": 637,
        "start_time": "2023-07-17T10:35:50.898Z"
      },
      {
        "duration": 103258,
        "start_time": "2023-07-17T10:35:58.980Z"
      },
      {
        "duration": 156,
        "start_time": "2023-07-17T10:43:21.257Z"
      },
      {
        "duration": 30,
        "start_time": "2023-07-17T10:44:41.387Z"
      },
      {
        "duration": 30,
        "start_time": "2023-07-17T10:46:46.682Z"
      },
      {
        "duration": 29,
        "start_time": "2023-07-17T10:48:15.095Z"
      },
      {
        "duration": 31,
        "start_time": "2023-07-17T10:48:45.189Z"
      },
      {
        "duration": 35,
        "start_time": "2023-07-17T10:49:22.800Z"
      },
      {
        "duration": 13,
        "start_time": "2023-07-17T10:53:34.984Z"
      },
      {
        "duration": 2,
        "start_time": "2023-07-17T10:56:13.145Z"
      },
      {
        "duration": 10,
        "start_time": "2023-07-17T10:56:17.375Z"
      },
      {
        "duration": 2,
        "start_time": "2023-07-17T10:56:37.157Z"
      },
      {
        "duration": 2,
        "start_time": "2023-07-17T10:56:51.572Z"
      },
      {
        "duration": 274,
        "start_time": "2023-07-17T11:02:59.853Z"
      },
      {
        "duration": 18,
        "start_time": "2023-07-17T11:03:33.645Z"
      },
      {
        "duration": 8,
        "start_time": "2023-07-17T11:03:54.516Z"
      },
      {
        "duration": 1706,
        "start_time": "2023-07-17T11:22:09.314Z"
      },
      {
        "duration": 804,
        "start_time": "2023-07-17T11:22:11.022Z"
      },
      {
        "duration": 98,
        "start_time": "2023-07-17T11:22:11.828Z"
      },
      {
        "duration": 19,
        "start_time": "2023-07-17T11:22:11.928Z"
      },
      {
        "duration": 93630,
        "start_time": "2023-07-17T11:22:11.950Z"
      },
      {
        "duration": 56,
        "start_time": "2023-07-17T11:23:45.582Z"
      },
      {
        "duration": 187,
        "start_time": "2023-07-17T11:23:45.640Z"
      },
      {
        "duration": 11046,
        "start_time": "2023-07-17T11:23:45.829Z"
      },
      {
        "duration": 159982,
        "start_time": "2023-07-17T11:23:56.877Z"
      },
      {
        "duration": 124,
        "start_time": "2023-07-17T11:26:36.861Z"
      },
      {
        "duration": 96458,
        "start_time": "2023-07-17T11:28:00.770Z"
      },
      {
        "duration": 15,
        "start_time": "2023-07-17T11:29:41.508Z"
      },
      {
        "duration": 21,
        "start_time": "2023-07-17T11:30:04.448Z"
      },
      {
        "duration": 16,
        "start_time": "2023-07-17T11:30:34.502Z"
      },
      {
        "duration": 3096,
        "start_time": "2023-07-17T12:51:10.674Z"
      },
      {
        "duration": 2342,
        "start_time": "2023-07-17T12:51:13.773Z"
      },
      {
        "duration": 84,
        "start_time": "2023-07-17T12:51:16.117Z"
      },
      {
        "duration": 33,
        "start_time": "2023-07-17T12:51:16.203Z"
      },
      {
        "duration": 738,
        "start_time": "2023-07-17T12:51:16.237Z"
      },
      {
        "duration": 8,
        "start_time": "2023-07-17T12:51:16.978Z"
      },
      {
        "duration": 42,
        "start_time": "2023-07-17T13:30:15.920Z"
      },
      {
        "duration": 1567,
        "start_time": "2023-07-17T13:30:23.355Z"
      },
      {
        "duration": 3115,
        "start_time": "2023-07-17T13:30:24.925Z"
      },
      {
        "duration": 70,
        "start_time": "2023-07-17T13:30:28.041Z"
      },
      {
        "duration": 7,
        "start_time": "2023-07-17T13:30:28.112Z"
      },
      {
        "duration": 364,
        "start_time": "2023-07-17T13:30:28.120Z"
      },
      {
        "duration": 0,
        "start_time": "2023-07-17T13:30:28.486Z"
      },
      {
        "duration": 0,
        "start_time": "2023-07-17T13:30:28.487Z"
      },
      {
        "duration": 0,
        "start_time": "2023-07-17T13:30:28.489Z"
      },
      {
        "duration": 0,
        "start_time": "2023-07-17T13:30:28.490Z"
      },
      {
        "duration": 0,
        "start_time": "2023-07-17T13:30:28.491Z"
      },
      {
        "duration": 0,
        "start_time": "2023-07-17T13:30:28.492Z"
      },
      {
        "duration": 0,
        "start_time": "2023-07-17T13:30:28.494Z"
      },
      {
        "duration": 305,
        "start_time": "2023-07-17T13:30:55.956Z"
      },
      {
        "duration": 389,
        "start_time": "2023-07-17T13:37:41.978Z"
      },
      {
        "duration": 308,
        "start_time": "2023-07-17T13:40:42.961Z"
      },
      {
        "duration": 669,
        "start_time": "2023-07-17T13:41:04.406Z"
      },
      {
        "duration": 10,
        "start_time": "2023-07-17T13:41:05.080Z"
      },
      {
        "duration": 5,
        "start_time": "2023-07-17T13:41:58.664Z"
      },
      {
        "duration": 272,
        "start_time": "2023-07-17T13:42:48.054Z"
      },
      {
        "duration": 290,
        "start_time": "2023-07-17T13:43:05.856Z"
      },
      {
        "duration": 75,
        "start_time": "2023-07-17T13:53:58.166Z"
      },
      {
        "duration": 1419,
        "start_time": "2023-07-17T13:54:21.358Z"
      },
      {
        "duration": 348,
        "start_time": "2023-07-17T13:54:44.689Z"
      },
      {
        "duration": 2496,
        "start_time": "2023-07-17T14:02:54.361Z"
      },
      {
        "duration": 16,
        "start_time": "2023-07-17T14:03:31.549Z"
      },
      {
        "duration": 77,
        "start_time": "2023-07-17T14:04:36.613Z"
      },
      {
        "duration": 476,
        "start_time": "2023-07-17T14:05:21.872Z"
      },
      {
        "duration": 448,
        "start_time": "2023-07-17T14:06:17.993Z"
      },
      {
        "duration": 426,
        "start_time": "2023-07-17T14:07:23.556Z"
      },
      {
        "duration": 434,
        "start_time": "2023-07-17T14:20:59.160Z"
      },
      {
        "duration": 418,
        "start_time": "2023-07-17T14:21:39.367Z"
      },
      {
        "duration": 442,
        "start_time": "2023-07-17T14:22:44.253Z"
      },
      {
        "duration": 8,
        "start_time": "2023-07-17T14:23:13.907Z"
      },
      {
        "duration": 11,
        "start_time": "2023-07-17T14:23:44.717Z"
      },
      {
        "duration": 4,
        "start_time": "2023-07-17T14:24:18.295Z"
      },
      {
        "duration": 412,
        "start_time": "2023-07-17T14:24:30.226Z"
      },
      {
        "duration": 8,
        "start_time": "2023-07-17T14:24:45.900Z"
      },
      {
        "duration": 129,
        "start_time": "2023-07-17T14:26:48.917Z"
      },
      {
        "duration": 64,
        "start_time": "2023-07-17T14:27:55.917Z"
      },
      {
        "duration": 492,
        "start_time": "2023-07-17T14:37:12.593Z"
      },
      {
        "duration": 78,
        "start_time": "2023-07-17T14:37:28.657Z"
      },
      {
        "duration": 462,
        "start_time": "2023-07-17T14:37:35.976Z"
      },
      {
        "duration": 3,
        "start_time": "2023-07-17T14:38:04.149Z"
      },
      {
        "duration": 6,
        "start_time": "2023-07-17T14:38:33.565Z"
      },
      {
        "duration": 438,
        "start_time": "2023-07-17T14:39:57.157Z"
      },
      {
        "duration": 485,
        "start_time": "2023-07-17T14:40:11.477Z"
      },
      {
        "duration": 320,
        "start_time": "2023-07-17T14:41:54.168Z"
      },
      {
        "duration": 4489,
        "start_time": "2023-07-18T06:02:58.147Z"
      },
      {
        "duration": 2415,
        "start_time": "2023-07-18T06:03:11.961Z"
      },
      {
        "duration": 2352,
        "start_time": "2023-07-18T06:03:14.378Z"
      },
      {
        "duration": 13,
        "start_time": "2023-07-18T06:03:16.731Z"
      },
      {
        "duration": 32,
        "start_time": "2023-07-18T06:03:16.746Z"
      },
      {
        "duration": 3194,
        "start_time": "2023-07-18T06:03:16.781Z"
      },
      {
        "duration": 349,
        "start_time": "2023-07-18T06:03:19.977Z"
      },
      {
        "duration": 0,
        "start_time": "2023-07-18T06:03:20.328Z"
      },
      {
        "duration": 0,
        "start_time": "2023-07-18T06:03:20.329Z"
      },
      {
        "duration": 0,
        "start_time": "2023-07-18T06:03:20.331Z"
      },
      {
        "duration": 0,
        "start_time": "2023-07-18T06:03:20.333Z"
      },
      {
        "duration": 0,
        "start_time": "2023-07-18T06:03:20.335Z"
      },
      {
        "duration": 0,
        "start_time": "2023-07-18T06:03:20.337Z"
      },
      {
        "duration": 0,
        "start_time": "2023-07-18T06:03:20.339Z"
      },
      {
        "duration": 0,
        "start_time": "2023-07-18T06:03:20.340Z"
      },
      {
        "duration": 5,
        "start_time": "2023-07-18T06:03:49.592Z"
      },
      {
        "duration": 795,
        "start_time": "2023-07-18T06:04:11.395Z"
      },
      {
        "duration": 19,
        "start_time": "2023-07-18T06:04:42.501Z"
      },
      {
        "duration": 3,
        "start_time": "2023-07-18T06:04:54.711Z"
      },
      {
        "duration": 17,
        "start_time": "2023-07-18T06:05:04.227Z"
      },
      {
        "duration": 4,
        "start_time": "2023-07-18T06:08:04.946Z"
      },
      {
        "duration": 3,
        "start_time": "2023-07-18T06:08:12.320Z"
      },
      {
        "duration": 7,
        "start_time": "2023-07-18T06:08:14.080Z"
      },
      {
        "duration": 11,
        "start_time": "2023-07-18T06:08:31.614Z"
      },
      {
        "duration": 423,
        "start_time": "2023-07-18T06:18:09.940Z"
      },
      {
        "duration": 861,
        "start_time": "2023-07-18T06:18:18.465Z"
      },
      {
        "duration": 7,
        "start_time": "2023-07-18T06:18:19.949Z"
      },
      {
        "duration": 31,
        "start_time": "2023-07-18T06:18:22.624Z"
      },
      {
        "duration": 3,
        "start_time": "2023-07-18T06:18:46.734Z"
      },
      {
        "duration": 3,
        "start_time": "2023-07-18T06:19:43.293Z"
      },
      {
        "duration": 4,
        "start_time": "2023-07-18T06:20:25.401Z"
      },
      {
        "duration": 22,
        "start_time": "2023-07-18T06:22:57.236Z"
      },
      {
        "duration": 28,
        "start_time": "2023-07-18T06:23:29.632Z"
      },
      {
        "duration": 14,
        "start_time": "2023-07-18T06:24:32.030Z"
      },
      {
        "duration": 1241520,
        "start_time": "2023-07-18T06:24:36.165Z"
      },
      {
        "duration": 0,
        "start_time": "2023-07-18T06:45:17.689Z"
      },
      {
        "duration": 0,
        "start_time": "2023-07-18T06:45:17.693Z"
      },
      {
        "duration": 1278946,
        "start_time": "2023-07-18T06:54:29.170Z"
      },
      {
        "duration": 175,
        "start_time": "2023-07-18T07:15:48.118Z"
      },
      {
        "duration": 180,
        "start_time": "2023-07-18T07:16:12.292Z"
      },
      {
        "duration": 88,
        "start_time": "2023-07-18T07:23:03.158Z"
      },
      {
        "duration": 230,
        "start_time": "2023-07-18T07:23:12.473Z"
      },
      {
        "duration": 487,
        "start_time": "2023-07-18T07:23:15.770Z"
      },
      {
        "duration": 8072,
        "start_time": "2023-07-18T07:25:32.769Z"
      },
      {
        "duration": 125689,
        "start_time": "2023-07-18T07:27:32.567Z"
      },
      {
        "duration": 92694,
        "start_time": "2023-07-18T07:29:45.334Z"
      },
      {
        "duration": 31,
        "start_time": "2023-07-18T07:31:23.141Z"
      },
      {
        "duration": 3697,
        "start_time": "2023-07-18T08:46:34.714Z"
      },
      {
        "duration": 3515,
        "start_time": "2023-07-18T08:46:38.415Z"
      },
      {
        "duration": 8,
        "start_time": "2023-07-18T08:46:41.932Z"
      },
      {
        "duration": 17,
        "start_time": "2023-07-18T08:46:41.942Z"
      },
      {
        "duration": 9,
        "start_time": "2023-07-18T08:46:41.961Z"
      },
      {
        "duration": 8,
        "start_time": "2023-07-18T08:46:41.972Z"
      },
      {
        "duration": 5,
        "start_time": "2023-07-18T08:46:41.981Z"
      },
      {
        "duration": 1606,
        "start_time": "2023-07-18T08:46:41.988Z"
      },
      {
        "duration": 0,
        "start_time": "2023-07-18T08:46:43.596Z"
      },
      {
        "duration": 3133,
        "start_time": "2023-07-18T08:47:53.240Z"
      },
      {
        "duration": 729,
        "start_time": "2023-07-18T08:47:56.374Z"
      },
      {
        "duration": 12,
        "start_time": "2023-07-18T08:47:57.104Z"
      },
      {
        "duration": 29,
        "start_time": "2023-07-18T08:47:57.118Z"
      },
      {
        "duration": 33,
        "start_time": "2023-07-18T08:47:57.149Z"
      },
      {
        "duration": 35,
        "start_time": "2023-07-18T08:47:57.184Z"
      },
      {
        "duration": 40,
        "start_time": "2023-07-18T08:47:57.221Z"
      },
      {
        "duration": 1398,
        "start_time": "2023-07-18T08:47:57.263Z"
      },
      {
        "duration": 10,
        "start_time": "2023-07-18T08:47:58.663Z"
      }
    ],
    "kernelspec": {
      "display_name": "Python 3 (ipykernel)",
      "language": "python",
      "name": "python3"
    },
    "language_info": {
      "codemirror_mode": {
        "name": "ipython",
        "version": 3
      },
      "file_extension": ".py",
      "mimetype": "text/x-python",
      "name": "python",
      "nbconvert_exporter": "python",
      "pygments_lexer": "ipython3",
      "version": "3.9.5"
    },
    "toc": {
      "base_numbering": 1,
      "nav_menu": {},
      "number_sections": true,
      "sideBar": true,
      "skip_h1_title": true,
      "title_cell": "Содержание",
      "title_sidebar": "Contents",
      "toc_cell": true,
      "toc_position": {
        "height": "calc(100% - 180px)",
        "left": "10px",
        "top": "150px",
        "width": "302.391px"
      },
      "toc_section_display": true,
      "toc_window_display": false
    },
    "colab": {
      "provenance": []
    }
  },
  "nbformat": 4,
  "nbformat_minor": 0
}