{
 "cells": [
  {
   "cell_type": "markdown",
   "id": "b8bff3b6",
   "metadata": {},
   "source": [
    "**Привет, Андрей!** 👋\n",
    "\n",
    "Меня зовут Артем Пиляй. Я буду проверять твой проект. В рамках корпоративной этики мы общаемся на «ты». Но если лучше на «Вы», то нужно обозначить это сразу.\n",
    " \n",
    "В тетрадке есть комментарии к проекту, они будут в отдельных ячейках Markdown.\n",
    " \n",
    "<div class=\"alert alert-danger\">\n",
    "\n",
    "**Артём:** ✋ Такой комментарий **нужно исправить** обязательно, он критически влияет на удачное выполнение проекта.\n",
    "\n",
    "</div>\n",
    "\n",
    "<div class=\"alert alert-warning\">\n",
    "\n",
    "**Артём:** 👉 Если таких комментариев в проекте **не больше трех**, то проект будет принят. Но есть два исключения, при которых я приму проект с любым количеством желтых комментариев, красные нужно исправить все:\n",
    "    \n",
    "* если у тебя дедлайн, тогда оставь в начале 👆 проекта комментарий «Дедлайн, специальность (DA/DS/DA+/DS+), и номер когорты»;\n",
    "* если ты считаешь, что для успешного трудоустройства и для успешной работы в команде тебе это не нужно, тогда оставь в начале проекта комментарий «Не нужно».\n",
    "</div>\n",
    "\n",
    "<div class=\"alert alert-success\">\n",
    "\n",
    "**Артём:** 👍 А это **самый главный комментарий**, значит все сделано хорошо. 😉\n",
    "\n",
    "</div>\n",
    "\n",
    "<div class=\"alert alert-info\">\n",
    "\n",
    "**Артём:** ✍️ В таких комментариях я оставляю подсказки как сделать **твой проект ещё лучше**.\n",
    "\n",
    "</div>\n",
    "\n",
    "---\n",
    "\n",
    "**Распространенные ошибки**\n",
    "\n",
    "<div class=\"alert alert-danger\">\n",
    "\n",
    "**Артём:** ✋ Не перемещай и не удаляй мои комментарии. Лучше, чтобы твои ответы на мои комментарии шли по очереди, как сообщения в мессенджере. Это ускорит проверку.\n",
    "    \n",
    "</div>\n",
    "\n",
    "<div class=\"alert alert-danger\">\n",
    "\n",
    "**Артём:** ✋ Проверь проект на работоспособность перед отправкой на проверку. Это важный навык, который тебе пригодится как на собеседовании, при выполнении тестового задания, так и перед совещанием у руководства компании. Помни, ревьеры не вносят изменения в код, даже если это путь к датасету или ячейка в неверном формате (code/mardown).  \n",
    "    \n",
    "</div>\n",
    "\n",
    "<div class=\"alert alert-info\">\n",
    "\n",
    "**Артём:** ✍️ Кстати, смотри как можно сделать, чтобы датасет грузился и локально, и в JupyterHub:\n",
    "\n",
    "```py\n",
    "try:\n",
    "    df = pd.read_csv('C:/Users/Student/Desktop/dataset.csv')\n",
    "except:\n",
    "    df = pd.read_csv('/datasets/dataset.csv')\n",
    "```\n",
    "    \n",
    "Используя эту конструкцию в будущих проектах, ты будешь спокойно отправлять проект на проверку зная, что он будет работать.\n",
    "    \n",
    "</div>\n",
    "\n",
    "<div class=\"alert alert-danger\">\n",
    "\n",
    "**Артём:** ✋ Проект должен быть структурирован. Где названия разделов и подразделов будут записаны в ячейках Markdown.\n",
    "    \n",
    "</div>\n",
    "\n",
    "<div class=\"alert alert-danger\">\n",
    "\n",
    "**Артём:** ✋ Если с твоим проектом будет знакомиться другой человек, например рекрутер или старший дата специалист, в нем должны быть описаны поставленные задачи, содержание датасета, промежуточные и финальные выводы. Как правило, заказчик читает только финальный вывод, поэтому важно добавить информацию о проведенном исследовании, применить форматирование текста, в общем, сделать красиво, чтобы было понятно, что проведено настоящее исследование и выводу можно верить. \n",
    "\n",
    "</div>  \n",
    "\n",
    "<div class=\"alert alert-warning\">\n",
    "    \n",
    "**Артём:** 👉 Длинный код и комментарии нужно переносить на новую строку. Согласись, коллеги не оценят, если им придется тратить время на пролистывание ячеек. Согласно международному стандарту [PEP8](https://www.python.org/dev/peps/pep-0008/) длина строки не должна превышать 79 символов.\n",
    "Вот как можно перенести код на новую строку:\n",
    "\n",
    "```py\n",
    "# Переносить можно код внутри скобки\n",
    "example = (2 *\n",
    "           2)\n",
    "```\n",
    "Конечно, я не считаю сколько символов в строке, главное, чтобы код или комментарий не ушел за пределы ячейки (зависит от разрешения экрана). Если ушел, то это желтый комментарий для каждой нечитаемой ячейки.\n",
    "    \n",
    "</div>\n",
    "\n",
    "<div class=\"alert alert-warning\">\n",
    "    \n",
    "**Артём:** 👉 Тимлид, старший дата специалист или ревьюер ценят твое и своё время, подсвечивай свои комментарии в ячейках Markdown. Шаблон я тебе оставил ниже. Подробнее про синтаксис Markdown, с примерами, можно почитать [здесь](https://paulradzkov.com/2014/markdown_cheatsheet/?).\n",
    "    \n",
    "</div>\n",
    "\n",
    "<div class=\"alert alert-success\">\n",
    "\n",
    "**Артём:** 👍 Буду рад, если воспользуешься моими советами. Они тебе помогут при трудоустройстве и при работе в команде. Если в ходе проведения исследования возникнут вопросы, не стесняйся задавай. 🙂\n",
    "</div>\n",
    "\n",
    "<div class=\"alert alert-info\">\n",
    "\n",
    "**Артём:** 🏁 [Итоги ревью здесь](#results)\n",
    "</div>\n",
    "\n",
    "\n",
    "**Поехали!** 🚀 👨‍🚀\n",
    "<a id=\"start\"></a>"
   ]
  },
  {
   "cell_type": "markdown",
   "id": "cd561248",
   "metadata": {},
   "source": [
    "<div style=\"background-color:black; color:#ffffff; text-align:center; padding:2%\">\n",
    "    \n",
    "**Имя:** Это шаблон для тебя. Такой комментарий можно быстро найти."
   ]
  },
  {
   "cell_type": "markdown",
   "id": "70ae744c",
   "metadata": {
    "deletable": false,
    "editable": false,
    "id": "c81daeeb"
   },
   "source": [
    "# Исследование надежности заемщиков\n"
   ]
  },
  {
   "cell_type": "markdown",
   "id": "21852c4e",
   "metadata": {
    "deletable": false,
    "editable": false,
    "id": "827c20bf"
   },
   "source": [
    "Во второй части проекта вы выполните шаги 3 и 4. Их вручную проверит ревьюер.\n",
    "Чтобы вам не пришлось писать код заново для шагов 1 и 2, мы добавили авторские решения в ячейки с кодом. \n",
    "\n"
   ]
  },
  {
   "cell_type": "markdown",
   "id": "0b8caf8f",
   "metadata": {
    "deletable": false,
    "editable": false,
    "id": "744d7639"
   },
   "source": [
    "## Откройте таблицу и изучите общую информацию о данных"
   ]
  },
  {
   "cell_type": "markdown",
   "id": "16a485e5",
   "metadata": {
    "deletable": false,
    "editable": false,
    "id": "e7a14c31"
   },
   "source": [
    "**Задание 1. Импортируйте библиотеку pandas. Считайте данные из csv-файла в датафрейм и сохраните в переменную `data`. Путь к файлу:**\n",
    "\n",
    "`/datasets/data.csv`"
   ]
  },
  {
   "cell_type": "code",
   "execution_count": 1,
   "id": "725634b8",
   "metadata": {
    "deletable": false,
    "id": "7bcf75c9"
   },
   "outputs": [],
   "source": [
    "import pandas as pd\n",
    "\n",
    "try:\n",
    "    data = pd.read_csv('/datasets/data.csv')\n",
    "except:\n",
    "    data = pd.read_csv('https://code.s3.yandex.net/datasets/data.csv')"
   ]
  },
  {
   "cell_type": "markdown",
   "id": "22c77610",
   "metadata": {
    "deletable": false,
    "editable": false,
    "id": "b8038fe3"
   },
   "source": [
    "**Задание 2. Выведите первые 20 строчек датафрейма `data` на экран.**"
   ]
  },
  {
   "cell_type": "code",
   "execution_count": 2,
   "id": "49f5f236",
   "metadata": {
    "deletable": false,
    "id": "2a7cab99",
    "outputId": "1a8f3ef2-d323-4ec2-ddf7-89670b5944c4"
   },
   "outputs": [
    {
     "data": {
      "text/html": [
       "<div>\n",
       "<style scoped>\n",
       "    .dataframe tbody tr th:only-of-type {\n",
       "        vertical-align: middle;\n",
       "    }\n",
       "\n",
       "    .dataframe tbody tr th {\n",
       "        vertical-align: top;\n",
       "    }\n",
       "\n",
       "    .dataframe thead th {\n",
       "        text-align: right;\n",
       "    }\n",
       "</style>\n",
       "<table border=\"1\" class=\"dataframe\">\n",
       "  <thead>\n",
       "    <tr style=\"text-align: right;\">\n",
       "      <th></th>\n",
       "      <th>children</th>\n",
       "      <th>days_employed</th>\n",
       "      <th>dob_years</th>\n",
       "      <th>education</th>\n",
       "      <th>education_id</th>\n",
       "      <th>family_status</th>\n",
       "      <th>family_status_id</th>\n",
       "      <th>gender</th>\n",
       "      <th>income_type</th>\n",
       "      <th>debt</th>\n",
       "      <th>total_income</th>\n",
       "      <th>purpose</th>\n",
       "    </tr>\n",
       "  </thead>\n",
       "  <tbody>\n",
       "    <tr>\n",
       "      <th>0</th>\n",
       "      <td>1</td>\n",
       "      <td>-8437.673028</td>\n",
       "      <td>42</td>\n",
       "      <td>высшее</td>\n",
       "      <td>0</td>\n",
       "      <td>женат / замужем</td>\n",
       "      <td>0</td>\n",
       "      <td>F</td>\n",
       "      <td>сотрудник</td>\n",
       "      <td>0</td>\n",
       "      <td>253875.639453</td>\n",
       "      <td>покупка жилья</td>\n",
       "    </tr>\n",
       "    <tr>\n",
       "      <th>1</th>\n",
       "      <td>1</td>\n",
       "      <td>-4024.803754</td>\n",
       "      <td>36</td>\n",
       "      <td>среднее</td>\n",
       "      <td>1</td>\n",
       "      <td>женат / замужем</td>\n",
       "      <td>0</td>\n",
       "      <td>F</td>\n",
       "      <td>сотрудник</td>\n",
       "      <td>0</td>\n",
       "      <td>112080.014102</td>\n",
       "      <td>приобретение автомобиля</td>\n",
       "    </tr>\n",
       "    <tr>\n",
       "      <th>2</th>\n",
       "      <td>0</td>\n",
       "      <td>-5623.422610</td>\n",
       "      <td>33</td>\n",
       "      <td>Среднее</td>\n",
       "      <td>1</td>\n",
       "      <td>женат / замужем</td>\n",
       "      <td>0</td>\n",
       "      <td>M</td>\n",
       "      <td>сотрудник</td>\n",
       "      <td>0</td>\n",
       "      <td>145885.952297</td>\n",
       "      <td>покупка жилья</td>\n",
       "    </tr>\n",
       "    <tr>\n",
       "      <th>3</th>\n",
       "      <td>3</td>\n",
       "      <td>-4124.747207</td>\n",
       "      <td>32</td>\n",
       "      <td>среднее</td>\n",
       "      <td>1</td>\n",
       "      <td>женат / замужем</td>\n",
       "      <td>0</td>\n",
       "      <td>M</td>\n",
       "      <td>сотрудник</td>\n",
       "      <td>0</td>\n",
       "      <td>267628.550329</td>\n",
       "      <td>дополнительное образование</td>\n",
       "    </tr>\n",
       "    <tr>\n",
       "      <th>4</th>\n",
       "      <td>0</td>\n",
       "      <td>340266.072047</td>\n",
       "      <td>53</td>\n",
       "      <td>среднее</td>\n",
       "      <td>1</td>\n",
       "      <td>гражданский брак</td>\n",
       "      <td>1</td>\n",
       "      <td>F</td>\n",
       "      <td>пенсионер</td>\n",
       "      <td>0</td>\n",
       "      <td>158616.077870</td>\n",
       "      <td>сыграть свадьбу</td>\n",
       "    </tr>\n",
       "  </tbody>\n",
       "</table>\n",
       "</div>"
      ],
      "text/plain": [
       "   children  days_employed  dob_years education  education_id  \\\n",
       "0         1   -8437.673028         42    высшее             0   \n",
       "1         1   -4024.803754         36   среднее             1   \n",
       "2         0   -5623.422610         33   Среднее             1   \n",
       "3         3   -4124.747207         32   среднее             1   \n",
       "4         0  340266.072047         53   среднее             1   \n",
       "\n",
       "      family_status  family_status_id gender income_type  debt   total_income  \\\n",
       "0   женат / замужем                 0      F   сотрудник     0  253875.639453   \n",
       "1   женат / замужем                 0      F   сотрудник     0  112080.014102   \n",
       "2   женат / замужем                 0      M   сотрудник     0  145885.952297   \n",
       "3   женат / замужем                 0      M   сотрудник     0  267628.550329   \n",
       "4  гражданский брак                 1      F   пенсионер     0  158616.077870   \n",
       "\n",
       "                      purpose  \n",
       "0               покупка жилья  \n",
       "1     приобретение автомобиля  \n",
       "2               покупка жилья  \n",
       "3  дополнительное образование  \n",
       "4             сыграть свадьбу  "
      ]
     },
     "execution_count": 2,
     "metadata": {},
     "output_type": "execute_result"
    }
   ],
   "source": [
    "data.head(5)"
   ]
  },
  {
   "cell_type": "markdown",
   "id": "e708a596",
   "metadata": {
    "deletable": false,
    "editable": false,
    "id": "1c12e233"
   },
   "source": [
    "**Задание 3. Выведите основную информацию о датафрейме с помощью метода `info()`.**"
   ]
  },
  {
   "cell_type": "code",
   "execution_count": 3,
   "id": "811adfc0",
   "metadata": {
    "deletable": false,
    "id": "2b757bca",
    "outputId": "15376089-8dad-46c9-b520-c05248d43158"
   },
   "outputs": [
    {
     "name": "stdout",
     "output_type": "stream",
     "text": [
      "<class 'pandas.core.frame.DataFrame'>\n",
      "RangeIndex: 21525 entries, 0 to 21524\n",
      "Data columns (total 12 columns):\n",
      " #   Column            Non-Null Count  Dtype  \n",
      "---  ------            --------------  -----  \n",
      " 0   children          21525 non-null  int64  \n",
      " 1   days_employed     19351 non-null  float64\n",
      " 2   dob_years         21525 non-null  int64  \n",
      " 3   education         21525 non-null  object \n",
      " 4   education_id      21525 non-null  int64  \n",
      " 5   family_status     21525 non-null  object \n",
      " 6   family_status_id  21525 non-null  int64  \n",
      " 7   gender            21525 non-null  object \n",
      " 8   income_type       21525 non-null  object \n",
      " 9   debt              21525 non-null  int64  \n",
      " 10  total_income      19351 non-null  float64\n",
      " 11  purpose           21525 non-null  object \n",
      "dtypes: float64(2), int64(5), object(5)\n",
      "memory usage: 2.0+ MB\n"
     ]
    }
   ],
   "source": [
    "data.info()"
   ]
  },
  {
   "cell_type": "markdown",
   "id": "f382f30c",
   "metadata": {
    "deletable": false,
    "editable": false,
    "id": "333ec665"
   },
   "source": [
    "## Предобработка данных"
   ]
  },
  {
   "cell_type": "markdown",
   "id": "ab698c8c",
   "metadata": {
    "deletable": false,
    "editable": false,
    "id": "02d92d53"
   },
   "source": [
    "### Удаление пропусков"
   ]
  },
  {
   "cell_type": "markdown",
   "id": "814c8e0d",
   "metadata": {
    "deletable": false,
    "editable": false,
    "id": "cd84967c"
   },
   "source": [
    "**Задание 4. Выведите количество пропущенных значений для каждого столбца. Используйте комбинацию двух методов.**"
   ]
  },
  {
   "cell_type": "code",
   "execution_count": 4,
   "id": "282227b8",
   "metadata": {
    "deletable": false,
    "id": "7f9b2309",
    "outputId": "81f4d817-781c-465c-ed15-91ce4446810d"
   },
   "outputs": [
    {
     "data": {
      "text/plain": [
       "children               0\n",
       "days_employed       2174\n",
       "dob_years              0\n",
       "education              0\n",
       "education_id           0\n",
       "family_status          0\n",
       "family_status_id       0\n",
       "gender                 0\n",
       "income_type            0\n",
       "debt                   0\n",
       "total_income        2174\n",
       "purpose                0\n",
       "dtype: int64"
      ]
     },
     "execution_count": 4,
     "metadata": {},
     "output_type": "execute_result"
    }
   ],
   "source": [
    "data.isna().sum()"
   ]
  },
  {
   "cell_type": "markdown",
   "id": "697d3501",
   "metadata": {
    "deletable": false,
    "editable": false,
    "id": "db86e27b"
   },
   "source": [
    "**Задание 5. В двух столбцах есть пропущенные значения. Один из них — `days_employed`. Пропуски в этом столбце вы обработаете на следующем этапе. Другой столбец с пропущенными значениями — `total_income` — хранит данные о доходах. На сумму дохода сильнее всего влияет тип занятости, поэтому заполнить пропуски в этом столбце нужно медианным значением по каждому типу из столбца `income_type`. Например, у человека с типом занятости `сотрудник` пропуск в столбце `total_income` должен быть заполнен медианным доходом среди всех записей с тем же типом.**"
   ]
  },
  {
   "cell_type": "code",
   "execution_count": 5,
   "id": "213184e6",
   "metadata": {
    "deletable": false,
    "id": "42006a93"
   },
   "outputs": [],
   "source": [
    "for t in data['income_type'].unique():\n",
    "    data.loc[(data['income_type'] == t) & (data['total_income'].isna()), 'total_income'] = \\\n",
    "    data.loc[(data['income_type'] == t), 'total_income'].median()"
   ]
  },
  {
   "cell_type": "markdown",
   "id": "da4758ab",
   "metadata": {
    "deletable": false,
    "editable": false,
    "id": "89da5ece"
   },
   "source": [
    "### Обработка аномальных значений"
   ]
  },
  {
   "cell_type": "markdown",
   "id": "c13e0345",
   "metadata": {
    "deletable": false,
    "editable": false,
    "id": "57964554"
   },
   "source": [
    "**Задание 6. В данных могут встречаться артефакты (аномалии) — значения, которые не отражают действительность и появились по какой-то ошибке. таким артефактом будет отрицательное количество дней трудового стажа в столбце `days_employed`. Для реальных данных это нормально. Обработайте значения в этом столбце: замените все отрицательные значения положительными с помощью метода `abs()`.**"
   ]
  },
  {
   "cell_type": "code",
   "execution_count": 6,
   "id": "c4ef7a37",
   "metadata": {
    "deletable": false,
    "id": "f6f055bf"
   },
   "outputs": [],
   "source": [
    "data['days_employed'] = data['days_employed'].abs()"
   ]
  },
  {
   "cell_type": "markdown",
   "id": "10f4dba6",
   "metadata": {
    "deletable": false,
    "editable": false,
    "id": "6107dd2f"
   },
   "source": [
    "**Задание 7. Для каждого типа занятости выведите медианное значение трудового стажа `days_employed` в днях.**"
   ]
  },
  {
   "cell_type": "code",
   "execution_count": 7,
   "id": "9a5ed5a2",
   "metadata": {
    "deletable": false,
    "id": "85a5faf6",
    "outputId": "801ef80e-522b-4668-f34e-565af7432bcf"
   },
   "outputs": [
    {
     "data": {
      "text/plain": [
       "income_type\n",
       "безработный        366413.652744\n",
       "в декрете            3296.759962\n",
       "госслужащий          2689.368353\n",
       "компаньон            1547.382223\n",
       "пенсионер          365213.306266\n",
       "предприниматель       520.848083\n",
       "сотрудник            1574.202821\n",
       "студент               578.751554\n",
       "Name: days_employed, dtype: float64"
      ]
     },
     "execution_count": 7,
     "metadata": {},
     "output_type": "execute_result"
    }
   ],
   "source": [
    "data.groupby('income_type')['days_employed'].agg('median')"
   ]
  },
  {
   "cell_type": "markdown",
   "id": "201dd761",
   "metadata": {
    "deletable": false,
    "editable": false,
    "id": "38d1a030"
   },
   "source": [
    "У двух типов (безработные и пенсионеры) получатся аномально большие значения. Исправить такие значения сложно, поэтому оставьте их как есть. Тем более этот столбец не понадобится вам для исследования."
   ]
  },
  {
   "cell_type": "markdown",
   "id": "34600a2b",
   "metadata": {
    "deletable": false,
    "editable": false,
    "id": "d8a9f147"
   },
   "source": [
    "**Задание 8. Выведите перечень уникальных значений столбца `children`.**"
   ]
  },
  {
   "cell_type": "code",
   "execution_count": 8,
   "id": "74fdb818",
   "metadata": {
    "deletable": false,
    "id": "ef5056eb",
    "outputId": "6975b15c-7f95-4697-d16d-a0c79b657b03"
   },
   "outputs": [
    {
     "data": {
      "text/plain": [
       "array([ 1,  0,  3,  2, -1,  4, 20,  5])"
      ]
     },
     "execution_count": 8,
     "metadata": {},
     "output_type": "execute_result"
    }
   ],
   "source": [
    "data['children'].unique()"
   ]
  },
  {
   "cell_type": "markdown",
   "id": "20ccc6e8",
   "metadata": {
    "deletable": false,
    "editable": false,
    "id": "40b9ebf2"
   },
   "source": [
    "**Задание 9. В столбце `children` есть два аномальных значения. Удалите строки, в которых встречаются такие аномальные значения из датафрейма `data`.**"
   ]
  },
  {
   "cell_type": "code",
   "execution_count": 9,
   "id": "3b400fc1",
   "metadata": {
    "deletable": false,
    "id": "3ff9801d"
   },
   "outputs": [],
   "source": [
    "data = data[(data['children'] != -1) & (data['children'] != 20)]"
   ]
  },
  {
   "cell_type": "markdown",
   "id": "f18426e4",
   "metadata": {
    "deletable": false,
    "editable": false,
    "id": "bbc4d0ce"
   },
   "source": [
    "**Задание 10. Ещё раз выведите перечень уникальных значений столбца `children`, чтобы убедиться, что артефакты удалены.**"
   ]
  },
  {
   "cell_type": "code",
   "execution_count": 10,
   "id": "47671581",
   "metadata": {
    "deletable": false,
    "id": "ad4fa8b7",
    "outputId": "b2097101-d49d-44d9-901b-32a65c9463d1"
   },
   "outputs": [
    {
     "data": {
      "text/plain": [
       "array([1, 0, 3, 2, 4, 5])"
      ]
     },
     "execution_count": 10,
     "metadata": {},
     "output_type": "execute_result"
    }
   ],
   "source": [
    "data['children'].unique()"
   ]
  },
  {
   "cell_type": "markdown",
   "id": "ba3c884b",
   "metadata": {
    "deletable": false,
    "editable": false,
    "id": "75440b63"
   },
   "source": [
    "### Удаление пропусков (продолжение)"
   ]
  },
  {
   "cell_type": "markdown",
   "id": "af885c45",
   "metadata": {
    "deletable": false,
    "editable": false,
    "id": "f4ea573f"
   },
   "source": [
    "**Задание 11. Заполните пропуски в столбце `days_employed` медианными значениями по каждого типа занятости `income_type`.**"
   ]
  },
  {
   "cell_type": "code",
   "execution_count": 11,
   "id": "70c60756",
   "metadata": {
    "deletable": false,
    "id": "af6b1a7e"
   },
   "outputs": [],
   "source": [
    "for t in data['income_type'].unique():\n",
    "    data.loc[(data['income_type'] == t) & (data['days_employed'].isna()), 'days_employed'] = \\\n",
    "    data.loc[(data['income_type'] == t), 'days_employed'].median()"
   ]
  },
  {
   "cell_type": "markdown",
   "id": "96d49c67",
   "metadata": {
    "deletable": false,
    "editable": false,
    "id": "2753f40d"
   },
   "source": [
    "**Задание 12. Убедитесь, что все пропуски заполнены. Проверьте себя и ещё раз выведите количество пропущенных значений для каждого столбца с помощью двух методов.**"
   ]
  },
  {
   "cell_type": "code",
   "execution_count": 12,
   "id": "51382617",
   "metadata": {
    "deletable": false,
    "id": "55f78bc2",
    "outputId": "8da1e4e1-358e-4e87-98c9-f261bce0a7b2"
   },
   "outputs": [
    {
     "data": {
      "text/plain": [
       "children            0\n",
       "days_employed       0\n",
       "dob_years           0\n",
       "education           0\n",
       "education_id        0\n",
       "family_status       0\n",
       "family_status_id    0\n",
       "gender              0\n",
       "income_type         0\n",
       "debt                0\n",
       "total_income        0\n",
       "purpose             0\n",
       "dtype: int64"
      ]
     },
     "execution_count": 12,
     "metadata": {},
     "output_type": "execute_result"
    }
   ],
   "source": [
    "data.isna().sum()"
   ]
  },
  {
   "cell_type": "markdown",
   "id": "40018475",
   "metadata": {
    "deletable": false,
    "editable": false,
    "id": "ddc81e43"
   },
   "source": [
    "### Изменение типов данных"
   ]
  },
  {
   "cell_type": "markdown",
   "id": "38e014b9",
   "metadata": {
    "deletable": false,
    "editable": false,
    "id": "42d19d24"
   },
   "source": [
    "**Задание 13. Замените вещественный тип данных в столбце `total_income` на целочисленный с помощью метода `astype()`.**"
   ]
  },
  {
   "cell_type": "code",
   "execution_count": 13,
   "id": "a53b1354",
   "metadata": {
    "deletable": false,
    "id": "920b65ad"
   },
   "outputs": [],
   "source": [
    "data['total_income'] = data['total_income'].astype(int)"
   ]
  },
  {
   "cell_type": "markdown",
   "id": "b971524d",
   "metadata": {
    "deletable": false,
    "editable": false,
    "id": "80c420ba"
   },
   "source": [
    "### Обработка дубликатов"
   ]
  },
  {
   "cell_type": "markdown",
   "id": "2bd6e8de",
   "metadata": {
    "deletable": false,
    "editable": false
   },
   "source": [
    "**Задание 14. Обработайте неявные дубликаты в столбце `education`. В этом столбце есть одни и те же значения, но записанные по-разному: с использованием заглавных и строчных букв. Приведите их к нижнему регистру. Проверьте остальные столбцы.**"
   ]
  },
  {
   "cell_type": "code",
   "execution_count": 14,
   "id": "63a69933",
   "metadata": {
    "deletable": false
   },
   "outputs": [],
   "source": [
    "data['education'] = data['education'].str.lower()"
   ]
  },
  {
   "cell_type": "markdown",
   "id": "b09548e9",
   "metadata": {
    "deletable": false,
    "editable": false,
    "id": "dc587695"
   },
   "source": [
    "**Задание 15. Выведите на экран количество строк-дубликатов в данных. Если такие строки присутствуют, удалите их.**"
   ]
  },
  {
   "cell_type": "code",
   "execution_count": 15,
   "id": "fae60ec1",
   "metadata": {
    "deletable": false,
    "id": "3ee445e4",
    "outputId": "9684deba-1934-42d1-99e1-cda61740f822"
   },
   "outputs": [
    {
     "data": {
      "text/plain": [
       "71"
      ]
     },
     "execution_count": 15,
     "metadata": {},
     "output_type": "execute_result"
    }
   ],
   "source": [
    "data.duplicated().sum()"
   ]
  },
  {
   "cell_type": "code",
   "execution_count": 16,
   "id": "ed1b2b0f",
   "metadata": {
    "deletable": false,
    "id": "8575fe05"
   },
   "outputs": [],
   "source": [
    "data = data.drop_duplicates()"
   ]
  },
  {
   "cell_type": "markdown",
   "id": "f4b09ade",
   "metadata": {
    "deletable": false,
    "editable": false,
    "id": "9904cf55"
   },
   "source": [
    "### Категоризация данных"
   ]
  },
  {
   "cell_type": "markdown",
   "id": "d0740e9e",
   "metadata": {
    "deletable": false,
    "editable": false,
    "id": "72fcc8a2"
   },
   "source": [
    "**Задание 16. На основании диапазонов, указанных ниже, создайте в датафрейме `data` столбец `total_income_category` с категориями:**\n",
    "\n",
    "- 0–30000 — `'E'`;\n",
    "- 30001–50000 — `'D'`;\n",
    "- 50001–200000 — `'C'`;\n",
    "- 200001–1000000 — `'B'`;\n",
    "- 1000001 и выше — `'A'`.\n",
    "\n",
    "\n",
    "**Например, кредитополучателю с доходом 25000 нужно назначить категорию `'E'`, а клиенту, получающему 235000, — `'B'`. Используйте собственную функцию с именем `categorize_income()` и метод `apply()`.**"
   ]
  },
  {
   "cell_type": "code",
   "execution_count": 17,
   "id": "ae295365",
   "metadata": {
    "deletable": false,
    "id": "e1771346"
   },
   "outputs": [],
   "source": [
    "def categorize_income(income):\n",
    "    try:\n",
    "        if 0 <= income <= 30000:\n",
    "            return 'E'\n",
    "        elif 30001 <= income <= 50000:\n",
    "            return 'D'\n",
    "        elif 50001 <= income <= 200000:\n",
    "            return 'C'\n",
    "        elif 200001 <= income <= 1000000:\n",
    "            return 'B'\n",
    "        elif income >= 1000001:\n",
    "            return 'A'\n",
    "    except:\n",
    "        pass"
   ]
  },
  {
   "cell_type": "code",
   "execution_count": 18,
   "id": "ff918a05",
   "metadata": {
    "deletable": false,
    "id": "d5f3586d"
   },
   "outputs": [],
   "source": [
    "data['total_income_category'] = data['total_income'].apply(categorize_income)"
   ]
  },
  {
   "cell_type": "markdown",
   "id": "3de79048",
   "metadata": {
    "deletable": false,
    "editable": false,
    "id": "dde49b5c"
   },
   "source": [
    "**Задание 17. Выведите на экран перечень уникальных целей взятия кредита из столбца `purpose`.**"
   ]
  },
  {
   "cell_type": "code",
   "execution_count": 19,
   "id": "1d94882f",
   "metadata": {
    "deletable": false,
    "id": "f67ce9b3",
    "outputId": "673c12d9-7d7e-4ae0-9812-c622c89dd244"
   },
   "outputs": [
    {
     "data": {
      "text/plain": [
       "array(['покупка жилья', 'приобретение автомобиля',\n",
       "       'дополнительное образование', 'сыграть свадьбу',\n",
       "       'операции с жильем', 'образование', 'на проведение свадьбы',\n",
       "       'покупка жилья для семьи', 'покупка недвижимости',\n",
       "       'покупка коммерческой недвижимости', 'покупка жилой недвижимости',\n",
       "       'строительство собственной недвижимости', 'недвижимость',\n",
       "       'строительство недвижимости', 'на покупку подержанного автомобиля',\n",
       "       'на покупку своего автомобиля',\n",
       "       'операции с коммерческой недвижимостью',\n",
       "       'строительство жилой недвижимости', 'жилье',\n",
       "       'операции со своей недвижимостью', 'автомобили',\n",
       "       'заняться образованием', 'сделка с подержанным автомобилем',\n",
       "       'получение образования', 'автомобиль', 'свадьба',\n",
       "       'получение дополнительного образования', 'покупка своего жилья',\n",
       "       'операции с недвижимостью', 'получение высшего образования',\n",
       "       'свой автомобиль', 'сделка с автомобилем',\n",
       "       'профильное образование', 'высшее образование',\n",
       "       'покупка жилья для сдачи', 'на покупку автомобиля', 'ремонт жилью',\n",
       "       'заняться высшим образованием'], dtype=object)"
      ]
     },
     "execution_count": 19,
     "metadata": {},
     "output_type": "execute_result"
    }
   ],
   "source": [
    "data['purpose'].unique()"
   ]
  },
  {
   "cell_type": "markdown",
   "id": "2322d944",
   "metadata": {
    "deletable": false,
    "editable": false,
    "id": "85d0aef0"
   },
   "source": [
    "**Задание 18. Создайте функцию, которая на основании данных из столбца `purpose` сформирует новый столбец `purpose_category`, в который войдут следующие категории:**\n",
    "\n",
    "- `'операции с автомобилем'`,\n",
    "- `'операции с недвижимостью'`,\n",
    "- `'проведение свадьбы'`,\n",
    "- `'получение образования'`.\n",
    "\n",
    "**Например, если в столбце `purpose` находится подстрока `'на покупку автомобиля'`, то в столбце `purpose_category` должна появиться строка `'операции с автомобилем'`.**\n",
    "\n",
    "**Используйте собственную функцию с именем `categorize_purpose()` и метод `apply()`. Изучите данные в столбце `purpose` и определите, какие подстроки помогут вам правильно определить категорию.**"
   ]
  },
  {
   "cell_type": "code",
   "execution_count": 20,
   "id": "3663ae7f",
   "metadata": {
    "deletable": false,
    "id": "e149fab4"
   },
   "outputs": [],
   "source": [
    "def categorize_purpose(row):\n",
    "    try:\n",
    "        if 'автом' in row:\n",
    "            return 'операции с автомобилем'\n",
    "        elif 'жил' in row or 'недвиж' in row:\n",
    "            return 'операции с недвижимостью'\n",
    "        elif 'свад' in row:\n",
    "            return 'проведение свадьбы'\n",
    "        elif 'образов' in row:\n",
    "            return 'получение образования'\n",
    "    except:\n",
    "        return 'нет категории'"
   ]
  },
  {
   "cell_type": "code",
   "execution_count": 21,
   "id": "d513eb11",
   "metadata": {
    "deletable": false,
    "id": "bf36e69b"
   },
   "outputs": [],
   "source": [
    "data['purpose_category'] = data['purpose'].apply(categorize_purpose)"
   ]
  },
  {
   "cell_type": "markdown",
   "id": "9b7920e0",
   "metadata": {
    "deletable": false,
    "editable": false,
    "id": "09b242bf"
   },
   "source": [
    "### Шаг 3. Исследуйте данные и ответьте на вопросы"
   ]
  },
  {
   "cell_type": "markdown",
   "id": "2e059247",
   "metadata": {
    "deletable": false,
    "editable": false,
    "id": "c5d66278"
   },
   "source": [
    "#### 3.1 Есть ли зависимость между количеством детей и возвратом кредита в срок?"
   ]
  },
  {
   "cell_type": "code",
   "execution_count": 22,
   "id": "1bde9549",
   "metadata": {
    "deletable": false,
    "id": "2cacfc4a"
   },
   "outputs": [
    {
     "data": {
      "text/html": [
       "<div>\n",
       "<style scoped>\n",
       "    .dataframe tbody tr th:only-of-type {\n",
       "        vertical-align: middle;\n",
       "    }\n",
       "\n",
       "    .dataframe tbody tr th {\n",
       "        vertical-align: top;\n",
       "    }\n",
       "\n",
       "    .dataframe thead th {\n",
       "        text-align: right;\n",
       "    }\n",
       "</style>\n",
       "<table border=\"1\" class=\"dataframe\">\n",
       "  <thead>\n",
       "    <tr style=\"text-align: right;\">\n",
       "      <th></th>\n",
       "      <th>total</th>\n",
       "      <th>target</th>\n",
       "      <th>share</th>\n",
       "    </tr>\n",
       "    <tr>\n",
       "      <th>children</th>\n",
       "      <th></th>\n",
       "      <th></th>\n",
       "      <th></th>\n",
       "    </tr>\n",
       "  </thead>\n",
       "  <tbody>\n",
       "    <tr>\n",
       "      <th>5</th>\n",
       "      <td>9</td>\n",
       "      <td>0</td>\n",
       "      <td>0.000</td>\n",
       "    </tr>\n",
       "    <tr>\n",
       "      <th>0</th>\n",
       "      <td>14091</td>\n",
       "      <td>1063</td>\n",
       "      <td>0.075</td>\n",
       "    </tr>\n",
       "    <tr>\n",
       "      <th>3</th>\n",
       "      <td>330</td>\n",
       "      <td>27</td>\n",
       "      <td>0.082</td>\n",
       "    </tr>\n",
       "    <tr>\n",
       "      <th>1</th>\n",
       "      <td>4808</td>\n",
       "      <td>444</td>\n",
       "      <td>0.092</td>\n",
       "    </tr>\n",
       "    <tr>\n",
       "      <th>2</th>\n",
       "      <td>2052</td>\n",
       "      <td>194</td>\n",
       "      <td>0.095</td>\n",
       "    </tr>\n",
       "    <tr>\n",
       "      <th>4</th>\n",
       "      <td>41</td>\n",
       "      <td>4</td>\n",
       "      <td>0.098</td>\n",
       "    </tr>\n",
       "  </tbody>\n",
       "</table>\n",
       "</div>"
      ],
      "text/plain": [
       "          total  target  share\n",
       "children                      \n",
       "5             9       0  0.000\n",
       "0         14091    1063  0.075\n",
       "3           330      27  0.082\n",
       "1          4808     444  0.092\n",
       "2          2052     194  0.095\n",
       "4            41       4  0.098"
      ]
     },
     "metadata": {},
     "output_type": "display_data"
    },
    {
     "data": {
      "text/plain": [
       "Text(0, 0.5, 'Количество дней просрочки')"
      ]
     },
     "execution_count": 22,
     "metadata": {},
     "output_type": "execute_result"
    },
    {
     "data": {
      "image/png": "[encoded data removed]",
      "text/plain": [
       "<Figure size 432x288 with 1 Axes>"
      ]
     },
     "metadata": {
      "needs_background": "light"
     },
     "output_type": "display_data"
    }
   ],
   "source": [
    "# Ваш код будет здесь. Вы можете создавать новые ячейки.\n",
    "import seaborn as sns\n",
    "\n",
    "target = data.pivot_table(index = [ 'children'], values = 'debt', aggfunc = {'count','sum'})\n",
    "target = target.rename(columns={'count':'total','sum':'target'})\n",
    "target['share'] = round(target['target']/target['total'], 3)\n",
    "target = target.sort_values(by='share', ascending=True)\n",
    "display(target)\n",
    "\n",
    "boxplot = sns.barplot(x=data['children'], y=data['debt'], color='blue')\n",
    "boxplot.axes.set_title(\"Влияние количества детей на возврат кредита в срок\", fontsize=16)\n",
    "boxplot.set_xlabel(\"Количество детей\", fontsize=14)\n",
    "boxplot.set_ylabel(\"Количество дней просрочки\", fontsize=14)\n",
    "\n"
   ]
  },
  {
   "cell_type": "markdown",
   "id": "881149b3",
   "metadata": {},
   "source": [
    "<div class=\"alert alert-success\">\n",
    "\n",
    "**Артём:** 👍 Здорово, что используешь визуализацию.\n",
    "\n",
    "</div>"
   ]
  },
  {
   "cell_type": "markdown",
   "id": "3985edf8",
   "metadata": {},
   "source": [
    "<div class=\"alert alert-success\">\n",
    "\n",
    "**Артём:** 👍 Молодец, что используешь сводную таблицу. \n",
    "\n",
    "</div>"
   ]
  },
  {
   "cell_type": "markdown",
   "id": "fdbccc73",
   "metadata": {},
   "source": [
    "<div class=\"alert alert-info\">\n",
    "\n",
    "**Артём:** ✍️ Чтобы не выводить `<...>` можно поставить в конце строки `;`.\n",
    "    \n",
    "</div>"
   ]
  },
  {
   "cell_type": "markdown",
   "id": "cf481612",
   "metadata": {},
   "source": [
    "<div class=\"alert alert-danger\">\n",
    "\n",
    "**Артём:** ✋ Cделай подписи на языке заказчика и шкалы одним цветом. Здесь и далее.\n",
    "    \n",
    "</div>"
   ]
  },
  {
   "cell_type": "markdown",
   "id": "cb189137",
   "metadata": {},
   "source": [
    "<div class=\"alert alert-success\">\n",
    "\n",
    "**Артём:** 👍👍 Отлично.\n",
    "\n",
    "</div>"
   ]
  },
  {
   "cell_type": "markdown",
   "id": "ebad1618",
   "metadata": {
    "deletable": false,
    "id": "3a6b99ec"
   },
   "source": [
    "**Вывод:**исходя из данных гистограммы следует, что семьи у которых 3, 5 детей или у которых детей нет, либо не допускают вовсе, либо допускают незначительно просрочку кредита.  Семьи в которых 1, 2 и 4 ребенка допускают просрочку примерно в одинаковом диапазоне и чаще других категорий. \n",
    "Отсюда можно сделать вывод:\n",
    " 1. В семья с 3, 5 детьми или у которых детей нет либо меньше всего обращаются за кредитами, либо являются ответственными плательщиками. \n",
    " 2. В семьях у которых 1, 2 и 4 ребенка являются наименее ответственными плательщиками, возможно, ввиду серьезной финансовой нагрузки на семью.\n",
    " 3. Следовательно, количество детей влият на возврат кредита.   "
   ]
  },
  {
   "cell_type": "markdown",
   "id": "95c733d2",
   "metadata": {},
   "source": [
    "<div class=\"alert alert-danger\">\n",
    "   \n",
    "**Артём:** ✋ Выборки с тремя, четырьмя, и пятью детьми не репрезентативны, слишком мало значений, в сумме менее 2%. Их не стоит учитывать при анализе. А лучше провести категоризацию.\n",
    "\n",
    "</div>"
   ]
  },
  {
   "cell_type": "markdown",
   "id": "82493a9e",
   "metadata": {},
   "source": [
    "<div class=\"alert alert-danger\">\n",
    "   \n",
    "**Артём:** ✋ Зависимость все же есть. Действительно несколько процентных пунктов - это не так много, но учитывая [уровень долговой нагрузки населения России перед банками](https://www.rbc.ru/finances/11/08/2021/6112dc5f9a79473a5acea094?), а это 23’900’000’000’000˙₽, лучше указать в финальном выводе.\n",
    "\n",
    "</div>"
   ]
  },
  {
   "cell_type": "markdown",
   "id": "93aab8b4",
   "metadata": {},
   "source": [
    "<div class=\"alert alert-success\">\n",
    "\n",
    "**Артём:** 👍👍 Принято.\n",
    "\n",
    "</div>"
   ]
  },
  {
   "cell_type": "markdown",
   "id": "6b7f7314",
   "metadata": {
    "deletable": false,
    "editable": false,
    "id": "97be82ca"
   },
   "source": [
    "#### 3.2 Есть ли зависимость между семейным положением и возвратом кредита в срок?"
   ]
  },
  {
   "cell_type": "code",
   "execution_count": 23,
   "id": "86f820aa",
   "metadata": {
    "deletable": false,
    "id": "dc3f7ee8"
   },
   "outputs": [
    {
     "data": {
      "text/html": [
       "<div>\n",
       "<style scoped>\n",
       "    .dataframe tbody tr th:only-of-type {\n",
       "        vertical-align: middle;\n",
       "    }\n",
       "\n",
       "    .dataframe tbody tr th {\n",
       "        vertical-align: top;\n",
       "    }\n",
       "\n",
       "    .dataframe thead th {\n",
       "        text-align: right;\n",
       "    }\n",
       "</style>\n",
       "<table border=\"1\" class=\"dataframe\">\n",
       "  <thead>\n",
       "    <tr style=\"text-align: right;\">\n",
       "      <th></th>\n",
       "      <th>total</th>\n",
       "      <th>target</th>\n",
       "      <th>share</th>\n",
       "    </tr>\n",
       "    <tr>\n",
       "      <th>family_status</th>\n",
       "      <th></th>\n",
       "      <th></th>\n",
       "      <th></th>\n",
       "    </tr>\n",
       "  </thead>\n",
       "  <tbody>\n",
       "    <tr>\n",
       "      <th>вдовец / вдова</th>\n",
       "      <td>951</td>\n",
       "      <td>63</td>\n",
       "      <td>0.066</td>\n",
       "    </tr>\n",
       "    <tr>\n",
       "      <th>в разводе</th>\n",
       "      <td>1189</td>\n",
       "      <td>84</td>\n",
       "      <td>0.071</td>\n",
       "    </tr>\n",
       "    <tr>\n",
       "      <th>женат / замужем</th>\n",
       "      <td>12261</td>\n",
       "      <td>927</td>\n",
       "      <td>0.076</td>\n",
       "    </tr>\n",
       "    <tr>\n",
       "      <th>гражданский брак</th>\n",
       "      <td>4134</td>\n",
       "      <td>385</td>\n",
       "      <td>0.093</td>\n",
       "    </tr>\n",
       "    <tr>\n",
       "      <th>Не женат / не замужем</th>\n",
       "      <td>2796</td>\n",
       "      <td>273</td>\n",
       "      <td>0.098</td>\n",
       "    </tr>\n",
       "  </tbody>\n",
       "</table>\n",
       "</div>"
      ],
      "text/plain": [
       "                       total  target  share\n",
       "family_status                              \n",
       "вдовец / вдова           951      63  0.066\n",
       "в разводе               1189      84  0.071\n",
       "женат / замужем        12261     927  0.076\n",
       "гражданский брак        4134     385  0.093\n",
       "Не женат / не замужем   2796     273  0.098"
      ]
     },
     "metadata": {},
     "output_type": "display_data"
    },
    {
     "data": {
      "text/plain": [
       "[Text(0, 0, 'женат / замужем'),\n",
       " Text(1, 0, 'гражданский брак'),\n",
       " Text(2, 0, 'вдовец / вдова'),\n",
       " Text(3, 0, 'в разводе'),\n",
       " Text(4, 0, 'Не женат / не замужем')]"
      ]
     },
     "execution_count": 23,
     "metadata": {},
     "output_type": "execute_result"
    },
    {
     "data": {
      "image/png": "[encoded data removed]",
      "text/plain": [
       "<Figure size 432x288 with 1 Axes>"
      ]
     },
     "metadata": {
      "needs_background": "light"
     },
     "output_type": "display_data"
    }
   ],
   "source": [
    "# Ваш код будет здесь. Вы можете создавать новые ячейки.\n",
    "target = data.pivot_table(index = [ 'family_status'], values = 'debt', aggfunc = {'count','sum'})\n",
    "target = target.rename(columns={'count':'total','sum':'target'})\n",
    "target['share'] = round(target['target']/target['total'], 3)\n",
    "target = target.sort_values(by='share', ascending=True)\n",
    "display(target)\n",
    "\n",
    "boxplot = sns.barplot(x=data['family_status'], y=data['debt'], color='blue')\n",
    "boxplot.axes.set_title(\"Влияние семейного положения на возврат кредита в срок\", fontsize=16)\n",
    "boxplot.set_xlabel(\"Семейное положение\", fontsize=14)\n",
    "boxplot.set_ylabel(\"Количество дней просрочки\", fontsize=14)\n",
    "boxplot.set_xticklabels(boxplot.get_xticklabels(),rotation = 30)"
   ]
  },
  {
   "cell_type": "markdown",
   "id": "91024f2c",
   "metadata": {
    "deletable": false,
    "id": "1cef7837"
   },
   "source": [
    "**Вывод:**исходя из данных гистограммы следует, что наблюдается высокая вероятность возврата кредита в срок у людей, не состоящих в браке: столбцы гистограммы 2 - вдовец / вдова и 3 - в разводе, в виду высокой платежеспособности. Люди, которые находятся в браке: столбец гистограммы 0 - женат / замужем, имеют среднюю платежеспособность. Люди, в столбцы гистограммы 1 - в гражданском браке и люди, столбец гистограммы 4 - не состоящие в браке, имеют самую низкую долю возвратности кредитов. В целом, зависимость между семейным положением и возвратом кредита в срок существует."
   ]
  },
  {
   "cell_type": "markdown",
   "id": "ebaadd51",
   "metadata": {},
   "source": [
    "<div class=\"alert alert-success\">\n",
    "\n",
    "**Артём:** 👍 Хорошо. \n",
    "\n",
    "</div>"
   ]
  },
  {
   "cell_type": "markdown",
   "id": "9b0b946e",
   "metadata": {
    "deletable": false,
    "editable": false,
    "id": "1e8b2fca"
   },
   "source": [
    "#### 3.3 Есть ли зависимость между уровнем дохода и возвратом кредита в срок?"
   ]
  },
  {
   "cell_type": "code",
   "execution_count": 24,
   "id": "283af600",
   "metadata": {
    "deletable": false,
    "id": "cd7e3720"
   },
   "outputs": [
    {
     "data": {
      "text/html": [
       "<div>\n",
       "<style scoped>\n",
       "    .dataframe tbody tr th:only-of-type {\n",
       "        vertical-align: middle;\n",
       "    }\n",
       "\n",
       "    .dataframe tbody tr th {\n",
       "        vertical-align: top;\n",
       "    }\n",
       "\n",
       "    .dataframe thead th {\n",
       "        text-align: right;\n",
       "    }\n",
       "</style>\n",
       "<table border=\"1\" class=\"dataframe\">\n",
       "  <thead>\n",
       "    <tr style=\"text-align: right;\">\n",
       "      <th></th>\n",
       "      <th>total</th>\n",
       "      <th>target</th>\n",
       "      <th>share</th>\n",
       "    </tr>\n",
       "    <tr>\n",
       "      <th>total_income_category</th>\n",
       "      <th></th>\n",
       "      <th></th>\n",
       "      <th></th>\n",
       "    </tr>\n",
       "  </thead>\n",
       "  <tbody>\n",
       "    <tr>\n",
       "      <th>D</th>\n",
       "      <td>349</td>\n",
       "      <td>21</td>\n",
       "      <td>0.060</td>\n",
       "    </tr>\n",
       "    <tr>\n",
       "      <th>B</th>\n",
       "      <td>5014</td>\n",
       "      <td>354</td>\n",
       "      <td>0.071</td>\n",
       "    </tr>\n",
       "    <tr>\n",
       "      <th>A</th>\n",
       "      <td>25</td>\n",
       "      <td>2</td>\n",
       "      <td>0.080</td>\n",
       "    </tr>\n",
       "    <tr>\n",
       "      <th>C</th>\n",
       "      <td>15921</td>\n",
       "      <td>1353</td>\n",
       "      <td>0.085</td>\n",
       "    </tr>\n",
       "    <tr>\n",
       "      <th>E</th>\n",
       "      <td>22</td>\n",
       "      <td>2</td>\n",
       "      <td>0.091</td>\n",
       "    </tr>\n",
       "  </tbody>\n",
       "</table>\n",
       "</div>"
      ],
      "text/plain": [
       "                       total  target  share\n",
       "total_income_category                      \n",
       "D                        349      21  0.060\n",
       "B                       5014     354  0.071\n",
       "A                         25       2  0.080\n",
       "C                      15921    1353  0.085\n",
       "E                         22       2  0.091"
      ]
     },
     "metadata": {},
     "output_type": "display_data"
    },
    {
     "data": {
      "text/plain": [
       "Text(0, 0.5, 'Количество дней просрочки')"
      ]
     },
     "execution_count": 24,
     "metadata": {},
     "output_type": "execute_result"
    },
    {
     "data": {
      "image/png": "[encoded data removed]",
      "text/plain": [
       "<Figure size 432x288 with 1 Axes>"
      ]
     },
     "metadata": {
      "needs_background": "light"
     },
     "output_type": "display_data"
    }
   ],
   "source": [
    "# Ваш код будет здесь. Вы можете создавать новые ячейки.\n",
    "target = data.pivot_table(index = [ 'total_income_category'], values = 'debt', aggfunc = {'count','sum'})\n",
    "target = target.rename(columns={'count':'total','sum':'target'})\n",
    "target['share'] = round(target['target']/target['total'], 3)\n",
    "target = target.sort_values(by='share', ascending=True)\n",
    "display(target)\n",
    "\n",
    "boxplot = sns.barplot(x=data['total_income_category'], y=data['debt'], color='blue')\n",
    "boxplot.axes.set_title(\"Влияние цели дохода на возврат кредита в срок\", fontsize=16)\n",
    "boxplot.set_xlabel(\"Диапазон доходов\", fontsize=14)\n",
    "boxplot.set_ylabel(\"Количество дней просрочки\", fontsize=14)\n"
   ]
  },
  {
   "cell_type": "markdown",
   "id": "4b171a39",
   "metadata": {
    "deletable": false,
    "id": "e8593def"
   },
   "source": [
    "**Вывод:**исходя из данных гистограммы следует, что самая высокая возвратность у людей с доходом от 30001 до 50000 рублей (столбец - D). Люди с доходом от 200001 до 1000000 рублей (столбец - B), также имеют низкую долю просрочки по кредиту. Люди с доходом от 50001 до 200000 рублей (столбец - C) имеют высокую вероятность не вернуть кредит и, как ни странно, находятся примерно на одном уровне с людми с доходом 1000001 и выше (столбец - A). И в заключении, люди, с самым низким доходом имеют наивысшую вероятность не вернуть кредит в срок. Зависимость между уровнем дохода и возвратом кредита в срок существует.\n"
   ]
  },
  {
   "cell_type": "markdown",
   "id": "2229fd70",
   "metadata": {},
   "source": [
    "<div class=\"alert alert-success\">\n",
    "\n",
    "**Артём:** 👍 Если закрыть глаза на то, что выборка нерепрезентативна, то все корректно.\n",
    "    \n",
    "</div>\n",
    "\n",
    "<div class=\"alert alert-info\">\n",
    "\n",
    "<b>Артём: ✍️</b> Дам тебе совет на будущее, как лучше проводить категоризацию количественных данных.\n",
    "    \n",
    "Сейчас самая маленькая категория в 728 раз меньше самой большой. Это может отразиться на результатах исследования. Когда мы делим на категории количественные данные, то лучше их делать примерно одинаковыми. Для этого можно воспользоваться методом `qcut()`. Пример:\n",
    "    \n",
    "```py\n",
    "pd.qcut(df['total_income'], 4)\n",
    "```\n",
    "    \n",
    "```\n",
    "Name: total_income, Length: 21453, dtype: category\n",
    "Categories (4, interval[float64]): [(20666.999, 107620.0]  (107620.0, 142594.0]  (142594.0, 195818.0]  (195818.0, 2265604.0]]\n",
    "```\n",
    "                                                                                                               \n",
    "Что внутри: \n",
    "    \n",
    "```py\n",
    "pd.qcut(датафрейм['столбец'], количество_категорий)\n",
    "``` \n",
    "    \n",
    "Итого у нас 4 категории:\n",
    "<ul>\n",
    "  <li>меньше 107_620</li>\n",
    "  <li>от 107_620 до 142_594</li>\n",
    "  <li>от 142_594 до 195_818</li>\n",
    "  <li>от 195_818</li>\n",
    "</ul>\n",
    "    \n",
    "---\n",
    "Дополнительно:<br>\n",
    "<a href=\"https://pandas.pydata.org/pandas-docs/stable/reference/api/pandas.qcut.html\"\n",
    "   target=\"_blank\">\n",
    "  📖 Официальная документация.\n",
    "</a><br>\n",
    "<a href=\"https://dfedorov.spb.ru/pandas/Разделение%20данных%20в%20Pandas%20с%20помощью%20qcut%20и%20cut.html?\"\n",
    "   target=\"_blank\">\n",
    "  📖 Статья на русском.\n",
    "</a>\n",
    "</div>"
   ]
  },
  {
   "cell_type": "markdown",
   "id": "f6f089ac",
   "metadata": {
    "deletable": false,
    "editable": false,
    "id": "99ecbd1f"
   },
   "source": [
    "#### 3.4 Как разные цели кредита влияют на его возврат в срок?"
   ]
  },
  {
   "cell_type": "code",
   "execution_count": 25,
   "id": "ac866aef",
   "metadata": {
    "deletable": false,
    "id": "2b687290"
   },
   "outputs": [
    {
     "data": {
      "text/html": [
       "<div>\n",
       "<style scoped>\n",
       "    .dataframe tbody tr th:only-of-type {\n",
       "        vertical-align: middle;\n",
       "    }\n",
       "\n",
       "    .dataframe tbody tr th {\n",
       "        vertical-align: top;\n",
       "    }\n",
       "\n",
       "    .dataframe thead th {\n",
       "        text-align: right;\n",
       "    }\n",
       "</style>\n",
       "<table border=\"1\" class=\"dataframe\">\n",
       "  <thead>\n",
       "    <tr style=\"text-align: right;\">\n",
       "      <th></th>\n",
       "      <th>total</th>\n",
       "      <th>target</th>\n",
       "      <th>share</th>\n",
       "    </tr>\n",
       "    <tr>\n",
       "      <th>purpose_category</th>\n",
       "      <th></th>\n",
       "      <th></th>\n",
       "      <th></th>\n",
       "    </tr>\n",
       "  </thead>\n",
       "  <tbody>\n",
       "    <tr>\n",
       "      <th>операции с недвижимостью</th>\n",
       "      <td>10751</td>\n",
       "      <td>780</td>\n",
       "      <td>0.073</td>\n",
       "    </tr>\n",
       "    <tr>\n",
       "      <th>проведение свадьбы</th>\n",
       "      <td>2313</td>\n",
       "      <td>183</td>\n",
       "      <td>0.079</td>\n",
       "    </tr>\n",
       "    <tr>\n",
       "      <th>операции с автомобилем</th>\n",
       "      <td>4279</td>\n",
       "      <td>400</td>\n",
       "      <td>0.093</td>\n",
       "    </tr>\n",
       "    <tr>\n",
       "      <th>получение образования</th>\n",
       "      <td>3988</td>\n",
       "      <td>369</td>\n",
       "      <td>0.093</td>\n",
       "    </tr>\n",
       "  </tbody>\n",
       "</table>\n",
       "</div>"
      ],
      "text/plain": [
       "                          total  target  share\n",
       "purpose_category                              \n",
       "операции с недвижимостью  10751     780  0.073\n",
       "проведение свадьбы         2313     183  0.079\n",
       "операции с автомобилем     4279     400  0.093\n",
       "получение образования      3988     369  0.093"
      ]
     },
     "metadata": {},
     "output_type": "display_data"
    },
    {
     "data": {
      "text/plain": [
       "[Text(0, 0, 'операции с недвижимостью'),\n",
       " Text(1, 0, 'операции с автомобилем'),\n",
       " Text(2, 0, 'получение образования'),\n",
       " Text(3, 0, 'проведение свадьбы')]"
      ]
     },
     "execution_count": 25,
     "metadata": {},
     "output_type": "execute_result"
    },
    {
     "data": {
      "image/png": "[encoded data removed]",
      "text/plain": [
       "<Figure size 432x288 with 1 Axes>"
      ]
     },
     "metadata": {
      "needs_background": "light"
     },
     "output_type": "display_data"
    }
   ],
   "source": [
    "# Ваш код будет здесь. Вы можете создавать новые ячейки.\n",
    "target = data.pivot_table(index = ['purpose_category'], values = 'debt', aggfunc = {'count','sum'})\n",
    "target = target.rename(columns={'count':'total','sum':'target'})\n",
    "target['share'] = round(target['target']/target['total'], 3)\n",
    "target = target.sort_values(by='share', ascending=True)\n",
    "display(target)\n",
    "\n",
    "\n",
    "boxplot = sns.barplot(x=data['purpose_category'], y=data['debt'], color='blue')\n",
    "boxplot.axes.set_title(\"Влияние цели кредита на его возврат в срок\", fontsize=16)\n",
    "boxplot.set_xlabel(\"Цели кредита\", fontsize=14)\n",
    "boxplot.set_ylabel(\"Количество дней просрочки\", fontsize=14)\n",
    "boxplot.set_xticklabels(boxplot.get_xticklabels(),rotation = 30)"
   ]
  },
  {
   "cell_type": "markdown",
   "id": "7d6d4705",
   "metadata": {
    "deletable": false,
    "id": "b4bb2ce6"
   },
   "source": [
    "**Вывод:**исходя из данных гистограммы и сводной таблице следует: в случае с людьми, которые стремятся к созданию семьи или приобретению своей жил площади, есть вероятность возврата кредита заметно выше, чем у людей, которые берут потребительский кредит на вещи и существенно ниже по стоимости."
   ]
  },
  {
   "cell_type": "markdown",
   "id": "994103b6",
   "metadata": {},
   "source": [
    "<div class=\"alert alert-success\">\n",
    "\n",
    "**Артём:** 👍 Правильно.\n",
    "    \n",
    "</div>"
   ]
  },
  {
   "cell_type": "markdown",
   "id": "067cbef7",
   "metadata": {},
   "source": [
    "<div class=\"alert alert-danger\">\n",
    "\n",
    "**Артём:** ✋ Поверни подписи, они слились.\n",
    "    \n",
    "</div>"
   ]
  },
  {
   "cell_type": "markdown",
   "id": "ed0d0e12",
   "metadata": {},
   "source": [
    "<div class=\"alert alert-success\">\n",
    "\n",
    "**Артём:** 👍👍 Так лучше.\n",
    "\n",
    "</div>"
   ]
  },
  {
   "cell_type": "markdown",
   "id": "2baf9fbf",
   "metadata": {
    "deletable": false,
    "editable": false,
    "id": "09c3ac4c"
   },
   "source": [
    "#### 3.5 Приведите возможные причины появления пропусков в исходных данных."
   ]
  },
  {
   "cell_type": "markdown",
   "id": "f17088e8",
   "metadata": {
    "deletable": false,
    "id": "9da2ceda"
   },
   "source": [
    "*Ответ:*пропуски в столбцах days_employed и total_income возможно вызваны человеческим фактором при заполнении или отказом от заполнения данных. Возможно количество пропусков в столбцах одинаковы потому, что заполнение одного из столбцов влияет на заполненность другого столбца."
   ]
  },
  {
   "cell_type": "markdown",
   "id": "c438ef7f",
   "metadata": {},
   "source": [
    "<div class=\"alert alert-danger\">\n",
    "\n",
    "**Артём:** ✋ Хорошо, а какие еще варианты?\n",
    "    \n",
    "</div>"
   ]
  },
  {
   "cell_type": "markdown",
   "id": "ff7962ca",
   "metadata": {},
   "source": [
    "<div class=\"alert alert-success\">\n",
    "\n",
    "**Артём:** 👍👍 Принято.\n",
    "\n",
    "</div>"
   ]
  },
  {
   "cell_type": "markdown",
   "id": "3b6de0c8",
   "metadata": {
    "deletable": false,
    "editable": false,
    "id": "7b0487d6"
   },
   "source": [
    "#### 3.6 Объясните, почему заполнить пропуски медианным значением — лучшее решение для количественных переменных."
   ]
  },
  {
   "cell_type": "markdown",
   "id": "2d723d6b",
   "metadata": {
    "deletable": false,
    "id": "7ecf2b8e"
   },
   "source": [
    "*Ответ:*медианное значение лучше отражает выборку, если есть незаполненные данные и дает более точные результаты при иследовании и анализе кейсов. Возможно среднее арифметическое отражает ситуацию некорректно, так как не учитывает разброс данных."
   ]
  },
  {
   "cell_type": "markdown",
   "id": "d7435283",
   "metadata": {},
   "source": [
    "<div class=\"alert alert-danger\">\n",
    "\n",
    "**Артём:** ✋ Почему?\n",
    "    \n",
    "</div>"
   ]
  },
  {
   "cell_type": "markdown",
   "id": "cca6d9ad",
   "metadata": {},
   "source": [
    "<div class=\"alert alert-success\">\n",
    "\n",
    "**Артём:** 👍👍 Верно.\n",
    "\n",
    "</div>"
   ]
  },
  {
   "cell_type": "markdown",
   "id": "95da0e20",
   "metadata": {
    "deletable": false,
    "editable": false,
    "id": "6db5255a"
   },
   "source": [
    "### Шаг 4: общий вывод."
   ]
  },
  {
   "cell_type": "markdown",
   "id": "988c683e",
   "metadata": {
    "deletable": false,
    "id": "bad65432"
   },
   "source": [
    "Итог выше проведенных иследований, можно сделать вывод что нет четкой взаимосвязи, но люди, которые с наибольшей вероятностью допустят просрочку по кредиту:\n",
    " \n",
    " 1. будут иметь 4 детей; \n",
    " \n",
    " 2. будут состоять в гражданском браке, а более вероятно, что не будут состоять в браке вовсе; \n",
    " \n",
    " 3. их доход будет существенно низок; \n",
    "\n",
    " 4. целью кредита будет получение образования или покупка автомобиля. \n",
    " \n",
    "Напротив, высока вероятность возврата кредита в срок: \n",
    " \n",
    " 1. человек более не состоит в браке;\n",
    " \n",
    " 2. имеет высокий доход;\n",
    " \n",
    " 3. вероятно, у него нет детей на попечении.\n",
    " \n",
    " Подведя итог можно сказать: зависимость все же есть, действительно несколько процентных пунктов - это не так много, но учитывая уровень долговой нагрузки населения России перед банками, а это 23’900’000’000’000˙₽."
   ]
  },
  {
   "cell_type": "markdown",
   "id": "8b4245b0",
   "metadata": {},
   "source": [
    "<div class=\"alert alert-danger\">\n",
    "\n",
    "✋ Структурируй вывод.\n",
    "\n",
    "</div>\n",
    "\n",
    "<div class=\"alert alert-info\">\n",
    "\n",
    "**Артём:** ✍️ Смотри как можно делать перенос строки:\n",
    "    \n",
    "Чтобы перенести текст на новую строку достаточно поставить два пробела в конце 👉  \n",
    "и текст на новой строке.\n",
    "\n",
    "Или пробел между строчками 👆.\n",
    "* Разбить на пункты\n",
    "* можно так.\n",
    "1. Или\n",
    "2. так.\n",
    "\n",
    "</div>\n",
    "<div class=\"alert alert-success\">\n",
    "\n",
    "**Артём:** 👍👍 Хорошо.\n",
    "\n",
    "</div>\n",
    "\n",
    "## 🏁 Итоги ревью\n",
    "<a id=\"results\"></a>\n",
    "[В начало](#start)\n",
    "\n",
    "<div class=\"alert alert-danger\">\n",
    "\n",
    "✋ Итерация №1\n",
    "\n",
    "Спасибо за работу. Осталось исправить несколько комментариев и можно идти к заказчику. Молодец! 👍\n",
    "    \n",
    "Для удобства, комментарии которые нужно скорректировать я добавил в меню **Contents** слева.\n",
    "    \n",
    "Жду новую версию проекта. 🙂\n",
    "\n",
    "</div>"
   ]
  },
  {
   "cell_type": "markdown",
   "id": "3ea27174",
   "metadata": {},
   "source": [
    "<div class=\"alert alert-success\">\n",
    "\n",
    "**Артём:** ✌️ Андрей, спасибо за работу и внесенные корректировки! Критических замечаний нет.\n",
    "\n",
    "Поздравляю, **проект принят!** 🥳 🎉 Ты молодец!\n",
    "\n",
    "\n",
    "Желаю тебе успехов в дальнейшем обучении. 😉\n",
    "\n",
    "</div>"
   ]
  },
  {
   "cell_type": "code",
   "execution_count": null,
   "id": "cb5c534e",
   "metadata": {},
   "outputs": [],
   "source": []
  }
 ],
 "metadata": {
  "ExecuteTimeLog": [
   {
    "duration": 1566,
    "start_time": "2023-02-10T19:46:02.336Z"
   },
   {
    "duration": 75,
    "start_time": "2023-02-10T19:46:37.402Z"
   },
   {
    "duration": 43,
    "start_time": "2023-02-10T19:46:39.340Z"
   },
   {
    "duration": 16,
    "start_time": "2023-02-10T19:46:41.010Z"
   },
   {
    "duration": 10,
    "start_time": "2023-02-10T19:46:42.467Z"
   },
   {
    "duration": 37,
    "start_time": "2023-02-10T19:46:43.216Z"
   },
   {
    "duration": 5,
    "start_time": "2023-02-10T19:46:44.190Z"
   },
   {
    "duration": 8,
    "start_time": "2023-02-10T19:46:44.774Z"
   },
   {
    "duration": 4,
    "start_time": "2023-02-10T19:46:45.686Z"
   },
   {
    "duration": 9,
    "start_time": "2023-02-10T19:46:49.359Z"
   },
   {
    "duration": 5,
    "start_time": "2023-02-10T19:46:54.549Z"
   },
   {
    "duration": 27,
    "start_time": "2023-02-10T19:47:28.279Z"
   },
   {
    "duration": 399,
    "start_time": "2023-02-10T19:52:06.740Z"
   },
   {
    "duration": 368,
    "start_time": "2023-02-10T19:54:44.930Z"
   },
   {
    "duration": 335,
    "start_time": "2023-02-10T19:55:42.317Z"
   },
   {
    "duration": 25,
    "start_time": "2023-02-10T19:58:25.107Z"
   },
   {
    "duration": 402,
    "start_time": "2023-02-10T20:01:21.008Z"
   },
   {
    "duration": 0,
    "start_time": "2023-02-10T20:44:02.859Z"
   },
   {
    "duration": 0,
    "start_time": "2023-02-10T20:44:02.861Z"
   },
   {
    "duration": 0,
    "start_time": "2023-02-10T20:44:02.863Z"
   },
   {
    "duration": 0,
    "start_time": "2023-02-10T20:44:02.866Z"
   },
   {
    "duration": 0,
    "start_time": "2023-02-10T20:44:02.869Z"
   },
   {
    "duration": 0,
    "start_time": "2023-02-10T20:44:02.871Z"
   },
   {
    "duration": 0,
    "start_time": "2023-02-10T20:44:02.875Z"
   },
   {
    "duration": 0,
    "start_time": "2023-02-10T20:44:02.878Z"
   },
   {
    "duration": 0,
    "start_time": "2023-02-10T20:44:02.882Z"
   },
   {
    "duration": 0,
    "start_time": "2023-02-10T20:44:02.885Z"
   },
   {
    "duration": 0,
    "start_time": "2023-02-10T20:44:02.887Z"
   },
   {
    "duration": 0,
    "start_time": "2023-02-10T20:44:02.892Z"
   },
   {
    "duration": 0,
    "start_time": "2023-02-10T20:44:02.939Z"
   },
   {
    "duration": 0,
    "start_time": "2023-02-10T20:44:02.942Z"
   },
   {
    "duration": 0,
    "start_time": "2023-02-10T20:44:02.945Z"
   },
   {
    "duration": 0,
    "start_time": "2023-02-10T20:44:02.948Z"
   },
   {
    "duration": 0,
    "start_time": "2023-02-10T20:44:02.950Z"
   },
   {
    "duration": 0,
    "start_time": "2023-02-10T20:44:02.952Z"
   },
   {
    "duration": 0,
    "start_time": "2023-02-10T20:44:02.955Z"
   },
   {
    "duration": 0,
    "start_time": "2023-02-10T20:44:02.958Z"
   },
   {
    "duration": 0,
    "start_time": "2023-02-10T20:44:02.961Z"
   },
   {
    "duration": 0,
    "start_time": "2023-02-10T20:44:02.964Z"
   },
   {
    "duration": 0,
    "start_time": "2023-02-10T20:44:02.967Z"
   },
   {
    "duration": 742,
    "start_time": "2023-02-11T06:40:35.345Z"
   },
   {
    "duration": 31,
    "start_time": "2023-02-11T06:40:48.589Z"
   },
   {
    "duration": 19,
    "start_time": "2023-02-11T06:40:50.599Z"
   },
   {
    "duration": 17,
    "start_time": "2023-02-11T06:40:54.108Z"
   },
   {
    "duration": 36,
    "start_time": "2023-02-11T06:40:55.558Z"
   },
   {
    "duration": 4,
    "start_time": "2023-02-11T06:40:57.151Z"
   },
   {
    "duration": 8,
    "start_time": "2023-02-11T06:40:58.672Z"
   },
   {
    "duration": 6,
    "start_time": "2023-02-11T06:41:00.473Z"
   },
   {
    "duration": 7,
    "start_time": "2023-02-11T06:41:01.780Z"
   },
   {
    "duration": 5,
    "start_time": "2023-02-11T06:41:03.130Z"
   },
   {
    "duration": 37,
    "start_time": "2023-02-11T06:41:05.247Z"
   },
   {
    "duration": 11,
    "start_time": "2023-02-11T06:41:06.397Z"
   },
   {
    "duration": 4,
    "start_time": "2023-02-11T06:41:08.264Z"
   },
   {
    "duration": 13,
    "start_time": "2023-02-11T06:41:09.869Z"
   },
   {
    "duration": 22,
    "start_time": "2023-02-11T06:41:11.000Z"
   },
   {
    "duration": 19,
    "start_time": "2023-02-11T06:41:12.346Z"
   },
   {
    "duration": 4,
    "start_time": "2023-02-11T06:41:14.806Z"
   },
   {
    "duration": 12,
    "start_time": "2023-02-11T06:41:15.479Z"
   },
   {
    "duration": 7,
    "start_time": "2023-02-11T06:41:16.673Z"
   },
   {
    "duration": 4,
    "start_time": "2023-02-11T06:41:18.402Z"
   },
   {
    "duration": 9,
    "start_time": "2023-02-11T06:41:19.053Z"
   },
   {
    "duration": 1408,
    "start_time": "2023-02-11T06:41:21.192Z"
   },
   {
    "duration": 322,
    "start_time": "2023-02-11T06:41:29.227Z"
   },
   {
    "duration": 2279,
    "start_time": "2023-02-11T06:46:49.170Z"
   },
   {
    "duration": 410,
    "start_time": "2023-02-11T06:57:27.797Z"
   },
   {
    "duration": 45,
    "start_time": "2023-02-12T07:54:29.424Z"
   },
   {
    "duration": 6,
    "start_time": "2023-02-12T07:55:06.052Z"
   },
   {
    "duration": 533,
    "start_time": "2023-02-12T07:55:28.790Z"
   },
   {
    "duration": 30,
    "start_time": "2023-02-12T07:55:30.395Z"
   },
   {
    "duration": 16,
    "start_time": "2023-02-12T07:55:30.692Z"
   },
   {
    "duration": 11,
    "start_time": "2023-02-12T07:55:32.634Z"
   },
   {
    "duration": 36,
    "start_time": "2023-02-12T07:55:33.279Z"
   },
   {
    "duration": 4,
    "start_time": "2023-02-12T07:55:34.177Z"
   },
   {
    "duration": 8,
    "start_time": "2023-02-12T07:55:34.814Z"
   },
   {
    "duration": 4,
    "start_time": "2023-02-12T07:55:36.482Z"
   },
   {
    "duration": 8,
    "start_time": "2023-02-12T07:55:37.180Z"
   },
   {
    "duration": 5,
    "start_time": "2023-02-12T07:55:37.855Z"
   },
   {
    "duration": 36,
    "start_time": "2023-02-12T07:55:39.166Z"
   },
   {
    "duration": 11,
    "start_time": "2023-02-12T07:55:39.907Z"
   },
   {
    "duration": 4,
    "start_time": "2023-02-12T07:55:41.036Z"
   },
   {
    "duration": 12,
    "start_time": "2023-02-12T07:55:42.523Z"
   },
   {
    "duration": 23,
    "start_time": "2023-02-12T07:55:43.321Z"
   },
   {
    "duration": 18,
    "start_time": "2023-02-12T07:55:43.706Z"
   },
   {
    "duration": 4,
    "start_time": "2023-02-12T07:55:44.696Z"
   },
   {
    "duration": 12,
    "start_time": "2023-02-12T07:55:44.989Z"
   },
   {
    "duration": 7,
    "start_time": "2023-02-12T07:55:45.647Z"
   },
   {
    "duration": 3,
    "start_time": "2023-02-12T07:55:46.347Z"
   },
   {
    "duration": 13,
    "start_time": "2023-02-12T07:55:46.620Z"
   },
   {
    "duration": 1406,
    "start_time": "2023-02-12T07:55:47.855Z"
   },
   {
    "duration": 334,
    "start_time": "2023-02-12T07:55:49.263Z"
   },
   {
    "duration": 333,
    "start_time": "2023-02-12T07:55:51.353Z"
   },
   {
    "duration": 47915,
    "start_time": "2023-02-12T07:55:53.622Z"
   },
   {
    "duration": 47,
    "start_time": "2023-02-12T07:57:47.456Z"
   },
   {
    "duration": 565,
    "start_time": "2023-02-12T07:58:13.700Z"
   },
   {
    "duration": 49,
    "start_time": "2023-02-12T08:00:20.544Z"
   },
   {
    "duration": 46,
    "start_time": "2023-02-12T08:00:43.089Z"
   },
   {
    "duration": 30,
    "start_time": "2023-02-12T08:02:49.355Z"
   },
   {
    "duration": 405,
    "start_time": "2023-02-12T08:07:48.480Z"
   },
   {
    "duration": 585,
    "start_time": "2023-02-12T08:09:52.880Z"
   },
   {
    "duration": 524,
    "start_time": "2023-02-12T10:16:03.889Z"
   },
   {
    "duration": 424,
    "start_time": "2023-02-12T10:16:56.369Z"
   },
   {
    "duration": 436,
    "start_time": "2023-02-12T10:17:05.357Z"
   },
   {
    "duration": 534,
    "start_time": "2023-02-12T10:17:47.767Z"
   },
   {
    "duration": 399,
    "start_time": "2023-02-12T10:18:59.381Z"
   },
   {
    "duration": 80,
    "start_time": "2023-02-12T22:56:46.653Z"
   },
   {
    "duration": 473,
    "start_time": "2023-02-12T22:56:57.347Z"
   },
   {
    "duration": 32,
    "start_time": "2023-02-12T22:56:57.822Z"
   },
   {
    "duration": 15,
    "start_time": "2023-02-12T22:56:57.856Z"
   },
   {
    "duration": 10,
    "start_time": "2023-02-12T22:56:57.874Z"
   },
   {
    "duration": 54,
    "start_time": "2023-02-12T22:56:57.885Z"
   },
   {
    "duration": 4,
    "start_time": "2023-02-12T22:56:57.941Z"
   },
   {
    "duration": 20,
    "start_time": "2023-02-12T22:56:57.947Z"
   },
   {
    "duration": 5,
    "start_time": "2023-02-12T22:56:57.969Z"
   },
   {
    "duration": 12,
    "start_time": "2023-02-12T22:56:57.975Z"
   },
   {
    "duration": 7,
    "start_time": "2023-02-12T22:56:57.989Z"
   },
   {
    "duration": 55,
    "start_time": "2023-02-12T22:56:57.998Z"
   },
   {
    "duration": 11,
    "start_time": "2023-02-12T22:56:58.054Z"
   },
   {
    "duration": 4,
    "start_time": "2023-02-12T22:56:58.067Z"
   },
   {
    "duration": 19,
    "start_time": "2023-02-12T22:56:58.072Z"
   },
   {
    "duration": 21,
    "start_time": "2023-02-12T22:56:58.092Z"
   },
   {
    "duration": 42,
    "start_time": "2023-02-12T22:56:58.114Z"
   },
   {
    "duration": 4,
    "start_time": "2023-02-12T22:56:58.158Z"
   },
   {
    "duration": 19,
    "start_time": "2023-02-12T22:56:58.164Z"
   },
   {
    "duration": 14,
    "start_time": "2023-02-12T22:56:58.185Z"
   },
   {
    "duration": 5,
    "start_time": "2023-02-12T22:56:58.201Z"
   },
   {
    "duration": 36,
    "start_time": "2023-02-12T22:56:58.208Z"
   },
   {
    "duration": 1261,
    "start_time": "2023-02-12T22:56:58.246Z"
   },
   {
    "duration": 354,
    "start_time": "2023-02-12T22:56:59.509Z"
   },
   {
    "duration": 356,
    "start_time": "2023-02-12T22:56:59.865Z"
   },
   {
    "duration": 354,
    "start_time": "2023-02-12T22:57:00.223Z"
   },
   {
    "duration": 111,
    "start_time": "2023-02-12T22:57:47.395Z"
   },
   {
    "duration": 1655,
    "start_time": "2023-02-13T05:36:44.965Z"
   },
   {
    "duration": 355,
    "start_time": "2023-02-13T05:37:21.851Z"
   },
   {
    "duration": 25,
    "start_time": "2023-02-13T05:37:22.951Z"
   },
   {
    "duration": 16,
    "start_time": "2023-02-13T05:37:23.986Z"
   },
   {
    "duration": 11,
    "start_time": "2023-02-13T05:37:25.770Z"
   },
   {
    "duration": 37,
    "start_time": "2023-02-13T05:37:26.650Z"
   },
   {
    "duration": 4,
    "start_time": "2023-02-13T05:37:27.728Z"
   },
   {
    "duration": 8,
    "start_time": "2023-02-13T05:37:28.470Z"
   },
   {
    "duration": 5,
    "start_time": "2023-02-13T05:37:30.156Z"
   },
   {
    "duration": 7,
    "start_time": "2023-02-13T05:37:31.152Z"
   },
   {
    "duration": 5,
    "start_time": "2023-02-13T05:37:32.202Z"
   },
   {
    "duration": 46,
    "start_time": "2023-02-13T05:37:33.526Z"
   },
   {
    "duration": 12,
    "start_time": "2023-02-13T05:37:34.488Z"
   },
   {
    "duration": 4,
    "start_time": "2023-02-13T05:37:35.495Z"
   },
   {
    "duration": 19,
    "start_time": "2023-02-13T05:37:36.537Z"
   },
   {
    "duration": 26,
    "start_time": "2023-02-13T05:37:37.137Z"
   },
   {
    "duration": 18,
    "start_time": "2023-02-13T05:37:37.456Z"
   },
   {
    "duration": 4,
    "start_time": "2023-02-13T05:37:39.402Z"
   },
   {
    "duration": 11,
    "start_time": "2023-02-13T05:37:40.451Z"
   },
   {
    "duration": 6,
    "start_time": "2023-02-13T05:37:42.118Z"
   },
   {
    "duration": 4,
    "start_time": "2023-02-13T05:37:43.698Z"
   },
   {
    "duration": 9,
    "start_time": "2023-02-13T05:37:44.454Z"
   },
   {
    "duration": 431,
    "start_time": "2023-02-13T05:37:49.681Z"
   },
   {
    "duration": 366,
    "start_time": "2023-02-13T05:38:20.058Z"
   },
   {
    "duration": 383,
    "start_time": "2023-02-13T05:38:35.892Z"
   },
   {
    "duration": 383,
    "start_time": "2023-02-13T05:38:46.925Z"
   },
   {
    "duration": 1203,
    "start_time": "2023-02-13T05:47:34.129Z"
   },
   {
    "duration": 443,
    "start_time": "2023-02-13T05:47:55.432Z"
   },
   {
    "duration": 404,
    "start_time": "2023-02-13T05:48:36.095Z"
   },
   {
    "duration": 372,
    "start_time": "2023-02-13T07:15:33.267Z"
   },
   {
    "duration": 359,
    "start_time": "2023-02-13T07:15:36.809Z"
   },
   {
    "duration": 78,
    "start_time": "2023-02-13T07:16:08.697Z"
   },
   {
    "duration": 23,
    "start_time": "2023-02-13T07:16:09.300Z"
   },
   {
    "duration": 17,
    "start_time": "2023-02-13T07:16:10.831Z"
   },
   {
    "duration": 11,
    "start_time": "2023-02-13T07:16:13.943Z"
   },
   {
    "duration": 34,
    "start_time": "2023-02-13T07:16:15.671Z"
   },
   {
    "duration": 3,
    "start_time": "2023-02-13T07:16:16.713Z"
   },
   {
    "duration": 9,
    "start_time": "2023-02-13T07:16:17.658Z"
   },
   {
    "duration": 5,
    "start_time": "2023-02-13T07:16:18.862Z"
   },
   {
    "duration": 8,
    "start_time": "2023-02-13T07:16:19.530Z"
   },
   {
    "duration": 4,
    "start_time": "2023-02-13T07:16:20.204Z"
   },
   {
    "duration": 37,
    "start_time": "2023-02-13T07:16:21.164Z"
   },
   {
    "duration": 11,
    "start_time": "2023-02-13T07:16:21.816Z"
   },
   {
    "duration": 4,
    "start_time": "2023-02-13T07:16:22.734Z"
   },
   {
    "duration": 11,
    "start_time": "2023-02-13T07:16:24.111Z"
   },
   {
    "duration": 21,
    "start_time": "2023-02-13T07:16:24.994Z"
   },
   {
    "duration": 18,
    "start_time": "2023-02-13T07:16:25.145Z"
   },
   {
    "duration": 4,
    "start_time": "2023-02-13T07:16:26.878Z"
   },
   {
    "duration": 12,
    "start_time": "2023-02-13T07:16:27.410Z"
   },
   {
    "duration": 6,
    "start_time": "2023-02-13T07:16:28.614Z"
   },
   {
    "duration": 4,
    "start_time": "2023-02-13T07:16:30.458Z"
   },
   {
    "duration": 9,
    "start_time": "2023-02-13T07:16:31.011Z"
   },
   {
    "duration": 419,
    "start_time": "2023-02-13T07:16:32.195Z"
   },
   {
    "duration": 414,
    "start_time": "2023-02-13T07:16:38.503Z"
   },
   {
    "duration": 428,
    "start_time": "2023-02-13T07:16:42.423Z"
   },
   {
    "duration": 362,
    "start_time": "2023-02-13T07:16:49.643Z"
   },
   {
    "duration": 354,
    "start_time": "2023-02-13T07:18:04.293Z"
   },
   {
    "duration": 348,
    "start_time": "2023-02-13T07:19:41.530Z"
   },
   {
    "duration": 375,
    "start_time": "2023-02-13T07:20:37.315Z"
   },
   {
    "duration": 380,
    "start_time": "2023-02-13T07:21:12.101Z"
   },
   {
    "duration": 347,
    "start_time": "2023-02-13T07:21:57.023Z"
   },
   {
    "duration": 363,
    "start_time": "2023-02-13T07:23:37.745Z"
   },
   {
    "duration": 399,
    "start_time": "2023-02-13T07:39:06.256Z"
   },
   {
    "duration": 407,
    "start_time": "2023-02-13T07:39:45.405Z"
   },
   {
    "duration": 421,
    "start_time": "2023-02-13T07:42:13.601Z"
   },
   {
    "duration": 364,
    "start_time": "2023-02-13T07:45:45.006Z"
   },
   {
    "duration": 565,
    "start_time": "2023-02-13T07:46:19.195Z"
   },
   {
    "duration": 456,
    "start_time": "2023-02-13T07:48:37.812Z"
   },
   {
    "duration": 400,
    "start_time": "2023-02-13T07:48:48.343Z"
   },
   {
    "duration": 472,
    "start_time": "2023-02-13T07:49:43.120Z"
   },
   {
    "duration": 366,
    "start_time": "2023-02-13T07:50:30.060Z"
   },
   {
    "duration": 421,
    "start_time": "2023-02-13T07:53:04.814Z"
   },
   {
    "duration": 434,
    "start_time": "2023-02-13T07:53:46.647Z"
   },
   {
    "duration": 410,
    "start_time": "2023-02-13T07:54:04.547Z"
   },
   {
    "duration": 398,
    "start_time": "2023-02-13T07:54:28.857Z"
   },
   {
    "duration": 417,
    "start_time": "2023-02-13T07:54:49.406Z"
   },
   {
    "duration": 565,
    "start_time": "2023-02-13T09:31:42.245Z"
   },
   {
    "duration": 31,
    "start_time": "2023-02-13T09:31:42.828Z"
   },
   {
    "duration": 19,
    "start_time": "2023-02-13T09:31:43.410Z"
   },
   {
    "duration": 10,
    "start_time": "2023-02-13T09:31:45.007Z"
   },
   {
    "duration": 35,
    "start_time": "2023-02-13T09:31:45.548Z"
   },
   {
    "duration": 4,
    "start_time": "2023-02-13T09:31:46.445Z"
   },
   {
    "duration": 8,
    "start_time": "2023-02-13T09:31:47.393Z"
   },
   {
    "duration": 5,
    "start_time": "2023-02-13T09:31:48.399Z"
   },
   {
    "duration": 8,
    "start_time": "2023-02-13T09:31:48.966Z"
   },
   {
    "duration": 5,
    "start_time": "2023-02-13T09:31:49.590Z"
   },
   {
    "duration": 34,
    "start_time": "2023-02-13T09:31:50.629Z"
   },
   {
    "duration": 10,
    "start_time": "2023-02-13T09:31:51.560Z"
   },
   {
    "duration": 4,
    "start_time": "2023-02-13T09:31:52.658Z"
   },
   {
    "duration": 12,
    "start_time": "2023-02-13T09:31:53.780Z"
   },
   {
    "duration": 20,
    "start_time": "2023-02-13T09:31:54.539Z"
   },
   {
    "duration": 18,
    "start_time": "2023-02-13T09:31:54.856Z"
   },
   {
    "duration": 3,
    "start_time": "2023-02-13T09:31:55.812Z"
   },
   {
    "duration": 11,
    "start_time": "2023-02-13T09:31:56.121Z"
   },
   {
    "duration": 6,
    "start_time": "2023-02-13T09:31:56.799Z"
   },
   {
    "duration": 4,
    "start_time": "2023-02-13T09:31:57.489Z"
   },
   {
    "duration": 10,
    "start_time": "2023-02-13T09:31:57.828Z"
   },
   {
    "duration": 1405,
    "start_time": "2023-02-13T09:31:58.851Z"
   },
   {
    "duration": 401,
    "start_time": "2023-02-13T09:32:02.620Z"
   },
   {
    "duration": 367,
    "start_time": "2023-02-13T09:32:04.200Z"
   },
   {
    "duration": 368,
    "start_time": "2023-02-13T09:32:05.408Z"
   },
   {
    "duration": 473,
    "start_time": "2023-03-05T12:30:41.710Z"
   },
   {
    "duration": 28,
    "start_time": "2023-03-05T12:30:42.185Z"
   },
   {
    "duration": 25,
    "start_time": "2023-03-05T12:30:42.215Z"
   },
   {
    "duration": 29,
    "start_time": "2023-03-05T12:30:42.241Z"
   },
   {
    "duration": 93,
    "start_time": "2023-03-05T12:30:42.272Z"
   },
   {
    "duration": 3,
    "start_time": "2023-03-05T12:30:42.367Z"
   },
   {
    "duration": 25,
    "start_time": "2023-03-05T12:30:42.372Z"
   },
   {
    "duration": 16,
    "start_time": "2023-03-05T12:30:42.399Z"
   },
   {
    "duration": 20,
    "start_time": "2023-03-05T12:30:42.416Z"
   },
   {
    "duration": 13,
    "start_time": "2023-03-05T12:30:42.438Z"
   },
   {
    "duration": 57,
    "start_time": "2023-03-05T12:30:42.453Z"
   },
   {
    "duration": 8,
    "start_time": "2023-03-05T12:30:42.512Z"
   },
   {
    "duration": 23,
    "start_time": "2023-03-05T12:30:42.522Z"
   },
   {
    "duration": 10,
    "start_time": "2023-03-05T12:30:42.547Z"
   },
   {
    "duration": 25,
    "start_time": "2023-03-05T12:30:42.558Z"
   },
   {
    "duration": 17,
    "start_time": "2023-03-05T12:30:42.585Z"
   },
   {
    "duration": 4,
    "start_time": "2023-03-05T12:30:42.603Z"
   },
   {
    "duration": 19,
    "start_time": "2023-03-05T12:30:42.609Z"
   },
   {
    "duration": 5,
    "start_time": "2023-03-05T12:30:42.630Z"
   },
   {
    "duration": 8,
    "start_time": "2023-03-05T12:30:42.636Z"
   },
   {
    "duration": 31,
    "start_time": "2023-03-05T12:30:42.645Z"
   },
   {
    "duration": 1268,
    "start_time": "2023-03-05T12:30:42.677Z"
   },
   {
    "duration": 384,
    "start_time": "2023-03-05T12:30:43.947Z"
   },
   {
    "duration": 356,
    "start_time": "2023-03-05T12:30:44.333Z"
   },
   {
    "duration": 372,
    "start_time": "2023-03-05T12:30:44.691Z"
   },
   {
    "duration": 503,
    "start_time": "2023-03-05T12:58:06.201Z"
   },
   {
    "duration": 25,
    "start_time": "2023-03-05T12:58:06.706Z"
   },
   {
    "duration": 20,
    "start_time": "2023-03-05T12:58:06.733Z"
   },
   {
    "duration": 9,
    "start_time": "2023-03-05T12:58:06.755Z"
   },
   {
    "duration": 48,
    "start_time": "2023-03-05T12:58:06.765Z"
   },
   {
    "duration": 18,
    "start_time": "2023-03-05T12:58:06.821Z"
   },
   {
    "duration": 21,
    "start_time": "2023-03-05T12:58:06.841Z"
   },
   {
    "duration": 8,
    "start_time": "2023-03-05T12:58:06.864Z"
   },
   {
    "duration": 7,
    "start_time": "2023-03-05T12:58:07.867Z"
   },
   {
    "duration": 5,
    "start_time": "2023-03-05T12:58:07.876Z"
   },
   {
    "duration": 34,
    "start_time": "2023-03-05T12:58:07.883Z"
   },
   {
    "duration": 21,
    "start_time": "2023-03-05T12:58:07.918Z"
   },
   {
    "duration": 4,
    "start_time": "2023-03-05T12:58:07.941Z"
   },
   {
    "duration": 11,
    "start_time": "2023-03-05T12:58:07.947Z"
   },
   {
    "duration": 29,
    "start_time": "2023-03-05T12:58:08.114Z"
   },
   {
    "duration": 18,
    "start_time": "2023-03-05T12:58:08.144Z"
   },
   {
    "duration": 4,
    "start_time": "2023-03-05T12:58:08.163Z"
   },
   {
    "duration": 11,
    "start_time": "2023-03-05T12:58:08.846Z"
   },
   {
    "duration": 18,
    "start_time": "2023-03-05T12:58:08.859Z"
   },
   {
    "duration": 4,
    "start_time": "2023-03-05T12:58:08.879Z"
   },
   {
    "duration": 13,
    "start_time": "2023-03-05T12:58:08.884Z"
   },
   {
    "duration": 1210,
    "start_time": "2023-03-05T12:58:08.899Z"
   },
   {
    "duration": 469,
    "start_time": "2023-03-05T12:58:10.110Z"
   },
   {
    "duration": 372,
    "start_time": "2023-03-05T12:58:10.580Z"
   },
   {
    "duration": 365,
    "start_time": "2023-03-05T12:58:10.954Z"
   }
  ],
  "colab": {
   "name": "dpp_template_part2.ipynb",
   "provenance": []
  },
  "kernelspec": {
   "display_name": "Python 3 (ipykernel)",
   "language": "python",
   "name": "python3"
  },
  "language_info": {
   "codemirror_mode": {
    "name": "ipython",
    "version": 3
   },
   "file_extension": ".py",
   "mimetype": "text/x-python",
   "name": "python",
   "nbconvert_exporter": "python",
   "pygments_lexer": "ipython3",
   "version": "3.9.5"
  },
  "toc": {
   "base_numbering": 1,
   "nav_menu": {},
   "number_sections": true,
   "sideBar": true,
   "skip_h1_title": true,
   "title_cell": "Table of Contents",
   "title_sidebar": "Contents",
   "toc_cell": false,
   "toc_position": {
    "height": "calc(100% - 180px)",
    "left": "10px",
    "top": "150px",
    "width": "285px"
   },
   "toc_section_display": true,
   "toc_window_display": true
  }
 },
 "nbformat": 4,
 "nbformat_minor": 5
}
