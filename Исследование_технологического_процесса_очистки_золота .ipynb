{
  "cells": [
    {
      "cell_type": "markdown",
      "metadata": {
        "toc": true,
        "id": "LKCkY62-d3Sj"
      },
      "source": [
        "<h1>Содержание<span class=\"tocSkip\"></span></h1>\n",
        "<div class=\"toc\"><ul class=\"toc-item\"><li><span><a href=\"#Подготовка-данных\" data-toc-modified-id=\"Подготовка-данных-1\"><span class=\"toc-item-num\">1&nbsp;&nbsp;</span>Подготовка данных</a></span><ul class=\"toc-item\"><li><span><a href=\"#Откройте-файлы-и-изучите-их.\" data-toc-modified-id=\"Откройте-файлы-и-изучите-их.-1.1\"><span class=\"toc-item-num\">1.1&nbsp;&nbsp;</span>Откройте файлы и изучите их.</a></span></li><li><span><a href=\"#Проверьте,-что-эффективность-обогащения-рассчитана-правильно.-Вычислите-её-на-обучающей-выборке-для-признака-rougher.output.recovery.-Найдите-MAE-между-вашими-расчётами-и-значением-признака.-Опишите-выводы.\" data-toc-modified-id=\"Проверьте,-что-эффективность-обогащения-рассчитана-правильно.-Вычислите-её-на-обучающей-выборке-для-признака-rougher.output.recovery.-Найдите-MAE-между-вашими-расчётами-и-значением-признака.-Опишите-выводы.-1.2\"><span class=\"toc-item-num\">1.2&nbsp;&nbsp;</span>Проверьте, что эффективность обогащения рассчитана правильно. Вычислите её на обучающей выборке для признака rougher.output.recovery. Найдите MAE между вашими расчётами и значением признака. Опишите выводы.</a></span></li><li><span><a href=\"#Проанализируйте-признаки,-недоступные-в-тестовой-выборке.-Что-это-за-параметры?-К-какому-типу-относятся?\" data-toc-modified-id=\"Проанализируйте-признаки,-недоступные-в-тестовой-выборке.-Что-это-за-параметры?-К-какому-типу-относятся?-1.3\"><span class=\"toc-item-num\">1.3&nbsp;&nbsp;</span>Проанализируйте признаки, недоступные в тестовой выборке. Что это за параметры? К какому типу относятся?</a></span></li><li><span><a href=\"#Проведите-предобработку-данных.\" data-toc-modified-id=\"Проведите-предобработку-данных.-1.4\"><span class=\"toc-item-num\">1.4&nbsp;&nbsp;</span>Проведите предобработку данных.</a></span></li></ul></li><li><span><a href=\"#Анализ-данных\" data-toc-modified-id=\"Анализ-данных-2\"><span class=\"toc-item-num\">2&nbsp;&nbsp;</span>Анализ данных</a></span><ul class=\"toc-item\"><li><span><a href=\"#Посмотрите,-как-меняется-концентрация-металлов-(Au,-Ag,-Pb)-на-различных-этапах:-в-сырье,-в-черновом-концентрате,-в-концентрате-после-первой-очистки-и-в-финальном-концентрате.-Какие-особенности-имеют-распределения?-Опишите-выводы.\" data-toc-modified-id=\"Посмотрите,-как-меняется-концентрация-металлов-(Au,-Ag,-Pb)-на-различных-этапах:-в-сырье,-в-черновом-концентрате,-в-концентрате-после-первой-очистки-и-в-финальном-концентрате.-Какие-особенности-имеют-распределения?-Опишите-выводы.-2.1\"><span class=\"toc-item-num\">2.1&nbsp;&nbsp;</span>Посмотрите, как меняется концентрация металлов (Au, Ag, Pb) на различных этапах: в сырье, в черновом концентрате, в концентрате после первой очистки и в финальном концентрате. Какие особенности имеют распределения? Опишите выводы.</a></span></li><li><span><a href=\"#Сравните-распределения-размеров-гранул-исходного-сырья-на-обучающей-и-тестовой-выборках.-Если-распределения-сильно-отличаются-друг-от-друга,-оценка-модели-будет-неправильной.\" data-toc-modified-id=\"Сравните-распределения-размеров-гранул-исходного-сырья-на-обучающей-и-тестовой-выборках.-Если-распределения-сильно-отличаются-друг-от-друга,-оценка-модели-будет-неправильной.-2.2\"><span class=\"toc-item-num\">2.2&nbsp;&nbsp;</span>Сравните распределения размеров гранул исходного сырья на обучающей и тестовой выборках. Если распределения сильно отличаются друг от друга, оценка модели будет неправильной.</a></span></li><li><span><a href=\"#Исследуйте-суммарную-концентрацию-металлов-на-разных-стадиях:-в-сырье,-в-черновом-концентрате,-в-концентрате-после-первой-очистки-и-в-финальном-концентрате.\" data-toc-modified-id=\"Исследуйте-суммарную-концентрацию-металлов-на-разных-стадиях:-в-сырье,-в-черновом-концентрате,-в-концентрате-после-первой-очистки-и-в-финальном-концентрате.-2.3\"><span class=\"toc-item-num\">2.3&nbsp;&nbsp;</span>Исследуйте суммарную концентрацию металлов на разных стадиях: в сырье, в черновом концентрате, в концентрате после первой очистки и в финальном концентрате.</a></span></li></ul></li><li><span><a href=\"#Модель\" data-toc-modified-id=\"Модель-3\"><span class=\"toc-item-num\">3&nbsp;&nbsp;</span>Модель</a></span><ul class=\"toc-item\"><li><span><a href=\"#Напишите-функцию-для-вычисления-итоговой-sMAPE.\" data-toc-modified-id=\"Напишите-функцию-для-вычисления-итоговой-sMAPE.-3.1\"><span class=\"toc-item-num\">3.1&nbsp;&nbsp;</span>Напишите функцию для вычисления итоговой sMAPE.</a></span></li><li><span><a href=\"#Обучите-разные-модели-и-оцените-их-качество-кросс-валидацией.-Выберите-лучшую-модель-и-проверьте-её-на-тестовой-выборке.-Опишите-выводы.\" data-toc-modified-id=\"Обучите-разные-модели-и-оцените-их-качество-кросс-валидацией.-Выберите-лучшую-модель-и-проверьте-её-на-тестовой-выборке.-Опишите-выводы.-3.2\"><span class=\"toc-item-num\">3.2&nbsp;&nbsp;</span>Обучите разные модели и оцените их качество кросс-валидацией. Выберите лучшую модель и проверьте её на тестовой выборке. Опишите выводы.</a></span></li></ul></li><li><span><a href=\"#Общий-вывод:\" data-toc-modified-id=\"Общий-вывод:-4\"><span class=\"toc-item-num\">4&nbsp;&nbsp;</span>Общий вывод:</a></span></li></ul></div>"
      ]
    },
    {
      "cell_type": "markdown",
      "metadata": {
        "id": "k0l6pXMtd3Sk"
      },
      "source": [
        "# Восстановление золота из руды"
      ]
    },
    {
      "cell_type": "markdown",
      "metadata": {
        "id": "f9H9eLWbd3Sk"
      },
      "source": [
        "Подготовить прототип модели машинного обучения для «Цифры». Компания разрабатывает решения для эффективной работы промышленных предприятий.\n",
        "\n",
        "Модель должна предсказать коэффициент восстановления золота из золотосодержащей руды. Используйте данные с параметрами добычи и очистки.\n",
        "\n",
        "Модель поможет оптимизировать производство, чтобы не запускать предприятие с убыточными характеристиками.\n",
        "\n",
        "Вам нужно:\n",
        "\n",
        "1. Подготовить данные;\n",
        "2. Провести исследовательский анализ данных;\n",
        "3. Построить и обучить модель.\n",
        "\n",
        "Чтобы выполнить проект, обращайтесь к библиотекам *pandas*, *matplotlib* и *sklearn.* Вам поможет их документация."
      ]
    },
    {
      "cell_type": "markdown",
      "metadata": {
        "id": "S1NiCZ4Fd3Sm"
      },
      "source": [
        "## Подготовка данных"
      ]
    },
    {
      "cell_type": "code",
      "source": [],
      "metadata": {
        "id": "gSR7VVuKJxIf"
      },
      "execution_count": null,
      "outputs": []
    },
    {
      "cell_type": "code",
      "execution_count": null,
      "metadata": {
        "id": "ACIRxZopd3Sm"
      },
      "outputs": [],
      "source": [
        "#импортируем необходимые библиотеки и инструменты\n",
        "import pandas as pd\n",
        "import numpy as np\n",
        "import seaborn as sns\n",
        "\n",
        "pd.options.mode.chained_assignment = None\n",
        "\n",
        "import matplotlib.pyplot as plt\n",
        "from sklearn.metrics import mean_absolute_error, make_scorer\n",
        "from sklearn.preprocessing import StandardScaler\n",
        "from sklearn.model_selection import train_test_split, cross_val_score\n",
        "from sklearn.linear_model import LinearRegression\n",
        "from sklearn.ensemble import RandomForestRegressor\n",
        "from sklearn.tree import DecisionTreeRegressor\n",
        "from catboost import CatBoostRegressor\n",
        "from sklearn.dummy import DummyRegressor\n",
        "\n",
        "from sklearn.model_selection import GridSearchCV\n",
        "plt.rcParams[\"figure.figsize\"] = (10,6)"
      ]
    },
    {
      "cell_type": "markdown",
      "metadata": {
        "id": "k3-63VlPd3So"
      },
      "source": [
        "###  Откроем файлы и изучим их."
      ]
    },
    {
      "cell_type": "code",
      "execution_count": null,
      "metadata": {
        "id": "ilUf2dDpd3So"
      },
      "outputs": [],
      "source": [
        "try:\n",
        "    train = pd.read_csv('C:/Users/Student/Desktop/gold_recovery_train_new.csv')\n",
        "    test = pd.read_csv('C:/Users/Student/Desktop/gold_recovery_test_new.csv')\n",
        "    full = pd.read_csv('C:/Users/Student/Desktop/gold_recovery_full_new.csv')\n",
        "except:\n",
        "    train = pd.read_csv('/datasets/gold_recovery_train_new.csv')\n",
        "    test = pd.read_csv('/datasets/gold_recovery_test_new.csv')\n",
        "    full = pd.read_csv('/datasets/gold_recovery_full_new.csv')"
      ]
    },
    {
      "cell_type": "code",
      "execution_count": null,
      "metadata": {
        "scrolled": false,
        "id": "KyKncFYTd3Sp",
        "outputId": "13ab65a6-5b94-4076-e750-8d70ca1b7079"
      },
      "outputs": [
        {
          "data": {
            "text/html": [
              "<div>\n",
              "<style scoped>\n",
              "    .dataframe tbody tr th:only-of-type {\n",
              "        vertical-align: middle;\n",
              "    }\n",
              "\n",
              "    .dataframe tbody tr th {\n",
              "        vertical-align: top;\n",
              "    }\n",
              "\n",
              "    .dataframe thead th {\n",
              "        text-align: right;\n",
              "    }\n",
              "</style>\n",
              "<table border=\"1\" class=\"dataframe\">\n",
              "  <thead>\n",
              "    <tr style=\"text-align: right;\">\n",
              "      <th></th>\n",
              "      <th>date</th>\n",
              "      <th>final.output.concentrate_ag</th>\n",
              "      <th>final.output.concentrate_pb</th>\n",
              "      <th>final.output.concentrate_sol</th>\n",
              "      <th>final.output.concentrate_au</th>\n",
              "      <th>final.output.recovery</th>\n",
              "      <th>final.output.tail_ag</th>\n",
              "      <th>final.output.tail_pb</th>\n",
              "      <th>final.output.tail_sol</th>\n",
              "      <th>final.output.tail_au</th>\n",
              "      <th>...</th>\n",
              "      <th>secondary_cleaner.state.floatbank4_a_air</th>\n",
              "      <th>secondary_cleaner.state.floatbank4_a_level</th>\n",
              "      <th>secondary_cleaner.state.floatbank4_b_air</th>\n",
              "      <th>secondary_cleaner.state.floatbank4_b_level</th>\n",
              "      <th>secondary_cleaner.state.floatbank5_a_air</th>\n",
              "      <th>secondary_cleaner.state.floatbank5_a_level</th>\n",
              "      <th>secondary_cleaner.state.floatbank5_b_air</th>\n",
              "      <th>secondary_cleaner.state.floatbank5_b_level</th>\n",
              "      <th>secondary_cleaner.state.floatbank6_a_air</th>\n",
              "      <th>secondary_cleaner.state.floatbank6_a_level</th>\n",
              "    </tr>\n",
              "  </thead>\n",
              "  <tbody>\n",
              "    <tr>\n",
              "      <th>0</th>\n",
              "      <td>2016-01-15 00:00:00</td>\n",
              "      <td>6.055403</td>\n",
              "      <td>9.889648</td>\n",
              "      <td>5.507324</td>\n",
              "      <td>42.192020</td>\n",
              "      <td>70.541216</td>\n",
              "      <td>10.411962</td>\n",
              "      <td>0.895447</td>\n",
              "      <td>16.904297</td>\n",
              "      <td>2.143149</td>\n",
              "      <td>...</td>\n",
              "      <td>14.016835</td>\n",
              "      <td>-502.488007</td>\n",
              "      <td>12.099931</td>\n",
              "      <td>-504.715942</td>\n",
              "      <td>9.925633</td>\n",
              "      <td>-498.310211</td>\n",
              "      <td>8.079666</td>\n",
              "      <td>-500.470978</td>\n",
              "      <td>14.151341</td>\n",
              "      <td>-605.841980</td>\n",
              "    </tr>\n",
              "    <tr>\n",
              "      <th>1</th>\n",
              "      <td>2016-01-15 01:00:00</td>\n",
              "      <td>6.029369</td>\n",
              "      <td>9.968944</td>\n",
              "      <td>5.257781</td>\n",
              "      <td>42.701629</td>\n",
              "      <td>69.266198</td>\n",
              "      <td>10.462676</td>\n",
              "      <td>0.927452</td>\n",
              "      <td>16.634514</td>\n",
              "      <td>2.224930</td>\n",
              "      <td>...</td>\n",
              "      <td>13.992281</td>\n",
              "      <td>-505.503262</td>\n",
              "      <td>11.950531</td>\n",
              "      <td>-501.331529</td>\n",
              "      <td>10.039245</td>\n",
              "      <td>-500.169983</td>\n",
              "      <td>7.984757</td>\n",
              "      <td>-500.582168</td>\n",
              "      <td>13.998353</td>\n",
              "      <td>-599.787184</td>\n",
              "    </tr>\n",
              "    <tr>\n",
              "      <th>2</th>\n",
              "      <td>2016-01-15 02:00:00</td>\n",
              "      <td>6.055926</td>\n",
              "      <td>10.213995</td>\n",
              "      <td>5.383759</td>\n",
              "      <td>42.657501</td>\n",
              "      <td>68.116445</td>\n",
              "      <td>10.507046</td>\n",
              "      <td>0.953716</td>\n",
              "      <td>16.208849</td>\n",
              "      <td>2.257889</td>\n",
              "      <td>...</td>\n",
              "      <td>14.015015</td>\n",
              "      <td>-502.520901</td>\n",
              "      <td>11.912783</td>\n",
              "      <td>-501.133383</td>\n",
              "      <td>10.070913</td>\n",
              "      <td>-500.129135</td>\n",
              "      <td>8.013877</td>\n",
              "      <td>-500.517572</td>\n",
              "      <td>14.028663</td>\n",
              "      <td>-601.427363</td>\n",
              "    </tr>\n",
              "    <tr>\n",
              "      <th>3</th>\n",
              "      <td>2016-01-15 03:00:00</td>\n",
              "      <td>6.047977</td>\n",
              "      <td>9.977019</td>\n",
              "      <td>4.858634</td>\n",
              "      <td>42.689819</td>\n",
              "      <td>68.347543</td>\n",
              "      <td>10.422762</td>\n",
              "      <td>0.883763</td>\n",
              "      <td>16.532835</td>\n",
              "      <td>2.146849</td>\n",
              "      <td>...</td>\n",
              "      <td>14.036510</td>\n",
              "      <td>-500.857308</td>\n",
              "      <td>11.999550</td>\n",
              "      <td>-501.193686</td>\n",
              "      <td>9.970366</td>\n",
              "      <td>-499.201640</td>\n",
              "      <td>7.977324</td>\n",
              "      <td>-500.255908</td>\n",
              "      <td>14.005551</td>\n",
              "      <td>-599.996129</td>\n",
              "    </tr>\n",
              "    <tr>\n",
              "      <th>4</th>\n",
              "      <td>2016-01-15 04:00:00</td>\n",
              "      <td>6.148599</td>\n",
              "      <td>10.142511</td>\n",
              "      <td>4.939416</td>\n",
              "      <td>42.774141</td>\n",
              "      <td>66.927016</td>\n",
              "      <td>10.360302</td>\n",
              "      <td>0.792826</td>\n",
              "      <td>16.525686</td>\n",
              "      <td>2.055292</td>\n",
              "      <td>...</td>\n",
              "      <td>14.027298</td>\n",
              "      <td>-499.838632</td>\n",
              "      <td>11.953070</td>\n",
              "      <td>-501.053894</td>\n",
              "      <td>9.925709</td>\n",
              "      <td>-501.686727</td>\n",
              "      <td>7.894242</td>\n",
              "      <td>-500.356035</td>\n",
              "      <td>13.996647</td>\n",
              "      <td>-601.496691</td>\n",
              "    </tr>\n",
              "  </tbody>\n",
              "</table>\n",
              "<p>5 rows × 87 columns</p>\n",
              "</div>"
            ],
            "text/plain": [
              "                  date  final.output.concentrate_ag  \\\n",
              "0  2016-01-15 00:00:00                     6.055403   \n",
              "1  2016-01-15 01:00:00                     6.029369   \n",
              "2  2016-01-15 02:00:00                     6.055926   \n",
              "3  2016-01-15 03:00:00                     6.047977   \n",
              "4  2016-01-15 04:00:00                     6.148599   \n",
              "\n",
              "   final.output.concentrate_pb  final.output.concentrate_sol  \\\n",
              "0                     9.889648                      5.507324   \n",
              "1                     9.968944                      5.257781   \n",
              "2                    10.213995                      5.383759   \n",
              "3                     9.977019                      4.858634   \n",
              "4                    10.142511                      4.939416   \n",
              "\n",
              "   final.output.concentrate_au  final.output.recovery  final.output.tail_ag  \\\n",
              "0                    42.192020              70.541216             10.411962   \n",
              "1                    42.701629              69.266198             10.462676   \n",
              "2                    42.657501              68.116445             10.507046   \n",
              "3                    42.689819              68.347543             10.422762   \n",
              "4                    42.774141              66.927016             10.360302   \n",
              "\n",
              "   final.output.tail_pb  final.output.tail_sol  final.output.tail_au  ...  \\\n",
              "0              0.895447              16.904297              2.143149  ...   \n",
              "1              0.927452              16.634514              2.224930  ...   \n",
              "2              0.953716              16.208849              2.257889  ...   \n",
              "3              0.883763              16.532835              2.146849  ...   \n",
              "4              0.792826              16.525686              2.055292  ...   \n",
              "\n",
              "   secondary_cleaner.state.floatbank4_a_air  \\\n",
              "0                                 14.016835   \n",
              "1                                 13.992281   \n",
              "2                                 14.015015   \n",
              "3                                 14.036510   \n",
              "4                                 14.027298   \n",
              "\n",
              "   secondary_cleaner.state.floatbank4_a_level  \\\n",
              "0                                 -502.488007   \n",
              "1                                 -505.503262   \n",
              "2                                 -502.520901   \n",
              "3                                 -500.857308   \n",
              "4                                 -499.838632   \n",
              "\n",
              "   secondary_cleaner.state.floatbank4_b_air  \\\n",
              "0                                 12.099931   \n",
              "1                                 11.950531   \n",
              "2                                 11.912783   \n",
              "3                                 11.999550   \n",
              "4                                 11.953070   \n",
              "\n",
              "   secondary_cleaner.state.floatbank4_b_level  \\\n",
              "0                                 -504.715942   \n",
              "1                                 -501.331529   \n",
              "2                                 -501.133383   \n",
              "3                                 -501.193686   \n",
              "4                                 -501.053894   \n",
              "\n",
              "   secondary_cleaner.state.floatbank5_a_air  \\\n",
              "0                                  9.925633   \n",
              "1                                 10.039245   \n",
              "2                                 10.070913   \n",
              "3                                  9.970366   \n",
              "4                                  9.925709   \n",
              "\n",
              "   secondary_cleaner.state.floatbank5_a_level  \\\n",
              "0                                 -498.310211   \n",
              "1                                 -500.169983   \n",
              "2                                 -500.129135   \n",
              "3                                 -499.201640   \n",
              "4                                 -501.686727   \n",
              "\n",
              "   secondary_cleaner.state.floatbank5_b_air  \\\n",
              "0                                  8.079666   \n",
              "1                                  7.984757   \n",
              "2                                  8.013877   \n",
              "3                                  7.977324   \n",
              "4                                  7.894242   \n",
              "\n",
              "   secondary_cleaner.state.floatbank5_b_level  \\\n",
              "0                                 -500.470978   \n",
              "1                                 -500.582168   \n",
              "2                                 -500.517572   \n",
              "3                                 -500.255908   \n",
              "4                                 -500.356035   \n",
              "\n",
              "   secondary_cleaner.state.floatbank6_a_air  \\\n",
              "0                                 14.151341   \n",
              "1                                 13.998353   \n",
              "2                                 14.028663   \n",
              "3                                 14.005551   \n",
              "4                                 13.996647   \n",
              "\n",
              "   secondary_cleaner.state.floatbank6_a_level  \n",
              "0                                 -605.841980  \n",
              "1                                 -599.787184  \n",
              "2                                 -601.427363  \n",
              "3                                 -599.996129  \n",
              "4                                 -601.496691  \n",
              "\n",
              "[5 rows x 87 columns]"
            ]
          },
          "metadata": {},
          "output_type": "display_data"
        },
        {
          "name": "stdout",
          "output_type": "stream",
          "text": [
            "\n",
            "<class 'pandas.core.frame.DataFrame'>\n",
            "RangeIndex: 19439 entries, 0 to 19438\n",
            "Data columns (total 87 columns):\n",
            " #   Column                                              Non-Null Count  Dtype  \n",
            "---  ------                                              --------------  -----  \n",
            " 0   date                                                19439 non-null  object \n",
            " 1   final.output.concentrate_ag                         19438 non-null  float64\n",
            " 2   final.output.concentrate_pb                         19438 non-null  float64\n",
            " 3   final.output.concentrate_sol                        19228 non-null  float64\n",
            " 4   final.output.concentrate_au                         19439 non-null  float64\n",
            " 5   final.output.recovery                               19439 non-null  float64\n",
            " 6   final.output.tail_ag                                19438 non-null  float64\n",
            " 7   final.output.tail_pb                                19338 non-null  float64\n",
            " 8   final.output.tail_sol                               19433 non-null  float64\n",
            " 9   final.output.tail_au                                19439 non-null  float64\n",
            " 10  primary_cleaner.input.sulfate                       19415 non-null  float64\n",
            " 11  primary_cleaner.input.depressant                    19402 non-null  float64\n",
            " 12  primary_cleaner.input.feed_size                     19439 non-null  float64\n",
            " 13  primary_cleaner.input.xanthate                      19335 non-null  float64\n",
            " 14  primary_cleaner.output.concentrate_ag               19439 non-null  float64\n",
            " 15  primary_cleaner.output.concentrate_pb               19323 non-null  float64\n",
            " 16  primary_cleaner.output.concentrate_sol              19069 non-null  float64\n",
            " 17  primary_cleaner.output.concentrate_au               19439 non-null  float64\n",
            " 18  primary_cleaner.output.tail_ag                      19435 non-null  float64\n",
            " 19  primary_cleaner.output.tail_pb                      19418 non-null  float64\n",
            " 20  primary_cleaner.output.tail_sol                     19377 non-null  float64\n",
            " 21  primary_cleaner.output.tail_au                      19439 non-null  float64\n",
            " 22  primary_cleaner.state.floatbank8_a_air              19435 non-null  float64\n",
            " 23  primary_cleaner.state.floatbank8_a_level            19438 non-null  float64\n",
            " 24  primary_cleaner.state.floatbank8_b_air              19435 non-null  float64\n",
            " 25  primary_cleaner.state.floatbank8_b_level            19438 non-null  float64\n",
            " 26  primary_cleaner.state.floatbank8_c_air              19437 non-null  float64\n",
            " 27  primary_cleaner.state.floatbank8_c_level            19438 non-null  float64\n",
            " 28  primary_cleaner.state.floatbank8_d_air              19436 non-null  float64\n",
            " 29  primary_cleaner.state.floatbank8_d_level            19438 non-null  float64\n",
            " 30  rougher.calculation.sulfate_to_au_concentrate       19437 non-null  float64\n",
            " 31  rougher.calculation.floatbank10_sulfate_to_au_feed  19437 non-null  float64\n",
            " 32  rougher.calculation.floatbank11_sulfate_to_au_feed  19437 non-null  float64\n",
            " 33  rougher.calculation.au_pb_ratio                     19439 non-null  float64\n",
            " 34  rougher.input.feed_ag                               19439 non-null  float64\n",
            " 35  rougher.input.feed_pb                               19339 non-null  float64\n",
            " 36  rougher.input.feed_rate                             19428 non-null  float64\n",
            " 37  rougher.input.feed_size                             19294 non-null  float64\n",
            " 38  rougher.input.feed_sol                              19340 non-null  float64\n",
            " 39  rougher.input.feed_au                               19439 non-null  float64\n",
            " 40  rougher.input.floatbank10_sulfate                   19405 non-null  float64\n",
            " 41  rougher.input.floatbank10_xanthate                  19431 non-null  float64\n",
            " 42  rougher.input.floatbank11_sulfate                   19395 non-null  float64\n",
            " 43  rougher.input.floatbank11_xanthate                  18986 non-null  float64\n",
            " 44  rougher.output.concentrate_ag                       19439 non-null  float64\n",
            " 45  rougher.output.concentrate_pb                       19439 non-null  float64\n",
            " 46  rougher.output.concentrate_sol                      19416 non-null  float64\n",
            " 47  rougher.output.concentrate_au                       19439 non-null  float64\n",
            " 48  rougher.output.recovery                             19439 non-null  float64\n",
            " 49  rougher.output.tail_ag                              19438 non-null  float64\n",
            " 50  rougher.output.tail_pb                              19439 non-null  float64\n",
            " 51  rougher.output.tail_sol                             19439 non-null  float64\n",
            " 52  rougher.output.tail_au                              19439 non-null  float64\n",
            " 53  rougher.state.floatbank10_a_air                     19438 non-null  float64\n",
            " 54  rougher.state.floatbank10_a_level                   19438 non-null  float64\n",
            " 55  rougher.state.floatbank10_b_air                     19438 non-null  float64\n",
            " 56  rougher.state.floatbank10_b_level                   19438 non-null  float64\n",
            " 57  rougher.state.floatbank10_c_air                     19438 non-null  float64\n",
            " 58  rougher.state.floatbank10_c_level                   19438 non-null  float64\n",
            " 59  rougher.state.floatbank10_d_air                     19439 non-null  float64\n",
            " 60  rougher.state.floatbank10_d_level                   19439 non-null  float64\n",
            " 61  rougher.state.floatbank10_e_air                     19003 non-null  float64\n",
            " 62  rougher.state.floatbank10_e_level                   19439 non-null  float64\n",
            " 63  rougher.state.floatbank10_f_air                     19439 non-null  float64\n",
            " 64  rougher.state.floatbank10_f_level                   19439 non-null  float64\n",
            " 65  secondary_cleaner.output.tail_ag                    19437 non-null  float64\n",
            " 66  secondary_cleaner.output.tail_pb                    19427 non-null  float64\n",
            " 67  secondary_cleaner.output.tail_sol                   17691 non-null  float64\n",
            " 68  secondary_cleaner.output.tail_au                    19439 non-null  float64\n",
            " 69  secondary_cleaner.state.floatbank2_a_air            19219 non-null  float64\n",
            " 70  secondary_cleaner.state.floatbank2_a_level          19438 non-null  float64\n",
            " 71  secondary_cleaner.state.floatbank2_b_air            19416 non-null  float64\n",
            " 72  secondary_cleaner.state.floatbank2_b_level          19438 non-null  float64\n",
            " 73  secondary_cleaner.state.floatbank3_a_air            19426 non-null  float64\n",
            " 74  secondary_cleaner.state.floatbank3_a_level          19438 non-null  float64\n",
            " 75  secondary_cleaner.state.floatbank3_b_air            19438 non-null  float64\n",
            " 76  secondary_cleaner.state.floatbank3_b_level          19438 non-null  float64\n",
            " 77  secondary_cleaner.state.floatbank4_a_air            19433 non-null  float64\n",
            " 78  secondary_cleaner.state.floatbank4_a_level          19438 non-null  float64\n",
            " 79  secondary_cleaner.state.floatbank4_b_air            19438 non-null  float64\n",
            " 80  secondary_cleaner.state.floatbank4_b_level          19438 non-null  float64\n",
            " 81  secondary_cleaner.state.floatbank5_a_air            19438 non-null  float64\n",
            " 82  secondary_cleaner.state.floatbank5_a_level          19438 non-null  float64\n",
            " 83  secondary_cleaner.state.floatbank5_b_air            19438 non-null  float64\n",
            " 84  secondary_cleaner.state.floatbank5_b_level          19438 non-null  float64\n",
            " 85  secondary_cleaner.state.floatbank6_a_air            19437 non-null  float64\n",
            " 86  secondary_cleaner.state.floatbank6_a_level          19438 non-null  float64\n",
            "dtypes: float64(86), object(1)\n",
            "memory usage: 12.9+ MB\n",
            "None\n",
            "Кол-во дубликатов = 0\n",
            "Количество пропусков = 4481\n",
            "Уникальные пропусков = [   0    1  211  101    6   24   37  104  116  370    4   21   62    2\n",
            "    3  100   11  145   99   34    8   44  453   23  436   12 1748  220\n",
            "   13]\n",
            "\n"
          ]
        },
        {
          "data": {
            "text/html": [
              "<div>\n",
              "<style scoped>\n",
              "    .dataframe tbody tr th:only-of-type {\n",
              "        vertical-align: middle;\n",
              "    }\n",
              "\n",
              "    .dataframe tbody tr th {\n",
              "        vertical-align: top;\n",
              "    }\n",
              "\n",
              "    .dataframe thead th {\n",
              "        text-align: right;\n",
              "    }\n",
              "</style>\n",
              "<table border=\"1\" class=\"dataframe\">\n",
              "  <thead>\n",
              "    <tr style=\"text-align: right;\">\n",
              "      <th></th>\n",
              "      <th>date</th>\n",
              "      <th>primary_cleaner.input.sulfate</th>\n",
              "      <th>primary_cleaner.input.depressant</th>\n",
              "      <th>primary_cleaner.input.feed_size</th>\n",
              "      <th>primary_cleaner.input.xanthate</th>\n",
              "      <th>primary_cleaner.state.floatbank8_a_air</th>\n",
              "      <th>primary_cleaner.state.floatbank8_a_level</th>\n",
              "      <th>primary_cleaner.state.floatbank8_b_air</th>\n",
              "      <th>primary_cleaner.state.floatbank8_b_level</th>\n",
              "      <th>primary_cleaner.state.floatbank8_c_air</th>\n",
              "      <th>...</th>\n",
              "      <th>secondary_cleaner.state.floatbank4_a_air</th>\n",
              "      <th>secondary_cleaner.state.floatbank4_a_level</th>\n",
              "      <th>secondary_cleaner.state.floatbank4_b_air</th>\n",
              "      <th>secondary_cleaner.state.floatbank4_b_level</th>\n",
              "      <th>secondary_cleaner.state.floatbank5_a_air</th>\n",
              "      <th>secondary_cleaner.state.floatbank5_a_level</th>\n",
              "      <th>secondary_cleaner.state.floatbank5_b_air</th>\n",
              "      <th>secondary_cleaner.state.floatbank5_b_level</th>\n",
              "      <th>secondary_cleaner.state.floatbank6_a_air</th>\n",
              "      <th>secondary_cleaner.state.floatbank6_a_level</th>\n",
              "    </tr>\n",
              "  </thead>\n",
              "  <tbody>\n",
              "    <tr>\n",
              "      <th>0</th>\n",
              "      <td>2016-09-01 00:59:59</td>\n",
              "      <td>210.800909</td>\n",
              "      <td>14.993118</td>\n",
              "      <td>8.080000</td>\n",
              "      <td>1.005021</td>\n",
              "      <td>1398.981301</td>\n",
              "      <td>-500.225577</td>\n",
              "      <td>1399.144926</td>\n",
              "      <td>-499.919735</td>\n",
              "      <td>1400.102998</td>\n",
              "      <td>...</td>\n",
              "      <td>12.023554</td>\n",
              "      <td>-497.795834</td>\n",
              "      <td>8.016656</td>\n",
              "      <td>-501.289139</td>\n",
              "      <td>7.946562</td>\n",
              "      <td>-432.317850</td>\n",
              "      <td>4.872511</td>\n",
              "      <td>-500.037437</td>\n",
              "      <td>26.705889</td>\n",
              "      <td>-499.709414</td>\n",
              "    </tr>\n",
              "    <tr>\n",
              "      <th>1</th>\n",
              "      <td>2016-09-01 01:59:59</td>\n",
              "      <td>215.392455</td>\n",
              "      <td>14.987471</td>\n",
              "      <td>8.080000</td>\n",
              "      <td>0.990469</td>\n",
              "      <td>1398.777912</td>\n",
              "      <td>-500.057435</td>\n",
              "      <td>1398.055362</td>\n",
              "      <td>-499.778182</td>\n",
              "      <td>1396.151033</td>\n",
              "      <td>...</td>\n",
              "      <td>12.058140</td>\n",
              "      <td>-498.695773</td>\n",
              "      <td>8.130979</td>\n",
              "      <td>-499.634209</td>\n",
              "      <td>7.958270</td>\n",
              "      <td>-525.839648</td>\n",
              "      <td>4.878850</td>\n",
              "      <td>-500.162375</td>\n",
              "      <td>25.019940</td>\n",
              "      <td>-499.819438</td>\n",
              "    </tr>\n",
              "    <tr>\n",
              "      <th>2</th>\n",
              "      <td>2016-09-01 02:59:59</td>\n",
              "      <td>215.259946</td>\n",
              "      <td>12.884934</td>\n",
              "      <td>7.786667</td>\n",
              "      <td>0.996043</td>\n",
              "      <td>1398.493666</td>\n",
              "      <td>-500.868360</td>\n",
              "      <td>1398.860436</td>\n",
              "      <td>-499.764529</td>\n",
              "      <td>1398.075709</td>\n",
              "      <td>...</td>\n",
              "      <td>11.962366</td>\n",
              "      <td>-498.767484</td>\n",
              "      <td>8.096893</td>\n",
              "      <td>-500.827423</td>\n",
              "      <td>8.071056</td>\n",
              "      <td>-500.801673</td>\n",
              "      <td>4.905125</td>\n",
              "      <td>-499.828510</td>\n",
              "      <td>24.994862</td>\n",
              "      <td>-500.622559</td>\n",
              "    </tr>\n",
              "    <tr>\n",
              "      <th>3</th>\n",
              "      <td>2016-09-01 03:59:59</td>\n",
              "      <td>215.336236</td>\n",
              "      <td>12.006805</td>\n",
              "      <td>7.640000</td>\n",
              "      <td>0.863514</td>\n",
              "      <td>1399.618111</td>\n",
              "      <td>-498.863574</td>\n",
              "      <td>1397.440120</td>\n",
              "      <td>-499.211024</td>\n",
              "      <td>1400.129303</td>\n",
              "      <td>...</td>\n",
              "      <td>12.033091</td>\n",
              "      <td>-498.350935</td>\n",
              "      <td>8.074946</td>\n",
              "      <td>-499.474407</td>\n",
              "      <td>7.897085</td>\n",
              "      <td>-500.868509</td>\n",
              "      <td>4.931400</td>\n",
              "      <td>-499.963623</td>\n",
              "      <td>24.948919</td>\n",
              "      <td>-498.709987</td>\n",
              "    </tr>\n",
              "    <tr>\n",
              "      <th>4</th>\n",
              "      <td>2016-09-01 04:59:59</td>\n",
              "      <td>199.099327</td>\n",
              "      <td>10.682530</td>\n",
              "      <td>7.530000</td>\n",
              "      <td>0.805575</td>\n",
              "      <td>1401.268123</td>\n",
              "      <td>-500.808305</td>\n",
              "      <td>1398.128818</td>\n",
              "      <td>-499.504543</td>\n",
              "      <td>1402.172226</td>\n",
              "      <td>...</td>\n",
              "      <td>12.025367</td>\n",
              "      <td>-500.786497</td>\n",
              "      <td>8.054678</td>\n",
              "      <td>-500.397500</td>\n",
              "      <td>8.107890</td>\n",
              "      <td>-509.526725</td>\n",
              "      <td>4.957674</td>\n",
              "      <td>-500.360026</td>\n",
              "      <td>25.003331</td>\n",
              "      <td>-500.856333</td>\n",
              "    </tr>\n",
              "  </tbody>\n",
              "</table>\n",
              "<p>5 rows × 53 columns</p>\n",
              "</div>"
            ],
            "text/plain": [
              "                  date  primary_cleaner.input.sulfate  \\\n",
              "0  2016-09-01 00:59:59                     210.800909   \n",
              "1  2016-09-01 01:59:59                     215.392455   \n",
              "2  2016-09-01 02:59:59                     215.259946   \n",
              "3  2016-09-01 03:59:59                     215.336236   \n",
              "4  2016-09-01 04:59:59                     199.099327   \n",
              "\n",
              "   primary_cleaner.input.depressant  primary_cleaner.input.feed_size  \\\n",
              "0                         14.993118                         8.080000   \n",
              "1                         14.987471                         8.080000   \n",
              "2                         12.884934                         7.786667   \n",
              "3                         12.006805                         7.640000   \n",
              "4                         10.682530                         7.530000   \n",
              "\n",
              "   primary_cleaner.input.xanthate  primary_cleaner.state.floatbank8_a_air  \\\n",
              "0                        1.005021                             1398.981301   \n",
              "1                        0.990469                             1398.777912   \n",
              "2                        0.996043                             1398.493666   \n",
              "3                        0.863514                             1399.618111   \n",
              "4                        0.805575                             1401.268123   \n",
              "\n",
              "   primary_cleaner.state.floatbank8_a_level  \\\n",
              "0                               -500.225577   \n",
              "1                               -500.057435   \n",
              "2                               -500.868360   \n",
              "3                               -498.863574   \n",
              "4                               -500.808305   \n",
              "\n",
              "   primary_cleaner.state.floatbank8_b_air  \\\n",
              "0                             1399.144926   \n",
              "1                             1398.055362   \n",
              "2                             1398.860436   \n",
              "3                             1397.440120   \n",
              "4                             1398.128818   \n",
              "\n",
              "   primary_cleaner.state.floatbank8_b_level  \\\n",
              "0                               -499.919735   \n",
              "1                               -499.778182   \n",
              "2                               -499.764529   \n",
              "3                               -499.211024   \n",
              "4                               -499.504543   \n",
              "\n",
              "   primary_cleaner.state.floatbank8_c_air  ...  \\\n",
              "0                             1400.102998  ...   \n",
              "1                             1396.151033  ...   \n",
              "2                             1398.075709  ...   \n",
              "3                             1400.129303  ...   \n",
              "4                             1402.172226  ...   \n",
              "\n",
              "   secondary_cleaner.state.floatbank4_a_air  \\\n",
              "0                                 12.023554   \n",
              "1                                 12.058140   \n",
              "2                                 11.962366   \n",
              "3                                 12.033091   \n",
              "4                                 12.025367   \n",
              "\n",
              "   secondary_cleaner.state.floatbank4_a_level  \\\n",
              "0                                 -497.795834   \n",
              "1                                 -498.695773   \n",
              "2                                 -498.767484   \n",
              "3                                 -498.350935   \n",
              "4                                 -500.786497   \n",
              "\n",
              "   secondary_cleaner.state.floatbank4_b_air  \\\n",
              "0                                  8.016656   \n",
              "1                                  8.130979   \n",
              "2                                  8.096893   \n",
              "3                                  8.074946   \n",
              "4                                  8.054678   \n",
              "\n",
              "   secondary_cleaner.state.floatbank4_b_level  \\\n",
              "0                                 -501.289139   \n",
              "1                                 -499.634209   \n",
              "2                                 -500.827423   \n",
              "3                                 -499.474407   \n",
              "4                                 -500.397500   \n",
              "\n",
              "   secondary_cleaner.state.floatbank5_a_air  \\\n",
              "0                                  7.946562   \n",
              "1                                  7.958270   \n",
              "2                                  8.071056   \n",
              "3                                  7.897085   \n",
              "4                                  8.107890   \n",
              "\n",
              "   secondary_cleaner.state.floatbank5_a_level  \\\n",
              "0                                 -432.317850   \n",
              "1                                 -525.839648   \n",
              "2                                 -500.801673   \n",
              "3                                 -500.868509   \n",
              "4                                 -509.526725   \n",
              "\n",
              "   secondary_cleaner.state.floatbank5_b_air  \\\n",
              "0                                  4.872511   \n",
              "1                                  4.878850   \n",
              "2                                  4.905125   \n",
              "3                                  4.931400   \n",
              "4                                  4.957674   \n",
              "\n",
              "   secondary_cleaner.state.floatbank5_b_level  \\\n",
              "0                                 -500.037437   \n",
              "1                                 -500.162375   \n",
              "2                                 -499.828510   \n",
              "3                                 -499.963623   \n",
              "4                                 -500.360026   \n",
              "\n",
              "   secondary_cleaner.state.floatbank6_a_air  \\\n",
              "0                                 26.705889   \n",
              "1                                 25.019940   \n",
              "2                                 24.994862   \n",
              "3                                 24.948919   \n",
              "4                                 25.003331   \n",
              "\n",
              "   secondary_cleaner.state.floatbank6_a_level  \n",
              "0                                 -499.709414  \n",
              "1                                 -499.819438  \n",
              "2                                 -500.622559  \n",
              "3                                 -498.709987  \n",
              "4                                 -500.856333  \n",
              "\n",
              "[5 rows x 53 columns]"
            ]
          },
          "metadata": {},
          "output_type": "display_data"
        },
        {
          "name": "stdout",
          "output_type": "stream",
          "text": [
            "\n",
            "<class 'pandas.core.frame.DataFrame'>\n",
            "RangeIndex: 5290 entries, 0 to 5289\n",
            "Data columns (total 53 columns):\n",
            " #   Column                                      Non-Null Count  Dtype  \n",
            "---  ------                                      --------------  -----  \n",
            " 0   date                                        5290 non-null   object \n",
            " 1   primary_cleaner.input.sulfate               5286 non-null   float64\n",
            " 2   primary_cleaner.input.depressant            5285 non-null   float64\n",
            " 3   primary_cleaner.input.feed_size             5290 non-null   float64\n",
            " 4   primary_cleaner.input.xanthate              5286 non-null   float64\n",
            " 5   primary_cleaner.state.floatbank8_a_air      5290 non-null   float64\n",
            " 6   primary_cleaner.state.floatbank8_a_level    5290 non-null   float64\n",
            " 7   primary_cleaner.state.floatbank8_b_air      5290 non-null   float64\n",
            " 8   primary_cleaner.state.floatbank8_b_level    5290 non-null   float64\n",
            " 9   primary_cleaner.state.floatbank8_c_air      5290 non-null   float64\n",
            " 10  primary_cleaner.state.floatbank8_c_level    5290 non-null   float64\n",
            " 11  primary_cleaner.state.floatbank8_d_air      5290 non-null   float64\n",
            " 12  primary_cleaner.state.floatbank8_d_level    5290 non-null   float64\n",
            " 13  rougher.input.feed_ag                       5290 non-null   float64\n",
            " 14  rougher.input.feed_pb                       5290 non-null   float64\n",
            " 15  rougher.input.feed_rate                     5287 non-null   float64\n",
            " 16  rougher.input.feed_size                     5289 non-null   float64\n",
            " 17  rougher.input.feed_sol                      5269 non-null   float64\n",
            " 18  rougher.input.feed_au                       5290 non-null   float64\n",
            " 19  rougher.input.floatbank10_sulfate           5285 non-null   float64\n",
            " 20  rougher.input.floatbank10_xanthate          5290 non-null   float64\n",
            " 21  rougher.input.floatbank11_sulfate           5282 non-null   float64\n",
            " 22  rougher.input.floatbank11_xanthate          5265 non-null   float64\n",
            " 23  rougher.state.floatbank10_a_air             5290 non-null   float64\n",
            " 24  rougher.state.floatbank10_a_level           5290 non-null   float64\n",
            " 25  rougher.state.floatbank10_b_air             5290 non-null   float64\n",
            " 26  rougher.state.floatbank10_b_level           5290 non-null   float64\n",
            " 27  rougher.state.floatbank10_c_air             5290 non-null   float64\n",
            " 28  rougher.state.floatbank10_c_level           5290 non-null   float64\n",
            " 29  rougher.state.floatbank10_d_air             5290 non-null   float64\n",
            " 30  rougher.state.floatbank10_d_level           5290 non-null   float64\n",
            " 31  rougher.state.floatbank10_e_air             5290 non-null   float64\n",
            " 32  rougher.state.floatbank10_e_level           5290 non-null   float64\n",
            " 33  rougher.state.floatbank10_f_air             5290 non-null   float64\n",
            " 34  rougher.state.floatbank10_f_level           5290 non-null   float64\n",
            " 35  secondary_cleaner.state.floatbank2_a_air    5287 non-null   float64\n",
            " 36  secondary_cleaner.state.floatbank2_a_level  5290 non-null   float64\n",
            " 37  secondary_cleaner.state.floatbank2_b_air    5288 non-null   float64\n",
            " 38  secondary_cleaner.state.floatbank2_b_level  5290 non-null   float64\n",
            " 39  secondary_cleaner.state.floatbank3_a_air    5281 non-null   float64\n",
            " 40  secondary_cleaner.state.floatbank3_a_level  5290 non-null   float64\n",
            " 41  secondary_cleaner.state.floatbank3_b_air    5290 non-null   float64\n",
            " 42  secondary_cleaner.state.floatbank3_b_level  5290 non-null   float64\n",
            " 43  secondary_cleaner.state.floatbank4_a_air    5290 non-null   float64\n",
            " 44  secondary_cleaner.state.floatbank4_a_level  5290 non-null   float64\n",
            " 45  secondary_cleaner.state.floatbank4_b_air    5290 non-null   float64\n",
            " 46  secondary_cleaner.state.floatbank4_b_level  5290 non-null   float64\n",
            " 47  secondary_cleaner.state.floatbank5_a_air    5290 non-null   float64\n",
            " 48  secondary_cleaner.state.floatbank5_a_level  5290 non-null   float64\n",
            " 49  secondary_cleaner.state.floatbank5_b_air    5290 non-null   float64\n",
            " 50  secondary_cleaner.state.floatbank5_b_level  5290 non-null   float64\n",
            " 51  secondary_cleaner.state.floatbank6_a_air    5290 non-null   float64\n",
            " 52  secondary_cleaner.state.floatbank6_a_level  5290 non-null   float64\n",
            "dtypes: float64(52), object(1)\n",
            "memory usage: 2.1+ MB\n",
            "None\n",
            "Кол-во дубликатов = 0\n",
            "Количество пропусков = 90\n",
            "Уникальные пропусков = [ 0  4  5  3  1 21  8 25  2  9]\n",
            "\n"
          ]
        },
        {
          "data": {
            "text/html": [
              "<div>\n",
              "<style scoped>\n",
              "    .dataframe tbody tr th:only-of-type {\n",
              "        vertical-align: middle;\n",
              "    }\n",
              "\n",
              "    .dataframe tbody tr th {\n",
              "        vertical-align: top;\n",
              "    }\n",
              "\n",
              "    .dataframe thead th {\n",
              "        text-align: right;\n",
              "    }\n",
              "</style>\n",
              "<table border=\"1\" class=\"dataframe\">\n",
              "  <thead>\n",
              "    <tr style=\"text-align: right;\">\n",
              "      <th></th>\n",
              "      <th>date</th>\n",
              "      <th>final.output.concentrate_ag</th>\n",
              "      <th>final.output.concentrate_pb</th>\n",
              "      <th>final.output.concentrate_sol</th>\n",
              "      <th>final.output.concentrate_au</th>\n",
              "      <th>final.output.recovery</th>\n",
              "      <th>final.output.tail_ag</th>\n",
              "      <th>final.output.tail_pb</th>\n",
              "      <th>final.output.tail_sol</th>\n",
              "      <th>final.output.tail_au</th>\n",
              "      <th>...</th>\n",
              "      <th>secondary_cleaner.state.floatbank4_a_air</th>\n",
              "      <th>secondary_cleaner.state.floatbank4_a_level</th>\n",
              "      <th>secondary_cleaner.state.floatbank4_b_air</th>\n",
              "      <th>secondary_cleaner.state.floatbank4_b_level</th>\n",
              "      <th>secondary_cleaner.state.floatbank5_a_air</th>\n",
              "      <th>secondary_cleaner.state.floatbank5_a_level</th>\n",
              "      <th>secondary_cleaner.state.floatbank5_b_air</th>\n",
              "      <th>secondary_cleaner.state.floatbank5_b_level</th>\n",
              "      <th>secondary_cleaner.state.floatbank6_a_air</th>\n",
              "      <th>secondary_cleaner.state.floatbank6_a_level</th>\n",
              "    </tr>\n",
              "  </thead>\n",
              "  <tbody>\n",
              "    <tr>\n",
              "      <th>0</th>\n",
              "      <td>2016-01-15 00:00:00</td>\n",
              "      <td>6.055403</td>\n",
              "      <td>9.889648</td>\n",
              "      <td>5.507324</td>\n",
              "      <td>42.192020</td>\n",
              "      <td>70.541216</td>\n",
              "      <td>10.411962</td>\n",
              "      <td>0.895447</td>\n",
              "      <td>16.904297</td>\n",
              "      <td>2.143149</td>\n",
              "      <td>...</td>\n",
              "      <td>14.016835</td>\n",
              "      <td>-502.488007</td>\n",
              "      <td>12.099931</td>\n",
              "      <td>-504.715942</td>\n",
              "      <td>9.925633</td>\n",
              "      <td>-498.310211</td>\n",
              "      <td>8.079666</td>\n",
              "      <td>-500.470978</td>\n",
              "      <td>14.151341</td>\n",
              "      <td>-605.841980</td>\n",
              "    </tr>\n",
              "    <tr>\n",
              "      <th>1</th>\n",
              "      <td>2016-01-15 01:00:00</td>\n",
              "      <td>6.029369</td>\n",
              "      <td>9.968944</td>\n",
              "      <td>5.257781</td>\n",
              "      <td>42.701629</td>\n",
              "      <td>69.266198</td>\n",
              "      <td>10.462676</td>\n",
              "      <td>0.927452</td>\n",
              "      <td>16.634514</td>\n",
              "      <td>2.224930</td>\n",
              "      <td>...</td>\n",
              "      <td>13.992281</td>\n",
              "      <td>-505.503262</td>\n",
              "      <td>11.950531</td>\n",
              "      <td>-501.331529</td>\n",
              "      <td>10.039245</td>\n",
              "      <td>-500.169983</td>\n",
              "      <td>7.984757</td>\n",
              "      <td>-500.582168</td>\n",
              "      <td>13.998353</td>\n",
              "      <td>-599.787184</td>\n",
              "    </tr>\n",
              "    <tr>\n",
              "      <th>2</th>\n",
              "      <td>2016-01-15 02:00:00</td>\n",
              "      <td>6.055926</td>\n",
              "      <td>10.213995</td>\n",
              "      <td>5.383759</td>\n",
              "      <td>42.657501</td>\n",
              "      <td>68.116445</td>\n",
              "      <td>10.507046</td>\n",
              "      <td>0.953716</td>\n",
              "      <td>16.208849</td>\n",
              "      <td>2.257889</td>\n",
              "      <td>...</td>\n",
              "      <td>14.015015</td>\n",
              "      <td>-502.520901</td>\n",
              "      <td>11.912783</td>\n",
              "      <td>-501.133383</td>\n",
              "      <td>10.070913</td>\n",
              "      <td>-500.129135</td>\n",
              "      <td>8.013877</td>\n",
              "      <td>-500.517572</td>\n",
              "      <td>14.028663</td>\n",
              "      <td>-601.427363</td>\n",
              "    </tr>\n",
              "    <tr>\n",
              "      <th>3</th>\n",
              "      <td>2016-01-15 03:00:00</td>\n",
              "      <td>6.047977</td>\n",
              "      <td>9.977019</td>\n",
              "      <td>4.858634</td>\n",
              "      <td>42.689819</td>\n",
              "      <td>68.347543</td>\n",
              "      <td>10.422762</td>\n",
              "      <td>0.883763</td>\n",
              "      <td>16.532835</td>\n",
              "      <td>2.146849</td>\n",
              "      <td>...</td>\n",
              "      <td>14.036510</td>\n",
              "      <td>-500.857308</td>\n",
              "      <td>11.999550</td>\n",
              "      <td>-501.193686</td>\n",
              "      <td>9.970366</td>\n",
              "      <td>-499.201640</td>\n",
              "      <td>7.977324</td>\n",
              "      <td>-500.255908</td>\n",
              "      <td>14.005551</td>\n",
              "      <td>-599.996129</td>\n",
              "    </tr>\n",
              "    <tr>\n",
              "      <th>4</th>\n",
              "      <td>2016-01-15 04:00:00</td>\n",
              "      <td>6.148599</td>\n",
              "      <td>10.142511</td>\n",
              "      <td>4.939416</td>\n",
              "      <td>42.774141</td>\n",
              "      <td>66.927016</td>\n",
              "      <td>10.360302</td>\n",
              "      <td>0.792826</td>\n",
              "      <td>16.525686</td>\n",
              "      <td>2.055292</td>\n",
              "      <td>...</td>\n",
              "      <td>14.027298</td>\n",
              "      <td>-499.838632</td>\n",
              "      <td>11.953070</td>\n",
              "      <td>-501.053894</td>\n",
              "      <td>9.925709</td>\n",
              "      <td>-501.686727</td>\n",
              "      <td>7.894242</td>\n",
              "      <td>-500.356035</td>\n",
              "      <td>13.996647</td>\n",
              "      <td>-601.496691</td>\n",
              "    </tr>\n",
              "  </tbody>\n",
              "</table>\n",
              "<p>5 rows × 87 columns</p>\n",
              "</div>"
            ],
            "text/plain": [
              "                  date  final.output.concentrate_ag  \\\n",
              "0  2016-01-15 00:00:00                     6.055403   \n",
              "1  2016-01-15 01:00:00                     6.029369   \n",
              "2  2016-01-15 02:00:00                     6.055926   \n",
              "3  2016-01-15 03:00:00                     6.047977   \n",
              "4  2016-01-15 04:00:00                     6.148599   \n",
              "\n",
              "   final.output.concentrate_pb  final.output.concentrate_sol  \\\n",
              "0                     9.889648                      5.507324   \n",
              "1                     9.968944                      5.257781   \n",
              "2                    10.213995                      5.383759   \n",
              "3                     9.977019                      4.858634   \n",
              "4                    10.142511                      4.939416   \n",
              "\n",
              "   final.output.concentrate_au  final.output.recovery  final.output.tail_ag  \\\n",
              "0                    42.192020              70.541216             10.411962   \n",
              "1                    42.701629              69.266198             10.462676   \n",
              "2                    42.657501              68.116445             10.507046   \n",
              "3                    42.689819              68.347543             10.422762   \n",
              "4                    42.774141              66.927016             10.360302   \n",
              "\n",
              "   final.output.tail_pb  final.output.tail_sol  final.output.tail_au  ...  \\\n",
              "0              0.895447              16.904297              2.143149  ...   \n",
              "1              0.927452              16.634514              2.224930  ...   \n",
              "2              0.953716              16.208849              2.257889  ...   \n",
              "3              0.883763              16.532835              2.146849  ...   \n",
              "4              0.792826              16.525686              2.055292  ...   \n",
              "\n",
              "   secondary_cleaner.state.floatbank4_a_air  \\\n",
              "0                                 14.016835   \n",
              "1                                 13.992281   \n",
              "2                                 14.015015   \n",
              "3                                 14.036510   \n",
              "4                                 14.027298   \n",
              "\n",
              "   secondary_cleaner.state.floatbank4_a_level  \\\n",
              "0                                 -502.488007   \n",
              "1                                 -505.503262   \n",
              "2                                 -502.520901   \n",
              "3                                 -500.857308   \n",
              "4                                 -499.838632   \n",
              "\n",
              "   secondary_cleaner.state.floatbank4_b_air  \\\n",
              "0                                 12.099931   \n",
              "1                                 11.950531   \n",
              "2                                 11.912783   \n",
              "3                                 11.999550   \n",
              "4                                 11.953070   \n",
              "\n",
              "   secondary_cleaner.state.floatbank4_b_level  \\\n",
              "0                                 -504.715942   \n",
              "1                                 -501.331529   \n",
              "2                                 -501.133383   \n",
              "3                                 -501.193686   \n",
              "4                                 -501.053894   \n",
              "\n",
              "   secondary_cleaner.state.floatbank5_a_air  \\\n",
              "0                                  9.925633   \n",
              "1                                 10.039245   \n",
              "2                                 10.070913   \n",
              "3                                  9.970366   \n",
              "4                                  9.925709   \n",
              "\n",
              "   secondary_cleaner.state.floatbank5_a_level  \\\n",
              "0                                 -498.310211   \n",
              "1                                 -500.169983   \n",
              "2                                 -500.129135   \n",
              "3                                 -499.201640   \n",
              "4                                 -501.686727   \n",
              "\n",
              "   secondary_cleaner.state.floatbank5_b_air  \\\n",
              "0                                  8.079666   \n",
              "1                                  7.984757   \n",
              "2                                  8.013877   \n",
              "3                                  7.977324   \n",
              "4                                  7.894242   \n",
              "\n",
              "   secondary_cleaner.state.floatbank5_b_level  \\\n",
              "0                                 -500.470978   \n",
              "1                                 -500.582168   \n",
              "2                                 -500.517572   \n",
              "3                                 -500.255908   \n",
              "4                                 -500.356035   \n",
              "\n",
              "   secondary_cleaner.state.floatbank6_a_air  \\\n",
              "0                                 14.151341   \n",
              "1                                 13.998353   \n",
              "2                                 14.028663   \n",
              "3                                 14.005551   \n",
              "4                                 13.996647   \n",
              "\n",
              "   secondary_cleaner.state.floatbank6_a_level  \n",
              "0                                 -605.841980  \n",
              "1                                 -599.787184  \n",
              "2                                 -601.427363  \n",
              "3                                 -599.996129  \n",
              "4                                 -601.496691  \n",
              "\n",
              "[5 rows x 87 columns]"
            ]
          },
          "metadata": {},
          "output_type": "display_data"
        },
        {
          "name": "stdout",
          "output_type": "stream",
          "text": [
            "\n",
            "<class 'pandas.core.frame.DataFrame'>\n",
            "RangeIndex: 14149 entries, 0 to 14148\n",
            "Data columns (total 87 columns):\n",
            " #   Column                                              Non-Null Count  Dtype  \n",
            "---  ------                                              --------------  -----  \n",
            " 0   date                                                14149 non-null  object \n",
            " 1   final.output.concentrate_ag                         14148 non-null  float64\n",
            " 2   final.output.concentrate_pb                         14148 non-null  float64\n",
            " 3   final.output.concentrate_sol                        13938 non-null  float64\n",
            " 4   final.output.concentrate_au                         14149 non-null  float64\n",
            " 5   final.output.recovery                               14149 non-null  float64\n",
            " 6   final.output.tail_ag                                14149 non-null  float64\n",
            " 7   final.output.tail_pb                                14049 non-null  float64\n",
            " 8   final.output.tail_sol                               14144 non-null  float64\n",
            " 9   final.output.tail_au                                14149 non-null  float64\n",
            " 10  primary_cleaner.input.sulfate                       14129 non-null  float64\n",
            " 11  primary_cleaner.input.depressant                    14117 non-null  float64\n",
            " 12  primary_cleaner.input.feed_size                     14149 non-null  float64\n",
            " 13  primary_cleaner.input.xanthate                      14049 non-null  float64\n",
            " 14  primary_cleaner.output.concentrate_ag               14149 non-null  float64\n",
            " 15  primary_cleaner.output.concentrate_pb               14063 non-null  float64\n",
            " 16  primary_cleaner.output.concentrate_sol              13863 non-null  float64\n",
            " 17  primary_cleaner.output.concentrate_au               14149 non-null  float64\n",
            " 18  primary_cleaner.output.tail_ag                      14148 non-null  float64\n",
            " 19  primary_cleaner.output.tail_pb                      14134 non-null  float64\n",
            " 20  primary_cleaner.output.tail_sol                     14103 non-null  float64\n",
            " 21  primary_cleaner.output.tail_au                      14149 non-null  float64\n",
            " 22  primary_cleaner.state.floatbank8_a_air              14145 non-null  float64\n",
            " 23  primary_cleaner.state.floatbank8_a_level            14148 non-null  float64\n",
            " 24  primary_cleaner.state.floatbank8_b_air              14145 non-null  float64\n",
            " 25  primary_cleaner.state.floatbank8_b_level            14148 non-null  float64\n",
            " 26  primary_cleaner.state.floatbank8_c_air              14147 non-null  float64\n",
            " 27  primary_cleaner.state.floatbank8_c_level            14148 non-null  float64\n",
            " 28  primary_cleaner.state.floatbank8_d_air              14146 non-null  float64\n",
            " 29  primary_cleaner.state.floatbank8_d_level            14148 non-null  float64\n",
            " 30  rougher.calculation.sulfate_to_au_concentrate       14148 non-null  float64\n",
            " 31  rougher.calculation.floatbank10_sulfate_to_au_feed  14148 non-null  float64\n",
            " 32  rougher.calculation.floatbank11_sulfate_to_au_feed  14148 non-null  float64\n",
            " 33  rougher.calculation.au_pb_ratio                     14149 non-null  float64\n",
            " 34  rougher.input.feed_ag                               14149 non-null  float64\n",
            " 35  rougher.input.feed_pb                               14049 non-null  float64\n",
            " 36  rougher.input.feed_rate                             14141 non-null  float64\n",
            " 37  rougher.input.feed_size                             14005 non-null  float64\n",
            " 38  rougher.input.feed_sol                              14071 non-null  float64\n",
            " 39  rougher.input.feed_au                               14149 non-null  float64\n",
            " 40  rougher.input.floatbank10_sulfate                   14120 non-null  float64\n",
            " 41  rougher.input.floatbank10_xanthate                  14141 non-null  float64\n",
            " 42  rougher.input.floatbank11_sulfate                   14113 non-null  float64\n",
            " 43  rougher.input.floatbank11_xanthate                  13721 non-null  float64\n",
            " 44  rougher.output.concentrate_ag                       14149 non-null  float64\n",
            " 45  rougher.output.concentrate_pb                       14149 non-null  float64\n",
            " 46  rougher.output.concentrate_sol                      14127 non-null  float64\n",
            " 47  rougher.output.concentrate_au                       14149 non-null  float64\n",
            " 48  rougher.output.recovery                             14149 non-null  float64\n",
            " 49  rougher.output.tail_ag                              14148 non-null  float64\n",
            " 50  rougher.output.tail_pb                              14149 non-null  float64\n",
            " 51  rougher.output.tail_sol                             14149 non-null  float64\n",
            " 52  rougher.output.tail_au                              14149 non-null  float64\n",
            " 53  rougher.state.floatbank10_a_air                     14148 non-null  float64\n",
            " 54  rougher.state.floatbank10_a_level                   14148 non-null  float64\n",
            " 55  rougher.state.floatbank10_b_air                     14148 non-null  float64\n",
            " 56  rougher.state.floatbank10_b_level                   14148 non-null  float64\n",
            " 57  rougher.state.floatbank10_c_air                     14148 non-null  float64\n",
            " 58  rougher.state.floatbank10_c_level                   14148 non-null  float64\n",
            " 59  rougher.state.floatbank10_d_air                     14149 non-null  float64\n",
            " 60  rougher.state.floatbank10_d_level                   14149 non-null  float64\n",
            " 61  rougher.state.floatbank10_e_air                     13713 non-null  float64\n",
            " 62  rougher.state.floatbank10_e_level                   14149 non-null  float64\n",
            " 63  rougher.state.floatbank10_f_air                     14149 non-null  float64\n",
            " 64  rougher.state.floatbank10_f_level                   14149 non-null  float64\n",
            " 65  secondary_cleaner.output.tail_ag                    14147 non-null  float64\n",
            " 66  secondary_cleaner.output.tail_pb                    14139 non-null  float64\n",
            " 67  secondary_cleaner.output.tail_sol                   12544 non-null  float64\n",
            " 68  secondary_cleaner.output.tail_au                    14149 non-null  float64\n",
            " 69  secondary_cleaner.state.floatbank2_a_air            13932 non-null  float64\n",
            " 70  secondary_cleaner.state.floatbank2_a_level          14148 non-null  float64\n",
            " 71  secondary_cleaner.state.floatbank2_b_air            14128 non-null  float64\n",
            " 72  secondary_cleaner.state.floatbank2_b_level          14148 non-null  float64\n",
            " 73  secondary_cleaner.state.floatbank3_a_air            14145 non-null  float64\n",
            " 74  secondary_cleaner.state.floatbank3_a_level          14148 non-null  float64\n",
            " 75  secondary_cleaner.state.floatbank3_b_air            14148 non-null  float64\n",
            " 76  secondary_cleaner.state.floatbank3_b_level          14148 non-null  float64\n",
            " 77  secondary_cleaner.state.floatbank4_a_air            14143 non-null  float64\n",
            " 78  secondary_cleaner.state.floatbank4_a_level          14148 non-null  float64\n",
            " 79  secondary_cleaner.state.floatbank4_b_air            14148 non-null  float64\n",
            " 80  secondary_cleaner.state.floatbank4_b_level          14148 non-null  float64\n",
            " 81  secondary_cleaner.state.floatbank5_a_air            14148 non-null  float64\n",
            " 82  secondary_cleaner.state.floatbank5_a_level          14148 non-null  float64\n",
            " 83  secondary_cleaner.state.floatbank5_b_air            14148 non-null  float64\n",
            " 84  secondary_cleaner.state.floatbank5_b_level          14148 non-null  float64\n",
            " 85  secondary_cleaner.state.floatbank6_a_air            14147 non-null  float64\n",
            " 86  secondary_cleaner.state.floatbank6_a_level          14148 non-null  float64\n",
            "dtypes: float64(86), object(1)\n",
            "memory usage: 9.4+ MB\n",
            "None\n",
            "Кол-во дубликатов = 0\n",
            "Количество пропусков = 4100\n",
            "Уникальные пропусков = [   0    1  211  100    5   20   32   86  286   15   46    4    2    3\n",
            "    8  144   78   29   36  428   22  436   10 1605  217   21    6]\n",
            "\n"
          ]
        }
      ],
      "source": [
        "#смотрю описание таблиц:\n",
        "\n",
        "for df in [full, test, train]:\n",
        "    display(df.head(5))\n",
        "    print()\n",
        "    print(df.info())\n",
        "    print('Кол-во дубликатов =', df.duplicated().sum())\n",
        "    print('Количество пропусков =', df.isna().sum().sum())\n",
        "    print('Уникальные пропусков =', df.isna().sum().unique())\n",
        "    print()\n",
        ""
      ]
    },
    {
      "cell_type": "markdown",
      "metadata": {
        "id": "Wc0BrG3Yd3Sp"
      },
      "source": [
        "**Вывод:**\n",
        "\\\\\\\n",
        "**gold_recovery_full_new - Исходные данные:**\n",
        "\\\\\\\n",
        "- Файл с данными сохранен впеременную **full**\n",
        "- 87 столбцов, float64(86), object(1)\n",
        "- Range Index = 19439\n",
        "- Кол-во дубликатов = 0\n",
        "- Количество пропусков = 4481\n",
        "- Самое большое колличество пропусков в колоне  **secondary_cleaner.output.tail_sol = 1748**\n",
        "- и в колонке **rougher.input.floatbank11_xanthate = 453**, **rougher.state.floatbank10_e_air = 436**\n",
        "\n",
        "\n"
      ]
    },
    {
      "cell_type": "markdown",
      "metadata": {
        "id": "5FcfwLbdd3Sq"
      },
      "source": [
        "**gold_recovery_test_new — тестовая выборка:**\n",
        "\\\\\\\n",
        "- Файл с данными сохранен впеременную **test**\n",
        "- столбов 53, float64(52), object(1)\n",
        "- Range Index: 5290\n",
        "- Кол-во дубликатов = 0\n",
        "- Количество пропусков = 90"
      ]
    },
    {
      "cell_type": "markdown",
      "metadata": {
        "id": "vvoGncOJd3Sq"
      },
      "source": [
        "**gold_recovery_train_new — обучающая выборка:**\n",
        "\\\\\\\n",
        "- Файл с данными сохранен впеременную **train**\n",
        "- оличество столбцов 87, float64(86), object(1)\n",
        "- Range Index: 14149\n",
        "- Кол-во дубликатов = 0\n",
        "- Количество пропусков = 4100\n",
        "- Самое большое колличество пропусков в колоне  **secondary_cleaner.output.tail_sol = 1605**\n",
        "- и в колонке **rougher.input.floatbank11_xanthate = 428**, **rougher.state.floatbank10_e_air = 436**"
      ]
    },
    {
      "cell_type": "markdown",
      "metadata": {
        "id": "lEXO7jNnd3Sq"
      },
      "source": [
        "### Проверим, что эффективность обогащения рассчитана правильно. Вычислим её на обучающей выборке для признака rougher.output.recovery. Найдим MAE между нашими расчётами и значением признака. Опишем выводы."
      ]
    },
    {
      "cell_type": "markdown",
      "metadata": {
        "id": "FlHONSixd3Sq"
      },
      "source": [
        "Эффективность обогащения рассчитывается по формуле\n",
        "\\\\\\\n",
        "\\\\\\\n",
        "**Calculation_effic = ((C * (F - T)) / (F * (C - T))) * 100%**\n",
        "\\\\\\\n",
        "\\\\\\\n",
        "где:\n",
        "\\\\\\\n",
        "- C — доля золота в концентрате после флотации/очистки;\n",
        "- F — доля золота в сырье/концентрате до флотации/очистки;\n",
        "- T — доля золота в отвальных хвостах после флотации/очистки."
      ]
    },
    {
      "cell_type": "code",
      "execution_count": null,
      "metadata": {
        "id": "wiZ69ftnd3Sq"
      },
      "outputs": [],
      "source": [
        "C = train['rougher.output.concentrate_au']\n",
        "F = train['rougher.input.feed_au']\n",
        "T = train['rougher.output.tail_au']"
      ]
    },
    {
      "cell_type": "code",
      "execution_count": null,
      "metadata": {
        "id": "-wIDVOQId3Sq"
      },
      "outputs": [],
      "source": [
        "Calculation_effic = ((C * (F - T)) / (F * (C - T))) * 100"
      ]
    },
    {
      "cell_type": "code",
      "execution_count": null,
      "metadata": {
        "id": "gyXymU_1d3Sr"
      },
      "outputs": [],
      "source": [
        "training_sample = train['rougher.output.recovery']"
      ]
    },
    {
      "cell_type": "code",
      "execution_count": null,
      "metadata": {
        "scrolled": true,
        "id": "hl7EdCb4d3Sr",
        "outputId": "e094eee9-34f6-40a6-ebee-d2c1034a265b"
      },
      "outputs": [
        {
          "name": "stdout",
          "output_type": "stream",
          "text": [
            "MAE: 9.73512347450521e-15\n"
          ]
        }
      ],
      "source": [
        "print('MAE:', mean_absolute_error(training_sample, Calculation_effic))"
      ]
    },
    {
      "cell_type": "markdown",
      "metadata": {
        "id": "hsqUwbBKd3Sr"
      },
      "source": [
        "**Вывод:**\n",
        "- Среднее абсолютное отклонение = 9.735. Это хороший результата, рассчеты верны."
      ]
    },
    {
      "cell_type": "markdown",
      "metadata": {
        "id": "AZjkGhqid3Ss"
      },
      "source": [
        "### Проанализируем признаки, недоступные в тестовой выборке. Что это за параметры? К какому типу относятся?"
      ]
    },
    {
      "cell_type": "code",
      "execution_count": null,
      "metadata": {
        "scrolled": true,
        "id": "q4Q1Vgdrd3Ss",
        "outputId": "3946a635-64f5-4d3e-a3eb-766028cf914c"
      },
      "outputs": [
        {
          "data": {
            "text/html": [
              "<div>\n",
              "<style scoped>\n",
              "    .dataframe tbody tr th:only-of-type {\n",
              "        vertical-align: middle;\n",
              "    }\n",
              "\n",
              "    .dataframe tbody tr th {\n",
              "        vertical-align: top;\n",
              "    }\n",
              "\n",
              "    .dataframe thead th {\n",
              "        text-align: right;\n",
              "    }\n",
              "</style>\n",
              "<table border=\"1\" class=\"dataframe\">\n",
              "  <thead>\n",
              "    <tr style=\"text-align: right;\">\n",
              "      <th></th>\n",
              "      <th>final.output.concentrate_ag</th>\n",
              "      <th>final.output.concentrate_pb</th>\n",
              "      <th>final.output.concentrate_sol</th>\n",
              "      <th>final.output.concentrate_au</th>\n",
              "      <th>final.output.recovery</th>\n",
              "      <th>final.output.tail_ag</th>\n",
              "      <th>final.output.tail_pb</th>\n",
              "      <th>final.output.tail_sol</th>\n",
              "      <th>final.output.tail_au</th>\n",
              "      <th>primary_cleaner.output.concentrate_ag</th>\n",
              "      <th>...</th>\n",
              "      <th>rougher.output.concentrate_au</th>\n",
              "      <th>rougher.output.recovery</th>\n",
              "      <th>rougher.output.tail_ag</th>\n",
              "      <th>rougher.output.tail_pb</th>\n",
              "      <th>rougher.output.tail_sol</th>\n",
              "      <th>rougher.output.tail_au</th>\n",
              "      <th>secondary_cleaner.output.tail_ag</th>\n",
              "      <th>secondary_cleaner.output.tail_pb</th>\n",
              "      <th>secondary_cleaner.output.tail_sol</th>\n",
              "      <th>secondary_cleaner.output.tail_au</th>\n",
              "    </tr>\n",
              "  </thead>\n",
              "  <tbody>\n",
              "    <tr>\n",
              "      <th>0</th>\n",
              "      <td>6.055403</td>\n",
              "      <td>9.889648</td>\n",
              "      <td>5.507324</td>\n",
              "      <td>42.192020</td>\n",
              "      <td>70.541216</td>\n",
              "      <td>10.411962</td>\n",
              "      <td>0.895447</td>\n",
              "      <td>16.904297</td>\n",
              "      <td>2.143149</td>\n",
              "      <td>8.547551</td>\n",
              "      <td>...</td>\n",
              "      <td>19.793808</td>\n",
              "      <td>87.107763</td>\n",
              "      <td>5.008018</td>\n",
              "      <td>0.508728</td>\n",
              "      <td>19.154297</td>\n",
              "      <td>1.170244</td>\n",
              "      <td>14.500184</td>\n",
              "      <td>4.694824</td>\n",
              "      <td>8.764648</td>\n",
              "      <td>2.606185</td>\n",
              "    </tr>\n",
              "    <tr>\n",
              "      <th>1</th>\n",
              "      <td>6.029369</td>\n",
              "      <td>9.968944</td>\n",
              "      <td>5.257781</td>\n",
              "      <td>42.701629</td>\n",
              "      <td>69.266198</td>\n",
              "      <td>10.462676</td>\n",
              "      <td>0.927452</td>\n",
              "      <td>16.634514</td>\n",
              "      <td>2.224930</td>\n",
              "      <td>8.558743</td>\n",
              "      <td>...</td>\n",
              "      <td>20.050975</td>\n",
              "      <td>86.843261</td>\n",
              "      <td>4.955378</td>\n",
              "      <td>0.536689</td>\n",
              "      <td>18.965234</td>\n",
              "      <td>1.184827</td>\n",
              "      <td>14.265474</td>\n",
              "      <td>4.592547</td>\n",
              "      <td>9.001494</td>\n",
              "      <td>2.488248</td>\n",
              "    </tr>\n",
              "    <tr>\n",
              "      <th>2</th>\n",
              "      <td>6.055926</td>\n",
              "      <td>10.213995</td>\n",
              "      <td>5.383759</td>\n",
              "      <td>42.657501</td>\n",
              "      <td>68.116445</td>\n",
              "      <td>10.507046</td>\n",
              "      <td>0.953716</td>\n",
              "      <td>16.208849</td>\n",
              "      <td>2.257889</td>\n",
              "      <td>8.603505</td>\n",
              "      <td>...</td>\n",
              "      <td>19.737170</td>\n",
              "      <td>86.842308</td>\n",
              "      <td>4.843460</td>\n",
              "      <td>0.546416</td>\n",
              "      <td>18.808533</td>\n",
              "      <td>1.162562</td>\n",
              "      <td>14.115662</td>\n",
              "      <td>4.624775</td>\n",
              "      <td>8.842896</td>\n",
              "      <td>2.458187</td>\n",
              "    </tr>\n",
              "    <tr>\n",
              "      <th>3</th>\n",
              "      <td>6.047977</td>\n",
              "      <td>9.977019</td>\n",
              "      <td>4.858634</td>\n",
              "      <td>42.689819</td>\n",
              "      <td>68.347543</td>\n",
              "      <td>10.422762</td>\n",
              "      <td>0.883763</td>\n",
              "      <td>16.532835</td>\n",
              "      <td>2.146849</td>\n",
              "      <td>7.221879</td>\n",
              "      <td>...</td>\n",
              "      <td>19.320810</td>\n",
              "      <td>87.226430</td>\n",
              "      <td>4.655288</td>\n",
              "      <td>0.542525</td>\n",
              "      <td>19.330200</td>\n",
              "      <td>1.079755</td>\n",
              "      <td>13.732071</td>\n",
              "      <td>4.482453</td>\n",
              "      <td>9.122857</td>\n",
              "      <td>2.322062</td>\n",
              "    </tr>\n",
              "    <tr>\n",
              "      <th>4</th>\n",
              "      <td>6.148599</td>\n",
              "      <td>10.142511</td>\n",
              "      <td>4.939416</td>\n",
              "      <td>42.774141</td>\n",
              "      <td>66.927016</td>\n",
              "      <td>10.360302</td>\n",
              "      <td>0.792826</td>\n",
              "      <td>16.525686</td>\n",
              "      <td>2.055292</td>\n",
              "      <td>9.089428</td>\n",
              "      <td>...</td>\n",
              "      <td>19.216101</td>\n",
              "      <td>86.688794</td>\n",
              "      <td>4.552800</td>\n",
              "      <td>0.515438</td>\n",
              "      <td>19.267422</td>\n",
              "      <td>1.012642</td>\n",
              "      <td>14.079996</td>\n",
              "      <td>4.470737</td>\n",
              "      <td>8.871028</td>\n",
              "      <td>2.330448</td>\n",
              "    </tr>\n",
              "  </tbody>\n",
              "</table>\n",
              "<p>5 rows × 34 columns</p>\n",
              "</div>"
            ],
            "text/plain": [
              "   final.output.concentrate_ag  final.output.concentrate_pb  \\\n",
              "0                     6.055403                     9.889648   \n",
              "1                     6.029369                     9.968944   \n",
              "2                     6.055926                    10.213995   \n",
              "3                     6.047977                     9.977019   \n",
              "4                     6.148599                    10.142511   \n",
              "\n",
              "   final.output.concentrate_sol  final.output.concentrate_au  \\\n",
              "0                      5.507324                    42.192020   \n",
              "1                      5.257781                    42.701629   \n",
              "2                      5.383759                    42.657501   \n",
              "3                      4.858634                    42.689819   \n",
              "4                      4.939416                    42.774141   \n",
              "\n",
              "   final.output.recovery  final.output.tail_ag  final.output.tail_pb  \\\n",
              "0              70.541216             10.411962              0.895447   \n",
              "1              69.266198             10.462676              0.927452   \n",
              "2              68.116445             10.507046              0.953716   \n",
              "3              68.347543             10.422762              0.883763   \n",
              "4              66.927016             10.360302              0.792826   \n",
              "\n",
              "   final.output.tail_sol  final.output.tail_au  \\\n",
              "0              16.904297              2.143149   \n",
              "1              16.634514              2.224930   \n",
              "2              16.208849              2.257889   \n",
              "3              16.532835              2.146849   \n",
              "4              16.525686              2.055292   \n",
              "\n",
              "   primary_cleaner.output.concentrate_ag  ...  rougher.output.concentrate_au  \\\n",
              "0                               8.547551  ...                      19.793808   \n",
              "1                               8.558743  ...                      20.050975   \n",
              "2                               8.603505  ...                      19.737170   \n",
              "3                               7.221879  ...                      19.320810   \n",
              "4                               9.089428  ...                      19.216101   \n",
              "\n",
              "   rougher.output.recovery  rougher.output.tail_ag  rougher.output.tail_pb  \\\n",
              "0                87.107763                5.008018                0.508728   \n",
              "1                86.843261                4.955378                0.536689   \n",
              "2                86.842308                4.843460                0.546416   \n",
              "3                87.226430                4.655288                0.542525   \n",
              "4                86.688794                4.552800                0.515438   \n",
              "\n",
              "   rougher.output.tail_sol  rougher.output.tail_au  \\\n",
              "0                19.154297                1.170244   \n",
              "1                18.965234                1.184827   \n",
              "2                18.808533                1.162562   \n",
              "3                19.330200                1.079755   \n",
              "4                19.267422                1.012642   \n",
              "\n",
              "   secondary_cleaner.output.tail_ag  secondary_cleaner.output.tail_pb  \\\n",
              "0                         14.500184                          4.694824   \n",
              "1                         14.265474                          4.592547   \n",
              "2                         14.115662                          4.624775   \n",
              "3                         13.732071                          4.482453   \n",
              "4                         14.079996                          4.470737   \n",
              "\n",
              "   secondary_cleaner.output.tail_sol  secondary_cleaner.output.tail_au  \n",
              "0                           8.764648                          2.606185  \n",
              "1                           9.001494                          2.488248  \n",
              "2                           8.842896                          2.458187  \n",
              "3                           9.122857                          2.322062  \n",
              "4                           8.871028                          2.330448  \n",
              "\n",
              "[5 rows x 34 columns]"
            ]
          },
          "execution_count": 8,
          "metadata": {},
          "output_type": "execute_result"
        }
      ],
      "source": [
        "#удалим колонки тестовой выборки из тренировочной\n",
        "difference_cols = train.columns.drop(test.columns)\n",
        "train[difference_cols].head()"
      ]
    },
    {
      "cell_type": "code",
      "execution_count": null,
      "metadata": {
        "id": "tw06zqrld3Ss",
        "outputId": "f1cf3736-4c5e-43e5-9657-ad40b2357d6f"
      },
      "outputs": [
        {
          "name": "stdout",
          "output_type": "stream",
          "text": [
            "(14149, 87)\n",
            "(5290, 53)\n",
            "(19439, 87)\n"
          ]
        }
      ],
      "source": [
        "##Сравним наполнение тренировочной и тестовой выборок.\n",
        "print(train.shape)\n",
        "print(test.shape)\n",
        "print(full.shape)"
      ]
    },
    {
      "cell_type": "markdown",
      "metadata": {
        "id": "_8imZmjJd3Ss"
      },
      "source": [
        "**Вывод:**\n",
        "- 34 колонки которые отсутствуют в тестовой выборке.\n",
        "- Это параметры продукта.\n",
        "- Тип float64, концентрация различных веществ на выходе после очистки, а также доля веществ в отвальных хвостах."
      ]
    },
    {
      "cell_type": "markdown",
      "metadata": {
        "id": "mxLbQiWod3St"
      },
      "source": [
        "### Проведем предобработку данных."
      ]
    },
    {
      "cell_type": "code",
      "execution_count": null,
      "metadata": {
        "id": "rKKmwxnfd3St"
      },
      "outputs": [],
      "source": [
        "#убрать из обучающей выборки ненужные признаки\n",
        "cols_to_drop = difference_cols.drop(['final.output.recovery', 'rougher.output.recovery'])\n",
        "right_cols = train.columns.drop(cols_to_drop)\n",
        "train = train[right_cols]"
      ]
    },
    {
      "cell_type": "code",
      "execution_count": null,
      "metadata": {
        "id": "c-gmMqTBd3Su"
      },
      "outputs": [],
      "source": [
        "target_features_to_join = full[['date', 'final.output.recovery', 'rougher.output.recovery']].copy()"
      ]
    },
    {
      "cell_type": "code",
      "execution_count": null,
      "metadata": {
        "id": "C_P6xgOqd3Su"
      },
      "outputs": [],
      "source": [
        "#добавить целевые признаки в тестовую выборку\n",
        "test = test.set_index('date').join(target_features_to_join.set_index('date'))"
      ]
    },
    {
      "cell_type": "code",
      "execution_count": null,
      "metadata": {
        "id": "z2KEKyHDd3Sv"
      },
      "outputs": [],
      "source": [
        "# заполним пропуски ближайшими соседями\n",
        "test.fillna(method='ffill', inplace=True)\n",
        "train.fillna(method='ffill', inplace=True)\n",
        "full.fillna(method='ffill', inplace=True)"
      ]
    },
    {
      "cell_type": "code",
      "execution_count": null,
      "metadata": {
        "id": "4LqUHteed3Sw",
        "outputId": "56dacabb-c6b4-4551-f7ae-e4cd5f7f172f"
      },
      "outputs": [
        {
          "name": "stdout",
          "output_type": "stream",
          "text": [
            "0\n",
            "0\n",
            "0\n"
          ]
        }
      ],
      "source": [
        "#количество пропусков после обработки\n",
        "print(train.isna().sum().sum())\n",
        "print(test.isna().sum().sum())\n",
        "print(full.isna().sum().sum())"
      ]
    },
    {
      "cell_type": "markdown",
      "metadata": {
        "id": "DlL4rcQAd3Sw"
      },
      "source": [
        "**Вывод:**\n",
        "- убрать из обучающей выборки ненужные признаки .\n",
        "- добавить целевые признаки в тестовую выборку.\n",
        "- заполним пропуски ближайшими соседями."
      ]
    },
    {
      "cell_type": "markdown",
      "metadata": {
        "id": "r_L7qsOPd3Sw"
      },
      "source": [
        "## Анализ данных"
      ]
    },
    {
      "cell_type": "markdown",
      "metadata": {
        "id": "ziJav6Csd3Sw"
      },
      "source": [
        "### Посмотрите, как меняется концентрация металлов (Au, Ag, Pb) на различных этапах: в сырье, в черновом концентрате, в концентрате после первой очистки и в финальном концентрате. Какие особенности имеют распределения? Опишите выводы."
      ]
    },
    {
      "cell_type": "code",
      "execution_count": null,
      "metadata": {
        "id": "mPmR4oJLd3Sw"
      },
      "outputs": [],
      "source": [
        "#подготовим датасет с необходимыми данными для золота\n",
        "au_data = (full[[\n",
        "    'rougher.input.feed_au',\n",
        "    'rougher.output.concentrate_au',\n",
        "    'primary_cleaner.output.concentrate_au',\n",
        "    'final.output.concentrate_au']].copy())"
      ]
    },
    {
      "cell_type": "code",
      "execution_count": null,
      "metadata": {
        "id": "D_W_MGV1d3Sx"
      },
      "outputs": [],
      "source": [
        "#серебра\n",
        "ag_data = (full[[\n",
        "    'rougher.input.feed_ag',\n",
        "    'rougher.output.concentrate_ag',\n",
        "    'primary_cleaner.output.concentrate_ag',\n",
        "    'final.output.concentrate_ag']].copy())"
      ]
    },
    {
      "cell_type": "code",
      "execution_count": null,
      "metadata": {
        "id": "W4awUJpod3Sx"
      },
      "outputs": [],
      "source": [
        "#свинца\n",
        "pb_data = (full[[\n",
        "    'rougher.input.feed_pb',\n",
        "    'rougher.output.concentrate_pb',\n",
        "    'primary_cleaner.output.concentrate_pb',\n",
        "    'final.output.concentrate_pb']].copy())"
      ]
    },
    {
      "cell_type": "code",
      "execution_count": null,
      "metadata": {
        "id": "1YtOm0wed3Sx"
      },
      "outputs": [],
      "source": [
        "#напишем функцию, которая будет рисовать данные всех четырех столбцов на одном графике\n",
        "def draw_hist (data, title):\n",
        "    fig, ax = plt.subplots()\n",
        "    ax.set_ylabel('Кол-во наблюдений')\n",
        "    ax.set_xlabel('Концентрация металла')\n",
        "    ax.set_title(title)\n",
        "    for col in data:\n",
        "        data[col].hist(alpha=.3)\n",
        "        ax.legend(['Исходное сырье','Флотация','Первичная очистка', 'Вторичная очистка'])"
      ]
    },
    {
      "cell_type": "code",
      "execution_count": null,
      "metadata": {
        "scrolled": false,
        "id": "nJvnBcm4d3Sx",
        "outputId": "9eee8cc9-63ef-4a44-d7db-433b2fccdd0c"
      },
      "outputs": [
        {
          "data": {
            "image/png": "[encoded data removed]",
            "text/plain": [
              "<Figure size 1000x600 with 1 Axes>"
            ]
          },
          "metadata": {},
          "output_type": "display_data"
        }
      ],
      "source": [
        "draw_hist(au_data, 'Золото')"
      ]
    },
    {
      "cell_type": "code",
      "execution_count": null,
      "metadata": {
        "id": "qijYxzm0d3Sy",
        "outputId": "6a9b7a83-7659-4dbe-9cab-d198883495fe"
      },
      "outputs": [
        {
          "data": {
            "image/png": "[encoded data removed]",
            "text/plain": [
              "<Figure size 1000x600 with 1 Axes>"
            ]
          },
          "metadata": {},
          "output_type": "display_data"
        }
      ],
      "source": [
        "draw_hist(ag_data, 'Серебро')"
      ]
    },
    {
      "cell_type": "code",
      "execution_count": null,
      "metadata": {
        "id": "ZypxrxTad3Sy",
        "outputId": "13053dac-200d-4f8c-bae7-bc68f03dbf76"
      },
      "outputs": [
        {
          "data": {
            "image/png": "[encoded data removed]",
            "text/plain": [
              "<Figure size 1000x600 with 1 Axes>"
            ]
          },
          "metadata": {},
          "output_type": "display_data"
        }
      ],
      "source": [
        "draw_hist(pb_data, 'Свинец')"
      ]
    },
    {
      "cell_type": "markdown",
      "metadata": {
        "id": "cRt4cZFTd3Sy"
      },
      "source": [
        "**Вывод:**\n",
        "- для разных металлов концентрация на различных этапах очистки отличается. Например, концентрация золота увеличивается с каждым этапом. Концентрация серебра после вторичной очистки меньше, чем в исходном сырье. А у свинца результаты первичной и вторичной очистки почти идентичны."
      ]
    },
    {
      "cell_type": "markdown",
      "metadata": {
        "id": "aG9mofCOd3Sz"
      },
      "source": [
        "**Удалим аномальные значения из тестововй выборки**"
      ]
    },
    {
      "cell_type": "code",
      "execution_count": null,
      "metadata": {
        "scrolled": true,
        "id": "UUDlKTzwd3Sz"
      },
      "outputs": [],
      "source": [
        "\n",
        "#создадим датасет с аномальными наблюдениями и удалили их\n",
        "anomaly = ['rougher.input.feed_ag', 'rougher.input.feed_pb', 'rougher.input.feed_sol', 'rougher.input.feed_au',\n",
        "           'primary_cleaner.output.concentrate_ag', 'primary_cleaner.output.concentrate_pb',\n",
        "           'primary_cleaner.output.concentrate_sol', 'primary_cleaner.output.concentrate_au', 'final.output.concentrate_ag',\n",
        "           'final.output.concentrate_pb', 'final.output.concentrate_sol', 'final.output.concentrate_au']\n",
        "for col in anomaly:\n",
        "    full = full[full[col] > 2]\n",
        "train = train[train['date'].isin(full['date'])]"
      ]
    },
    {
      "cell_type": "markdown",
      "metadata": {
        "id": "hbMKRF4Nd3Sz"
      },
      "source": [
        "### Сравните распределения размеров гранул исходного сырья на обучающей и тестовой выборках. Если распределения сильно отличаются друг от друга, оценка модели будет неправильной."
      ]
    },
    {
      "cell_type": "code",
      "execution_count": null,
      "metadata": {
        "id": "nR1JQbKLd3S0",
        "outputId": "794670f4-79f7-44fb-ab3f-0d7c5a0cb3af"
      },
      "outputs": [
        {
          "data": {
            "image/png": "[encoded data removed]",
            "text/plain": [
              "<Figure size 1000x600 with 1 Axes>"
            ]
          },
          "metadata": {},
          "output_type": "display_data"
        }
      ],
      "source": [
        "train['rougher.input.feed_size'].hist(bins=30).set(\n",
        "                      title='Распределение размеров гранул на обучающей выборке',\n",
        "                      xlabel='распределения размеров гранул', ylabel='частота значений');\n",
        "plt.show()"
      ]
    },
    {
      "cell_type": "code",
      "execution_count": null,
      "metadata": {
        "id": "r11QfSe5d3S1",
        "outputId": "04412f4b-8e53-480f-8efa-9688decc413d"
      },
      "outputs": [
        {
          "data": {
            "image/png": "[encoded data removed]",
            "text/plain": [
              "<Figure size 1000x600 with 1 Axes>"
            ]
          },
          "metadata": {},
          "output_type": "display_data"
        }
      ],
      "source": [
        "test['rougher.input.feed_size'].hist(bins=30).set(\n",
        "                      title='Распределение размеров гранул на тестовой выборке',\n",
        "                      xlabel='распределения размеров гранул', ylabel='частота значений');\n",
        "plt.show()"
      ]
    },
    {
      "cell_type": "code",
      "execution_count": null,
      "metadata": {
        "id": "O2Op2P1Hd3S1"
      },
      "outputs": [],
      "source": [
        "#train['primary_cleaner.input.feed_size'].hist(bins=20, range=(0, 15))\n",
        "plt.show()"
      ]
    },
    {
      "cell_type": "code",
      "execution_count": null,
      "metadata": {
        "id": "nlMmMICfd3S1"
      },
      "outputs": [],
      "source": [
        "#test['primary_cleaner.input.feed_size'].hist(bins=20, range=(0, 15))\n",
        "plt.show()"
      ]
    },
    {
      "cell_type": "markdown",
      "metadata": {
        "id": "u6NgcjGcd3S2"
      },
      "source": [
        "**Вывод:**\n",
        "- Для обоих параметров распределения не сильно отличаются друг от друга, оценка модели правильная."
      ]
    },
    {
      "cell_type": "code",
      "execution_count": null,
      "metadata": {
        "scrolled": false,
        "id": "4YvS4IG4d3S2",
        "outputId": "47d027d1-e693-4ad7-ed22-7860190ef2f6"
      },
      "outputs": [
        {
          "data": {
            "image/png": "[encoded data removed]",
            "text/plain": [
              "<Figure size 1000x600 with 1 Axes>"
            ]
          },
          "metadata": {},
          "output_type": "display_data"
        }
      ],
      "source": [
        "sns.kdeplot(test['rougher.input.feed_size'])\n",
        "sns.kdeplot(train['rougher.input.feed_size'])\n",
        "plt.title('Распределене размеров гранул')\n",
        "plt.xlabel('Размер гранул')\n",
        "plt.ylabel('Плотность распределения')\n",
        "plt.legend(title='Выборки', labels=['test', 'train'])\n",
        "plt.show()"
      ]
    },
    {
      "cell_type": "markdown",
      "metadata": {
        "id": "Cv-BJKcbd3S3"
      },
      "source": [
        "**Вывод:**\n",
        "- На графике видно, что тестовая выборка имеет большие значения, чем тренировачная. Но различия не критичны по этому оценку модели примем как правильную."
      ]
    },
    {
      "cell_type": "markdown",
      "metadata": {
        "id": "4tG7n3Qud3S3"
      },
      "source": [
        "### Исследуйте суммарную концентрацию металлов на разных стадиях: в сырье, в черновом концентрате, в концентрате после первой очистки и в финальном концентрате."
      ]
    },
    {
      "cell_type": "code",
      "execution_count": null,
      "metadata": {
        "id": "hjeWnNVmd3S3"
      },
      "outputs": [],
      "source": [
        "#создадим новый датасет с данныим о концентрации веществ и просуммируем их концентрацию на разных стадиях\n",
        "concentrate_data = full[['date','rougher.input.feed_ag', 'rougher.input.feed_pb', 'rougher.input.feed_sol', 'rougher.input.feed_au', 'rougher.output.tail_ag', 'rougher.output.tail_pb', 'rougher.output.tail_sol', 'rougher.output.tail_au', 'primary_cleaner.output.concentrate_ag', 'primary_cleaner.output.concentrate_pb', 'primary_cleaner.output.concentrate_sol', 'primary_cleaner.output.concentrate_au', 'final.output.concentrate_ag', 'final.output.concentrate_pb', 'final.output.concentrate_sol', 'final.output.concentrate_au']].copy()\n",
        "concentrate_data['conc_sum_rougher'] = concentrate_data['rougher.input.feed_ag'] + concentrate_data['rougher.input.feed_pb'] + concentrate_data['rougher.input.feed_sol'] + concentrate_data['rougher.input.feed_au']\n",
        "concentrate_data['conc_sum_primary'] = concentrate_data['primary_cleaner.output.concentrate_ag'] + concentrate_data['primary_cleaner.output.concentrate_pb'] + concentrate_data['primary_cleaner.output.concentrate_sol'] + concentrate_data['primary_cleaner.output.concentrate_au']\n",
        "concentrate_data['conc_sum_final'] = concentrate_data['final.output.concentrate_ag'] + concentrate_data['final.output.concentrate_pb']\n",
        "concentrate_data['rougher_output_concentrate'] = concentrate_data['rougher.output.tail_ag'] + concentrate_data['rougher.output.tail_pb'] + concentrate_data['rougher.output.tail_sol'] + concentrate_data['rougher.output.tail_au']"
      ]
    },
    {
      "cell_type": "code",
      "execution_count": null,
      "metadata": {
        "id": "3V3b4e5sd3S3",
        "outputId": "4a7c22f7-3bdf-4527-a0c7-36d8a7632b9e"
      },
      "outputs": [
        {
          "data": {
            "image/png": "[encoded data removed]",
            "text/plain": [
              "<Figure size 1000x600 with 1 Axes>"
            ]
          },
          "metadata": {},
          "output_type": "display_data"
        }
      ],
      "source": [
        "#построим гистограммы для суммарных концентраций веществ\n",
        "concentrate_data['conc_sum_rougher'].hist(alpha=.3)\n",
        "concentrate_data['conc_sum_primary'].hist(alpha=.3)\n",
        "concentrate_data['conc_sum_final'].hist(alpha=.3)\n",
        "concentrate_data['rougher_output_concentrate'].hist(alpha=.3)\n",
        "plt.xlabel('Суммарная концентрация')\n",
        "plt.ylabel('Частота')\n",
        "plt.title('Распределение суммарной концентрации')\n",
        "plt.show()"
      ]
    },
    {
      "cell_type": "markdown",
      "metadata": {
        "id": "ofAy4pa2d3S3"
      },
      "source": [
        "**Вывод:**\n",
        "- суммарная концентрацию металлов в сырье выше чем, в концентрате после первой очистки и в финальном концентрате. При этом в финальном концентрате суммарную концентрация металлов выше, чем концентрате после первой очистки."
      ]
    },
    {
      "cell_type": "markdown",
      "metadata": {
        "id": "VFF6ZlGdd3S4"
      },
      "source": [
        "## Модель"
      ]
    },
    {
      "cell_type": "markdown",
      "metadata": {
        "id": "HbHE9Q1ld3S4"
      },
      "source": [
        "### Напишем функцию для вычисления итоговой sMAPE."
      ]
    },
    {
      "cell_type": "code",
      "execution_count": null,
      "metadata": {
        "id": "ssCmevdDd3S4"
      },
      "outputs": [],
      "source": [
        "def smape (target, predictions):\n",
        "    return 100/len(target) * np.sum(2 * np.abs(predictions - target) / (np.abs(target) + np.abs(predictions)))"
      ]
    },
    {
      "cell_type": "code",
      "execution_count": null,
      "metadata": {
        "id": "GJnGpL_ed3S4"
      },
      "outputs": [],
      "source": [
        "def final_smape (rougher, final):\n",
        "    return 0.25 * rougher + 0.75 * final"
      ]
    },
    {
      "cell_type": "markdown",
      "metadata": {
        "id": "R70Wue6Ud3S5"
      },
      "source": [
        "**Вывод:**\n",
        "- Написали функцию для рассчета метрики качества модели - sMAPE (Symmetric Mean Absolute Percentage Error).\n",
        "- Написали функцию для рассчета итогового sMAPE."
      ]
    },
    {
      "cell_type": "markdown",
      "metadata": {
        "id": "RloiH7lCd3S5"
      },
      "source": [
        "### Обучим разные модели и оцените их качество кросс-валидацией. Выберим лучшую модель и проверьте её на тестовой выборке. Опишим выводы."
      ]
    },
    {
      "cell_type": "code",
      "execution_count": null,
      "metadata": {
        "id": "05fTWZ4Hd3S5"
      },
      "outputs": [],
      "source": [
        "#Подготовим features и target для обучающей выборки.\n",
        "target_rougher = train['rougher.output.recovery']\n",
        "target_final = train['final.output.recovery']\n",
        "\n",
        "features_train = train.drop(['date', 'final.output.recovery', 'rougher.output.recovery'], axis='columns')"
      ]
    },
    {
      "cell_type": "code",
      "execution_count": null,
      "metadata": {
        "id": "iyCXz4XFd3S5"
      },
      "outputs": [],
      "source": [
        "#Масштабируем признаки.\n",
        "scaler = StandardScaler()\n",
        "scaler.fit(features_train)\n",
        "features_train = scaler.transform(features_train)"
      ]
    },
    {
      "cell_type": "markdown",
      "metadata": {
        "id": "o7cBwJJId3S6"
      },
      "source": [
        "Проверим несколько моделей методом кросс-валидации и выберем лучший результат."
      ]
    },
    {
      "cell_type": "code",
      "execution_count": null,
      "metadata": {
        "scrolled": true,
        "id": "KG9p6kbpd3S6",
        "outputId": "6630a516-ecee-4db0-abb3-a6bef068a3b3"
      },
      "outputs": [
        {
          "name": "stdout",
          "output_type": "stream",
          "text": [
            "rougher sMAPE: 13.206010426360342\n",
            "final sMAPE: 9.500125002077818\n",
            "total sMAPE: 10.42659635814845\n",
            "CPU times: user 1.24 s, sys: 3.82 ms, total: 1.24 s\n",
            "Wall time: 1.24 s\n"
          ]
        }
      ],
      "source": [
        "%%time\n",
        "model_dtr = DecisionTreeRegressor(random_state=12345, max_depth=3, min_samples_split=5)\n",
        "scorer = make_scorer(smape, greater_is_better=False)\n",
        "\n",
        "cross_val_rougher = cross_val_score(model_dtr, features_train, target_rougher, scoring=scorer, cv=5).mean()\n",
        "cross_val_final = cross_val_score(model_dtr, features_train, target_final, scoring=scorer, cv=5).mean()\n",
        "\n",
        "print('rougher sMAPE:', - cross_val_rougher)\n",
        "print('final sMAPE:', - cross_val_final)\n",
        "print('total sMAPE:', final_smape(- cross_val_rougher, - cross_val_final))"
      ]
    },
    {
      "cell_type": "code",
      "execution_count": null,
      "metadata": {
        "id": "mxiU73SWd3S7",
        "outputId": "e08e30db-f84a-4fff-8286-b8b3f927949c"
      },
      "outputs": [
        {
          "name": "stdout",
          "output_type": "stream",
          "text": [
            "rougher sMAPE: 12.72869491990929\n",
            "final sMAPE: 9.91308977423039\n",
            "total sMAPE: 10.616991060650115\n",
            "CPU times: user 391 ms, sys: 12.1 ms, total: 403 ms\n",
            "Wall time: 116 ms\n"
          ]
        }
      ],
      "source": [
        "%%time\n",
        "model_lr = LinearRegression()\n",
        "\n",
        "cross_val_rougher = cross_val_score(model_lr, features_train, target_rougher, scoring=scorer, cv=5).mean()\n",
        "cross_val_final = cross_val_score(model_lr, features_train, target_final, scoring=scorer, cv=5).mean()\n",
        "\n",
        "print('rougher sMAPE:', - cross_val_rougher)\n",
        "print('final sMAPE:', - cross_val_final)\n",
        "print('total sMAPE:', final_smape(- cross_val_rougher, - cross_val_final))"
      ]
    },
    {
      "cell_type": "code",
      "execution_count": null,
      "metadata": {
        "id": "I4ug9gn0d3S7",
        "outputId": "41cc7e5d-f2da-4792-94d5-cc93012dae95"
      },
      "outputs": [
        {
          "name": "stdout",
          "output_type": "stream",
          "text": [
            "rougher sMAPE: 11.659138794379976\n",
            "final sMAPE: 8.773250975173017\n",
            "total sMAPE: 9.494722929974756\n",
            "CPU times: user 8.04 s, sys: 30.4 ms, total: 8.07 s\n",
            "Wall time: 7.58 s\n"
          ]
        }
      ],
      "source": [
        "%%time\n",
        "model_rf = RandomForestRegressor(random_state=12345, n_estimators=10, max_depth=3)\n",
        "\n",
        "\n",
        "cross_val_rougher = cross_val_score(model_rf, features_train, target_rougher, scoring=scorer, cv=5).mean()\n",
        "cross_val_final = cross_val_score(model_rf, features_train, target_final, scoring=scorer, cv=5).mean()\n",
        "\n",
        "print('rougher sMAPE:', - cross_val_rougher)\n",
        "print('final sMAPE:', - cross_val_final)\n",
        "print('total sMAPE:', final_smape(- cross_val_rougher, - cross_val_final))"
      ]
    },
    {
      "cell_type": "code",
      "execution_count": null,
      "metadata": {
        "scrolled": true,
        "id": "yjKxQWEHd3S8",
        "outputId": "9e2ce5a3-9986-42d4-b685-b0e77da852dd"
      },
      "outputs": [
        {
          "name": "stdout",
          "output_type": "stream",
          "text": [
            "0:\tlearn: 13.0723029\ttotal: 54.1ms\tremaining: 54.1ms\n",
            "1:\tlearn: 11.8996949\ttotal: 55.9ms\tremaining: 0us\n",
            "0:\tlearn: 13.4904790\ttotal: 1.67ms\tremaining: 1.67ms\n",
            "1:\tlearn: 12.6733974\ttotal: 3ms\tremaining: 0us\n",
            "0:\tlearn: 11.8878914\ttotal: 1.52ms\tremaining: 1.52ms\n",
            "1:\tlearn: 11.4513362\ttotal: 3.11ms\tremaining: 0us\n",
            "0:\tlearn: 10.3929553\ttotal: 1.46ms\tremaining: 1.46ms\n",
            "1:\tlearn: 9.9646679\ttotal: 3ms\tremaining: 0us\n",
            "0:\tlearn: 13.7342868\ttotal: 1.49ms\tremaining: 1.49ms\n",
            "1:\tlearn: 12.5989443\ttotal: 3.16ms\tremaining: 0us\n",
            "0:\tlearn: 7.6070408\ttotal: 1.53ms\tremaining: 1.53ms\n",
            "1:\tlearn: 7.1579172\ttotal: 3.19ms\tremaining: 0us\n",
            "0:\tlearn: 7.7228818\ttotal: 1.53ms\tremaining: 1.53ms\n",
            "1:\tlearn: 7.3708399\ttotal: 2.93ms\tremaining: 0us\n",
            "0:\tlearn: 7.3947970\ttotal: 2.12ms\tremaining: 2.12ms\n",
            "1:\tlearn: 6.9236667\ttotal: 3.77ms\tremaining: 0us\n",
            "0:\tlearn: 7.2637408\ttotal: 1.48ms\tremaining: 1.48ms\n",
            "1:\tlearn: 7.0619782\ttotal: 3.06ms\tremaining: 0us\n",
            "0:\tlearn: 7.4879778\ttotal: 1.56ms\tremaining: 1.56ms\n",
            "1:\tlearn: 7.1495882\ttotal: 3.22ms\tremaining: 0us\n",
            "rougher sMAPE: 12.264727582458196\n",
            "final sMAPE: 8.87431805947281\n",
            "total sMAPE: 9.721920440219156\n",
            "CPU times: user 2.05 s, sys: 38.3 ms, total: 2.09 s\n",
            "Wall time: 1.7 s\n"
          ]
        }
      ],
      "source": [
        "%%time\n",
        "model_cb = CatBoostRegressor(iterations=2, learning_rate=1, depth=3)\n",
        "\n",
        "cross_val_rougher = cross_val_score(model_cb, features_train, target_rougher, scoring=scorer, cv=5).mean()\n",
        "cross_val_final = cross_val_score(model_cb, features_train, target_final, scoring=scorer, cv=5).mean()\n",
        "\n",
        "\n",
        "print('rougher sMAPE:', - cross_val_rougher)\n",
        "print('final sMAPE:', - cross_val_final)\n",
        "print('total sMAPE:', final_smape(- cross_val_rougher, - cross_val_final))"
      ]
    },
    {
      "cell_type": "code",
      "execution_count": null,
      "metadata": {
        "id": "6iFkEtR-d3S9"
      },
      "outputs": [],
      "source": [
        "clf = RandomForestRegressor(random_state=12345, n_jobs=-1)"
      ]
    },
    {
      "cell_type": "code",
      "execution_count": null,
      "metadata": {
        "id": "W6wnzz54d3S9"
      },
      "outputs": [],
      "source": [
        "parametrs = { 'n_estimators': range (10, 100, 10),\n",
        "              'max_depth': range (1, 7, 2)}"
      ]
    },
    {
      "cell_type": "code",
      "execution_count": null,
      "metadata": {
        "scrolled": true,
        "id": "zsDXsk3ed3S-",
        "outputId": "15994dae-8907-4c39-b6b1-8ae386031c3d"
      },
      "outputs": [
        {
          "name": "stdout",
          "output_type": "stream",
          "text": [
            "Fitting 5 folds for each of 27 candidates, totalling 135 fits\n",
            "[CV 1/5; 1/27] START max_depth=1, n_estimators=10...............................\n",
            "[CV 1/5; 1/27] END max_depth=1, n_estimators=10;, score=-10.670 total time=   6.9s\n",
            "[CV 2/5; 1/27] START max_depth=1, n_estimators=10...............................\n",
            "[CV 2/5; 1/27] END max_depth=1, n_estimators=10;, score=-8.147 total time=   0.3s\n",
            "[CV 3/5; 1/27] START max_depth=1, n_estimators=10...............................\n",
            "[CV 3/5; 1/27] END max_depth=1, n_estimators=10;, score=-15.228 total time=   0.3s\n",
            "[CV 4/5; 1/27] START max_depth=1, n_estimators=10...............................\n",
            "[CV 4/5; 1/27] END max_depth=1, n_estimators=10;, score=-18.712 total time=   0.4s\n",
            "[CV 5/5; 1/27] START max_depth=1, n_estimators=10...............................\n",
            "[CV 5/5; 1/27] END max_depth=1, n_estimators=10;, score=-9.915 total time=   0.3s\n",
            "[CV 1/5; 2/27] START max_depth=1, n_estimators=20...............................\n",
            "[CV 1/5; 2/27] END max_depth=1, n_estimators=20;, score=-10.672 total time=   0.9s\n",
            "[CV 2/5; 2/27] START max_depth=1, n_estimators=20...............................\n",
            "[CV 2/5; 2/27] END max_depth=1, n_estimators=20;, score=-8.146 total time=   0.7s\n",
            "[CV 3/5; 2/27] START max_depth=1, n_estimators=20...............................\n",
            "[CV 3/5; 2/27] END max_depth=1, n_estimators=20;, score=-15.226 total time=   0.8s\n",
            "[CV 4/5; 2/27] START max_depth=1, n_estimators=20...............................\n",
            "[CV 4/5; 2/27] END max_depth=1, n_estimators=20;, score=-18.606 total time=   0.4s\n",
            "[CV 5/5; 2/27] START max_depth=1, n_estimators=20...............................\n",
            "[CV 5/5; 2/27] END max_depth=1, n_estimators=20;, score=-9.933 total time=   0.4s\n",
            "[CV 1/5; 3/27] START max_depth=1, n_estimators=30...............................\n",
            "[CV 1/5; 3/27] END max_depth=1, n_estimators=30;, score=-10.660 total time=   0.5s\n",
            "[CV 2/5; 3/27] START max_depth=1, n_estimators=30...............................\n",
            "[CV 2/5; 3/27] END max_depth=1, n_estimators=30;, score=-8.147 total time=   0.6s\n",
            "[CV 3/5; 3/27] START max_depth=1, n_estimators=30...............................\n",
            "[CV 3/5; 3/27] END max_depth=1, n_estimators=30;, score=-15.235 total time=   0.5s\n",
            "[CV 4/5; 3/27] START max_depth=1, n_estimators=30...............................\n",
            "[CV 4/5; 3/27] END max_depth=1, n_estimators=30;, score=-18.650 total time=   0.5s\n",
            "[CV 5/5; 3/27] START max_depth=1, n_estimators=30...............................\n",
            "[CV 5/5; 3/27] END max_depth=1, n_estimators=30;, score=-9.879 total time=   0.6s\n",
            "[CV 1/5; 4/27] START max_depth=1, n_estimators=40...............................\n",
            "[CV 1/5; 4/27] END max_depth=1, n_estimators=40;, score=-10.643 total time=   0.6s\n",
            "[CV 2/5; 4/27] START max_depth=1, n_estimators=40...............................\n",
            "[CV 2/5; 4/27] END max_depth=1, n_estimators=40;, score=-8.154 total time=   0.6s\n",
            "[CV 3/5; 4/27] START max_depth=1, n_estimators=40...............................\n",
            "[CV 3/5; 4/27] END max_depth=1, n_estimators=40;, score=-15.236 total time=   0.6s\n",
            "[CV 4/5; 4/27] START max_depth=1, n_estimators=40...............................\n",
            "[CV 4/5; 4/27] END max_depth=1, n_estimators=40;, score=-18.645 total time=   0.8s\n",
            "[CV 5/5; 4/27] START max_depth=1, n_estimators=40...............................\n",
            "[CV 5/5; 4/27] END max_depth=1, n_estimators=40;, score=-9.872 total time=   0.7s\n",
            "[CV 1/5; 5/27] START max_depth=1, n_estimators=50...............................\n",
            "[CV 1/5; 5/27] END max_depth=1, n_estimators=50;, score=-10.640 total time=   0.9s\n",
            "[CV 2/5; 5/27] START max_depth=1, n_estimators=50...............................\n",
            "[CV 2/5; 5/27] END max_depth=1, n_estimators=50;, score=-8.137 total time=   0.8s\n",
            "[CV 3/5; 5/27] START max_depth=1, n_estimators=50...............................\n",
            "[CV 3/5; 5/27] END max_depth=1, n_estimators=50;, score=-15.234 total time=   0.9s\n",
            "[CV 4/5; 5/27] START max_depth=1, n_estimators=50...............................\n",
            "[CV 4/5; 5/27] END max_depth=1, n_estimators=50;, score=-18.641 total time=   0.8s\n",
            "[CV 5/5; 5/27] START max_depth=1, n_estimators=50...............................\n",
            "[CV 5/5; 5/27] END max_depth=1, n_estimators=50;, score=-9.863 total time=   0.7s\n",
            "[CV 1/5; 6/27] START max_depth=1, n_estimators=60...............................\n",
            "[CV 1/5; 6/27] END max_depth=1, n_estimators=60;, score=-10.640 total time=   0.8s\n",
            "[CV 2/5; 6/27] START max_depth=1, n_estimators=60...............................\n",
            "[CV 2/5; 6/27] END max_depth=1, n_estimators=60;, score=-8.142 total time=   0.9s\n",
            "[CV 3/5; 6/27] START max_depth=1, n_estimators=60...............................\n",
            "[CV 3/5; 6/27] END max_depth=1, n_estimators=60;, score=-15.231 total time=   0.8s\n",
            "[CV 4/5; 6/27] START max_depth=1, n_estimators=60...............................\n",
            "[CV 4/5; 6/27] END max_depth=1, n_estimators=60;, score=-18.628 total time=   0.8s\n",
            "[CV 5/5; 6/27] START max_depth=1, n_estimators=60...............................\n",
            "[CV 5/5; 6/27] END max_depth=1, n_estimators=60;, score=-9.855 total time=   1.2s\n",
            "[CV 1/5; 7/27] START max_depth=1, n_estimators=70...............................\n",
            "[CV 1/5; 7/27] END max_depth=1, n_estimators=70;, score=-10.637 total time=   1.4s\n",
            "[CV 2/5; 7/27] START max_depth=1, n_estimators=70...............................\n",
            "[CV 2/5; 7/27] END max_depth=1, n_estimators=70;, score=-8.145 total time=   1.0s\n",
            "[CV 3/5; 7/27] START max_depth=1, n_estimators=70...............................\n",
            "[CV 3/5; 7/27] END max_depth=1, n_estimators=70;, score=-15.229 total time=   1.1s\n",
            "[CV 4/5; 7/27] START max_depth=1, n_estimators=70...............................\n",
            "[CV 4/5; 7/27] END max_depth=1, n_estimators=70;, score=-18.627 total time=   1.1s\n",
            "[CV 5/5; 7/27] START max_depth=1, n_estimators=70...............................\n",
            "[CV 5/5; 7/27] END max_depth=1, n_estimators=70;, score=-9.862 total time=   1.0s\n",
            "[CV 1/5; 8/27] START max_depth=1, n_estimators=80...............................\n",
            "[CV 1/5; 8/27] END max_depth=1, n_estimators=80;, score=-10.639 total time=   1.2s\n",
            "[CV 2/5; 8/27] START max_depth=1, n_estimators=80...............................\n",
            "[CV 2/5; 8/27] END max_depth=1, n_estimators=80;, score=-8.145 total time=   1.1s\n",
            "[CV 3/5; 8/27] START max_depth=1, n_estimators=80...............................\n",
            "[CV 3/5; 8/27] END max_depth=1, n_estimators=80;, score=-15.227 total time=   0.9s\n",
            "[CV 4/5; 8/27] START max_depth=1, n_estimators=80...............................\n",
            "[CV 4/5; 8/27] END max_depth=1, n_estimators=80;, score=-18.636 total time=   1.2s\n",
            "[CV 5/5; 8/27] START max_depth=1, n_estimators=80...............................\n",
            "[CV 5/5; 8/27] END max_depth=1, n_estimators=80;, score=-9.857 total time=   1.1s\n",
            "[CV 1/5; 9/27] START max_depth=1, n_estimators=90...............................\n",
            "[CV 1/5; 9/27] END max_depth=1, n_estimators=90;, score=-10.636 total time=   1.3s\n",
            "[CV 2/5; 9/27] START max_depth=1, n_estimators=90...............................\n",
            "[CV 2/5; 9/27] END max_depth=1, n_estimators=90;, score=-8.147 total time=   1.3s\n",
            "[CV 3/5; 9/27] START max_depth=1, n_estimators=90...............................\n",
            "[CV 3/5; 9/27] END max_depth=1, n_estimators=90;, score=-15.227 total time=   2.0s\n",
            "[CV 4/5; 9/27] START max_depth=1, n_estimators=90...............................\n",
            "[CV 4/5; 9/27] END max_depth=1, n_estimators=90;, score=-18.621 total time=   1.1s\n",
            "[CV 5/5; 9/27] START max_depth=1, n_estimators=90...............................\n",
            "[CV 5/5; 9/27] END max_depth=1, n_estimators=90;, score=-9.845 total time=   1.4s\n",
            "[CV 1/5; 10/27] START max_depth=3, n_estimators=10..............................\n",
            "[CV 1/5; 10/27] END max_depth=3, n_estimators=10;, score=-10.895 total time=   0.7s\n",
            "[CV 2/5; 10/27] START max_depth=3, n_estimators=10..............................\n",
            "[CV 2/5; 10/27] END max_depth=3, n_estimators=10;, score=-7.221 total time=   0.5s\n",
            "[CV 3/5; 10/27] START max_depth=3, n_estimators=10..............................\n",
            "[CV 3/5; 10/27] END max_depth=3, n_estimators=10;, score=-14.836 total time=   0.6s\n",
            "[CV 4/5; 10/27] START max_depth=3, n_estimators=10..............................\n",
            "[CV 4/5; 10/27] END max_depth=3, n_estimators=10;, score=-16.239 total time=   0.6s\n",
            "[CV 5/5; 10/27] START max_depth=3, n_estimators=10..............................\n",
            "[CV 5/5; 10/27] END max_depth=3, n_estimators=10;, score=-9.105 total time=   0.7s\n",
            "[CV 1/5; 11/27] START max_depth=3, n_estimators=20..............................\n",
            "[CV 1/5; 11/27] END max_depth=3, n_estimators=20;, score=-11.255 total time=   1.0s\n",
            "[CV 2/5; 11/27] START max_depth=3, n_estimators=20..............................\n",
            "[CV 2/5; 11/27] END max_depth=3, n_estimators=20;, score=-7.448 total time=   1.0s\n",
            "[CV 3/5; 11/27] START max_depth=3, n_estimators=20..............................\n",
            "[CV 3/5; 11/27] END max_depth=3, n_estimators=20;, score=-14.490 total time=   0.9s\n",
            "[CV 4/5; 11/27] START max_depth=3, n_estimators=20..............................\n",
            "[CV 4/5; 11/27] END max_depth=3, n_estimators=20;, score=-16.337 total time=   0.8s\n",
            "[CV 5/5; 11/27] START max_depth=3, n_estimators=20..............................\n",
            "[CV 5/5; 11/27] END max_depth=3, n_estimators=20;, score=-9.162 total time=   0.8s\n",
            "[CV 1/5; 12/27] START max_depth=3, n_estimators=30..............................\n",
            "[CV 1/5; 12/27] END max_depth=3, n_estimators=30;, score=-11.249 total time=   1.2s\n",
            "[CV 2/5; 12/27] START max_depth=3, n_estimators=30..............................\n",
            "[CV 2/5; 12/27] END max_depth=3, n_estimators=30;, score=-7.551 total time=   1.2s\n",
            "[CV 3/5; 12/27] START max_depth=3, n_estimators=30..............................\n",
            "[CV 3/5; 12/27] END max_depth=3, n_estimators=30;, score=-14.190 total time=   1.2s\n",
            "[CV 4/5; 12/27] START max_depth=3, n_estimators=30..............................\n",
            "[CV 4/5; 12/27] END max_depth=3, n_estimators=30;, score=-16.230 total time=   1.1s\n",
            "[CV 5/5; 12/27] START max_depth=3, n_estimators=30..............................\n",
            "[CV 5/5; 12/27] END max_depth=3, n_estimators=30;, score=-9.165 total time=   1.2s\n",
            "[CV 1/5; 13/27] START max_depth=3, n_estimators=40..............................\n",
            "[CV 1/5; 13/27] END max_depth=3, n_estimators=40;, score=-11.337 total time=   1.6s\n",
            "[CV 2/5; 13/27] START max_depth=3, n_estimators=40..............................\n",
            "[CV 2/5; 13/27] END max_depth=3, n_estimators=40;, score=-7.488 total time=   1.6s\n",
            "[CV 3/5; 13/27] START max_depth=3, n_estimators=40..............................\n",
            "[CV 3/5; 13/27] END max_depth=3, n_estimators=40;, score=-14.206 total time=   1.3s\n",
            "[CV 4/5; 13/27] START max_depth=3, n_estimators=40..............................\n",
            "[CV 4/5; 13/27] END max_depth=3, n_estimators=40;, score=-16.268 total time=   1.2s\n",
            "[CV 5/5; 13/27] START max_depth=3, n_estimators=40..............................\n",
            "[CV 5/5; 13/27] END max_depth=3, n_estimators=40;, score=-9.124 total time=   1.2s\n",
            "[CV 1/5; 14/27] START max_depth=3, n_estimators=50..............................\n",
            "[CV 1/5; 14/27] END max_depth=3, n_estimators=50;, score=-11.325 total time=   1.7s\n",
            "[CV 2/5; 14/27] START max_depth=3, n_estimators=50..............................\n",
            "[CV 2/5; 14/27] END max_depth=3, n_estimators=50;, score=-7.528 total time=   1.7s\n",
            "[CV 3/5; 14/27] START max_depth=3, n_estimators=50..............................\n",
            "[CV 3/5; 14/27] END max_depth=3, n_estimators=50;, score=-14.161 total time=   2.0s\n",
            "[CV 4/5; 14/27] START max_depth=3, n_estimators=50..............................\n",
            "[CV 4/5; 14/27] END max_depth=3, n_estimators=50;, score=-16.237 total time=   3.3s\n",
            "[CV 5/5; 14/27] START max_depth=3, n_estimators=50..............................\n",
            "[CV 5/5; 14/27] END max_depth=3, n_estimators=50;, score=-9.134 total time=   2.7s\n",
            "[CV 1/5; 15/27] START max_depth=3, n_estimators=60..............................\n",
            "[CV 1/5; 15/27] END max_depth=3, n_estimators=60;, score=-11.193 total time=   3.3s\n",
            "[CV 2/5; 15/27] START max_depth=3, n_estimators=60..............................\n",
            "[CV 2/5; 15/27] END max_depth=3, n_estimators=60;, score=-7.522 total time=   2.4s\n",
            "[CV 3/5; 15/27] START max_depth=3, n_estimators=60..............................\n",
            "[CV 3/5; 15/27] END max_depth=3, n_estimators=60;, score=-14.161 total time=   2.2s\n",
            "[CV 4/5; 15/27] START max_depth=3, n_estimators=60..............................\n",
            "[CV 4/5; 15/27] END max_depth=3, n_estimators=60;, score=-16.169 total time=   2.9s\n",
            "[CV 5/5; 15/27] START max_depth=3, n_estimators=60..............................\n",
            "[CV 5/5; 15/27] END max_depth=3, n_estimators=60;, score=-9.155 total time=   2.4s\n",
            "[CV 1/5; 16/27] START max_depth=3, n_estimators=70..............................\n",
            "[CV 1/5; 16/27] END max_depth=3, n_estimators=70;, score=-11.197 total time=   2.5s\n",
            "[CV 2/5; 16/27] START max_depth=3, n_estimators=70..............................\n",
            "[CV 2/5; 16/27] END max_depth=3, n_estimators=70;, score=-7.522 total time=   1.9s\n",
            "[CV 3/5; 16/27] START max_depth=3, n_estimators=70..............................\n",
            "[CV 3/5; 16/27] END max_depth=3, n_estimators=70;, score=-14.159 total time=   2.0s\n",
            "[CV 4/5; 16/27] START max_depth=3, n_estimators=70..............................\n",
            "[CV 4/5; 16/27] END max_depth=3, n_estimators=70;, score=-16.124 total time=   2.0s\n",
            "[CV 5/5; 16/27] START max_depth=3, n_estimators=70..............................\n",
            "[CV 5/5; 16/27] END max_depth=3, n_estimators=70;, score=-9.130 total time=   2.2s\n",
            "[CV 1/5; 17/27] START max_depth=3, n_estimators=80..............................\n",
            "[CV 1/5; 17/27] END max_depth=3, n_estimators=80;, score=-11.205 total time=   3.4s\n",
            "[CV 2/5; 17/27] START max_depth=3, n_estimators=80..............................\n",
            "[CV 2/5; 17/27] END max_depth=3, n_estimators=80;, score=-7.509 total time=   2.0s\n",
            "[CV 3/5; 17/27] START max_depth=3, n_estimators=80..............................\n",
            "[CV 3/5; 17/27] END max_depth=3, n_estimators=80;, score=-14.161 total time=   1.9s\n",
            "[CV 4/5; 17/27] START max_depth=3, n_estimators=80..............................\n",
            "[CV 4/5; 17/27] END max_depth=3, n_estimators=80;, score=-16.122 total time=   2.1s\n",
            "[CV 5/5; 17/27] START max_depth=3, n_estimators=80..............................\n",
            "[CV 5/5; 17/27] END max_depth=3, n_estimators=80;, score=-9.131 total time=   2.4s\n",
            "[CV 1/5; 18/27] START max_depth=3, n_estimators=90..............................\n",
            "[CV 1/5; 18/27] END max_depth=3, n_estimators=90;, score=-11.289 total time=   3.0s\n",
            "[CV 2/5; 18/27] START max_depth=3, n_estimators=90..............................\n",
            "[CV 2/5; 18/27] END max_depth=3, n_estimators=90;, score=-7.543 total time=   2.6s\n",
            "[CV 3/5; 18/27] START max_depth=3, n_estimators=90..............................\n",
            "[CV 3/5; 18/27] END max_depth=3, n_estimators=90;, score=-14.176 total time=   2.4s\n",
            "[CV 4/5; 18/27] START max_depth=3, n_estimators=90..............................\n",
            "[CV 4/5; 18/27] END max_depth=3, n_estimators=90;, score=-16.195 total time=   2.8s\n",
            "[CV 5/5; 18/27] START max_depth=3, n_estimators=90..............................\n",
            "[CV 5/5; 18/27] END max_depth=3, n_estimators=90;, score=-9.105 total time=   2.9s\n",
            "[CV 1/5; 19/27] START max_depth=5, n_estimators=10..............................\n",
            "[CV 1/5; 19/27] END max_depth=5, n_estimators=10;, score=-9.751 total time=   0.7s\n",
            "[CV 2/5; 19/27] START max_depth=5, n_estimators=10..............................\n",
            "[CV 2/5; 19/27] END max_depth=5, n_estimators=10;, score=-7.137 total time=   0.7s\n",
            "[CV 3/5; 19/27] START max_depth=5, n_estimators=10..............................\n",
            "[CV 3/5; 19/27] END max_depth=5, n_estimators=10;, score=-14.499 total time=   0.7s\n",
            "[CV 4/5; 19/27] START max_depth=5, n_estimators=10..............................\n",
            "[CV 4/5; 19/27] END max_depth=5, n_estimators=10;, score=-15.167 total time=   0.7s\n",
            "[CV 5/5; 19/27] START max_depth=5, n_estimators=10..............................\n",
            "[CV 5/5; 19/27] END max_depth=5, n_estimators=10;, score=-7.717 total time=   0.7s\n",
            "[CV 1/5; 20/27] START max_depth=5, n_estimators=20..............................\n",
            "[CV 1/5; 20/27] END max_depth=5, n_estimators=20;, score=-9.721 total time=   1.0s\n",
            "[CV 2/5; 20/27] START max_depth=5, n_estimators=20..............................\n",
            "[CV 2/5; 20/27] END max_depth=5, n_estimators=20;, score=-7.149 total time=   1.8s\n",
            "[CV 3/5; 20/27] START max_depth=5, n_estimators=20..............................\n",
            "[CV 3/5; 20/27] END max_depth=5, n_estimators=20;, score=-13.979 total time=   1.0s\n",
            "[CV 4/5; 20/27] START max_depth=5, n_estimators=20..............................\n",
            "[CV 4/5; 20/27] END max_depth=5, n_estimators=20;, score=-15.380 total time=   1.0s\n",
            "[CV 5/5; 20/27] START max_depth=5, n_estimators=20..............................\n",
            "[CV 5/5; 20/27] END max_depth=5, n_estimators=20;, score=-7.733 total time=   1.0s\n",
            "[CV 1/5; 21/27] START max_depth=5, n_estimators=30..............................\n",
            "[CV 1/5; 21/27] END max_depth=5, n_estimators=30;, score=-9.654 total time=   1.8s\n",
            "[CV 2/5; 21/27] START max_depth=5, n_estimators=30..............................\n",
            "[CV 2/5; 21/27] END max_depth=5, n_estimators=30;, score=-7.292 total time=   1.5s\n",
            "[CV 3/5; 21/27] START max_depth=5, n_estimators=30..............................\n",
            "[CV 3/5; 21/27] END max_depth=5, n_estimators=30;, score=-13.736 total time=   1.8s\n",
            "[CV 4/5; 21/27] START max_depth=5, n_estimators=30..............................\n",
            "[CV 4/5; 21/27] END max_depth=5, n_estimators=30;, score=-15.695 total time=   1.5s\n",
            "[CV 5/5; 21/27] START max_depth=5, n_estimators=30..............................\n",
            "[CV 5/5; 21/27] END max_depth=5, n_estimators=30;, score=-7.743 total time=   1.5s\n",
            "[CV 1/5; 22/27] START max_depth=5, n_estimators=40..............................\n",
            "[CV 1/5; 22/27] END max_depth=5, n_estimators=40;, score=-9.670 total time=   2.0s\n",
            "[CV 2/5; 22/27] START max_depth=5, n_estimators=40..............................\n",
            "[CV 2/5; 22/27] END max_depth=5, n_estimators=40;, score=-7.305 total time=   2.0s\n",
            "[CV 3/5; 22/27] START max_depth=5, n_estimators=40..............................\n",
            "[CV 3/5; 22/27] END max_depth=5, n_estimators=40;, score=-13.697 total time=   1.8s\n",
            "[CV 4/5; 22/27] START max_depth=5, n_estimators=40..............................\n",
            "[CV 4/5; 22/27] END max_depth=5, n_estimators=40;, score=-15.672 total time=   1.9s\n",
            "[CV 5/5; 22/27] START max_depth=5, n_estimators=40..............................\n",
            "[CV 5/5; 22/27] END max_depth=5, n_estimators=40;, score=-7.599 total time=   1.9s\n",
            "[CV 1/5; 23/27] START max_depth=5, n_estimators=50..............................\n",
            "[CV 1/5; 23/27] END max_depth=5, n_estimators=50;, score=-9.694 total time=   2.4s\n",
            "[CV 2/5; 23/27] START max_depth=5, n_estimators=50..............................\n",
            "[CV 2/5; 23/27] END max_depth=5, n_estimators=50;, score=-7.298 total time=   2.7s\n",
            "[CV 3/5; 23/27] START max_depth=5, n_estimators=50..............................\n",
            "[CV 3/5; 23/27] END max_depth=5, n_estimators=50;, score=-13.726 total time=   2.4s\n",
            "[CV 4/5; 23/27] START max_depth=5, n_estimators=50..............................\n",
            "[CV 4/5; 23/27] END max_depth=5, n_estimators=50;, score=-15.613 total time=   2.7s\n",
            "[CV 5/5; 23/27] START max_depth=5, n_estimators=50..............................\n",
            "[CV 5/5; 23/27] END max_depth=5, n_estimators=50;, score=-7.743 total time=   2.3s\n",
            "[CV 1/5; 24/27] START max_depth=5, n_estimators=60..............................\n",
            "[CV 1/5; 24/27] END max_depth=5, n_estimators=60;, score=-9.704 total time=   2.3s\n",
            "[CV 2/5; 24/27] START max_depth=5, n_estimators=60..............................\n",
            "[CV 2/5; 24/27] END max_depth=5, n_estimators=60;, score=-7.292 total time=   2.8s\n",
            "[CV 3/5; 24/27] START max_depth=5, n_estimators=60..............................\n",
            "[CV 3/5; 24/27] END max_depth=5, n_estimators=60;, score=-13.718 total time=   3.5s\n",
            "[CV 4/5; 24/27] START max_depth=5, n_estimators=60..............................\n",
            "[CV 4/5; 24/27] END max_depth=5, n_estimators=60;, score=-15.612 total time=   2.9s\n",
            "[CV 5/5; 24/27] START max_depth=5, n_estimators=60..............................\n",
            "[CV 5/5; 24/27] END max_depth=5, n_estimators=60;, score=-7.887 total time=   2.5s\n",
            "[CV 1/5; 25/27] START max_depth=5, n_estimators=70..............................\n",
            "[CV 1/5; 25/27] END max_depth=5, n_estimators=70;, score=-9.720 total time=   3.5s\n",
            "[CV 2/5; 25/27] START max_depth=5, n_estimators=70..............................\n",
            "[CV 2/5; 25/27] END max_depth=5, n_estimators=70;, score=-7.282 total time=   4.4s\n",
            "[CV 3/5; 25/27] START max_depth=5, n_estimators=70..............................\n",
            "[CV 3/5; 25/27] END max_depth=5, n_estimators=70;, score=-13.777 total time=   5.5s\n",
            "[CV 4/5; 25/27] START max_depth=5, n_estimators=70..............................\n",
            "[CV 4/5; 25/27] END max_depth=5, n_estimators=70;, score=-15.590 total time=   4.2s\n",
            "[CV 5/5; 25/27] START max_depth=5, n_estimators=70..............................\n",
            "[CV 5/5; 25/27] END max_depth=5, n_estimators=70;, score=-8.079 total time=   5.5s\n",
            "[CV 1/5; 26/27] START max_depth=5, n_estimators=80..............................\n",
            "[CV 1/5; 26/27] END max_depth=5, n_estimators=80;, score=-9.696 total time=   4.3s\n",
            "[CV 2/5; 26/27] START max_depth=5, n_estimators=80..............................\n",
            "[CV 2/5; 26/27] END max_depth=5, n_estimators=80;, score=-7.288 total time=   4.8s\n",
            "[CV 3/5; 26/27] START max_depth=5, n_estimators=80..............................\n",
            "[CV 3/5; 26/27] END max_depth=5, n_estimators=80;, score=-13.827 total time=   4.5s\n",
            "[CV 4/5; 26/27] START max_depth=5, n_estimators=80..............................\n",
            "[CV 4/5; 26/27] END max_depth=5, n_estimators=80;, score=-15.521 total time=   3.6s\n",
            "[CV 5/5; 26/27] START max_depth=5, n_estimators=80..............................\n",
            "[CV 5/5; 26/27] END max_depth=5, n_estimators=80;, score=-8.088 total time=   5.1s\n",
            "[CV 1/5; 27/27] START max_depth=5, n_estimators=90..............................\n",
            "[CV 1/5; 27/27] END max_depth=5, n_estimators=90;, score=-9.683 total time=   3.9s\n",
            "[CV 2/5; 27/27] START max_depth=5, n_estimators=90..............................\n",
            "[CV 2/5; 27/27] END max_depth=5, n_estimators=90;, score=-7.306 total time=   4.3s\n",
            "[CV 3/5; 27/27] START max_depth=5, n_estimators=90..............................\n",
            "[CV 3/5; 27/27] END max_depth=5, n_estimators=90;, score=-13.794 total time=   3.8s\n",
            "[CV 4/5; 27/27] START max_depth=5, n_estimators=90..............................\n",
            "[CV 4/5; 27/27] END max_depth=5, n_estimators=90;, score=-15.622 total time=   4.0s\n",
            "[CV 5/5; 27/27] START max_depth=5, n_estimators=90..............................\n",
            "[CV 5/5; 27/27] END max_depth=5, n_estimators=90;, score=-8.028 total time=   4.7s\n",
            "{'max_depth': 5, 'n_estimators': 40}\n"
          ]
        }
      ],
      "source": [
        "#Произвёл подбор параметров методом GridSeacrhCV\n",
        "model_grid_r = GridSearchCV(clf,\n",
        "                      param_grid=parametrs,\n",
        "                      scoring=scorer,\n",
        "                      cv=5,\n",
        "                      verbose=10)\n",
        "model_grid_r.fit(features_train, target_rougher)\n",
        "print(model_grid_r.best_params_)"
      ]
    },
    {
      "cell_type": "code",
      "execution_count": null,
      "metadata": {
        "scrolled": true,
        "id": "0a0ChZ-zd3S-",
        "outputId": "cbf6bdc9-fab7-4de2-e99d-5ae285d4651b"
      },
      "outputs": [
        {
          "name": "stdout",
          "output_type": "stream",
          "text": [
            "Fitting 5 folds for each of 27 candidates, totalling 135 fits\n",
            "[CV 1/5; 1/27] START max_depth=1, n_estimators=10...............................\n",
            "[CV 1/5; 1/27] END max_depth=1, n_estimators=10;, score=-8.682 total time=   0.5s\n",
            "[CV 2/5; 1/27] START max_depth=1, n_estimators=10...............................\n",
            "[CV 2/5; 1/27] END max_depth=1, n_estimators=10;, score=-6.945 total time=   0.5s\n",
            "[CV 3/5; 1/27] START max_depth=1, n_estimators=10...............................\n",
            "[CV 3/5; 1/27] END max_depth=1, n_estimators=10;, score=-9.248 total time=   0.3s\n",
            "[CV 4/5; 1/27] START max_depth=1, n_estimators=10...............................\n",
            "[CV 4/5; 1/27] END max_depth=1, n_estimators=10;, score=-9.783 total time=   0.3s\n",
            "[CV 5/5; 1/27] START max_depth=1, n_estimators=10...............................\n",
            "[CV 5/5; 1/27] END max_depth=1, n_estimators=10;, score=-10.021 total time=   0.3s\n",
            "[CV 1/5; 2/27] START max_depth=1, n_estimators=20...............................\n",
            "[CV 1/5; 2/27] END max_depth=1, n_estimators=20;, score=-8.679 total time=   0.5s\n",
            "[CV 2/5; 2/27] START max_depth=1, n_estimators=20...............................\n",
            "[CV 2/5; 2/27] END max_depth=1, n_estimators=20;, score=-6.930 total time=   0.4s\n",
            "[CV 3/5; 2/27] START max_depth=1, n_estimators=20...............................\n",
            "[CV 3/5; 2/27] END max_depth=1, n_estimators=20;, score=-9.240 total time=   0.9s\n",
            "[CV 4/5; 2/27] START max_depth=1, n_estimators=20...............................\n",
            "[CV 4/5; 2/27] END max_depth=1, n_estimators=20;, score=-9.744 total time=   0.9s\n",
            "[CV 5/5; 2/27] START max_depth=1, n_estimators=20...............................\n",
            "[CV 5/5; 2/27] END max_depth=1, n_estimators=20;, score=-10.047 total time=   0.4s\n",
            "[CV 1/5; 3/27] START max_depth=1, n_estimators=30...............................\n",
            "[CV 1/5; 3/27] END max_depth=1, n_estimators=30;, score=-8.682 total time=   0.9s\n",
            "[CV 2/5; 3/27] START max_depth=1, n_estimators=30...............................\n",
            "[CV 2/5; 3/27] END max_depth=1, n_estimators=30;, score=-6.950 total time=   0.6s\n",
            "[CV 3/5; 3/27] START max_depth=1, n_estimators=30...............................\n",
            "[CV 3/5; 3/27] END max_depth=1, n_estimators=30;, score=-9.306 total time=   0.5s\n",
            "[CV 4/5; 3/27] START max_depth=1, n_estimators=30...............................\n",
            "[CV 4/5; 3/27] END max_depth=1, n_estimators=30;, score=-9.708 total time=   0.5s\n",
            "[CV 5/5; 3/27] START max_depth=1, n_estimators=30...............................\n",
            "[CV 5/5; 3/27] END max_depth=1, n_estimators=30;, score=-10.052 total time=   0.6s\n",
            "[CV 1/5; 4/27] START max_depth=1, n_estimators=40...............................\n",
            "[CV 1/5; 4/27] END max_depth=1, n_estimators=40;, score=-8.683 total time=   0.6s\n",
            "[CV 2/5; 4/27] START max_depth=1, n_estimators=40...............................\n",
            "[CV 2/5; 4/27] END max_depth=1, n_estimators=40;, score=-6.943 total time=   0.7s\n",
            "[CV 3/5; 4/27] START max_depth=1, n_estimators=40...............................\n",
            "[CV 3/5; 4/27] END max_depth=1, n_estimators=40;, score=-9.331 total time=   0.5s\n",
            "[CV 4/5; 4/27] START max_depth=1, n_estimators=40...............................\n",
            "[CV 4/5; 4/27] END max_depth=1, n_estimators=40;, score=-9.715 total time=   0.5s\n",
            "[CV 5/5; 4/27] START max_depth=1, n_estimators=40...............................\n",
            "[CV 5/5; 4/27] END max_depth=1, n_estimators=40;, score=-10.052 total time=   0.6s\n",
            "[CV 1/5; 5/27] START max_depth=1, n_estimators=50...............................\n",
            "[CV 1/5; 5/27] END max_depth=1, n_estimators=50;, score=-8.682 total time=   0.8s\n",
            "[CV 2/5; 5/27] START max_depth=1, n_estimators=50...............................\n",
            "[CV 2/5; 5/27] END max_depth=1, n_estimators=50;, score=-6.941 total time=   0.8s\n",
            "[CV 3/5; 5/27] START max_depth=1, n_estimators=50...............................\n",
            "[CV 3/5; 5/27] END max_depth=1, n_estimators=50;, score=-9.320 total time=   0.7s\n",
            "[CV 4/5; 5/27] START max_depth=1, n_estimators=50...............................\n",
            "[CV 4/5; 5/27] END max_depth=1, n_estimators=50;, score=-9.756 total time=   1.0s\n",
            "[CV 5/5; 5/27] START max_depth=1, n_estimators=50...............................\n",
            "[CV 5/5; 5/27] END max_depth=1, n_estimators=50;, score=-10.047 total time=   0.7s\n",
            "[CV 1/5; 6/27] START max_depth=1, n_estimators=60...............................\n",
            "[CV 1/5; 6/27] END max_depth=1, n_estimators=60;, score=-8.681 total time=   0.8s\n",
            "[CV 2/5; 6/27] START max_depth=1, n_estimators=60...............................\n",
            "[CV 2/5; 6/27] END max_depth=1, n_estimators=60;, score=-6.938 total time=   0.7s\n",
            "[CV 3/5; 6/27] START max_depth=1, n_estimators=60...............................\n",
            "[CV 3/5; 6/27] END max_depth=1, n_estimators=60;, score=-9.338 total time=   0.7s\n",
            "[CV 4/5; 6/27] START max_depth=1, n_estimators=60...............................\n",
            "[CV 4/5; 6/27] END max_depth=1, n_estimators=60;, score=-9.735 total time=   0.7s\n",
            "[CV 5/5; 6/27] START max_depth=1, n_estimators=60...............................\n",
            "[CV 5/5; 6/27] END max_depth=1, n_estimators=60;, score=-10.046 total time=   0.8s\n",
            "[CV 1/5; 7/27] START max_depth=1, n_estimators=70...............................\n",
            "[CV 1/5; 7/27] END max_depth=1, n_estimators=70;, score=-8.682 total time=   1.0s\n",
            "[CV 2/5; 7/27] START max_depth=1, n_estimators=70...............................\n",
            "[CV 2/5; 7/27] END max_depth=1, n_estimators=70;, score=-6.937 total time=   0.9s\n",
            "[CV 3/5; 7/27] START max_depth=1, n_estimators=70...............................\n",
            "[CV 3/5; 7/27] END max_depth=1, n_estimators=70;, score=-9.328 total time=   0.9s\n",
            "[CV 4/5; 7/27] START max_depth=1, n_estimators=70...............................\n",
            "[CV 4/5; 7/27] END max_depth=1, n_estimators=70;, score=-9.744 total time=   1.0s\n",
            "[CV 5/5; 7/27] START max_depth=1, n_estimators=70...............................\n",
            "[CV 5/5; 7/27] END max_depth=1, n_estimators=70;, score=-10.047 total time=   0.9s\n",
            "[CV 1/5; 8/27] START max_depth=1, n_estimators=80...............................\n",
            "[CV 1/5; 8/27] END max_depth=1, n_estimators=80;, score=-8.680 total time=   1.2s\n",
            "[CV 2/5; 8/27] START max_depth=1, n_estimators=80...............................\n",
            "[CV 2/5; 8/27] END max_depth=1, n_estimators=80;, score=-6.939 total time=   1.3s\n",
            "[CV 3/5; 8/27] START max_depth=1, n_estimators=80...............................\n",
            "[CV 3/5; 8/27] END max_depth=1, n_estimators=80;, score=-9.325 total time=   1.0s\n",
            "[CV 4/5; 8/27] START max_depth=1, n_estimators=80...............................\n",
            "[CV 4/5; 8/27] END max_depth=1, n_estimators=80;, score=-9.722 total time=   1.0s\n",
            "[CV 5/5; 8/27] START max_depth=1, n_estimators=80...............................\n",
            "[CV 5/5; 8/27] END max_depth=1, n_estimators=80;, score=-10.037 total time=   1.2s\n",
            "[CV 1/5; 9/27] START max_depth=1, n_estimators=90...............................\n",
            "[CV 1/5; 9/27] END max_depth=1, n_estimators=90;, score=-8.681 total time=   1.1s\n",
            "[CV 2/5; 9/27] START max_depth=1, n_estimators=90...............................\n",
            "[CV 2/5; 9/27] END max_depth=1, n_estimators=90;, score=-6.937 total time=   1.7s\n",
            "[CV 3/5; 9/27] START max_depth=1, n_estimators=90...............................\n",
            "[CV 3/5; 9/27] END max_depth=1, n_estimators=90;, score=-9.332 total time=   3.3s\n",
            "[CV 4/5; 9/27] START max_depth=1, n_estimators=90...............................\n",
            "[CV 4/5; 9/27] END max_depth=1, n_estimators=90;, score=-9.723 total time=   1.5s\n",
            "[CV 5/5; 9/27] START max_depth=1, n_estimators=90...............................\n",
            "[CV 5/5; 9/27] END max_depth=1, n_estimators=90;, score=-10.033 total time=   1.2s\n",
            "[CV 1/5; 10/27] START max_depth=3, n_estimators=10..............................\n",
            "[CV 1/5; 10/27] END max_depth=3, n_estimators=10;, score=-8.826 total time=   0.5s\n",
            "[CV 2/5; 10/27] START max_depth=3, n_estimators=10..............................\n",
            "[CV 2/5; 10/27] END max_depth=3, n_estimators=10;, score=-8.501 total time=   0.7s\n",
            "[CV 3/5; 10/27] START max_depth=3, n_estimators=10..............................\n",
            "[CV 3/5; 10/27] END max_depth=3, n_estimators=10;, score=-9.023 total time=   0.7s\n",
            "[CV 4/5; 10/27] START max_depth=3, n_estimators=10..............................\n",
            "[CV 4/5; 10/27] END max_depth=3, n_estimators=10;, score=-8.840 total time=   0.5s\n",
            "[CV 5/5; 10/27] START max_depth=3, n_estimators=10..............................\n",
            "[CV 5/5; 10/27] END max_depth=3, n_estimators=10;, score=-8.676 total time=   0.5s\n",
            "[CV 1/5; 11/27] START max_depth=3, n_estimators=20..............................\n",
            "[CV 1/5; 11/27] END max_depth=3, n_estimators=20;, score=-8.930 total time=   1.2s\n",
            "[CV 2/5; 11/27] START max_depth=3, n_estimators=20..............................\n",
            "[CV 2/5; 11/27] END max_depth=3, n_estimators=20;, score=-7.831 total time=   0.8s\n",
            "[CV 3/5; 11/27] START max_depth=3, n_estimators=20..............................\n",
            "[CV 3/5; 11/27] END max_depth=3, n_estimators=20;, score=-9.129 total time=   0.8s\n",
            "[CV 4/5; 11/27] START max_depth=3, n_estimators=20..............................\n",
            "[CV 4/5; 11/27] END max_depth=3, n_estimators=20;, score=-8.869 total time=   0.7s\n",
            "[CV 5/5; 11/27] START max_depth=3, n_estimators=20..............................\n",
            "[CV 5/5; 11/27] END max_depth=3, n_estimators=20;, score=-8.903 total time=   0.8s\n",
            "[CV 1/5; 12/27] START max_depth=3, n_estimators=30..............................\n",
            "[CV 1/5; 12/27] END max_depth=3, n_estimators=30;, score=-8.933 total time=   0.9s\n",
            "[CV 2/5; 12/27] START max_depth=3, n_estimators=30..............................\n",
            "[CV 2/5; 12/27] END max_depth=3, n_estimators=30;, score=-7.498 total time=   1.0s\n",
            "[CV 3/5; 12/27] START max_depth=3, n_estimators=30..............................\n",
            "[CV 3/5; 12/27] END max_depth=3, n_estimators=30;, score=-9.137 total time=   0.9s\n",
            "[CV 4/5; 12/27] START max_depth=3, n_estimators=30..............................\n",
            "[CV 4/5; 12/27] END max_depth=3, n_estimators=30;, score=-8.887 total time=   0.9s\n",
            "[CV 5/5; 12/27] START max_depth=3, n_estimators=30..............................\n",
            "[CV 5/5; 12/27] END max_depth=3, n_estimators=30;, score=-8.878 total time=   1.0s\n",
            "[CV 1/5; 13/27] START max_depth=3, n_estimators=40..............................\n",
            "[CV 1/5; 13/27] END max_depth=3, n_estimators=40;, score=-8.942 total time=   1.3s\n",
            "[CV 2/5; 13/27] START max_depth=3, n_estimators=40..............................\n",
            "[CV 2/5; 13/27] END max_depth=3, n_estimators=40;, score=-7.614 total time=   1.4s\n",
            "[CV 3/5; 13/27] START max_depth=3, n_estimators=40..............................\n",
            "[CV 3/5; 13/27] END max_depth=3, n_estimators=40;, score=-9.247 total time=   1.2s\n",
            "[CV 4/5; 13/27] START max_depth=3, n_estimators=40..............................\n",
            "[CV 4/5; 13/27] END max_depth=3, n_estimators=40;, score=-8.894 total time=   1.8s\n",
            "[CV 5/5; 13/27] START max_depth=3, n_estimators=40..............................\n",
            "[CV 5/5; 13/27] END max_depth=3, n_estimators=40;, score=-8.871 total time=   1.4s\n",
            "[CV 1/5; 14/27] START max_depth=3, n_estimators=50..............................\n",
            "[CV 1/5; 14/27] END max_depth=3, n_estimators=50;, score=-8.940 total time=   1.4s\n",
            "[CV 2/5; 14/27] START max_depth=3, n_estimators=50..............................\n",
            "[CV 2/5; 14/27] END max_depth=3, n_estimators=50;, score=-7.642 total time=   1.6s\n",
            "[CV 3/5; 14/27] START max_depth=3, n_estimators=50..............................\n",
            "[CV 3/5; 14/27] END max_depth=3, n_estimators=50;, score=-9.135 total time=   1.6s\n",
            "[CV 4/5; 14/27] START max_depth=3, n_estimators=50..............................\n",
            "[CV 4/5; 14/27] END max_depth=3, n_estimators=50;, score=-8.892 total time=   1.9s\n",
            "[CV 5/5; 14/27] START max_depth=3, n_estimators=50..............................\n",
            "[CV 5/5; 14/27] END max_depth=3, n_estimators=50;, score=-8.932 total time=   1.6s\n",
            "[CV 1/5; 15/27] START max_depth=3, n_estimators=60..............................\n",
            "[CV 1/5; 15/27] END max_depth=3, n_estimators=60;, score=-8.906 total time=   2.1s\n",
            "[CV 2/5; 15/27] START max_depth=3, n_estimators=60..............................\n",
            "[CV 2/5; 15/27] END max_depth=3, n_estimators=60;, score=-7.639 total time=   2.0s\n",
            "[CV 3/5; 15/27] START max_depth=3, n_estimators=60..............................\n",
            "[CV 3/5; 15/27] END max_depth=3, n_estimators=60;, score=-9.106 total time=   1.9s\n",
            "[CV 4/5; 15/27] START max_depth=3, n_estimators=60..............................\n",
            "[CV 4/5; 15/27] END max_depth=3, n_estimators=60;, score=-8.873 total time=   1.9s\n",
            "[CV 5/5; 15/27] START max_depth=3, n_estimators=60..............................\n",
            "[CV 5/5; 15/27] END max_depth=3, n_estimators=60;, score=-8.885 total time=   2.1s\n",
            "[CV 1/5; 16/27] START max_depth=3, n_estimators=70..............................\n",
            "[CV 1/5; 16/27] END max_depth=3, n_estimators=70;, score=-8.961 total time=   2.0s\n",
            "[CV 2/5; 16/27] START max_depth=3, n_estimators=70..............................\n",
            "[CV 2/5; 16/27] END max_depth=3, n_estimators=70;, score=-7.651 total time=   2.0s\n",
            "[CV 3/5; 16/27] START max_depth=3, n_estimators=70..............................\n",
            "[CV 3/5; 16/27] END max_depth=3, n_estimators=70;, score=-9.144 total time=   2.1s\n",
            "[CV 4/5; 16/27] START max_depth=3, n_estimators=70..............................\n",
            "[CV 4/5; 16/27] END max_depth=3, n_estimators=70;, score=-8.878 total time=   2.0s\n",
            "[CV 5/5; 16/27] START max_depth=3, n_estimators=70..............................\n",
            "[CV 5/5; 16/27] END max_depth=3, n_estimators=70;, score=-8.864 total time=   2.2s\n",
            "[CV 1/5; 17/27] START max_depth=3, n_estimators=80..............................\n",
            "[CV 1/5; 17/27] END max_depth=3, n_estimators=80;, score=-8.981 total time=   3.0s\n",
            "[CV 2/5; 17/27] START max_depth=3, n_estimators=80..............................\n",
            "[CV 2/5; 17/27] END max_depth=3, n_estimators=80;, score=-7.741 total time=   2.1s\n",
            "[CV 3/5; 17/27] START max_depth=3, n_estimators=80..............................\n",
            "[CV 3/5; 17/27] END max_depth=3, n_estimators=80;, score=-9.098 total time=   2.2s\n",
            "[CV 4/5; 17/27] START max_depth=3, n_estimators=80..............................\n",
            "[CV 4/5; 17/27] END max_depth=3, n_estimators=80;, score=-8.877 total time=   3.0s\n",
            "[CV 5/5; 17/27] START max_depth=3, n_estimators=80..............................\n",
            "[CV 5/5; 17/27] END max_depth=3, n_estimators=80;, score=-8.852 total time=   2.5s\n",
            "[CV 1/5; 18/27] START max_depth=3, n_estimators=90..............................\n",
            "[CV 1/5; 18/27] END max_depth=3, n_estimators=90;, score=-8.963 total time=   3.1s\n",
            "[CV 2/5; 18/27] START max_depth=3, n_estimators=90..............................\n",
            "[CV 2/5; 18/27] END max_depth=3, n_estimators=90;, score=-7.757 total time=   3.3s\n",
            "[CV 3/5; 18/27] START max_depth=3, n_estimators=90..............................\n",
            "[CV 3/5; 18/27] END max_depth=3, n_estimators=90;, score=-9.105 total time=   2.6s\n",
            "[CV 4/5; 18/27] START max_depth=3, n_estimators=90..............................\n",
            "[CV 4/5; 18/27] END max_depth=3, n_estimators=90;, score=-8.875 total time=   2.4s\n",
            "[CV 5/5; 18/27] START max_depth=3, n_estimators=90..............................\n",
            "[CV 5/5; 18/27] END max_depth=3, n_estimators=90;, score=-8.827 total time=   2.5s\n",
            "[CV 1/5; 19/27] START max_depth=5, n_estimators=10..............................\n",
            "[CV 1/5; 19/27] END max_depth=5, n_estimators=10;, score=-8.378 total time=   0.6s\n",
            "[CV 2/5; 19/27] START max_depth=5, n_estimators=10..............................\n",
            "[CV 2/5; 19/27] END max_depth=5, n_estimators=10;, score=-8.237 total time=   0.7s\n",
            "[CV 3/5; 19/27] START max_depth=5, n_estimators=10..............................\n",
            "[CV 3/5; 19/27] END max_depth=5, n_estimators=10;, score=-9.107 total time=   0.7s\n",
            "[CV 4/5; 19/27] START max_depth=5, n_estimators=10..............................\n",
            "[CV 4/5; 19/27] END max_depth=5, n_estimators=10;, score=-8.510 total time=   0.8s\n",
            "[CV 5/5; 19/27] START max_depth=5, n_estimators=10..............................\n",
            "[CV 5/5; 19/27] END max_depth=5, n_estimators=10;, score=-8.665 total time=   0.7s\n",
            "[CV 1/5; 20/27] START max_depth=5, n_estimators=20..............................\n",
            "[CV 1/5; 20/27] END max_depth=5, n_estimators=20;, score=-8.369 total time=   0.9s\n",
            "[CV 2/5; 20/27] START max_depth=5, n_estimators=20..............................\n",
            "[CV 2/5; 20/27] END max_depth=5, n_estimators=20;, score=-8.520 total time=   1.0s\n",
            "[CV 3/5; 20/27] START max_depth=5, n_estimators=20..............................\n",
            "[CV 3/5; 20/27] END max_depth=5, n_estimators=20;, score=-8.793 total time=   0.9s\n",
            "[CV 4/5; 20/27] START max_depth=5, n_estimators=20..............................\n",
            "[CV 4/5; 20/27] END max_depth=5, n_estimators=20;, score=-8.320 total time=   1.0s\n",
            "[CV 5/5; 20/27] START max_depth=5, n_estimators=20..............................\n",
            "[CV 5/5; 20/27] END max_depth=5, n_estimators=20;, score=-8.812 total time=   1.1s\n",
            "[CV 1/5; 21/27] START max_depth=5, n_estimators=30..............................\n",
            "[CV 1/5; 21/27] END max_depth=5, n_estimators=30;, score=-8.316 total time=   1.2s\n",
            "[CV 2/5; 21/27] START max_depth=5, n_estimators=30..............................\n",
            "[CV 2/5; 21/27] END max_depth=5, n_estimators=30;, score=-8.463 total time=   1.7s\n",
            "[CV 3/5; 21/27] START max_depth=5, n_estimators=30..............................\n",
            "[CV 3/5; 21/27] END max_depth=5, n_estimators=30;, score=-8.660 total time=   1.8s\n",
            "[CV 4/5; 21/27] START max_depth=5, n_estimators=30..............................\n",
            "[CV 4/5; 21/27] END max_depth=5, n_estimators=30;, score=-8.350 total time=   1.4s\n",
            "[CV 5/5; 21/27] START max_depth=5, n_estimators=30..............................\n",
            "[CV 5/5; 21/27] END max_depth=5, n_estimators=30;, score=-8.908 total time=   1.4s\n",
            "[CV 1/5; 22/27] START max_depth=5, n_estimators=40..............................\n",
            "[CV 1/5; 22/27] END max_depth=5, n_estimators=40;, score=-8.314 total time=   1.8s\n",
            "[CV 2/5; 22/27] START max_depth=5, n_estimators=40..............................\n",
            "[CV 2/5; 22/27] END max_depth=5, n_estimators=40;, score=-8.437 total time=   1.7s\n",
            "[CV 3/5; 22/27] START max_depth=5, n_estimators=40..............................\n",
            "[CV 3/5; 22/27] END max_depth=5, n_estimators=40;, score=-8.658 total time=   1.6s\n",
            "[CV 4/5; 22/27] START max_depth=5, n_estimators=40..............................\n",
            "[CV 4/5; 22/27] END max_depth=5, n_estimators=40;, score=-8.374 total time=   2.2s\n",
            "[CV 5/5; 22/27] START max_depth=5, n_estimators=40..............................\n",
            "[CV 5/5; 22/27] END max_depth=5, n_estimators=40;, score=-8.926 total time=   1.7s\n",
            "[CV 1/5; 23/27] START max_depth=5, n_estimators=50..............................\n",
            "[CV 1/5; 23/27] END max_depth=5, n_estimators=50;, score=-8.332 total time=   1.9s\n",
            "[CV 2/5; 23/27] START max_depth=5, n_estimators=50..............................\n",
            "[CV 2/5; 23/27] END max_depth=5, n_estimators=50;, score=-8.348 total time=   2.1s\n",
            "[CV 3/5; 23/27] START max_depth=5, n_estimators=50..............................\n",
            "[CV 3/5; 23/27] END max_depth=5, n_estimators=50;, score=-8.568 total time=   2.0s\n",
            "[CV 4/5; 23/27] START max_depth=5, n_estimators=50..............................\n",
            "[CV 4/5; 23/27] END max_depth=5, n_estimators=50;, score=-8.363 total time=   2.2s\n",
            "[CV 5/5; 23/27] START max_depth=5, n_estimators=50..............................\n",
            "[CV 5/5; 23/27] END max_depth=5, n_estimators=50;, score=-9.041 total time=   2.0s\n",
            "[CV 1/5; 24/27] START max_depth=5, n_estimators=60..............................\n",
            "[CV 1/5; 24/27] END max_depth=5, n_estimators=60;, score=-8.296 total time=   2.7s\n",
            "[CV 2/5; 24/27] START max_depth=5, n_estimators=60..............................\n",
            "[CV 2/5; 24/27] END max_depth=5, n_estimators=60;, score=-8.334 total time=   2.6s\n",
            "[CV 3/5; 24/27] START max_depth=5, n_estimators=60..............................\n",
            "[CV 3/5; 24/27] END max_depth=5, n_estimators=60;, score=-8.542 total time=   3.8s\n",
            "[CV 4/5; 24/27] START max_depth=5, n_estimators=60..............................\n",
            "[CV 4/5; 24/27] END max_depth=5, n_estimators=60;, score=-8.370 total time=   2.7s\n",
            "[CV 5/5; 24/27] START max_depth=5, n_estimators=60..............................\n",
            "[CV 5/5; 24/27] END max_depth=5, n_estimators=60;, score=-8.953 total time=   2.6s\n",
            "[CV 1/5; 25/27] START max_depth=5, n_estimators=70..............................\n",
            "[CV 1/5; 25/27] END max_depth=5, n_estimators=70;, score=-8.357 total time=   3.6s\n",
            "[CV 2/5; 25/27] START max_depth=5, n_estimators=70..............................\n",
            "[CV 2/5; 25/27] END max_depth=5, n_estimators=70;, score=-8.324 total time=   3.2s\n",
            "[CV 3/5; 25/27] START max_depth=5, n_estimators=70..............................\n",
            "[CV 3/5; 25/27] END max_depth=5, n_estimators=70;, score=-8.565 total time=   3.0s\n",
            "[CV 4/5; 25/27] START max_depth=5, n_estimators=70..............................\n",
            "[CV 4/5; 25/27] END max_depth=5, n_estimators=70;, score=-8.378 total time=   3.1s\n",
            "[CV 5/5; 25/27] START max_depth=5, n_estimators=70..............................\n",
            "[CV 5/5; 25/27] END max_depth=5, n_estimators=70;, score=-8.906 total time=   3.2s\n",
            "[CV 1/5; 26/27] START max_depth=5, n_estimators=80..............................\n",
            "[CV 1/5; 26/27] END max_depth=5, n_estimators=80;, score=-8.349 total time=   3.4s\n",
            "[CV 2/5; 26/27] START max_depth=5, n_estimators=80..............................\n",
            "[CV 2/5; 26/27] END max_depth=5, n_estimators=80;, score=-8.390 total time=   4.4s\n",
            "[CV 3/5; 26/27] START max_depth=5, n_estimators=80..............................\n",
            "[CV 3/5; 26/27] END max_depth=5, n_estimators=80;, score=-8.598 total time=   3.2s\n",
            "[CV 4/5; 26/27] START max_depth=5, n_estimators=80..............................\n",
            "[CV 4/5; 26/27] END max_depth=5, n_estimators=80;, score=-8.381 total time=   3.2s\n",
            "[CV 5/5; 26/27] START max_depth=5, n_estimators=80..............................\n",
            "[CV 5/5; 26/27] END max_depth=5, n_estimators=80;, score=-8.881 total time=   3.4s\n",
            "[CV 1/5; 27/27] START max_depth=5, n_estimators=90..............................\n",
            "[CV 1/5; 27/27] END max_depth=5, n_estimators=90;, score=-8.313 total time=   3.7s\n",
            "[CV 2/5; 27/27] START max_depth=5, n_estimators=90..............................\n",
            "[CV 2/5; 27/27] END max_depth=5, n_estimators=90;, score=-8.379 total time=   3.6s\n",
            "[CV 3/5; 27/27] START max_depth=5, n_estimators=90..............................\n",
            "[CV 3/5; 27/27] END max_depth=5, n_estimators=90;, score=-8.614 total time=   3.8s\n",
            "[CV 4/5; 27/27] START max_depth=5, n_estimators=90..............................\n",
            "[CV 4/5; 27/27] END max_depth=5, n_estimators=90;, score=-8.373 total time=   3.5s\n",
            "[CV 5/5; 27/27] START max_depth=5, n_estimators=90..............................\n",
            "[CV 5/5; 27/27] END max_depth=5, n_estimators=90;, score=-8.913 total time=   3.8s\n",
            "{'max_depth': 5, 'n_estimators': 60}\n"
          ]
        }
      ],
      "source": [
        "#Используем greater_is_better = False, т. к. чем меньше значение SMAPE тем лучше.\n",
        "metric_score = make_scorer(smape, greater_is_better = False)\n",
        "#Произвёл подбор параметров методом GridSeacrhCV\n",
        "model_grid_f = GridSearchCV(clf,\n",
        "                      param_grid=parametrs,\n",
        "                      scoring=scorer,\n",
        "                      cv=5,\n",
        "                      verbose=10)\n",
        "model_grid_f.fit(features_train, target_final)\n",
        "print(model_grid_f.best_params_)"
      ]
    },
    {
      "cell_type": "code",
      "execution_count": null,
      "metadata": {
        "id": "teFXuLAbd3S-",
        "outputId": "533b5ee2-f7bd-475e-d719-aacf444673b9"
      },
      "outputs": [
        {
          "name": "stdout",
          "output_type": "stream",
          "text": [
            "rougher sMAPE: 10.788691999194445\n",
            "final sMAPE: 8.498922066689362\n",
            "total sMAPE: 9.071364549815634\n"
          ]
        }
      ],
      "source": [
        "print('rougher sMAPE:', -model_grid_r.best_score_)\n",
        "print('final sMAPE:', -model_grid_f.best_score_)\n",
        "print('total sMAPE:', final_smape(-model_grid_r.best_score_, -model_grid_f.best_score_))"
      ]
    },
    {
      "cell_type": "markdown",
      "metadata": {
        "id": "GgGUXF9yd3S-"
      },
      "source": [
        "**Вывод:**\n",
        "- Лучший результат показывает модель RandomForestRegressor. Обучим её."
      ]
    },
    {
      "cell_type": "code",
      "execution_count": null,
      "metadata": {
        "id": "xw198l3Od3S_"
      },
      "outputs": [],
      "source": [
        "#Подготовим features и target для тестовой выборки.\n",
        "target_rougher_test = test['rougher.output.recovery']\n",
        "target_final_test = test['final.output.recovery']\n",
        "\n",
        "features_test = test.drop(['final.output.recovery', 'rougher.output.recovery'], axis='columns')"
      ]
    },
    {
      "cell_type": "code",
      "execution_count": null,
      "metadata": {
        "id": "nDha9HdPd3S_"
      },
      "outputs": [],
      "source": [
        "#Масштабируем признаки.\n",
        "features_test = scaler.transform(features_test)"
      ]
    },
    {
      "cell_type": "code",
      "execution_count": null,
      "metadata": {
        "id": "2nxCK8pxd3TB"
      },
      "outputs": [],
      "source": [
        "#Обучим модель и получим предсказания.\n",
        "predictions_rougher = model_grid_r.best_estimator_.predict(features_test)\n",
        "predictions_final = model_grid_f.best_estimator_.predict(features_test)"
      ]
    },
    {
      "cell_type": "code",
      "execution_count": null,
      "metadata": {
        "id": "ocxZhHkQd3TB",
        "outputId": "d306de5d-f2b0-49bf-8f72-bff04d1ecb40"
      },
      "outputs": [
        {
          "name": "stdout",
          "output_type": "stream",
          "text": [
            "8.67645473169\n"
          ]
        }
      ],
      "source": [
        "#Посчитаем sMAPE для обоих признаков и итоговый.\n",
        "smape_rougher = smape(target_rougher_test, predictions_rougher)\n",
        "smape_final = smape(target_final_test, predictions_final)\n",
        "final_smape(smape_rougher, smape_final)"
      ]
    },
    {
      "cell_type": "markdown",
      "metadata": {
        "id": "8_6UNfJQd3TC"
      },
      "source": [
        "**Вывод:**\n",
        "- sMAPE для итоговых признаков = 8.67"
      ]
    },
    {
      "cell_type": "markdown",
      "metadata": {
        "id": "1p1DUmBpd3TC"
      },
      "source": [
        "<div class=\"alert alert-info\">\n",
        "\n",
        "*Проверил модель на адекватность = 9.175668058314423, модель адекватна*\n",
        "</div>"
      ]
    },
    {
      "cell_type": "code",
      "execution_count": null,
      "metadata": {
        "id": "4S7I7PVsd3TC"
      },
      "outputs": [],
      "source": [
        "dummy = DummyRegressor(strategy = 'mean')\n",
        "dummy_1 = DummyRegressor(strategy = 'mean')\n",
        "\n",
        "dummy_rougher = dummy.fit(features_train, target_rougher)\n",
        "dummy_predictions_rougher = dummy_rougher.predict(features_test)\n",
        "\n",
        "dummy_final = dummy_1.fit(features_train, target_final)\n",
        "dummy_predictions_final = dummy_final.predict(features_test)"
      ]
    },
    {
      "cell_type": "code",
      "execution_count": null,
      "metadata": {
        "id": "Tl4DuFoOd3TC"
      },
      "outputs": [],
      "source": [
        "smape_rougher_dummy = smape(target_rougher_test, dummy_predictions_rougher)"
      ]
    },
    {
      "cell_type": "code",
      "execution_count": null,
      "metadata": {
        "id": "AxuV3JM2d3TD"
      },
      "outputs": [],
      "source": [
        "smape_final_dummy = smape(target_final_test, dummy_predictions_final)"
      ]
    },
    {
      "cell_type": "code",
      "execution_count": null,
      "metadata": {
        "id": "cDYgpxoWd3TD",
        "outputId": "80ca8be5-0131-4e08-ada6-4cd55918f92a"
      },
      "outputs": [
        {
          "data": {
            "text/plain": [
              "9.906210577750807"
            ]
          },
          "execution_count": 50,
          "metadata": {},
          "output_type": "execute_result"
        }
      ],
      "source": [
        "final_smape(smape_rougher_dummy, smape_final_dummy)"
      ]
    },
    {
      "cell_type": "markdown",
      "metadata": {
        "id": "D23URoXId3TD"
      },
      "source": [
        "Обученная модель предсказывает результат точнее константной. Это говорит о том, что построенная модель адекватна."
      ]
    },
    {
      "cell_type": "markdown",
      "metadata": {
        "id": "PrG30f9Id3TD"
      },
      "source": [
        "## Общий вывод:\n",
        "**gold_recovery_full_new - Исходные данные:**\n",
        "\\\\\\\n",
        "- Файл с данными сохранен впеременную **full**\n",
        "- 87 столбцов, float64(86), object(1)\n",
        "- Range Index = 19439\n",
        "- Кол-во дубликатов = 0\n",
        "- Количество пропусков = 4481\n",
        "- Самое большое колличество пропусков в колоне  **secondary_cleaner.output.tail_sol = 1748**\n",
        "- и в колонке **rougher.input.floatbank11_xanthate = 453**, **rougher.state.floatbank10_e_air = 436**\n",
        "\\\\\\\n",
        "**gold_recovery_test_new — тестовая выборка:**\n",
        "\\\\\\\n",
        "- Файл с данными сохранен впеременную **test**\n",
        "- столбов 53, float64(52), object(1)\n",
        "- Range Index: 5290\n",
        "- Кол-во дубликатов = 0\n",
        "- Количество пропусков = 90\n",
        "\\\\\\\n",
        "**gold_recovery_train_new — обучающая выборка:**\n",
        "\\\\\\\n",
        "- Файл с данными сохранен впеременную **train**\n",
        "- оличество столбцов 87, float64(86), object(1)\n",
        "- Range Index: 14149\n",
        "- Кол-во дубликатов = 0\n",
        "- Количество пропусков = 4100\n",
        "- Самое большое колличество пропусков в колоне  **secondary_cleaner.output.tail_sol = 1605**\n",
        "- и в колонке **rougher.input.floatbank11_xanthate = 428**, **rougher.state.floatbank10_e_air = 436**\n",
        "- Среднее абсолютное отклонение = 9.735. Это хороший результата, рассчеты верны.\n",
        "- 34 колонки которые отсутствуют в тестовой выборке.\n",
        "- Это параметры продукта.\n",
        "- Тип float64, концентрация различных веществ на выходе после очистки, а также доля веществ в отвальных хвостах.\n",
        "- убрать из обучающей выборки ненужные признаки .\n",
        "- добавить целевые признаки в тестовую выборку.\n",
        "- заполним пропуски ближайшими соседями.\n",
        "- для разных металлов концентрация на различных этапах очистки отличается. Например, концентрация золота увеличивается с каждым этапом. Концентрация серебра после вторичной очистки меньше, чем в исходном сырье. А у свинца результаты первичной и вторичной очистки почти идентичны.\n",
        "- Для обоих параметров распределения не сильно отличаются друг от друга, оценка модели правильная.\n",
        "- суммарная концентрацию металлов в сырье выше чем, в концентрате после первой очистки и в финальном концентрате. При этом в финальном концентрате суммарную концентрация металлов выше, чем концентрате после первой очистки.\n",
        "- Написали функцию для рассчета метрики качества модели - sMAPE (Symmetric Mean Absolute Percentage Error).\n",
        "- Написали функцию для рассчета итогового sMAPE.\n",
        "- Лучший результат показывает модель CatBoostRegressor. Обучим её.\n",
        "- sMAPE для итоговых признаков = 9.175668058314423"
      ]
    }
  ],
  "metadata": {
    "ExecuteTimeLog": [
      {
        "duration": 50,
        "start_time": "2023-05-09T10:14:02.941Z"
      },
      {
        "duration": 382,
        "start_time": "2023-05-09T10:14:37.984Z"
      },
      {
        "duration": 68,
        "start_time": "2023-05-09T10:14:38.373Z"
      },
      {
        "duration": 88,
        "start_time": "2023-05-09T10:17:52.062Z"
      },
      {
        "duration": 3,
        "start_time": "2023-05-09T10:21:20.140Z"
      },
      {
        "duration": 109,
        "start_time": "2023-05-09T10:21:20.698Z"
      },
      {
        "duration": 2169,
        "start_time": "2023-05-09T10:35:31.438Z"
      },
      {
        "duration": 2635,
        "start_time": "2023-05-09T10:36:18.941Z"
      },
      {
        "duration": 2,
        "start_time": "2023-05-09T10:36:22.142Z"
      },
      {
        "duration": 652,
        "start_time": "2023-05-09T10:36:22.737Z"
      },
      {
        "duration": 655,
        "start_time": "2023-05-09T10:37:10.468Z"
      },
      {
        "duration": 4,
        "start_time": "2023-05-09T10:37:20.864Z"
      },
      {
        "duration": 335,
        "start_time": "2023-05-09T10:37:21.504Z"
      },
      {
        "duration": 3,
        "start_time": "2023-05-09T10:37:27.824Z"
      },
      {
        "duration": 1134,
        "start_time": "2023-05-09T10:37:28.113Z"
      },
      {
        "duration": 39,
        "start_time": "2023-05-09T10:39:49.001Z"
      },
      {
        "duration": 699,
        "start_time": "2023-05-09T10:42:29.527Z"
      },
      {
        "duration": 3,
        "start_time": "2023-05-09T10:42:34.070Z"
      },
      {
        "duration": 650,
        "start_time": "2023-05-09T10:42:34.515Z"
      },
      {
        "duration": 31,
        "start_time": "2023-05-09T10:42:39.517Z"
      },
      {
        "duration": 33,
        "start_time": "2023-05-09T10:42:56.917Z"
      },
      {
        "duration": 664,
        "start_time": "2023-05-09T10:43:05.956Z"
      },
      {
        "duration": 692,
        "start_time": "2023-05-09T10:43:13.230Z"
      },
      {
        "duration": 646,
        "start_time": "2023-05-09T10:43:48.287Z"
      },
      {
        "duration": 731,
        "start_time": "2023-05-09T10:45:30.753Z"
      },
      {
        "duration": 2,
        "start_time": "2023-05-09T10:55:59.989Z"
      },
      {
        "duration": 729,
        "start_time": "2023-05-09T10:55:59.993Z"
      },
      {
        "duration": 650,
        "start_time": "2023-05-09T10:56:08.546Z"
      },
      {
        "duration": 762,
        "start_time": "2023-05-09T10:59:10.487Z"
      },
      {
        "duration": 3,
        "start_time": "2023-05-09T11:00:47.876Z"
      },
      {
        "duration": 1207,
        "start_time": "2023-05-09T11:00:48.499Z"
      },
      {
        "duration": 612,
        "start_time": "2023-05-09T11:05:37.857Z"
      },
      {
        "duration": 2,
        "start_time": "2023-05-09T11:05:42.357Z"
      },
      {
        "duration": 609,
        "start_time": "2023-05-09T11:05:42.907Z"
      },
      {
        "duration": 1309,
        "start_time": "2023-05-09T11:13:17.414Z"
      },
      {
        "duration": 932,
        "start_time": "2023-05-09T11:13:18.725Z"
      },
      {
        "duration": 3,
        "start_time": "2023-05-09T11:16:58.874Z"
      },
      {
        "duration": 2,
        "start_time": "2023-05-09T11:16:59.343Z"
      },
      {
        "duration": 4,
        "start_time": "2023-05-09T11:17:06.222Z"
      },
      {
        "duration": 3,
        "start_time": "2023-05-09T11:17:06.646Z"
      },
      {
        "duration": 161,
        "start_time": "2023-05-09T11:17:07.137Z"
      },
      {
        "duration": 97,
        "start_time": "2023-05-09T11:18:31.236Z"
      },
      {
        "duration": 56,
        "start_time": "2023-05-09T11:18:41.416Z"
      },
      {
        "duration": 274,
        "start_time": "2023-05-09T11:19:53.662Z"
      },
      {
        "duration": 2522,
        "start_time": "2023-05-09T11:19:58.117Z"
      },
      {
        "duration": 4,
        "start_time": "2023-05-09T11:20:02.483Z"
      },
      {
        "duration": 652,
        "start_time": "2023-05-09T11:20:02.953Z"
      },
      {
        "duration": 6,
        "start_time": "2023-05-09T11:20:08.100Z"
      },
      {
        "duration": 764,
        "start_time": "2023-05-09T11:20:08.427Z"
      },
      {
        "duration": 5,
        "start_time": "2023-05-09T11:20:18.065Z"
      },
      {
        "duration": 707,
        "start_time": "2023-05-09T11:20:18.557Z"
      },
      {
        "duration": 3,
        "start_time": "2023-05-09T11:21:26.516Z"
      },
      {
        "duration": 720,
        "start_time": "2023-05-09T11:21:26.938Z"
      },
      {
        "duration": 719,
        "start_time": "2023-05-09T11:23:49.165Z"
      },
      {
        "duration": 3,
        "start_time": "2023-05-09T11:23:53.327Z"
      },
      {
        "duration": 680,
        "start_time": "2023-05-09T11:23:53.727Z"
      },
      {
        "duration": 843,
        "start_time": "2023-05-09T11:23:54.409Z"
      },
      {
        "duration": 370,
        "start_time": "2023-05-09T11:26:31.648Z"
      },
      {
        "duration": 46,
        "start_time": "2023-05-09T17:02:57.177Z"
      },
      {
        "duration": 386,
        "start_time": "2023-05-09T17:03:05.753Z"
      },
      {
        "duration": 3605,
        "start_time": "2023-05-09T17:03:06.259Z"
      },
      {
        "duration": 151,
        "start_time": "2023-05-09T17:03:09.866Z"
      },
      {
        "duration": 313,
        "start_time": "2023-05-09T17:04:54.512Z"
      },
      {
        "duration": 313,
        "start_time": "2023-05-09T17:07:42.758Z"
      },
      {
        "duration": 93,
        "start_time": "2023-05-09T17:10:05.627Z"
      },
      {
        "duration": 78,
        "start_time": "2023-05-09T17:10:41.809Z"
      },
      {
        "duration": 438,
        "start_time": "2023-05-09T17:11:59.904Z"
      },
      {
        "duration": 126,
        "start_time": "2023-05-09T17:13:18.197Z"
      },
      {
        "duration": 114,
        "start_time": "2023-05-09T17:13:23.144Z"
      },
      {
        "duration": 313,
        "start_time": "2023-05-09T17:13:35.456Z"
      },
      {
        "duration": 3,
        "start_time": "2023-05-09T17:14:31.047Z"
      },
      {
        "duration": 687,
        "start_time": "2023-05-09T17:14:31.556Z"
      },
      {
        "duration": 312,
        "start_time": "2023-05-09T17:14:32.245Z"
      },
      {
        "duration": 322,
        "start_time": "2023-05-09T17:16:15.111Z"
      },
      {
        "duration": 289,
        "start_time": "2023-05-09T17:19:06.159Z"
      },
      {
        "duration": 316,
        "start_time": "2023-05-09T17:19:21.197Z"
      },
      {
        "duration": 297,
        "start_time": "2023-05-09T17:25:07.246Z"
      },
      {
        "duration": 317,
        "start_time": "2023-05-09T17:26:02.696Z"
      },
      {
        "duration": 130,
        "start_time": "2023-05-09T17:28:00.923Z"
      },
      {
        "duration": 141,
        "start_time": "2023-05-09T17:30:13.202Z"
      },
      {
        "duration": 326,
        "start_time": "2023-05-09T17:30:29.337Z"
      },
      {
        "duration": 78,
        "start_time": "2023-05-09T17:33:00.130Z"
      },
      {
        "duration": 342,
        "start_time": "2023-05-09T17:33:06.042Z"
      },
      {
        "duration": 352,
        "start_time": "2023-05-09T17:36:30.851Z"
      },
      {
        "duration": 332,
        "start_time": "2023-05-09T18:22:20.090Z"
      },
      {
        "duration": 416,
        "start_time": "2023-05-09T18:27:00.536Z"
      },
      {
        "duration": 144,
        "start_time": "2023-05-09T18:29:31.330Z"
      },
      {
        "duration": 318,
        "start_time": "2023-05-09T18:32:25.126Z"
      },
      {
        "duration": 340,
        "start_time": "2023-05-09T18:38:00.892Z"
      },
      {
        "duration": 5,
        "start_time": "2023-05-09T18:41:20.627Z"
      },
      {
        "duration": 3,
        "start_time": "2023-05-09T18:42:43.207Z"
      },
      {
        "duration": 4,
        "start_time": "2023-05-09T18:43:17.762Z"
      },
      {
        "duration": 5,
        "start_time": "2023-05-09T19:16:20.627Z"
      },
      {
        "duration": 4,
        "start_time": "2023-05-09T19:16:40.577Z"
      },
      {
        "duration": 5,
        "start_time": "2023-05-09T19:17:39.539Z"
      },
      {
        "duration": 4,
        "start_time": "2023-05-09T19:18:50.947Z"
      },
      {
        "duration": 6,
        "start_time": "2023-05-09T20:09:22.147Z"
      },
      {
        "duration": 20,
        "start_time": "2023-05-09T20:26:44.478Z"
      },
      {
        "duration": 788,
        "start_time": "2023-05-09T20:27:42.957Z"
      },
      {
        "duration": 783,
        "start_time": "2023-05-09T20:27:43.747Z"
      },
      {
        "duration": 339,
        "start_time": "2023-05-09T20:27:44.532Z"
      },
      {
        "duration": 135,
        "start_time": "2023-05-09T20:27:44.873Z"
      },
      {
        "duration": 29,
        "start_time": "2023-05-09T20:30:00.344Z"
      },
      {
        "duration": 82,
        "start_time": "2023-05-09T20:30:01.214Z"
      },
      {
        "duration": 3,
        "start_time": "2023-05-09T20:30:16.344Z"
      },
      {
        "duration": 756,
        "start_time": "2023-05-09T20:30:16.866Z"
      },
      {
        "duration": 336,
        "start_time": "2023-05-09T20:30:17.624Z"
      },
      {
        "duration": 27,
        "start_time": "2023-05-09T20:30:21.978Z"
      },
      {
        "duration": 77,
        "start_time": "2023-05-09T20:30:23.412Z"
      },
      {
        "duration": 6,
        "start_time": "2023-05-09T20:31:06.925Z"
      },
      {
        "duration": 30,
        "start_time": "2023-05-09T20:31:07.968Z"
      },
      {
        "duration": 59,
        "start_time": "2023-05-09T20:36:08.153Z"
      },
      {
        "duration": 18,
        "start_time": "2023-05-09T20:36:19.572Z"
      },
      {
        "duration": 17,
        "start_time": "2023-05-09T20:37:00.803Z"
      },
      {
        "duration": 16,
        "start_time": "2023-05-09T20:37:15.474Z"
      },
      {
        "duration": 64,
        "start_time": "2023-05-09T20:37:47.353Z"
      },
      {
        "duration": 31,
        "start_time": "2023-05-09T20:37:52.872Z"
      },
      {
        "duration": 2,
        "start_time": "2023-05-09T20:38:12.383Z"
      },
      {
        "duration": 60,
        "start_time": "2023-05-09T20:38:13.268Z"
      },
      {
        "duration": 27,
        "start_time": "2023-05-09T20:38:16.775Z"
      },
      {
        "duration": 1126,
        "start_time": "2023-05-10T07:49:45.496Z"
      },
      {
        "duration": 3161,
        "start_time": "2023-05-10T07:49:46.624Z"
      },
      {
        "duration": 344,
        "start_time": "2023-05-10T07:49:49.787Z"
      },
      {
        "duration": 12,
        "start_time": "2023-05-10T07:49:50.135Z"
      },
      {
        "duration": 17,
        "start_time": "2023-05-10T07:49:50.148Z"
      },
      {
        "duration": 28,
        "start_time": "2023-05-10T07:49:50.166Z"
      },
      {
        "duration": 122,
        "start_time": "2023-05-10T07:51:35.299Z"
      },
      {
        "duration": 4,
        "start_time": "2023-05-10T07:52:02.984Z"
      },
      {
        "duration": 5,
        "start_time": "2023-05-10T07:54:04.816Z"
      },
      {
        "duration": 4,
        "start_time": "2023-05-10T07:54:51.158Z"
      },
      {
        "duration": 13,
        "start_time": "2023-05-10T07:55:19.616Z"
      },
      {
        "duration": 4,
        "start_time": "2023-05-10T07:55:33.125Z"
      },
      {
        "duration": 3,
        "start_time": "2023-05-10T08:12:22.279Z"
      },
      {
        "duration": 21,
        "start_time": "2023-05-10T08:16:07.919Z"
      },
      {
        "duration": 24,
        "start_time": "2023-05-10T08:17:32.775Z"
      },
      {
        "duration": 33,
        "start_time": "2023-05-10T09:56:59.856Z"
      },
      {
        "duration": 3,
        "start_time": "2023-05-10T10:29:54.836Z"
      },
      {
        "duration": 4,
        "start_time": "2023-05-10T10:30:13.400Z"
      },
      {
        "duration": 31,
        "start_time": "2023-05-10T10:39:29.628Z"
      },
      {
        "duration": 43,
        "start_time": "2023-05-10T10:39:58.320Z"
      },
      {
        "duration": 8,
        "start_time": "2023-05-10T10:40:10.319Z"
      },
      {
        "duration": 4,
        "start_time": "2023-05-10T10:40:24.720Z"
      },
      {
        "duration": 1109,
        "start_time": "2023-05-10T10:41:13.448Z"
      },
      {
        "duration": 715,
        "start_time": "2023-05-10T10:41:14.559Z"
      },
      {
        "duration": 414,
        "start_time": "2023-05-10T10:41:15.276Z"
      },
      {
        "duration": 3,
        "start_time": "2023-05-10T10:41:15.692Z"
      },
      {
        "duration": 24,
        "start_time": "2023-05-10T10:41:15.697Z"
      },
      {
        "duration": 10,
        "start_time": "2023-05-10T10:41:15.722Z"
      },
      {
        "duration": 13,
        "start_time": "2023-05-10T10:41:15.734Z"
      },
      {
        "duration": 15,
        "start_time": "2023-05-10T10:41:15.748Z"
      },
      {
        "duration": 25,
        "start_time": "2023-05-10T10:41:15.765Z"
      },
      {
        "duration": 7,
        "start_time": "2023-05-10T10:41:15.792Z"
      },
      {
        "duration": 8,
        "start_time": "2023-05-10T10:41:15.800Z"
      },
      {
        "duration": 44,
        "start_time": "2023-05-10T10:41:15.809Z"
      },
      {
        "duration": 3,
        "start_time": "2023-05-10T10:41:15.856Z"
      },
      {
        "duration": 18,
        "start_time": "2023-05-10T10:48:35.514Z"
      },
      {
        "duration": 3,
        "start_time": "2023-05-10T10:48:37.225Z"
      },
      {
        "duration": 88,
        "start_time": "2023-05-11T20:14:48.959Z"
      },
      {
        "duration": 47,
        "start_time": "2023-05-11T20:15:03.005Z"
      },
      {
        "duration": 7,
        "start_time": "2023-05-11T20:17:07.056Z"
      },
      {
        "duration": 1123,
        "start_time": "2023-05-11T20:18:46.327Z"
      },
      {
        "duration": 2476,
        "start_time": "2023-05-11T20:18:47.452Z"
      },
      {
        "duration": 419,
        "start_time": "2023-05-11T20:18:49.931Z"
      },
      {
        "duration": 4,
        "start_time": "2023-05-11T20:18:50.352Z"
      },
      {
        "duration": 18,
        "start_time": "2023-05-11T20:18:50.358Z"
      },
      {
        "duration": 4,
        "start_time": "2023-05-11T20:18:50.386Z"
      },
      {
        "duration": 15,
        "start_time": "2023-05-11T20:18:50.392Z"
      },
      {
        "duration": 3,
        "start_time": "2023-05-11T20:18:50.408Z"
      },
      {
        "duration": 24,
        "start_time": "2023-05-11T20:18:50.413Z"
      },
      {
        "duration": 20,
        "start_time": "2023-05-11T20:18:50.439Z"
      },
      {
        "duration": 22,
        "start_time": "2023-05-11T20:18:50.461Z"
      },
      {
        "duration": 7,
        "start_time": "2023-05-11T20:18:50.488Z"
      },
      {
        "duration": 4,
        "start_time": "2023-05-11T20:19:25.956Z"
      },
      {
        "duration": 107,
        "start_time": "2023-05-11T20:19:44.310Z"
      },
      {
        "duration": 4,
        "start_time": "2023-05-11T20:19:50.457Z"
      },
      {
        "duration": 4,
        "start_time": "2023-05-11T20:37:08.126Z"
      },
      {
        "duration": 6,
        "start_time": "2023-05-11T20:38:01.972Z"
      },
      {
        "duration": 18,
        "start_time": "2023-05-11T20:40:11.822Z"
      },
      {
        "duration": 1804,
        "start_time": "2023-05-11T20:40:29.811Z"
      },
      {
        "duration": 976,
        "start_time": "2023-05-11T20:40:31.620Z"
      },
      {
        "duration": 410,
        "start_time": "2023-05-11T20:40:32.605Z"
      },
      {
        "duration": 3,
        "start_time": "2023-05-11T20:40:33.017Z"
      },
      {
        "duration": 9,
        "start_time": "2023-05-11T20:40:33.023Z"
      },
      {
        "duration": 3,
        "start_time": "2023-05-11T20:40:33.033Z"
      },
      {
        "duration": 13,
        "start_time": "2023-05-11T20:40:33.038Z"
      },
      {
        "duration": 52,
        "start_time": "2023-05-11T20:40:33.053Z"
      },
      {
        "duration": 33,
        "start_time": "2023-05-11T20:40:33.108Z"
      },
      {
        "duration": 20,
        "start_time": "2023-05-11T20:40:33.143Z"
      },
      {
        "duration": 4,
        "start_time": "2023-05-11T20:40:33.165Z"
      },
      {
        "duration": 13,
        "start_time": "2023-05-11T20:40:33.177Z"
      },
      {
        "duration": 9,
        "start_time": "2023-05-11T20:40:33.194Z"
      },
      {
        "duration": 4,
        "start_time": "2023-05-11T20:40:33.211Z"
      },
      {
        "duration": 4,
        "start_time": "2023-05-11T20:40:33.217Z"
      },
      {
        "duration": 294,
        "start_time": "2023-05-11T20:40:33.223Z"
      },
      {
        "duration": 287,
        "start_time": "2023-05-11T20:41:21.505Z"
      },
      {
        "duration": 387,
        "start_time": "2023-05-11T20:41:42.308Z"
      },
      {
        "duration": 161,
        "start_time": "2023-05-11T20:56:39.109Z"
      },
      {
        "duration": 185,
        "start_time": "2023-05-11T20:56:59.231Z"
      },
      {
        "duration": 195,
        "start_time": "2023-05-11T20:57:18.721Z"
      },
      {
        "duration": 152,
        "start_time": "2023-05-11T20:57:35.210Z"
      },
      {
        "duration": 91,
        "start_time": "2023-05-11T21:07:18.468Z"
      },
      {
        "duration": 51,
        "start_time": "2023-05-11T21:08:39.907Z"
      },
      {
        "duration": 1547,
        "start_time": "2023-05-13T10:05:19.116Z"
      },
      {
        "duration": 2126,
        "start_time": "2023-05-13T10:05:20.665Z"
      },
      {
        "duration": 371,
        "start_time": "2023-05-13T10:05:22.792Z"
      },
      {
        "duration": 13,
        "start_time": "2023-05-13T10:05:23.174Z"
      },
      {
        "duration": 13,
        "start_time": "2023-05-13T10:05:23.189Z"
      },
      {
        "duration": 3,
        "start_time": "2023-05-13T10:05:23.203Z"
      },
      {
        "duration": 6,
        "start_time": "2023-05-13T10:05:23.208Z"
      },
      {
        "duration": 5,
        "start_time": "2023-05-13T10:05:23.216Z"
      },
      {
        "duration": 25,
        "start_time": "2023-05-13T10:05:23.222Z"
      },
      {
        "duration": 47,
        "start_time": "2023-05-13T10:05:23.251Z"
      },
      {
        "duration": 4,
        "start_time": "2023-05-13T10:05:23.300Z"
      },
      {
        "duration": 14,
        "start_time": "2023-05-13T10:05:23.305Z"
      },
      {
        "duration": 8,
        "start_time": "2023-05-13T10:05:23.321Z"
      },
      {
        "duration": 16,
        "start_time": "2023-05-13T10:05:23.331Z"
      },
      {
        "duration": 4,
        "start_time": "2023-05-13T10:05:23.349Z"
      },
      {
        "duration": 274,
        "start_time": "2023-05-13T10:05:23.355Z"
      },
      {
        "duration": 291,
        "start_time": "2023-05-13T10:05:23.631Z"
      },
      {
        "duration": 423,
        "start_time": "2023-05-13T10:05:23.924Z"
      },
      {
        "duration": 183,
        "start_time": "2023-05-13T10:05:24.349Z"
      },
      {
        "duration": 192,
        "start_time": "2023-05-13T10:05:24.534Z"
      },
      {
        "duration": 176,
        "start_time": "2023-05-13T10:05:24.728Z"
      },
      {
        "duration": 162,
        "start_time": "2023-05-13T10:05:24.906Z"
      },
      {
        "duration": 55,
        "start_time": "2023-05-13T10:05:25.070Z"
      },
      {
        "duration": 4,
        "start_time": "2023-05-13T10:06:26.419Z"
      },
      {
        "duration": 6,
        "start_time": "2023-05-13T10:06:36.209Z"
      },
      {
        "duration": 11,
        "start_time": "2023-05-13T10:07:00.246Z"
      },
      {
        "duration": 10,
        "start_time": "2023-05-13T10:07:18.613Z"
      },
      {
        "duration": 14,
        "start_time": "2023-05-13T10:07:33.539Z"
      },
      {
        "duration": 51,
        "start_time": "2023-05-13T10:07:49.633Z"
      },
      {
        "duration": 12,
        "start_time": "2023-05-13T10:07:50.072Z"
      },
      {
        "duration": 43,
        "start_time": "2023-05-13T10:08:06.496Z"
      },
      {
        "duration": 9,
        "start_time": "2023-05-13T10:08:11.418Z"
      },
      {
        "duration": 4,
        "start_time": "2023-05-13T10:08:14.125Z"
      },
      {
        "duration": 121,
        "start_time": "2023-05-13T10:10:25.971Z"
      },
      {
        "duration": 17,
        "start_time": "2023-05-13T10:11:11.872Z"
      },
      {
        "duration": 11,
        "start_time": "2023-05-13T10:12:12.313Z"
      },
      {
        "duration": 9,
        "start_time": "2023-05-13T10:12:33.373Z"
      },
      {
        "duration": 30,
        "start_time": "2023-05-13T10:12:33.800Z"
      },
      {
        "duration": 9,
        "start_time": "2023-05-13T10:13:29.818Z"
      },
      {
        "duration": 28,
        "start_time": "2023-05-13T10:13:30.464Z"
      },
      {
        "duration": 5,
        "start_time": "2023-05-13T10:13:45.296Z"
      },
      {
        "duration": 19,
        "start_time": "2023-05-13T10:13:45.800Z"
      },
      {
        "duration": 19,
        "start_time": "2023-05-13T10:14:11.790Z"
      },
      {
        "duration": 52,
        "start_time": "2023-05-13T10:17:41.557Z"
      },
      {
        "duration": 1303,
        "start_time": "2023-05-13T10:19:36.200Z"
      },
      {
        "duration": 60,
        "start_time": "2023-05-13T10:19:37.505Z"
      },
      {
        "duration": 742,
        "start_time": "2023-05-13T10:19:37.567Z"
      },
      {
        "duration": 395,
        "start_time": "2023-05-13T10:19:38.312Z"
      },
      {
        "duration": 3,
        "start_time": "2023-05-13T10:19:38.709Z"
      },
      {
        "duration": 9,
        "start_time": "2023-05-13T10:19:38.714Z"
      },
      {
        "duration": 3,
        "start_time": "2023-05-13T10:19:38.725Z"
      },
      {
        "duration": 5,
        "start_time": "2023-05-13T10:19:38.730Z"
      },
      {
        "duration": 9,
        "start_time": "2023-05-13T10:19:38.738Z"
      },
      {
        "duration": 52,
        "start_time": "2023-05-13T10:19:38.750Z"
      },
      {
        "duration": 56,
        "start_time": "2023-05-13T10:19:38.804Z"
      },
      {
        "duration": 0,
        "start_time": "2023-05-13T10:19:38.862Z"
      },
      {
        "duration": 0,
        "start_time": "2023-05-13T10:19:38.863Z"
      },
      {
        "duration": 0,
        "start_time": "2023-05-13T10:19:38.864Z"
      },
      {
        "duration": 0,
        "start_time": "2023-05-13T10:19:38.866Z"
      },
      {
        "duration": 0,
        "start_time": "2023-05-13T10:19:38.868Z"
      },
      {
        "duration": 0,
        "start_time": "2023-05-13T10:19:38.869Z"
      },
      {
        "duration": 0,
        "start_time": "2023-05-13T10:19:38.871Z"
      },
      {
        "duration": 0,
        "start_time": "2023-05-13T10:19:38.871Z"
      },
      {
        "duration": 0,
        "start_time": "2023-05-13T10:19:38.872Z"
      },
      {
        "duration": 0,
        "start_time": "2023-05-13T10:19:38.874Z"
      },
      {
        "duration": 0,
        "start_time": "2023-05-13T10:19:38.875Z"
      },
      {
        "duration": 0,
        "start_time": "2023-05-13T10:19:38.879Z"
      },
      {
        "duration": 0,
        "start_time": "2023-05-13T10:19:38.880Z"
      },
      {
        "duration": 0,
        "start_time": "2023-05-13T10:19:38.880Z"
      },
      {
        "duration": 43,
        "start_time": "2023-05-13T10:19:46.611Z"
      },
      {
        "duration": 26,
        "start_time": "2023-05-13T10:28:05.106Z"
      },
      {
        "duration": 12,
        "start_time": "2023-05-13T10:28:25.603Z"
      },
      {
        "duration": 10,
        "start_time": "2023-05-13T10:28:54.174Z"
      },
      {
        "duration": 19,
        "start_time": "2023-05-13T10:29:33.844Z"
      },
      {
        "duration": 12,
        "start_time": "2023-05-13T10:29:38.120Z"
      },
      {
        "duration": 3,
        "start_time": "2023-05-13T10:29:51.722Z"
      },
      {
        "duration": 5,
        "start_time": "2023-05-13T10:35:24.728Z"
      },
      {
        "duration": 5,
        "start_time": "2023-05-13T10:35:25.870Z"
      },
      {
        "duration": 4,
        "start_time": "2023-05-13T10:35:27.798Z"
      },
      {
        "duration": 4,
        "start_time": "2023-05-13T10:35:28.576Z"
      },
      {
        "duration": 312,
        "start_time": "2023-05-13T10:35:29.662Z"
      },
      {
        "duration": 266,
        "start_time": "2023-05-13T10:35:30.154Z"
      },
      {
        "duration": 379,
        "start_time": "2023-05-13T10:35:31.566Z"
      },
      {
        "duration": 195,
        "start_time": "2023-05-13T10:35:34.305Z"
      },
      {
        "duration": 190,
        "start_time": "2023-05-13T10:35:35.274Z"
      },
      {
        "duration": 178,
        "start_time": "2023-05-13T10:35:35.770Z"
      },
      {
        "duration": 168,
        "start_time": "2023-05-13T10:35:36.373Z"
      },
      {
        "duration": 1342,
        "start_time": "2023-05-13T10:35:55.860Z"
      },
      {
        "duration": 760,
        "start_time": "2023-05-13T10:35:57.204Z"
      },
      {
        "duration": 398,
        "start_time": "2023-05-13T10:35:57.966Z"
      },
      {
        "duration": 10,
        "start_time": "2023-05-13T10:35:58.366Z"
      },
      {
        "duration": 6,
        "start_time": "2023-05-13T10:35:58.379Z"
      },
      {
        "duration": 3,
        "start_time": "2023-05-13T10:35:58.386Z"
      },
      {
        "duration": 5,
        "start_time": "2023-05-13T10:35:58.391Z"
      },
      {
        "duration": 3,
        "start_time": "2023-05-13T10:35:58.398Z"
      },
      {
        "duration": 26,
        "start_time": "2023-05-13T10:35:58.403Z"
      },
      {
        "duration": 45,
        "start_time": "2023-05-13T10:35:58.430Z"
      },
      {
        "duration": 9,
        "start_time": "2023-05-13T10:35:58.477Z"
      },
      {
        "duration": 4,
        "start_time": "2023-05-13T10:35:58.487Z"
      },
      {
        "duration": 5,
        "start_time": "2023-05-13T10:35:58.493Z"
      },
      {
        "duration": 8,
        "start_time": "2023-05-13T10:35:58.500Z"
      },
      {
        "duration": 6,
        "start_time": "2023-05-13T10:35:58.509Z"
      },
      {
        "duration": 285,
        "start_time": "2023-05-13T10:35:58.516Z"
      },
      {
        "duration": 283,
        "start_time": "2023-05-13T10:35:58.803Z"
      },
      {
        "duration": 270,
        "start_time": "2023-05-13T10:35:59.087Z"
      },
      {
        "duration": 271,
        "start_time": "2023-05-13T10:35:59.359Z"
      },
      {
        "duration": 202,
        "start_time": "2023-05-13T10:35:59.632Z"
      },
      {
        "duration": 174,
        "start_time": "2023-05-13T10:35:59.836Z"
      },
      {
        "duration": 163,
        "start_time": "2023-05-13T10:36:00.012Z"
      },
      {
        "duration": 49,
        "start_time": "2023-05-13T10:36:00.176Z"
      },
      {
        "duration": 62,
        "start_time": "2023-05-13T14:47:16.400Z"
      },
      {
        "duration": 1774,
        "start_time": "2023-05-13T14:47:31.394Z"
      },
      {
        "duration": 4509,
        "start_time": "2023-05-13T14:47:33.170Z"
      },
      {
        "duration": 381,
        "start_time": "2023-05-13T14:47:37.681Z"
      },
      {
        "duration": 3,
        "start_time": "2023-05-13T14:47:38.064Z"
      },
      {
        "duration": 13,
        "start_time": "2023-05-13T14:47:38.069Z"
      },
      {
        "duration": 6,
        "start_time": "2023-05-13T14:47:38.084Z"
      },
      {
        "duration": 10,
        "start_time": "2023-05-13T14:47:38.092Z"
      },
      {
        "duration": 6,
        "start_time": "2023-05-13T14:47:38.103Z"
      },
      {
        "duration": 47,
        "start_time": "2023-05-13T14:47:38.111Z"
      },
      {
        "duration": 19,
        "start_time": "2023-05-13T14:47:38.159Z"
      },
      {
        "duration": 18,
        "start_time": "2023-05-13T14:47:38.180Z"
      },
      {
        "duration": 8,
        "start_time": "2023-05-13T14:47:38.200Z"
      },
      {
        "duration": 4,
        "start_time": "2023-05-13T14:47:38.209Z"
      },
      {
        "duration": 6,
        "start_time": "2023-05-13T14:47:38.216Z"
      },
      {
        "duration": 26,
        "start_time": "2023-05-13T14:47:38.224Z"
      },
      {
        "duration": 7,
        "start_time": "2023-05-13T14:47:38.254Z"
      },
      {
        "duration": 304,
        "start_time": "2023-05-13T14:47:38.263Z"
      },
      {
        "duration": 290,
        "start_time": "2023-05-13T14:47:38.568Z"
      },
      {
        "duration": 350,
        "start_time": "2023-05-13T14:47:38.859Z"
      },
      {
        "duration": 203,
        "start_time": "2023-05-13T14:47:39.211Z"
      },
      {
        "duration": 205,
        "start_time": "2023-05-13T14:47:39.416Z"
      },
      {
        "duration": 251,
        "start_time": "2023-05-13T14:47:39.623Z"
      },
      {
        "duration": 157,
        "start_time": "2023-05-13T14:47:39.877Z"
      },
      {
        "duration": 130,
        "start_time": "2023-05-13T14:47:40.036Z"
      },
      {
        "duration": 15,
        "start_time": "2023-05-13T14:48:26.626Z"
      },
      {
        "duration": 4,
        "start_time": "2023-05-13T14:50:11.683Z"
      },
      {
        "duration": 5,
        "start_time": "2023-05-13T15:37:58.489Z"
      },
      {
        "duration": 4,
        "start_time": "2023-05-13T15:38:00.034Z"
      },
      {
        "duration": 3,
        "start_time": "2023-05-13T15:38:21.337Z"
      },
      {
        "duration": 5,
        "start_time": "2023-05-13T15:38:22.588Z"
      },
      {
        "duration": 25,
        "start_time": "2023-05-13T15:38:30.778Z"
      },
      {
        "duration": 3,
        "start_time": "2023-05-13T15:38:32.176Z"
      },
      {
        "duration": 3,
        "start_time": "2023-05-13T15:38:32.683Z"
      },
      {
        "duration": 1375,
        "start_time": "2023-05-13T15:38:52.902Z"
      },
      {
        "duration": 812,
        "start_time": "2023-05-13T15:38:54.279Z"
      },
      {
        "duration": 401,
        "start_time": "2023-05-13T15:38:55.093Z"
      },
      {
        "duration": 3,
        "start_time": "2023-05-13T15:38:55.497Z"
      },
      {
        "duration": 18,
        "start_time": "2023-05-13T15:38:55.502Z"
      },
      {
        "duration": 7,
        "start_time": "2023-05-13T15:38:55.522Z"
      },
      {
        "duration": 17,
        "start_time": "2023-05-13T15:38:55.531Z"
      },
      {
        "duration": 14,
        "start_time": "2023-05-13T15:38:55.549Z"
      },
      {
        "duration": 30,
        "start_time": "2023-05-13T15:38:55.565Z"
      },
      {
        "duration": 26,
        "start_time": "2023-05-13T15:38:55.597Z"
      },
      {
        "duration": 12,
        "start_time": "2023-05-13T15:38:55.625Z"
      },
      {
        "duration": 23,
        "start_time": "2023-05-13T15:38:55.639Z"
      },
      {
        "duration": 14,
        "start_time": "2023-05-13T15:38:55.664Z"
      },
      {
        "duration": 5,
        "start_time": "2023-05-13T15:38:55.680Z"
      },
      {
        "duration": 17,
        "start_time": "2023-05-13T15:38:55.687Z"
      },
      {
        "duration": 16,
        "start_time": "2023-05-13T15:38:55.706Z"
      },
      {
        "duration": 22,
        "start_time": "2023-05-13T15:38:55.724Z"
      },
      {
        "duration": 281,
        "start_time": "2023-05-13T15:38:55.748Z"
      },
      {
        "duration": 266,
        "start_time": "2023-05-13T15:38:56.031Z"
      },
      {
        "duration": 285,
        "start_time": "2023-05-13T15:38:56.299Z"
      },
      {
        "duration": 264,
        "start_time": "2023-05-13T15:38:56.587Z"
      },
      {
        "duration": 183,
        "start_time": "2023-05-13T15:38:56.853Z"
      },
      {
        "duration": 176,
        "start_time": "2023-05-13T15:38:57.039Z"
      },
      {
        "duration": 164,
        "start_time": "2023-05-13T15:38:57.217Z"
      },
      {
        "duration": 75,
        "start_time": "2023-05-13T15:38:57.383Z"
      },
      {
        "duration": 28,
        "start_time": "2023-05-13T15:42:05.533Z"
      },
      {
        "duration": 3,
        "start_time": "2023-05-13T15:42:08.262Z"
      },
      {
        "duration": 4,
        "start_time": "2023-05-13T15:42:08.769Z"
      },
      {
        "duration": 3,
        "start_time": "2023-05-13T15:42:38.397Z"
      },
      {
        "duration": 142,
        "start_time": "2023-05-13T15:46:37.552Z"
      },
      {
        "duration": 1384,
        "start_time": "2023-05-13T15:46:53.856Z"
      },
      {
        "duration": 776,
        "start_time": "2023-05-13T15:46:55.245Z"
      },
      {
        "duration": 405,
        "start_time": "2023-05-13T15:46:56.022Z"
      },
      {
        "duration": 4,
        "start_time": "2023-05-13T15:46:56.429Z"
      },
      {
        "duration": 7,
        "start_time": "2023-05-13T15:46:56.445Z"
      },
      {
        "duration": 11,
        "start_time": "2023-05-13T15:46:56.454Z"
      },
      {
        "duration": 14,
        "start_time": "2023-05-13T15:46:56.467Z"
      },
      {
        "duration": 12,
        "start_time": "2023-05-13T15:46:56.482Z"
      },
      {
        "duration": 37,
        "start_time": "2023-05-13T15:46:56.497Z"
      },
      {
        "duration": 149,
        "start_time": "2023-05-13T15:46:56.536Z"
      },
      {
        "duration": 0,
        "start_time": "2023-05-13T15:46:56.688Z"
      },
      {
        "duration": 0,
        "start_time": "2023-05-13T15:46:56.690Z"
      },
      {
        "duration": 0,
        "start_time": "2023-05-13T15:46:56.692Z"
      },
      {
        "duration": 0,
        "start_time": "2023-05-13T15:46:56.693Z"
      },
      {
        "duration": 0,
        "start_time": "2023-05-13T15:46:56.695Z"
      },
      {
        "duration": 0,
        "start_time": "2023-05-13T15:46:56.696Z"
      },
      {
        "duration": 0,
        "start_time": "2023-05-13T15:46:56.698Z"
      },
      {
        "duration": 0,
        "start_time": "2023-05-13T15:46:56.700Z"
      },
      {
        "duration": 0,
        "start_time": "2023-05-13T15:46:56.702Z"
      },
      {
        "duration": 0,
        "start_time": "2023-05-13T15:46:56.703Z"
      },
      {
        "duration": 0,
        "start_time": "2023-05-13T15:46:56.705Z"
      },
      {
        "duration": 0,
        "start_time": "2023-05-13T15:46:56.706Z"
      },
      {
        "duration": 0,
        "start_time": "2023-05-13T15:46:56.707Z"
      },
      {
        "duration": 0,
        "start_time": "2023-05-13T15:46:56.709Z"
      },
      {
        "duration": 0,
        "start_time": "2023-05-13T15:46:56.747Z"
      },
      {
        "duration": 10,
        "start_time": "2023-05-13T15:52:50.863Z"
      },
      {
        "duration": 9,
        "start_time": "2023-05-13T15:55:59.006Z"
      },
      {
        "duration": 4,
        "start_time": "2023-05-13T15:56:01.206Z"
      },
      {
        "duration": 6,
        "start_time": "2023-05-13T15:56:39.975Z"
      },
      {
        "duration": 15,
        "start_time": "2023-05-13T15:57:07.222Z"
      },
      {
        "duration": 3,
        "start_time": "2023-05-13T15:57:09.305Z"
      },
      {
        "duration": 39,
        "start_time": "2023-05-13T16:03:42.679Z"
      },
      {
        "duration": 18,
        "start_time": "2023-05-13T16:03:43.079Z"
      },
      {
        "duration": 96,
        "start_time": "2023-05-13T16:05:06.203Z"
      },
      {
        "duration": 97,
        "start_time": "2023-05-13T16:31:10.280Z"
      },
      {
        "duration": 10,
        "start_time": "2023-05-13T16:31:38.712Z"
      },
      {
        "duration": 192,
        "start_time": "2023-05-13T16:33:25.128Z"
      },
      {
        "duration": 145,
        "start_time": "2023-05-13T16:33:43.666Z"
      },
      {
        "duration": 192,
        "start_time": "2023-05-13T16:33:58.207Z"
      },
      {
        "duration": 5,
        "start_time": "2023-05-13T16:39:33.211Z"
      },
      {
        "duration": 4,
        "start_time": "2023-05-13T16:39:36.914Z"
      },
      {
        "duration": 4,
        "start_time": "2023-05-13T16:39:37.387Z"
      },
      {
        "duration": 4,
        "start_time": "2023-05-13T16:39:37.956Z"
      },
      {
        "duration": 244,
        "start_time": "2023-05-13T16:39:39.111Z"
      },
      {
        "duration": 320,
        "start_time": "2023-05-13T16:39:39.592Z"
      },
      {
        "duration": 267,
        "start_time": "2023-05-13T16:39:39.955Z"
      },
      {
        "duration": 158,
        "start_time": "2023-05-13T16:39:54.733Z"
      },
      {
        "duration": 179,
        "start_time": "2023-05-13T16:39:55.289Z"
      },
      {
        "duration": 162,
        "start_time": "2023-05-13T16:39:55.667Z"
      },
      {
        "duration": 153,
        "start_time": "2023-05-13T16:39:56.166Z"
      },
      {
        "duration": 3,
        "start_time": "2023-05-13T16:40:56.085Z"
      },
      {
        "duration": 3,
        "start_time": "2023-05-13T16:40:57.578Z"
      },
      {
        "duration": 9,
        "start_time": "2023-05-13T16:40:59.146Z"
      },
      {
        "duration": 1654,
        "start_time": "2023-05-13T16:41:14.089Z"
      },
      {
        "duration": 791,
        "start_time": "2023-05-13T16:41:15.745Z"
      },
      {
        "duration": 388,
        "start_time": "2023-05-13T16:41:16.538Z"
      },
      {
        "duration": 3,
        "start_time": "2023-05-13T16:41:16.929Z"
      },
      {
        "duration": 38,
        "start_time": "2023-05-13T16:41:16.947Z"
      },
      {
        "duration": 18,
        "start_time": "2023-05-13T16:41:16.987Z"
      },
      {
        "duration": 39,
        "start_time": "2023-05-13T16:41:17.007Z"
      },
      {
        "duration": 22,
        "start_time": "2023-05-13T16:41:17.048Z"
      },
      {
        "duration": 32,
        "start_time": "2023-05-13T16:41:17.072Z"
      },
      {
        "duration": 40,
        "start_time": "2023-05-13T16:41:17.106Z"
      },
      {
        "duration": 25,
        "start_time": "2023-05-13T16:41:17.148Z"
      },
      {
        "duration": 42,
        "start_time": "2023-05-13T16:41:17.175Z"
      },
      {
        "duration": 21,
        "start_time": "2023-05-13T16:41:17.219Z"
      },
      {
        "duration": 10,
        "start_time": "2023-05-13T16:41:17.244Z"
      },
      {
        "duration": 17,
        "start_time": "2023-05-13T16:41:17.256Z"
      },
      {
        "duration": 27,
        "start_time": "2023-05-13T16:41:17.275Z"
      },
      {
        "duration": 11,
        "start_time": "2023-05-13T16:41:17.304Z"
      },
      {
        "duration": 24,
        "start_time": "2023-05-13T16:41:17.316Z"
      },
      {
        "duration": 16,
        "start_time": "2023-05-13T16:41:17.342Z"
      },
      {
        "duration": 25,
        "start_time": "2023-05-13T16:41:17.360Z"
      },
      {
        "duration": 322,
        "start_time": "2023-05-13T16:41:17.387Z"
      },
      {
        "duration": 278,
        "start_time": "2023-05-13T16:41:17.712Z"
      },
      {
        "duration": 332,
        "start_time": "2023-05-13T16:41:17.993Z"
      },
      {
        "duration": 275,
        "start_time": "2023-05-13T16:41:18.327Z"
      },
      {
        "duration": 194,
        "start_time": "2023-05-13T16:41:18.604Z"
      },
      {
        "duration": 183,
        "start_time": "2023-05-13T16:41:18.800Z"
      },
      {
        "duration": 167,
        "start_time": "2023-05-13T16:41:18.985Z"
      },
      {
        "duration": 11,
        "start_time": "2023-05-13T16:41:19.154Z"
      },
      {
        "duration": 205,
        "start_time": "2023-05-13T16:41:19.167Z"
      },
      {
        "duration": 4,
        "start_time": "2023-05-13T16:44:07.701Z"
      },
      {
        "duration": 17,
        "start_time": "2023-05-13T16:47:47.743Z"
      },
      {
        "duration": 3,
        "start_time": "2023-05-13T16:50:32.215Z"
      },
      {
        "duration": 4,
        "start_time": "2023-05-13T17:08:47.206Z"
      },
      {
        "duration": 7,
        "start_time": "2023-05-13T17:09:44.191Z"
      },
      {
        "duration": 3,
        "start_time": "2023-05-13T17:09:47.668Z"
      },
      {
        "duration": 7,
        "start_time": "2023-05-13T17:09:48.437Z"
      },
      {
        "duration": 109,
        "start_time": "2023-05-13T17:10:08.466Z"
      },
      {
        "duration": 3,
        "start_time": "2023-05-13T17:11:15.810Z"
      },
      {
        "duration": 1403,
        "start_time": "2023-05-13T17:11:24.439Z"
      },
      {
        "duration": 794,
        "start_time": "2023-05-13T17:11:25.845Z"
      },
      {
        "duration": 399,
        "start_time": "2023-05-13T17:11:26.641Z"
      },
      {
        "duration": 3,
        "start_time": "2023-05-13T17:11:27.047Z"
      },
      {
        "duration": 28,
        "start_time": "2023-05-13T17:11:27.053Z"
      },
      {
        "duration": 6,
        "start_time": "2023-05-13T17:11:27.083Z"
      },
      {
        "duration": 13,
        "start_time": "2023-05-13T17:11:27.091Z"
      },
      {
        "duration": 19,
        "start_time": "2023-05-13T17:11:27.105Z"
      },
      {
        "duration": 35,
        "start_time": "2023-05-13T17:11:27.125Z"
      },
      {
        "duration": 13,
        "start_time": "2023-05-13T17:11:27.161Z"
      },
      {
        "duration": 12,
        "start_time": "2023-05-13T17:11:27.176Z"
      },
      {
        "duration": 21,
        "start_time": "2023-05-13T17:11:27.190Z"
      },
      {
        "duration": 3,
        "start_time": "2023-05-13T17:11:27.213Z"
      },
      {
        "duration": 8,
        "start_time": "2023-05-13T17:11:27.219Z"
      },
      {
        "duration": 11,
        "start_time": "2023-05-13T17:11:27.229Z"
      },
      {
        "duration": 9,
        "start_time": "2023-05-13T17:11:27.245Z"
      },
      {
        "duration": 16,
        "start_time": "2023-05-13T17:11:27.255Z"
      },
      {
        "duration": 15,
        "start_time": "2023-05-13T17:11:27.272Z"
      },
      {
        "duration": 9,
        "start_time": "2023-05-13T17:11:27.288Z"
      },
      {
        "duration": 272,
        "start_time": "2023-05-13T17:11:27.299Z"
      },
      {
        "duration": 287,
        "start_time": "2023-05-13T17:11:27.573Z"
      },
      {
        "duration": 285,
        "start_time": "2023-05-13T17:11:27.862Z"
      },
      {
        "duration": 276,
        "start_time": "2023-05-13T17:11:28.149Z"
      },
      {
        "duration": 188,
        "start_time": "2023-05-13T17:11:28.427Z"
      },
      {
        "duration": 176,
        "start_time": "2023-05-13T17:11:28.617Z"
      },
      {
        "duration": 174,
        "start_time": "2023-05-13T17:11:28.795Z"
      },
      {
        "duration": 17,
        "start_time": "2023-05-13T17:11:28.971Z"
      },
      {
        "duration": 225,
        "start_time": "2023-05-13T17:11:28.991Z"
      },
      {
        "duration": 3,
        "start_time": "2023-05-13T17:11:29.218Z"
      },
      {
        "duration": 31,
        "start_time": "2023-05-13T17:11:29.223Z"
      },
      {
        "duration": 19,
        "start_time": "2023-05-13T17:11:29.256Z"
      },
      {
        "duration": 32,
        "start_time": "2023-05-13T17:11:29.277Z"
      },
      {
        "duration": 117,
        "start_time": "2023-05-13T17:12:43.020Z"
      },
      {
        "duration": 4,
        "start_time": "2023-05-13T17:13:46.864Z"
      },
      {
        "duration": 1423,
        "start_time": "2023-05-13T17:13:59.404Z"
      },
      {
        "duration": 788,
        "start_time": "2023-05-13T17:14:00.829Z"
      },
      {
        "duration": 437,
        "start_time": "2023-05-13T17:14:01.620Z"
      },
      {
        "duration": 3,
        "start_time": "2023-05-13T17:14:02.060Z"
      },
      {
        "duration": 48,
        "start_time": "2023-05-13T17:14:02.065Z"
      },
      {
        "duration": 42,
        "start_time": "2023-05-13T17:14:02.116Z"
      },
      {
        "duration": 41,
        "start_time": "2023-05-13T17:14:02.160Z"
      },
      {
        "duration": 18,
        "start_time": "2023-05-13T17:14:02.204Z"
      },
      {
        "duration": 64,
        "start_time": "2023-05-13T17:14:02.224Z"
      },
      {
        "duration": 77,
        "start_time": "2023-05-13T17:14:02.292Z"
      },
      {
        "duration": 87,
        "start_time": "2023-05-13T17:14:02.371Z"
      },
      {
        "duration": 103,
        "start_time": "2023-05-13T17:14:02.460Z"
      },
      {
        "duration": 32,
        "start_time": "2023-05-13T17:14:02.566Z"
      },
      {
        "duration": 24,
        "start_time": "2023-05-13T17:14:02.600Z"
      },
      {
        "duration": 38,
        "start_time": "2023-05-13T17:14:02.627Z"
      },
      {
        "duration": 47,
        "start_time": "2023-05-13T17:14:02.667Z"
      },
      {
        "duration": 32,
        "start_time": "2023-05-13T17:14:02.716Z"
      },
      {
        "duration": 10,
        "start_time": "2023-05-13T17:14:02.750Z"
      },
      {
        "duration": 10,
        "start_time": "2023-05-13T17:14:02.762Z"
      },
      {
        "duration": 290,
        "start_time": "2023-05-13T17:14:02.774Z"
      },
      {
        "duration": 276,
        "start_time": "2023-05-13T17:14:03.066Z"
      },
      {
        "duration": 271,
        "start_time": "2023-05-13T17:14:03.343Z"
      },
      {
        "duration": 257,
        "start_time": "2023-05-13T17:14:03.616Z"
      },
      {
        "duration": 177,
        "start_time": "2023-05-13T17:14:03.875Z"
      },
      {
        "duration": 165,
        "start_time": "2023-05-13T17:14:04.054Z"
      },
      {
        "duration": 172,
        "start_time": "2023-05-13T17:14:04.220Z"
      },
      {
        "duration": 14,
        "start_time": "2023-05-13T17:14:04.393Z"
      },
      {
        "duration": 200,
        "start_time": "2023-05-13T17:14:04.411Z"
      },
      {
        "duration": 4,
        "start_time": "2023-05-13T17:14:04.613Z"
      },
      {
        "duration": 9,
        "start_time": "2023-05-13T17:14:04.618Z"
      },
      {
        "duration": 18,
        "start_time": "2023-05-13T17:14:04.629Z"
      },
      {
        "duration": 33,
        "start_time": "2023-05-13T17:14:04.649Z"
      },
      {
        "duration": 112,
        "start_time": "2023-05-13T17:14:04.684Z"
      },
      {
        "duration": 1439,
        "start_time": "2023-05-13T17:14:46.617Z"
      },
      {
        "duration": 801,
        "start_time": "2023-05-13T17:14:48.058Z"
      },
      {
        "duration": 386,
        "start_time": "2023-05-13T17:14:48.860Z"
      },
      {
        "duration": 3,
        "start_time": "2023-05-13T17:14:49.248Z"
      },
      {
        "duration": 18,
        "start_time": "2023-05-13T17:14:49.252Z"
      },
      {
        "duration": 12,
        "start_time": "2023-05-13T17:14:49.272Z"
      },
      {
        "duration": 34,
        "start_time": "2023-05-13T17:14:49.285Z"
      },
      {
        "duration": 23,
        "start_time": "2023-05-13T17:14:49.321Z"
      },
      {
        "duration": 70,
        "start_time": "2023-05-13T17:14:49.346Z"
      },
      {
        "duration": 33,
        "start_time": "2023-05-13T17:14:49.419Z"
      },
      {
        "duration": 22,
        "start_time": "2023-05-13T17:14:49.454Z"
      },
      {
        "duration": 27,
        "start_time": "2023-05-13T17:14:49.478Z"
      },
      {
        "duration": 17,
        "start_time": "2023-05-13T17:14:49.507Z"
      },
      {
        "duration": 27,
        "start_time": "2023-05-13T17:14:49.526Z"
      },
      {
        "duration": 24,
        "start_time": "2023-05-13T17:14:49.555Z"
      },
      {
        "duration": 16,
        "start_time": "2023-05-13T17:14:49.581Z"
      },
      {
        "duration": 23,
        "start_time": "2023-05-13T17:14:49.599Z"
      },
      {
        "duration": 20,
        "start_time": "2023-05-13T17:14:49.623Z"
      },
      {
        "duration": 15,
        "start_time": "2023-05-13T17:14:49.645Z"
      },
      {
        "duration": 304,
        "start_time": "2023-05-13T17:14:49.662Z"
      },
      {
        "duration": 298,
        "start_time": "2023-05-13T17:14:49.969Z"
      },
      {
        "duration": 286,
        "start_time": "2023-05-13T17:14:50.269Z"
      },
      {
        "duration": 257,
        "start_time": "2023-05-13T17:14:50.556Z"
      },
      {
        "duration": 192,
        "start_time": "2023-05-13T17:14:50.815Z"
      },
      {
        "duration": 182,
        "start_time": "2023-05-13T17:14:51.009Z"
      },
      {
        "duration": 171,
        "start_time": "2023-05-13T17:14:51.194Z"
      },
      {
        "duration": 13,
        "start_time": "2023-05-13T17:14:51.367Z"
      },
      {
        "duration": 219,
        "start_time": "2023-05-13T17:14:51.384Z"
      },
      {
        "duration": 3,
        "start_time": "2023-05-13T17:14:51.604Z"
      },
      {
        "duration": 14,
        "start_time": "2023-05-13T17:14:51.609Z"
      },
      {
        "duration": 35,
        "start_time": "2023-05-13T17:14:51.625Z"
      },
      {
        "duration": 39,
        "start_time": "2023-05-13T17:14:51.663Z"
      },
      {
        "duration": 29,
        "start_time": "2023-05-13T17:14:51.704Z"
      },
      {
        "duration": 1550,
        "start_time": "2023-05-13T17:15:36.698Z"
      },
      {
        "duration": 778,
        "start_time": "2023-05-13T17:15:38.250Z"
      },
      {
        "duration": 377,
        "start_time": "2023-05-13T17:15:39.029Z"
      },
      {
        "duration": 3,
        "start_time": "2023-05-13T17:15:39.409Z"
      },
      {
        "duration": 14,
        "start_time": "2023-05-13T17:15:39.413Z"
      },
      {
        "duration": 3,
        "start_time": "2023-05-13T17:15:39.430Z"
      },
      {
        "duration": 6,
        "start_time": "2023-05-13T17:15:39.447Z"
      },
      {
        "duration": 6,
        "start_time": "2023-05-13T17:15:39.456Z"
      },
      {
        "duration": 32,
        "start_time": "2023-05-13T17:15:39.464Z"
      },
      {
        "duration": 10,
        "start_time": "2023-05-13T17:15:39.500Z"
      },
      {
        "duration": 12,
        "start_time": "2023-05-13T17:15:39.512Z"
      },
      {
        "duration": 26,
        "start_time": "2023-05-13T17:15:39.525Z"
      },
      {
        "duration": 4,
        "start_time": "2023-05-13T17:15:39.552Z"
      },
      {
        "duration": 7,
        "start_time": "2023-05-13T17:15:39.559Z"
      },
      {
        "duration": 13,
        "start_time": "2023-05-13T17:15:39.568Z"
      },
      {
        "duration": 8,
        "start_time": "2023-05-13T17:15:39.583Z"
      },
      {
        "duration": 10,
        "start_time": "2023-05-13T17:15:39.593Z"
      },
      {
        "duration": 10,
        "start_time": "2023-05-13T17:15:39.605Z"
      },
      {
        "duration": 8,
        "start_time": "2023-05-13T17:15:39.617Z"
      },
      {
        "duration": 276,
        "start_time": "2023-05-13T17:15:39.627Z"
      },
      {
        "duration": 253,
        "start_time": "2023-05-13T17:15:39.905Z"
      },
      {
        "duration": 364,
        "start_time": "2023-05-13T17:15:40.160Z"
      },
      {
        "duration": 171,
        "start_time": "2023-05-13T17:15:40.526Z"
      },
      {
        "duration": 177,
        "start_time": "2023-05-13T17:15:40.698Z"
      },
      {
        "duration": 182,
        "start_time": "2023-05-13T17:15:40.877Z"
      },
      {
        "duration": 164,
        "start_time": "2023-05-13T17:15:41.060Z"
      },
      {
        "duration": 24,
        "start_time": "2023-05-13T17:15:41.226Z"
      },
      {
        "duration": 187,
        "start_time": "2023-05-13T17:15:41.254Z"
      },
      {
        "duration": 3,
        "start_time": "2023-05-13T17:15:41.446Z"
      },
      {
        "duration": 11,
        "start_time": "2023-05-13T17:15:41.450Z"
      },
      {
        "duration": 12,
        "start_time": "2023-05-13T17:15:41.463Z"
      },
      {
        "duration": 28,
        "start_time": "2023-05-13T17:15:41.476Z"
      },
      {
        "duration": 27,
        "start_time": "2023-05-13T17:15:41.505Z"
      },
      {
        "duration": 27,
        "start_time": "2023-05-13T17:15:52.436Z"
      },
      {
        "duration": 1525,
        "start_time": "2023-05-14T08:10:09.699Z"
      },
      {
        "duration": 3738,
        "start_time": "2023-05-14T08:10:11.225Z"
      },
      {
        "duration": 381,
        "start_time": "2023-05-14T08:10:14.964Z"
      },
      {
        "duration": 3,
        "start_time": "2023-05-14T08:10:15.347Z"
      },
      {
        "duration": 15,
        "start_time": "2023-05-14T08:10:15.353Z"
      },
      {
        "duration": 10,
        "start_time": "2023-05-14T08:10:15.369Z"
      },
      {
        "duration": 29,
        "start_time": "2023-05-14T08:10:15.381Z"
      },
      {
        "duration": 6,
        "start_time": "2023-05-14T08:10:15.412Z"
      },
      {
        "duration": 19,
        "start_time": "2023-05-14T08:10:15.421Z"
      },
      {
        "duration": 16,
        "start_time": "2023-05-14T08:10:15.442Z"
      },
      {
        "duration": 5,
        "start_time": "2023-05-14T08:10:15.460Z"
      },
      {
        "duration": 18,
        "start_time": "2023-05-14T08:10:15.467Z"
      },
      {
        "duration": 24,
        "start_time": "2023-05-14T08:10:15.486Z"
      },
      {
        "duration": 11,
        "start_time": "2023-05-14T08:10:15.512Z"
      },
      {
        "duration": 7,
        "start_time": "2023-05-14T08:10:15.524Z"
      },
      {
        "duration": 12,
        "start_time": "2023-05-14T08:10:15.532Z"
      },
      {
        "duration": 13,
        "start_time": "2023-05-14T08:10:15.545Z"
      },
      {
        "duration": 8,
        "start_time": "2023-05-14T08:10:15.559Z"
      },
      {
        "duration": 13,
        "start_time": "2023-05-14T08:10:15.569Z"
      },
      {
        "duration": 265,
        "start_time": "2023-05-14T08:10:15.583Z"
      },
      {
        "duration": 347,
        "start_time": "2023-05-14T08:10:15.849Z"
      },
      {
        "duration": 357,
        "start_time": "2023-05-14T08:10:16.198Z"
      },
      {
        "duration": 179,
        "start_time": "2023-05-14T08:10:16.557Z"
      },
      {
        "duration": 187,
        "start_time": "2023-05-14T08:10:16.739Z"
      },
      {
        "duration": 183,
        "start_time": "2023-05-14T08:10:16.928Z"
      },
      {
        "duration": 189,
        "start_time": "2023-05-14T08:10:17.113Z"
      },
      {
        "duration": 13,
        "start_time": "2023-05-14T08:10:17.304Z"
      },
      {
        "duration": 188,
        "start_time": "2023-05-14T08:10:17.318Z"
      },
      {
        "duration": 3,
        "start_time": "2023-05-14T08:10:17.507Z"
      },
      {
        "duration": 64,
        "start_time": "2023-05-14T08:10:17.512Z"
      },
      {
        "duration": 30,
        "start_time": "2023-05-14T08:10:17.578Z"
      },
      {
        "duration": 29,
        "start_time": "2023-05-14T08:10:17.610Z"
      },
      {
        "duration": 24,
        "start_time": "2023-05-14T08:10:17.641Z"
      },
      {
        "duration": 17,
        "start_time": "2023-05-14T08:14:28.944Z"
      },
      {
        "duration": 6,
        "start_time": "2023-05-14T08:17:31.720Z"
      },
      {
        "duration": 7,
        "start_time": "2023-05-14T08:18:13.259Z"
      },
      {
        "duration": 17,
        "start_time": "2023-05-14T08:18:55.004Z"
      },
      {
        "duration": 15,
        "start_time": "2023-05-14T08:19:15.805Z"
      },
      {
        "duration": 13,
        "start_time": "2023-05-14T08:19:18.314Z"
      },
      {
        "duration": 1576,
        "start_time": "2023-05-14T08:19:34.243Z"
      },
      {
        "duration": 990,
        "start_time": "2023-05-14T08:19:35.821Z"
      },
      {
        "duration": 389,
        "start_time": "2023-05-14T08:19:36.813Z"
      },
      {
        "duration": 3,
        "start_time": "2023-05-14T08:19:37.209Z"
      },
      {
        "duration": 10,
        "start_time": "2023-05-14T08:19:37.214Z"
      },
      {
        "duration": 7,
        "start_time": "2023-05-14T08:19:37.226Z"
      },
      {
        "duration": 8,
        "start_time": "2023-05-14T08:19:37.235Z"
      },
      {
        "duration": 6,
        "start_time": "2023-05-14T08:19:37.245Z"
      },
      {
        "duration": 30,
        "start_time": "2023-05-14T08:19:37.253Z"
      },
      {
        "duration": 28,
        "start_time": "2023-05-14T08:19:37.287Z"
      },
      {
        "duration": 7,
        "start_time": "2023-05-14T08:19:37.316Z"
      },
      {
        "duration": 18,
        "start_time": "2023-05-14T08:19:37.324Z"
      },
      {
        "duration": 5,
        "start_time": "2023-05-14T08:19:37.344Z"
      },
      {
        "duration": 10,
        "start_time": "2023-05-14T08:19:37.352Z"
      },
      {
        "duration": 7,
        "start_time": "2023-05-14T08:19:37.363Z"
      },
      {
        "duration": 34,
        "start_time": "2023-05-14T08:19:37.372Z"
      },
      {
        "duration": 17,
        "start_time": "2023-05-14T08:19:37.408Z"
      },
      {
        "duration": 6,
        "start_time": "2023-05-14T08:19:37.427Z"
      },
      {
        "duration": 18,
        "start_time": "2023-05-14T08:19:37.435Z"
      },
      {
        "duration": 7,
        "start_time": "2023-05-14T08:19:37.454Z"
      },
      {
        "duration": 9,
        "start_time": "2023-05-14T08:19:37.463Z"
      },
      {
        "duration": 253,
        "start_time": "2023-05-14T08:19:37.473Z"
      },
      {
        "duration": 243,
        "start_time": "2023-05-14T08:19:37.727Z"
      },
      {
        "duration": 333,
        "start_time": "2023-05-14T08:19:37.972Z"
      },
      {
        "duration": 161,
        "start_time": "2023-05-14T08:19:38.308Z"
      },
      {
        "duration": 206,
        "start_time": "2023-05-14T08:19:38.470Z"
      },
      {
        "duration": 145,
        "start_time": "2023-05-14T08:19:38.677Z"
      },
      {
        "duration": 140,
        "start_time": "2023-05-14T08:19:38.824Z"
      },
      {
        "duration": 12,
        "start_time": "2023-05-14T08:19:38.966Z"
      },
      {
        "duration": 161,
        "start_time": "2023-05-14T08:19:38.990Z"
      },
      {
        "duration": 3,
        "start_time": "2023-05-14T08:19:39.153Z"
      },
      {
        "duration": 12,
        "start_time": "2023-05-14T08:19:39.158Z"
      },
      {
        "duration": 17,
        "start_time": "2023-05-14T08:19:39.172Z"
      },
      {
        "duration": 38,
        "start_time": "2023-05-14T08:19:39.191Z"
      },
      {
        "duration": 2544,
        "start_time": "2023-05-14T08:19:39.231Z"
      },
      {
        "duration": 566,
        "start_time": "2023-05-14T08:20:41.044Z"
      },
      {
        "duration": 3347,
        "start_time": "2023-05-14T08:21:06.324Z"
      },
      {
        "duration": 14104,
        "start_time": "2023-05-14T08:26:08.214Z"
      },
      {
        "duration": 1698,
        "start_time": "2023-05-14T08:29:17.920Z"
      },
      {
        "duration": 7,
        "start_time": "2023-05-14T08:30:40.155Z"
      },
      {
        "duration": 16,
        "start_time": "2023-05-14T08:30:40.908Z"
      },
      {
        "duration": 2449,
        "start_time": "2023-05-14T08:30:41.330Z"
      },
      {
        "duration": 510,
        "start_time": "2023-05-14T08:30:43.782Z"
      },
      {
        "duration": 14323,
        "start_time": "2023-05-14T08:30:44.294Z"
      },
      {
        "duration": 2380,
        "start_time": "2023-05-14T08:30:58.618Z"
      },
      {
        "duration": 1315,
        "start_time": "2023-05-14T08:31:00.999Z"
      },
      {
        "duration": 9,
        "start_time": "2023-05-14T08:31:55.999Z"
      },
      {
        "duration": 369,
        "start_time": "2023-05-14T08:32:50.957Z"
      },
      {
        "duration": 5,
        "start_time": "2023-05-14T09:05:16.761Z"
      },
      {
        "duration": 9,
        "start_time": "2023-05-14T09:05:37.726Z"
      },
      {
        "duration": 1292,
        "start_time": "2023-05-14T09:05:57.602Z"
      },
      {
        "duration": 4,
        "start_time": "2023-05-14T09:06:21.067Z"
      },
      {
        "duration": 7,
        "start_time": "2023-05-14T09:06:45.713Z"
      },
      {
        "duration": 1301,
        "start_time": "2023-05-14T09:29:19.105Z"
      },
      {
        "duration": 624,
        "start_time": "2023-05-14T09:29:20.408Z"
      },
      {
        "duration": 339,
        "start_time": "2023-05-14T09:29:21.034Z"
      },
      {
        "duration": 2,
        "start_time": "2023-05-14T09:29:21.375Z"
      },
      {
        "duration": 5,
        "start_time": "2023-05-14T09:29:21.385Z"
      },
      {
        "duration": 4,
        "start_time": "2023-05-14T09:29:21.392Z"
      },
      {
        "duration": 8,
        "start_time": "2023-05-14T09:29:21.397Z"
      },
      {
        "duration": 3,
        "start_time": "2023-05-14T09:29:21.407Z"
      },
      {
        "duration": 27,
        "start_time": "2023-05-14T09:29:21.411Z"
      },
      {
        "duration": 7,
        "start_time": "2023-05-14T09:29:21.442Z"
      },
      {
        "duration": 6,
        "start_time": "2023-05-14T09:29:21.450Z"
      },
      {
        "duration": 34,
        "start_time": "2023-05-14T09:29:21.458Z"
      },
      {
        "duration": 4,
        "start_time": "2023-05-14T09:29:21.493Z"
      },
      {
        "duration": 3,
        "start_time": "2023-05-14T09:29:21.499Z"
      },
      {
        "duration": 4,
        "start_time": "2023-05-14T09:29:21.504Z"
      },
      {
        "duration": 15,
        "start_time": "2023-05-14T09:29:21.509Z"
      },
      {
        "duration": 11,
        "start_time": "2023-05-14T09:29:21.526Z"
      },
      {
        "duration": 4,
        "start_time": "2023-05-14T09:29:21.538Z"
      },
      {
        "duration": 9,
        "start_time": "2023-05-14T09:29:21.543Z"
      },
      {
        "duration": 33,
        "start_time": "2023-05-14T09:29:21.553Z"
      },
      {
        "duration": 5,
        "start_time": "2023-05-14T09:29:21.588Z"
      },
      {
        "duration": 223,
        "start_time": "2023-05-14T09:29:21.594Z"
      },
      {
        "duration": 223,
        "start_time": "2023-05-14T09:29:21.818Z"
      },
      {
        "duration": 277,
        "start_time": "2023-05-14T09:29:22.043Z"
      },
      {
        "duration": 156,
        "start_time": "2023-05-14T09:29:22.322Z"
      },
      {
        "duration": 137,
        "start_time": "2023-05-14T09:29:22.484Z"
      },
      {
        "duration": 142,
        "start_time": "2023-05-14T09:29:22.622Z"
      },
      {
        "duration": 125,
        "start_time": "2023-05-14T09:29:22.767Z"
      },
      {
        "duration": 10,
        "start_time": "2023-05-14T09:29:22.893Z"
      },
      {
        "duration": 150,
        "start_time": "2023-05-14T09:29:22.904Z"
      },
      {
        "duration": 2,
        "start_time": "2023-05-14T09:29:23.056Z"
      },
      {
        "duration": 31,
        "start_time": "2023-05-14T09:29:23.059Z"
      },
      {
        "duration": 14,
        "start_time": "2023-05-14T09:29:23.091Z"
      },
      {
        "duration": 20,
        "start_time": "2023-05-14T09:29:23.106Z"
      },
      {
        "duration": 2392,
        "start_time": "2023-05-14T09:29:23.127Z"
      },
      {
        "duration": 665,
        "start_time": "2023-05-14T09:29:25.520Z"
      },
      {
        "duration": 14366,
        "start_time": "2023-05-14T09:29:26.189Z"
      },
      {
        "duration": 2162,
        "start_time": "2023-05-14T09:29:40.557Z"
      },
      {
        "duration": 4,
        "start_time": "2023-05-14T09:29:42.721Z"
      },
      {
        "duration": 17,
        "start_time": "2023-05-14T09:29:42.726Z"
      },
      {
        "duration": 1113,
        "start_time": "2023-05-14T09:29:42.744Z"
      },
      {
        "duration": 6,
        "start_time": "2023-05-14T09:29:43.859Z"
      },
      {
        "duration": 4,
        "start_time": "2023-05-14T09:30:30.573Z"
      },
      {
        "duration": 50,
        "start_time": "2023-05-14T11:51:37.259Z"
      },
      {
        "duration": 1807,
        "start_time": "2023-05-14T11:51:52.638Z"
      },
      {
        "duration": 2068,
        "start_time": "2023-05-14T11:51:54.448Z"
      },
      {
        "duration": 390,
        "start_time": "2023-05-14T11:51:56.518Z"
      },
      {
        "duration": 4,
        "start_time": "2023-05-14T11:51:56.911Z"
      },
      {
        "duration": 21,
        "start_time": "2023-05-14T11:51:56.919Z"
      },
      {
        "duration": 21,
        "start_time": "2023-05-14T11:51:56.943Z"
      },
      {
        "duration": 24,
        "start_time": "2023-05-14T11:51:56.967Z"
      },
      {
        "duration": 17,
        "start_time": "2023-05-14T11:51:56.993Z"
      },
      {
        "duration": 59,
        "start_time": "2023-05-14T11:51:57.014Z"
      },
      {
        "duration": 15,
        "start_time": "2023-05-14T11:51:57.075Z"
      },
      {
        "duration": 8,
        "start_time": "2023-05-14T11:51:57.092Z"
      },
      {
        "duration": 17,
        "start_time": "2023-05-14T11:51:57.102Z"
      },
      {
        "duration": 38,
        "start_time": "2023-05-14T11:51:57.121Z"
      },
      {
        "duration": 4,
        "start_time": "2023-05-14T11:51:57.163Z"
      },
      {
        "duration": 24,
        "start_time": "2023-05-14T11:51:57.169Z"
      },
      {
        "duration": 6,
        "start_time": "2023-05-14T11:51:57.195Z"
      },
      {
        "duration": 10,
        "start_time": "2023-05-14T11:51:57.204Z"
      },
      {
        "duration": 9,
        "start_time": "2023-05-14T11:51:57.216Z"
      },
      {
        "duration": 34,
        "start_time": "2023-05-14T11:51:57.227Z"
      },
      {
        "duration": 303,
        "start_time": "2023-05-14T11:51:57.264Z"
      },
      {
        "duration": 288,
        "start_time": "2023-05-14T11:51:57.569Z"
      },
      {
        "duration": 381,
        "start_time": "2023-05-14T11:51:57.859Z"
      },
      {
        "duration": 198,
        "start_time": "2023-05-14T11:51:58.242Z"
      },
      {
        "duration": 187,
        "start_time": "2023-05-14T11:51:58.442Z"
      },
      {
        "duration": 195,
        "start_time": "2023-05-14T11:51:58.635Z"
      },
      {
        "duration": 218,
        "start_time": "2023-05-14T11:51:58.832Z"
      },
      {
        "duration": 16,
        "start_time": "2023-05-14T11:51:59.052Z"
      },
      {
        "duration": 238,
        "start_time": "2023-05-14T11:51:59.071Z"
      },
      {
        "duration": 4,
        "start_time": "2023-05-14T11:51:59.311Z"
      },
      {
        "duration": 18,
        "start_time": "2023-05-14T11:51:59.317Z"
      },
      {
        "duration": 27,
        "start_time": "2023-05-14T11:51:59.337Z"
      },
      {
        "duration": 34,
        "start_time": "2023-05-14T11:51:59.366Z"
      },
      {
        "duration": 2332,
        "start_time": "2023-05-14T11:51:59.402Z"
      },
      {
        "duration": 1828,
        "start_time": "2023-05-14T11:52:01.736Z"
      },
      {
        "duration": 14049,
        "start_time": "2023-05-14T11:52:03.655Z"
      },
      {
        "duration": 2097,
        "start_time": "2023-05-14T11:52:17.707Z"
      },
      {
        "duration": 6,
        "start_time": "2023-05-14T11:52:19.807Z"
      },
      {
        "duration": 23,
        "start_time": "2023-05-14T11:52:19.816Z"
      },
      {
        "duration": 1157,
        "start_time": "2023-05-14T11:52:19.857Z"
      },
      {
        "duration": 11,
        "start_time": "2023-05-14T11:52:21.017Z"
      },
      {
        "duration": 322,
        "start_time": "2023-05-14T12:01:53.650Z"
      },
      {
        "duration": 313,
        "start_time": "2023-05-14T12:02:49.951Z"
      },
      {
        "duration": 198,
        "start_time": "2023-05-14T12:02:58.052Z"
      },
      {
        "duration": 1479,
        "start_time": "2023-05-14T12:14:39.993Z"
      },
      {
        "duration": 717,
        "start_time": "2023-05-14T12:14:41.474Z"
      },
      {
        "duration": 442,
        "start_time": "2023-05-14T12:14:42.193Z"
      },
      {
        "duration": 4,
        "start_time": "2023-05-14T12:14:42.637Z"
      },
      {
        "duration": 20,
        "start_time": "2023-05-14T12:14:42.643Z"
      },
      {
        "duration": 13,
        "start_time": "2023-05-14T12:14:42.666Z"
      },
      {
        "duration": 17,
        "start_time": "2023-05-14T12:14:42.681Z"
      },
      {
        "duration": 6,
        "start_time": "2023-05-14T12:14:42.699Z"
      },
      {
        "duration": 43,
        "start_time": "2023-05-14T12:14:42.707Z"
      },
      {
        "duration": 22,
        "start_time": "2023-05-14T12:14:42.752Z"
      },
      {
        "duration": 10,
        "start_time": "2023-05-14T12:14:42.776Z"
      },
      {
        "duration": 24,
        "start_time": "2023-05-14T12:14:42.791Z"
      },
      {
        "duration": 34,
        "start_time": "2023-05-14T12:14:42.817Z"
      },
      {
        "duration": 4,
        "start_time": "2023-05-14T12:14:42.854Z"
      },
      {
        "duration": 26,
        "start_time": "2023-05-14T12:14:42.859Z"
      },
      {
        "duration": 130,
        "start_time": "2023-05-14T12:14:42.887Z"
      },
      {
        "duration": 18,
        "start_time": "2023-05-14T12:14:43.019Z"
      },
      {
        "duration": 16,
        "start_time": "2023-05-14T12:14:43.039Z"
      },
      {
        "duration": 15,
        "start_time": "2023-05-14T12:14:43.057Z"
      },
      {
        "duration": 306,
        "start_time": "2023-05-14T12:14:43.074Z"
      },
      {
        "duration": 290,
        "start_time": "2023-05-14T12:14:43.382Z"
      },
      {
        "duration": 392,
        "start_time": "2023-05-14T12:14:43.674Z"
      },
      {
        "duration": 197,
        "start_time": "2023-05-14T12:14:44.068Z"
      },
      {
        "duration": 191,
        "start_time": "2023-05-14T12:14:44.267Z"
      },
      {
        "duration": 181,
        "start_time": "2023-05-14T12:14:44.460Z"
      },
      {
        "duration": 172,
        "start_time": "2023-05-14T12:14:44.643Z"
      },
      {
        "duration": 13,
        "start_time": "2023-05-14T12:14:44.817Z"
      },
      {
        "duration": 201,
        "start_time": "2023-05-14T12:14:44.833Z"
      },
      {
        "duration": 3,
        "start_time": "2023-05-14T12:14:45.036Z"
      },
      {
        "duration": 47,
        "start_time": "2023-05-14T12:14:45.041Z"
      },
      {
        "duration": 31,
        "start_time": "2023-05-14T12:14:45.090Z"
      },
      {
        "duration": 42,
        "start_time": "2023-05-14T12:14:45.123Z"
      },
      {
        "duration": 2359,
        "start_time": "2023-05-14T12:14:45.167Z"
      },
      {
        "duration": 934,
        "start_time": "2023-05-14T12:14:47.528Z"
      },
      {
        "duration": 13638,
        "start_time": "2023-05-14T12:14:48.464Z"
      },
      {
        "duration": 2514,
        "start_time": "2023-05-14T12:15:02.104Z"
      },
      {
        "duration": 5,
        "start_time": "2023-05-14T12:15:04.619Z"
      },
      {
        "duration": 30,
        "start_time": "2023-05-14T12:15:04.626Z"
      },
      {
        "duration": 1018,
        "start_time": "2023-05-14T12:15:04.658Z"
      },
      {
        "duration": 7,
        "start_time": "2023-05-14T12:15:05.678Z"
      },
      {
        "duration": 8,
        "start_time": "2023-05-14T12:18:58.112Z"
      },
      {
        "duration": 2641,
        "start_time": "2023-05-14T12:29:32.037Z"
      },
      {
        "duration": 779,
        "start_time": "2023-05-14T12:29:34.680Z"
      },
      {
        "duration": 457,
        "start_time": "2023-05-14T12:29:35.462Z"
      },
      {
        "duration": 4,
        "start_time": "2023-05-14T12:29:35.922Z"
      },
      {
        "duration": 17,
        "start_time": "2023-05-14T12:29:35.928Z"
      },
      {
        "duration": 3,
        "start_time": "2023-05-14T12:29:35.957Z"
      },
      {
        "duration": 8,
        "start_time": "2023-05-14T12:29:35.963Z"
      },
      {
        "duration": 10,
        "start_time": "2023-05-14T12:29:35.973Z"
      },
      {
        "duration": 35,
        "start_time": "2023-05-14T12:29:35.985Z"
      },
      {
        "duration": 39,
        "start_time": "2023-05-14T12:29:36.024Z"
      },
      {
        "duration": 7,
        "start_time": "2023-05-14T12:29:36.065Z"
      },
      {
        "duration": 24,
        "start_time": "2023-05-14T12:29:36.074Z"
      },
      {
        "duration": 31,
        "start_time": "2023-05-14T12:29:36.100Z"
      },
      {
        "duration": 7,
        "start_time": "2023-05-14T12:29:36.134Z"
      },
      {
        "duration": 34,
        "start_time": "2023-05-14T12:29:36.142Z"
      },
      {
        "duration": 6,
        "start_time": "2023-05-14T12:29:36.178Z"
      },
      {
        "duration": 23,
        "start_time": "2023-05-14T12:29:36.186Z"
      },
      {
        "duration": 12,
        "start_time": "2023-05-14T12:29:36.211Z"
      },
      {
        "duration": 11,
        "start_time": "2023-05-14T12:29:36.226Z"
      },
      {
        "duration": 364,
        "start_time": "2023-05-14T12:29:36.239Z"
      },
      {
        "duration": 290,
        "start_time": "2023-05-14T12:29:36.605Z"
      },
      {
        "duration": 415,
        "start_time": "2023-05-14T12:29:36.897Z"
      },
      {
        "duration": 205,
        "start_time": "2023-05-14T12:29:37.314Z"
      },
      {
        "duration": 181,
        "start_time": "2023-05-14T12:29:37.521Z"
      },
      {
        "duration": 183,
        "start_time": "2023-05-14T12:29:37.704Z"
      },
      {
        "duration": 175,
        "start_time": "2023-05-14T12:29:37.889Z"
      },
      {
        "duration": 15,
        "start_time": "2023-05-14T12:29:38.067Z"
      },
      {
        "duration": 222,
        "start_time": "2023-05-14T12:29:38.088Z"
      },
      {
        "duration": 4,
        "start_time": "2023-05-14T12:29:38.312Z"
      },
      {
        "duration": 9,
        "start_time": "2023-05-14T12:29:38.317Z"
      },
      {
        "duration": 12,
        "start_time": "2023-05-14T12:29:38.328Z"
      },
      {
        "duration": 32,
        "start_time": "2023-05-14T12:29:38.357Z"
      },
      {
        "duration": 2574,
        "start_time": "2023-05-14T12:29:38.392Z"
      },
      {
        "duration": 1096,
        "start_time": "2023-05-14T12:29:40.968Z"
      },
      {
        "duration": 14198,
        "start_time": "2023-05-14T12:29:42.071Z"
      },
      {
        "duration": 2104,
        "start_time": "2023-05-14T12:29:56.270Z"
      },
      {
        "duration": 7,
        "start_time": "2023-05-14T12:29:58.376Z"
      },
      {
        "duration": 27,
        "start_time": "2023-05-14T12:29:58.385Z"
      },
      {
        "duration": 1005,
        "start_time": "2023-05-14T12:29:58.414Z"
      },
      {
        "duration": 9,
        "start_time": "2023-05-14T12:29:59.421Z"
      },
      {
        "duration": 2496,
        "start_time": "2023-05-15T12:47:50.475Z"
      },
      {
        "duration": 3564,
        "start_time": "2023-05-15T12:47:52.973Z"
      },
      {
        "duration": 400,
        "start_time": "2023-05-15T12:47:56.539Z"
      },
      {
        "duration": 3,
        "start_time": "2023-05-15T12:47:56.941Z"
      },
      {
        "duration": 8,
        "start_time": "2023-05-15T12:47:56.946Z"
      },
      {
        "duration": 3,
        "start_time": "2023-05-15T12:47:56.956Z"
      },
      {
        "duration": 8,
        "start_time": "2023-05-15T12:47:56.961Z"
      },
      {
        "duration": 6,
        "start_time": "2023-05-15T12:47:56.971Z"
      },
      {
        "duration": 62,
        "start_time": "2023-05-15T12:47:56.980Z"
      },
      {
        "duration": 7,
        "start_time": "2023-05-15T12:48:02.480Z"
      },
      {
        "duration": 6,
        "start_time": "2023-05-15T12:48:03.348Z"
      },
      {
        "duration": 25,
        "start_time": "2023-05-15T12:48:10.445Z"
      },
      {
        "duration": 3,
        "start_time": "2023-05-15T12:54:40.681Z"
      },
      {
        "duration": 7,
        "start_time": "2023-05-15T12:54:48.144Z"
      },
      {
        "duration": 51,
        "start_time": "2023-05-15T13:13:48.362Z"
      },
      {
        "duration": 1731,
        "start_time": "2023-05-15T13:14:02.094Z"
      },
      {
        "duration": 2026,
        "start_time": "2023-05-15T13:14:03.827Z"
      },
      {
        "duration": 382,
        "start_time": "2023-05-15T13:14:05.855Z"
      },
      {
        "duration": 3,
        "start_time": "2023-05-15T13:14:06.239Z"
      },
      {
        "duration": 14,
        "start_time": "2023-05-15T13:14:06.243Z"
      },
      {
        "duration": 4,
        "start_time": "2023-05-15T13:14:06.259Z"
      },
      {
        "duration": 14,
        "start_time": "2023-05-15T13:14:06.265Z"
      },
      {
        "duration": 4,
        "start_time": "2023-05-15T13:14:06.288Z"
      },
      {
        "duration": 51,
        "start_time": "2023-05-15T13:14:06.294Z"
      },
      {
        "duration": 22,
        "start_time": "2023-05-15T13:14:06.348Z"
      },
      {
        "duration": 7,
        "start_time": "2023-05-15T13:14:06.372Z"
      },
      {
        "duration": 144,
        "start_time": "2023-05-15T13:14:06.381Z"
      },
      {
        "duration": 1,
        "start_time": "2023-05-15T13:14:06.527Z"
      },
      {
        "duration": 0,
        "start_time": "2023-05-15T13:14:06.529Z"
      },
      {
        "duration": 0,
        "start_time": "2023-05-15T13:14:06.531Z"
      },
      {
        "duration": 0,
        "start_time": "2023-05-15T13:14:06.533Z"
      },
      {
        "duration": 0,
        "start_time": "2023-05-15T13:14:06.534Z"
      },
      {
        "duration": 0,
        "start_time": "2023-05-15T13:14:06.535Z"
      },
      {
        "duration": 0,
        "start_time": "2023-05-15T13:14:06.536Z"
      },
      {
        "duration": 0,
        "start_time": "2023-05-15T13:14:06.538Z"
      },
      {
        "duration": 0,
        "start_time": "2023-05-15T13:14:06.539Z"
      },
      {
        "duration": 0,
        "start_time": "2023-05-15T13:14:06.541Z"
      },
      {
        "duration": 0,
        "start_time": "2023-05-15T13:14:06.542Z"
      },
      {
        "duration": 0,
        "start_time": "2023-05-15T13:14:06.544Z"
      },
      {
        "duration": 0,
        "start_time": "2023-05-15T13:14:06.545Z"
      },
      {
        "duration": 0,
        "start_time": "2023-05-15T13:14:06.547Z"
      },
      {
        "duration": 0,
        "start_time": "2023-05-15T13:14:06.548Z"
      },
      {
        "duration": 0,
        "start_time": "2023-05-15T13:14:06.550Z"
      },
      {
        "duration": 0,
        "start_time": "2023-05-15T13:14:06.589Z"
      },
      {
        "duration": 0,
        "start_time": "2023-05-15T13:14:06.590Z"
      },
      {
        "duration": 0,
        "start_time": "2023-05-15T13:14:06.591Z"
      },
      {
        "duration": 0,
        "start_time": "2023-05-15T13:14:06.593Z"
      },
      {
        "duration": 0,
        "start_time": "2023-05-15T13:14:06.594Z"
      },
      {
        "duration": 0,
        "start_time": "2023-05-15T13:14:06.595Z"
      },
      {
        "duration": 0,
        "start_time": "2023-05-15T13:14:06.597Z"
      },
      {
        "duration": 0,
        "start_time": "2023-05-15T13:14:06.598Z"
      },
      {
        "duration": 0,
        "start_time": "2023-05-15T13:14:06.599Z"
      },
      {
        "duration": 0,
        "start_time": "2023-05-15T13:14:06.600Z"
      },
      {
        "duration": 0,
        "start_time": "2023-05-15T13:14:06.601Z"
      },
      {
        "duration": 0,
        "start_time": "2023-05-15T13:14:06.603Z"
      },
      {
        "duration": 0,
        "start_time": "2023-05-15T13:14:06.604Z"
      },
      {
        "duration": 5,
        "start_time": "2023-05-15T13:22:16.404Z"
      },
      {
        "duration": 711,
        "start_time": "2023-05-15T13:22:18.219Z"
      },
      {
        "duration": 401,
        "start_time": "2023-05-15T13:22:18.932Z"
      },
      {
        "duration": 3,
        "start_time": "2023-05-15T13:22:20.212Z"
      },
      {
        "duration": 6,
        "start_time": "2023-05-15T13:22:20.437Z"
      },
      {
        "duration": 3,
        "start_time": "2023-05-15T13:22:20.689Z"
      },
      {
        "duration": 5,
        "start_time": "2023-05-15T13:22:20.912Z"
      },
      {
        "duration": 3,
        "start_time": "2023-05-15T13:22:21.745Z"
      },
      {
        "duration": 24,
        "start_time": "2023-05-15T13:22:21.977Z"
      },
      {
        "duration": 8,
        "start_time": "2023-05-15T13:22:23.095Z"
      },
      {
        "duration": 6,
        "start_time": "2023-05-15T13:22:23.549Z"
      },
      {
        "duration": 16,
        "start_time": "2023-05-15T13:22:23.784Z"
      },
      {
        "duration": 15,
        "start_time": "2023-05-15T13:22:24.243Z"
      },
      {
        "duration": 4,
        "start_time": "2023-05-15T13:22:24.934Z"
      },
      {
        "duration": 16,
        "start_time": "2023-05-15T13:22:25.149Z"
      },
      {
        "duration": 6,
        "start_time": "2023-05-15T13:22:26.479Z"
      },
      {
        "duration": 4,
        "start_time": "2023-05-15T13:22:26.716Z"
      },
      {
        "duration": 4,
        "start_time": "2023-05-15T13:22:26.932Z"
      },
      {
        "duration": 4,
        "start_time": "2023-05-15T13:22:27.149Z"
      },
      {
        "duration": 303,
        "start_time": "2023-05-15T13:22:27.605Z"
      },
      {
        "duration": 298,
        "start_time": "2023-05-15T13:22:27.910Z"
      },
      {
        "duration": 380,
        "start_time": "2023-05-15T13:22:28.210Z"
      },
      {
        "duration": 1744,
        "start_time": "2023-05-15T13:23:01.488Z"
      },
      {
        "duration": 774,
        "start_time": "2023-05-15T13:23:03.234Z"
      },
      {
        "duration": 414,
        "start_time": "2023-05-15T13:23:04.010Z"
      },
      {
        "duration": 3,
        "start_time": "2023-05-15T13:23:04.426Z"
      },
      {
        "duration": 7,
        "start_time": "2023-05-15T13:23:04.431Z"
      },
      {
        "duration": 12,
        "start_time": "2023-05-15T13:23:04.439Z"
      },
      {
        "duration": 8,
        "start_time": "2023-05-15T13:23:04.453Z"
      },
      {
        "duration": 5,
        "start_time": "2023-05-15T13:23:04.463Z"
      },
      {
        "duration": 26,
        "start_time": "2023-05-15T13:23:04.488Z"
      },
      {
        "duration": 13,
        "start_time": "2023-05-15T13:23:04.516Z"
      },
      {
        "duration": 6,
        "start_time": "2023-05-15T13:23:04.531Z"
      },
      {
        "duration": 15,
        "start_time": "2023-05-15T13:23:04.539Z"
      },
      {
        "duration": 40,
        "start_time": "2023-05-15T13:23:04.556Z"
      },
      {
        "duration": 4,
        "start_time": "2023-05-15T13:23:04.599Z"
      },
      {
        "duration": 33,
        "start_time": "2023-05-15T13:23:04.605Z"
      },
      {
        "duration": 5,
        "start_time": "2023-05-15T13:23:04.640Z"
      },
      {
        "duration": 14,
        "start_time": "2023-05-15T13:23:04.647Z"
      },
      {
        "duration": 4,
        "start_time": "2023-05-15T13:23:04.663Z"
      },
      {
        "duration": 10,
        "start_time": "2023-05-15T13:23:04.669Z"
      },
      {
        "duration": 310,
        "start_time": "2023-05-15T13:23:04.688Z"
      },
      {
        "duration": 311,
        "start_time": "2023-05-15T13:23:05.000Z"
      },
      {
        "duration": 439,
        "start_time": "2023-05-15T13:23:05.313Z"
      },
      {
        "duration": 212,
        "start_time": "2023-05-15T13:23:05.755Z"
      },
      {
        "duration": 208,
        "start_time": "2023-05-15T13:23:05.969Z"
      },
      {
        "duration": 208,
        "start_time": "2023-05-15T13:23:06.180Z"
      },
      {
        "duration": 188,
        "start_time": "2023-05-15T13:23:06.390Z"
      },
      {
        "duration": 18,
        "start_time": "2023-05-15T13:23:06.580Z"
      },
      {
        "duration": 219,
        "start_time": "2023-05-15T13:23:06.600Z"
      },
      {
        "duration": 3,
        "start_time": "2023-05-15T13:23:06.821Z"
      },
      {
        "duration": 7,
        "start_time": "2023-05-15T13:23:06.826Z"
      },
      {
        "duration": 12,
        "start_time": "2023-05-15T13:23:06.835Z"
      },
      {
        "duration": 40,
        "start_time": "2023-05-15T13:23:06.848Z"
      },
      {
        "duration": 2521,
        "start_time": "2023-05-15T13:23:06.891Z"
      },
      {
        "duration": 681,
        "start_time": "2023-05-15T13:23:09.414Z"
      },
      {
        "duration": 14837,
        "start_time": "2023-05-15T13:23:10.097Z"
      },
      {
        "duration": 2578,
        "start_time": "2023-05-15T13:23:24.936Z"
      },
      {
        "duration": 5,
        "start_time": "2023-05-15T13:23:27.516Z"
      },
      {
        "duration": 14,
        "start_time": "2023-05-15T13:23:27.523Z"
      },
      {
        "duration": 1444,
        "start_time": "2023-05-15T13:23:27.539Z"
      },
      {
        "duration": 8,
        "start_time": "2023-05-15T13:23:28.985Z"
      },
      {
        "duration": 1774,
        "start_time": "2023-05-15T13:34:47.426Z"
      },
      {
        "duration": 778,
        "start_time": "2023-05-15T13:34:49.202Z"
      },
      {
        "duration": 437,
        "start_time": "2023-05-15T13:34:49.982Z"
      },
      {
        "duration": 4,
        "start_time": "2023-05-15T13:34:50.421Z"
      },
      {
        "duration": 15,
        "start_time": "2023-05-15T13:34:50.427Z"
      },
      {
        "duration": 23,
        "start_time": "2023-05-15T13:34:50.447Z"
      },
      {
        "duration": 17,
        "start_time": "2023-05-15T13:34:50.473Z"
      },
      {
        "duration": 10,
        "start_time": "2023-05-15T13:34:50.492Z"
      },
      {
        "duration": 42,
        "start_time": "2023-05-15T13:34:50.504Z"
      },
      {
        "duration": 22,
        "start_time": "2023-05-15T13:34:50.548Z"
      },
      {
        "duration": 18,
        "start_time": "2023-05-15T13:34:50.572Z"
      },
      {
        "duration": 18,
        "start_time": "2023-05-15T13:34:50.593Z"
      },
      {
        "duration": 23,
        "start_time": "2023-05-15T13:34:50.614Z"
      },
      {
        "duration": 5,
        "start_time": "2023-05-15T13:34:50.642Z"
      },
      {
        "duration": 53,
        "start_time": "2023-05-15T13:34:50.649Z"
      },
      {
        "duration": 7,
        "start_time": "2023-05-15T13:34:50.705Z"
      },
      {
        "duration": 7,
        "start_time": "2023-05-15T13:34:50.714Z"
      },
      {
        "duration": 9,
        "start_time": "2023-05-15T13:34:50.723Z"
      },
      {
        "duration": 10,
        "start_time": "2023-05-15T13:34:50.736Z"
      },
      {
        "duration": 377,
        "start_time": "2023-05-15T13:34:50.749Z"
      },
      {
        "duration": 310,
        "start_time": "2023-05-15T13:34:51.128Z"
      },
      {
        "duration": 400,
        "start_time": "2023-05-15T13:34:51.440Z"
      },
      {
        "duration": 204,
        "start_time": "2023-05-15T13:34:51.842Z"
      },
      {
        "duration": 216,
        "start_time": "2023-05-15T13:34:52.048Z"
      },
      {
        "duration": 218,
        "start_time": "2023-05-15T13:34:52.266Z"
      },
      {
        "duration": 206,
        "start_time": "2023-05-15T13:34:52.488Z"
      },
      {
        "duration": 16,
        "start_time": "2023-05-15T13:34:52.697Z"
      },
      {
        "duration": 294,
        "start_time": "2023-05-15T13:34:52.715Z"
      },
      {
        "duration": 4,
        "start_time": "2023-05-15T13:34:53.011Z"
      },
      {
        "duration": 8,
        "start_time": "2023-05-15T13:34:53.017Z"
      },
      {
        "duration": 14,
        "start_time": "2023-05-15T13:34:53.027Z"
      },
      {
        "duration": 76,
        "start_time": "2023-05-15T13:34:53.043Z"
      },
      {
        "duration": 2472,
        "start_time": "2023-05-15T13:34:53.121Z"
      },
      {
        "duration": 1092,
        "start_time": "2023-05-15T13:34:55.595Z"
      },
      {
        "duration": 14986,
        "start_time": "2023-05-15T13:34:56.690Z"
      },
      {
        "duration": 2540,
        "start_time": "2023-05-15T13:35:11.678Z"
      },
      {
        "duration": 5,
        "start_time": "2023-05-15T13:35:14.220Z"
      },
      {
        "duration": 49,
        "start_time": "2023-05-15T13:35:14.227Z"
      },
      {
        "duration": 1489,
        "start_time": "2023-05-15T13:35:14.278Z"
      },
      {
        "duration": 9,
        "start_time": "2023-05-15T13:35:15.769Z"
      },
      {
        "duration": 1601,
        "start_time": "2023-05-15T13:37:54.448Z"
      },
      {
        "duration": 752,
        "start_time": "2023-05-15T13:37:56.051Z"
      },
      {
        "duration": 420,
        "start_time": "2023-05-15T13:37:56.806Z"
      },
      {
        "duration": 3,
        "start_time": "2023-05-15T13:37:57.229Z"
      },
      {
        "duration": 7,
        "start_time": "2023-05-15T13:37:57.234Z"
      },
      {
        "duration": 3,
        "start_time": "2023-05-15T13:37:57.243Z"
      },
      {
        "duration": 8,
        "start_time": "2023-05-15T13:37:57.247Z"
      },
      {
        "duration": 37,
        "start_time": "2023-05-15T13:37:57.256Z"
      },
      {
        "duration": 34,
        "start_time": "2023-05-15T13:37:57.295Z"
      },
      {
        "duration": 9,
        "start_time": "2023-05-15T13:37:57.333Z"
      },
      {
        "duration": 6,
        "start_time": "2023-05-15T13:37:57.344Z"
      },
      {
        "duration": 51,
        "start_time": "2023-05-15T13:37:57.351Z"
      },
      {
        "duration": 22,
        "start_time": "2023-05-15T13:37:57.404Z"
      },
      {
        "duration": 4,
        "start_time": "2023-05-15T13:37:57.428Z"
      },
      {
        "duration": 17,
        "start_time": "2023-05-15T13:37:57.434Z"
      },
      {
        "duration": 5,
        "start_time": "2023-05-15T13:37:57.452Z"
      },
      {
        "duration": 5,
        "start_time": "2023-05-15T13:37:57.488Z"
      },
      {
        "duration": 7,
        "start_time": "2023-05-15T13:37:57.504Z"
      },
      {
        "duration": 8,
        "start_time": "2023-05-15T13:37:57.513Z"
      },
      {
        "duration": 310,
        "start_time": "2023-05-15T13:37:57.523Z"
      },
      {
        "duration": 299,
        "start_time": "2023-05-15T13:37:57.835Z"
      },
      {
        "duration": 407,
        "start_time": "2023-05-15T13:37:58.136Z"
      },
      {
        "duration": 220,
        "start_time": "2023-05-15T13:37:58.545Z"
      },
      {
        "duration": 221,
        "start_time": "2023-05-15T13:37:58.767Z"
      },
      {
        "duration": 253,
        "start_time": "2023-05-15T13:37:58.991Z"
      },
      {
        "duration": 210,
        "start_time": "2023-05-15T13:37:59.246Z"
      },
      {
        "duration": 14,
        "start_time": "2023-05-15T13:37:59.458Z"
      },
      {
        "duration": 231,
        "start_time": "2023-05-15T13:37:59.489Z"
      },
      {
        "duration": 4,
        "start_time": "2023-05-15T13:37:59.722Z"
      },
      {
        "duration": 9,
        "start_time": "2023-05-15T13:37:59.727Z"
      },
      {
        "duration": 10,
        "start_time": "2023-05-15T13:37:59.738Z"
      },
      {
        "duration": 42,
        "start_time": "2023-05-15T13:37:59.749Z"
      },
      {
        "duration": 2759,
        "start_time": "2023-05-15T13:37:59.793Z"
      },
      {
        "duration": 2543,
        "start_time": "2023-05-15T13:38:02.554Z"
      },
      {
        "duration": 15389,
        "start_time": "2023-05-15T13:38:05.100Z"
      },
      {
        "duration": 2426,
        "start_time": "2023-05-15T13:38:20.491Z"
      },
      {
        "duration": 6,
        "start_time": "2023-05-15T13:38:22.919Z"
      },
      {
        "duration": 36,
        "start_time": "2023-05-15T13:38:22.927Z"
      },
      {
        "duration": 1120,
        "start_time": "2023-05-15T13:38:22.965Z"
      },
      {
        "duration": 169,
        "start_time": "2023-05-15T13:38:24.087Z"
      },
      {
        "duration": 1681,
        "start_time": "2023-05-15T13:40:26.902Z"
      },
      {
        "duration": 0,
        "start_time": "2023-05-15T13:40:28.585Z"
      },
      {
        "duration": 0,
        "start_time": "2023-05-15T13:40:28.588Z"
      },
      {
        "duration": 0,
        "start_time": "2023-05-15T13:40:28.589Z"
      },
      {
        "duration": 0,
        "start_time": "2023-05-15T13:40:28.590Z"
      },
      {
        "duration": 0,
        "start_time": "2023-05-15T13:40:28.590Z"
      },
      {
        "duration": 0,
        "start_time": "2023-05-15T13:40:28.591Z"
      },
      {
        "duration": 0,
        "start_time": "2023-05-15T13:40:28.592Z"
      },
      {
        "duration": 0,
        "start_time": "2023-05-15T13:40:28.593Z"
      },
      {
        "duration": 0,
        "start_time": "2023-05-15T13:40:28.594Z"
      },
      {
        "duration": 0,
        "start_time": "2023-05-15T13:40:28.596Z"
      },
      {
        "duration": 0,
        "start_time": "2023-05-15T13:40:28.597Z"
      },
      {
        "duration": 0,
        "start_time": "2023-05-15T13:40:28.598Z"
      },
      {
        "duration": 0,
        "start_time": "2023-05-15T13:40:28.599Z"
      },
      {
        "duration": 0,
        "start_time": "2023-05-15T13:40:28.600Z"
      },
      {
        "duration": 0,
        "start_time": "2023-05-15T13:40:28.601Z"
      },
      {
        "duration": 0,
        "start_time": "2023-05-15T13:40:28.603Z"
      },
      {
        "duration": 0,
        "start_time": "2023-05-15T13:40:28.604Z"
      },
      {
        "duration": 0,
        "start_time": "2023-05-15T13:40:28.606Z"
      },
      {
        "duration": 0,
        "start_time": "2023-05-15T13:40:28.607Z"
      },
      {
        "duration": 0,
        "start_time": "2023-05-15T13:40:28.608Z"
      },
      {
        "duration": 0,
        "start_time": "2023-05-15T13:40:28.610Z"
      },
      {
        "duration": 0,
        "start_time": "2023-05-15T13:40:28.612Z"
      },
      {
        "duration": 0,
        "start_time": "2023-05-15T13:40:28.613Z"
      },
      {
        "duration": 0,
        "start_time": "2023-05-15T13:40:28.615Z"
      },
      {
        "duration": 0,
        "start_time": "2023-05-15T13:40:28.616Z"
      },
      {
        "duration": 0,
        "start_time": "2023-05-15T13:40:28.617Z"
      },
      {
        "duration": 0,
        "start_time": "2023-05-15T13:40:28.619Z"
      },
      {
        "duration": 0,
        "start_time": "2023-05-15T13:40:28.620Z"
      },
      {
        "duration": 0,
        "start_time": "2023-05-15T13:40:28.622Z"
      },
      {
        "duration": 0,
        "start_time": "2023-05-15T13:40:28.624Z"
      },
      {
        "duration": 0,
        "start_time": "2023-05-15T13:40:28.625Z"
      },
      {
        "duration": 0,
        "start_time": "2023-05-15T13:40:28.626Z"
      },
      {
        "duration": 0,
        "start_time": "2023-05-15T13:40:28.628Z"
      },
      {
        "duration": 0,
        "start_time": "2023-05-15T13:40:28.689Z"
      },
      {
        "duration": 0,
        "start_time": "2023-05-15T13:40:28.690Z"
      },
      {
        "duration": 0,
        "start_time": "2023-05-15T13:40:28.692Z"
      },
      {
        "duration": 0,
        "start_time": "2023-05-15T13:40:28.693Z"
      },
      {
        "duration": 0,
        "start_time": "2023-05-15T13:40:28.694Z"
      },
      {
        "duration": 0,
        "start_time": "2023-05-15T13:40:28.696Z"
      },
      {
        "duration": 1664,
        "start_time": "2023-05-15T13:41:07.201Z"
      },
      {
        "duration": 919,
        "start_time": "2023-05-15T13:41:08.868Z"
      },
      {
        "duration": 432,
        "start_time": "2023-05-15T13:41:09.788Z"
      },
      {
        "duration": 4,
        "start_time": "2023-05-15T13:41:10.223Z"
      },
      {
        "duration": 8,
        "start_time": "2023-05-15T13:41:10.231Z"
      },
      {
        "duration": 4,
        "start_time": "2023-05-15T13:41:10.242Z"
      },
      {
        "duration": 13,
        "start_time": "2023-05-15T13:41:10.248Z"
      },
      {
        "duration": 29,
        "start_time": "2023-05-15T13:41:10.263Z"
      },
      {
        "duration": 39,
        "start_time": "2023-05-15T13:41:10.294Z"
      },
      {
        "duration": 10,
        "start_time": "2023-05-15T13:41:10.338Z"
      },
      {
        "duration": 41,
        "start_time": "2023-05-15T13:41:10.351Z"
      },
      {
        "duration": 16,
        "start_time": "2023-05-15T13:41:10.395Z"
      },
      {
        "duration": 21,
        "start_time": "2023-05-15T13:41:10.413Z"
      },
      {
        "duration": 5,
        "start_time": "2023-05-15T13:41:10.437Z"
      },
      {
        "duration": 53,
        "start_time": "2023-05-15T13:41:10.445Z"
      },
      {
        "duration": 10,
        "start_time": "2023-05-15T13:41:10.500Z"
      },
      {
        "duration": 6,
        "start_time": "2023-05-15T13:41:10.513Z"
      },
      {
        "duration": 6,
        "start_time": "2023-05-15T13:41:10.522Z"
      },
      {
        "duration": 6,
        "start_time": "2023-05-15T13:41:10.530Z"
      },
      {
        "duration": 366,
        "start_time": "2023-05-15T13:41:10.538Z"
      },
      {
        "duration": 339,
        "start_time": "2023-05-15T13:41:10.907Z"
      },
      {
        "duration": 432,
        "start_time": "2023-05-15T13:41:11.249Z"
      },
      {
        "duration": 232,
        "start_time": "2023-05-15T13:41:11.682Z"
      },
      {
        "duration": 236,
        "start_time": "2023-05-15T13:41:11.916Z"
      },
      {
        "duration": 225,
        "start_time": "2023-05-15T13:41:12.154Z"
      },
      {
        "duration": 209,
        "start_time": "2023-05-15T13:41:12.381Z"
      },
      {
        "duration": 15,
        "start_time": "2023-05-15T13:41:12.593Z"
      },
      {
        "duration": 282,
        "start_time": "2023-05-15T13:41:12.612Z"
      },
      {
        "duration": 5,
        "start_time": "2023-05-15T13:41:12.897Z"
      },
      {
        "duration": 11,
        "start_time": "2023-05-15T13:41:12.904Z"
      },
      {
        "duration": 12,
        "start_time": "2023-05-15T13:41:12.917Z"
      },
      {
        "duration": 28,
        "start_time": "2023-05-15T13:41:12.932Z"
      },
      {
        "duration": 2594,
        "start_time": "2023-05-15T13:41:12.963Z"
      },
      {
        "duration": 1937,
        "start_time": "2023-05-15T13:41:15.559Z"
      },
      {
        "duration": 15542,
        "start_time": "2023-05-15T13:41:17.498Z"
      },
      {
        "duration": 2797,
        "start_time": "2023-05-15T13:41:33.043Z"
      },
      {
        "duration": 5,
        "start_time": "2023-05-15T13:41:35.842Z"
      },
      {
        "duration": 20,
        "start_time": "2023-05-15T13:41:35.848Z"
      },
      {
        "duration": 1555,
        "start_time": "2023-05-15T13:41:35.870Z"
      },
      {
        "duration": 11,
        "start_time": "2023-05-15T13:41:37.428Z"
      },
      {
        "duration": 1520,
        "start_time": "2023-05-15T13:42:46.650Z"
      },
      {
        "duration": 752,
        "start_time": "2023-05-15T13:42:48.172Z"
      },
      {
        "duration": 412,
        "start_time": "2023-05-15T13:42:48.925Z"
      },
      {
        "duration": 3,
        "start_time": "2023-05-15T13:42:49.340Z"
      },
      {
        "duration": 10,
        "start_time": "2023-05-15T13:42:49.344Z"
      },
      {
        "duration": 5,
        "start_time": "2023-05-15T13:42:49.355Z"
      },
      {
        "duration": 29,
        "start_time": "2023-05-15T13:42:49.361Z"
      },
      {
        "duration": 4,
        "start_time": "2023-05-15T13:42:49.392Z"
      },
      {
        "duration": 29,
        "start_time": "2023-05-15T13:42:49.397Z"
      },
      {
        "duration": 9,
        "start_time": "2023-05-15T13:42:49.430Z"
      },
      {
        "duration": 8,
        "start_time": "2023-05-15T13:42:49.441Z"
      },
      {
        "duration": 40,
        "start_time": "2023-05-15T13:42:49.451Z"
      },
      {
        "duration": 25,
        "start_time": "2023-05-15T13:42:49.493Z"
      },
      {
        "duration": 5,
        "start_time": "2023-05-15T13:42:49.520Z"
      },
      {
        "duration": 20,
        "start_time": "2023-05-15T13:42:49.527Z"
      },
      {
        "duration": 4,
        "start_time": "2023-05-15T13:42:49.549Z"
      },
      {
        "duration": 34,
        "start_time": "2023-05-15T13:42:49.555Z"
      },
      {
        "duration": 9,
        "start_time": "2023-05-15T13:42:49.591Z"
      },
      {
        "duration": 6,
        "start_time": "2023-05-15T13:42:49.602Z"
      },
      {
        "duration": 340,
        "start_time": "2023-05-15T13:42:49.610Z"
      },
      {
        "duration": 294,
        "start_time": "2023-05-15T13:42:49.952Z"
      },
      {
        "duration": 479,
        "start_time": "2023-05-15T13:42:50.248Z"
      },
      {
        "duration": 236,
        "start_time": "2023-05-15T13:42:50.729Z"
      },
      {
        "duration": 208,
        "start_time": "2023-05-15T13:42:50.966Z"
      },
      {
        "duration": 203,
        "start_time": "2023-05-15T13:42:51.176Z"
      },
      {
        "duration": 194,
        "start_time": "2023-05-15T13:42:51.381Z"
      },
      {
        "duration": 18,
        "start_time": "2023-05-15T13:42:51.576Z"
      },
      {
        "duration": 221,
        "start_time": "2023-05-15T13:42:51.598Z"
      },
      {
        "duration": 4,
        "start_time": "2023-05-15T13:42:51.821Z"
      },
      {
        "duration": 15,
        "start_time": "2023-05-15T13:42:51.827Z"
      },
      {
        "duration": 10,
        "start_time": "2023-05-15T13:42:51.844Z"
      },
      {
        "duration": 33,
        "start_time": "2023-05-15T13:42:51.856Z"
      },
      {
        "duration": 2518,
        "start_time": "2023-05-15T13:42:51.891Z"
      },
      {
        "duration": 886,
        "start_time": "2023-05-15T13:42:54.411Z"
      },
      {
        "duration": 15315,
        "start_time": "2023-05-15T13:42:55.299Z"
      },
      {
        "duration": 3732,
        "start_time": "2023-05-15T13:43:10.616Z"
      },
      {
        "duration": 5,
        "start_time": "2023-05-15T13:43:14.349Z"
      },
      {
        "duration": 17,
        "start_time": "2023-05-15T13:43:14.356Z"
      },
      {
        "duration": 1543,
        "start_time": "2023-05-15T13:43:14.375Z"
      },
      {
        "duration": 10,
        "start_time": "2023-05-15T13:43:15.920Z"
      },
      {
        "duration": 2224,
        "start_time": "2023-05-15T13:48:10.949Z"
      },
      {
        "duration": 222,
        "start_time": "2023-05-15T13:50:18.505Z"
      },
      {
        "duration": 1602,
        "start_time": "2023-05-15T13:51:22.156Z"
      },
      {
        "duration": 853,
        "start_time": "2023-05-15T13:51:23.760Z"
      },
      {
        "duration": 417,
        "start_time": "2023-05-15T13:51:24.616Z"
      },
      {
        "duration": 3,
        "start_time": "2023-05-15T13:51:25.036Z"
      },
      {
        "duration": 24,
        "start_time": "2023-05-15T13:51:25.041Z"
      },
      {
        "duration": 6,
        "start_time": "2023-05-15T13:51:25.067Z"
      },
      {
        "duration": 154,
        "start_time": "2023-05-15T13:51:25.075Z"
      },
      {
        "duration": 0,
        "start_time": "2023-05-15T13:51:25.232Z"
      },
      {
        "duration": 0,
        "start_time": "2023-05-15T13:51:25.233Z"
      },
      {
        "duration": 1,
        "start_time": "2023-05-15T13:51:25.234Z"
      },
      {
        "duration": 0,
        "start_time": "2023-05-15T13:51:25.236Z"
      },
      {
        "duration": 0,
        "start_time": "2023-05-15T13:51:25.238Z"
      },
      {
        "duration": 0,
        "start_time": "2023-05-15T13:51:25.240Z"
      },
      {
        "duration": 0,
        "start_time": "2023-05-15T13:51:25.241Z"
      },
      {
        "duration": 0,
        "start_time": "2023-05-15T13:51:25.243Z"
      },
      {
        "duration": 0,
        "start_time": "2023-05-15T13:51:25.244Z"
      },
      {
        "duration": 0,
        "start_time": "2023-05-15T13:51:25.246Z"
      },
      {
        "duration": 0,
        "start_time": "2023-05-15T13:51:25.248Z"
      },
      {
        "duration": 0,
        "start_time": "2023-05-15T13:51:25.249Z"
      },
      {
        "duration": 0,
        "start_time": "2023-05-15T13:51:25.251Z"
      },
      {
        "duration": 0,
        "start_time": "2023-05-15T13:51:25.252Z"
      },
      {
        "duration": 0,
        "start_time": "2023-05-15T13:51:25.255Z"
      },
      {
        "duration": 0,
        "start_time": "2023-05-15T13:51:25.256Z"
      },
      {
        "duration": 0,
        "start_time": "2023-05-15T13:51:25.291Z"
      },
      {
        "duration": 0,
        "start_time": "2023-05-15T13:51:25.293Z"
      },
      {
        "duration": 0,
        "start_time": "2023-05-15T13:51:25.295Z"
      },
      {
        "duration": 0,
        "start_time": "2023-05-15T13:51:25.296Z"
      },
      {
        "duration": 0,
        "start_time": "2023-05-15T13:51:25.298Z"
      },
      {
        "duration": 0,
        "start_time": "2023-05-15T13:51:25.299Z"
      },
      {
        "duration": 0,
        "start_time": "2023-05-15T13:51:25.300Z"
      },
      {
        "duration": 0,
        "start_time": "2023-05-15T13:51:25.302Z"
      },
      {
        "duration": 0,
        "start_time": "2023-05-15T13:51:25.303Z"
      },
      {
        "duration": 0,
        "start_time": "2023-05-15T13:51:25.304Z"
      },
      {
        "duration": 0,
        "start_time": "2023-05-15T13:51:25.305Z"
      },
      {
        "duration": 0,
        "start_time": "2023-05-15T13:51:25.306Z"
      },
      {
        "duration": 0,
        "start_time": "2023-05-15T13:51:25.310Z"
      },
      {
        "duration": 0,
        "start_time": "2023-05-15T13:51:25.311Z"
      },
      {
        "duration": 0,
        "start_time": "2023-05-15T13:51:25.312Z"
      },
      {
        "duration": 0,
        "start_time": "2023-05-15T13:51:25.313Z"
      },
      {
        "duration": 0,
        "start_time": "2023-05-15T13:51:25.314Z"
      },
      {
        "duration": 1790,
        "start_time": "2023-05-15T13:53:18.014Z"
      },
      {
        "duration": 1034,
        "start_time": "2023-05-15T13:53:19.806Z"
      },
      {
        "duration": 570,
        "start_time": "2023-05-15T13:53:20.843Z"
      },
      {
        "duration": 4,
        "start_time": "2023-05-15T13:53:21.415Z"
      },
      {
        "duration": 8,
        "start_time": "2023-05-15T13:53:21.421Z"
      },
      {
        "duration": 3,
        "start_time": "2023-05-15T13:53:21.431Z"
      },
      {
        "duration": 6,
        "start_time": "2023-05-15T13:53:21.436Z"
      },
      {
        "duration": 6,
        "start_time": "2023-05-15T13:53:21.444Z"
      },
      {
        "duration": 66,
        "start_time": "2023-05-15T13:53:21.453Z"
      },
      {
        "duration": 10,
        "start_time": "2023-05-15T13:53:21.524Z"
      },
      {
        "duration": 15,
        "start_time": "2023-05-15T13:53:21.537Z"
      },
      {
        "duration": 33,
        "start_time": "2023-05-15T13:53:21.555Z"
      },
      {
        "duration": 20,
        "start_time": "2023-05-15T13:53:21.591Z"
      },
      {
        "duration": 4,
        "start_time": "2023-05-15T13:53:21.613Z"
      },
      {
        "duration": 19,
        "start_time": "2023-05-15T13:53:21.619Z"
      },
      {
        "duration": 6,
        "start_time": "2023-05-15T13:53:21.640Z"
      },
      {
        "duration": 45,
        "start_time": "2023-05-15T13:53:21.649Z"
      },
      {
        "duration": 18,
        "start_time": "2023-05-15T13:53:21.696Z"
      },
      {
        "duration": 7,
        "start_time": "2023-05-15T13:53:21.715Z"
      },
      {
        "duration": 331,
        "start_time": "2023-05-15T13:53:21.724Z"
      },
      {
        "duration": 322,
        "start_time": "2023-05-15T13:53:22.056Z"
      },
      {
        "duration": 415,
        "start_time": "2023-05-15T13:53:22.380Z"
      },
      {
        "duration": 265,
        "start_time": "2023-05-15T13:53:22.797Z"
      },
      {
        "duration": 277,
        "start_time": "2023-05-15T13:53:23.065Z"
      },
      {
        "duration": 203,
        "start_time": "2023-05-15T13:53:23.344Z"
      },
      {
        "duration": 248,
        "start_time": "2023-05-15T13:53:23.550Z"
      },
      {
        "duration": 15,
        "start_time": "2023-05-15T13:53:23.801Z"
      },
      {
        "duration": 262,
        "start_time": "2023-05-15T13:53:23.820Z"
      },
      {
        "duration": 5,
        "start_time": "2023-05-15T13:53:24.088Z"
      },
      {
        "duration": 7,
        "start_time": "2023-05-15T13:53:24.095Z"
      },
      {
        "duration": 14,
        "start_time": "2023-05-15T13:53:24.105Z"
      },
      {
        "duration": 43,
        "start_time": "2023-05-15T13:53:24.122Z"
      },
      {
        "duration": 2524,
        "start_time": "2023-05-15T13:53:24.168Z"
      },
      {
        "duration": 905,
        "start_time": "2023-05-15T13:53:26.694Z"
      },
      {
        "duration": 15359,
        "start_time": "2023-05-15T13:53:27.601Z"
      },
      {
        "duration": 2971,
        "start_time": "2023-05-15T13:53:42.962Z"
      },
      {
        "duration": 7,
        "start_time": "2023-05-15T13:53:45.935Z"
      },
      {
        "duration": 18,
        "start_time": "2023-05-15T13:53:45.944Z"
      },
      {
        "duration": 2528,
        "start_time": "2023-05-15T13:53:45.965Z"
      },
      {
        "duration": 11,
        "start_time": "2023-05-15T13:53:48.496Z"
      },
      {
        "duration": 1815,
        "start_time": "2023-05-15T13:55:01.733Z"
      },
      {
        "duration": 822,
        "start_time": "2023-05-15T13:55:03.551Z"
      },
      {
        "duration": 435,
        "start_time": "2023-05-15T13:55:04.375Z"
      },
      {
        "duration": 3,
        "start_time": "2023-05-15T13:55:04.813Z"
      },
      {
        "duration": 23,
        "start_time": "2023-05-15T13:55:04.818Z"
      },
      {
        "duration": 5,
        "start_time": "2023-05-15T13:55:04.844Z"
      },
      {
        "duration": 13,
        "start_time": "2023-05-15T13:55:04.851Z"
      },
      {
        "duration": 14,
        "start_time": "2023-05-15T13:55:04.867Z"
      },
      {
        "duration": 29,
        "start_time": "2023-05-15T13:55:04.883Z"
      },
      {
        "duration": 14,
        "start_time": "2023-05-15T13:55:04.915Z"
      },
      {
        "duration": 8,
        "start_time": "2023-05-15T13:55:04.931Z"
      },
      {
        "duration": 13,
        "start_time": "2023-05-15T13:55:04.941Z"
      },
      {
        "duration": 41,
        "start_time": "2023-05-15T13:55:04.956Z"
      },
      {
        "duration": 4,
        "start_time": "2023-05-15T13:55:04.999Z"
      },
      {
        "duration": 32,
        "start_time": "2023-05-15T13:55:05.005Z"
      },
      {
        "duration": 5,
        "start_time": "2023-05-15T13:55:05.040Z"
      },
      {
        "duration": 26,
        "start_time": "2023-05-15T13:55:05.047Z"
      },
      {
        "duration": 21,
        "start_time": "2023-05-15T13:55:05.075Z"
      },
      {
        "duration": 13,
        "start_time": "2023-05-15T13:55:05.098Z"
      },
      {
        "duration": 325,
        "start_time": "2023-05-15T13:55:05.113Z"
      },
      {
        "duration": 308,
        "start_time": "2023-05-15T13:55:05.440Z"
      },
      {
        "duration": 409,
        "start_time": "2023-05-15T13:55:05.751Z"
      },
      {
        "duration": 217,
        "start_time": "2023-05-15T13:55:06.162Z"
      },
      {
        "duration": 215,
        "start_time": "2023-05-15T13:55:06.381Z"
      },
      {
        "duration": 209,
        "start_time": "2023-05-15T13:55:06.598Z"
      },
      {
        "duration": 205,
        "start_time": "2023-05-15T13:55:06.809Z"
      },
      {
        "duration": 14,
        "start_time": "2023-05-15T13:55:07.016Z"
      },
      {
        "duration": 257,
        "start_time": "2023-05-15T13:55:07.033Z"
      },
      {
        "duration": 4,
        "start_time": "2023-05-15T13:55:07.293Z"
      },
      {
        "duration": 5,
        "start_time": "2023-05-15T13:55:07.299Z"
      },
      {
        "duration": 23,
        "start_time": "2023-05-15T13:55:07.306Z"
      },
      {
        "duration": 54,
        "start_time": "2023-05-15T13:55:07.331Z"
      },
      {
        "duration": 2596,
        "start_time": "2023-05-15T13:55:07.387Z"
      },
      {
        "duration": 1302,
        "start_time": "2023-05-15T13:55:09.989Z"
      },
      {
        "duration": 15241,
        "start_time": "2023-05-15T13:55:11.294Z"
      },
      {
        "duration": 4324,
        "start_time": "2023-05-15T13:55:26.537Z"
      },
      {
        "duration": 6,
        "start_time": "2023-05-15T13:55:30.864Z"
      },
      {
        "duration": 54,
        "start_time": "2023-05-15T13:55:30.872Z"
      },
      {
        "duration": 2980,
        "start_time": "2023-05-15T13:55:30.928Z"
      },
      {
        "duration": 9,
        "start_time": "2023-05-15T13:55:33.909Z"
      },
      {
        "duration": 4,
        "start_time": "2023-05-15T14:25:46.326Z"
      },
      {
        "duration": 193,
        "start_time": "2023-05-15T14:26:50.847Z"
      },
      {
        "duration": 193,
        "start_time": "2023-05-15T14:27:01.937Z"
      },
      {
        "duration": 181,
        "start_time": "2023-05-15T14:27:09.927Z"
      },
      {
        "duration": 180,
        "start_time": "2023-05-15T14:27:18.950Z"
      },
      {
        "duration": 73,
        "start_time": "2023-05-15T19:34:17.237Z"
      },
      {
        "duration": 2058,
        "start_time": "2023-05-15T19:34:38.956Z"
      },
      {
        "duration": 2171,
        "start_time": "2023-05-15T19:34:41.016Z"
      },
      {
        "duration": 467,
        "start_time": "2023-05-15T19:34:43.190Z"
      },
      {
        "duration": 4,
        "start_time": "2023-05-15T19:34:43.660Z"
      },
      {
        "duration": 22,
        "start_time": "2023-05-15T19:34:43.666Z"
      },
      {
        "duration": 4,
        "start_time": "2023-05-15T19:34:43.690Z"
      },
      {
        "duration": 9,
        "start_time": "2023-05-15T19:34:43.698Z"
      },
      {
        "duration": 19,
        "start_time": "2023-05-15T19:34:43.711Z"
      },
      {
        "duration": 26,
        "start_time": "2023-05-15T19:34:43.733Z"
      },
      {
        "duration": 9,
        "start_time": "2023-05-15T19:34:43.790Z"
      },
      {
        "duration": 7,
        "start_time": "2023-05-15T19:34:43.802Z"
      },
      {
        "duration": 35,
        "start_time": "2023-05-15T19:34:43.811Z"
      },
      {
        "duration": 40,
        "start_time": "2023-05-15T19:34:43.848Z"
      },
      {
        "duration": 5,
        "start_time": "2023-05-15T19:34:43.890Z"
      },
      {
        "duration": 22,
        "start_time": "2023-05-15T19:34:43.898Z"
      },
      {
        "duration": 7,
        "start_time": "2023-05-15T19:34:43.922Z"
      },
      {
        "duration": 6,
        "start_time": "2023-05-15T19:34:43.931Z"
      },
      {
        "duration": 48,
        "start_time": "2023-05-15T19:34:43.939Z"
      },
      {
        "duration": 5,
        "start_time": "2023-05-15T19:34:43.990Z"
      },
      {
        "duration": 372,
        "start_time": "2023-05-15T19:34:43.997Z"
      },
      {
        "duration": 363,
        "start_time": "2023-05-15T19:34:44.371Z"
      },
      {
        "duration": 450,
        "start_time": "2023-05-15T19:34:44.737Z"
      },
      {
        "duration": 219,
        "start_time": "2023-05-15T19:34:45.190Z"
      },
      {
        "duration": 252,
        "start_time": "2023-05-15T19:34:45.411Z"
      },
      {
        "duration": 225,
        "start_time": "2023-05-15T19:34:45.666Z"
      },
      {
        "duration": 220,
        "start_time": "2023-05-15T19:34:45.894Z"
      },
      {
        "duration": 21,
        "start_time": "2023-05-15T19:34:46.116Z"
      },
      {
        "duration": 307,
        "start_time": "2023-05-15T19:34:46.142Z"
      },
      {
        "duration": 4,
        "start_time": "2023-05-15T19:34:46.451Z"
      },
      {
        "duration": 4,
        "start_time": "2023-05-15T19:34:46.457Z"
      },
      {
        "duration": 28,
        "start_time": "2023-05-15T19:34:46.464Z"
      },
      {
        "duration": 33,
        "start_time": "2023-05-15T19:34:46.494Z"
      },
      {
        "duration": 2718,
        "start_time": "2023-05-15T19:34:46.529Z"
      },
      {
        "duration": 941,
        "start_time": "2023-05-15T19:34:49.249Z"
      },
      {
        "duration": 15228,
        "start_time": "2023-05-15T19:34:50.192Z"
      },
      {
        "duration": 2310,
        "start_time": "2023-05-15T19:35:05.422Z"
      },
      {
        "duration": 7,
        "start_time": "2023-05-15T19:35:07.734Z"
      },
      {
        "duration": 15,
        "start_time": "2023-05-15T19:35:07.743Z"
      },
      {
        "duration": 1056,
        "start_time": "2023-05-15T19:35:07.761Z"
      },
      {
        "duration": 9,
        "start_time": "2023-05-15T19:35:08.819Z"
      },
      {
        "duration": 297,
        "start_time": "2023-05-15T19:35:31.114Z"
      },
      {
        "duration": 276,
        "start_time": "2023-05-15T19:38:01.483Z"
      },
      {
        "duration": 6,
        "start_time": "2023-05-15T19:40:53.157Z"
      },
      {
        "duration": 10,
        "start_time": "2023-05-15T19:41:16.488Z"
      },
      {
        "duration": 5,
        "start_time": "2023-05-15T19:41:56.449Z"
      },
      {
        "duration": 6,
        "start_time": "2023-05-15T19:42:07.813Z"
      },
      {
        "duration": 1526,
        "start_time": "2023-05-15T19:44:53.241Z"
      },
      {
        "duration": 800,
        "start_time": "2023-05-15T19:44:54.769Z"
      },
      {
        "duration": 434,
        "start_time": "2023-05-15T19:44:55.571Z"
      },
      {
        "duration": 3,
        "start_time": "2023-05-15T19:44:56.007Z"
      },
      {
        "duration": 12,
        "start_time": "2023-05-15T19:44:56.013Z"
      },
      {
        "duration": 10,
        "start_time": "2023-05-15T19:44:56.027Z"
      },
      {
        "duration": 12,
        "start_time": "2023-05-15T19:44:56.039Z"
      },
      {
        "duration": 17,
        "start_time": "2023-05-15T19:44:56.053Z"
      },
      {
        "duration": 41,
        "start_time": "2023-05-15T19:44:56.073Z"
      },
      {
        "duration": 8,
        "start_time": "2023-05-15T19:44:56.116Z"
      },
      {
        "duration": 7,
        "start_time": "2023-05-15T19:44:56.126Z"
      },
      {
        "duration": 43,
        "start_time": "2023-05-15T19:44:56.135Z"
      },
      {
        "duration": 22,
        "start_time": "2023-05-15T19:44:56.180Z"
      },
      {
        "duration": 10,
        "start_time": "2023-05-15T19:44:56.206Z"
      },
      {
        "duration": 19,
        "start_time": "2023-05-15T19:44:56.218Z"
      },
      {
        "duration": 5,
        "start_time": "2023-05-15T19:44:56.238Z"
      },
      {
        "duration": 7,
        "start_time": "2023-05-15T19:44:56.245Z"
      },
      {
        "duration": 8,
        "start_time": "2023-05-15T19:44:56.254Z"
      },
      {
        "duration": 32,
        "start_time": "2023-05-15T19:44:56.264Z"
      },
      {
        "duration": 330,
        "start_time": "2023-05-15T19:44:56.298Z"
      },
      {
        "duration": 320,
        "start_time": "2023-05-15T19:44:56.630Z"
      },
      {
        "duration": 411,
        "start_time": "2023-05-15T19:44:56.952Z"
      },
      {
        "duration": 224,
        "start_time": "2023-05-15T19:44:57.365Z"
      },
      {
        "duration": 197,
        "start_time": "2023-05-15T19:44:57.594Z"
      },
      {
        "duration": 210,
        "start_time": "2023-05-15T19:44:57.796Z"
      },
      {
        "duration": 187,
        "start_time": "2023-05-15T19:44:58.008Z"
      },
      {
        "duration": 21,
        "start_time": "2023-05-15T19:44:58.197Z"
      },
      {
        "duration": 253,
        "start_time": "2023-05-15T19:44:58.220Z"
      },
      {
        "duration": 3,
        "start_time": "2023-05-15T19:44:58.476Z"
      },
      {
        "duration": 11,
        "start_time": "2023-05-15T19:44:58.489Z"
      },
      {
        "duration": 12,
        "start_time": "2023-05-15T19:44:58.502Z"
      },
      {
        "duration": 30,
        "start_time": "2023-05-15T19:44:58.516Z"
      },
      {
        "duration": 2704,
        "start_time": "2023-05-15T19:44:58.548Z"
      },
      {
        "duration": 1247,
        "start_time": "2023-05-15T19:45:01.254Z"
      },
      {
        "duration": 16068,
        "start_time": "2023-05-15T19:45:02.503Z"
      },
      {
        "duration": 2436,
        "start_time": "2023-05-15T19:45:18.573Z"
      },
      {
        "duration": 6,
        "start_time": "2023-05-15T19:45:21.011Z"
      },
      {
        "duration": 23,
        "start_time": "2023-05-15T19:45:21.019Z"
      },
      {
        "duration": 1047,
        "start_time": "2023-05-15T19:45:21.044Z"
      },
      {
        "duration": 10,
        "start_time": "2023-05-15T19:45:22.097Z"
      },
      {
        "duration": 6,
        "start_time": "2023-05-15T19:45:22.112Z"
      },
      {
        "duration": 15,
        "start_time": "2023-05-15T19:45:22.121Z"
      },
      {
        "duration": 11,
        "start_time": "2023-05-15T19:45:22.138Z"
      },
      {
        "duration": 9,
        "start_time": "2023-05-15T19:45:22.151Z"
      },
      {
        "duration": 68,
        "start_time": "2023-05-16T06:35:05.966Z"
      },
      {
        "duration": 1822,
        "start_time": "2023-05-16T06:35:27.754Z"
      },
      {
        "duration": 3315,
        "start_time": "2023-05-16T06:35:29.579Z"
      },
      {
        "duration": 472,
        "start_time": "2023-05-16T06:35:32.896Z"
      },
      {
        "duration": 3,
        "start_time": "2023-05-16T06:35:33.371Z"
      },
      {
        "duration": 33,
        "start_time": "2023-05-16T06:35:33.376Z"
      },
      {
        "duration": 36,
        "start_time": "2023-05-16T06:35:33.411Z"
      },
      {
        "duration": 12,
        "start_time": "2023-05-16T06:35:33.450Z"
      },
      {
        "duration": 29,
        "start_time": "2023-05-16T06:35:33.464Z"
      },
      {
        "duration": 29,
        "start_time": "2023-05-16T06:35:33.495Z"
      },
      {
        "duration": 25,
        "start_time": "2023-05-16T06:35:33.527Z"
      },
      {
        "duration": 10,
        "start_time": "2023-05-16T06:35:33.555Z"
      },
      {
        "duration": 23,
        "start_time": "2023-05-16T06:35:33.567Z"
      },
      {
        "duration": 25,
        "start_time": "2023-05-16T06:35:33.592Z"
      },
      {
        "duration": 5,
        "start_time": "2023-05-16T06:35:33.620Z"
      },
      {
        "duration": 32,
        "start_time": "2023-05-16T06:35:33.627Z"
      },
      {
        "duration": 6,
        "start_time": "2023-05-16T06:35:33.662Z"
      },
      {
        "duration": 19,
        "start_time": "2023-05-16T06:35:33.670Z"
      },
      {
        "duration": 8,
        "start_time": "2023-05-16T06:35:33.691Z"
      },
      {
        "duration": 14,
        "start_time": "2023-05-16T06:35:33.701Z"
      },
      {
        "duration": 328,
        "start_time": "2023-05-16T06:35:33.718Z"
      },
      {
        "duration": 314,
        "start_time": "2023-05-16T06:35:34.048Z"
      },
      {
        "duration": 436,
        "start_time": "2023-05-16T06:35:34.364Z"
      },
      {
        "duration": 206,
        "start_time": "2023-05-16T06:35:34.803Z"
      },
      {
        "duration": 200,
        "start_time": "2023-05-16T06:35:35.010Z"
      },
      {
        "duration": 235,
        "start_time": "2023-05-16T06:35:35.212Z"
      },
      {
        "duration": 199,
        "start_time": "2023-05-16T06:35:35.449Z"
      },
      {
        "duration": 18,
        "start_time": "2023-05-16T06:35:35.651Z"
      },
      {
        "duration": 260,
        "start_time": "2023-05-16T06:35:35.673Z"
      },
      {
        "duration": 17,
        "start_time": "2023-05-16T06:35:35.935Z"
      },
      {
        "duration": 4,
        "start_time": "2023-05-16T06:35:35.954Z"
      },
      {
        "duration": 7,
        "start_time": "2023-05-16T06:35:35.960Z"
      },
      {
        "duration": 36,
        "start_time": "2023-05-16T06:35:35.969Z"
      },
      {
        "duration": 61,
        "start_time": "2023-05-16T06:35:36.006Z"
      },
      {
        "duration": 2701,
        "start_time": "2023-05-16T06:35:36.069Z"
      },
      {
        "duration": 1028,
        "start_time": "2023-05-16T06:35:38.772Z"
      },
      {
        "duration": 15685,
        "start_time": "2023-05-16T06:35:39.803Z"
      },
      {
        "duration": 2642,
        "start_time": "2023-05-16T06:35:55.490Z"
      },
      {
        "duration": 5,
        "start_time": "2023-05-16T06:35:58.134Z"
      },
      {
        "duration": 54,
        "start_time": "2023-05-16T06:35:58.141Z"
      },
      {
        "duration": 1369,
        "start_time": "2023-05-16T06:35:58.197Z"
      },
      {
        "duration": 18,
        "start_time": "2023-05-16T06:35:59.568Z"
      },
      {
        "duration": 25,
        "start_time": "2023-05-16T06:35:59.589Z"
      },
      {
        "duration": 24,
        "start_time": "2023-05-16T06:35:59.616Z"
      },
      {
        "duration": 8,
        "start_time": "2023-05-16T06:35:59.642Z"
      },
      {
        "duration": 8,
        "start_time": "2023-05-16T06:35:59.652Z"
      },
      {
        "duration": 8,
        "start_time": "2023-05-16T06:36:02.802Z"
      },
      {
        "duration": 9,
        "start_time": "2023-05-16T06:36:18.690Z"
      },
      {
        "duration": 13,
        "start_time": "2023-05-16T06:36:39.658Z"
      },
      {
        "duration": 193,
        "start_time": "2023-05-16T06:36:54.458Z"
      },
      {
        "duration": 217,
        "start_time": "2023-05-16T06:37:28.870Z"
      },
      {
        "duration": 184,
        "start_time": "2023-05-16T06:38:00.393Z"
      },
      {
        "duration": 254,
        "start_time": "2023-05-16T06:38:08.880Z"
      },
      {
        "duration": 4,
        "start_time": "2023-05-16T06:39:55.778Z"
      },
      {
        "duration": 12,
        "start_time": "2023-05-16T06:39:57.699Z"
      },
      {
        "duration": 140,
        "start_time": "2023-05-16T06:41:38.363Z"
      },
      {
        "duration": 18,
        "start_time": "2023-05-16T06:43:11.077Z"
      },
      {
        "duration": 232,
        "start_time": "2023-05-16T06:43:12.184Z"
      },
      {
        "duration": 14,
        "start_time": "2023-05-16T06:43:42.866Z"
      },
      {
        "duration": 133,
        "start_time": "2023-05-16T06:45:21.747Z"
      },
      {
        "duration": 10,
        "start_time": "2023-05-16T06:45:45.691Z"
      },
      {
        "duration": 18,
        "start_time": "2023-05-16T06:45:46.240Z"
      },
      {
        "duration": 1542,
        "start_time": "2023-05-16T06:46:12.707Z"
      },
      {
        "duration": 770,
        "start_time": "2023-05-16T06:46:14.251Z"
      },
      {
        "duration": 413,
        "start_time": "2023-05-16T06:46:15.022Z"
      },
      {
        "duration": 3,
        "start_time": "2023-05-16T06:46:15.436Z"
      },
      {
        "duration": 12,
        "start_time": "2023-05-16T06:46:15.441Z"
      },
      {
        "duration": 9,
        "start_time": "2023-05-16T06:46:15.456Z"
      },
      {
        "duration": 29,
        "start_time": "2023-05-16T06:46:15.468Z"
      },
      {
        "duration": 5,
        "start_time": "2023-05-16T06:46:15.500Z"
      },
      {
        "duration": 29,
        "start_time": "2023-05-16T06:46:15.507Z"
      },
      {
        "duration": 12,
        "start_time": "2023-05-16T06:46:15.538Z"
      },
      {
        "duration": 28,
        "start_time": "2023-05-16T06:46:15.556Z"
      },
      {
        "duration": 17,
        "start_time": "2023-05-16T06:46:15.586Z"
      },
      {
        "duration": 17,
        "start_time": "2023-05-16T06:46:15.605Z"
      },
      {
        "duration": 8,
        "start_time": "2023-05-16T06:46:15.627Z"
      },
      {
        "duration": 21,
        "start_time": "2023-05-16T06:46:15.638Z"
      },
      {
        "duration": 4,
        "start_time": "2023-05-16T06:46:15.661Z"
      },
      {
        "duration": 31,
        "start_time": "2023-05-16T06:46:15.667Z"
      },
      {
        "duration": 5,
        "start_time": "2023-05-16T06:46:15.700Z"
      },
      {
        "duration": 7,
        "start_time": "2023-05-16T06:46:15.707Z"
      },
      {
        "duration": 318,
        "start_time": "2023-05-16T06:46:15.716Z"
      },
      {
        "duration": 303,
        "start_time": "2023-05-16T06:46:16.036Z"
      },
      {
        "duration": 429,
        "start_time": "2023-05-16T06:46:16.341Z"
      },
      {
        "duration": 198,
        "start_time": "2023-05-16T06:46:16.773Z"
      },
      {
        "duration": 199,
        "start_time": "2023-05-16T06:46:16.973Z"
      },
      {
        "duration": 195,
        "start_time": "2023-05-16T06:46:17.173Z"
      },
      {
        "duration": 198,
        "start_time": "2023-05-16T06:46:17.370Z"
      },
      {
        "duration": 16,
        "start_time": "2023-05-16T06:46:17.569Z"
      },
      {
        "duration": 250,
        "start_time": "2023-05-16T06:46:17.587Z"
      },
      {
        "duration": 16,
        "start_time": "2023-05-16T06:46:17.838Z"
      },
      {
        "duration": 18,
        "start_time": "2023-05-16T06:46:17.856Z"
      },
      {
        "duration": 35,
        "start_time": "2023-05-16T06:46:17.876Z"
      },
      {
        "duration": 32,
        "start_time": "2023-05-16T06:46:17.912Z"
      },
      {
        "duration": 22,
        "start_time": "2023-05-16T06:46:17.946Z"
      },
      {
        "duration": 15,
        "start_time": "2023-05-16T06:46:17.970Z"
      },
      {
        "duration": 21,
        "start_time": "2023-05-16T06:46:17.987Z"
      },
      {
        "duration": 43,
        "start_time": "2023-05-16T06:46:18.010Z"
      },
      {
        "duration": 2569,
        "start_time": "2023-05-16T06:46:18.055Z"
      },
      {
        "duration": 676,
        "start_time": "2023-05-16T06:46:20.626Z"
      },
      {
        "duration": 15915,
        "start_time": "2023-05-16T06:46:21.305Z"
      },
      {
        "duration": 2405,
        "start_time": "2023-05-16T06:46:37.221Z"
      },
      {
        "duration": 5,
        "start_time": "2023-05-16T06:46:39.630Z"
      },
      {
        "duration": 18,
        "start_time": "2023-05-16T06:46:39.636Z"
      },
      {
        "duration": 1303,
        "start_time": "2023-05-16T06:46:39.656Z"
      },
      {
        "duration": 7,
        "start_time": "2023-05-16T06:46:40.961Z"
      },
      {
        "duration": 7,
        "start_time": "2023-05-16T06:46:40.970Z"
      },
      {
        "duration": 7,
        "start_time": "2023-05-16T06:46:40.978Z"
      },
      {
        "duration": 5,
        "start_time": "2023-05-16T06:46:40.987Z"
      },
      {
        "duration": 5,
        "start_time": "2023-05-16T06:46:40.994Z"
      },
      {
        "duration": 185,
        "start_time": "2023-05-16T06:47:54.366Z"
      },
      {
        "duration": 235,
        "start_time": "2023-05-16T06:51:45.321Z"
      },
      {
        "duration": 247,
        "start_time": "2023-05-16T06:52:01.282Z"
      },
      {
        "duration": 194,
        "start_time": "2023-05-16T07:01:36.964Z"
      },
      {
        "duration": 26,
        "start_time": "2023-05-16T07:02:08.929Z"
      },
      {
        "duration": 21,
        "start_time": "2023-05-16T07:02:46.157Z"
      },
      {
        "duration": 20,
        "start_time": "2023-05-16T07:02:57.102Z"
      },
      {
        "duration": 1529,
        "start_time": "2023-05-16T07:03:09.403Z"
      },
      {
        "duration": 765,
        "start_time": "2023-05-16T07:03:10.934Z"
      },
      {
        "duration": 417,
        "start_time": "2023-05-16T07:03:11.701Z"
      },
      {
        "duration": 3,
        "start_time": "2023-05-16T07:03:12.121Z"
      },
      {
        "duration": 10,
        "start_time": "2023-05-16T07:03:12.125Z"
      },
      {
        "duration": 10,
        "start_time": "2023-05-16T07:03:12.137Z"
      },
      {
        "duration": 10,
        "start_time": "2023-05-16T07:03:12.149Z"
      },
      {
        "duration": 8,
        "start_time": "2023-05-16T07:03:12.160Z"
      },
      {
        "duration": 42,
        "start_time": "2023-05-16T07:03:12.170Z"
      },
      {
        "duration": 10,
        "start_time": "2023-05-16T07:03:12.215Z"
      },
      {
        "duration": 13,
        "start_time": "2023-05-16T07:03:12.227Z"
      },
      {
        "duration": 19,
        "start_time": "2023-05-16T07:03:12.242Z"
      },
      {
        "duration": 21,
        "start_time": "2023-05-16T07:03:12.263Z"
      },
      {
        "duration": 13,
        "start_time": "2023-05-16T07:03:12.286Z"
      },
      {
        "duration": 26,
        "start_time": "2023-05-16T07:03:12.301Z"
      },
      {
        "duration": 5,
        "start_time": "2023-05-16T07:03:12.329Z"
      },
      {
        "duration": 14,
        "start_time": "2023-05-16T07:03:12.336Z"
      },
      {
        "duration": 7,
        "start_time": "2023-05-16T07:03:12.352Z"
      },
      {
        "duration": 7,
        "start_time": "2023-05-16T07:03:12.361Z"
      },
      {
        "duration": 361,
        "start_time": "2023-05-16T07:03:12.370Z"
      },
      {
        "duration": 288,
        "start_time": "2023-05-16T07:03:12.733Z"
      },
      {
        "duration": 389,
        "start_time": "2023-05-16T07:03:13.023Z"
      },
      {
        "duration": 194,
        "start_time": "2023-05-16T07:03:13.413Z"
      },
      {
        "duration": 196,
        "start_time": "2023-05-16T07:03:13.608Z"
      },
      {
        "duration": 216,
        "start_time": "2023-05-16T07:03:13.806Z"
      },
      {
        "duration": 188,
        "start_time": "2023-05-16T07:03:14.025Z"
      },
      {
        "duration": 16,
        "start_time": "2023-05-16T07:03:14.215Z"
      },
      {
        "duration": 240,
        "start_time": "2023-05-16T07:03:14.235Z"
      },
      {
        "duration": 30,
        "start_time": "2023-05-16T07:03:14.478Z"
      },
      {
        "duration": 20,
        "start_time": "2023-05-16T07:03:14.510Z"
      },
      {
        "duration": 43,
        "start_time": "2023-05-16T07:03:14.532Z"
      },
      {
        "duration": 35,
        "start_time": "2023-05-16T07:03:14.577Z"
      },
      {
        "duration": 209,
        "start_time": "2023-05-16T07:03:14.614Z"
      },
      {
        "duration": 3,
        "start_time": "2023-05-16T07:03:14.826Z"
      },
      {
        "duration": 30,
        "start_time": "2023-05-16T07:03:14.831Z"
      },
      {
        "duration": 60,
        "start_time": "2023-05-16T07:03:14.863Z"
      },
      {
        "duration": 48,
        "start_time": "2023-05-16T07:03:14.925Z"
      },
      {
        "duration": 2687,
        "start_time": "2023-05-16T07:03:14.975Z"
      },
      {
        "duration": 735,
        "start_time": "2023-05-16T07:03:17.664Z"
      },
      {
        "duration": 15475,
        "start_time": "2023-05-16T07:03:18.401Z"
      },
      {
        "duration": 2829,
        "start_time": "2023-05-16T07:03:33.877Z"
      },
      {
        "duration": 5,
        "start_time": "2023-05-16T07:03:36.709Z"
      },
      {
        "duration": 23,
        "start_time": "2023-05-16T07:03:36.716Z"
      },
      {
        "duration": 1401,
        "start_time": "2023-05-16T07:03:36.742Z"
      },
      {
        "duration": 8,
        "start_time": "2023-05-16T07:03:38.145Z"
      },
      {
        "duration": 18,
        "start_time": "2023-05-16T07:03:38.155Z"
      },
      {
        "duration": 7,
        "start_time": "2023-05-16T07:03:38.175Z"
      },
      {
        "duration": 25,
        "start_time": "2023-05-16T07:03:38.184Z"
      },
      {
        "duration": 17,
        "start_time": "2023-05-16T07:03:38.211Z"
      },
      {
        "duration": 138,
        "start_time": "2023-05-16T07:03:38.231Z"
      },
      {
        "duration": 20,
        "start_time": "2023-05-16T07:04:01.090Z"
      },
      {
        "duration": 5,
        "start_time": "2023-05-16T07:04:05.728Z"
      },
      {
        "duration": 21,
        "start_time": "2023-05-16T07:04:09.189Z"
      },
      {
        "duration": 1593,
        "start_time": "2023-05-16T07:04:23.605Z"
      },
      {
        "duration": 816,
        "start_time": "2023-05-16T07:04:25.200Z"
      },
      {
        "duration": 420,
        "start_time": "2023-05-16T07:04:26.018Z"
      },
      {
        "duration": 3,
        "start_time": "2023-05-16T07:04:26.441Z"
      },
      {
        "duration": 11,
        "start_time": "2023-05-16T07:04:26.446Z"
      },
      {
        "duration": 3,
        "start_time": "2023-05-16T07:04:26.459Z"
      },
      {
        "duration": 8,
        "start_time": "2023-05-16T07:04:26.464Z"
      },
      {
        "duration": 4,
        "start_time": "2023-05-16T07:04:26.497Z"
      },
      {
        "duration": 47,
        "start_time": "2023-05-16T07:04:26.503Z"
      },
      {
        "duration": 23,
        "start_time": "2023-05-16T07:04:26.554Z"
      },
      {
        "duration": 26,
        "start_time": "2023-05-16T07:04:26.579Z"
      },
      {
        "duration": 41,
        "start_time": "2023-05-16T07:04:26.607Z"
      },
      {
        "duration": 25,
        "start_time": "2023-05-16T07:04:26.651Z"
      },
      {
        "duration": 5,
        "start_time": "2023-05-16T07:04:26.678Z"
      },
      {
        "duration": 29,
        "start_time": "2023-05-16T07:04:26.686Z"
      },
      {
        "duration": 5,
        "start_time": "2023-05-16T07:04:26.718Z"
      },
      {
        "duration": 16,
        "start_time": "2023-05-16T07:04:26.726Z"
      },
      {
        "duration": 18,
        "start_time": "2023-05-16T07:04:26.745Z"
      },
      {
        "duration": 21,
        "start_time": "2023-05-16T07:04:26.765Z"
      },
      {
        "duration": 332,
        "start_time": "2023-05-16T07:04:26.789Z"
      },
      {
        "duration": 308,
        "start_time": "2023-05-16T07:04:27.123Z"
      },
      {
        "duration": 440,
        "start_time": "2023-05-16T07:04:27.433Z"
      },
      {
        "duration": 193,
        "start_time": "2023-05-16T07:04:27.875Z"
      },
      {
        "duration": 196,
        "start_time": "2023-05-16T07:04:28.070Z"
      },
      {
        "duration": 193,
        "start_time": "2023-05-16T07:04:28.268Z"
      },
      {
        "duration": 180,
        "start_time": "2023-05-16T07:04:28.463Z"
      },
      {
        "duration": 17,
        "start_time": "2023-05-16T07:04:28.645Z"
      },
      {
        "duration": 240,
        "start_time": "2023-05-16T07:04:28.666Z"
      },
      {
        "duration": 15,
        "start_time": "2023-05-16T07:04:28.908Z"
      },
      {
        "duration": 9,
        "start_time": "2023-05-16T07:04:28.925Z"
      },
      {
        "duration": 10,
        "start_time": "2023-05-16T07:04:28.936Z"
      },
      {
        "duration": 18,
        "start_time": "2023-05-16T07:04:28.948Z"
      },
      {
        "duration": 218,
        "start_time": "2023-05-16T07:04:28.968Z"
      },
      {
        "duration": 3,
        "start_time": "2023-05-16T07:04:29.188Z"
      },
      {
        "duration": 5,
        "start_time": "2023-05-16T07:04:29.196Z"
      },
      {
        "duration": 11,
        "start_time": "2023-05-16T07:04:29.203Z"
      },
      {
        "duration": 28,
        "start_time": "2023-05-16T07:04:29.216Z"
      },
      {
        "duration": 2636,
        "start_time": "2023-05-16T07:04:29.246Z"
      },
      {
        "duration": 719,
        "start_time": "2023-05-16T07:04:31.884Z"
      },
      {
        "duration": 15755,
        "start_time": "2023-05-16T07:04:32.605Z"
      },
      {
        "duration": 2320,
        "start_time": "2023-05-16T07:04:48.361Z"
      },
      {
        "duration": 5,
        "start_time": "2023-05-16T07:04:50.683Z"
      },
      {
        "duration": 21,
        "start_time": "2023-05-16T07:04:50.690Z"
      },
      {
        "duration": 1537,
        "start_time": "2023-05-16T07:04:50.712Z"
      },
      {
        "duration": 8,
        "start_time": "2023-05-16T07:04:52.250Z"
      },
      {
        "duration": 52,
        "start_time": "2023-05-16T07:04:52.259Z"
      },
      {
        "duration": 43,
        "start_time": "2023-05-16T07:04:52.313Z"
      },
      {
        "duration": 39,
        "start_time": "2023-05-16T07:04:52.358Z"
      },
      {
        "duration": 66,
        "start_time": "2023-05-16T07:04:52.399Z"
      },
      {
        "duration": 117,
        "start_time": "2023-05-16T07:31:41.788Z"
      },
      {
        "duration": 1795,
        "start_time": "2023-05-16T07:57:09.685Z"
      },
      {
        "duration": 973,
        "start_time": "2023-05-16T07:57:11.483Z"
      },
      {
        "duration": 416,
        "start_time": "2023-05-16T07:57:12.458Z"
      },
      {
        "duration": 2,
        "start_time": "2023-05-16T07:57:12.877Z"
      },
      {
        "duration": 20,
        "start_time": "2023-05-16T07:57:12.881Z"
      },
      {
        "duration": 11,
        "start_time": "2023-05-16T07:57:12.903Z"
      },
      {
        "duration": 10,
        "start_time": "2023-05-16T07:57:12.915Z"
      },
      {
        "duration": 5,
        "start_time": "2023-05-16T07:57:12.927Z"
      },
      {
        "duration": 34,
        "start_time": "2023-05-16T07:57:12.933Z"
      },
      {
        "duration": 19,
        "start_time": "2023-05-16T07:57:12.970Z"
      },
      {
        "duration": 11,
        "start_time": "2023-05-16T07:57:12.991Z"
      },
      {
        "duration": 19,
        "start_time": "2023-05-16T07:57:13.004Z"
      },
      {
        "duration": 22,
        "start_time": "2023-05-16T07:57:13.024Z"
      },
      {
        "duration": 3,
        "start_time": "2023-05-16T07:57:13.048Z"
      },
      {
        "duration": 27,
        "start_time": "2023-05-16T07:57:13.053Z"
      },
      {
        "duration": 14,
        "start_time": "2023-05-16T07:57:13.083Z"
      },
      {
        "duration": 11,
        "start_time": "2023-05-16T07:57:13.099Z"
      },
      {
        "duration": 16,
        "start_time": "2023-05-16T07:57:13.112Z"
      },
      {
        "duration": 10,
        "start_time": "2023-05-16T07:57:13.130Z"
      },
      {
        "duration": 315,
        "start_time": "2023-05-16T07:57:13.142Z"
      },
      {
        "duration": 306,
        "start_time": "2023-05-16T07:57:13.459Z"
      },
      {
        "duration": 409,
        "start_time": "2023-05-16T07:57:13.767Z"
      },
      {
        "duration": 193,
        "start_time": "2023-05-16T07:57:14.178Z"
      },
      {
        "duration": 254,
        "start_time": "2023-05-16T07:57:14.373Z"
      },
      {
        "duration": 197,
        "start_time": "2023-05-16T07:57:14.629Z"
      },
      {
        "duration": 185,
        "start_time": "2023-05-16T07:57:14.828Z"
      },
      {
        "duration": 18,
        "start_time": "2023-05-16T07:57:15.015Z"
      },
      {
        "duration": 464,
        "start_time": "2023-05-16T07:57:15.037Z"
      },
      {
        "duration": 238,
        "start_time": "2023-05-16T07:57:15.504Z"
      },
      {
        "duration": 20,
        "start_time": "2023-05-16T07:57:15.745Z"
      },
      {
        "duration": 9,
        "start_time": "2023-05-16T07:57:15.766Z"
      },
      {
        "duration": 27,
        "start_time": "2023-05-16T07:57:15.777Z"
      },
      {
        "duration": 23,
        "start_time": "2023-05-16T07:57:15.806Z"
      },
      {
        "duration": 209,
        "start_time": "2023-05-16T07:57:15.831Z"
      },
      {
        "duration": 3,
        "start_time": "2023-05-16T07:57:16.043Z"
      },
      {
        "duration": 24,
        "start_time": "2023-05-16T07:57:16.048Z"
      },
      {
        "duration": 23,
        "start_time": "2023-05-16T07:57:16.074Z"
      },
      {
        "duration": 43,
        "start_time": "2023-05-16T07:57:16.099Z"
      },
      {
        "duration": 2669,
        "start_time": "2023-05-16T07:57:16.144Z"
      },
      {
        "duration": 688,
        "start_time": "2023-05-16T07:57:18.815Z"
      },
      {
        "duration": 15555,
        "start_time": "2023-05-16T07:57:19.506Z"
      },
      {
        "duration": 3027,
        "start_time": "2023-05-16T07:57:35.063Z"
      },
      {
        "duration": 5,
        "start_time": "2023-05-16T07:57:38.092Z"
      },
      {
        "duration": 32,
        "start_time": "2023-05-16T07:57:38.099Z"
      },
      {
        "duration": 2556,
        "start_time": "2023-05-16T07:57:38.133Z"
      },
      {
        "duration": 9,
        "start_time": "2023-05-16T07:57:40.691Z"
      },
      {
        "duration": 17,
        "start_time": "2023-05-16T07:57:40.701Z"
      },
      {
        "duration": 15,
        "start_time": "2023-05-16T07:57:40.720Z"
      },
      {
        "duration": 14,
        "start_time": "2023-05-16T07:57:40.737Z"
      },
      {
        "duration": 8,
        "start_time": "2023-05-16T07:57:40.753Z"
      },
      {
        "duration": 204,
        "start_time": "2023-05-16T08:03:00.331Z"
      },
      {
        "duration": 457,
        "start_time": "2023-05-16T08:03:36.467Z"
      },
      {
        "duration": 459,
        "start_time": "2023-05-16T08:05:27.521Z"
      },
      {
        "duration": 527,
        "start_time": "2023-05-16T08:06:00.742Z"
      },
      {
        "duration": 108,
        "start_time": "2023-05-16T08:06:58.940Z"
      },
      {
        "duration": 522,
        "start_time": "2023-05-16T08:07:09.856Z"
      },
      {
        "duration": 441,
        "start_time": "2023-05-16T08:07:25.034Z"
      },
      {
        "duration": 524,
        "start_time": "2023-05-16T08:09:06.309Z"
      },
      {
        "duration": 510,
        "start_time": "2023-05-16T08:09:13.982Z"
      },
      {
        "duration": 445,
        "start_time": "2023-05-16T08:11:09.634Z"
      },
      {
        "duration": 483,
        "start_time": "2023-05-16T08:12:09.907Z"
      },
      {
        "duration": 453,
        "start_time": "2023-05-16T08:13:04.437Z"
      },
      {
        "duration": 514,
        "start_time": "2023-05-16T08:13:20.995Z"
      },
      {
        "duration": 453,
        "start_time": "2023-05-16T08:15:07.428Z"
      },
      {
        "duration": 488,
        "start_time": "2023-05-16T08:15:22.498Z"
      },
      {
        "duration": 463,
        "start_time": "2023-05-16T08:15:48.509Z"
      },
      {
        "duration": 493,
        "start_time": "2023-05-16T08:16:17.589Z"
      },
      {
        "duration": 471,
        "start_time": "2023-05-16T08:19:11.095Z"
      },
      {
        "duration": 424,
        "start_time": "2023-05-16T08:19:32.150Z"
      },
      {
        "duration": 588,
        "start_time": "2023-05-16T08:22:46.545Z"
      },
      {
        "duration": 99,
        "start_time": "2023-05-16T08:24:05.240Z"
      },
      {
        "duration": 455,
        "start_time": "2023-05-16T08:24:18.735Z"
      },
      {
        "duration": 3,
        "start_time": "2023-05-16T08:24:58.178Z"
      },
      {
        "duration": 7,
        "start_time": "2023-05-16T08:25:26.717Z"
      },
      {
        "duration": 516,
        "start_time": "2023-05-16T08:26:28.014Z"
      },
      {
        "duration": 481,
        "start_time": "2023-05-16T08:27:01.141Z"
      },
      {
        "duration": 426,
        "start_time": "2023-05-16T08:27:18.563Z"
      },
      {
        "duration": 456,
        "start_time": "2023-05-16T08:33:06.822Z"
      },
      {
        "duration": 240,
        "start_time": "2023-05-16T08:39:15.101Z"
      },
      {
        "duration": 269,
        "start_time": "2023-05-16T08:40:49.193Z"
      },
      {
        "duration": 255,
        "start_time": "2023-05-16T08:41:08.124Z"
      },
      {
        "duration": 331,
        "start_time": "2023-05-16T08:42:10.238Z"
      },
      {
        "duration": 263,
        "start_time": "2023-05-16T08:42:23.076Z"
      },
      {
        "duration": 370,
        "start_time": "2023-05-16T08:50:38.284Z"
      },
      {
        "duration": 180,
        "start_time": "2023-05-16T08:51:04.010Z"
      },
      {
        "duration": 252,
        "start_time": "2023-05-16T08:51:15.680Z"
      },
      {
        "duration": 236,
        "start_time": "2023-05-16T08:51:46.251Z"
      },
      {
        "duration": 1961,
        "start_time": "2023-05-16T08:58:52.904Z"
      },
      {
        "duration": 969,
        "start_time": "2023-05-16T08:58:54.866Z"
      },
      {
        "duration": 465,
        "start_time": "2023-05-16T08:58:55.837Z"
      },
      {
        "duration": 9,
        "start_time": "2023-05-16T08:58:56.305Z"
      },
      {
        "duration": 11,
        "start_time": "2023-05-16T08:58:56.316Z"
      },
      {
        "duration": 11,
        "start_time": "2023-05-16T08:58:56.329Z"
      },
      {
        "duration": 15,
        "start_time": "2023-05-16T08:58:56.342Z"
      },
      {
        "duration": 13,
        "start_time": "2023-05-16T08:58:56.359Z"
      },
      {
        "duration": 51,
        "start_time": "2023-05-16T08:58:56.374Z"
      },
      {
        "duration": 8,
        "start_time": "2023-05-16T08:58:56.428Z"
      },
      {
        "duration": 17,
        "start_time": "2023-05-16T08:58:56.438Z"
      },
      {
        "duration": 27,
        "start_time": "2023-05-16T08:58:56.457Z"
      },
      {
        "duration": 43,
        "start_time": "2023-05-16T08:58:56.488Z"
      },
      {
        "duration": 5,
        "start_time": "2023-05-16T08:58:56.533Z"
      },
      {
        "duration": 30,
        "start_time": "2023-05-16T08:58:56.540Z"
      },
      {
        "duration": 22,
        "start_time": "2023-05-16T08:58:56.573Z"
      },
      {
        "duration": 31,
        "start_time": "2023-05-16T08:58:56.597Z"
      },
      {
        "duration": 19,
        "start_time": "2023-05-16T08:58:56.630Z"
      },
      {
        "duration": 20,
        "start_time": "2023-05-16T08:58:56.651Z"
      },
      {
        "duration": 417,
        "start_time": "2023-05-16T08:58:56.673Z"
      },
      {
        "duration": 330,
        "start_time": "2023-05-16T08:58:57.092Z"
      },
      {
        "duration": 411,
        "start_time": "2023-05-16T08:58:57.425Z"
      },
      {
        "duration": 224,
        "start_time": "2023-05-16T08:58:57.838Z"
      },
      {
        "duration": 237,
        "start_time": "2023-05-16T08:58:58.064Z"
      },
      {
        "duration": 3,
        "start_time": "2023-05-16T08:58:58.304Z"
      },
      {
        "duration": 20,
        "start_time": "2023-05-16T08:58:58.310Z"
      },
      {
        "duration": 455,
        "start_time": "2023-05-16T08:58:58.332Z"
      },
      {
        "duration": 29,
        "start_time": "2023-05-16T08:58:58.789Z"
      },
      {
        "duration": 253,
        "start_time": "2023-05-16T08:58:58.820Z"
      },
      {
        "duration": 26,
        "start_time": "2023-05-16T08:58:59.075Z"
      },
      {
        "duration": 17,
        "start_time": "2023-05-16T08:58:59.104Z"
      },
      {
        "duration": 16,
        "start_time": "2023-05-16T08:58:59.123Z"
      },
      {
        "duration": 22,
        "start_time": "2023-05-16T08:58:59.141Z"
      },
      {
        "duration": 212,
        "start_time": "2023-05-16T08:58:59.164Z"
      },
      {
        "duration": 3,
        "start_time": "2023-05-16T08:58:59.378Z"
      },
      {
        "duration": 17,
        "start_time": "2023-05-16T08:58:59.383Z"
      },
      {
        "duration": 35,
        "start_time": "2023-05-16T08:58:59.403Z"
      },
      {
        "duration": 62,
        "start_time": "2023-05-16T08:58:59.440Z"
      },
      {
        "duration": 2808,
        "start_time": "2023-05-16T08:58:59.505Z"
      },
      {
        "duration": 985,
        "start_time": "2023-05-16T08:59:02.317Z"
      },
      {
        "duration": 16654,
        "start_time": "2023-05-16T08:59:03.304Z"
      },
      {
        "duration": 4634,
        "start_time": "2023-05-16T08:59:19.960Z"
      },
      {
        "duration": 9,
        "start_time": "2023-05-16T08:59:24.596Z"
      },
      {
        "duration": 30,
        "start_time": "2023-05-16T08:59:24.608Z"
      },
      {
        "duration": 2346,
        "start_time": "2023-05-16T08:59:24.640Z"
      },
      {
        "duration": 13,
        "start_time": "2023-05-16T08:59:26.989Z"
      },
      {
        "duration": 24,
        "start_time": "2023-05-16T08:59:27.005Z"
      },
      {
        "duration": 8,
        "start_time": "2023-05-16T08:59:27.031Z"
      },
      {
        "duration": 15,
        "start_time": "2023-05-16T08:59:27.041Z"
      },
      {
        "duration": 9,
        "start_time": "2023-05-16T08:59:27.058Z"
      },
      {
        "duration": 5,
        "start_time": "2023-05-16T09:12:49.557Z"
      },
      {
        "duration": 146,
        "start_time": "2023-05-16T09:13:04.417Z"
      },
      {
        "duration": 23,
        "start_time": "2023-05-16T09:13:51.841Z"
      },
      {
        "duration": 30,
        "start_time": "2023-05-16T09:14:05.857Z"
      },
      {
        "duration": 37,
        "start_time": "2023-05-16T09:14:19.289Z"
      },
      {
        "duration": 5,
        "start_time": "2023-05-16T09:14:26.383Z"
      },
      {
        "duration": 3,
        "start_time": "2023-05-16T09:14:26.844Z"
      },
      {
        "duration": 21,
        "start_time": "2023-05-16T09:14:27.627Z"
      },
      {
        "duration": 1802,
        "start_time": "2023-05-16T09:14:43.229Z"
      },
      {
        "duration": 925,
        "start_time": "2023-05-16T09:14:45.034Z"
      },
      {
        "duration": 431,
        "start_time": "2023-05-16T09:14:45.960Z"
      },
      {
        "duration": 14,
        "start_time": "2023-05-16T09:14:46.408Z"
      },
      {
        "duration": 15,
        "start_time": "2023-05-16T09:14:46.425Z"
      },
      {
        "duration": 10,
        "start_time": "2023-05-16T09:14:46.441Z"
      },
      {
        "duration": 19,
        "start_time": "2023-05-16T09:14:46.454Z"
      },
      {
        "duration": 9,
        "start_time": "2023-05-16T09:14:46.475Z"
      },
      {
        "duration": 60,
        "start_time": "2023-05-16T09:14:46.486Z"
      },
      {
        "duration": 12,
        "start_time": "2023-05-16T09:14:46.548Z"
      },
      {
        "duration": 23,
        "start_time": "2023-05-16T09:14:46.562Z"
      },
      {
        "duration": 8,
        "start_time": "2023-05-16T09:14:46.587Z"
      },
      {
        "duration": 49,
        "start_time": "2023-05-16T09:14:46.596Z"
      },
      {
        "duration": 24,
        "start_time": "2023-05-16T09:14:46.647Z"
      },
      {
        "duration": 4,
        "start_time": "2023-05-16T09:14:46.673Z"
      },
      {
        "duration": 29,
        "start_time": "2023-05-16T09:14:46.679Z"
      },
      {
        "duration": 22,
        "start_time": "2023-05-16T09:14:46.710Z"
      },
      {
        "duration": 10,
        "start_time": "2023-05-16T09:14:46.734Z"
      },
      {
        "duration": 13,
        "start_time": "2023-05-16T09:14:46.746Z"
      },
      {
        "duration": 8,
        "start_time": "2023-05-16T09:14:46.761Z"
      },
      {
        "duration": 342,
        "start_time": "2023-05-16T09:14:46.770Z"
      },
      {
        "duration": 307,
        "start_time": "2023-05-16T09:14:47.122Z"
      },
      {
        "duration": 434,
        "start_time": "2023-05-16T09:14:47.431Z"
      },
      {
        "duration": 291,
        "start_time": "2023-05-16T09:14:47.867Z"
      },
      {
        "duration": 260,
        "start_time": "2023-05-16T09:14:48.161Z"
      },
      {
        "duration": 5,
        "start_time": "2023-05-16T09:14:48.424Z"
      },
      {
        "duration": 10,
        "start_time": "2023-05-16T09:14:48.431Z"
      },
      {
        "duration": 455,
        "start_time": "2023-05-16T09:14:48.443Z"
      },
      {
        "duration": 21,
        "start_time": "2023-05-16T09:14:48.903Z"
      },
      {
        "duration": 244,
        "start_time": "2023-05-16T09:14:48.926Z"
      },
      {
        "duration": 16,
        "start_time": "2023-05-16T09:14:49.172Z"
      },
      {
        "duration": 43,
        "start_time": "2023-05-16T09:14:49.190Z"
      },
      {
        "duration": 17,
        "start_time": "2023-05-16T09:14:49.235Z"
      },
      {
        "duration": 17,
        "start_time": "2023-05-16T09:14:49.254Z"
      },
      {
        "duration": 238,
        "start_time": "2023-05-16T09:14:49.273Z"
      },
      {
        "duration": 4,
        "start_time": "2023-05-16T09:14:49.514Z"
      },
      {
        "duration": 29,
        "start_time": "2023-05-16T09:14:49.519Z"
      },
      {
        "duration": 19,
        "start_time": "2023-05-16T09:14:49.550Z"
      },
      {
        "duration": 39,
        "start_time": "2023-05-16T09:14:49.571Z"
      },
      {
        "duration": 2920,
        "start_time": "2023-05-16T09:14:49.612Z"
      },
      {
        "duration": 1179,
        "start_time": "2023-05-16T09:14:52.533Z"
      },
      {
        "duration": 17235,
        "start_time": "2023-05-16T09:14:53.714Z"
      },
      {
        "duration": 5530,
        "start_time": "2023-05-16T09:15:10.950Z"
      },
      {
        "duration": 5,
        "start_time": "2023-05-16T09:15:16.482Z"
      },
      {
        "duration": 43,
        "start_time": "2023-05-16T09:15:16.489Z"
      },
      {
        "duration": 2612,
        "start_time": "2023-05-16T09:15:16.534Z"
      },
      {
        "duration": 7,
        "start_time": "2023-05-16T09:15:19.148Z"
      },
      {
        "duration": 11,
        "start_time": "2023-05-16T09:15:19.157Z"
      },
      {
        "duration": 8,
        "start_time": "2023-05-16T09:15:19.170Z"
      },
      {
        "duration": 11,
        "start_time": "2023-05-16T09:15:19.180Z"
      },
      {
        "duration": 41,
        "start_time": "2023-05-16T09:15:19.192Z"
      },
      {
        "duration": 155,
        "start_time": "2023-05-16T09:15:33.824Z"
      },
      {
        "duration": 26,
        "start_time": "2023-05-16T09:15:45.778Z"
      },
      {
        "duration": 5,
        "start_time": "2023-05-16T09:15:51.323Z"
      },
      {
        "duration": 3,
        "start_time": "2023-05-16T09:15:51.752Z"
      },
      {
        "duration": 23,
        "start_time": "2023-05-16T09:15:52.569Z"
      },
      {
        "duration": 1787,
        "start_time": "2023-05-16T09:16:27.687Z"
      },
      {
        "duration": 896,
        "start_time": "2023-05-16T09:16:29.476Z"
      },
      {
        "duration": 441,
        "start_time": "2023-05-16T09:16:30.373Z"
      },
      {
        "duration": 3,
        "start_time": "2023-05-16T09:16:30.820Z"
      },
      {
        "duration": 53,
        "start_time": "2023-05-16T09:16:30.825Z"
      },
      {
        "duration": 59,
        "start_time": "2023-05-16T09:16:30.880Z"
      },
      {
        "duration": 51,
        "start_time": "2023-05-16T09:16:30.941Z"
      },
      {
        "duration": 63,
        "start_time": "2023-05-16T09:16:30.994Z"
      },
      {
        "duration": 80,
        "start_time": "2023-05-16T09:16:31.059Z"
      },
      {
        "duration": 22,
        "start_time": "2023-05-16T09:16:31.143Z"
      },
      {
        "duration": 68,
        "start_time": "2023-05-16T09:16:31.166Z"
      },
      {
        "duration": 38,
        "start_time": "2023-05-16T09:16:31.236Z"
      },
      {
        "duration": 80,
        "start_time": "2023-05-16T09:16:31.276Z"
      },
      {
        "duration": 47,
        "start_time": "2023-05-16T09:16:31.358Z"
      },
      {
        "duration": 57,
        "start_time": "2023-05-16T09:16:31.407Z"
      },
      {
        "duration": 53,
        "start_time": "2023-05-16T09:16:31.465Z"
      },
      {
        "duration": 68,
        "start_time": "2023-05-16T09:16:31.520Z"
      },
      {
        "duration": 39,
        "start_time": "2023-05-16T09:16:31.590Z"
      },
      {
        "duration": 29,
        "start_time": "2023-05-16T09:16:31.631Z"
      },
      {
        "duration": 26,
        "start_time": "2023-05-16T09:16:31.662Z"
      },
      {
        "duration": 374,
        "start_time": "2023-05-16T09:16:31.690Z"
      },
      {
        "duration": 297,
        "start_time": "2023-05-16T09:16:32.065Z"
      },
      {
        "duration": 389,
        "start_time": "2023-05-16T09:16:32.364Z"
      },
      {
        "duration": 213,
        "start_time": "2023-05-16T09:16:32.754Z"
      },
      {
        "duration": 225,
        "start_time": "2023-05-16T09:16:32.969Z"
      },
      {
        "duration": 10,
        "start_time": "2023-05-16T09:16:33.197Z"
      },
      {
        "duration": 39,
        "start_time": "2023-05-16T09:16:33.208Z"
      },
      {
        "duration": 438,
        "start_time": "2023-05-16T09:16:33.250Z"
      },
      {
        "duration": 34,
        "start_time": "2023-05-16T09:16:33.689Z"
      },
      {
        "duration": 260,
        "start_time": "2023-05-16T09:16:33.725Z"
      },
      {
        "duration": 25,
        "start_time": "2023-05-16T09:16:33.987Z"
      },
      {
        "duration": 40,
        "start_time": "2023-05-16T09:16:34.017Z"
      },
      {
        "duration": 28,
        "start_time": "2023-05-16T09:16:34.059Z"
      },
      {
        "duration": 24,
        "start_time": "2023-05-16T09:16:34.089Z"
      },
      {
        "duration": 272,
        "start_time": "2023-05-16T09:16:34.115Z"
      },
      {
        "duration": 3,
        "start_time": "2023-05-16T09:16:34.390Z"
      },
      {
        "duration": 42,
        "start_time": "2023-05-16T09:16:34.395Z"
      },
      {
        "duration": 42,
        "start_time": "2023-05-16T09:16:34.440Z"
      },
      {
        "duration": 68,
        "start_time": "2023-05-16T09:16:34.485Z"
      },
      {
        "duration": 2982,
        "start_time": "2023-05-16T09:16:34.556Z"
      },
      {
        "duration": 1066,
        "start_time": "2023-05-16T09:16:37.540Z"
      },
      {
        "duration": 16547,
        "start_time": "2023-05-16T09:16:38.608Z"
      },
      {
        "duration": 4402,
        "start_time": "2023-05-16T09:16:55.157Z"
      },
      {
        "duration": 154,
        "start_time": "2023-05-16T09:16:59.561Z"
      },
      {
        "duration": 0,
        "start_time": "2023-05-16T09:16:59.718Z"
      },
      {
        "duration": 0,
        "start_time": "2023-05-16T09:16:59.720Z"
      },
      {
        "duration": 0,
        "start_time": "2023-05-16T09:16:59.721Z"
      },
      {
        "duration": 0,
        "start_time": "2023-05-16T09:16:59.722Z"
      },
      {
        "duration": 0,
        "start_time": "2023-05-16T09:16:59.723Z"
      },
      {
        "duration": 0,
        "start_time": "2023-05-16T09:16:59.725Z"
      },
      {
        "duration": 0,
        "start_time": "2023-05-16T09:16:59.726Z"
      },
      {
        "duration": 1660,
        "start_time": "2023-05-16T10:56:44.492Z"
      },
      {
        "duration": 893,
        "start_time": "2023-05-16T10:56:46.154Z"
      },
      {
        "duration": 403,
        "start_time": "2023-05-16T10:56:47.048Z"
      },
      {
        "duration": 2,
        "start_time": "2023-05-16T10:56:47.453Z"
      },
      {
        "duration": 11,
        "start_time": "2023-05-16T10:56:47.457Z"
      },
      {
        "duration": 4,
        "start_time": "2023-05-16T10:56:47.469Z"
      },
      {
        "duration": 6,
        "start_time": "2023-05-16T10:56:47.475Z"
      },
      {
        "duration": 29,
        "start_time": "2023-05-16T10:56:47.483Z"
      },
      {
        "duration": 33,
        "start_time": "2023-05-16T10:56:47.513Z"
      },
      {
        "duration": 8,
        "start_time": "2023-05-16T10:56:47.549Z"
      },
      {
        "duration": 8,
        "start_time": "2023-05-16T10:56:47.559Z"
      },
      {
        "duration": 12,
        "start_time": "2023-05-16T10:56:47.568Z"
      },
      {
        "duration": 27,
        "start_time": "2023-05-16T10:56:47.581Z"
      },
      {
        "duration": 17,
        "start_time": "2023-05-16T10:56:47.610Z"
      },
      {
        "duration": 4,
        "start_time": "2023-05-16T10:56:47.629Z"
      },
      {
        "duration": 22,
        "start_time": "2023-05-16T10:56:47.635Z"
      },
      {
        "duration": 5,
        "start_time": "2023-05-16T10:56:47.659Z"
      },
      {
        "duration": 7,
        "start_time": "2023-05-16T10:56:47.666Z"
      },
      {
        "duration": 29,
        "start_time": "2023-05-16T10:56:47.675Z"
      },
      {
        "duration": 5,
        "start_time": "2023-05-16T10:56:47.709Z"
      },
      {
        "duration": 301,
        "start_time": "2023-05-16T10:56:47.716Z"
      },
      {
        "duration": 319,
        "start_time": "2023-05-16T10:56:48.019Z"
      },
      {
        "duration": 393,
        "start_time": "2023-05-16T10:56:48.340Z"
      },
      {
        "duration": 220,
        "start_time": "2023-05-16T10:56:48.734Z"
      },
      {
        "duration": 226,
        "start_time": "2023-05-16T10:56:48.957Z"
      },
      {
        "duration": 3,
        "start_time": "2023-05-16T10:56:49.185Z"
      },
      {
        "duration": 25,
        "start_time": "2023-05-16T10:56:49.189Z"
      },
      {
        "duration": 460,
        "start_time": "2023-05-16T10:56:49.218Z"
      },
      {
        "duration": 27,
        "start_time": "2023-05-16T10:56:49.679Z"
      },
      {
        "duration": 242,
        "start_time": "2023-05-16T10:56:49.714Z"
      },
      {
        "duration": 17,
        "start_time": "2023-05-16T10:56:49.958Z"
      },
      {
        "duration": 32,
        "start_time": "2023-05-16T10:56:49.977Z"
      },
      {
        "duration": 10,
        "start_time": "2023-05-16T10:56:50.012Z"
      },
      {
        "duration": 14,
        "start_time": "2023-05-16T10:56:50.024Z"
      },
      {
        "duration": 212,
        "start_time": "2023-05-16T10:56:50.039Z"
      },
      {
        "duration": 4,
        "start_time": "2023-05-16T10:56:50.252Z"
      },
      {
        "duration": 10,
        "start_time": "2023-05-16T10:56:50.257Z"
      },
      {
        "duration": 13,
        "start_time": "2023-05-16T10:56:50.269Z"
      },
      {
        "duration": 51,
        "start_time": "2023-05-16T10:56:50.283Z"
      },
      {
        "duration": 2725,
        "start_time": "2023-05-16T10:56:50.337Z"
      },
      {
        "duration": 1036,
        "start_time": "2023-05-16T10:56:53.064Z"
      },
      {
        "duration": 16208,
        "start_time": "2023-05-16T10:56:54.102Z"
      },
      {
        "duration": 3866,
        "start_time": "2023-05-16T10:57:10.312Z"
      },
      {
        "duration": 147,
        "start_time": "2023-05-16T10:57:14.182Z"
      },
      {
        "duration": 0,
        "start_time": "2023-05-16T10:57:14.331Z"
      },
      {
        "duration": 0,
        "start_time": "2023-05-16T10:57:14.332Z"
      },
      {
        "duration": 0,
        "start_time": "2023-05-16T10:57:14.333Z"
      },
      {
        "duration": 0,
        "start_time": "2023-05-16T10:57:14.334Z"
      },
      {
        "duration": 0,
        "start_time": "2023-05-16T10:57:14.336Z"
      },
      {
        "duration": 0,
        "start_time": "2023-05-16T10:57:14.337Z"
      },
      {
        "duration": 0,
        "start_time": "2023-05-16T10:57:14.338Z"
      },
      {
        "duration": 15,
        "start_time": "2023-05-16T10:58:47.213Z"
      },
      {
        "duration": 1641,
        "start_time": "2023-05-16T11:00:27.514Z"
      },
      {
        "duration": 879,
        "start_time": "2023-05-16T11:00:29.157Z"
      },
      {
        "duration": 448,
        "start_time": "2023-05-16T11:00:30.038Z"
      },
      {
        "duration": 20,
        "start_time": "2023-05-16T11:00:30.488Z"
      },
      {
        "duration": 36,
        "start_time": "2023-05-16T11:00:30.511Z"
      },
      {
        "duration": 62,
        "start_time": "2023-05-16T11:00:30.549Z"
      },
      {
        "duration": 59,
        "start_time": "2023-05-16T11:00:30.612Z"
      },
      {
        "duration": 51,
        "start_time": "2023-05-16T11:00:30.673Z"
      },
      {
        "duration": 50,
        "start_time": "2023-05-16T11:00:30.726Z"
      },
      {
        "duration": 93,
        "start_time": "2023-05-16T11:00:30.778Z"
      },
      {
        "duration": 51,
        "start_time": "2023-05-16T11:00:30.874Z"
      },
      {
        "duration": 43,
        "start_time": "2023-05-16T11:00:30.927Z"
      },
      {
        "duration": 86,
        "start_time": "2023-05-16T11:00:30.972Z"
      },
      {
        "duration": 124,
        "start_time": "2023-05-16T11:00:31.061Z"
      },
      {
        "duration": 37,
        "start_time": "2023-05-16T11:00:31.187Z"
      },
      {
        "duration": 60,
        "start_time": "2023-05-16T11:00:31.226Z"
      },
      {
        "duration": 50,
        "start_time": "2023-05-16T11:00:31.288Z"
      },
      {
        "duration": 79,
        "start_time": "2023-05-16T11:00:31.342Z"
      },
      {
        "duration": 59,
        "start_time": "2023-05-16T11:00:31.424Z"
      },
      {
        "duration": 70,
        "start_time": "2023-05-16T11:00:31.486Z"
      },
      {
        "duration": 390,
        "start_time": "2023-05-16T11:00:31.558Z"
      },
      {
        "duration": 319,
        "start_time": "2023-05-16T11:00:31.950Z"
      },
      {
        "duration": 419,
        "start_time": "2023-05-16T11:00:32.271Z"
      },
      {
        "duration": 224,
        "start_time": "2023-05-16T11:00:32.698Z"
      },
      {
        "duration": 235,
        "start_time": "2023-05-16T11:00:32.925Z"
      },
      {
        "duration": 3,
        "start_time": "2023-05-16T11:00:33.161Z"
      },
      {
        "duration": 15,
        "start_time": "2023-05-16T11:00:33.166Z"
      },
      {
        "duration": 509,
        "start_time": "2023-05-16T11:00:33.183Z"
      },
      {
        "duration": 26,
        "start_time": "2023-05-16T11:00:33.694Z"
      },
      {
        "duration": 331,
        "start_time": "2023-05-16T11:00:33.722Z"
      },
      {
        "duration": 16,
        "start_time": "2023-05-16T11:00:34.055Z"
      },
      {
        "duration": 19,
        "start_time": "2023-05-16T11:00:34.073Z"
      },
      {
        "duration": 37,
        "start_time": "2023-05-16T11:00:34.094Z"
      },
      {
        "duration": 25,
        "start_time": "2023-05-16T11:00:34.133Z"
      },
      {
        "duration": 223,
        "start_time": "2023-05-16T11:00:34.160Z"
      },
      {
        "duration": 5,
        "start_time": "2023-05-16T11:00:34.385Z"
      },
      {
        "duration": 25,
        "start_time": "2023-05-16T11:00:34.392Z"
      },
      {
        "duration": 16,
        "start_time": "2023-05-16T11:00:34.419Z"
      },
      {
        "duration": 31,
        "start_time": "2023-05-16T11:00:34.438Z"
      },
      {
        "duration": 2803,
        "start_time": "2023-05-16T11:00:34.471Z"
      },
      {
        "duration": 1023,
        "start_time": "2023-05-16T11:00:37.278Z"
      },
      {
        "duration": 16562,
        "start_time": "2023-05-16T11:00:38.308Z"
      },
      {
        "duration": 4150,
        "start_time": "2023-05-16T11:00:54.872Z"
      },
      {
        "duration": 5,
        "start_time": "2023-05-16T11:00:59.023Z"
      },
      {
        "duration": 18,
        "start_time": "2023-05-16T11:00:59.030Z"
      },
      {
        "duration": 2521,
        "start_time": "2023-05-16T11:00:59.050Z"
      },
      {
        "duration": 8,
        "start_time": "2023-05-16T11:01:01.573Z"
      },
      {
        "duration": 39,
        "start_time": "2023-05-16T11:01:01.583Z"
      },
      {
        "duration": 58,
        "start_time": "2023-05-16T11:01:01.624Z"
      },
      {
        "duration": 103,
        "start_time": "2023-05-16T11:01:01.684Z"
      },
      {
        "duration": 107,
        "start_time": "2023-05-16T11:01:01.789Z"
      },
      {
        "duration": 189,
        "start_time": "2023-05-16T11:02:45.394Z"
      },
      {
        "duration": 7,
        "start_time": "2023-05-16T11:02:51.811Z"
      },
      {
        "duration": 32,
        "start_time": "2023-05-16T11:02:52.894Z"
      },
      {
        "duration": 1805,
        "start_time": "2023-05-16T11:03:05.785Z"
      },
      {
        "duration": 925,
        "start_time": "2023-05-16T11:03:07.594Z"
      },
      {
        "duration": 451,
        "start_time": "2023-05-16T11:03:08.522Z"
      },
      {
        "duration": 4,
        "start_time": "2023-05-16T11:03:08.976Z"
      },
      {
        "duration": 7,
        "start_time": "2023-05-16T11:03:09.000Z"
      },
      {
        "duration": 12,
        "start_time": "2023-05-16T11:03:09.009Z"
      },
      {
        "duration": 8,
        "start_time": "2023-05-16T11:03:09.022Z"
      },
      {
        "duration": 14,
        "start_time": "2023-05-16T11:03:09.032Z"
      },
      {
        "duration": 32,
        "start_time": "2023-05-16T11:03:09.048Z"
      },
      {
        "duration": 38,
        "start_time": "2023-05-16T11:03:09.082Z"
      },
      {
        "duration": 13,
        "start_time": "2023-05-16T11:03:09.122Z"
      },
      {
        "duration": 25,
        "start_time": "2023-05-16T11:03:09.137Z"
      },
      {
        "duration": 21,
        "start_time": "2023-05-16T11:03:09.164Z"
      },
      {
        "duration": 4,
        "start_time": "2023-05-16T11:03:09.189Z"
      },
      {
        "duration": 33,
        "start_time": "2023-05-16T11:03:09.199Z"
      },
      {
        "duration": 5,
        "start_time": "2023-05-16T11:03:09.234Z"
      },
      {
        "duration": 16,
        "start_time": "2023-05-16T11:03:09.241Z"
      },
      {
        "duration": 14,
        "start_time": "2023-05-16T11:03:09.259Z"
      },
      {
        "duration": 19,
        "start_time": "2023-05-16T11:03:09.275Z"
      },
      {
        "duration": 391,
        "start_time": "2023-05-16T11:03:09.295Z"
      },
      {
        "duration": 326,
        "start_time": "2023-05-16T11:03:09.688Z"
      },
      {
        "duration": 432,
        "start_time": "2023-05-16T11:03:10.016Z"
      },
      {
        "duration": 252,
        "start_time": "2023-05-16T11:03:10.451Z"
      },
      {
        "duration": 229,
        "start_time": "2023-05-16T11:03:10.709Z"
      },
      {
        "duration": 3,
        "start_time": "2023-05-16T11:03:10.940Z"
      },
      {
        "duration": 21,
        "start_time": "2023-05-16T11:03:10.944Z"
      },
      {
        "duration": 526,
        "start_time": "2023-05-16T11:03:10.967Z"
      },
      {
        "duration": 20,
        "start_time": "2023-05-16T11:03:11.497Z"
      },
      {
        "duration": 255,
        "start_time": "2023-05-16T11:03:11.520Z"
      },
      {
        "duration": 32,
        "start_time": "2023-05-16T11:03:11.776Z"
      },
      {
        "duration": 12,
        "start_time": "2023-05-16T11:03:11.810Z"
      },
      {
        "duration": 11,
        "start_time": "2023-05-16T11:03:11.825Z"
      },
      {
        "duration": 15,
        "start_time": "2023-05-16T11:03:11.838Z"
      },
      {
        "duration": 228,
        "start_time": "2023-05-16T11:03:11.854Z"
      },
      {
        "duration": 4,
        "start_time": "2023-05-16T11:03:12.084Z"
      },
      {
        "duration": 15,
        "start_time": "2023-05-16T11:03:12.098Z"
      },
      {
        "duration": 12,
        "start_time": "2023-05-16T11:03:12.116Z"
      },
      {
        "duration": 37,
        "start_time": "2023-05-16T11:03:12.130Z"
      },
      {
        "duration": 2788,
        "start_time": "2023-05-16T11:03:12.169Z"
      },
      {
        "duration": 1642,
        "start_time": "2023-05-16T11:03:14.959Z"
      },
      {
        "duration": 16596,
        "start_time": "2023-05-16T11:03:16.606Z"
      },
      {
        "duration": 3044,
        "start_time": "2023-05-16T11:03:33.209Z"
      },
      {
        "duration": 6,
        "start_time": "2023-05-16T11:03:36.255Z"
      },
      {
        "duration": 29,
        "start_time": "2023-05-16T11:03:36.264Z"
      },
      {
        "duration": 1434,
        "start_time": "2023-05-16T11:03:36.295Z"
      },
      {
        "duration": 9,
        "start_time": "2023-05-16T11:03:37.731Z"
      },
      {
        "duration": 11,
        "start_time": "2023-05-16T11:03:37.742Z"
      },
      {
        "duration": 12,
        "start_time": "2023-05-16T11:03:37.755Z"
      },
      {
        "duration": 47,
        "start_time": "2023-05-16T11:03:37.769Z"
      },
      {
        "duration": 12,
        "start_time": "2023-05-16T11:03:37.818Z"
      },
      {
        "duration": 161,
        "start_time": "2023-05-16T11:29:44.126Z"
      },
      {
        "duration": 2431,
        "start_time": "2023-05-16T11:29:56.511Z"
      },
      {
        "duration": 992,
        "start_time": "2023-05-16T11:29:58.944Z"
      },
      {
        "duration": 438,
        "start_time": "2023-05-16T11:29:59.938Z"
      },
      {
        "duration": 3,
        "start_time": "2023-05-16T11:30:00.378Z"
      },
      {
        "duration": 36,
        "start_time": "2023-05-16T11:30:00.383Z"
      },
      {
        "duration": 15,
        "start_time": "2023-05-16T11:30:00.421Z"
      },
      {
        "duration": 50,
        "start_time": "2023-05-16T11:30:00.438Z"
      },
      {
        "duration": 40,
        "start_time": "2023-05-16T11:30:00.490Z"
      },
      {
        "duration": 56,
        "start_time": "2023-05-16T11:30:00.532Z"
      },
      {
        "duration": 31,
        "start_time": "2023-05-16T11:30:00.590Z"
      },
      {
        "duration": 23,
        "start_time": "2023-05-16T11:30:00.623Z"
      },
      {
        "duration": 40,
        "start_time": "2023-05-16T11:30:00.648Z"
      },
      {
        "duration": 26,
        "start_time": "2023-05-16T11:30:00.690Z"
      },
      {
        "duration": 7,
        "start_time": "2023-05-16T11:30:00.720Z"
      },
      {
        "duration": 30,
        "start_time": "2023-05-16T11:30:00.730Z"
      },
      {
        "duration": 23,
        "start_time": "2023-05-16T11:30:00.763Z"
      },
      {
        "duration": 30,
        "start_time": "2023-05-16T11:30:00.788Z"
      },
      {
        "duration": 25,
        "start_time": "2023-05-16T11:30:00.820Z"
      },
      {
        "duration": 42,
        "start_time": "2023-05-16T11:30:00.847Z"
      },
      {
        "duration": 373,
        "start_time": "2023-05-16T11:30:00.891Z"
      },
      {
        "duration": 316,
        "start_time": "2023-05-16T11:30:01.266Z"
      },
      {
        "duration": 417,
        "start_time": "2023-05-16T11:30:01.584Z"
      },
      {
        "duration": 226,
        "start_time": "2023-05-16T11:30:02.004Z"
      },
      {
        "duration": 236,
        "start_time": "2023-05-16T11:30:02.232Z"
      },
      {
        "duration": 3,
        "start_time": "2023-05-16T11:30:02.471Z"
      },
      {
        "duration": 30,
        "start_time": "2023-05-16T11:30:02.475Z"
      },
      {
        "duration": 468,
        "start_time": "2023-05-16T11:30:02.507Z"
      },
      {
        "duration": 28,
        "start_time": "2023-05-16T11:30:02.977Z"
      },
      {
        "duration": 248,
        "start_time": "2023-05-16T11:30:03.007Z"
      },
      {
        "duration": 16,
        "start_time": "2023-05-16T11:30:03.257Z"
      },
      {
        "duration": 38,
        "start_time": "2023-05-16T11:30:03.275Z"
      },
      {
        "duration": 24,
        "start_time": "2023-05-16T11:30:03.315Z"
      },
      {
        "duration": 47,
        "start_time": "2023-05-16T11:30:03.342Z"
      },
      {
        "duration": 226,
        "start_time": "2023-05-16T11:30:03.393Z"
      },
      {
        "duration": 3,
        "start_time": "2023-05-16T11:30:03.622Z"
      },
      {
        "duration": 34,
        "start_time": "2023-05-16T11:30:03.627Z"
      },
      {
        "duration": 28,
        "start_time": "2023-05-16T11:30:03.663Z"
      },
      {
        "duration": 51,
        "start_time": "2023-05-16T11:30:03.693Z"
      },
      {
        "duration": 2611,
        "start_time": "2023-05-16T11:30:03.746Z"
      },
      {
        "duration": 945,
        "start_time": "2023-05-16T11:30:06.359Z"
      },
      {
        "duration": 15732,
        "start_time": "2023-05-16T11:30:07.309Z"
      },
      {
        "duration": 6650,
        "start_time": "2023-05-16T11:30:23.044Z"
      },
      {
        "duration": 136,
        "start_time": "2023-05-16T11:30:29.696Z"
      },
      {
        "duration": 0,
        "start_time": "2023-05-16T11:30:29.834Z"
      },
      {
        "duration": 0,
        "start_time": "2023-05-16T11:30:29.835Z"
      },
      {
        "duration": 0,
        "start_time": "2023-05-16T11:30:29.836Z"
      },
      {
        "duration": 0,
        "start_time": "2023-05-16T11:30:29.837Z"
      },
      {
        "duration": 0,
        "start_time": "2023-05-16T11:30:29.838Z"
      },
      {
        "duration": 0,
        "start_time": "2023-05-16T11:30:29.840Z"
      },
      {
        "duration": 0,
        "start_time": "2023-05-16T11:30:29.842Z"
      },
      {
        "duration": 6,
        "start_time": "2023-05-16T11:36:31.211Z"
      },
      {
        "duration": 12,
        "start_time": "2023-05-16T11:36:38.862Z"
      },
      {
        "duration": 2753,
        "start_time": "2023-05-16T11:36:40.562Z"
      },
      {
        "duration": 10,
        "start_time": "2023-05-16T11:36:43.318Z"
      },
      {
        "duration": 5,
        "start_time": "2023-05-16T11:36:58.618Z"
      },
      {
        "duration": 5,
        "start_time": "2023-05-16T11:36:58.866Z"
      },
      {
        "duration": 5,
        "start_time": "2023-05-16T11:36:59.566Z"
      },
      {
        "duration": 9,
        "start_time": "2023-05-16T11:37:00.026Z"
      },
      {
        "duration": 12,
        "start_time": "2023-05-16T12:11:20.655Z"
      },
      {
        "duration": 2784,
        "start_time": "2023-05-16T12:11:35.973Z"
      },
      {
        "duration": 4,
        "start_time": "2023-05-16T13:04:58.648Z"
      },
      {
        "duration": 2786,
        "start_time": "2023-05-16T13:05:01.572Z"
      },
      {
        "duration": 1907,
        "start_time": "2023-05-16T13:06:17.524Z"
      },
      {
        "duration": 1148,
        "start_time": "2023-05-16T13:06:19.434Z"
      },
      {
        "duration": 478,
        "start_time": "2023-05-16T13:06:20.584Z"
      },
      {
        "duration": 3,
        "start_time": "2023-05-16T13:06:21.064Z"
      },
      {
        "duration": 22,
        "start_time": "2023-05-16T13:06:21.069Z"
      },
      {
        "duration": 36,
        "start_time": "2023-05-16T13:06:21.093Z"
      },
      {
        "duration": 22,
        "start_time": "2023-05-16T13:06:21.131Z"
      },
      {
        "duration": 17,
        "start_time": "2023-05-16T13:06:21.155Z"
      },
      {
        "duration": 53,
        "start_time": "2023-05-16T13:06:21.174Z"
      },
      {
        "duration": 15,
        "start_time": "2023-05-16T13:06:21.229Z"
      },
      {
        "duration": 32,
        "start_time": "2023-05-16T13:06:21.246Z"
      },
      {
        "duration": 41,
        "start_time": "2023-05-16T13:06:21.280Z"
      },
      {
        "duration": 23,
        "start_time": "2023-05-16T13:06:21.323Z"
      },
      {
        "duration": 4,
        "start_time": "2023-05-16T13:06:21.349Z"
      },
      {
        "duration": 19,
        "start_time": "2023-05-16T13:06:21.355Z"
      },
      {
        "duration": 8,
        "start_time": "2023-05-16T13:06:21.397Z"
      },
      {
        "duration": 35,
        "start_time": "2023-05-16T13:06:21.408Z"
      },
      {
        "duration": 18,
        "start_time": "2023-05-16T13:06:21.445Z"
      },
      {
        "duration": 15,
        "start_time": "2023-05-16T13:06:21.465Z"
      },
      {
        "duration": 371,
        "start_time": "2023-05-16T13:06:21.482Z"
      },
      {
        "duration": 342,
        "start_time": "2023-05-16T13:06:21.856Z"
      },
      {
        "duration": 455,
        "start_time": "2023-05-16T13:06:22.200Z"
      },
      {
        "duration": 236,
        "start_time": "2023-05-16T13:06:22.658Z"
      },
      {
        "duration": 252,
        "start_time": "2023-05-16T13:06:22.896Z"
      },
      {
        "duration": 3,
        "start_time": "2023-05-16T13:06:23.150Z"
      },
      {
        "duration": 20,
        "start_time": "2023-05-16T13:06:23.155Z"
      },
      {
        "duration": 418,
        "start_time": "2023-05-16T13:06:23.177Z"
      },
      {
        "duration": 23,
        "start_time": "2023-05-16T13:06:23.597Z"
      },
      {
        "duration": 253,
        "start_time": "2023-05-16T13:06:23.623Z"
      },
      {
        "duration": 32,
        "start_time": "2023-05-16T13:06:23.878Z"
      },
      {
        "duration": 16,
        "start_time": "2023-05-16T13:06:23.913Z"
      },
      {
        "duration": 14,
        "start_time": "2023-05-16T13:06:23.931Z"
      },
      {
        "duration": 14,
        "start_time": "2023-05-16T13:06:23.947Z"
      },
      {
        "duration": 253,
        "start_time": "2023-05-16T13:06:23.963Z"
      },
      {
        "duration": 6,
        "start_time": "2023-05-16T13:06:24.218Z"
      },
      {
        "duration": 7,
        "start_time": "2023-05-16T13:06:24.226Z"
      },
      {
        "duration": 15,
        "start_time": "2023-05-16T13:06:24.235Z"
      },
      {
        "duration": 38,
        "start_time": "2023-05-16T13:06:24.253Z"
      },
      {
        "duration": 10,
        "start_time": "2023-05-16T13:06:24.293Z"
      },
      {
        "duration": 0,
        "start_time": "2023-05-16T13:06:24.306Z"
      },
      {
        "duration": 0,
        "start_time": "2023-05-16T13:06:24.308Z"
      },
      {
        "duration": 1,
        "start_time": "2023-05-16T13:06:24.309Z"
      },
      {
        "duration": 0,
        "start_time": "2023-05-16T13:06:24.311Z"
      },
      {
        "duration": 0,
        "start_time": "2023-05-16T13:06:24.314Z"
      },
      {
        "duration": 0,
        "start_time": "2023-05-16T13:06:24.316Z"
      },
      {
        "duration": 0,
        "start_time": "2023-05-16T13:06:24.317Z"
      },
      {
        "duration": 0,
        "start_time": "2023-05-16T13:06:24.319Z"
      },
      {
        "duration": 0,
        "start_time": "2023-05-16T13:06:24.321Z"
      },
      {
        "duration": 0,
        "start_time": "2023-05-16T13:06:24.322Z"
      },
      {
        "duration": 0,
        "start_time": "2023-05-16T13:06:24.323Z"
      },
      {
        "duration": 0,
        "start_time": "2023-05-16T13:06:24.325Z"
      },
      {
        "duration": 2950,
        "start_time": "2023-05-16T13:06:42.097Z"
      },
      {
        "duration": 2957,
        "start_time": "2023-05-16T13:07:08.553Z"
      },
      {
        "duration": 1982,
        "start_time": "2023-05-16T13:07:40.995Z"
      },
      {
        "duration": 1070,
        "start_time": "2023-05-16T13:07:42.979Z"
      },
      {
        "duration": 581,
        "start_time": "2023-05-16T13:07:44.051Z"
      },
      {
        "duration": 3,
        "start_time": "2023-05-16T13:07:44.634Z"
      },
      {
        "duration": 10,
        "start_time": "2023-05-16T13:07:44.640Z"
      },
      {
        "duration": 4,
        "start_time": "2023-05-16T13:07:44.652Z"
      },
      {
        "duration": 14,
        "start_time": "2023-05-16T13:07:44.657Z"
      },
      {
        "duration": 27,
        "start_time": "2023-05-16T13:07:44.673Z"
      },
      {
        "duration": 47,
        "start_time": "2023-05-16T13:07:44.712Z"
      },
      {
        "duration": 14,
        "start_time": "2023-05-16T13:07:44.761Z"
      },
      {
        "duration": 8,
        "start_time": "2023-05-16T13:07:44.777Z"
      },
      {
        "duration": 22,
        "start_time": "2023-05-16T13:07:44.787Z"
      },
      {
        "duration": 22,
        "start_time": "2023-05-16T13:07:44.812Z"
      },
      {
        "duration": 4,
        "start_time": "2023-05-16T13:07:44.838Z"
      },
      {
        "duration": 21,
        "start_time": "2023-05-16T13:07:44.844Z"
      },
      {
        "duration": 41,
        "start_time": "2023-05-16T13:07:44.867Z"
      },
      {
        "duration": 21,
        "start_time": "2023-05-16T13:07:44.911Z"
      },
      {
        "duration": 8,
        "start_time": "2023-05-16T13:07:44.934Z"
      },
      {
        "duration": 23,
        "start_time": "2023-05-16T13:07:44.944Z"
      },
      {
        "duration": 360,
        "start_time": "2023-05-16T13:07:44.969Z"
      },
      {
        "duration": 354,
        "start_time": "2023-05-16T13:07:45.330Z"
      },
      {
        "duration": 457,
        "start_time": "2023-05-16T13:07:45.686Z"
      },
      {
        "duration": 250,
        "start_time": "2023-05-16T13:07:46.145Z"
      },
      {
        "duration": 262,
        "start_time": "2023-05-16T13:07:46.398Z"
      },
      {
        "duration": 3,
        "start_time": "2023-05-16T13:07:46.663Z"
      },
      {
        "duration": 11,
        "start_time": "2023-05-16T13:07:46.668Z"
      },
      {
        "duration": 508,
        "start_time": "2023-05-16T13:07:46.682Z"
      },
      {
        "duration": 25,
        "start_time": "2023-05-16T13:07:47.192Z"
      },
      {
        "duration": 253,
        "start_time": "2023-05-16T13:07:47.222Z"
      },
      {
        "duration": 21,
        "start_time": "2023-05-16T13:07:47.477Z"
      },
      {
        "duration": 30,
        "start_time": "2023-05-16T13:07:47.501Z"
      },
      {
        "duration": 9,
        "start_time": "2023-05-16T13:07:47.533Z"
      },
      {
        "duration": 15,
        "start_time": "2023-05-16T13:07:47.544Z"
      },
      {
        "duration": 243,
        "start_time": "2023-05-16T13:07:47.561Z"
      },
      {
        "duration": 4,
        "start_time": "2023-05-16T13:07:47.807Z"
      },
      {
        "duration": 28,
        "start_time": "2023-05-16T13:07:47.814Z"
      },
      {
        "duration": 14,
        "start_time": "2023-05-16T13:07:47.844Z"
      },
      {
        "duration": 31,
        "start_time": "2023-05-16T13:07:47.861Z"
      },
      {
        "duration": 2822,
        "start_time": "2023-05-16T13:07:47.894Z"
      },
      {
        "duration": 2493,
        "start_time": "2023-05-16T13:07:50.718Z"
      },
      {
        "duration": 16366,
        "start_time": "2023-05-16T13:07:53.299Z"
      },
      {
        "duration": 3083,
        "start_time": "2023-05-16T13:08:09.666Z"
      },
      {
        "duration": 6,
        "start_time": "2023-05-16T13:08:12.750Z"
      },
      {
        "duration": 50,
        "start_time": "2023-05-16T13:08:12.758Z"
      },
      {
        "duration": 1624,
        "start_time": "2023-05-16T13:08:12.811Z"
      },
      {
        "duration": 8,
        "start_time": "2023-05-16T13:08:14.437Z"
      },
      {
        "duration": 82,
        "start_time": "2023-05-16T13:08:14.447Z"
      },
      {
        "duration": 89,
        "start_time": "2023-05-16T13:08:14.531Z"
      },
      {
        "duration": 88,
        "start_time": "2023-05-16T13:08:14.621Z"
      },
      {
        "duration": 83,
        "start_time": "2023-05-16T13:08:14.711Z"
      },
      {
        "duration": 2903,
        "start_time": "2023-05-16T13:08:34.311Z"
      },
      {
        "duration": 2784,
        "start_time": "2023-05-16T13:09:09.550Z"
      },
      {
        "duration": 6025,
        "start_time": "2023-05-16T13:11:48.458Z"
      },
      {
        "duration": 5324,
        "start_time": "2023-05-16T13:12:38.771Z"
      },
      {
        "duration": 20201,
        "start_time": "2023-05-16T13:14:04.674Z"
      },
      {
        "duration": 6997,
        "start_time": "2023-05-16T13:14:29.389Z"
      },
      {
        "duration": 2143,
        "start_time": "2023-05-16T13:15:49.677Z"
      },
      {
        "duration": 4154,
        "start_time": "2023-05-16T13:16:00.671Z"
      },
      {
        "duration": 6249,
        "start_time": "2023-05-16T13:21:42.930Z"
      },
      {
        "duration": 3095,
        "start_time": "2023-05-16T13:22:16.059Z"
      },
      {
        "duration": 6604,
        "start_time": "2023-05-16T13:23:05.133Z"
      },
      {
        "duration": 1140,
        "start_time": "2023-05-16T13:23:32.726Z"
      },
      {
        "duration": 1142,
        "start_time": "2023-05-16T13:24:00.894Z"
      },
      {
        "duration": 5075,
        "start_time": "2023-05-16T13:41:56.256Z"
      },
      {
        "duration": 7082,
        "start_time": "2023-05-16T13:42:14.689Z"
      },
      {
        "duration": 9860,
        "start_time": "2023-05-16T13:42:27.490Z"
      },
      {
        "duration": 1921,
        "start_time": "2023-05-16T13:54:46.959Z"
      },
      {
        "duration": 9,
        "start_time": "2023-05-16T13:56:51.334Z"
      },
      {
        "duration": 698,
        "start_time": "2023-05-16T14:01:33.468Z"
      },
      {
        "duration": 1499,
        "start_time": "2023-05-16T14:02:23.010Z"
      },
      {
        "duration": 1446,
        "start_time": "2023-05-16T14:05:14.259Z"
      },
      {
        "duration": 9,
        "start_time": "2023-05-16T14:06:34.269Z"
      },
      {
        "duration": 95,
        "start_time": "2023-05-16T14:08:12.401Z"
      },
      {
        "duration": 8,
        "start_time": "2023-05-16T14:08:24.317Z"
      },
      {
        "duration": 7,
        "start_time": "2023-05-16T14:08:33.896Z"
      },
      {
        "duration": 8,
        "start_time": "2023-05-16T14:09:44.533Z"
      },
      {
        "duration": 2048,
        "start_time": "2023-05-16T14:12:04.853Z"
      },
      {
        "duration": 11,
        "start_time": "2023-05-16T14:12:06.904Z"
      },
      {
        "duration": 24,
        "start_time": "2023-05-16T14:34:05.823Z"
      },
      {
        "duration": 15,
        "start_time": "2023-05-16T14:34:22.275Z"
      },
      {
        "duration": 21,
        "start_time": "2023-05-16T14:34:25.031Z"
      },
      {
        "duration": 2446,
        "start_time": "2023-05-16T14:37:33.347Z"
      },
      {
        "duration": 1495,
        "start_time": "2023-05-16T14:37:36.951Z"
      },
      {
        "duration": 18,
        "start_time": "2023-05-16T17:34:29.698Z"
      },
      {
        "duration": 2326,
        "start_time": "2023-05-16T17:34:34.094Z"
      },
      {
        "duration": 738,
        "start_time": "2023-05-16T17:34:38.223Z"
      },
      {
        "duration": 1778,
        "start_time": "2023-05-16T17:34:51.214Z"
      },
      {
        "duration": 818,
        "start_time": "2023-05-16T17:34:52.994Z"
      },
      {
        "duration": 400,
        "start_time": "2023-05-16T17:34:53.818Z"
      },
      {
        "duration": 4,
        "start_time": "2023-05-16T17:34:54.220Z"
      },
      {
        "duration": 13,
        "start_time": "2023-05-16T17:34:54.226Z"
      },
      {
        "duration": 6,
        "start_time": "2023-05-16T17:34:54.241Z"
      },
      {
        "duration": 14,
        "start_time": "2023-05-16T17:34:54.248Z"
      },
      {
        "duration": 18,
        "start_time": "2023-05-16T17:34:54.263Z"
      },
      {
        "duration": 41,
        "start_time": "2023-05-16T17:34:54.283Z"
      },
      {
        "duration": 20,
        "start_time": "2023-05-16T17:34:54.328Z"
      },
      {
        "duration": 20,
        "start_time": "2023-05-16T17:34:54.350Z"
      },
      {
        "duration": 40,
        "start_time": "2023-05-16T17:34:54.372Z"
      },
      {
        "duration": 22,
        "start_time": "2023-05-16T17:34:54.413Z"
      },
      {
        "duration": 4,
        "start_time": "2023-05-16T17:34:54.436Z"
      },
      {
        "duration": 24,
        "start_time": "2023-05-16T17:34:54.442Z"
      },
      {
        "duration": 5,
        "start_time": "2023-05-16T17:34:54.468Z"
      },
      {
        "duration": 30,
        "start_time": "2023-05-16T17:34:54.497Z"
      },
      {
        "duration": 33,
        "start_time": "2023-05-16T17:34:54.529Z"
      },
      {
        "duration": 13,
        "start_time": "2023-05-16T17:34:54.565Z"
      },
      {
        "duration": 292,
        "start_time": "2023-05-16T17:34:54.579Z"
      },
      {
        "duration": 279,
        "start_time": "2023-05-16T17:34:54.873Z"
      },
      {
        "duration": 421,
        "start_time": "2023-05-16T17:34:55.154Z"
      },
      {
        "duration": 234,
        "start_time": "2023-05-16T17:34:55.577Z"
      },
      {
        "duration": 231,
        "start_time": "2023-05-16T17:34:55.817Z"
      },
      {
        "duration": 4,
        "start_time": "2023-05-16T17:34:56.051Z"
      },
      {
        "duration": 8,
        "start_time": "2023-05-16T17:34:56.057Z"
      },
      {
        "duration": 483,
        "start_time": "2023-05-16T17:34:56.067Z"
      },
      {
        "duration": 17,
        "start_time": "2023-05-16T17:34:56.558Z"
      },
      {
        "duration": 301,
        "start_time": "2023-05-16T17:34:56.578Z"
      },
      {
        "duration": 27,
        "start_time": "2023-05-16T17:34:56.881Z"
      },
      {
        "duration": 32,
        "start_time": "2023-05-16T17:34:56.910Z"
      },
      {
        "duration": 25,
        "start_time": "2023-05-16T17:34:56.944Z"
      },
      {
        "duration": 22,
        "start_time": "2023-05-16T17:34:56.970Z"
      },
      {
        "duration": 193,
        "start_time": "2023-05-16T17:34:56.994Z"
      },
      {
        "duration": 4,
        "start_time": "2023-05-16T17:34:57.188Z"
      },
      {
        "duration": 31,
        "start_time": "2023-05-16T17:34:57.196Z"
      },
      {
        "duration": 14,
        "start_time": "2023-05-16T17:34:57.229Z"
      },
      {
        "duration": 24,
        "start_time": "2023-05-16T17:34:57.245Z"
      },
      {
        "duration": 1492,
        "start_time": "2023-05-16T17:34:57.271Z"
      },
      {
        "duration": 10,
        "start_time": "2023-05-16T17:34:58.765Z"
      },
      {
        "duration": 3831,
        "start_time": "2023-05-16T17:34:58.777Z"
      },
      {
        "duration": 87,
        "start_time": "2023-05-16T17:35:02.617Z"
      },
      {
        "duration": 5561,
        "start_time": "2023-05-16T17:35:02.706Z"
      },
      {
        "duration": 6784,
        "start_time": "2023-05-16T17:35:08.269Z"
      },
      {
        "duration": 5,
        "start_time": "2023-05-16T17:35:15.054Z"
      },
      {
        "duration": 160,
        "start_time": "2023-05-16T17:35:15.060Z"
      },
      {
        "duration": 0,
        "start_time": "2023-05-16T17:35:15.222Z"
      },
      {
        "duration": 0,
        "start_time": "2023-05-16T17:35:15.223Z"
      },
      {
        "duration": 0,
        "start_time": "2023-05-16T17:35:15.224Z"
      },
      {
        "duration": 0,
        "start_time": "2023-05-16T17:35:15.225Z"
      },
      {
        "duration": 0,
        "start_time": "2023-05-16T17:35:15.227Z"
      },
      {
        "duration": 0,
        "start_time": "2023-05-16T17:35:15.229Z"
      },
      {
        "duration": 16,
        "start_time": "2023-05-16T17:35:36.505Z"
      },
      {
        "duration": 12,
        "start_time": "2023-05-16T17:35:40.660Z"
      },
      {
        "duration": 28,
        "start_time": "2023-05-16T17:36:17.599Z"
      },
      {
        "duration": 6,
        "start_time": "2023-05-16T17:37:30.037Z"
      },
      {
        "duration": 3,
        "start_time": "2023-05-16T17:37:30.759Z"
      },
      {
        "duration": 2975,
        "start_time": "2023-05-16T17:37:32.554Z"
      },
      {
        "duration": 9,
        "start_time": "2023-05-16T17:37:35.531Z"
      },
      {
        "duration": 3,
        "start_time": "2023-05-16T17:38:01.355Z"
      },
      {
        "duration": 1789,
        "start_time": "2023-05-16T17:38:26.095Z"
      },
      {
        "duration": 826,
        "start_time": "2023-05-16T17:38:27.886Z"
      },
      {
        "duration": 418,
        "start_time": "2023-05-16T17:38:28.716Z"
      },
      {
        "duration": 2,
        "start_time": "2023-05-16T17:38:29.136Z"
      },
      {
        "duration": 11,
        "start_time": "2023-05-16T17:38:29.140Z"
      },
      {
        "duration": 6,
        "start_time": "2023-05-16T17:38:29.153Z"
      },
      {
        "duration": 7,
        "start_time": "2023-05-16T17:38:29.160Z"
      },
      {
        "duration": 6,
        "start_time": "2023-05-16T17:38:29.169Z"
      },
      {
        "duration": 49,
        "start_time": "2023-05-16T17:38:29.199Z"
      },
      {
        "duration": 12,
        "start_time": "2023-05-16T17:38:29.250Z"
      },
      {
        "duration": 14,
        "start_time": "2023-05-16T17:38:29.264Z"
      },
      {
        "duration": 22,
        "start_time": "2023-05-16T17:38:29.280Z"
      },
      {
        "duration": 22,
        "start_time": "2023-05-16T17:38:29.304Z"
      },
      {
        "duration": 12,
        "start_time": "2023-05-16T17:38:29.330Z"
      },
      {
        "duration": 27,
        "start_time": "2023-05-16T17:38:29.343Z"
      },
      {
        "duration": 5,
        "start_time": "2023-05-16T17:38:29.374Z"
      },
      {
        "duration": 23,
        "start_time": "2023-05-16T17:38:29.381Z"
      },
      {
        "duration": 29,
        "start_time": "2023-05-16T17:38:29.406Z"
      },
      {
        "duration": 7,
        "start_time": "2023-05-16T17:38:29.437Z"
      },
      {
        "duration": 293,
        "start_time": "2023-05-16T17:38:29.446Z"
      },
      {
        "duration": 308,
        "start_time": "2023-05-16T17:38:29.741Z"
      },
      {
        "duration": 389,
        "start_time": "2023-05-16T17:38:30.051Z"
      },
      {
        "duration": 238,
        "start_time": "2023-05-16T17:38:30.444Z"
      },
      {
        "duration": 232,
        "start_time": "2023-05-16T17:38:30.684Z"
      },
      {
        "duration": 3,
        "start_time": "2023-05-16T17:38:30.918Z"
      },
      {
        "duration": 41,
        "start_time": "2023-05-16T17:38:30.924Z"
      },
      {
        "duration": 383,
        "start_time": "2023-05-16T17:38:30.967Z"
      },
      {
        "duration": 16,
        "start_time": "2023-05-16T17:38:31.352Z"
      },
      {
        "duration": 258,
        "start_time": "2023-05-16T17:38:31.370Z"
      },
      {
        "duration": 14,
        "start_time": "2023-05-16T17:38:31.630Z"
      },
      {
        "duration": 31,
        "start_time": "2023-05-16T17:38:31.647Z"
      },
      {
        "duration": 35,
        "start_time": "2023-05-16T17:38:31.680Z"
      },
      {
        "duration": 38,
        "start_time": "2023-05-16T17:38:31.716Z"
      },
      {
        "duration": 200,
        "start_time": "2023-05-16T17:38:31.756Z"
      },
      {
        "duration": 5,
        "start_time": "2023-05-16T17:38:31.957Z"
      },
      {
        "duration": 18,
        "start_time": "2023-05-16T17:38:31.963Z"
      },
      {
        "duration": 16,
        "start_time": "2023-05-16T17:38:31.983Z"
      },
      {
        "duration": 49,
        "start_time": "2023-05-16T17:38:32.000Z"
      },
      {
        "duration": 1365,
        "start_time": "2023-05-16T17:38:32.051Z"
      },
      {
        "duration": 9,
        "start_time": "2023-05-16T17:38:33.420Z"
      },
      {
        "duration": 3690,
        "start_time": "2023-05-16T17:38:33.434Z"
      },
      {
        "duration": 12,
        "start_time": "2023-05-16T17:38:37.207Z"
      },
      {
        "duration": 5427,
        "start_time": "2023-05-16T17:38:37.224Z"
      },
      {
        "duration": 6508,
        "start_time": "2023-05-16T17:38:42.653Z"
      },
      {
        "duration": 4,
        "start_time": "2023-05-16T17:38:49.163Z"
      },
      {
        "duration": 7,
        "start_time": "2023-05-16T17:38:49.169Z"
      },
      {
        "duration": 1841,
        "start_time": "2023-05-16T17:38:49.178Z"
      },
      {
        "duration": 8,
        "start_time": "2023-05-16T17:38:51.020Z"
      },
      {
        "duration": 8,
        "start_time": "2023-05-16T17:38:51.029Z"
      },
      {
        "duration": 13,
        "start_time": "2023-05-16T17:38:51.038Z"
      },
      {
        "duration": 6,
        "start_time": "2023-05-16T17:38:51.053Z"
      },
      {
        "duration": 7,
        "start_time": "2023-05-16T17:38:51.060Z"
      },
      {
        "duration": 9369,
        "start_time": "2023-05-16T17:43:16.109Z"
      },
      {
        "duration": 10,
        "start_time": "2023-05-16T17:43:51.048Z"
      },
      {
        "duration": 9095,
        "start_time": "2023-05-16T17:45:19.058Z"
      },
      {
        "duration": 10,
        "start_time": "2023-05-16T17:46:01.792Z"
      },
      {
        "duration": 2243,
        "start_time": "2023-05-16T17:48:06.772Z"
      },
      {
        "duration": 827,
        "start_time": "2023-05-16T17:48:09.022Z"
      },
      {
        "duration": 395,
        "start_time": "2023-05-16T17:48:09.851Z"
      },
      {
        "duration": 3,
        "start_time": "2023-05-16T17:48:10.247Z"
      },
      {
        "duration": 10,
        "start_time": "2023-05-16T17:48:10.252Z"
      },
      {
        "duration": 4,
        "start_time": "2023-05-16T17:48:10.264Z"
      },
      {
        "duration": 52,
        "start_time": "2023-05-16T17:48:10.269Z"
      },
      {
        "duration": 13,
        "start_time": "2023-05-16T17:48:10.323Z"
      },
      {
        "duration": 37,
        "start_time": "2023-05-16T17:48:10.338Z"
      },
      {
        "duration": 14,
        "start_time": "2023-05-16T17:48:10.377Z"
      },
      {
        "duration": 11,
        "start_time": "2023-05-16T17:48:10.394Z"
      },
      {
        "duration": 32,
        "start_time": "2023-05-16T17:48:10.413Z"
      },
      {
        "duration": 30,
        "start_time": "2023-05-16T17:48:10.447Z"
      },
      {
        "duration": 18,
        "start_time": "2023-05-16T17:48:10.482Z"
      },
      {
        "duration": 51,
        "start_time": "2023-05-16T17:48:10.502Z"
      },
      {
        "duration": 4,
        "start_time": "2023-05-16T17:48:10.555Z"
      },
      {
        "duration": 15,
        "start_time": "2023-05-16T17:48:10.561Z"
      },
      {
        "duration": 7,
        "start_time": "2023-05-16T17:48:10.577Z"
      },
      {
        "duration": 35,
        "start_time": "2023-05-16T17:48:10.585Z"
      },
      {
        "duration": 290,
        "start_time": "2023-05-16T17:48:10.622Z"
      },
      {
        "duration": 304,
        "start_time": "2023-05-16T17:48:10.920Z"
      },
      {
        "duration": 391,
        "start_time": "2023-05-16T17:48:11.226Z"
      },
      {
        "duration": 197,
        "start_time": "2023-05-16T17:48:11.619Z"
      },
      {
        "duration": 217,
        "start_time": "2023-05-16T17:48:11.817Z"
      },
      {
        "duration": 2,
        "start_time": "2023-05-16T17:48:12.036Z"
      },
      {
        "duration": 5,
        "start_time": "2023-05-16T17:48:12.040Z"
      },
      {
        "duration": 531,
        "start_time": "2023-05-16T17:48:12.047Z"
      },
      {
        "duration": 26,
        "start_time": "2023-05-16T17:48:12.580Z"
      },
      {
        "duration": 235,
        "start_time": "2023-05-16T17:48:12.616Z"
      },
      {
        "duration": 16,
        "start_time": "2023-05-16T17:48:12.853Z"
      },
      {
        "duration": 17,
        "start_time": "2023-05-16T17:48:12.871Z"
      },
      {
        "duration": 37,
        "start_time": "2023-05-16T17:48:12.899Z"
      },
      {
        "duration": 28,
        "start_time": "2023-05-16T17:48:12.938Z"
      },
      {
        "duration": 190,
        "start_time": "2023-05-16T17:48:12.968Z"
      },
      {
        "duration": 3,
        "start_time": "2023-05-16T17:48:13.160Z"
      },
      {
        "duration": 26,
        "start_time": "2023-05-16T17:48:13.165Z"
      },
      {
        "duration": 47,
        "start_time": "2023-05-16T17:48:13.193Z"
      },
      {
        "duration": 60,
        "start_time": "2023-05-16T17:48:13.242Z"
      },
      {
        "duration": 1629,
        "start_time": "2023-05-16T17:48:13.305Z"
      },
      {
        "duration": 8,
        "start_time": "2023-05-16T17:48:14.935Z"
      },
      {
        "duration": 3477,
        "start_time": "2023-05-16T17:48:14.948Z"
      },
      {
        "duration": 92,
        "start_time": "2023-05-16T17:48:18.432Z"
      },
      {
        "duration": 8502,
        "start_time": "2023-05-16T17:48:18.528Z"
      },
      {
        "duration": 13,
        "start_time": "2023-05-16T17:48:27.033Z"
      },
      {
        "duration": 11725,
        "start_time": "2023-05-16T17:48:27.048Z"
      },
      {
        "duration": 6,
        "start_time": "2023-05-16T17:48:38.775Z"
      },
      {
        "duration": 10,
        "start_time": "2023-05-16T17:48:38.783Z"
      },
      {
        "duration": 69,
        "start_time": "2023-05-16T17:48:38.794Z"
      },
      {
        "duration": 2268,
        "start_time": "2023-05-16T17:48:38.865Z"
      },
      {
        "duration": 8,
        "start_time": "2023-05-16T17:48:41.140Z"
      },
      {
        "duration": 8,
        "start_time": "2023-05-16T17:48:41.149Z"
      },
      {
        "duration": 7,
        "start_time": "2023-05-16T17:48:41.158Z"
      },
      {
        "duration": 6,
        "start_time": "2023-05-16T17:48:41.167Z"
      },
      {
        "duration": 15,
        "start_time": "2023-05-16T17:48:41.174Z"
      },
      {
        "duration": 3,
        "start_time": "2023-05-16T17:52:35.245Z"
      },
      {
        "duration": 140,
        "start_time": "2023-05-16T17:53:04.020Z"
      },
      {
        "duration": 6,
        "start_time": "2023-05-16T17:53:33.297Z"
      },
      {
        "duration": 4,
        "start_time": "2023-05-16T17:57:16.430Z"
      },
      {
        "duration": 4,
        "start_time": "2023-05-16T17:57:36.783Z"
      },
      {
        "duration": 4,
        "start_time": "2023-05-16T17:57:58.223Z"
      },
      {
        "duration": 4,
        "start_time": "2023-05-16T17:58:26.415Z"
      },
      {
        "duration": 2692,
        "start_time": "2023-05-16T18:00:03.214Z"
      },
      {
        "duration": 2720,
        "start_time": "2023-05-16T18:00:33.284Z"
      },
      {
        "duration": 3,
        "start_time": "2023-05-16T18:12:27.286Z"
      },
      {
        "duration": 359,
        "start_time": "2023-05-16T18:14:31.704Z"
      },
      {
        "duration": 415,
        "start_time": "2023-05-16T18:15:12.518Z"
      },
      {
        "duration": 387,
        "start_time": "2023-05-16T18:25:31.904Z"
      },
      {
        "duration": 102,
        "start_time": "2023-05-16T18:26:09.146Z"
      },
      {
        "duration": 121,
        "start_time": "2023-05-16T18:26:29.299Z"
      },
      {
        "duration": 2835,
        "start_time": "2023-05-16T18:28:16.967Z"
      },
      {
        "duration": 90,
        "start_time": "2023-05-16T18:28:19.815Z"
      },
      {
        "duration": 251,
        "start_time": "2023-05-16T18:29:23.218Z"
      },
      {
        "duration": 3,
        "start_time": "2023-05-16T18:29:43.984Z"
      },
      {
        "duration": 7,
        "start_time": "2023-05-16T18:29:44.405Z"
      },
      {
        "duration": 4,
        "start_time": "2023-05-16T18:29:44.817Z"
      },
      {
        "duration": 6,
        "start_time": "2023-05-16T18:29:46.947Z"
      },
      {
        "duration": 18,
        "start_time": "2023-05-16T18:29:47.519Z"
      },
      {
        "duration": 103,
        "start_time": "2023-05-16T18:29:51.115Z"
      },
      {
        "duration": 335,
        "start_time": "2023-05-16T18:30:01.352Z"
      },
      {
        "duration": 1725,
        "start_time": "2023-05-16T18:30:24.491Z"
      },
      {
        "duration": 1026,
        "start_time": "2023-05-16T18:30:26.218Z"
      },
      {
        "duration": 458,
        "start_time": "2023-05-16T18:30:27.246Z"
      },
      {
        "duration": 5,
        "start_time": "2023-05-16T18:30:27.706Z"
      },
      {
        "duration": 12,
        "start_time": "2023-05-16T18:30:27.714Z"
      },
      {
        "duration": 9,
        "start_time": "2023-05-16T18:30:27.728Z"
      },
      {
        "duration": 7,
        "start_time": "2023-05-16T18:30:27.739Z"
      },
      {
        "duration": 17,
        "start_time": "2023-05-16T18:30:27.748Z"
      },
      {
        "duration": 41,
        "start_time": "2023-05-16T18:30:27.768Z"
      },
      {
        "duration": 31,
        "start_time": "2023-05-16T18:30:27.810Z"
      },
      {
        "duration": 15,
        "start_time": "2023-05-16T18:30:27.842Z"
      },
      {
        "duration": 34,
        "start_time": "2023-05-16T18:30:27.859Z"
      },
      {
        "duration": 24,
        "start_time": "2023-05-16T18:30:27.895Z"
      },
      {
        "duration": 5,
        "start_time": "2023-05-16T18:30:27.922Z"
      },
      {
        "duration": 15,
        "start_time": "2023-05-16T18:30:27.929Z"
      },
      {
        "duration": 14,
        "start_time": "2023-05-16T18:30:27.945Z"
      },
      {
        "duration": 9,
        "start_time": "2023-05-16T18:30:27.961Z"
      },
      {
        "duration": 8,
        "start_time": "2023-05-16T18:30:27.971Z"
      },
      {
        "duration": 6,
        "start_time": "2023-05-16T18:30:27.980Z"
      },
      {
        "duration": 269,
        "start_time": "2023-05-16T18:30:27.987Z"
      },
      {
        "duration": 268,
        "start_time": "2023-05-16T18:30:28.257Z"
      },
      {
        "duration": 332,
        "start_time": "2023-05-16T18:30:28.527Z"
      },
      {
        "duration": 193,
        "start_time": "2023-05-16T18:30:28.861Z"
      },
      {
        "duration": 198,
        "start_time": "2023-05-16T18:30:29.056Z"
      },
      {
        "duration": 2,
        "start_time": "2023-05-16T18:30:29.256Z"
      },
      {
        "duration": 14,
        "start_time": "2023-05-16T18:30:29.260Z"
      },
      {
        "duration": 372,
        "start_time": "2023-05-16T18:30:29.276Z"
      },
      {
        "duration": 14,
        "start_time": "2023-05-16T18:30:29.650Z"
      },
      {
        "duration": 203,
        "start_time": "2023-05-16T18:30:29.666Z"
      },
      {
        "duration": 13,
        "start_time": "2023-05-16T18:30:29.870Z"
      },
      {
        "duration": 26,
        "start_time": "2023-05-16T18:30:29.885Z"
      },
      {
        "duration": 17,
        "start_time": "2023-05-16T18:30:29.913Z"
      },
      {
        "duration": 14,
        "start_time": "2023-05-16T18:30:29.931Z"
      },
      {
        "duration": 182,
        "start_time": "2023-05-16T18:30:29.947Z"
      },
      {
        "duration": 3,
        "start_time": "2023-05-16T18:30:30.131Z"
      },
      {
        "duration": 13,
        "start_time": "2023-05-16T18:30:30.136Z"
      },
      {
        "duration": 9,
        "start_time": "2023-05-16T18:30:30.151Z"
      },
      {
        "duration": 31,
        "start_time": "2023-05-16T18:30:30.162Z"
      },
      {
        "duration": 47,
        "start_time": "2023-05-16T18:30:30.194Z"
      },
      {
        "duration": 425,
        "start_time": "2023-05-16T18:30:30.243Z"
      },
      {
        "duration": 9,
        "start_time": "2023-05-16T18:30:30.674Z"
      },
      {
        "duration": 0,
        "start_time": "2023-05-16T18:30:30.684Z"
      },
      {
        "duration": 0,
        "start_time": "2023-05-16T18:30:30.685Z"
      },
      {
        "duration": 0,
        "start_time": "2023-05-16T18:30:30.686Z"
      },
      {
        "duration": 1,
        "start_time": "2023-05-16T18:30:30.687Z"
      },
      {
        "duration": 0,
        "start_time": "2023-05-16T18:30:30.688Z"
      },
      {
        "duration": 0,
        "start_time": "2023-05-16T18:30:30.689Z"
      },
      {
        "duration": 0,
        "start_time": "2023-05-16T18:30:30.690Z"
      },
      {
        "duration": 0,
        "start_time": "2023-05-16T18:30:30.691Z"
      },
      {
        "duration": 0,
        "start_time": "2023-05-16T18:30:30.692Z"
      },
      {
        "duration": 1,
        "start_time": "2023-05-16T18:30:30.692Z"
      },
      {
        "duration": 0,
        "start_time": "2023-05-16T18:30:30.693Z"
      },
      {
        "duration": 0,
        "start_time": "2023-05-16T18:30:30.694Z"
      },
      {
        "duration": 0,
        "start_time": "2023-05-16T18:30:30.696Z"
      },
      {
        "duration": 0,
        "start_time": "2023-05-16T18:30:30.696Z"
      },
      {
        "duration": 342,
        "start_time": "2023-05-16T18:31:46.333Z"
      },
      {
        "duration": 298,
        "start_time": "2023-05-16T18:32:21.896Z"
      },
      {
        "duration": 1522,
        "start_time": "2023-05-16T18:33:38.307Z"
      },
      {
        "duration": 7,
        "start_time": "2023-05-16T18:33:43.857Z"
      },
      {
        "duration": 3158,
        "start_time": "2023-05-16T18:36:17.045Z"
      },
      {
        "duration": 8519,
        "start_time": "2023-05-16T18:40:11.732Z"
      },
      {
        "duration": 9,
        "start_time": "2023-05-16T18:40:21.023Z"
      },
      {
        "duration": 7804,
        "start_time": "2023-05-16T18:42:25.914Z"
      },
      {
        "duration": 6,
        "start_time": "2023-05-16T18:42:37.121Z"
      },
      {
        "duration": 1554,
        "start_time": "2023-05-16T18:43:05.007Z"
      },
      {
        "duration": 826,
        "start_time": "2023-05-16T18:43:06.564Z"
      },
      {
        "duration": 390,
        "start_time": "2023-05-16T18:43:07.391Z"
      },
      {
        "duration": 3,
        "start_time": "2023-05-16T18:43:07.783Z"
      },
      {
        "duration": 18,
        "start_time": "2023-05-16T18:43:07.787Z"
      },
      {
        "duration": 27,
        "start_time": "2023-05-16T18:43:07.806Z"
      },
      {
        "duration": 16,
        "start_time": "2023-05-16T18:43:07.835Z"
      },
      {
        "duration": 27,
        "start_time": "2023-05-16T18:43:07.853Z"
      },
      {
        "duration": 35,
        "start_time": "2023-05-16T18:43:07.882Z"
      },
      {
        "duration": 24,
        "start_time": "2023-05-16T18:43:07.919Z"
      },
      {
        "duration": 9,
        "start_time": "2023-05-16T18:43:07.945Z"
      },
      {
        "duration": 14,
        "start_time": "2023-05-16T18:43:07.956Z"
      },
      {
        "duration": 18,
        "start_time": "2023-05-16T18:43:07.972Z"
      },
      {
        "duration": 6,
        "start_time": "2023-05-16T18:43:07.999Z"
      },
      {
        "duration": 39,
        "start_time": "2023-05-16T18:43:08.006Z"
      },
      {
        "duration": 4,
        "start_time": "2023-05-16T18:43:08.046Z"
      },
      {
        "duration": 7,
        "start_time": "2023-05-16T18:43:08.052Z"
      },
      {
        "duration": 7,
        "start_time": "2023-05-16T18:43:08.060Z"
      },
      {
        "duration": 6,
        "start_time": "2023-05-16T18:43:08.068Z"
      },
      {
        "duration": 306,
        "start_time": "2023-05-16T18:43:08.076Z"
      },
      {
        "duration": 296,
        "start_time": "2023-05-16T18:43:08.383Z"
      },
      {
        "duration": 395,
        "start_time": "2023-05-16T18:43:08.681Z"
      },
      {
        "duration": 204,
        "start_time": "2023-05-16T18:43:09.077Z"
      },
      {
        "duration": 224,
        "start_time": "2023-05-16T18:43:09.282Z"
      },
      {
        "duration": 7,
        "start_time": "2023-05-16T18:43:09.509Z"
      },
      {
        "duration": 12,
        "start_time": "2023-05-16T18:43:09.522Z"
      },
      {
        "duration": 400,
        "start_time": "2023-05-16T18:43:09.536Z"
      },
      {
        "duration": 16,
        "start_time": "2023-05-16T18:43:09.938Z"
      },
      {
        "duration": 230,
        "start_time": "2023-05-16T18:43:09.956Z"
      },
      {
        "duration": 27,
        "start_time": "2023-05-16T18:43:10.187Z"
      },
      {
        "duration": 23,
        "start_time": "2023-05-16T18:43:10.216Z"
      },
      {
        "duration": 10,
        "start_time": "2023-05-16T18:43:10.240Z"
      },
      {
        "duration": 11,
        "start_time": "2023-05-16T18:43:10.252Z"
      },
      {
        "duration": 188,
        "start_time": "2023-05-16T18:43:10.264Z"
      },
      {
        "duration": 3,
        "start_time": "2023-05-16T18:43:10.455Z"
      },
      {
        "duration": 16,
        "start_time": "2023-05-16T18:43:10.459Z"
      },
      {
        "duration": 10,
        "start_time": "2023-05-16T18:43:10.477Z"
      },
      {
        "duration": 42,
        "start_time": "2023-05-16T18:43:10.488Z"
      },
      {
        "duration": 1501,
        "start_time": "2023-05-16T18:43:10.533Z"
      },
      {
        "duration": 7,
        "start_time": "2023-05-16T18:43:12.036Z"
      },
      {
        "duration": 3056,
        "start_time": "2023-05-16T18:43:12.046Z"
      },
      {
        "duration": 8,
        "start_time": "2023-05-16T18:43:15.108Z"
      },
      {
        "duration": 8229,
        "start_time": "2023-05-16T18:43:15.198Z"
      },
      {
        "duration": 8,
        "start_time": "2023-05-16T18:43:23.428Z"
      },
      {
        "duration": 7758,
        "start_time": "2023-05-16T18:43:23.438Z"
      },
      {
        "duration": 15,
        "start_time": "2023-05-16T18:43:31.198Z"
      },
      {
        "duration": 34,
        "start_time": "2023-05-16T18:43:31.221Z"
      },
      {
        "duration": 26,
        "start_time": "2023-05-16T18:43:31.257Z"
      },
      {
        "duration": 1662,
        "start_time": "2023-05-16T18:43:31.285Z"
      },
      {
        "duration": 7,
        "start_time": "2023-05-16T18:43:32.948Z"
      },
      {
        "duration": 8,
        "start_time": "2023-05-16T18:43:32.956Z"
      },
      {
        "duration": 5,
        "start_time": "2023-05-16T18:43:32.966Z"
      },
      {
        "duration": 7,
        "start_time": "2023-05-16T18:43:32.973Z"
      },
      {
        "duration": 23,
        "start_time": "2023-05-16T18:43:32.981Z"
      },
      {
        "duration": 2145,
        "start_time": "2023-05-18T01:40:08.021Z"
      },
      {
        "duration": 3540,
        "start_time": "2023-05-18T01:40:10.168Z"
      },
      {
        "duration": 313,
        "start_time": "2023-05-18T01:40:13.710Z"
      },
      {
        "duration": 3,
        "start_time": "2023-05-18T01:40:14.025Z"
      },
      {
        "duration": 8,
        "start_time": "2023-05-18T01:40:14.029Z"
      },
      {
        "duration": 6,
        "start_time": "2023-05-18T01:40:14.038Z"
      },
      {
        "duration": 13,
        "start_time": "2023-05-18T01:40:14.046Z"
      },
      {
        "duration": 5,
        "start_time": "2023-05-18T01:40:14.060Z"
      },
      {
        "duration": 19,
        "start_time": "2023-05-18T01:40:14.447Z"
      },
      {
        "duration": 8,
        "start_time": "2023-05-18T01:40:14.661Z"
      },
      {
        "duration": 6,
        "start_time": "2023-05-18T01:40:14.671Z"
      },
      {
        "duration": 13,
        "start_time": "2023-05-18T01:40:14.678Z"
      },
      {
        "duration": 13,
        "start_time": "2023-05-18T01:40:14.693Z"
      },
      {
        "duration": 3,
        "start_time": "2023-05-18T01:40:14.708Z"
      },
      {
        "duration": 14,
        "start_time": "2023-05-18T01:40:14.713Z"
      },
      {
        "duration": 3,
        "start_time": "2023-05-18T01:40:14.728Z"
      },
      {
        "duration": 8,
        "start_time": "2023-05-18T01:40:14.733Z"
      },
      {
        "duration": 5,
        "start_time": "2023-05-18T01:40:14.742Z"
      },
      {
        "duration": 7,
        "start_time": "2023-05-18T01:40:14.749Z"
      },
      {
        "duration": 250,
        "start_time": "2023-05-18T01:40:14.757Z"
      },
      {
        "duration": 238,
        "start_time": "2023-05-18T01:40:15.009Z"
      },
      {
        "duration": 323,
        "start_time": "2023-05-18T01:40:15.248Z"
      },
      {
        "duration": 172,
        "start_time": "2023-05-18T01:40:15.573Z"
      },
      {
        "duration": 204,
        "start_time": "2023-05-18T01:40:15.746Z"
      },
      {
        "duration": 3,
        "start_time": "2023-05-18T01:40:15.951Z"
      },
      {
        "duration": 12,
        "start_time": "2023-05-18T01:40:15.955Z"
      },
      {
        "duration": 431,
        "start_time": "2023-05-18T01:40:15.969Z"
      },
      {
        "duration": 12,
        "start_time": "2023-05-18T01:40:16.402Z"
      },
      {
        "duration": 295,
        "start_time": "2023-05-18T01:40:16.415Z"
      },
      {
        "duration": 15,
        "start_time": "2023-05-18T01:40:16.712Z"
      },
      {
        "duration": 9,
        "start_time": "2023-05-18T01:40:16.730Z"
      },
      {
        "duration": 39,
        "start_time": "2023-05-18T01:40:16.741Z"
      },
      {
        "duration": 16,
        "start_time": "2023-05-18T01:40:16.782Z"
      },
      {
        "duration": 7,
        "start_time": "2023-05-18T01:40:16.800Z"
      },
      {
        "duration": 6,
        "start_time": "2023-05-18T01:40:16.808Z"
      },
      {
        "duration": 7,
        "start_time": "2023-05-18T01:40:17.414Z"
      },
      {
        "duration": 21,
        "start_time": "2023-05-18T01:40:21.887Z"
      },
      {
        "duration": 6,
        "start_time": "2023-05-18T01:41:15.902Z"
      },
      {
        "duration": 117,
        "start_time": "2023-05-18T01:41:32.176Z"
      },
      {
        "duration": 4,
        "start_time": "2023-05-18T01:41:40.882Z"
      },
      {
        "duration": 4,
        "start_time": "2023-05-18T01:41:49.142Z"
      },
      {
        "duration": 26,
        "start_time": "2023-05-18T01:41:53.954Z"
      },
      {
        "duration": 1291,
        "start_time": "2023-05-18T01:42:28.391Z"
      },
      {
        "duration": 7,
        "start_time": "2023-05-18T01:42:37.863Z"
      },
      {
        "duration": 5,
        "start_time": "2023-05-18T01:43:16.802Z"
      },
      {
        "duration": 24,
        "start_time": "2023-05-18T01:43:29.438Z"
      },
      {
        "duration": 26,
        "start_time": "2023-05-18T01:43:39.513Z"
      },
      {
        "duration": 5,
        "start_time": "2023-05-18T01:43:44.220Z"
      },
      {
        "duration": 25,
        "start_time": "2023-05-18T01:43:46.982Z"
      },
      {
        "duration": 4,
        "start_time": "2023-05-18T01:44:24.092Z"
      },
      {
        "duration": 30,
        "start_time": "2023-05-18T01:44:37.812Z"
      },
      {
        "duration": 33,
        "start_time": "2023-05-18T01:44:45.386Z"
      },
      {
        "duration": 1397,
        "start_time": "2023-05-18T01:44:50.010Z"
      },
      {
        "duration": 27,
        "start_time": "2023-05-18T01:46:15.209Z"
      },
      {
        "duration": 93,
        "start_time": "2023-05-18T02:41:18.719Z"
      },
      {
        "duration": 67,
        "start_time": "2023-05-18T04:40:46.095Z"
      },
      {
        "duration": 1721,
        "start_time": "2023-05-18T07:33:10.411Z"
      },
      {
        "duration": 911,
        "start_time": "2023-05-18T07:33:12.134Z"
      },
      {
        "duration": 500,
        "start_time": "2023-05-18T07:33:13.047Z"
      },
      {
        "duration": 4,
        "start_time": "2023-05-18T07:33:13.549Z"
      },
      {
        "duration": 25,
        "start_time": "2023-05-18T07:33:13.555Z"
      },
      {
        "duration": 6,
        "start_time": "2023-05-18T07:33:13.581Z"
      },
      {
        "duration": 20,
        "start_time": "2023-05-18T07:33:13.589Z"
      },
      {
        "duration": 26,
        "start_time": "2023-05-18T07:33:13.611Z"
      },
      {
        "duration": 30,
        "start_time": "2023-05-18T07:33:13.639Z"
      },
      {
        "duration": 21,
        "start_time": "2023-05-18T07:33:13.674Z"
      },
      {
        "duration": 33,
        "start_time": "2023-05-18T07:33:13.697Z"
      },
      {
        "duration": 19,
        "start_time": "2023-05-18T07:33:13.732Z"
      },
      {
        "duration": 17,
        "start_time": "2023-05-18T07:33:13.753Z"
      },
      {
        "duration": 4,
        "start_time": "2023-05-18T07:33:13.772Z"
      },
      {
        "duration": 17,
        "start_time": "2023-05-18T07:33:13.777Z"
      },
      {
        "duration": 11,
        "start_time": "2023-05-18T07:33:13.798Z"
      },
      {
        "duration": 25,
        "start_time": "2023-05-18T07:33:13.811Z"
      },
      {
        "duration": 7,
        "start_time": "2023-05-18T07:33:13.837Z"
      },
      {
        "duration": 9,
        "start_time": "2023-05-18T07:33:13.846Z"
      },
      {
        "duration": 325,
        "start_time": "2023-05-18T07:33:13.857Z"
      },
      {
        "duration": 345,
        "start_time": "2023-05-18T07:33:14.184Z"
      },
      {
        "duration": 424,
        "start_time": "2023-05-18T07:33:14.532Z"
      },
      {
        "duration": 153,
        "start_time": "2023-05-18T07:33:14.958Z"
      },
      {
        "duration": 0,
        "start_time": "2023-05-18T07:33:15.121Z"
      },
      {
        "duration": 0,
        "start_time": "2023-05-18T07:33:15.122Z"
      },
      {
        "duration": 0,
        "start_time": "2023-05-18T07:33:15.123Z"
      },
      {
        "duration": 0,
        "start_time": "2023-05-18T07:33:15.124Z"
      },
      {
        "duration": 0,
        "start_time": "2023-05-18T07:33:15.125Z"
      },
      {
        "duration": 0,
        "start_time": "2023-05-18T07:33:15.126Z"
      },
      {
        "duration": 0,
        "start_time": "2023-05-18T07:33:15.128Z"
      },
      {
        "duration": 0,
        "start_time": "2023-05-18T07:33:15.129Z"
      },
      {
        "duration": 0,
        "start_time": "2023-05-18T07:33:15.132Z"
      },
      {
        "duration": 0,
        "start_time": "2023-05-18T07:33:15.133Z"
      },
      {
        "duration": 0,
        "start_time": "2023-05-18T07:33:15.135Z"
      },
      {
        "duration": 0,
        "start_time": "2023-05-18T07:33:15.137Z"
      },
      {
        "duration": 0,
        "start_time": "2023-05-18T07:33:15.138Z"
      },
      {
        "duration": 0,
        "start_time": "2023-05-18T07:33:15.140Z"
      },
      {
        "duration": 0,
        "start_time": "2023-05-18T07:33:15.141Z"
      },
      {
        "duration": 0,
        "start_time": "2023-05-18T07:33:15.143Z"
      },
      {
        "duration": 0,
        "start_time": "2023-05-18T07:33:15.144Z"
      },
      {
        "duration": 0,
        "start_time": "2023-05-18T07:33:15.146Z"
      },
      {
        "duration": 0,
        "start_time": "2023-05-18T07:33:15.147Z"
      },
      {
        "duration": 0,
        "start_time": "2023-05-18T07:33:15.149Z"
      },
      {
        "duration": 0,
        "start_time": "2023-05-18T07:33:15.150Z"
      },
      {
        "duration": 0,
        "start_time": "2023-05-18T07:33:15.152Z"
      },
      {
        "duration": 0,
        "start_time": "2023-05-18T07:33:15.153Z"
      },
      {
        "duration": 0,
        "start_time": "2023-05-18T07:33:15.155Z"
      },
      {
        "duration": 0,
        "start_time": "2023-05-18T07:33:15.156Z"
      },
      {
        "duration": 0,
        "start_time": "2023-05-18T07:33:15.160Z"
      },
      {
        "duration": 0,
        "start_time": "2023-05-18T07:33:15.199Z"
      },
      {
        "duration": 0,
        "start_time": "2023-05-18T07:33:15.200Z"
      },
      {
        "duration": 0,
        "start_time": "2023-05-18T07:33:15.201Z"
      },
      {
        "duration": 0,
        "start_time": "2023-05-18T07:33:15.202Z"
      },
      {
        "duration": 22,
        "start_time": "2023-05-18T07:36:52.019Z"
      },
      {
        "duration": 104,
        "start_time": "2023-05-18T07:38:09.625Z"
      },
      {
        "duration": 93,
        "start_time": "2023-05-18T07:39:01.923Z"
      },
      {
        "duration": 15,
        "start_time": "2023-05-18T07:41:53.926Z"
      },
      {
        "duration": 291,
        "start_time": "2023-05-18T07:41:55.328Z"
      },
      {
        "duration": 10,
        "start_time": "2023-05-18T07:55:29.014Z"
      },
      {
        "duration": 15,
        "start_time": "2023-05-18T07:56:20.421Z"
      },
      {
        "duration": 15,
        "start_time": "2023-05-18T07:56:23.094Z"
      },
      {
        "duration": 14,
        "start_time": "2023-05-18T07:56:40.361Z"
      },
      {
        "duration": 47,
        "start_time": "2023-05-18T07:56:49.557Z"
      },
      {
        "duration": 9,
        "start_time": "2023-05-18T07:57:45.873Z"
      },
      {
        "duration": 47,
        "start_time": "2023-05-18T07:57:48.969Z"
      },
      {
        "duration": 1714,
        "start_time": "2023-05-18T08:17:16.791Z"
      },
      {
        "duration": 871,
        "start_time": "2023-05-18T08:17:18.507Z"
      },
      {
        "duration": 460,
        "start_time": "2023-05-18T08:17:19.380Z"
      },
      {
        "duration": 3,
        "start_time": "2023-05-18T08:17:19.843Z"
      },
      {
        "duration": 20,
        "start_time": "2023-05-18T08:17:19.848Z"
      },
      {
        "duration": 11,
        "start_time": "2023-05-18T08:17:19.869Z"
      },
      {
        "duration": 22,
        "start_time": "2023-05-18T08:17:19.882Z"
      },
      {
        "duration": 16,
        "start_time": "2023-05-18T08:17:19.906Z"
      },
      {
        "duration": 49,
        "start_time": "2023-05-18T08:17:19.924Z"
      },
      {
        "duration": 19,
        "start_time": "2023-05-18T08:17:19.977Z"
      },
      {
        "duration": 29,
        "start_time": "2023-05-18T08:17:19.997Z"
      },
      {
        "duration": 28,
        "start_time": "2023-05-18T08:17:20.028Z"
      },
      {
        "duration": 14,
        "start_time": "2023-05-18T08:17:20.058Z"
      },
      {
        "duration": 3,
        "start_time": "2023-05-18T08:17:20.074Z"
      },
      {
        "duration": 41,
        "start_time": "2023-05-18T08:17:20.079Z"
      },
      {
        "duration": 18,
        "start_time": "2023-05-18T08:17:20.122Z"
      },
      {
        "duration": 17,
        "start_time": "2023-05-18T08:17:20.142Z"
      },
      {
        "duration": 20,
        "start_time": "2023-05-18T08:17:20.161Z"
      },
      {
        "duration": 39,
        "start_time": "2023-05-18T08:17:20.183Z"
      },
      {
        "duration": 397,
        "start_time": "2023-05-18T08:17:20.224Z"
      },
      {
        "duration": 295,
        "start_time": "2023-05-18T08:17:20.629Z"
      },
      {
        "duration": 394,
        "start_time": "2023-05-18T08:17:20.926Z"
      },
      {
        "duration": 158,
        "start_time": "2023-05-18T08:17:21.322Z"
      },
      {
        "duration": 0,
        "start_time": "2023-05-18T08:17:21.482Z"
      },
      {
        "duration": 0,
        "start_time": "2023-05-18T08:17:21.486Z"
      },
      {
        "duration": 0,
        "start_time": "2023-05-18T08:17:21.487Z"
      },
      {
        "duration": 0,
        "start_time": "2023-05-18T08:17:21.498Z"
      },
      {
        "duration": 0,
        "start_time": "2023-05-18T08:17:21.505Z"
      },
      {
        "duration": 0,
        "start_time": "2023-05-18T08:17:21.508Z"
      },
      {
        "duration": 0,
        "start_time": "2023-05-18T08:17:21.509Z"
      },
      {
        "duration": 0,
        "start_time": "2023-05-18T08:17:21.509Z"
      },
      {
        "duration": 0,
        "start_time": "2023-05-18T08:17:21.511Z"
      },
      {
        "duration": 0,
        "start_time": "2023-05-18T08:17:21.519Z"
      },
      {
        "duration": 0,
        "start_time": "2023-05-18T08:17:21.520Z"
      },
      {
        "duration": 0,
        "start_time": "2023-05-18T08:17:21.521Z"
      },
      {
        "duration": 0,
        "start_time": "2023-05-18T08:17:21.522Z"
      },
      {
        "duration": 0,
        "start_time": "2023-05-18T08:17:21.523Z"
      },
      {
        "duration": 0,
        "start_time": "2023-05-18T08:17:21.524Z"
      },
      {
        "duration": 0,
        "start_time": "2023-05-18T08:17:21.525Z"
      },
      {
        "duration": 0,
        "start_time": "2023-05-18T08:17:21.525Z"
      },
      {
        "duration": 0,
        "start_time": "2023-05-18T08:17:21.528Z"
      },
      {
        "duration": 0,
        "start_time": "2023-05-18T08:17:21.529Z"
      },
      {
        "duration": 0,
        "start_time": "2023-05-18T08:17:21.531Z"
      },
      {
        "duration": 0,
        "start_time": "2023-05-18T08:17:21.532Z"
      },
      {
        "duration": 0,
        "start_time": "2023-05-18T08:17:21.533Z"
      },
      {
        "duration": 0,
        "start_time": "2023-05-18T08:17:21.534Z"
      },
      {
        "duration": 0,
        "start_time": "2023-05-18T08:17:21.536Z"
      },
      {
        "duration": 0,
        "start_time": "2023-05-18T08:17:21.537Z"
      },
      {
        "duration": 0,
        "start_time": "2023-05-18T08:17:21.539Z"
      },
      {
        "duration": 0,
        "start_time": "2023-05-18T08:17:21.540Z"
      },
      {
        "duration": 0,
        "start_time": "2023-05-18T08:17:21.542Z"
      },
      {
        "duration": 0,
        "start_time": "2023-05-18T08:17:21.543Z"
      },
      {
        "duration": 0,
        "start_time": "2023-05-18T08:17:21.545Z"
      },
      {
        "duration": 13,
        "start_time": "2023-05-18T08:17:41.266Z"
      },
      {
        "duration": 9,
        "start_time": "2023-05-18T08:49:35.955Z"
      },
      {
        "duration": 9,
        "start_time": "2023-05-18T08:49:40.466Z"
      },
      {
        "duration": 19,
        "start_time": "2023-05-18T08:51:00.822Z"
      },
      {
        "duration": 15,
        "start_time": "2023-05-18T08:51:01.478Z"
      },
      {
        "duration": 6,
        "start_time": "2023-05-18T08:51:03.445Z"
      },
      {
        "duration": 7,
        "start_time": "2023-05-18T08:51:07.170Z"
      },
      {
        "duration": 51,
        "start_time": "2023-05-18T08:51:07.878Z"
      },
      {
        "duration": 1608,
        "start_time": "2023-05-18T08:51:41.797Z"
      },
      {
        "duration": 1043,
        "start_time": "2023-05-18T08:51:43.407Z"
      },
      {
        "duration": 426,
        "start_time": "2023-05-18T08:51:44.452Z"
      },
      {
        "duration": 2,
        "start_time": "2023-05-18T08:51:44.881Z"
      },
      {
        "duration": 52,
        "start_time": "2023-05-18T08:51:44.885Z"
      },
      {
        "duration": 9,
        "start_time": "2023-05-18T08:51:44.938Z"
      },
      {
        "duration": 14,
        "start_time": "2023-05-18T08:51:44.949Z"
      },
      {
        "duration": 8,
        "start_time": "2023-05-18T08:51:44.965Z"
      },
      {
        "duration": 44,
        "start_time": "2023-05-18T08:51:44.974Z"
      },
      {
        "duration": 61,
        "start_time": "2023-05-18T08:51:45.021Z"
      },
      {
        "duration": 9,
        "start_time": "2023-05-18T08:51:45.084Z"
      },
      {
        "duration": 45,
        "start_time": "2023-05-18T08:51:45.094Z"
      },
      {
        "duration": 32,
        "start_time": "2023-05-18T08:51:45.141Z"
      },
      {
        "duration": 3,
        "start_time": "2023-05-18T08:51:45.177Z"
      },
      {
        "duration": 28,
        "start_time": "2023-05-18T08:51:45.181Z"
      },
      {
        "duration": 22,
        "start_time": "2023-05-18T08:51:45.217Z"
      },
      {
        "duration": 7,
        "start_time": "2023-05-18T08:51:45.241Z"
      },
      {
        "duration": 12,
        "start_time": "2023-05-18T08:51:45.249Z"
      },
      {
        "duration": 14,
        "start_time": "2023-05-18T08:51:45.263Z"
      },
      {
        "duration": 306,
        "start_time": "2023-05-18T08:51:45.278Z"
      },
      {
        "duration": 290,
        "start_time": "2023-05-18T08:51:45.585Z"
      },
      {
        "duration": 404,
        "start_time": "2023-05-18T08:51:45.877Z"
      },
      {
        "duration": 22,
        "start_time": "2023-05-18T08:51:46.283Z"
      },
      {
        "duration": 61,
        "start_time": "2023-05-18T08:51:46.308Z"
      },
      {
        "duration": 78,
        "start_time": "2023-05-18T08:51:46.372Z"
      },
      {
        "duration": 15,
        "start_time": "2023-05-18T08:51:46.453Z"
      },
      {
        "duration": 190,
        "start_time": "2023-05-18T08:51:46.470Z"
      },
      {
        "duration": 0,
        "start_time": "2023-05-18T08:51:46.664Z"
      },
      {
        "duration": 0,
        "start_time": "2023-05-18T08:51:46.665Z"
      },
      {
        "duration": 0,
        "start_time": "2023-05-18T08:51:46.667Z"
      },
      {
        "duration": 0,
        "start_time": "2023-05-18T08:51:46.668Z"
      },
      {
        "duration": 0,
        "start_time": "2023-05-18T08:51:46.671Z"
      },
      {
        "duration": 0,
        "start_time": "2023-05-18T08:51:46.673Z"
      },
      {
        "duration": 0,
        "start_time": "2023-05-18T08:51:46.675Z"
      },
      {
        "duration": 1,
        "start_time": "2023-05-18T08:51:46.676Z"
      },
      {
        "duration": 0,
        "start_time": "2023-05-18T08:51:46.678Z"
      },
      {
        "duration": 0,
        "start_time": "2023-05-18T08:51:46.679Z"
      },
      {
        "duration": 0,
        "start_time": "2023-05-18T08:51:46.681Z"
      },
      {
        "duration": 0,
        "start_time": "2023-05-18T08:51:46.697Z"
      },
      {
        "duration": 0,
        "start_time": "2023-05-18T08:51:46.698Z"
      },
      {
        "duration": 0,
        "start_time": "2023-05-18T08:51:46.698Z"
      },
      {
        "duration": 0,
        "start_time": "2023-05-18T08:51:46.702Z"
      },
      {
        "duration": 0,
        "start_time": "2023-05-18T08:51:46.702Z"
      },
      {
        "duration": 0,
        "start_time": "2023-05-18T08:51:46.703Z"
      },
      {
        "duration": 0,
        "start_time": "2023-05-18T08:51:46.714Z"
      },
      {
        "duration": 0,
        "start_time": "2023-05-18T08:51:46.715Z"
      },
      {
        "duration": 0,
        "start_time": "2023-05-18T08:51:46.717Z"
      },
      {
        "duration": 1,
        "start_time": "2023-05-18T08:51:46.717Z"
      },
      {
        "duration": 0,
        "start_time": "2023-05-18T08:51:46.718Z"
      },
      {
        "duration": 0,
        "start_time": "2023-05-18T08:51:46.719Z"
      },
      {
        "duration": 0,
        "start_time": "2023-05-18T08:51:46.722Z"
      },
      {
        "duration": 0,
        "start_time": "2023-05-18T08:51:46.723Z"
      },
      {
        "duration": 0,
        "start_time": "2023-05-18T08:51:46.724Z"
      },
      {
        "duration": 0,
        "start_time": "2023-05-18T08:51:46.724Z"
      },
      {
        "duration": 133,
        "start_time": "2023-05-18T10:12:31.223Z"
      },
      {
        "duration": 2,
        "start_time": "2023-05-18T10:12:44.752Z"
      },
      {
        "duration": 43,
        "start_time": "2023-05-18T10:12:45.796Z"
      },
      {
        "duration": 4,
        "start_time": "2023-05-18T10:12:51.921Z"
      },
      {
        "duration": 6,
        "start_time": "2023-05-18T10:12:52.527Z"
      },
      {
        "duration": 41,
        "start_time": "2023-05-18T10:12:53.952Z"
      },
      {
        "duration": 302,
        "start_time": "2023-05-18T10:13:21.351Z"
      },
      {
        "duration": 44,
        "start_time": "2023-05-18T10:45:14.917Z"
      },
      {
        "duration": 5,
        "start_time": "2023-05-18T10:46:58.504Z"
      },
      {
        "duration": 123,
        "start_time": "2023-05-18T11:08:50.914Z"
      },
      {
        "duration": 114,
        "start_time": "2023-05-18T11:09:02.574Z"
      },
      {
        "duration": 78,
        "start_time": "2023-05-18T11:10:34.292Z"
      },
      {
        "duration": 1750,
        "start_time": "2023-05-18T11:10:47.475Z"
      },
      {
        "duration": 995,
        "start_time": "2023-05-18T11:10:49.228Z"
      },
      {
        "duration": 429,
        "start_time": "2023-05-18T11:10:50.225Z"
      },
      {
        "duration": 4,
        "start_time": "2023-05-18T11:10:50.657Z"
      },
      {
        "duration": 33,
        "start_time": "2023-05-18T11:10:50.664Z"
      },
      {
        "duration": 40,
        "start_time": "2023-05-18T11:10:50.699Z"
      },
      {
        "duration": 18,
        "start_time": "2023-05-18T11:10:50.741Z"
      },
      {
        "duration": 15,
        "start_time": "2023-05-18T11:10:50.762Z"
      },
      {
        "duration": 68,
        "start_time": "2023-05-18T11:10:50.779Z"
      },
      {
        "duration": 10,
        "start_time": "2023-05-18T11:10:50.849Z"
      },
      {
        "duration": 31,
        "start_time": "2023-05-18T11:10:50.861Z"
      },
      {
        "duration": 61,
        "start_time": "2023-05-18T11:10:50.893Z"
      },
      {
        "duration": 22,
        "start_time": "2023-05-18T11:10:50.956Z"
      },
      {
        "duration": 4,
        "start_time": "2023-05-18T11:10:50.982Z"
      },
      {
        "duration": 50,
        "start_time": "2023-05-18T11:10:50.988Z"
      },
      {
        "duration": 5,
        "start_time": "2023-05-18T11:10:51.040Z"
      },
      {
        "duration": 22,
        "start_time": "2023-05-18T11:10:51.047Z"
      },
      {
        "duration": 21,
        "start_time": "2023-05-18T11:10:51.071Z"
      },
      {
        "duration": 31,
        "start_time": "2023-05-18T11:10:51.094Z"
      },
      {
        "duration": 387,
        "start_time": "2023-05-18T11:10:51.127Z"
      },
      {
        "duration": 302,
        "start_time": "2023-05-18T11:10:51.516Z"
      },
      {
        "duration": 424,
        "start_time": "2023-05-18T11:10:51.820Z"
      },
      {
        "duration": 96,
        "start_time": "2023-05-18T11:10:52.246Z"
      },
      {
        "duration": 0,
        "start_time": "2023-05-18T11:10:52.346Z"
      },
      {
        "duration": 0,
        "start_time": "2023-05-18T11:10:52.346Z"
      },
      {
        "duration": 0,
        "start_time": "2023-05-18T11:10:52.348Z"
      },
      {
        "duration": 0,
        "start_time": "2023-05-18T11:10:52.349Z"
      },
      {
        "duration": 0,
        "start_time": "2023-05-18T11:10:52.350Z"
      },
      {
        "duration": 0,
        "start_time": "2023-05-18T11:10:52.352Z"
      },
      {
        "duration": 0,
        "start_time": "2023-05-18T11:10:52.355Z"
      },
      {
        "duration": 0,
        "start_time": "2023-05-18T11:10:52.356Z"
      },
      {
        "duration": 0,
        "start_time": "2023-05-18T11:10:52.357Z"
      },
      {
        "duration": 0,
        "start_time": "2023-05-18T11:10:52.358Z"
      },
      {
        "duration": 0,
        "start_time": "2023-05-18T11:10:52.359Z"
      },
      {
        "duration": 0,
        "start_time": "2023-05-18T11:10:52.360Z"
      },
      {
        "duration": 0,
        "start_time": "2023-05-18T11:10:52.362Z"
      },
      {
        "duration": 1,
        "start_time": "2023-05-18T11:10:52.363Z"
      },
      {
        "duration": 0,
        "start_time": "2023-05-18T11:10:52.365Z"
      },
      {
        "duration": 0,
        "start_time": "2023-05-18T11:10:52.366Z"
      },
      {
        "duration": 1,
        "start_time": "2023-05-18T11:10:52.368Z"
      },
      {
        "duration": 0,
        "start_time": "2023-05-18T11:10:52.370Z"
      },
      {
        "duration": 0,
        "start_time": "2023-05-18T11:10:52.371Z"
      },
      {
        "duration": 0,
        "start_time": "2023-05-18T11:10:52.373Z"
      },
      {
        "duration": 0,
        "start_time": "2023-05-18T11:10:52.374Z"
      },
      {
        "duration": 0,
        "start_time": "2023-05-18T11:10:52.376Z"
      },
      {
        "duration": 0,
        "start_time": "2023-05-18T11:10:52.378Z"
      },
      {
        "duration": 0,
        "start_time": "2023-05-18T11:10:52.380Z"
      },
      {
        "duration": 0,
        "start_time": "2023-05-18T11:10:52.381Z"
      },
      {
        "duration": 0,
        "start_time": "2023-05-18T11:10:52.382Z"
      },
      {
        "duration": 0,
        "start_time": "2023-05-18T11:10:52.404Z"
      },
      {
        "duration": 0,
        "start_time": "2023-05-18T11:10:52.405Z"
      },
      {
        "duration": 0,
        "start_time": "2023-05-18T11:10:52.405Z"
      },
      {
        "duration": 0,
        "start_time": "2023-05-18T11:10:52.406Z"
      },
      {
        "duration": 1,
        "start_time": "2023-05-18T11:10:52.411Z"
      },
      {
        "duration": 84,
        "start_time": "2023-05-18T11:11:09.475Z"
      },
      {
        "duration": 89,
        "start_time": "2023-05-18T11:12:09.989Z"
      },
      {
        "duration": 90,
        "start_time": "2023-05-18T11:12:58.903Z"
      },
      {
        "duration": 89,
        "start_time": "2023-05-18T11:13:16.389Z"
      },
      {
        "duration": 114,
        "start_time": "2023-05-18T11:13:30.024Z"
      },
      {
        "duration": 81,
        "start_time": "2023-05-18T11:14:50.108Z"
      },
      {
        "duration": 206,
        "start_time": "2023-05-18T11:16:09.213Z"
      },
      {
        "duration": 42,
        "start_time": "2023-05-18T11:16:44.577Z"
      },
      {
        "duration": 35,
        "start_time": "2023-05-18T11:17:05.911Z"
      },
      {
        "duration": 1543,
        "start_time": "2023-05-18T11:17:34.353Z"
      },
      {
        "duration": 802,
        "start_time": "2023-05-18T11:17:35.900Z"
      },
      {
        "duration": 434,
        "start_time": "2023-05-18T11:17:36.705Z"
      },
      {
        "duration": 3,
        "start_time": "2023-05-18T11:17:37.141Z"
      },
      {
        "duration": 15,
        "start_time": "2023-05-18T11:17:37.147Z"
      },
      {
        "duration": 5,
        "start_time": "2023-05-18T11:17:37.163Z"
      },
      {
        "duration": 8,
        "start_time": "2023-05-18T11:17:37.170Z"
      },
      {
        "duration": 20,
        "start_time": "2023-05-18T11:17:37.180Z"
      },
      {
        "duration": 36,
        "start_time": "2023-05-18T11:17:37.202Z"
      },
      {
        "duration": 13,
        "start_time": "2023-05-18T11:17:37.240Z"
      },
      {
        "duration": 6,
        "start_time": "2023-05-18T11:17:37.255Z"
      },
      {
        "duration": 19,
        "start_time": "2023-05-18T11:17:37.263Z"
      },
      {
        "duration": 29,
        "start_time": "2023-05-18T11:17:37.284Z"
      },
      {
        "duration": 3,
        "start_time": "2023-05-18T11:17:37.317Z"
      },
      {
        "duration": 21,
        "start_time": "2023-05-18T11:17:37.322Z"
      },
      {
        "duration": 4,
        "start_time": "2023-05-18T11:17:37.345Z"
      },
      {
        "duration": 15,
        "start_time": "2023-05-18T11:17:37.350Z"
      },
      {
        "duration": 9,
        "start_time": "2023-05-18T11:17:37.367Z"
      },
      {
        "duration": 5,
        "start_time": "2023-05-18T11:17:37.378Z"
      },
      {
        "duration": 333,
        "start_time": "2023-05-18T11:17:37.384Z"
      },
      {
        "duration": 273,
        "start_time": "2023-05-18T11:17:37.719Z"
      },
      {
        "duration": 371,
        "start_time": "2023-05-18T11:17:37.993Z"
      },
      {
        "duration": 158,
        "start_time": "2023-05-18T11:17:38.366Z"
      },
      {
        "duration": 0,
        "start_time": "2023-05-18T11:17:38.526Z"
      },
      {
        "duration": 0,
        "start_time": "2023-05-18T11:17:38.527Z"
      },
      {
        "duration": 0,
        "start_time": "2023-05-18T11:17:38.528Z"
      },
      {
        "duration": 0,
        "start_time": "2023-05-18T11:17:38.530Z"
      },
      {
        "duration": 0,
        "start_time": "2023-05-18T11:17:38.531Z"
      },
      {
        "duration": 0,
        "start_time": "2023-05-18T11:17:38.531Z"
      },
      {
        "duration": 0,
        "start_time": "2023-05-18T11:17:38.532Z"
      },
      {
        "duration": 0,
        "start_time": "2023-05-18T11:17:38.534Z"
      },
      {
        "duration": 0,
        "start_time": "2023-05-18T11:17:38.535Z"
      },
      {
        "duration": 0,
        "start_time": "2023-05-18T11:17:38.536Z"
      },
      {
        "duration": 0,
        "start_time": "2023-05-18T11:17:38.537Z"
      },
      {
        "duration": 0,
        "start_time": "2023-05-18T11:17:38.538Z"
      },
      {
        "duration": 0,
        "start_time": "2023-05-18T11:17:38.539Z"
      },
      {
        "duration": 0,
        "start_time": "2023-05-18T11:17:38.540Z"
      },
      {
        "duration": 0,
        "start_time": "2023-05-18T11:17:38.541Z"
      },
      {
        "duration": 0,
        "start_time": "2023-05-18T11:17:38.542Z"
      },
      {
        "duration": 0,
        "start_time": "2023-05-18T11:17:38.543Z"
      },
      {
        "duration": 0,
        "start_time": "2023-05-18T11:17:38.544Z"
      },
      {
        "duration": 0,
        "start_time": "2023-05-18T11:17:38.545Z"
      },
      {
        "duration": 0,
        "start_time": "2023-05-18T11:17:38.545Z"
      },
      {
        "duration": 0,
        "start_time": "2023-05-18T11:17:38.546Z"
      },
      {
        "duration": 0,
        "start_time": "2023-05-18T11:17:38.547Z"
      },
      {
        "duration": 0,
        "start_time": "2023-05-18T11:17:38.548Z"
      },
      {
        "duration": 0,
        "start_time": "2023-05-18T11:17:38.549Z"
      },
      {
        "duration": 0,
        "start_time": "2023-05-18T11:17:38.550Z"
      },
      {
        "duration": 0,
        "start_time": "2023-05-18T11:17:38.551Z"
      },
      {
        "duration": 0,
        "start_time": "2023-05-18T11:17:38.552Z"
      },
      {
        "duration": 0,
        "start_time": "2023-05-18T11:17:38.553Z"
      },
      {
        "duration": 0,
        "start_time": "2023-05-18T11:17:38.597Z"
      },
      {
        "duration": 0,
        "start_time": "2023-05-18T11:17:38.598Z"
      },
      {
        "duration": 0,
        "start_time": "2023-05-18T11:17:38.599Z"
      },
      {
        "duration": 35,
        "start_time": "2023-05-18T11:45:50.454Z"
      },
      {
        "duration": 101,
        "start_time": "2023-05-18T11:46:32.658Z"
      },
      {
        "duration": 90,
        "start_time": "2023-05-18T11:51:11.477Z"
      },
      {
        "duration": 105,
        "start_time": "2023-05-18T11:55:07.706Z"
      },
      {
        "duration": 82,
        "start_time": "2023-05-18T11:55:26.382Z"
      },
      {
        "duration": 259,
        "start_time": "2023-05-18T11:56:38.783Z"
      },
      {
        "duration": 416,
        "start_time": "2023-05-18T11:57:27.004Z"
      },
      {
        "duration": 18,
        "start_time": "2023-05-18T11:59:26.826Z"
      },
      {
        "duration": 3236,
        "start_time": "2023-05-18T12:01:31.078Z"
      },
      {
        "duration": 12,
        "start_time": "2023-05-18T12:02:02.174Z"
      },
      {
        "duration": 3,
        "start_time": "2023-05-18T12:02:31.982Z"
      },
      {
        "duration": 120,
        "start_time": "2023-05-18T12:06:44.109Z"
      },
      {
        "duration": 657,
        "start_time": "2023-05-18T12:07:18.184Z"
      },
      {
        "duration": 332,
        "start_time": "2023-05-18T12:07:34.344Z"
      },
      {
        "duration": 509,
        "start_time": "2023-05-18T12:08:50.704Z"
      },
      {
        "duration": 566,
        "start_time": "2023-05-18T12:10:21.217Z"
      },
      {
        "duration": 1580,
        "start_time": "2023-05-18T12:10:56.240Z"
      },
      {
        "duration": 808,
        "start_time": "2023-05-18T12:10:57.822Z"
      },
      {
        "duration": 386,
        "start_time": "2023-05-18T12:10:58.631Z"
      },
      {
        "duration": 3,
        "start_time": "2023-05-18T12:10:59.019Z"
      },
      {
        "duration": 10,
        "start_time": "2023-05-18T12:10:59.024Z"
      },
      {
        "duration": 4,
        "start_time": "2023-05-18T12:10:59.036Z"
      },
      {
        "duration": 7,
        "start_time": "2023-05-18T12:10:59.042Z"
      },
      {
        "duration": 8,
        "start_time": "2023-05-18T12:10:59.050Z"
      },
      {
        "duration": 42,
        "start_time": "2023-05-18T12:10:59.060Z"
      },
      {
        "duration": 15,
        "start_time": "2023-05-18T12:10:59.105Z"
      },
      {
        "duration": 11,
        "start_time": "2023-05-18T12:10:59.122Z"
      },
      {
        "duration": 18,
        "start_time": "2023-05-18T12:10:59.135Z"
      },
      {
        "duration": 17,
        "start_time": "2023-05-18T12:10:59.155Z"
      },
      {
        "duration": 4,
        "start_time": "2023-05-18T12:10:59.176Z"
      },
      {
        "duration": 34,
        "start_time": "2023-05-18T12:10:59.182Z"
      },
      {
        "duration": 4,
        "start_time": "2023-05-18T12:10:59.218Z"
      },
      {
        "duration": 8,
        "start_time": "2023-05-18T12:10:59.224Z"
      },
      {
        "duration": 19,
        "start_time": "2023-05-18T12:10:59.234Z"
      },
      {
        "duration": 12,
        "start_time": "2023-05-18T12:10:59.255Z"
      },
      {
        "duration": 359,
        "start_time": "2023-05-18T12:10:59.269Z"
      },
      {
        "duration": 296,
        "start_time": "2023-05-18T12:10:59.630Z"
      },
      {
        "duration": 401,
        "start_time": "2023-05-18T12:10:59.928Z"
      },
      {
        "duration": 4,
        "start_time": "2023-05-18T12:11:00.331Z"
      },
      {
        "duration": 789,
        "start_time": "2023-05-18T12:11:00.338Z"
      },
      {
        "duration": 0,
        "start_time": "2023-05-18T12:11:01.130Z"
      },
      {
        "duration": 0,
        "start_time": "2023-05-18T12:11:01.131Z"
      },
      {
        "duration": 0,
        "start_time": "2023-05-18T12:11:01.133Z"
      },
      {
        "duration": 0,
        "start_time": "2023-05-18T12:11:01.134Z"
      },
      {
        "duration": 0,
        "start_time": "2023-05-18T12:11:01.135Z"
      },
      {
        "duration": 0,
        "start_time": "2023-05-18T12:11:01.136Z"
      },
      {
        "duration": 0,
        "start_time": "2023-05-18T12:11:01.137Z"
      },
      {
        "duration": 0,
        "start_time": "2023-05-18T12:11:01.138Z"
      },
      {
        "duration": 0,
        "start_time": "2023-05-18T12:11:01.140Z"
      },
      {
        "duration": 0,
        "start_time": "2023-05-18T12:11:01.141Z"
      },
      {
        "duration": 0,
        "start_time": "2023-05-18T12:11:01.142Z"
      },
      {
        "duration": 0,
        "start_time": "2023-05-18T12:11:01.144Z"
      },
      {
        "duration": 0,
        "start_time": "2023-05-18T12:11:01.146Z"
      },
      {
        "duration": 0,
        "start_time": "2023-05-18T12:11:01.147Z"
      },
      {
        "duration": 0,
        "start_time": "2023-05-18T12:11:01.148Z"
      },
      {
        "duration": 0,
        "start_time": "2023-05-18T12:11:01.150Z"
      },
      {
        "duration": 0,
        "start_time": "2023-05-18T12:11:01.151Z"
      },
      {
        "duration": 0,
        "start_time": "2023-05-18T12:11:01.153Z"
      },
      {
        "duration": 0,
        "start_time": "2023-05-18T12:11:01.154Z"
      },
      {
        "duration": 0,
        "start_time": "2023-05-18T12:11:01.156Z"
      },
      {
        "duration": 0,
        "start_time": "2023-05-18T12:11:01.157Z"
      },
      {
        "duration": 0,
        "start_time": "2023-05-18T12:11:01.159Z"
      },
      {
        "duration": 0,
        "start_time": "2023-05-18T12:11:01.160Z"
      },
      {
        "duration": 0,
        "start_time": "2023-05-18T12:11:01.162Z"
      },
      {
        "duration": 0,
        "start_time": "2023-05-18T12:11:01.163Z"
      },
      {
        "duration": 0,
        "start_time": "2023-05-18T12:11:01.164Z"
      },
      {
        "duration": 0,
        "start_time": "2023-05-18T12:11:01.165Z"
      },
      {
        "duration": 0,
        "start_time": "2023-05-18T12:11:01.166Z"
      },
      {
        "duration": 0,
        "start_time": "2023-05-18T12:11:01.167Z"
      },
      {
        "duration": 0,
        "start_time": "2023-05-18T12:11:01.199Z"
      },
      {
        "duration": 677,
        "start_time": "2023-05-18T12:11:34.190Z"
      },
      {
        "duration": 671,
        "start_time": "2023-05-18T12:12:00.906Z"
      },
      {
        "duration": 513,
        "start_time": "2023-05-18T12:12:59.057Z"
      },
      {
        "duration": 687,
        "start_time": "2023-05-18T12:13:12.850Z"
      },
      {
        "duration": 679,
        "start_time": "2023-05-18T12:13:19.200Z"
      },
      {
        "duration": 35,
        "start_time": "2023-05-18T12:15:32.347Z"
      },
      {
        "duration": 30,
        "start_time": "2023-05-18T12:15:38.913Z"
      },
      {
        "duration": 32,
        "start_time": "2023-05-18T12:15:48.447Z"
      },
      {
        "duration": 705,
        "start_time": "2023-05-18T12:16:21.063Z"
      },
      {
        "duration": 653,
        "start_time": "2023-05-18T12:16:55.489Z"
      },
      {
        "duration": 534,
        "start_time": "2023-05-18T12:17:01.406Z"
      },
      {
        "duration": 23,
        "start_time": "2023-05-18T12:17:50.585Z"
      },
      {
        "duration": 1209,
        "start_time": "2023-05-18T12:18:15.563Z"
      },
      {
        "duration": 622,
        "start_time": "2023-05-18T12:18:40.408Z"
      },
      {
        "duration": 718,
        "start_time": "2023-05-18T12:19:36.559Z"
      },
      {
        "duration": 124,
        "start_time": "2023-05-18T12:21:18.988Z"
      },
      {
        "duration": 163,
        "start_time": "2023-05-18T12:21:36.472Z"
      },
      {
        "duration": 89,
        "start_time": "2023-05-18T12:25:45.661Z"
      },
      {
        "duration": 626,
        "start_time": "2023-05-18T12:25:53.020Z"
      },
      {
        "duration": 10,
        "start_time": "2023-05-18T12:26:31.565Z"
      },
      {
        "duration": 1165,
        "start_time": "2023-05-18T12:27:16.170Z"
      },
      {
        "duration": 13,
        "start_time": "2023-05-18T12:27:27.369Z"
      },
      {
        "duration": 452,
        "start_time": "2023-05-18T12:30:47.987Z"
      },
      {
        "duration": 1257,
        "start_time": "2023-05-18T12:35:51.866Z"
      },
      {
        "duration": 1103,
        "start_time": "2023-05-18T12:46:38.810Z"
      },
      {
        "duration": 631,
        "start_time": "2023-05-18T12:46:50.064Z"
      },
      {
        "duration": 3,
        "start_time": "2023-05-18T12:52:48.773Z"
      },
      {
        "duration": 13,
        "start_time": "2023-05-18T12:53:33.505Z"
      },
      {
        "duration": 7,
        "start_time": "2023-05-18T12:54:11.699Z"
      },
      {
        "duration": 1664,
        "start_time": "2023-05-18T12:54:26.193Z"
      },
      {
        "duration": 972,
        "start_time": "2023-05-18T12:54:27.859Z"
      },
      {
        "duration": 468,
        "start_time": "2023-05-18T12:54:28.832Z"
      },
      {
        "duration": 3,
        "start_time": "2023-05-18T12:54:29.301Z"
      },
      {
        "duration": 17,
        "start_time": "2023-05-18T12:54:29.306Z"
      },
      {
        "duration": 3,
        "start_time": "2023-05-18T12:54:29.325Z"
      },
      {
        "duration": 10,
        "start_time": "2023-05-18T12:54:29.330Z"
      },
      {
        "duration": 9,
        "start_time": "2023-05-18T12:54:29.342Z"
      },
      {
        "duration": 56,
        "start_time": "2023-05-18T12:54:29.353Z"
      },
      {
        "duration": 19,
        "start_time": "2023-05-18T12:54:29.410Z"
      },
      {
        "duration": 16,
        "start_time": "2023-05-18T12:54:29.431Z"
      },
      {
        "duration": 49,
        "start_time": "2023-05-18T12:54:29.449Z"
      },
      {
        "duration": 20,
        "start_time": "2023-05-18T12:54:29.500Z"
      },
      {
        "duration": 6,
        "start_time": "2023-05-18T12:54:29.524Z"
      },
      {
        "duration": 29,
        "start_time": "2023-05-18T12:54:29.532Z"
      },
      {
        "duration": 35,
        "start_time": "2023-05-18T12:54:29.563Z"
      },
      {
        "duration": 12,
        "start_time": "2023-05-18T12:54:29.600Z"
      },
      {
        "duration": 14,
        "start_time": "2023-05-18T12:54:29.614Z"
      },
      {
        "duration": 5,
        "start_time": "2023-05-18T12:54:29.631Z"
      },
      {
        "duration": 278,
        "start_time": "2023-05-18T12:54:29.638Z"
      },
      {
        "duration": 292,
        "start_time": "2023-05-18T12:54:29.918Z"
      },
      {
        "duration": 349,
        "start_time": "2023-05-18T12:54:30.212Z"
      },
      {
        "duration": 3,
        "start_time": "2023-05-18T12:54:30.563Z"
      },
      {
        "duration": 224,
        "start_time": "2023-05-18T12:54:30.567Z"
      },
      {
        "duration": 228,
        "start_time": "2023-05-18T12:54:30.796Z"
      },
      {
        "duration": 3,
        "start_time": "2023-05-18T12:54:31.026Z"
      },
      {
        "duration": 37,
        "start_time": "2023-05-18T12:54:31.030Z"
      },
      {
        "duration": 522,
        "start_time": "2023-05-18T12:54:31.069Z"
      },
      {
        "duration": 17,
        "start_time": "2023-05-18T12:54:31.597Z"
      },
      {
        "duration": 251,
        "start_time": "2023-05-18T12:54:31.616Z"
      },
      {
        "duration": 5,
        "start_time": "2023-05-18T12:54:31.869Z"
      },
      {
        "duration": 39,
        "start_time": "2023-05-18T12:54:31.875Z"
      },
      {
        "duration": 17,
        "start_time": "2023-05-18T12:54:31.916Z"
      },
      {
        "duration": 39,
        "start_time": "2023-05-18T12:54:31.935Z"
      },
      {
        "duration": 1507,
        "start_time": "2023-05-18T12:54:31.976Z"
      },
      {
        "duration": 130,
        "start_time": "2023-05-18T12:54:33.485Z"
      },
      {
        "duration": 0,
        "start_time": "2023-05-18T12:54:33.617Z"
      },
      {
        "duration": 0,
        "start_time": "2023-05-18T12:54:33.619Z"
      },
      {
        "duration": 0,
        "start_time": "2023-05-18T12:54:33.620Z"
      },
      {
        "duration": 0,
        "start_time": "2023-05-18T12:54:33.622Z"
      },
      {
        "duration": 0,
        "start_time": "2023-05-18T12:54:33.623Z"
      },
      {
        "duration": 1,
        "start_time": "2023-05-18T12:54:33.624Z"
      },
      {
        "duration": 0,
        "start_time": "2023-05-18T12:54:33.626Z"
      },
      {
        "duration": 0,
        "start_time": "2023-05-18T12:54:33.627Z"
      },
      {
        "duration": 0,
        "start_time": "2023-05-18T12:54:33.628Z"
      },
      {
        "duration": 0,
        "start_time": "2023-05-18T12:54:33.629Z"
      },
      {
        "duration": 0,
        "start_time": "2023-05-18T12:54:33.630Z"
      },
      {
        "duration": 0,
        "start_time": "2023-05-18T12:54:33.632Z"
      },
      {
        "duration": 0,
        "start_time": "2023-05-18T12:54:33.633Z"
      },
      {
        "duration": 0,
        "start_time": "2023-05-18T12:54:33.634Z"
      },
      {
        "duration": 9,
        "start_time": "2023-05-18T12:58:06.034Z"
      },
      {
        "duration": 22,
        "start_time": "2023-05-18T12:58:07.768Z"
      },
      {
        "duration": 1603,
        "start_time": "2023-05-18T12:58:13.585Z"
      },
      {
        "duration": 20,
        "start_time": "2023-05-18T12:59:17.511Z"
      },
      {
        "duration": 3,
        "start_time": "2023-05-18T13:02:56.486Z"
      },
      {
        "duration": 1594,
        "start_time": "2023-05-18T13:03:01.511Z"
      },
      {
        "duration": 2,
        "start_time": "2023-05-18T13:03:03.108Z"
      },
      {
        "duration": 2320,
        "start_time": "2023-05-18T13:03:10.088Z"
      },
      {
        "duration": 7,
        "start_time": "2023-05-18T13:03:16.271Z"
      },
      {
        "duration": 3,
        "start_time": "2023-05-18T13:10:29.983Z"
      },
      {
        "duration": 7,
        "start_time": "2023-05-18T13:10:31.378Z"
      },
      {
        "duration": 2,
        "start_time": "2023-05-18T13:10:32.282Z"
      },
      {
        "duration": 4,
        "start_time": "2023-05-18T13:10:56.391Z"
      },
      {
        "duration": 15,
        "start_time": "2023-05-18T13:11:14.933Z"
      },
      {
        "duration": 28628,
        "start_time": "2023-05-18T13:13:12.313Z"
      },
      {
        "duration": 15040,
        "start_time": "2023-05-18T13:13:59.131Z"
      },
      {
        "duration": 5,
        "start_time": "2023-05-18T13:14:47.278Z"
      },
      {
        "duration": 1483,
        "start_time": "2023-05-18T13:18:03.214Z"
      },
      {
        "duration": 790,
        "start_time": "2023-05-18T13:18:04.699Z"
      },
      {
        "duration": 355,
        "start_time": "2023-05-18T13:18:05.490Z"
      },
      {
        "duration": 3,
        "start_time": "2023-05-18T13:18:05.847Z"
      },
      {
        "duration": 23,
        "start_time": "2023-05-18T13:18:05.851Z"
      },
      {
        "duration": 4,
        "start_time": "2023-05-18T13:18:05.875Z"
      },
      {
        "duration": 7,
        "start_time": "2023-05-18T13:18:05.880Z"
      },
      {
        "duration": 3,
        "start_time": "2023-05-18T13:18:05.897Z"
      },
      {
        "duration": 25,
        "start_time": "2023-05-18T13:18:05.902Z"
      },
      {
        "duration": 9,
        "start_time": "2023-05-18T13:18:05.930Z"
      },
      {
        "duration": 9,
        "start_time": "2023-05-18T13:18:05.940Z"
      },
      {
        "duration": 20,
        "start_time": "2023-05-18T13:18:05.950Z"
      },
      {
        "duration": 37,
        "start_time": "2023-05-18T13:18:05.971Z"
      },
      {
        "duration": 4,
        "start_time": "2023-05-18T13:18:06.009Z"
      },
      {
        "duration": 21,
        "start_time": "2023-05-18T13:18:06.014Z"
      },
      {
        "duration": 6,
        "start_time": "2023-05-18T13:18:06.037Z"
      },
      {
        "duration": 10,
        "start_time": "2023-05-18T13:18:06.045Z"
      },
      {
        "duration": 10,
        "start_time": "2023-05-18T13:18:06.057Z"
      },
      {
        "duration": 18,
        "start_time": "2023-05-18T13:18:06.069Z"
      },
      {
        "duration": 295,
        "start_time": "2023-05-18T13:18:06.089Z"
      },
      {
        "duration": 300,
        "start_time": "2023-05-18T13:18:06.386Z"
      },
      {
        "duration": 412,
        "start_time": "2023-05-18T13:18:06.690Z"
      },
      {
        "duration": 4,
        "start_time": "2023-05-18T13:18:07.104Z"
      },
      {
        "duration": 250,
        "start_time": "2023-05-18T13:18:07.110Z"
      },
      {
        "duration": 270,
        "start_time": "2023-05-18T13:18:07.362Z"
      },
      {
        "duration": 4,
        "start_time": "2023-05-18T13:18:07.634Z"
      },
      {
        "duration": 15,
        "start_time": "2023-05-18T13:18:07.640Z"
      },
      {
        "duration": 518,
        "start_time": "2023-05-18T13:18:07.658Z"
      },
      {
        "duration": 21,
        "start_time": "2023-05-18T13:18:08.179Z"
      },
      {
        "duration": 234,
        "start_time": "2023-05-18T13:18:08.201Z"
      },
      {
        "duration": 4,
        "start_time": "2023-05-18T13:18:08.437Z"
      },
      {
        "duration": 12,
        "start_time": "2023-05-18T13:18:08.442Z"
      },
      {
        "duration": 21,
        "start_time": "2023-05-18T13:18:08.457Z"
      },
      {
        "duration": 33,
        "start_time": "2023-05-18T13:18:08.480Z"
      },
      {
        "duration": 1390,
        "start_time": "2023-05-18T13:18:08.516Z"
      },
      {
        "duration": 2,
        "start_time": "2023-05-18T13:18:09.908Z"
      },
      {
        "duration": 2489,
        "start_time": "2023-05-18T13:18:09.912Z"
      },
      {
        "duration": 99,
        "start_time": "2023-05-18T13:18:12.404Z"
      },
      {
        "duration": 8034,
        "start_time": "2023-05-18T13:18:12.505Z"
      },
      {
        "duration": 7,
        "start_time": "2023-05-18T13:18:20.540Z"
      },
      {
        "duration": 6934,
        "start_time": "2023-05-18T13:18:20.548Z"
      },
      {
        "duration": 7,
        "start_time": "2023-05-18T13:18:27.484Z"
      },
      {
        "duration": 14,
        "start_time": "2023-05-18T13:18:27.493Z"
      },
      {
        "duration": 19,
        "start_time": "2023-05-18T13:18:27.509Z"
      },
      {
        "duration": 11,
        "start_time": "2023-05-18T13:18:27.529Z"
      },
      {
        "duration": 26,
        "start_time": "2023-05-18T13:18:27.542Z"
      },
      {
        "duration": 13744,
        "start_time": "2023-05-18T13:18:27.570Z"
      },
      {
        "duration": 0,
        "start_time": "2023-05-18T13:18:41.316Z"
      },
      {
        "duration": 0,
        "start_time": "2023-05-18T13:18:41.317Z"
      },
      {
        "duration": 0,
        "start_time": "2023-05-18T13:18:41.319Z"
      },
      {
        "duration": 0,
        "start_time": "2023-05-18T13:18:41.320Z"
      },
      {
        "duration": 0,
        "start_time": "2023-05-18T13:18:41.321Z"
      },
      {
        "duration": 0,
        "start_time": "2023-05-18T13:18:41.322Z"
      },
      {
        "duration": 0,
        "start_time": "2023-05-18T13:18:41.323Z"
      },
      {
        "duration": 0,
        "start_time": "2023-05-18T13:18:41.325Z"
      },
      {
        "duration": 0,
        "start_time": "2023-05-18T13:18:41.326Z"
      },
      {
        "duration": 13340,
        "start_time": "2023-05-18T13:20:49.791Z"
      },
      {
        "duration": 7,
        "start_time": "2023-05-18T13:23:12.792Z"
      },
      {
        "duration": 3,
        "start_time": "2023-05-18T13:23:14.591Z"
      },
      {
        "duration": 23897,
        "start_time": "2023-05-18T13:24:19.517Z"
      },
      {
        "duration": 0,
        "start_time": "2023-05-18T13:24:43.416Z"
      },
      {
        "duration": 0,
        "start_time": "2023-05-18T13:24:43.417Z"
      },
      {
        "duration": 1757,
        "start_time": "2023-05-18T13:25:02.291Z"
      },
      {
        "duration": 1024,
        "start_time": "2023-05-18T13:25:04.050Z"
      },
      {
        "duration": 396,
        "start_time": "2023-05-18T13:25:05.076Z"
      },
      {
        "duration": 3,
        "start_time": "2023-05-18T13:25:05.474Z"
      },
      {
        "duration": 18,
        "start_time": "2023-05-18T13:25:05.480Z"
      },
      {
        "duration": 13,
        "start_time": "2023-05-18T13:25:05.500Z"
      },
      {
        "duration": 30,
        "start_time": "2023-05-18T13:25:05.515Z"
      },
      {
        "duration": 9,
        "start_time": "2023-05-18T13:25:05.547Z"
      },
      {
        "duration": 26,
        "start_time": "2023-05-18T13:25:05.558Z"
      },
      {
        "duration": 19,
        "start_time": "2023-05-18T13:25:05.586Z"
      },
      {
        "duration": 32,
        "start_time": "2023-05-18T13:25:05.607Z"
      },
      {
        "duration": 48,
        "start_time": "2023-05-18T13:25:05.641Z"
      },
      {
        "duration": 41,
        "start_time": "2023-05-18T13:25:05.691Z"
      },
      {
        "duration": 7,
        "start_time": "2023-05-18T13:25:05.736Z"
      },
      {
        "duration": 37,
        "start_time": "2023-05-18T13:25:05.744Z"
      },
      {
        "duration": 4,
        "start_time": "2023-05-18T13:25:05.783Z"
      },
      {
        "duration": 25,
        "start_time": "2023-05-18T13:25:05.789Z"
      },
      {
        "duration": 14,
        "start_time": "2023-05-18T13:25:05.816Z"
      },
      {
        "duration": 36,
        "start_time": "2023-05-18T13:25:05.832Z"
      },
      {
        "duration": 300,
        "start_time": "2023-05-18T13:25:05.870Z"
      },
      {
        "duration": 262,
        "start_time": "2023-05-18T13:25:06.172Z"
      },
      {
        "duration": 446,
        "start_time": "2023-05-18T13:25:06.435Z"
      },
      {
        "duration": 14,
        "start_time": "2023-05-18T13:25:06.883Z"
      },
      {
        "duration": 201,
        "start_time": "2023-05-18T13:25:06.899Z"
      },
      {
        "duration": 209,
        "start_time": "2023-05-18T13:25:07.101Z"
      },
      {
        "duration": 3,
        "start_time": "2023-05-18T13:25:07.313Z"
      },
      {
        "duration": 6,
        "start_time": "2023-05-18T13:25:07.318Z"
      },
      {
        "duration": 428,
        "start_time": "2023-05-18T13:25:07.326Z"
      },
      {
        "duration": 14,
        "start_time": "2023-05-18T13:25:07.756Z"
      },
      {
        "duration": 221,
        "start_time": "2023-05-18T13:25:07.772Z"
      },
      {
        "duration": 3,
        "start_time": "2023-05-18T13:25:07.998Z"
      },
      {
        "duration": 8,
        "start_time": "2023-05-18T13:25:08.003Z"
      },
      {
        "duration": 18,
        "start_time": "2023-05-18T13:25:08.013Z"
      },
      {
        "duration": 39,
        "start_time": "2023-05-18T13:25:08.033Z"
      },
      {
        "duration": 1384,
        "start_time": "2023-05-18T13:25:08.074Z"
      },
      {
        "duration": 3,
        "start_time": "2023-05-18T13:25:09.460Z"
      },
      {
        "duration": 1936,
        "start_time": "2023-05-18T13:25:09.465Z"
      },
      {
        "duration": 90,
        "start_time": "2023-05-18T13:25:11.407Z"
      },
      {
        "duration": 8964,
        "start_time": "2023-05-18T13:25:11.499Z"
      },
      {
        "duration": 11,
        "start_time": "2023-05-18T13:25:20.466Z"
      },
      {
        "duration": 12449,
        "start_time": "2023-05-18T13:25:20.482Z"
      },
      {
        "duration": 13,
        "start_time": "2023-05-18T13:25:32.935Z"
      },
      {
        "duration": 5,
        "start_time": "2023-05-18T13:25:32.952Z"
      },
      {
        "duration": 15,
        "start_time": "2023-05-18T13:25:32.961Z"
      },
      {
        "duration": 21,
        "start_time": "2023-05-18T13:25:32.978Z"
      },
      {
        "duration": 17,
        "start_time": "2023-05-18T13:25:33.004Z"
      },
      {
        "duration": 0,
        "start_time": "2023-05-18T13:26:25.814Z"
      },
      {
        "duration": 0,
        "start_time": "2023-05-18T13:26:25.816Z"
      },
      {
        "duration": 0,
        "start_time": "2023-05-18T13:26:25.817Z"
      },
      {
        "duration": 0,
        "start_time": "2023-05-18T13:26:25.819Z"
      },
      {
        "duration": 0,
        "start_time": "2023-05-18T13:26:25.820Z"
      },
      {
        "duration": 0,
        "start_time": "2023-05-18T13:26:25.821Z"
      },
      {
        "duration": 0,
        "start_time": "2023-05-18T13:26:25.823Z"
      },
      {
        "duration": 0,
        "start_time": "2023-05-18T13:26:25.824Z"
      },
      {
        "duration": 0,
        "start_time": "2023-05-18T13:26:25.826Z"
      },
      {
        "duration": 0,
        "start_time": "2023-05-18T13:26:25.828Z"
      },
      {
        "duration": 45452,
        "start_time": "2023-05-18T13:26:43.594Z"
      },
      {
        "duration": 0,
        "start_time": "2023-05-18T13:27:29.048Z"
      },
      {
        "duration": 5,
        "start_time": "2023-05-18T13:27:34.170Z"
      },
      {
        "duration": 3,
        "start_time": "2023-05-18T13:29:50.827Z"
      },
      {
        "duration": 9,
        "start_time": "2023-05-18T13:29:51.310Z"
      },
      {
        "duration": 6,
        "start_time": "2023-05-18T13:29:51.595Z"
      },
      {
        "duration": 3,
        "start_time": "2023-05-18T13:29:51.824Z"
      },
      {
        "duration": 41962,
        "start_time": "2023-05-18T13:29:52.263Z"
      },
      {
        "duration": 0,
        "start_time": "2023-05-18T13:30:34.227Z"
      },
      {
        "duration": 50,
        "start_time": "2023-05-18T13:34:51.555Z"
      },
      {
        "duration": 30,
        "start_time": "2023-05-18T13:35:43.126Z"
      },
      {
        "duration": 21,
        "start_time": "2023-05-18T13:36:01.198Z"
      },
      {
        "duration": 19,
        "start_time": "2023-05-18T13:36:15.712Z"
      },
      {
        "duration": 3347,
        "start_time": "2023-05-18T13:36:29.612Z"
      },
      {
        "duration": 0,
        "start_time": "2023-05-18T13:36:32.962Z"
      },
      {
        "duration": 24,
        "start_time": "2023-05-18T13:37:25.886Z"
      },
      {
        "duration": 12,
        "start_time": "2023-05-18T13:37:50.008Z"
      },
      {
        "duration": 23,
        "start_time": "2023-05-18T13:38:25.571Z"
      },
      {
        "duration": 2129,
        "start_time": "2023-05-18T13:39:15.214Z"
      },
      {
        "duration": 2,
        "start_time": "2023-05-18T13:39:35.871Z"
      },
      {
        "duration": 5,
        "start_time": "2023-05-18T13:39:37.859Z"
      },
      {
        "duration": 2086,
        "start_time": "2023-05-18T13:39:57.961Z"
      },
      {
        "duration": 1530,
        "start_time": "2023-05-18T13:40:00.050Z"
      },
      {
        "duration": 640,
        "start_time": "2023-05-18T13:40:01.585Z"
      },
      {
        "duration": 4,
        "start_time": "2023-05-18T13:40:02.229Z"
      },
      {
        "duration": 31,
        "start_time": "2023-05-18T13:40:02.236Z"
      },
      {
        "duration": 53,
        "start_time": "2023-05-18T13:40:02.271Z"
      },
      {
        "duration": 34,
        "start_time": "2023-05-18T13:40:02.327Z"
      },
      {
        "duration": 58,
        "start_time": "2023-05-18T13:40:02.364Z"
      },
      {
        "duration": 92,
        "start_time": "2023-05-18T13:40:02.429Z"
      },
      {
        "duration": 28,
        "start_time": "2023-05-18T13:40:02.526Z"
      },
      {
        "duration": 67,
        "start_time": "2023-05-18T13:40:02.558Z"
      },
      {
        "duration": 35,
        "start_time": "2023-05-18T13:40:02.627Z"
      },
      {
        "duration": 50,
        "start_time": "2023-05-18T13:40:02.666Z"
      },
      {
        "duration": 22,
        "start_time": "2023-05-18T13:40:02.718Z"
      },
      {
        "duration": 59,
        "start_time": "2023-05-18T13:40:02.742Z"
      },
      {
        "duration": 38,
        "start_time": "2023-05-18T13:40:02.803Z"
      },
      {
        "duration": 18,
        "start_time": "2023-05-18T13:40:02.843Z"
      },
      {
        "duration": 54,
        "start_time": "2023-05-18T13:40:02.863Z"
      },
      {
        "duration": 9,
        "start_time": "2023-05-18T13:40:02.920Z"
      },
      {
        "duration": 369,
        "start_time": "2023-05-18T13:40:02.932Z"
      },
      {
        "duration": 382,
        "start_time": "2023-05-18T13:40:03.304Z"
      },
      {
        "duration": 525,
        "start_time": "2023-05-18T13:40:03.700Z"
      },
      {
        "duration": 4,
        "start_time": "2023-05-18T13:40:04.228Z"
      },
      {
        "duration": 368,
        "start_time": "2023-05-18T13:40:04.234Z"
      },
      {
        "duration": 342,
        "start_time": "2023-05-18T13:40:04.612Z"
      },
      {
        "duration": 4,
        "start_time": "2023-05-18T13:40:04.956Z"
      },
      {
        "duration": 20,
        "start_time": "2023-05-18T13:40:04.962Z"
      },
      {
        "duration": 619,
        "start_time": "2023-05-18T13:40:04.985Z"
      },
      {
        "duration": 22,
        "start_time": "2023-05-18T13:40:05.613Z"
      },
      {
        "duration": 393,
        "start_time": "2023-05-18T13:40:05.639Z"
      },
      {
        "duration": 4,
        "start_time": "2023-05-18T13:40:06.034Z"
      },
      {
        "duration": 44,
        "start_time": "2023-05-18T13:40:06.040Z"
      },
      {
        "duration": 43,
        "start_time": "2023-05-18T13:40:06.087Z"
      },
      {
        "duration": 48,
        "start_time": "2023-05-18T13:40:06.132Z"
      },
      {
        "duration": 1896,
        "start_time": "2023-05-18T13:40:06.182Z"
      },
      {
        "duration": 4,
        "start_time": "2023-05-18T13:40:08.082Z"
      },
      {
        "duration": 5727,
        "start_time": "2023-05-18T13:40:08.089Z"
      },
      {
        "duration": 93,
        "start_time": "2023-05-18T13:40:13.827Z"
      },
      {
        "duration": 10301,
        "start_time": "2023-05-18T13:40:13.924Z"
      },
      {
        "duration": 11,
        "start_time": "2023-05-18T13:40:24.231Z"
      },
      {
        "duration": 12078,
        "start_time": "2023-05-18T13:40:24.244Z"
      },
      {
        "duration": 12,
        "start_time": "2023-05-18T13:40:36.325Z"
      },
      {
        "duration": 4,
        "start_time": "2023-05-18T13:40:36.340Z"
      },
      {
        "duration": 20,
        "start_time": "2023-05-18T13:40:36.346Z"
      },
      {
        "duration": 13,
        "start_time": "2023-05-18T13:40:36.368Z"
      },
      {
        "duration": 31,
        "start_time": "2023-05-18T13:40:36.384Z"
      },
      {
        "duration": 12,
        "start_time": "2023-05-18T13:40:36.418Z"
      },
      {
        "duration": 170,
        "start_time": "2023-05-18T13:40:36.432Z"
      },
      {
        "duration": 0,
        "start_time": "2023-05-18T13:40:36.609Z"
      },
      {
        "duration": 0,
        "start_time": "2023-05-18T13:40:36.610Z"
      },
      {
        "duration": 0,
        "start_time": "2023-05-18T13:40:36.611Z"
      },
      {
        "duration": 0,
        "start_time": "2023-05-18T13:40:36.612Z"
      },
      {
        "duration": 0,
        "start_time": "2023-05-18T13:40:36.613Z"
      },
      {
        "duration": 0,
        "start_time": "2023-05-18T13:40:36.614Z"
      },
      {
        "duration": 0,
        "start_time": "2023-05-18T13:40:36.615Z"
      },
      {
        "duration": 0,
        "start_time": "2023-05-18T13:40:36.616Z"
      },
      {
        "duration": 3,
        "start_time": "2023-05-18T13:40:57.862Z"
      },
      {
        "duration": 15,
        "start_time": "2023-05-18T13:40:59.796Z"
      },
      {
        "duration": 5,
        "start_time": "2023-05-18T13:41:16.014Z"
      },
      {
        "duration": 19,
        "start_time": "2023-05-18T13:41:17.062Z"
      },
      {
        "duration": 2453,
        "start_time": "2023-05-18T13:41:20.306Z"
      },
      {
        "duration": 7,
        "start_time": "2023-05-18T13:41:22.761Z"
      },
      {
        "duration": 5,
        "start_time": "2023-05-18T13:41:29.186Z"
      },
      {
        "duration": 16,
        "start_time": "2023-05-18T13:41:30.196Z"
      },
      {
        "duration": 4,
        "start_time": "2023-05-18T13:41:30.515Z"
      },
      {
        "duration": 4,
        "start_time": "2023-05-18T13:41:30.770Z"
      },
      {
        "duration": 21423,
        "start_time": "2023-05-18T13:41:48.016Z"
      },
      {
        "duration": 0,
        "start_time": "2023-05-18T13:42:09.440Z"
      },
      {
        "duration": 4,
        "start_time": "2023-05-18T13:42:15.099Z"
      },
      {
        "duration": 453,
        "start_time": "2023-05-18T13:44:46.003Z"
      },
      {
        "duration": 631,
        "start_time": "2023-05-18T13:44:58.794Z"
      },
      {
        "duration": 651,
        "start_time": "2023-05-18T13:45:32.774Z"
      },
      {
        "duration": 457,
        "start_time": "2023-05-18T13:45:38.966Z"
      },
      {
        "duration": 618,
        "start_time": "2023-05-18T13:46:50.862Z"
      },
      {
        "duration": 2685,
        "start_time": "2023-05-18T13:59:37.119Z"
      },
      {
        "duration": 3332,
        "start_time": "2023-05-18T14:00:46.578Z"
      },
      {
        "duration": 13,
        "start_time": "2023-05-18T14:02:06.470Z"
      },
      {
        "duration": 7,
        "start_time": "2023-05-18T14:04:07.566Z"
      },
      {
        "duration": 9,
        "start_time": "2023-05-18T14:05:36.904Z"
      },
      {
        "duration": 2191,
        "start_time": "2023-05-18T19:21:29.908Z"
      },
      {
        "duration": 7,
        "start_time": "2023-05-18T19:21:48.851Z"
      },
      {
        "duration": 1536,
        "start_time": "2023-05-18T19:22:14.471Z"
      },
      {
        "duration": 10,
        "start_time": "2023-05-18T19:22:17.740Z"
      },
      {
        "duration": 7,
        "start_time": "2023-05-18T19:23:41.680Z"
      },
      {
        "duration": 1525,
        "start_time": "2023-05-18T19:33:38.181Z"
      },
      {
        "duration": 1657,
        "start_time": "2023-05-18T19:37:09.349Z"
      },
      {
        "duration": 7,
        "start_time": "2023-05-18T19:51:31.565Z"
      },
      {
        "duration": 94,
        "start_time": "2023-05-18T20:02:16.825Z"
      },
      {
        "duration": 14,
        "start_time": "2023-05-18T20:07:42.442Z"
      },
      {
        "duration": 7,
        "start_time": "2023-05-18T20:08:49.655Z"
      },
      {
        "duration": 9,
        "start_time": "2023-05-18T20:09:33.303Z"
      },
      {
        "duration": 8615,
        "start_time": "2023-05-18T20:15:48.113Z"
      },
      {
        "duration": 7,
        "start_time": "2023-05-18T20:16:38.158Z"
      },
      {
        "duration": 8006,
        "start_time": "2023-05-18T20:16:44.120Z"
      },
      {
        "duration": 7,
        "start_time": "2023-05-18T20:16:52.128Z"
      },
      {
        "duration": 6956,
        "start_time": "2023-05-18T20:18:59.592Z"
      },
      {
        "duration": 6,
        "start_time": "2023-05-18T20:20:19.470Z"
      },
      {
        "duration": 1333,
        "start_time": "2023-05-18T20:22:59.556Z"
      },
      {
        "duration": 751,
        "start_time": "2023-05-18T20:23:00.891Z"
      },
      {
        "duration": 431,
        "start_time": "2023-05-18T20:23:01.644Z"
      },
      {
        "duration": 4,
        "start_time": "2023-05-18T20:23:02.077Z"
      },
      {
        "duration": 23,
        "start_time": "2023-05-18T20:23:02.082Z"
      },
      {
        "duration": 27,
        "start_time": "2023-05-18T20:23:02.108Z"
      },
      {
        "duration": 15,
        "start_time": "2023-05-18T20:23:02.137Z"
      },
      {
        "duration": 17,
        "start_time": "2023-05-18T20:23:02.154Z"
      },
      {
        "duration": 27,
        "start_time": "2023-05-18T20:23:02.173Z"
      },
      {
        "duration": 31,
        "start_time": "2023-05-18T20:23:02.203Z"
      },
      {
        "duration": 34,
        "start_time": "2023-05-18T20:23:02.235Z"
      },
      {
        "duration": 22,
        "start_time": "2023-05-18T20:23:02.271Z"
      },
      {
        "duration": 27,
        "start_time": "2023-05-18T20:23:02.294Z"
      },
      {
        "duration": 13,
        "start_time": "2023-05-18T20:23:02.323Z"
      },
      {
        "duration": 36,
        "start_time": "2023-05-18T20:23:02.338Z"
      },
      {
        "duration": 4,
        "start_time": "2023-05-18T20:23:02.376Z"
      },
      {
        "duration": 16,
        "start_time": "2023-05-18T20:23:02.382Z"
      },
      {
        "duration": 17,
        "start_time": "2023-05-18T20:23:02.400Z"
      },
      {
        "duration": 8,
        "start_time": "2023-05-18T20:23:02.419Z"
      },
      {
        "duration": 301,
        "start_time": "2023-05-18T20:23:02.428Z"
      },
      {
        "duration": 303,
        "start_time": "2023-05-18T20:23:02.731Z"
      },
      {
        "duration": 385,
        "start_time": "2023-05-18T20:23:03.036Z"
      },
      {
        "duration": 631,
        "start_time": "2023-05-18T20:23:03.423Z"
      },
      {
        "duration": 185,
        "start_time": "2023-05-18T20:23:04.056Z"
      },
      {
        "duration": 192,
        "start_time": "2023-05-18T20:23:04.243Z"
      },
      {
        "duration": 2,
        "start_time": "2023-05-18T20:23:04.437Z"
      },
      {
        "duration": 7,
        "start_time": "2023-05-18T20:23:04.442Z"
      },
      {
        "duration": 400,
        "start_time": "2023-05-18T20:23:04.456Z"
      },
      {
        "duration": 12,
        "start_time": "2023-05-18T20:23:04.858Z"
      },
      {
        "duration": 222,
        "start_time": "2023-05-18T20:23:04.871Z"
      },
      {
        "duration": 4,
        "start_time": "2023-05-18T20:23:05.095Z"
      },
      {
        "duration": 9,
        "start_time": "2023-05-18T20:23:05.101Z"
      },
      {
        "duration": 10,
        "start_time": "2023-05-18T20:23:05.112Z"
      },
      {
        "duration": 32,
        "start_time": "2023-05-18T20:23:05.124Z"
      },
      {
        "duration": 1359,
        "start_time": "2023-05-18T20:23:05.157Z"
      },
      {
        "duration": 211,
        "start_time": "2023-05-18T20:23:06.518Z"
      },
      {
        "duration": 0,
        "start_time": "2023-05-18T20:23:06.731Z"
      },
      {
        "duration": 0,
        "start_time": "2023-05-18T20:23:06.733Z"
      },
      {
        "duration": 0,
        "start_time": "2023-05-18T20:23:06.735Z"
      },
      {
        "duration": 0,
        "start_time": "2023-05-18T20:23:06.736Z"
      },
      {
        "duration": 0,
        "start_time": "2023-05-18T20:23:06.737Z"
      },
      {
        "duration": 0,
        "start_time": "2023-05-18T20:23:06.738Z"
      },
      {
        "duration": 0,
        "start_time": "2023-05-18T20:23:06.739Z"
      },
      {
        "duration": 0,
        "start_time": "2023-05-18T20:23:06.740Z"
      },
      {
        "duration": 0,
        "start_time": "2023-05-18T20:23:06.742Z"
      },
      {
        "duration": 0,
        "start_time": "2023-05-18T20:23:06.744Z"
      },
      {
        "duration": 0,
        "start_time": "2023-05-18T20:23:06.745Z"
      },
      {
        "duration": 0,
        "start_time": "2023-05-18T20:23:06.747Z"
      },
      {
        "duration": 0,
        "start_time": "2023-05-18T20:23:06.747Z"
      },
      {
        "duration": 0,
        "start_time": "2023-05-18T20:23:06.748Z"
      },
      {
        "duration": 0,
        "start_time": "2023-05-18T20:23:06.750Z"
      },
      {
        "duration": 0,
        "start_time": "2023-05-18T20:23:06.751Z"
      },
      {
        "duration": 0,
        "start_time": "2023-05-18T20:23:06.753Z"
      },
      {
        "duration": 0,
        "start_time": "2023-05-18T20:23:06.755Z"
      },
      {
        "duration": 0,
        "start_time": "2023-05-18T20:23:06.756Z"
      },
      {
        "duration": 0,
        "start_time": "2023-05-18T20:23:06.757Z"
      },
      {
        "duration": 5,
        "start_time": "2023-05-18T20:25:09.143Z"
      },
      {
        "duration": 9,
        "start_time": "2023-05-18T20:25:26.345Z"
      },
      {
        "duration": 1311,
        "start_time": "2023-05-18T20:25:36.640Z"
      },
      {
        "duration": 10,
        "start_time": "2023-05-18T20:25:37.953Z"
      },
      {
        "duration": 7,
        "start_time": "2023-05-18T20:26:51.638Z"
      },
      {
        "duration": 1923,
        "start_time": "2023-05-18T20:26:57.880Z"
      },
      {
        "duration": 1822,
        "start_time": "2023-05-18T20:27:24.878Z"
      },
      {
        "duration": 2088,
        "start_time": "2023-05-18T20:28:28.619Z"
      },
      {
        "duration": 7,
        "start_time": "2023-05-18T20:28:35.740Z"
      },
      {
        "duration": 7483,
        "start_time": "2023-05-18T20:28:37.724Z"
      },
      {
        "duration": 8,
        "start_time": "2023-05-18T20:28:45.209Z"
      },
      {
        "duration": 4769,
        "start_time": "2023-05-18T20:28:47.290Z"
      },
      {
        "duration": 6,
        "start_time": "2023-05-18T20:28:52.062Z"
      },
      {
        "duration": 2,
        "start_time": "2023-05-18T20:28:57.236Z"
      },
      {
        "duration": 6,
        "start_time": "2023-05-18T20:28:58.094Z"
      },
      {
        "duration": 2,
        "start_time": "2023-05-18T20:28:58.725Z"
      },
      {
        "duration": 4,
        "start_time": "2023-05-18T20:28:59.195Z"
      },
      {
        "duration": 21118,
        "start_time": "2023-05-18T20:28:59.609Z"
      },
      {
        "duration": 0,
        "start_time": "2023-05-18T20:29:20.729Z"
      },
      {
        "duration": 0,
        "start_time": "2023-05-18T20:29:20.731Z"
      },
      {
        "duration": 4,
        "start_time": "2023-05-18T20:29:27.860Z"
      },
      {
        "duration": 5,
        "start_time": "2023-05-18T20:29:29.747Z"
      },
      {
        "duration": 16,
        "start_time": "2023-05-18T20:29:30.301Z"
      },
      {
        "duration": 1297,
        "start_time": "2023-05-18T20:29:34.675Z"
      },
      {
        "duration": 8,
        "start_time": "2023-05-18T20:29:35.974Z"
      },
      {
        "duration": 4,
        "start_time": "2023-05-18T20:29:39.141Z"
      },
      {
        "duration": 5,
        "start_time": "2023-05-18T20:29:39.906Z"
      },
      {
        "duration": 4,
        "start_time": "2023-05-18T20:29:40.540Z"
      },
      {
        "duration": 4,
        "start_time": "2023-05-18T20:29:41.085Z"
      },
      {
        "duration": 1437,
        "start_time": "2023-05-18T20:29:59.811Z"
      },
      {
        "duration": 749,
        "start_time": "2023-05-18T20:30:01.250Z"
      },
      {
        "duration": 375,
        "start_time": "2023-05-18T20:30:02.001Z"
      },
      {
        "duration": 2,
        "start_time": "2023-05-18T20:30:02.379Z"
      },
      {
        "duration": 48,
        "start_time": "2023-05-18T20:30:02.383Z"
      },
      {
        "duration": 29,
        "start_time": "2023-05-18T20:30:02.433Z"
      },
      {
        "duration": 27,
        "start_time": "2023-05-18T20:30:02.464Z"
      },
      {
        "duration": 42,
        "start_time": "2023-05-18T20:30:02.493Z"
      },
      {
        "duration": 60,
        "start_time": "2023-05-18T20:30:02.538Z"
      },
      {
        "duration": 44,
        "start_time": "2023-05-18T20:30:02.602Z"
      },
      {
        "duration": 41,
        "start_time": "2023-05-18T20:30:02.648Z"
      },
      {
        "duration": 56,
        "start_time": "2023-05-18T20:30:02.692Z"
      },
      {
        "duration": 73,
        "start_time": "2023-05-18T20:30:02.750Z"
      },
      {
        "duration": 39,
        "start_time": "2023-05-18T20:30:02.825Z"
      },
      {
        "duration": 72,
        "start_time": "2023-05-18T20:30:02.866Z"
      },
      {
        "duration": 14,
        "start_time": "2023-05-18T20:30:02.940Z"
      },
      {
        "duration": 20,
        "start_time": "2023-05-18T20:30:02.956Z"
      },
      {
        "duration": 23,
        "start_time": "2023-05-18T20:30:02.978Z"
      },
      {
        "duration": 22,
        "start_time": "2023-05-18T20:30:03.003Z"
      },
      {
        "duration": 330,
        "start_time": "2023-05-18T20:30:03.028Z"
      },
      {
        "duration": 301,
        "start_time": "2023-05-18T20:30:03.360Z"
      },
      {
        "duration": 387,
        "start_time": "2023-05-18T20:30:03.663Z"
      },
      {
        "duration": 676,
        "start_time": "2023-05-18T20:30:04.053Z"
      },
      {
        "duration": 171,
        "start_time": "2023-05-18T20:30:04.731Z"
      },
      {
        "duration": 200,
        "start_time": "2023-05-18T20:30:04.904Z"
      },
      {
        "duration": 3,
        "start_time": "2023-05-18T20:30:05.106Z"
      },
      {
        "duration": 18,
        "start_time": "2023-05-18T20:30:05.111Z"
      },
      {
        "duration": 427,
        "start_time": "2023-05-18T20:30:05.132Z"
      },
      {
        "duration": 13,
        "start_time": "2023-05-18T20:30:05.561Z"
      },
      {
        "duration": 229,
        "start_time": "2023-05-18T20:30:05.576Z"
      },
      {
        "duration": 4,
        "start_time": "2023-05-18T20:30:05.807Z"
      },
      {
        "duration": 23,
        "start_time": "2023-05-18T20:30:05.813Z"
      },
      {
        "duration": 33,
        "start_time": "2023-05-18T20:30:05.838Z"
      },
      {
        "duration": 55,
        "start_time": "2023-05-18T20:30:05.873Z"
      },
      {
        "duration": 1458,
        "start_time": "2023-05-18T20:30:05.930Z"
      },
      {
        "duration": 13,
        "start_time": "2023-05-18T20:30:07.391Z"
      },
      {
        "duration": 1897,
        "start_time": "2023-05-18T20:30:07.406Z"
      },
      {
        "duration": 95,
        "start_time": "2023-05-18T20:30:09.306Z"
      },
      {
        "duration": 7613,
        "start_time": "2023-05-18T20:30:09.403Z"
      },
      {
        "duration": 7,
        "start_time": "2023-05-18T20:30:17.018Z"
      },
      {
        "duration": 5700,
        "start_time": "2023-05-18T20:30:17.026Z"
      },
      {
        "duration": 7,
        "start_time": "2023-05-18T20:30:22.727Z"
      },
      {
        "duration": 10,
        "start_time": "2023-05-18T20:30:22.735Z"
      },
      {
        "duration": 16,
        "start_time": "2023-05-18T20:30:22.747Z"
      },
      {
        "duration": 12,
        "start_time": "2023-05-18T20:30:22.765Z"
      },
      {
        "duration": 21,
        "start_time": "2023-05-18T20:30:22.779Z"
      },
      {
        "duration": 20725,
        "start_time": "2023-05-18T20:30:22.801Z"
      },
      {
        "duration": 0,
        "start_time": "2023-05-18T20:30:43.528Z"
      },
      {
        "duration": 0,
        "start_time": "2023-05-18T20:30:43.529Z"
      },
      {
        "duration": 0,
        "start_time": "2023-05-18T20:30:43.530Z"
      },
      {
        "duration": 0,
        "start_time": "2023-05-18T20:30:43.531Z"
      },
      {
        "duration": 0,
        "start_time": "2023-05-18T20:30:43.532Z"
      },
      {
        "duration": 0,
        "start_time": "2023-05-18T20:30:43.533Z"
      },
      {
        "duration": 0,
        "start_time": "2023-05-18T20:30:43.534Z"
      },
      {
        "duration": 0,
        "start_time": "2023-05-18T20:30:43.535Z"
      },
      {
        "duration": 0,
        "start_time": "2023-05-18T20:30:43.536Z"
      },
      {
        "duration": 4,
        "start_time": "2023-05-18T20:30:46.895Z"
      },
      {
        "duration": 5,
        "start_time": "2023-05-18T20:30:50.321Z"
      },
      {
        "duration": 15,
        "start_time": "2023-05-18T20:30:50.578Z"
      },
      {
        "duration": 1232,
        "start_time": "2023-05-18T20:30:51.775Z"
      },
      {
        "duration": 6,
        "start_time": "2023-05-18T20:30:53.009Z"
      },
      {
        "duration": 5,
        "start_time": "2023-05-18T20:30:53.415Z"
      },
      {
        "duration": 5,
        "start_time": "2023-05-18T20:30:53.661Z"
      },
      {
        "duration": 6,
        "start_time": "2023-05-18T20:30:53.883Z"
      },
      {
        "duration": 4,
        "start_time": "2023-05-18T20:30:54.125Z"
      },
      {
        "duration": 1407,
        "start_time": "2023-05-18T20:32:15.679Z"
      },
      {
        "duration": 702,
        "start_time": "2023-05-18T20:32:17.087Z"
      },
      {
        "duration": 329,
        "start_time": "2023-05-18T20:32:17.791Z"
      },
      {
        "duration": 3,
        "start_time": "2023-05-18T20:32:18.122Z"
      },
      {
        "duration": 11,
        "start_time": "2023-05-18T20:32:18.126Z"
      },
      {
        "duration": 10,
        "start_time": "2023-05-18T20:32:18.138Z"
      },
      {
        "duration": 8,
        "start_time": "2023-05-18T20:32:18.149Z"
      },
      {
        "duration": 12,
        "start_time": "2023-05-18T20:32:18.158Z"
      },
      {
        "duration": 26,
        "start_time": "2023-05-18T20:32:18.171Z"
      },
      {
        "duration": 12,
        "start_time": "2023-05-18T20:32:18.200Z"
      },
      {
        "duration": 7,
        "start_time": "2023-05-18T20:32:18.214Z"
      },
      {
        "duration": 30,
        "start_time": "2023-05-18T20:32:18.222Z"
      },
      {
        "duration": 13,
        "start_time": "2023-05-18T20:32:18.254Z"
      },
      {
        "duration": 3,
        "start_time": "2023-05-18T20:32:18.269Z"
      },
      {
        "duration": 14,
        "start_time": "2023-05-18T20:32:18.273Z"
      },
      {
        "duration": 3,
        "start_time": "2023-05-18T20:32:18.289Z"
      },
      {
        "duration": 7,
        "start_time": "2023-05-18T20:32:18.293Z"
      },
      {
        "duration": 8,
        "start_time": "2023-05-18T20:32:18.301Z"
      },
      {
        "duration": 5,
        "start_time": "2023-05-18T20:32:18.310Z"
      },
      {
        "duration": 245,
        "start_time": "2023-05-18T20:32:18.316Z"
      },
      {
        "duration": 243,
        "start_time": "2023-05-18T20:32:18.563Z"
      },
      {
        "duration": 303,
        "start_time": "2023-05-18T20:32:18.808Z"
      },
      {
        "duration": 578,
        "start_time": "2023-05-18T20:32:19.112Z"
      },
      {
        "duration": 175,
        "start_time": "2023-05-18T20:32:19.692Z"
      },
      {
        "duration": 171,
        "start_time": "2023-05-18T20:32:19.868Z"
      },
      {
        "duration": 3,
        "start_time": "2023-05-18T20:32:20.040Z"
      },
      {
        "duration": 15,
        "start_time": "2023-05-18T20:32:20.044Z"
      },
      {
        "duration": 392,
        "start_time": "2023-05-18T20:32:20.062Z"
      },
      {
        "duration": 11,
        "start_time": "2023-05-18T20:32:20.455Z"
      },
      {
        "duration": 193,
        "start_time": "2023-05-18T20:32:20.467Z"
      },
      {
        "duration": 3,
        "start_time": "2023-05-18T20:32:20.661Z"
      },
      {
        "duration": 7,
        "start_time": "2023-05-18T20:32:20.665Z"
      },
      {
        "duration": 12,
        "start_time": "2023-05-18T20:32:20.673Z"
      },
      {
        "duration": 25,
        "start_time": "2023-05-18T20:32:20.686Z"
      },
      {
        "duration": 1273,
        "start_time": "2023-05-18T20:32:20.712Z"
      },
      {
        "duration": 13,
        "start_time": "2023-05-18T20:32:21.986Z"
      },
      {
        "duration": 2200,
        "start_time": "2023-05-18T20:32:22.001Z"
      },
      {
        "duration": 95,
        "start_time": "2023-05-18T20:32:24.204Z"
      },
      {
        "duration": 7905,
        "start_time": "2023-05-18T20:32:24.301Z"
      },
      {
        "duration": 7,
        "start_time": "2023-05-18T20:32:32.208Z"
      },
      {
        "duration": 3,
        "start_time": "2023-05-20T05:43:57.222Z"
      },
      {
        "duration": 2,
        "start_time": "2023-05-20T05:44:03.874Z"
      },
      {
        "duration": 1956,
        "start_time": "2023-05-20T05:44:19.785Z"
      },
      {
        "duration": 3885,
        "start_time": "2023-05-20T05:44:21.744Z"
      },
      {
        "duration": 430,
        "start_time": "2023-05-20T05:44:25.630Z"
      },
      {
        "duration": 2,
        "start_time": "2023-05-20T05:44:26.063Z"
      },
      {
        "duration": 13,
        "start_time": "2023-05-20T05:44:26.067Z"
      },
      {
        "duration": 62,
        "start_time": "2023-05-20T05:44:26.082Z"
      },
      {
        "duration": 14,
        "start_time": "2023-05-20T05:44:26.147Z"
      },
      {
        "duration": 9,
        "start_time": "2023-05-20T05:44:26.163Z"
      },
      {
        "duration": 48,
        "start_time": "2023-05-20T05:44:26.174Z"
      },
      {
        "duration": 22,
        "start_time": "2023-05-20T05:44:26.226Z"
      },
      {
        "duration": 15,
        "start_time": "2023-05-20T05:44:26.250Z"
      },
      {
        "duration": 25,
        "start_time": "2023-05-20T05:44:26.266Z"
      },
      {
        "duration": 46,
        "start_time": "2023-05-20T05:44:26.293Z"
      },
      {
        "duration": 3,
        "start_time": "2023-05-20T05:44:26.342Z"
      },
      {
        "duration": 25,
        "start_time": "2023-05-20T05:44:26.347Z"
      },
      {
        "duration": 3,
        "start_time": "2023-05-20T05:44:26.374Z"
      },
      {
        "duration": 12,
        "start_time": "2023-05-20T05:44:26.379Z"
      },
      {
        "duration": 44,
        "start_time": "2023-05-20T05:44:26.393Z"
      },
      {
        "duration": 33,
        "start_time": "2023-05-20T05:44:26.442Z"
      },
      {
        "duration": 363,
        "start_time": "2023-05-20T05:44:26.477Z"
      },
      {
        "duration": 299,
        "start_time": "2023-05-20T05:44:26.842Z"
      },
      {
        "duration": 390,
        "start_time": "2023-05-20T05:44:27.143Z"
      },
      {
        "duration": 478,
        "start_time": "2023-05-20T05:44:27.535Z"
      },
      {
        "duration": 0,
        "start_time": "2023-05-20T05:44:28.017Z"
      },
      {
        "duration": 0,
        "start_time": "2023-05-20T05:44:28.018Z"
      },
      {
        "duration": 0,
        "start_time": "2023-05-20T05:44:28.020Z"
      },
      {
        "duration": 0,
        "start_time": "2023-05-20T05:44:28.021Z"
      },
      {
        "duration": 0,
        "start_time": "2023-05-20T05:44:28.023Z"
      },
      {
        "duration": 0,
        "start_time": "2023-05-20T05:44:28.024Z"
      },
      {
        "duration": 0,
        "start_time": "2023-05-20T05:44:28.025Z"
      },
      {
        "duration": 0,
        "start_time": "2023-05-20T05:44:28.026Z"
      },
      {
        "duration": 0,
        "start_time": "2023-05-20T05:44:28.027Z"
      },
      {
        "duration": 0,
        "start_time": "2023-05-20T05:44:28.029Z"
      },
      {
        "duration": 0,
        "start_time": "2023-05-20T05:44:28.030Z"
      },
      {
        "duration": 0,
        "start_time": "2023-05-20T05:44:28.031Z"
      },
      {
        "duration": 0,
        "start_time": "2023-05-20T05:44:28.032Z"
      },
      {
        "duration": 0,
        "start_time": "2023-05-20T05:44:28.033Z"
      },
      {
        "duration": 0,
        "start_time": "2023-05-20T05:44:28.034Z"
      },
      {
        "duration": 0,
        "start_time": "2023-05-20T05:44:28.035Z"
      },
      {
        "duration": 0,
        "start_time": "2023-05-20T05:44:28.037Z"
      },
      {
        "duration": 0,
        "start_time": "2023-05-20T05:44:28.038Z"
      },
      {
        "duration": 0,
        "start_time": "2023-05-20T05:44:28.039Z"
      },
      {
        "duration": 0,
        "start_time": "2023-05-20T05:44:28.040Z"
      },
      {
        "duration": 0,
        "start_time": "2023-05-20T05:44:28.041Z"
      },
      {
        "duration": 0,
        "start_time": "2023-05-20T05:44:28.042Z"
      },
      {
        "duration": 0,
        "start_time": "2023-05-20T05:44:28.044Z"
      },
      {
        "duration": 0,
        "start_time": "2023-05-20T05:44:28.045Z"
      },
      {
        "duration": 0,
        "start_time": "2023-05-20T05:44:28.046Z"
      },
      {
        "duration": 0,
        "start_time": "2023-05-20T05:44:28.047Z"
      },
      {
        "duration": 0,
        "start_time": "2023-05-20T05:44:28.048Z"
      },
      {
        "duration": 0,
        "start_time": "2023-05-20T05:44:28.049Z"
      },
      {
        "duration": 0,
        "start_time": "2023-05-20T05:44:28.050Z"
      },
      {
        "duration": 790,
        "start_time": "2023-05-20T05:46:36.090Z"
      },
      {
        "duration": 1561,
        "start_time": "2023-05-20T05:47:08.124Z"
      },
      {
        "duration": 882,
        "start_time": "2023-05-20T05:47:09.686Z"
      },
      {
        "duration": 436,
        "start_time": "2023-05-20T05:47:10.570Z"
      },
      {
        "duration": 4,
        "start_time": "2023-05-20T05:47:11.015Z"
      },
      {
        "duration": 9,
        "start_time": "2023-05-20T05:47:11.021Z"
      },
      {
        "duration": 40,
        "start_time": "2023-05-20T05:47:11.031Z"
      },
      {
        "duration": 59,
        "start_time": "2023-05-20T05:47:11.073Z"
      },
      {
        "duration": 23,
        "start_time": "2023-05-20T05:47:11.134Z"
      },
      {
        "duration": 26,
        "start_time": "2023-05-20T05:47:11.159Z"
      },
      {
        "duration": 35,
        "start_time": "2023-05-20T05:47:11.190Z"
      },
      {
        "duration": 35,
        "start_time": "2023-05-20T05:47:11.229Z"
      },
      {
        "duration": 72,
        "start_time": "2023-05-20T05:47:11.266Z"
      },
      {
        "duration": 51,
        "start_time": "2023-05-20T05:47:11.340Z"
      },
      {
        "duration": 36,
        "start_time": "2023-05-20T05:47:11.394Z"
      },
      {
        "duration": 45,
        "start_time": "2023-05-20T05:47:11.432Z"
      },
      {
        "duration": 55,
        "start_time": "2023-05-20T05:47:11.479Z"
      },
      {
        "duration": 50,
        "start_time": "2023-05-20T05:47:11.536Z"
      },
      {
        "duration": 40,
        "start_time": "2023-05-20T05:47:11.588Z"
      },
      {
        "duration": 34,
        "start_time": "2023-05-20T05:47:11.630Z"
      },
      {
        "duration": 298,
        "start_time": "2023-05-20T05:47:11.665Z"
      },
      {
        "duration": 282,
        "start_time": "2023-05-20T05:47:11.965Z"
      },
      {
        "duration": 390,
        "start_time": "2023-05-20T05:47:12.249Z"
      },
      {
        "duration": 628,
        "start_time": "2023-05-20T05:47:12.641Z"
      },
      {
        "duration": 237,
        "start_time": "2023-05-20T05:47:13.271Z"
      },
      {
        "duration": 188,
        "start_time": "2023-05-20T05:47:13.509Z"
      },
      {
        "duration": 5,
        "start_time": "2023-05-20T05:47:13.698Z"
      },
      {
        "duration": 26,
        "start_time": "2023-05-20T05:47:13.705Z"
      },
      {
        "duration": 423,
        "start_time": "2023-05-20T05:47:13.734Z"
      },
      {
        "duration": 13,
        "start_time": "2023-05-20T05:47:14.159Z"
      },
      {
        "duration": 235,
        "start_time": "2023-05-20T05:47:14.174Z"
      },
      {
        "duration": 5,
        "start_time": "2023-05-20T05:47:14.414Z"
      },
      {
        "duration": 13,
        "start_time": "2023-05-20T05:47:14.421Z"
      },
      {
        "duration": 18,
        "start_time": "2023-05-20T05:47:14.436Z"
      },
      {
        "duration": 26,
        "start_time": "2023-05-20T05:47:14.456Z"
      },
      {
        "duration": 1528,
        "start_time": "2023-05-20T05:47:14.484Z"
      },
      {
        "duration": 8,
        "start_time": "2023-05-20T05:47:16.014Z"
      },
      {
        "duration": 3482,
        "start_time": "2023-05-20T05:47:16.024Z"
      },
      {
        "duration": 5569,
        "start_time": "2023-05-20T05:47:19.511Z"
      },
      {
        "duration": 4795,
        "start_time": "2023-05-20T05:47:25.082Z"
      },
      {
        "duration": 2,
        "start_time": "2023-05-20T05:47:29.879Z"
      },
      {
        "duration": 31,
        "start_time": "2023-05-20T05:47:29.883Z"
      },
      {
        "duration": 16,
        "start_time": "2023-05-20T05:47:29.916Z"
      },
      {
        "duration": 121,
        "start_time": "2023-05-20T05:47:29.933Z"
      },
      {
        "duration": 0,
        "start_time": "2023-05-20T05:47:30.056Z"
      },
      {
        "duration": 0,
        "start_time": "2023-05-20T05:47:30.058Z"
      },
      {
        "duration": 0,
        "start_time": "2023-05-20T05:47:30.059Z"
      },
      {
        "duration": 0,
        "start_time": "2023-05-20T05:47:30.062Z"
      },
      {
        "duration": 0,
        "start_time": "2023-05-20T05:47:30.063Z"
      },
      {
        "duration": 0,
        "start_time": "2023-05-20T05:47:30.064Z"
      },
      {
        "duration": 0,
        "start_time": "2023-05-20T05:47:30.066Z"
      },
      {
        "duration": 0,
        "start_time": "2023-05-20T05:47:30.067Z"
      },
      {
        "duration": 1,
        "start_time": "2023-05-20T05:47:30.068Z"
      },
      {
        "duration": 9,
        "start_time": "2023-05-20T05:48:06.571Z"
      },
      {
        "duration": 5,
        "start_time": "2023-05-20T05:48:20.464Z"
      },
      {
        "duration": 3,
        "start_time": "2023-05-20T05:48:21.785Z"
      },
      {
        "duration": 4,
        "start_time": "2023-05-20T05:48:22.528Z"
      },
      {
        "duration": 11,
        "start_time": "2023-05-20T05:48:24.155Z"
      },
      {
        "duration": 10,
        "start_time": "2023-05-20T05:48:25.725Z"
      },
      {
        "duration": 1474,
        "start_time": "2023-05-20T06:15:17.104Z"
      },
      {
        "duration": 696,
        "start_time": "2023-05-20T06:15:18.580Z"
      },
      {
        "duration": 348,
        "start_time": "2023-05-20T06:15:19.278Z"
      },
      {
        "duration": 3,
        "start_time": "2023-05-20T06:15:19.628Z"
      },
      {
        "duration": 8,
        "start_time": "2023-05-20T06:15:19.633Z"
      },
      {
        "duration": 3,
        "start_time": "2023-05-20T06:15:19.642Z"
      },
      {
        "duration": 6,
        "start_time": "2023-05-20T06:15:19.647Z"
      },
      {
        "duration": 4,
        "start_time": "2023-05-20T06:15:19.655Z"
      },
      {
        "duration": 45,
        "start_time": "2023-05-20T06:15:19.661Z"
      },
      {
        "duration": 6,
        "start_time": "2023-05-20T06:15:19.710Z"
      },
      {
        "duration": 7,
        "start_time": "2023-05-20T06:15:19.717Z"
      },
      {
        "duration": 12,
        "start_time": "2023-05-20T06:15:19.725Z"
      },
      {
        "duration": 13,
        "start_time": "2023-05-20T06:15:19.739Z"
      },
      {
        "duration": 3,
        "start_time": "2023-05-20T06:15:19.754Z"
      },
      {
        "duration": 41,
        "start_time": "2023-05-20T06:15:19.759Z"
      },
      {
        "duration": 6,
        "start_time": "2023-05-20T06:15:19.801Z"
      },
      {
        "duration": 9,
        "start_time": "2023-05-20T06:15:19.808Z"
      },
      {
        "duration": 9,
        "start_time": "2023-05-20T06:15:19.818Z"
      },
      {
        "duration": 5,
        "start_time": "2023-05-20T06:15:19.828Z"
      },
      {
        "duration": 255,
        "start_time": "2023-05-20T06:15:19.835Z"
      },
      {
        "duration": 237,
        "start_time": "2023-05-20T06:15:20.095Z"
      },
      {
        "duration": 337,
        "start_time": "2023-05-20T06:15:20.334Z"
      },
      {
        "duration": 629,
        "start_time": "2023-05-20T06:15:20.673Z"
      },
      {
        "duration": 171,
        "start_time": "2023-05-20T06:15:21.303Z"
      },
      {
        "duration": 184,
        "start_time": "2023-05-20T06:15:21.475Z"
      },
      {
        "duration": 2,
        "start_time": "2023-05-20T06:15:21.660Z"
      },
      {
        "duration": 32,
        "start_time": "2023-05-20T06:15:21.664Z"
      },
      {
        "duration": 447,
        "start_time": "2023-05-20T06:15:21.699Z"
      },
      {
        "duration": 11,
        "start_time": "2023-05-20T06:15:22.148Z"
      },
      {
        "duration": 204,
        "start_time": "2023-05-20T06:15:22.160Z"
      },
      {
        "duration": 3,
        "start_time": "2023-05-20T06:15:22.365Z"
      },
      {
        "duration": 7,
        "start_time": "2023-05-20T06:15:22.370Z"
      },
      {
        "duration": 17,
        "start_time": "2023-05-20T06:15:22.378Z"
      },
      {
        "duration": 18,
        "start_time": "2023-05-20T06:15:22.396Z"
      },
      {
        "duration": 1271,
        "start_time": "2023-05-20T06:15:22.415Z"
      },
      {
        "duration": 12,
        "start_time": "2023-05-20T06:15:23.687Z"
      },
      {
        "duration": 1404,
        "start_time": "2023-05-20T06:15:23.700Z"
      },
      {
        "duration": 5288,
        "start_time": "2023-05-20T06:15:25.106Z"
      },
      {
        "duration": 5833,
        "start_time": "2023-05-20T06:15:30.396Z"
      },
      {
        "duration": 2,
        "start_time": "2023-05-20T06:15:36.231Z"
      },
      {
        "duration": 9,
        "start_time": "2023-05-20T06:15:36.234Z"
      },
      {
        "duration": 110,
        "start_time": "2023-05-20T06:15:36.244Z"
      },
      {
        "duration": 0,
        "start_time": "2023-05-20T06:15:36.355Z"
      },
      {
        "duration": 0,
        "start_time": "2023-05-20T06:15:36.356Z"
      },
      {
        "duration": 0,
        "start_time": "2023-05-20T06:15:36.358Z"
      },
      {
        "duration": 0,
        "start_time": "2023-05-20T06:15:36.359Z"
      },
      {
        "duration": 0,
        "start_time": "2023-05-20T06:15:36.360Z"
      },
      {
        "duration": 0,
        "start_time": "2023-05-20T06:15:36.361Z"
      },
      {
        "duration": 0,
        "start_time": "2023-05-20T06:15:36.362Z"
      },
      {
        "duration": 0,
        "start_time": "2023-05-20T06:15:36.363Z"
      },
      {
        "duration": 0,
        "start_time": "2023-05-20T06:15:36.364Z"
      },
      {
        "duration": 11,
        "start_time": "2023-05-20T06:16:42.618Z"
      },
      {
        "duration": 95,
        "start_time": "2023-05-20T06:58:54.851Z"
      },
      {
        "duration": 103,
        "start_time": "2023-05-20T06:59:17.772Z"
      },
      {
        "duration": 94,
        "start_time": "2023-05-20T07:00:53.228Z"
      },
      {
        "duration": 2,
        "start_time": "2023-05-20T07:10:36.023Z"
      },
      {
        "duration": 3,
        "start_time": "2023-05-20T07:10:38.515Z"
      },
      {
        "duration": 1447,
        "start_time": "2023-05-20T07:12:25.655Z"
      },
      {
        "duration": 733,
        "start_time": "2023-05-20T07:12:27.104Z"
      },
      {
        "duration": 345,
        "start_time": "2023-05-20T07:12:27.839Z"
      },
      {
        "duration": 13,
        "start_time": "2023-05-20T07:12:28.185Z"
      },
      {
        "duration": 21,
        "start_time": "2023-05-20T07:12:28.200Z"
      },
      {
        "duration": 16,
        "start_time": "2023-05-20T07:12:28.222Z"
      },
      {
        "duration": 21,
        "start_time": "2023-05-20T07:12:28.240Z"
      },
      {
        "duration": 8,
        "start_time": "2023-05-20T07:12:28.263Z"
      },
      {
        "duration": 38,
        "start_time": "2023-05-20T07:12:28.272Z"
      },
      {
        "duration": 11,
        "start_time": "2023-05-20T07:12:28.313Z"
      },
      {
        "duration": 6,
        "start_time": "2023-05-20T07:12:28.325Z"
      },
      {
        "duration": 12,
        "start_time": "2023-05-20T07:12:28.333Z"
      },
      {
        "duration": 13,
        "start_time": "2023-05-20T07:12:28.347Z"
      },
      {
        "duration": 5,
        "start_time": "2023-05-20T07:12:28.363Z"
      },
      {
        "duration": 35,
        "start_time": "2023-05-20T07:12:28.370Z"
      },
      {
        "duration": 6,
        "start_time": "2023-05-20T07:12:28.408Z"
      },
      {
        "duration": 12,
        "start_time": "2023-05-20T07:12:28.415Z"
      },
      {
        "duration": 9,
        "start_time": "2023-05-20T07:12:28.428Z"
      },
      {
        "duration": 11,
        "start_time": "2023-05-20T07:12:28.438Z"
      },
      {
        "duration": 264,
        "start_time": "2023-05-20T07:12:28.450Z"
      },
      {
        "duration": 244,
        "start_time": "2023-05-20T07:12:28.715Z"
      },
      {
        "duration": 332,
        "start_time": "2023-05-20T07:12:28.961Z"
      },
      {
        "duration": 611,
        "start_time": "2023-05-20T07:12:29.294Z"
      },
      {
        "duration": 203,
        "start_time": "2023-05-20T07:12:29.908Z"
      },
      {
        "duration": 200,
        "start_time": "2023-05-20T07:12:30.113Z"
      },
      {
        "duration": 3,
        "start_time": "2023-05-20T07:12:30.314Z"
      },
      {
        "duration": 37,
        "start_time": "2023-05-20T07:12:30.318Z"
      },
      {
        "duration": 509,
        "start_time": "2023-05-20T07:12:30.357Z"
      },
      {
        "duration": 14,
        "start_time": "2023-05-20T07:12:30.868Z"
      },
      {
        "duration": 228,
        "start_time": "2023-05-20T07:12:30.896Z"
      },
      {
        "duration": 2,
        "start_time": "2023-05-20T07:12:31.126Z"
      },
      {
        "duration": 56,
        "start_time": "2023-05-20T07:12:31.130Z"
      },
      {
        "duration": 42,
        "start_time": "2023-05-20T07:12:31.188Z"
      },
      {
        "duration": 66,
        "start_time": "2023-05-20T07:12:31.232Z"
      },
      {
        "duration": 1375,
        "start_time": "2023-05-20T07:12:31.302Z"
      },
      {
        "duration": 8,
        "start_time": "2023-05-20T07:12:32.678Z"
      },
      {
        "duration": 2017,
        "start_time": "2023-05-20T07:12:32.694Z"
      },
      {
        "duration": 5332,
        "start_time": "2023-05-20T07:12:34.713Z"
      },
      {
        "duration": 6506,
        "start_time": "2023-05-20T07:12:40.046Z"
      },
      {
        "duration": 118,
        "start_time": "2023-05-20T07:12:46.554Z"
      },
      {
        "duration": 0,
        "start_time": "2023-05-20T07:12:46.675Z"
      },
      {
        "duration": 0,
        "start_time": "2023-05-20T07:12:46.676Z"
      },
      {
        "duration": 0,
        "start_time": "2023-05-20T07:12:46.678Z"
      },
      {
        "duration": 0,
        "start_time": "2023-05-20T07:12:46.679Z"
      },
      {
        "duration": 0,
        "start_time": "2023-05-20T07:12:46.680Z"
      },
      {
        "duration": 0,
        "start_time": "2023-05-20T07:12:46.681Z"
      },
      {
        "duration": 0,
        "start_time": "2023-05-20T07:12:46.683Z"
      },
      {
        "duration": 0,
        "start_time": "2023-05-20T07:12:46.684Z"
      },
      {
        "duration": 0,
        "start_time": "2023-05-20T07:12:46.685Z"
      },
      {
        "duration": 0,
        "start_time": "2023-05-20T07:12:46.687Z"
      },
      {
        "duration": 0,
        "start_time": "2023-05-20T07:12:46.688Z"
      },
      {
        "duration": 0,
        "start_time": "2023-05-20T07:12:46.690Z"
      },
      {
        "duration": 2,
        "start_time": "2023-05-20T07:13:01.854Z"
      },
      {
        "duration": 5,
        "start_time": "2023-05-20T07:13:02.593Z"
      },
      {
        "duration": 1635,
        "start_time": "2023-05-20T07:23:02.017Z"
      },
      {
        "duration": 1007,
        "start_time": "2023-05-20T07:23:03.654Z"
      },
      {
        "duration": 423,
        "start_time": "2023-05-20T07:23:04.663Z"
      },
      {
        "duration": 10,
        "start_time": "2023-05-20T07:23:05.088Z"
      },
      {
        "duration": 17,
        "start_time": "2023-05-20T07:23:05.103Z"
      },
      {
        "duration": 8,
        "start_time": "2023-05-20T07:23:05.122Z"
      },
      {
        "duration": 9,
        "start_time": "2023-05-20T07:23:05.132Z"
      },
      {
        "duration": 5,
        "start_time": "2023-05-20T07:23:05.142Z"
      },
      {
        "duration": 28,
        "start_time": "2023-05-20T07:23:05.148Z"
      },
      {
        "duration": 69,
        "start_time": "2023-05-20T07:23:05.177Z"
      },
      {
        "duration": 36,
        "start_time": "2023-05-20T07:23:05.248Z"
      },
      {
        "duration": 41,
        "start_time": "2023-05-20T07:23:05.285Z"
      },
      {
        "duration": 41,
        "start_time": "2023-05-20T07:23:05.327Z"
      },
      {
        "duration": 3,
        "start_time": "2023-05-20T07:23:05.371Z"
      },
      {
        "duration": 18,
        "start_time": "2023-05-20T07:23:05.375Z"
      },
      {
        "duration": 7,
        "start_time": "2023-05-20T07:23:05.396Z"
      },
      {
        "duration": 20,
        "start_time": "2023-05-20T07:23:05.405Z"
      },
      {
        "duration": 8,
        "start_time": "2023-05-20T07:23:05.427Z"
      },
      {
        "duration": 19,
        "start_time": "2023-05-20T07:23:05.436Z"
      },
      {
        "duration": 272,
        "start_time": "2023-05-20T07:23:05.457Z"
      },
      {
        "duration": 256,
        "start_time": "2023-05-20T07:23:05.730Z"
      },
      {
        "duration": 343,
        "start_time": "2023-05-20T07:23:05.987Z"
      },
      {
        "duration": 641,
        "start_time": "2023-05-20T07:23:06.332Z"
      },
      {
        "duration": 193,
        "start_time": "2023-05-20T07:23:06.974Z"
      },
      {
        "duration": 190,
        "start_time": "2023-05-20T07:23:07.168Z"
      },
      {
        "duration": 2,
        "start_time": "2023-05-20T07:23:07.360Z"
      },
      {
        "duration": 5,
        "start_time": "2023-05-20T07:23:07.364Z"
      },
      {
        "duration": 392,
        "start_time": "2023-05-20T07:23:07.371Z"
      },
      {
        "duration": 12,
        "start_time": "2023-05-20T07:23:07.764Z"
      },
      {
        "duration": 232,
        "start_time": "2023-05-20T07:23:07.778Z"
      },
      {
        "duration": 4,
        "start_time": "2023-05-20T07:23:08.014Z"
      },
      {
        "duration": 10,
        "start_time": "2023-05-20T07:23:08.019Z"
      },
      {
        "duration": 10,
        "start_time": "2023-05-20T07:23:08.031Z"
      },
      {
        "duration": 18,
        "start_time": "2023-05-20T07:23:08.043Z"
      },
      {
        "duration": 1346,
        "start_time": "2023-05-20T07:23:08.063Z"
      },
      {
        "duration": 11,
        "start_time": "2023-05-20T07:23:09.410Z"
      },
      {
        "duration": 2067,
        "start_time": "2023-05-20T07:23:09.431Z"
      },
      {
        "duration": 5673,
        "start_time": "2023-05-20T07:23:11.500Z"
      },
      {
        "duration": 7348,
        "start_time": "2023-05-20T07:23:17.175Z"
      },
      {
        "duration": 2,
        "start_time": "2023-05-20T07:23:24.525Z"
      },
      {
        "duration": 24,
        "start_time": "2023-05-20T07:23:24.531Z"
      },
      {
        "duration": 1512,
        "start_time": "2023-05-20T07:28:51.774Z"
      },
      {
        "duration": 850,
        "start_time": "2023-05-20T07:28:53.288Z"
      },
      {
        "duration": 378,
        "start_time": "2023-05-20T07:28:54.140Z"
      },
      {
        "duration": 4,
        "start_time": "2023-05-20T07:28:54.521Z"
      },
      {
        "duration": 11,
        "start_time": "2023-05-20T07:28:54.527Z"
      },
      {
        "duration": 5,
        "start_time": "2023-05-20T07:28:54.539Z"
      },
      {
        "duration": 8,
        "start_time": "2023-05-20T07:28:54.546Z"
      },
      {
        "duration": 7,
        "start_time": "2023-05-20T07:28:54.557Z"
      },
      {
        "duration": 43,
        "start_time": "2023-05-20T07:28:54.566Z"
      },
      {
        "duration": 38,
        "start_time": "2023-05-20T07:28:54.614Z"
      },
      {
        "duration": 9,
        "start_time": "2023-05-20T07:28:54.655Z"
      },
      {
        "duration": 22,
        "start_time": "2023-05-20T07:28:54.667Z"
      },
      {
        "duration": 41,
        "start_time": "2023-05-20T07:28:54.691Z"
      },
      {
        "duration": 11,
        "start_time": "2023-05-20T07:28:54.735Z"
      },
      {
        "duration": 28,
        "start_time": "2023-05-20T07:28:54.748Z"
      },
      {
        "duration": 4,
        "start_time": "2023-05-20T07:28:54.779Z"
      },
      {
        "duration": 40,
        "start_time": "2023-05-20T07:28:54.785Z"
      },
      {
        "duration": 7,
        "start_time": "2023-05-20T07:28:54.827Z"
      },
      {
        "duration": 9,
        "start_time": "2023-05-20T07:28:54.836Z"
      },
      {
        "duration": 297,
        "start_time": "2023-05-20T07:28:54.846Z"
      },
      {
        "duration": 271,
        "start_time": "2023-05-20T07:28:55.145Z"
      },
      {
        "duration": 355,
        "start_time": "2023-05-20T07:28:55.418Z"
      },
      {
        "duration": 674,
        "start_time": "2023-05-20T07:28:55.775Z"
      },
      {
        "duration": 231,
        "start_time": "2023-05-20T07:28:56.451Z"
      },
      {
        "duration": 203,
        "start_time": "2023-05-20T07:28:56.684Z"
      },
      {
        "duration": 2,
        "start_time": "2023-05-20T07:28:56.889Z"
      },
      {
        "duration": 35,
        "start_time": "2023-05-20T07:28:56.894Z"
      },
      {
        "duration": 439,
        "start_time": "2023-05-20T07:28:56.933Z"
      },
      {
        "duration": 11,
        "start_time": "2023-05-20T07:28:57.374Z"
      },
      {
        "duration": 240,
        "start_time": "2023-05-20T07:28:57.386Z"
      },
      {
        "duration": 3,
        "start_time": "2023-05-20T07:28:57.628Z"
      },
      {
        "duration": 6,
        "start_time": "2023-05-20T07:28:57.633Z"
      },
      {
        "duration": 7,
        "start_time": "2023-05-20T07:28:57.640Z"
      },
      {
        "duration": 17,
        "start_time": "2023-05-20T07:28:57.649Z"
      },
      {
        "duration": 1400,
        "start_time": "2023-05-20T07:28:57.667Z"
      },
      {
        "duration": 7,
        "start_time": "2023-05-20T07:28:59.068Z"
      },
      {
        "duration": 1918,
        "start_time": "2023-05-20T07:28:59.077Z"
      },
      {
        "duration": 5947,
        "start_time": "2023-05-20T07:29:01.010Z"
      },
      {
        "duration": 5514,
        "start_time": "2023-05-20T07:29:06.959Z"
      },
      {
        "duration": 157,
        "start_time": "2023-05-20T07:29:12.475Z"
      },
      {
        "duration": 0,
        "start_time": "2023-05-20T07:29:12.634Z"
      },
      {
        "duration": 0,
        "start_time": "2023-05-20T07:29:12.635Z"
      },
      {
        "duration": 0,
        "start_time": "2023-05-20T07:29:12.636Z"
      },
      {
        "duration": 0,
        "start_time": "2023-05-20T07:29:12.637Z"
      },
      {
        "duration": 0,
        "start_time": "2023-05-20T07:29:12.638Z"
      },
      {
        "duration": 0,
        "start_time": "2023-05-20T07:29:12.639Z"
      },
      {
        "duration": 0,
        "start_time": "2023-05-20T07:29:12.640Z"
      },
      {
        "duration": 0,
        "start_time": "2023-05-20T07:29:12.641Z"
      },
      {
        "duration": 0,
        "start_time": "2023-05-20T07:29:12.642Z"
      },
      {
        "duration": 0,
        "start_time": "2023-05-20T07:29:12.643Z"
      },
      {
        "duration": 0,
        "start_time": "2023-05-20T07:29:12.644Z"
      },
      {
        "duration": 3,
        "start_time": "2023-05-20T07:30:37.088Z"
      },
      {
        "duration": 4,
        "start_time": "2023-05-20T07:30:40.474Z"
      },
      {
        "duration": 3,
        "start_time": "2023-05-20T07:30:48.506Z"
      },
      {
        "duration": 1526,
        "start_time": "2023-05-20T07:36:44.226Z"
      },
      {
        "duration": 875,
        "start_time": "2023-05-20T07:36:45.754Z"
      },
      {
        "duration": 414,
        "start_time": "2023-05-20T07:36:46.631Z"
      },
      {
        "duration": 3,
        "start_time": "2023-05-20T07:36:47.047Z"
      },
      {
        "duration": 12,
        "start_time": "2023-05-20T07:36:47.052Z"
      },
      {
        "duration": 6,
        "start_time": "2023-05-20T07:36:47.066Z"
      },
      {
        "duration": 6,
        "start_time": "2023-05-20T07:36:47.074Z"
      },
      {
        "duration": 18,
        "start_time": "2023-05-20T07:36:47.082Z"
      },
      {
        "duration": 48,
        "start_time": "2023-05-20T07:36:47.101Z"
      },
      {
        "duration": 9,
        "start_time": "2023-05-20T07:36:47.151Z"
      },
      {
        "duration": 9,
        "start_time": "2023-05-20T07:36:47.162Z"
      },
      {
        "duration": 13,
        "start_time": "2023-05-20T07:36:47.173Z"
      },
      {
        "duration": 23,
        "start_time": "2023-05-20T07:36:47.188Z"
      },
      {
        "duration": 12,
        "start_time": "2023-05-20T07:36:47.219Z"
      },
      {
        "duration": 16,
        "start_time": "2023-05-20T07:36:47.233Z"
      },
      {
        "duration": 4,
        "start_time": "2023-05-20T07:36:47.251Z"
      },
      {
        "duration": 5,
        "start_time": "2023-05-20T07:36:47.258Z"
      },
      {
        "duration": 7,
        "start_time": "2023-05-20T07:36:47.265Z"
      },
      {
        "duration": 9,
        "start_time": "2023-05-20T07:36:47.274Z"
      },
      {
        "duration": 323,
        "start_time": "2023-05-20T07:36:47.294Z"
      },
      {
        "duration": 282,
        "start_time": "2023-05-20T07:36:47.620Z"
      },
      {
        "duration": 366,
        "start_time": "2023-05-20T07:36:47.907Z"
      },
      {
        "duration": 688,
        "start_time": "2023-05-20T07:36:48.275Z"
      },
      {
        "duration": 203,
        "start_time": "2023-05-20T07:36:48.965Z"
      },
      {
        "duration": 204,
        "start_time": "2023-05-20T07:36:49.169Z"
      },
      {
        "duration": 2,
        "start_time": "2023-05-20T07:36:49.375Z"
      },
      {
        "duration": 19,
        "start_time": "2023-05-20T07:36:49.379Z"
      },
      {
        "duration": 441,
        "start_time": "2023-05-20T07:36:49.400Z"
      },
      {
        "duration": 12,
        "start_time": "2023-05-20T07:36:49.843Z"
      },
      {
        "duration": 232,
        "start_time": "2023-05-20T07:36:49.856Z"
      },
      {
        "duration": 3,
        "start_time": "2023-05-20T07:36:50.089Z"
      },
      {
        "duration": 49,
        "start_time": "2023-05-20T07:36:50.094Z"
      },
      {
        "duration": 15,
        "start_time": "2023-05-20T07:36:50.145Z"
      },
      {
        "duration": 23,
        "start_time": "2023-05-20T07:36:50.161Z"
      },
      {
        "duration": 1503,
        "start_time": "2023-05-20T07:36:50.186Z"
      },
      {
        "duration": 13,
        "start_time": "2023-05-20T07:36:51.691Z"
      },
      {
        "duration": 2390,
        "start_time": "2023-05-20T07:36:51.705Z"
      },
      {
        "duration": 5752,
        "start_time": "2023-05-20T07:36:54.100Z"
      },
      {
        "duration": 5633,
        "start_time": "2023-05-20T07:36:59.854Z"
      },
      {
        "duration": 2,
        "start_time": "2023-05-20T07:37:05.489Z"
      },
      {
        "duration": 25,
        "start_time": "2023-05-20T07:37:05.508Z"
      },
      {
        "duration": 14,
        "start_time": "2023-05-20T07:37:05.535Z"
      },
      {
        "duration": 23,
        "start_time": "2023-05-20T07:37:05.551Z"
      },
      {
        "duration": 9,
        "start_time": "2023-05-20T07:37:05.576Z"
      },
      {
        "duration": 33,
        "start_time": "2023-05-20T07:37:05.586Z"
      },
      {
        "duration": 16,
        "start_time": "2023-05-20T07:37:05.626Z"
      },
      {
        "duration": 1426,
        "start_time": "2023-05-20T07:37:05.644Z"
      },
      {
        "duration": 7,
        "start_time": "2023-05-20T07:37:07.072Z"
      },
      {
        "duration": 39,
        "start_time": "2023-05-20T07:37:07.081Z"
      },
      {
        "duration": 17,
        "start_time": "2023-05-20T07:37:07.122Z"
      },
      {
        "duration": 13,
        "start_time": "2023-05-20T07:37:07.141Z"
      },
      {
        "duration": 17,
        "start_time": "2023-05-20T07:37:07.156Z"
      },
      {
        "duration": 2,
        "start_time": "2023-05-20T07:41:57.751Z"
      },
      {
        "duration": 2,
        "start_time": "2023-05-20T07:41:58.342Z"
      },
      {
        "duration": 3,
        "start_time": "2023-05-20T07:41:59.374Z"
      },
      {
        "duration": 4,
        "start_time": "2023-05-20T07:42:04.616Z"
      },
      {
        "duration": 1417,
        "start_time": "2023-05-20T07:42:41.205Z"
      },
      {
        "duration": 764,
        "start_time": "2023-05-20T07:42:42.623Z"
      },
      {
        "duration": 379,
        "start_time": "2023-05-20T07:42:43.388Z"
      },
      {
        "duration": 3,
        "start_time": "2023-05-20T07:42:43.770Z"
      },
      {
        "duration": 21,
        "start_time": "2023-05-20T07:42:43.775Z"
      },
      {
        "duration": 2,
        "start_time": "2023-05-20T07:42:43.797Z"
      },
      {
        "duration": 9,
        "start_time": "2023-05-20T07:42:43.802Z"
      },
      {
        "duration": 14,
        "start_time": "2023-05-20T07:42:43.813Z"
      },
      {
        "duration": 27,
        "start_time": "2023-05-20T07:42:43.828Z"
      },
      {
        "duration": 20,
        "start_time": "2023-05-20T07:42:43.856Z"
      },
      {
        "duration": 30,
        "start_time": "2023-05-20T07:42:43.878Z"
      },
      {
        "duration": 33,
        "start_time": "2023-05-20T07:42:43.910Z"
      },
      {
        "duration": 23,
        "start_time": "2023-05-20T07:42:43.944Z"
      },
      {
        "duration": 4,
        "start_time": "2023-05-20T07:42:43.969Z"
      },
      {
        "duration": 22,
        "start_time": "2023-05-20T07:42:43.975Z"
      },
      {
        "duration": 4,
        "start_time": "2023-05-20T07:42:43.998Z"
      },
      {
        "duration": 16,
        "start_time": "2023-05-20T07:42:44.003Z"
      },
      {
        "duration": 25,
        "start_time": "2023-05-20T07:42:44.020Z"
      },
      {
        "duration": 14,
        "start_time": "2023-05-20T07:42:44.046Z"
      },
      {
        "duration": 268,
        "start_time": "2023-05-20T07:42:44.062Z"
      },
      {
        "duration": 311,
        "start_time": "2023-05-20T07:42:44.332Z"
      },
      {
        "duration": 385,
        "start_time": "2023-05-20T07:42:44.645Z"
      },
      {
        "duration": 614,
        "start_time": "2023-05-20T07:42:45.031Z"
      },
      {
        "duration": 192,
        "start_time": "2023-05-20T07:42:45.647Z"
      },
      {
        "duration": 188,
        "start_time": "2023-05-20T07:42:45.840Z"
      },
      {
        "duration": 2,
        "start_time": "2023-05-20T07:42:46.030Z"
      },
      {
        "duration": 7,
        "start_time": "2023-05-20T07:42:46.034Z"
      },
      {
        "duration": 424,
        "start_time": "2023-05-20T07:42:46.043Z"
      },
      {
        "duration": 12,
        "start_time": "2023-05-20T07:42:46.468Z"
      },
      {
        "duration": 238,
        "start_time": "2023-05-20T07:42:46.482Z"
      },
      {
        "duration": 3,
        "start_time": "2023-05-20T07:42:46.722Z"
      },
      {
        "duration": 6,
        "start_time": "2023-05-20T07:42:46.727Z"
      },
      {
        "duration": 20,
        "start_time": "2023-05-20T07:42:46.734Z"
      },
      {
        "duration": 18,
        "start_time": "2023-05-20T07:42:46.756Z"
      },
      {
        "duration": 1323,
        "start_time": "2023-05-20T07:42:46.776Z"
      },
      {
        "duration": 11,
        "start_time": "2023-05-20T07:42:48.100Z"
      },
      {
        "duration": 2084,
        "start_time": "2023-05-20T07:42:48.112Z"
      },
      {
        "duration": 5162,
        "start_time": "2023-05-20T07:42:50.198Z"
      },
      {
        "duration": 4693,
        "start_time": "2023-05-20T07:42:55.361Z"
      },
      {
        "duration": 2,
        "start_time": "2023-05-20T07:43:00.057Z"
      },
      {
        "duration": 45,
        "start_time": "2023-05-20T07:43:00.064Z"
      },
      {
        "duration": 38,
        "start_time": "2023-05-20T07:43:00.111Z"
      },
      {
        "duration": 56,
        "start_time": "2023-05-20T07:43:00.151Z"
      },
      {
        "duration": 70,
        "start_time": "2023-05-20T11:27:37.158Z"
      },
      {
        "duration": 0,
        "start_time": "2023-05-20T11:27:37.232Z"
      },
      {
        "duration": 0,
        "start_time": "2023-05-20T11:27:37.235Z"
      },
      {
        "duration": 0,
        "start_time": "2023-05-20T11:27:37.236Z"
      },
      {
        "duration": 0,
        "start_time": "2023-05-20T11:27:37.237Z"
      },
      {
        "duration": 0,
        "start_time": "2023-05-20T11:27:37.237Z"
      },
      {
        "duration": 0,
        "start_time": "2023-05-20T11:27:37.238Z"
      },
      {
        "duration": 0,
        "start_time": "2023-05-20T11:27:37.239Z"
      },
      {
        "duration": 0,
        "start_time": "2023-05-20T11:27:37.240Z"
      },
      {
        "duration": 0,
        "start_time": "2023-05-20T11:27:37.244Z"
      },
      {
        "duration": 0,
        "start_time": "2023-05-20T11:27:37.245Z"
      },
      {
        "duration": 1649,
        "start_time": "2023-05-20T11:28:34.933Z"
      },
      {
        "duration": 840,
        "start_time": "2023-05-20T11:28:36.584Z"
      },
      {
        "duration": 476,
        "start_time": "2023-05-20T11:28:37.426Z"
      },
      {
        "duration": 11,
        "start_time": "2023-05-20T11:28:37.903Z"
      },
      {
        "duration": 60,
        "start_time": "2023-05-20T11:28:37.916Z"
      },
      {
        "duration": 71,
        "start_time": "2023-05-20T11:28:37.977Z"
      },
      {
        "duration": 35,
        "start_time": "2023-05-20T11:28:38.049Z"
      },
      {
        "duration": 64,
        "start_time": "2023-05-20T11:28:38.085Z"
      },
      {
        "duration": 36,
        "start_time": "2023-05-20T11:28:38.151Z"
      },
      {
        "duration": 64,
        "start_time": "2023-05-20T11:28:38.189Z"
      },
      {
        "duration": 21,
        "start_time": "2023-05-20T11:28:38.255Z"
      },
      {
        "duration": 90,
        "start_time": "2023-05-20T11:28:38.277Z"
      },
      {
        "duration": 15,
        "start_time": "2023-05-20T11:28:38.369Z"
      },
      {
        "duration": 22,
        "start_time": "2023-05-20T11:28:38.388Z"
      },
      {
        "duration": 62,
        "start_time": "2023-05-20T11:28:38.422Z"
      },
      {
        "duration": 27,
        "start_time": "2023-05-20T11:28:38.487Z"
      },
      {
        "duration": 32,
        "start_time": "2023-05-20T11:28:38.530Z"
      },
      {
        "duration": 15,
        "start_time": "2023-05-20T11:28:38.563Z"
      },
      {
        "duration": 64,
        "start_time": "2023-05-20T11:28:38.580Z"
      },
      {
        "duration": 388,
        "start_time": "2023-05-20T11:28:38.646Z"
      },
      {
        "duration": 322,
        "start_time": "2023-05-20T11:28:39.036Z"
      },
      {
        "duration": 408,
        "start_time": "2023-05-20T11:28:39.363Z"
      },
      {
        "duration": 793,
        "start_time": "2023-05-20T11:28:39.773Z"
      },
      {
        "duration": 261,
        "start_time": "2023-05-20T11:28:40.571Z"
      },
      {
        "duration": 223,
        "start_time": "2023-05-20T11:28:40.834Z"
      },
      {
        "duration": 2,
        "start_time": "2023-05-20T11:28:41.059Z"
      },
      {
        "duration": 25,
        "start_time": "2023-05-20T11:28:41.062Z"
      },
      {
        "duration": 591,
        "start_time": "2023-05-20T11:28:41.089Z"
      },
      {
        "duration": 17,
        "start_time": "2023-05-20T11:28:41.682Z"
      },
      {
        "duration": 303,
        "start_time": "2023-05-20T11:28:41.700Z"
      },
      {
        "duration": 4,
        "start_time": "2023-05-20T11:28:42.005Z"
      },
      {
        "duration": 49,
        "start_time": "2023-05-20T11:28:42.011Z"
      },
      {
        "duration": 26,
        "start_time": "2023-05-20T11:28:42.062Z"
      },
      {
        "duration": 81,
        "start_time": "2023-05-20T11:28:42.089Z"
      },
      {
        "duration": 1601,
        "start_time": "2023-05-20T11:28:42.172Z"
      },
      {
        "duration": 8,
        "start_time": "2023-05-20T11:28:43.775Z"
      },
      {
        "duration": 3442,
        "start_time": "2023-05-20T11:28:43.785Z"
      },
      {
        "duration": 6066,
        "start_time": "2023-05-20T11:28:47.239Z"
      },
      {
        "duration": 6175,
        "start_time": "2023-05-20T11:28:53.311Z"
      },
      {
        "duration": 2,
        "start_time": "2023-05-20T11:28:59.488Z"
      },
      {
        "duration": 44,
        "start_time": "2023-05-20T11:28:59.496Z"
      },
      {
        "duration": 9,
        "start_time": "2023-05-20T11:28:59.541Z"
      },
      {
        "duration": 8,
        "start_time": "2023-05-20T11:28:59.552Z"
      },
      {
        "duration": 1574,
        "start_time": "2023-05-20T11:41:01.475Z"
      },
      {
        "duration": 850,
        "start_time": "2023-05-20T11:41:03.051Z"
      },
      {
        "duration": 363,
        "start_time": "2023-05-20T11:41:03.903Z"
      },
      {
        "duration": 3,
        "start_time": "2023-05-20T11:41:04.269Z"
      },
      {
        "duration": 22,
        "start_time": "2023-05-20T11:41:04.274Z"
      },
      {
        "duration": 5,
        "start_time": "2023-05-20T11:41:04.297Z"
      },
      {
        "duration": 35,
        "start_time": "2023-05-20T11:41:04.304Z"
      },
      {
        "duration": 11,
        "start_time": "2023-05-20T11:41:04.340Z"
      },
      {
        "duration": 32,
        "start_time": "2023-05-20T11:41:04.353Z"
      },
      {
        "duration": 18,
        "start_time": "2023-05-20T11:41:04.390Z"
      },
      {
        "duration": 23,
        "start_time": "2023-05-20T11:41:04.415Z"
      },
      {
        "duration": 20,
        "start_time": "2023-05-20T11:41:04.440Z"
      },
      {
        "duration": 21,
        "start_time": "2023-05-20T11:41:04.462Z"
      },
      {
        "duration": 3,
        "start_time": "2023-05-20T11:41:04.485Z"
      },
      {
        "duration": 67,
        "start_time": "2023-05-20T11:41:04.490Z"
      },
      {
        "duration": 26,
        "start_time": "2023-05-20T11:41:04.559Z"
      },
      {
        "duration": 57,
        "start_time": "2023-05-20T11:41:04.587Z"
      },
      {
        "duration": 34,
        "start_time": "2023-05-20T11:41:04.646Z"
      },
      {
        "duration": 20,
        "start_time": "2023-05-20T11:41:04.682Z"
      },
      {
        "duration": 341,
        "start_time": "2023-05-20T11:41:04.706Z"
      },
      {
        "duration": 285,
        "start_time": "2023-05-20T11:41:05.049Z"
      },
      {
        "duration": 354,
        "start_time": "2023-05-20T11:41:05.336Z"
      },
      {
        "duration": 630,
        "start_time": "2023-05-20T11:41:05.696Z"
      },
      {
        "duration": 206,
        "start_time": "2023-05-20T11:41:06.328Z"
      },
      {
        "duration": 205,
        "start_time": "2023-05-20T11:41:06.536Z"
      },
      {
        "duration": 2,
        "start_time": "2023-05-20T11:41:06.742Z"
      },
      {
        "duration": 12,
        "start_time": "2023-05-20T11:41:06.746Z"
      },
      {
        "duration": 397,
        "start_time": "2023-05-20T11:41:06.763Z"
      },
      {
        "duration": 11,
        "start_time": "2023-05-20T11:41:07.161Z"
      },
      {
        "duration": 245,
        "start_time": "2023-05-20T11:41:07.173Z"
      },
      {
        "duration": 4,
        "start_time": "2023-05-20T11:41:07.424Z"
      },
      {
        "duration": 6,
        "start_time": "2023-05-20T11:41:07.429Z"
      },
      {
        "duration": 8,
        "start_time": "2023-05-20T11:41:07.436Z"
      },
      {
        "duration": 21,
        "start_time": "2023-05-20T11:41:07.446Z"
      },
      {
        "duration": 1388,
        "start_time": "2023-05-20T11:41:07.468Z"
      },
      {
        "duration": 8,
        "start_time": "2023-05-20T11:41:08.858Z"
      },
      {
        "duration": 2954,
        "start_time": "2023-05-20T11:41:08.867Z"
      },
      {
        "duration": 5680,
        "start_time": "2023-05-20T11:41:11.901Z"
      },
      {
        "duration": 5531,
        "start_time": "2023-05-20T11:41:17.582Z"
      },
      {
        "duration": 6,
        "start_time": "2023-05-20T11:41:23.121Z"
      },
      {
        "duration": 13,
        "start_time": "2023-05-20T11:41:23.128Z"
      },
      {
        "duration": 8,
        "start_time": "2023-05-20T11:41:23.142Z"
      },
      {
        "duration": 11,
        "start_time": "2023-05-20T11:41:23.151Z"
      },
      {
        "duration": 9,
        "start_time": "2023-05-20T11:41:23.163Z"
      },
      {
        "duration": 1447,
        "start_time": "2023-05-20T11:46:48.959Z"
      },
      {
        "duration": 860,
        "start_time": "2023-05-20T11:46:50.408Z"
      },
      {
        "duration": 401,
        "start_time": "2023-05-20T11:46:51.269Z"
      },
      {
        "duration": 2,
        "start_time": "2023-05-20T11:46:51.672Z"
      },
      {
        "duration": 10,
        "start_time": "2023-05-20T11:46:51.676Z"
      },
      {
        "duration": 4,
        "start_time": "2023-05-20T11:46:51.687Z"
      },
      {
        "duration": 47,
        "start_time": "2023-05-20T11:46:51.692Z"
      },
      {
        "duration": 19,
        "start_time": "2023-05-20T11:46:51.740Z"
      },
      {
        "duration": 30,
        "start_time": "2023-05-20T11:46:51.760Z"
      },
      {
        "duration": 48,
        "start_time": "2023-05-20T11:46:51.791Z"
      },
      {
        "duration": 16,
        "start_time": "2023-05-20T11:46:51.841Z"
      },
      {
        "duration": 15,
        "start_time": "2023-05-20T11:46:51.859Z"
      },
      {
        "duration": 14,
        "start_time": "2023-05-20T11:46:51.875Z"
      },
      {
        "duration": 11,
        "start_time": "2023-05-20T11:46:51.891Z"
      },
      {
        "duration": 40,
        "start_time": "2023-05-20T11:46:51.907Z"
      },
      {
        "duration": 5,
        "start_time": "2023-05-20T11:46:51.949Z"
      },
      {
        "duration": 9,
        "start_time": "2023-05-20T11:46:51.956Z"
      },
      {
        "duration": 5,
        "start_time": "2023-05-20T11:46:51.966Z"
      },
      {
        "duration": 11,
        "start_time": "2023-05-20T11:46:51.973Z"
      },
      {
        "duration": 317,
        "start_time": "2023-05-20T11:46:51.985Z"
      },
      {
        "duration": 306,
        "start_time": "2023-05-20T11:46:52.303Z"
      },
      {
        "duration": 379,
        "start_time": "2023-05-20T11:46:52.610Z"
      },
      {
        "duration": 715,
        "start_time": "2023-05-20T11:46:52.991Z"
      },
      {
        "duration": 220,
        "start_time": "2023-05-20T11:46:53.710Z"
      },
      {
        "duration": 205,
        "start_time": "2023-05-20T11:46:53.935Z"
      },
      {
        "duration": 3,
        "start_time": "2023-05-20T11:46:54.142Z"
      },
      {
        "duration": 6,
        "start_time": "2023-05-20T11:46:54.146Z"
      },
      {
        "duration": 541,
        "start_time": "2023-05-20T11:46:54.153Z"
      },
      {
        "duration": 19,
        "start_time": "2023-05-20T11:46:54.695Z"
      },
      {
        "duration": 274,
        "start_time": "2023-05-20T11:46:54.716Z"
      },
      {
        "duration": 10,
        "start_time": "2023-05-20T11:46:54.996Z"
      },
      {
        "duration": 32,
        "start_time": "2023-05-20T11:46:55.012Z"
      },
      {
        "duration": 29,
        "start_time": "2023-05-20T11:46:55.045Z"
      },
      {
        "duration": 31,
        "start_time": "2023-05-20T11:46:55.075Z"
      },
      {
        "duration": 1510,
        "start_time": "2023-05-20T11:46:55.108Z"
      },
      {
        "duration": 9,
        "start_time": "2023-05-20T11:46:56.626Z"
      },
      {
        "duration": 2773,
        "start_time": "2023-05-20T11:46:56.636Z"
      },
      {
        "duration": 5927,
        "start_time": "2023-05-20T11:46:59.423Z"
      },
      {
        "duration": 5904,
        "start_time": "2023-05-20T11:47:05.352Z"
      },
      {
        "duration": 3,
        "start_time": "2023-05-20T11:47:11.258Z"
      },
      {
        "duration": 8,
        "start_time": "2023-05-20T11:47:11.265Z"
      },
      {
        "duration": 7,
        "start_time": "2023-05-20T11:47:11.274Z"
      },
      {
        "duration": 38,
        "start_time": "2023-05-20T11:47:11.283Z"
      },
      {
        "duration": 16,
        "start_time": "2023-05-20T11:47:11.322Z"
      },
      {
        "duration": 5,
        "start_time": "2023-05-20T11:47:11.339Z"
      },
      {
        "duration": 126,
        "start_time": "2023-05-20T11:47:11.345Z"
      },
      {
        "duration": 0,
        "start_time": "2023-05-20T11:47:11.473Z"
      },
      {
        "duration": 0,
        "start_time": "2023-05-20T11:47:11.474Z"
      },
      {
        "duration": 0,
        "start_time": "2023-05-20T11:47:11.475Z"
      },
      {
        "duration": 0,
        "start_time": "2023-05-20T11:47:11.476Z"
      },
      {
        "duration": 0,
        "start_time": "2023-05-20T11:47:11.476Z"
      },
      {
        "duration": 0,
        "start_time": "2023-05-20T11:47:11.477Z"
      },
      {
        "duration": 0,
        "start_time": "2023-05-20T11:47:11.478Z"
      },
      {
        "duration": 0,
        "start_time": "2023-05-20T11:47:11.479Z"
      },
      {
        "duration": 4,
        "start_time": "2023-05-20T11:50:41.844Z"
      },
      {
        "duration": 3,
        "start_time": "2023-05-20T11:50:46.748Z"
      },
      {
        "duration": 3,
        "start_time": "2023-05-20T11:50:57.743Z"
      },
      {
        "duration": 7,
        "start_time": "2023-05-20T11:50:58.216Z"
      },
      {
        "duration": 3,
        "start_time": "2023-05-20T11:50:59.030Z"
      },
      {
        "duration": 4,
        "start_time": "2023-05-20T11:51:01.146Z"
      },
      {
        "duration": 1639,
        "start_time": "2023-05-20T12:01:31.522Z"
      },
      {
        "duration": 981,
        "start_time": "2023-05-20T12:01:33.163Z"
      },
      {
        "duration": 905,
        "start_time": "2023-05-20T12:01:34.146Z"
      },
      {
        "duration": 3,
        "start_time": "2023-05-20T12:01:35.054Z"
      },
      {
        "duration": 67,
        "start_time": "2023-05-20T12:01:35.059Z"
      },
      {
        "duration": 43,
        "start_time": "2023-05-20T12:01:35.132Z"
      },
      {
        "duration": 48,
        "start_time": "2023-05-20T12:01:35.177Z"
      },
      {
        "duration": 49,
        "start_time": "2023-05-20T12:01:35.227Z"
      },
      {
        "duration": 105,
        "start_time": "2023-05-20T12:01:35.278Z"
      },
      {
        "duration": 77,
        "start_time": "2023-05-20T12:01:35.388Z"
      },
      {
        "duration": 113,
        "start_time": "2023-05-20T12:01:35.468Z"
      },
      {
        "duration": 115,
        "start_time": "2023-05-20T12:01:35.583Z"
      },
      {
        "duration": 53,
        "start_time": "2023-05-20T12:01:35.700Z"
      },
      {
        "duration": 43,
        "start_time": "2023-05-20T12:01:35.756Z"
      },
      {
        "duration": 61,
        "start_time": "2023-05-20T12:01:35.801Z"
      },
      {
        "duration": 6,
        "start_time": "2023-05-20T12:01:35.864Z"
      },
      {
        "duration": 63,
        "start_time": "2023-05-20T12:01:35.872Z"
      },
      {
        "duration": 86,
        "start_time": "2023-05-20T12:01:35.937Z"
      },
      {
        "duration": 48,
        "start_time": "2023-05-20T12:01:36.026Z"
      },
      {
        "duration": 409,
        "start_time": "2023-05-20T12:01:36.076Z"
      },
      {
        "duration": 360,
        "start_time": "2023-05-20T12:01:36.487Z"
      },
      {
        "duration": 407,
        "start_time": "2023-05-20T12:01:36.849Z"
      },
      {
        "duration": 788,
        "start_time": "2023-05-20T12:01:37.258Z"
      },
      {
        "duration": 201,
        "start_time": "2023-05-20T12:01:38.049Z"
      },
      {
        "duration": 226,
        "start_time": "2023-05-20T12:01:38.252Z"
      },
      {
        "duration": 3,
        "start_time": "2023-05-20T12:01:38.480Z"
      },
      {
        "duration": 41,
        "start_time": "2023-05-20T12:01:38.485Z"
      },
      {
        "duration": 571,
        "start_time": "2023-05-20T12:01:38.531Z"
      },
      {
        "duration": 16,
        "start_time": "2023-05-20T12:01:39.105Z"
      },
      {
        "duration": 256,
        "start_time": "2023-05-20T12:01:39.123Z"
      },
      {
        "duration": 4,
        "start_time": "2023-05-20T12:01:39.381Z"
      },
      {
        "duration": 11,
        "start_time": "2023-05-20T12:01:39.386Z"
      },
      {
        "duration": 39,
        "start_time": "2023-05-20T12:01:39.399Z"
      },
      {
        "duration": 21,
        "start_time": "2023-05-20T12:01:39.439Z"
      },
      {
        "duration": 1563,
        "start_time": "2023-05-20T12:01:39.462Z"
      },
      {
        "duration": 7,
        "start_time": "2023-05-20T12:01:41.036Z"
      },
      {
        "duration": 2553,
        "start_time": "2023-05-20T12:01:41.044Z"
      },
      {
        "duration": 6561,
        "start_time": "2023-05-20T12:01:43.606Z"
      },
      {
        "duration": 6215,
        "start_time": "2023-05-20T12:01:50.169Z"
      },
      {
        "duration": 3,
        "start_time": "2023-05-20T12:01:56.385Z"
      },
      {
        "duration": 156,
        "start_time": "2023-05-20T12:01:56.389Z"
      },
      {
        "duration": 3,
        "start_time": "2023-05-20T12:01:56.547Z"
      },
      {
        "duration": 12,
        "start_time": "2023-05-20T12:01:56.552Z"
      },
      {
        "duration": 46,
        "start_time": "2023-05-20T12:01:56.566Z"
      },
      {
        "duration": 112,
        "start_time": "2023-05-20T12:01:56.614Z"
      },
      {
        "duration": 9,
        "start_time": "2023-05-20T12:01:56.727Z"
      },
      {
        "duration": 10,
        "start_time": "2023-05-20T12:01:56.738Z"
      },
      {
        "duration": 12,
        "start_time": "2023-05-20T12:01:56.749Z"
      },
      {
        "duration": 18,
        "start_time": "2023-05-20T12:01:56.763Z"
      },
      {
        "duration": 1549,
        "start_time": "2023-05-20T12:01:56.783Z"
      },
      {
        "duration": 7,
        "start_time": "2023-05-20T12:01:58.334Z"
      },
      {
        "duration": 8,
        "start_time": "2023-05-20T12:01:58.343Z"
      },
      {
        "duration": 9,
        "start_time": "2023-05-20T12:01:58.352Z"
      },
      {
        "duration": 9,
        "start_time": "2023-05-20T12:01:58.362Z"
      },
      {
        "duration": 7,
        "start_time": "2023-05-20T12:01:58.372Z"
      },
      {
        "duration": 1600,
        "start_time": "2023-05-20T12:11:19.676Z"
      },
      {
        "duration": 924,
        "start_time": "2023-05-20T12:11:21.278Z"
      },
      {
        "duration": 379,
        "start_time": "2023-05-20T12:11:22.204Z"
      },
      {
        "duration": 3,
        "start_time": "2023-05-20T12:11:22.584Z"
      },
      {
        "duration": 54,
        "start_time": "2023-05-20T12:11:22.588Z"
      },
      {
        "duration": 4,
        "start_time": "2023-05-20T12:11:22.644Z"
      },
      {
        "duration": 6,
        "start_time": "2023-05-20T12:11:22.650Z"
      },
      {
        "duration": 4,
        "start_time": "2023-05-20T12:11:22.658Z"
      },
      {
        "duration": 30,
        "start_time": "2023-05-20T12:11:22.664Z"
      },
      {
        "duration": 11,
        "start_time": "2023-05-20T12:11:22.698Z"
      },
      {
        "duration": 35,
        "start_time": "2023-05-20T12:11:22.713Z"
      },
      {
        "duration": 13,
        "start_time": "2023-05-20T12:11:22.750Z"
      },
      {
        "duration": 14,
        "start_time": "2023-05-20T12:11:22.766Z"
      },
      {
        "duration": 4,
        "start_time": "2023-05-20T12:11:22.782Z"
      },
      {
        "duration": 24,
        "start_time": "2023-05-20T12:11:22.788Z"
      },
      {
        "duration": 27,
        "start_time": "2023-05-20T12:11:22.814Z"
      },
      {
        "duration": 6,
        "start_time": "2023-05-20T12:11:22.842Z"
      },
      {
        "duration": 5,
        "start_time": "2023-05-20T12:11:22.850Z"
      },
      {
        "duration": 6,
        "start_time": "2023-05-20T12:11:22.856Z"
      },
      {
        "duration": 315,
        "start_time": "2023-05-20T12:11:22.863Z"
      },
      {
        "duration": 276,
        "start_time": "2023-05-20T12:11:23.180Z"
      },
      {
        "duration": 387,
        "start_time": "2023-05-20T12:11:23.458Z"
      },
      {
        "duration": 669,
        "start_time": "2023-05-20T12:11:23.846Z"
      },
      {
        "duration": 223,
        "start_time": "2023-05-20T12:11:24.519Z"
      },
      {
        "duration": 267,
        "start_time": "2023-05-20T12:11:24.744Z"
      },
      {
        "duration": 3,
        "start_time": "2023-05-20T12:11:25.013Z"
      },
      {
        "duration": 26,
        "start_time": "2023-05-20T12:11:25.018Z"
      },
      {
        "duration": 447,
        "start_time": "2023-05-20T12:11:25.045Z"
      },
      {
        "duration": 18,
        "start_time": "2023-05-20T12:11:25.494Z"
      },
      {
        "duration": 270,
        "start_time": "2023-05-20T12:11:25.514Z"
      },
      {
        "duration": 3,
        "start_time": "2023-05-20T12:11:25.785Z"
      },
      {
        "duration": 59,
        "start_time": "2023-05-20T12:11:25.789Z"
      },
      {
        "duration": 49,
        "start_time": "2023-05-20T12:11:25.850Z"
      },
      {
        "duration": 59,
        "start_time": "2023-05-20T12:11:25.901Z"
      },
      {
        "duration": 1489,
        "start_time": "2023-05-20T12:11:25.961Z"
      },
      {
        "duration": 12,
        "start_time": "2023-05-20T12:11:27.451Z"
      },
      {
        "duration": 1862,
        "start_time": "2023-05-20T12:11:27.470Z"
      },
      {
        "duration": 6246,
        "start_time": "2023-05-20T12:11:29.336Z"
      },
      {
        "duration": 7097,
        "start_time": "2023-05-20T12:11:35.584Z"
      },
      {
        "duration": 3,
        "start_time": "2023-05-20T12:11:42.685Z"
      },
      {
        "duration": 133,
        "start_time": "2023-05-20T12:11:42.690Z"
      },
      {
        "duration": 6,
        "start_time": "2023-05-20T12:11:42.825Z"
      },
      {
        "duration": 10,
        "start_time": "2023-05-20T12:11:42.833Z"
      },
      {
        "duration": 192,
        "start_time": "2023-05-20T12:11:42.845Z"
      },
      {
        "duration": 0,
        "start_time": "2023-05-20T12:11:43.039Z"
      },
      {
        "duration": 0,
        "start_time": "2023-05-20T12:11:43.040Z"
      },
      {
        "duration": 0,
        "start_time": "2023-05-20T12:11:43.042Z"
      },
      {
        "duration": 0,
        "start_time": "2023-05-20T12:11:43.043Z"
      },
      {
        "duration": 0,
        "start_time": "2023-05-20T12:11:43.045Z"
      },
      {
        "duration": 0,
        "start_time": "2023-05-20T12:11:43.046Z"
      },
      {
        "duration": 0,
        "start_time": "2023-05-20T12:11:43.047Z"
      },
      {
        "duration": 0,
        "start_time": "2023-05-20T12:11:43.048Z"
      },
      {
        "duration": 0,
        "start_time": "2023-05-20T12:11:43.049Z"
      },
      {
        "duration": 0,
        "start_time": "2023-05-20T12:11:43.050Z"
      },
      {
        "duration": 0,
        "start_time": "2023-05-20T12:11:43.051Z"
      },
      {
        "duration": 3,
        "start_time": "2023-05-20T12:13:55.744Z"
      },
      {
        "duration": 4,
        "start_time": "2023-05-20T12:14:03.822Z"
      },
      {
        "duration": 5,
        "start_time": "2023-05-20T12:14:06.843Z"
      },
      {
        "duration": 1489,
        "start_time": "2023-05-20T12:17:04.728Z"
      },
      {
        "duration": 896,
        "start_time": "2023-05-20T12:17:06.219Z"
      },
      {
        "duration": 395,
        "start_time": "2023-05-20T12:17:07.117Z"
      },
      {
        "duration": 3,
        "start_time": "2023-05-20T12:17:07.515Z"
      },
      {
        "duration": 20,
        "start_time": "2023-05-20T12:17:07.526Z"
      },
      {
        "duration": 11,
        "start_time": "2023-05-20T12:17:07.547Z"
      },
      {
        "duration": 9,
        "start_time": "2023-05-20T12:17:07.559Z"
      },
      {
        "duration": 9,
        "start_time": "2023-05-20T12:17:07.569Z"
      },
      {
        "duration": 30,
        "start_time": "2023-05-20T12:17:07.580Z"
      },
      {
        "duration": 28,
        "start_time": "2023-05-20T12:17:07.615Z"
      },
      {
        "duration": 6,
        "start_time": "2023-05-20T12:17:07.645Z"
      },
      {
        "duration": 16,
        "start_time": "2023-05-20T12:17:07.652Z"
      },
      {
        "duration": 14,
        "start_time": "2023-05-20T12:17:07.669Z"
      },
      {
        "duration": 3,
        "start_time": "2023-05-20T12:17:07.685Z"
      },
      {
        "duration": 51,
        "start_time": "2023-05-20T12:17:07.689Z"
      },
      {
        "duration": 4,
        "start_time": "2023-05-20T12:17:07.741Z"
      },
      {
        "duration": 10,
        "start_time": "2023-05-20T12:17:07.746Z"
      },
      {
        "duration": 7,
        "start_time": "2023-05-20T12:17:07.757Z"
      },
      {
        "duration": 6,
        "start_time": "2023-05-20T12:17:07.765Z"
      },
      {
        "duration": 290,
        "start_time": "2023-05-20T12:17:07.772Z"
      },
      {
        "duration": 322,
        "start_time": "2023-05-20T12:17:08.064Z"
      },
      {
        "duration": 400,
        "start_time": "2023-05-20T12:17:08.398Z"
      },
      {
        "duration": 737,
        "start_time": "2023-05-20T12:17:08.800Z"
      },
      {
        "duration": 218,
        "start_time": "2023-05-20T12:17:09.540Z"
      },
      {
        "duration": 244,
        "start_time": "2023-05-20T12:17:09.760Z"
      },
      {
        "duration": 4,
        "start_time": "2023-05-20T12:17:10.005Z"
      },
      {
        "duration": 49,
        "start_time": "2023-05-20T12:17:10.011Z"
      },
      {
        "duration": 438,
        "start_time": "2023-05-20T12:17:10.063Z"
      },
      {
        "duration": 26,
        "start_time": "2023-05-20T12:17:10.503Z"
      },
      {
        "duration": 287,
        "start_time": "2023-05-20T12:17:10.531Z"
      },
      {
        "duration": 9,
        "start_time": "2023-05-20T12:17:10.820Z"
      },
      {
        "duration": 31,
        "start_time": "2023-05-20T12:17:10.831Z"
      },
      {
        "duration": 19,
        "start_time": "2023-05-20T12:17:10.863Z"
      },
      {
        "duration": 38,
        "start_time": "2023-05-20T12:17:10.884Z"
      },
      {
        "duration": 1714,
        "start_time": "2023-05-20T12:17:10.923Z"
      },
      {
        "duration": 12,
        "start_time": "2023-05-20T12:17:12.639Z"
      },
      {
        "duration": 2694,
        "start_time": "2023-05-20T12:17:12.652Z"
      },
      {
        "duration": 6766,
        "start_time": "2023-05-20T12:17:15.348Z"
      },
      {
        "duration": 7523,
        "start_time": "2023-05-20T12:17:22.117Z"
      },
      {
        "duration": 2,
        "start_time": "2023-05-20T12:17:29.641Z"
      },
      {
        "duration": 96,
        "start_time": "2023-05-20T12:17:29.645Z"
      },
      {
        "duration": 3,
        "start_time": "2023-05-20T12:17:29.743Z"
      },
      {
        "duration": 9,
        "start_time": "2023-05-20T12:17:29.747Z"
      },
      {
        "duration": 6,
        "start_time": "2023-05-20T12:17:29.757Z"
      },
      {
        "duration": 7,
        "start_time": "2023-05-20T12:17:29.765Z"
      },
      {
        "duration": 7,
        "start_time": "2023-05-20T12:17:29.774Z"
      },
      {
        "duration": 6,
        "start_time": "2023-05-20T12:17:29.782Z"
      },
      {
        "duration": 7,
        "start_time": "2023-05-20T12:17:29.790Z"
      },
      {
        "duration": 59,
        "start_time": "2023-05-20T12:17:29.799Z"
      },
      {
        "duration": 2108,
        "start_time": "2023-05-20T12:17:29.860Z"
      },
      {
        "duration": 7,
        "start_time": "2023-05-20T12:17:31.969Z"
      },
      {
        "duration": 73,
        "start_time": "2023-05-20T12:17:31.978Z"
      },
      {
        "duration": 28,
        "start_time": "2023-05-20T12:17:32.053Z"
      },
      {
        "duration": 88,
        "start_time": "2023-05-20T12:17:32.083Z"
      },
      {
        "duration": 46,
        "start_time": "2023-05-20T12:17:32.173Z"
      },
      {
        "duration": 3,
        "start_time": "2023-05-20T12:18:30.870Z"
      },
      {
        "duration": 7,
        "start_time": "2023-05-20T12:20:07.310Z"
      },
      {
        "duration": 86,
        "start_time": "2023-05-20T12:20:07.324Z"
      },
      {
        "duration": 0,
        "start_time": "2023-05-20T12:20:07.419Z"
      },
      {
        "duration": 0,
        "start_time": "2023-05-20T12:20:07.420Z"
      },
      {
        "duration": 0,
        "start_time": "2023-05-20T12:20:07.422Z"
      },
      {
        "duration": 0,
        "start_time": "2023-05-20T12:20:07.424Z"
      },
      {
        "duration": 0,
        "start_time": "2023-05-20T12:20:07.430Z"
      },
      {
        "duration": 0,
        "start_time": "2023-05-20T12:20:07.431Z"
      },
      {
        "duration": 0,
        "start_time": "2023-05-20T12:20:07.432Z"
      },
      {
        "duration": 0,
        "start_time": "2023-05-20T12:20:07.433Z"
      },
      {
        "duration": 0,
        "start_time": "2023-05-20T12:20:07.435Z"
      },
      {
        "duration": 0,
        "start_time": "2023-05-20T12:20:07.436Z"
      },
      {
        "duration": 0,
        "start_time": "2023-05-20T12:20:07.438Z"
      },
      {
        "duration": 0,
        "start_time": "2023-05-20T12:20:07.443Z"
      },
      {
        "duration": 0,
        "start_time": "2023-05-20T12:20:07.444Z"
      },
      {
        "duration": 0,
        "start_time": "2023-05-20T12:20:07.446Z"
      },
      {
        "duration": 0,
        "start_time": "2023-05-20T12:20:07.448Z"
      },
      {
        "duration": 0,
        "start_time": "2023-05-20T12:20:07.450Z"
      },
      {
        "duration": 0,
        "start_time": "2023-05-20T12:20:07.451Z"
      },
      {
        "duration": 10,
        "start_time": "2023-05-20T12:20:07.453Z"
      },
      {
        "duration": 0,
        "start_time": "2023-05-20T12:20:07.465Z"
      },
      {
        "duration": 0,
        "start_time": "2023-05-20T12:20:07.467Z"
      },
      {
        "duration": 0,
        "start_time": "2023-05-20T12:20:07.468Z"
      },
      {
        "duration": 0,
        "start_time": "2023-05-20T12:20:07.469Z"
      },
      {
        "duration": 0,
        "start_time": "2023-05-20T12:20:07.470Z"
      },
      {
        "duration": 0,
        "start_time": "2023-05-20T12:20:07.503Z"
      },
      {
        "duration": 0,
        "start_time": "2023-05-20T12:20:07.504Z"
      },
      {
        "duration": 0,
        "start_time": "2023-05-20T12:20:07.511Z"
      },
      {
        "duration": 0,
        "start_time": "2023-05-20T12:20:07.511Z"
      },
      {
        "duration": 0,
        "start_time": "2023-05-20T12:20:07.512Z"
      },
      {
        "duration": 53,
        "start_time": "2023-05-20T12:20:07.518Z"
      },
      {
        "duration": 0,
        "start_time": "2023-05-20T12:20:07.573Z"
      },
      {
        "duration": 0,
        "start_time": "2023-05-20T12:20:07.574Z"
      },
      {
        "duration": 1727,
        "start_time": "2023-05-20T12:20:55.438Z"
      },
      {
        "duration": 888,
        "start_time": "2023-05-20T12:20:57.167Z"
      },
      {
        "duration": 458,
        "start_time": "2023-05-20T12:20:58.058Z"
      },
      {
        "duration": 3,
        "start_time": "2023-05-20T12:20:58.520Z"
      },
      {
        "duration": 54,
        "start_time": "2023-05-20T12:20:58.526Z"
      },
      {
        "duration": 72,
        "start_time": "2023-05-20T12:20:58.581Z"
      },
      {
        "duration": 6,
        "start_time": "2023-05-20T12:20:58.655Z"
      },
      {
        "duration": 6,
        "start_time": "2023-05-20T12:20:58.663Z"
      },
      {
        "duration": 33,
        "start_time": "2023-05-20T12:20:58.671Z"
      },
      {
        "duration": 57,
        "start_time": "2023-05-20T12:20:58.706Z"
      },
      {
        "duration": 16,
        "start_time": "2023-05-20T12:20:58.765Z"
      },
      {
        "duration": 22,
        "start_time": "2023-05-20T12:20:58.783Z"
      },
      {
        "duration": 31,
        "start_time": "2023-05-20T12:20:58.807Z"
      },
      {
        "duration": 20,
        "start_time": "2023-05-20T12:20:58.844Z"
      },
      {
        "duration": 17,
        "start_time": "2023-05-20T12:20:58.866Z"
      },
      {
        "duration": 3,
        "start_time": "2023-05-20T12:20:58.885Z"
      },
      {
        "duration": 52,
        "start_time": "2023-05-20T12:20:58.890Z"
      },
      {
        "duration": 18,
        "start_time": "2023-05-20T12:20:58.944Z"
      },
      {
        "duration": 6,
        "start_time": "2023-05-20T12:20:58.963Z"
      },
      {
        "duration": 323,
        "start_time": "2023-05-20T12:20:58.970Z"
      },
      {
        "duration": 327,
        "start_time": "2023-05-20T12:20:59.295Z"
      },
      {
        "duration": 435,
        "start_time": "2023-05-20T12:20:59.624Z"
      },
      {
        "duration": 3,
        "start_time": "2023-05-20T12:21:00.063Z"
      },
      {
        "duration": 327,
        "start_time": "2023-05-20T12:21:00.067Z"
      },
      {
        "duration": 279,
        "start_time": "2023-05-20T12:21:00.402Z"
      },
      {
        "duration": 3,
        "start_time": "2023-05-20T12:21:00.683Z"
      },
      {
        "duration": 82,
        "start_time": "2023-05-20T12:21:00.688Z"
      },
      {
        "duration": 615,
        "start_time": "2023-05-20T12:21:00.772Z"
      },
      {
        "duration": 19,
        "start_time": "2023-05-20T12:21:01.389Z"
      },
      {
        "duration": 520,
        "start_time": "2023-05-20T12:21:01.410Z"
      },
      {
        "duration": 19,
        "start_time": "2023-05-20T12:21:01.932Z"
      },
      {
        "duration": 116,
        "start_time": "2023-05-20T12:21:01.953Z"
      },
      {
        "duration": 83,
        "start_time": "2023-05-20T12:21:02.071Z"
      },
      {
        "duration": 133,
        "start_time": "2023-05-20T12:21:02.156Z"
      },
      {
        "duration": 1771,
        "start_time": "2023-05-20T12:21:02.291Z"
      },
      {
        "duration": 10,
        "start_time": "2023-05-20T12:21:04.065Z"
      },
      {
        "duration": 2320,
        "start_time": "2023-05-20T12:21:04.076Z"
      },
      {
        "duration": 6458,
        "start_time": "2023-05-20T12:21:06.398Z"
      },
      {
        "duration": 8012,
        "start_time": "2023-05-20T12:21:12.858Z"
      },
      {
        "duration": 3,
        "start_time": "2023-05-20T12:21:20.872Z"
      },
      {
        "duration": 114,
        "start_time": "2023-05-20T12:21:20.878Z"
      },
      {
        "duration": 3,
        "start_time": "2023-05-20T12:21:20.997Z"
      },
      {
        "duration": 56,
        "start_time": "2023-05-20T12:21:21.002Z"
      },
      {
        "duration": 14,
        "start_time": "2023-05-20T12:21:21.062Z"
      },
      {
        "duration": 7,
        "start_time": "2023-05-20T12:21:21.077Z"
      },
      {
        "duration": 40,
        "start_time": "2023-05-20T12:21:21.085Z"
      },
      {
        "duration": 34,
        "start_time": "2023-05-20T12:21:21.127Z"
      },
      {
        "duration": 7,
        "start_time": "2023-05-20T12:21:21.163Z"
      },
      {
        "duration": 40,
        "start_time": "2023-05-20T12:21:21.172Z"
      },
      {
        "duration": 1967,
        "start_time": "2023-05-20T12:21:21.215Z"
      },
      {
        "duration": 7,
        "start_time": "2023-05-20T12:21:23.184Z"
      },
      {
        "duration": 70,
        "start_time": "2023-05-20T12:21:23.193Z"
      },
      {
        "duration": 8,
        "start_time": "2023-05-20T12:21:23.265Z"
      },
      {
        "duration": 6,
        "start_time": "2023-05-20T12:21:23.274Z"
      },
      {
        "duration": 7,
        "start_time": "2023-05-20T12:21:23.282Z"
      },
      {
        "duration": 3,
        "start_time": "2023-05-20T12:22:57.718Z"
      },
      {
        "duration": 8,
        "start_time": "2023-05-20T12:23:19.692Z"
      },
      {
        "duration": 4,
        "start_time": "2023-05-20T12:24:08.965Z"
      },
      {
        "duration": 3,
        "start_time": "2023-05-20T12:24:18.853Z"
      },
      {
        "duration": 4,
        "start_time": "2023-05-20T12:24:29.054Z"
      },
      {
        "duration": 4,
        "start_time": "2023-05-20T12:24:42.872Z"
      },
      {
        "duration": 3,
        "start_time": "2023-05-20T12:25:05.089Z"
      },
      {
        "duration": 6,
        "start_time": "2023-05-20T12:25:31.928Z"
      },
      {
        "duration": 5,
        "start_time": "2023-05-20T12:25:43.260Z"
      },
      {
        "duration": 3,
        "start_time": "2023-05-20T12:25:57.488Z"
      },
      {
        "duration": 5,
        "start_time": "2023-05-20T12:26:14.228Z"
      },
      {
        "duration": 7,
        "start_time": "2023-05-20T12:26:48.711Z"
      },
      {
        "duration": 3,
        "start_time": "2023-05-20T12:28:29.457Z"
      },
      {
        "duration": 4,
        "start_time": "2023-05-20T12:28:31.419Z"
      },
      {
        "duration": 3,
        "start_time": "2023-05-20T12:28:33.219Z"
      },
      {
        "duration": 4,
        "start_time": "2023-05-20T12:28:33.749Z"
      },
      {
        "duration": 1702,
        "start_time": "2023-05-20T12:28:49.714Z"
      },
      {
        "duration": 866,
        "start_time": "2023-05-20T12:28:51.417Z"
      },
      {
        "duration": 403,
        "start_time": "2023-05-20T12:28:52.285Z"
      },
      {
        "duration": 3,
        "start_time": "2023-05-20T12:28:52.699Z"
      },
      {
        "duration": 52,
        "start_time": "2023-05-20T12:28:52.703Z"
      },
      {
        "duration": 11,
        "start_time": "2023-05-20T12:28:52.757Z"
      },
      {
        "duration": 9,
        "start_time": "2023-05-20T12:28:52.769Z"
      },
      {
        "duration": 7,
        "start_time": "2023-05-20T12:28:52.779Z"
      },
      {
        "duration": 34,
        "start_time": "2023-05-20T12:28:52.787Z"
      },
      {
        "duration": 25,
        "start_time": "2023-05-20T12:28:52.823Z"
      },
      {
        "duration": 9,
        "start_time": "2023-05-20T12:28:52.849Z"
      },
      {
        "duration": 5,
        "start_time": "2023-05-20T12:28:52.860Z"
      },
      {
        "duration": 5,
        "start_time": "2023-05-20T12:28:52.868Z"
      },
      {
        "duration": 15,
        "start_time": "2023-05-20T12:28:52.874Z"
      },
      {
        "duration": 27,
        "start_time": "2023-05-20T12:28:52.891Z"
      },
      {
        "duration": 27,
        "start_time": "2023-05-20T12:28:52.921Z"
      },
      {
        "duration": 11,
        "start_time": "2023-05-20T12:28:52.950Z"
      },
      {
        "duration": 19,
        "start_time": "2023-05-20T12:28:52.962Z"
      },
      {
        "duration": 4,
        "start_time": "2023-05-20T12:28:52.983Z"
      },
      {
        "duration": 13,
        "start_time": "2023-05-20T12:28:52.988Z"
      },
      {
        "duration": 44,
        "start_time": "2023-05-20T12:28:53.002Z"
      },
      {
        "duration": 5,
        "start_time": "2023-05-20T12:28:53.048Z"
      },
      {
        "duration": 295,
        "start_time": "2023-05-20T12:28:53.055Z"
      },
      {
        "duration": 299,
        "start_time": "2023-05-20T12:28:53.352Z"
      },
      {
        "duration": 370,
        "start_time": "2023-05-20T12:28:53.653Z"
      },
      {
        "duration": 3,
        "start_time": "2023-05-20T12:28:54.024Z"
      },
      {
        "duration": 218,
        "start_time": "2023-05-20T12:28:54.028Z"
      },
      {
        "duration": 208,
        "start_time": "2023-05-20T12:28:54.249Z"
      },
      {
        "duration": 2,
        "start_time": "2023-05-20T12:28:54.459Z"
      },
      {
        "duration": 6,
        "start_time": "2023-05-20T12:28:54.463Z"
      },
      {
        "duration": 454,
        "start_time": "2023-05-20T12:28:54.471Z"
      },
      {
        "duration": 23,
        "start_time": "2023-05-20T12:28:54.927Z"
      },
      {
        "duration": 269,
        "start_time": "2023-05-20T12:28:54.953Z"
      },
      {
        "duration": 8,
        "start_time": "2023-05-20T12:28:55.224Z"
      },
      {
        "duration": 22,
        "start_time": "2023-05-20T12:28:55.234Z"
      },
      {
        "duration": 13,
        "start_time": "2023-05-20T12:28:55.258Z"
      },
      {
        "duration": 31,
        "start_time": "2023-05-20T12:28:55.272Z"
      },
      {
        "duration": 1511,
        "start_time": "2023-05-20T12:28:55.305Z"
      },
      {
        "duration": 19,
        "start_time": "2023-05-20T12:28:56.818Z"
      },
      {
        "duration": 2891,
        "start_time": "2023-05-20T12:28:56.845Z"
      },
      {
        "duration": 5994,
        "start_time": "2023-05-20T12:28:59.741Z"
      },
      {
        "duration": 6253,
        "start_time": "2023-05-20T12:29:05.737Z"
      },
      {
        "duration": 3,
        "start_time": "2023-05-20T12:29:11.991Z"
      },
      {
        "duration": 47,
        "start_time": "2023-05-20T12:29:11.999Z"
      },
      {
        "duration": 122,
        "start_time": "2023-05-20T12:29:12.047Z"
      },
      {
        "duration": 3,
        "start_time": "2023-05-20T12:29:12.171Z"
      },
      {
        "duration": 67,
        "start_time": "2023-05-20T12:29:12.176Z"
      },
      {
        "duration": 13,
        "start_time": "2023-05-20T12:29:12.245Z"
      },
      {
        "duration": 22,
        "start_time": "2023-05-20T12:29:12.260Z"
      },
      {
        "duration": 7,
        "start_time": "2023-05-20T12:29:12.284Z"
      },
      {
        "duration": 57,
        "start_time": "2023-05-20T12:29:12.293Z"
      },
      {
        "duration": 20,
        "start_time": "2023-05-20T12:29:12.352Z"
      },
      {
        "duration": 32,
        "start_time": "2023-05-20T12:29:12.374Z"
      },
      {
        "duration": 1824,
        "start_time": "2023-05-20T12:29:12.408Z"
      },
      {
        "duration": 9,
        "start_time": "2023-05-20T12:29:14.240Z"
      },
      {
        "duration": 10,
        "start_time": "2023-05-20T12:29:14.250Z"
      },
      {
        "duration": 10,
        "start_time": "2023-05-20T12:29:14.261Z"
      },
      {
        "duration": 12,
        "start_time": "2023-05-20T12:29:14.272Z"
      },
      {
        "duration": 35,
        "start_time": "2023-05-20T12:29:14.285Z"
      },
      {
        "duration": 510409,
        "start_time": "2023-05-20T12:29:32.735Z"
      },
      {
        "duration": 4,
        "start_time": "2023-05-20T12:38:03.146Z"
      },
      {
        "duration": 15,
        "start_time": "2023-05-20T12:38:03.151Z"
      },
      {
        "duration": 7,
        "start_time": "2023-05-20T12:38:03.168Z"
      },
      {
        "duration": 1887,
        "start_time": "2023-05-20T12:42:20.786Z"
      },
      {
        "duration": 949,
        "start_time": "2023-05-20T12:42:22.675Z"
      },
      {
        "duration": 546,
        "start_time": "2023-05-20T12:42:23.630Z"
      },
      {
        "duration": 3,
        "start_time": "2023-05-20T12:42:24.178Z"
      },
      {
        "duration": 15,
        "start_time": "2023-05-20T12:42:24.184Z"
      },
      {
        "duration": 59,
        "start_time": "2023-05-20T12:42:24.201Z"
      },
      {
        "duration": 14,
        "start_time": "2023-05-20T12:42:24.262Z"
      },
      {
        "duration": 7,
        "start_time": "2023-05-20T12:42:24.278Z"
      },
      {
        "duration": 56,
        "start_time": "2023-05-20T12:42:24.287Z"
      },
      {
        "duration": 12,
        "start_time": "2023-05-20T12:42:24.357Z"
      },
      {
        "duration": 18,
        "start_time": "2023-05-20T12:42:24.371Z"
      },
      {
        "duration": 83,
        "start_time": "2023-05-20T12:42:24.391Z"
      },
      {
        "duration": 11,
        "start_time": "2023-05-20T12:42:24.476Z"
      },
      {
        "duration": 57,
        "start_time": "2023-05-20T12:42:24.489Z"
      },
      {
        "duration": 67,
        "start_time": "2023-05-20T12:42:24.548Z"
      },
      {
        "duration": 66,
        "start_time": "2023-05-20T12:42:24.619Z"
      },
      {
        "duration": 80,
        "start_time": "2023-05-20T12:42:24.687Z"
      },
      {
        "duration": 37,
        "start_time": "2023-05-20T12:42:24.771Z"
      },
      {
        "duration": 40,
        "start_time": "2023-05-20T12:42:24.813Z"
      },
      {
        "duration": 12,
        "start_time": "2023-05-20T12:42:24.856Z"
      },
      {
        "duration": 11,
        "start_time": "2023-05-20T12:42:24.870Z"
      },
      {
        "duration": 84,
        "start_time": "2023-05-20T12:42:24.883Z"
      },
      {
        "duration": 412,
        "start_time": "2023-05-20T12:42:24.969Z"
      },
      {
        "duration": 312,
        "start_time": "2023-05-20T12:42:25.383Z"
      },
      {
        "duration": 431,
        "start_time": "2023-05-20T12:42:25.697Z"
      },
      {
        "duration": 4,
        "start_time": "2023-05-20T12:42:26.130Z"
      },
      {
        "duration": 240,
        "start_time": "2023-05-20T12:42:26.140Z"
      },
      {
        "duration": 261,
        "start_time": "2023-05-20T12:42:26.384Z"
      },
      {
        "duration": 13,
        "start_time": "2023-05-20T12:42:26.650Z"
      },
      {
        "duration": 11,
        "start_time": "2023-05-20T12:42:26.666Z"
      },
      {
        "duration": 442,
        "start_time": "2023-05-20T12:42:26.679Z"
      },
      {
        "duration": 24,
        "start_time": "2023-05-20T12:42:27.123Z"
      },
      {
        "duration": 280,
        "start_time": "2023-05-20T12:42:27.152Z"
      },
      {
        "duration": 6,
        "start_time": "2023-05-20T12:42:27.438Z"
      },
      {
        "duration": 19,
        "start_time": "2023-05-20T12:42:27.449Z"
      },
      {
        "duration": 18,
        "start_time": "2023-05-20T12:42:27.470Z"
      },
      {
        "duration": 82,
        "start_time": "2023-05-20T12:42:27.490Z"
      },
      {
        "duration": 1557,
        "start_time": "2023-05-20T12:42:27.575Z"
      },
      {
        "duration": 19,
        "start_time": "2023-05-20T12:42:29.135Z"
      },
      {
        "duration": 3870,
        "start_time": "2023-05-20T12:42:29.156Z"
      },
      {
        "duration": 6313,
        "start_time": "2023-05-20T12:42:33.036Z"
      },
      {
        "duration": 7730,
        "start_time": "2023-05-20T12:42:39.360Z"
      },
      {
        "duration": 5,
        "start_time": "2023-05-20T12:42:47.093Z"
      },
      {
        "duration": 63,
        "start_time": "2023-05-20T12:42:47.103Z"
      },
      {
        "duration": 21,
        "start_time": "2023-05-20T12:42:47.168Z"
      },
      {
        "duration": 44,
        "start_time": "2023-05-20T12:42:47.191Z"
      },
      {
        "duration": 21,
        "start_time": "2023-05-20T12:42:47.238Z"
      },
      {
        "duration": 26,
        "start_time": "2023-05-20T12:42:47.261Z"
      },
      {
        "duration": 528496,
        "start_time": "2023-05-20T12:42:47.289Z"
      },
      {
        "duration": 21,
        "start_time": "2023-05-20T12:51:35.787Z"
      },
      {
        "duration": 1440,
        "start_time": "2023-05-20T12:58:07.489Z"
      },
      {
        "duration": 783,
        "start_time": "2023-05-20T12:58:08.931Z"
      },
      {
        "duration": 394,
        "start_time": "2023-05-20T12:58:09.716Z"
      },
      {
        "duration": 4,
        "start_time": "2023-05-20T12:58:10.112Z"
      },
      {
        "duration": 13,
        "start_time": "2023-05-20T12:58:10.118Z"
      },
      {
        "duration": 3,
        "start_time": "2023-05-20T12:58:10.134Z"
      },
      {
        "duration": 8,
        "start_time": "2023-05-20T12:58:10.138Z"
      },
      {
        "duration": 13,
        "start_time": "2023-05-20T12:58:10.147Z"
      },
      {
        "duration": 35,
        "start_time": "2023-05-20T12:58:10.162Z"
      },
      {
        "duration": 30,
        "start_time": "2023-05-20T12:58:10.206Z"
      },
      {
        "duration": 11,
        "start_time": "2023-05-20T12:58:10.239Z"
      },
      {
        "duration": 7,
        "start_time": "2023-05-20T12:58:10.252Z"
      },
      {
        "duration": 13,
        "start_time": "2023-05-20T12:58:10.260Z"
      },
      {
        "duration": 13,
        "start_time": "2023-05-20T12:58:10.275Z"
      },
      {
        "duration": 24,
        "start_time": "2023-05-20T12:58:10.290Z"
      },
      {
        "duration": 24,
        "start_time": "2023-05-20T12:58:10.321Z"
      },
      {
        "duration": 17,
        "start_time": "2023-05-20T12:58:10.347Z"
      },
      {
        "duration": 17,
        "start_time": "2023-05-20T12:58:10.367Z"
      },
      {
        "duration": 5,
        "start_time": "2023-05-20T12:58:10.386Z"
      },
      {
        "duration": 28,
        "start_time": "2023-05-20T12:58:10.393Z"
      },
      {
        "duration": 21,
        "start_time": "2023-05-20T12:58:10.422Z"
      },
      {
        "duration": 21,
        "start_time": "2023-05-20T12:58:10.445Z"
      },
      {
        "duration": 302,
        "start_time": "2023-05-20T12:58:10.468Z"
      },
      {
        "duration": 300,
        "start_time": "2023-05-20T12:58:10.772Z"
      },
      {
        "duration": 415,
        "start_time": "2023-05-20T12:58:11.074Z"
      },
      {
        "duration": 11,
        "start_time": "2023-05-20T12:58:11.497Z"
      },
      {
        "duration": 215,
        "start_time": "2023-05-20T12:58:11.515Z"
      },
      {
        "duration": 230,
        "start_time": "2023-05-20T12:58:11.735Z"
      },
      {
        "duration": 3,
        "start_time": "2023-05-20T12:58:11.968Z"
      },
      {
        "duration": 28,
        "start_time": "2023-05-20T12:58:11.973Z"
      },
      {
        "duration": 487,
        "start_time": "2023-05-20T12:58:12.003Z"
      },
      {
        "duration": 16,
        "start_time": "2023-05-20T12:58:12.497Z"
      },
      {
        "duration": 386,
        "start_time": "2023-05-20T12:58:12.515Z"
      },
      {
        "duration": 4,
        "start_time": "2023-05-20T12:58:12.902Z"
      },
      {
        "duration": 38,
        "start_time": "2023-05-20T12:58:12.908Z"
      },
      {
        "duration": 18,
        "start_time": "2023-05-20T12:58:12.948Z"
      },
      {
        "duration": 31,
        "start_time": "2023-05-20T12:58:12.968Z"
      },
      {
        "duration": 1461,
        "start_time": "2023-05-20T12:58:13.001Z"
      },
      {
        "duration": 16,
        "start_time": "2023-05-20T12:58:14.464Z"
      },
      {
        "duration": 4316,
        "start_time": "2023-05-20T12:58:14.482Z"
      },
      {
        "duration": 5675,
        "start_time": "2023-05-20T12:58:18.803Z"
      },
      {
        "duration": 5494,
        "start_time": "2023-05-20T12:58:24.480Z"
      },
      {
        "duration": 3,
        "start_time": "2023-05-20T12:58:29.976Z"
      },
      {
        "duration": 69,
        "start_time": "2023-05-20T12:58:29.981Z"
      },
      {
        "duration": 41,
        "start_time": "2023-05-20T12:58:30.052Z"
      },
      {
        "duration": 116,
        "start_time": "2023-05-20T12:58:30.095Z"
      },
      {
        "duration": 107659,
        "start_time": "2023-05-20T12:58:30.214Z"
      },
      {
        "duration": 4,
        "start_time": "2023-05-20T13:00:17.875Z"
      },
      {
        "duration": 106311,
        "start_time": "2023-05-20T13:00:17.880Z"
      },
      {
        "duration": 18,
        "start_time": "2023-05-20T13:02:04.195Z"
      },
      {
        "duration": 7,
        "start_time": "2023-05-20T13:02:04.215Z"
      },
      {
        "duration": 21,
        "start_time": "2023-05-20T13:02:04.223Z"
      },
      {
        "duration": 1321,
        "start_time": "2023-05-20T13:02:04.245Z"
      },
      {
        "duration": 7,
        "start_time": "2023-05-20T13:02:05.568Z"
      },
      {
        "duration": 27,
        "start_time": "2023-05-20T13:02:05.577Z"
      },
      {
        "duration": 19,
        "start_time": "2023-05-20T13:02:05.607Z"
      },
      {
        "duration": 7,
        "start_time": "2023-05-20T13:02:05.628Z"
      },
      {
        "duration": 15,
        "start_time": "2023-05-20T13:02:05.637Z"
      },
      {
        "duration": 894,
        "start_time": "2023-05-20T13:09:37.214Z"
      },
      {
        "duration": 1602,
        "start_time": "2023-05-20T13:10:51.383Z"
      },
      {
        "duration": 796,
        "start_time": "2023-05-20T13:10:52.988Z"
      },
      {
        "duration": 377,
        "start_time": "2023-05-20T13:10:53.786Z"
      },
      {
        "duration": 3,
        "start_time": "2023-05-20T13:10:54.165Z"
      },
      {
        "duration": 15,
        "start_time": "2023-05-20T13:10:54.170Z"
      },
      {
        "duration": 19,
        "start_time": "2023-05-20T13:10:54.187Z"
      },
      {
        "duration": 18,
        "start_time": "2023-05-20T13:10:54.209Z"
      },
      {
        "duration": 23,
        "start_time": "2023-05-20T13:10:54.229Z"
      },
      {
        "duration": 10,
        "start_time": "2023-05-20T13:10:54.253Z"
      },
      {
        "duration": 14,
        "start_time": "2023-05-20T13:10:54.265Z"
      },
      {
        "duration": 9,
        "start_time": "2023-05-20T13:10:54.281Z"
      },
      {
        "duration": 40,
        "start_time": "2023-05-20T13:10:54.292Z"
      },
      {
        "duration": 18,
        "start_time": "2023-05-20T13:10:54.334Z"
      },
      {
        "duration": 18,
        "start_time": "2023-05-20T13:10:54.357Z"
      },
      {
        "duration": 5,
        "start_time": "2023-05-20T13:10:54.377Z"
      },
      {
        "duration": 39,
        "start_time": "2023-05-20T13:10:54.383Z"
      },
      {
        "duration": 10,
        "start_time": "2023-05-20T13:10:54.424Z"
      },
      {
        "duration": 10,
        "start_time": "2023-05-20T13:10:54.438Z"
      },
      {
        "duration": 327,
        "start_time": "2023-05-20T13:10:54.450Z"
      },
      {
        "duration": 282,
        "start_time": "2023-05-20T13:10:54.780Z"
      },
      {
        "duration": 379,
        "start_time": "2023-05-20T13:10:55.064Z"
      },
      {
        "duration": 746,
        "start_time": "2023-05-20T13:10:55.445Z"
      },
      {
        "duration": 258,
        "start_time": "2023-05-20T13:10:56.193Z"
      },
      {
        "duration": 230,
        "start_time": "2023-05-20T13:10:56.453Z"
      },
      {
        "duration": 14,
        "start_time": "2023-05-20T13:10:56.686Z"
      },
      {
        "duration": 24,
        "start_time": "2023-05-20T13:10:56.701Z"
      },
      {
        "duration": 599,
        "start_time": "2023-05-20T13:10:56.727Z"
      },
      {
        "duration": 15,
        "start_time": "2023-05-20T13:10:57.328Z"
      },
      {
        "duration": 261,
        "start_time": "2023-05-20T13:10:57.345Z"
      },
      {
        "duration": 4,
        "start_time": "2023-05-20T13:10:57.607Z"
      },
      {
        "duration": 10,
        "start_time": "2023-05-20T13:10:57.617Z"
      },
      {
        "duration": 7,
        "start_time": "2023-05-20T13:10:57.630Z"
      },
      {
        "duration": 22,
        "start_time": "2023-05-20T13:10:57.639Z"
      },
      {
        "duration": 1374,
        "start_time": "2023-05-20T13:10:57.663Z"
      },
      {
        "duration": 10,
        "start_time": "2023-05-20T13:10:59.040Z"
      },
      {
        "duration": 3858,
        "start_time": "2023-05-20T13:10:59.052Z"
      },
      {
        "duration": 5724,
        "start_time": "2023-05-20T13:11:02.912Z"
      },
      {
        "duration": 5915,
        "start_time": "2023-05-20T13:11:08.637Z"
      },
      {
        "duration": 5,
        "start_time": "2023-05-20T13:11:14.555Z"
      },
      {
        "duration": 56,
        "start_time": "2023-05-20T13:11:14.562Z"
      },
      {
        "duration": 51,
        "start_time": "2023-05-20T13:11:14.623Z"
      },
      {
        "duration": 123258,
        "start_time": "2023-05-20T13:11:14.676Z"
      },
      {
        "duration": 4,
        "start_time": "2023-05-20T13:13:17.935Z"
      },
      {
        "duration": 116409,
        "start_time": "2023-05-20T13:13:17.941Z"
      },
      {
        "duration": 4,
        "start_time": "2023-05-20T13:15:14.351Z"
      },
      {
        "duration": 7,
        "start_time": "2023-05-20T13:15:14.357Z"
      },
      {
        "duration": 38,
        "start_time": "2023-05-20T13:15:14.365Z"
      },
      {
        "duration": 1829,
        "start_time": "2023-05-20T13:15:14.404Z"
      },
      {
        "duration": 7,
        "start_time": "2023-05-20T13:15:16.235Z"
      },
      {
        "duration": 16,
        "start_time": "2023-05-20T13:15:16.244Z"
      },
      {
        "duration": 6,
        "start_time": "2023-05-20T13:15:16.262Z"
      },
      {
        "duration": 6,
        "start_time": "2023-05-20T13:15:16.270Z"
      },
      {
        "duration": 6,
        "start_time": "2023-05-20T13:15:16.278Z"
      }
    ],
    "kernelspec": {
      "display_name": "Python 3 (ipykernel)",
      "language": "python",
      "name": "python3"
    },
    "language_info": {
      "codemirror_mode": {
        "name": "ipython",
        "version": 3
      },
      "file_extension": ".py",
      "mimetype": "text/x-python",
      "name": "python",
      "nbconvert_exporter": "python",
      "pygments_lexer": "ipython3",
      "version": "3.9.5"
    },
    "toc": {
      "base_numbering": 1,
      "nav_menu": {},
      "number_sections": true,
      "sideBar": true,
      "skip_h1_title": true,
      "title_cell": "Содержание",
      "title_sidebar": "Contents",
      "toc_cell": true,
      "toc_position": {
        "height": "449px",
        "left": "26px",
        "top": "111.125px",
        "width": "165px"
      },
      "toc_section_display": true,
      "toc_window_display": true
    },
    "varInspector": {
      "cols": {
        "lenName": 16,
        "lenType": 16,
        "lenVar": 40
      },
      "kernels_config": {
        "python": {
          "delete_cmd_postfix": "",
          "delete_cmd_prefix": "del ",
          "library": "var_list.py",
          "varRefreshCmd": "print(var_dic_list())"
        },
        "r": {
          "delete_cmd_postfix": ") ",
          "delete_cmd_prefix": "rm(",
          "library": "var_list.r",
          "varRefreshCmd": "cat(var_dic_list()) "
        }
      },
      "types_to_exclude": [
        "module",
        "function",
        "builtin_function_or_method",
        "instance",
        "_Feature"
      ],
      "window_display": false
    },
    "colab": {
      "provenance": []
    }
  },
  "nbformat": 4,
  "nbformat_minor": 0
}