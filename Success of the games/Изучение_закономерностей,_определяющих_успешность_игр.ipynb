{
  "cells": [
    {
      "cell_type": "markdown",
      "metadata": {
        "id": "BpIJUdnrSoBT"
      },
      "source": [
        "## Открываем файл с данными и изучаем общую информацию"
      ]
    },
    {
      "cell_type": "code",
      "execution_count": null,
      "metadata": {
        "id": "tjqbsCKMSoBT"
      },
      "outputs": [],
      "source": [
        "import pandas as pd"
      ]
    },
    {
      "cell_type": "code",
      "execution_count": null,
      "metadata": {
        "id": "d-CABZK0SoBU"
      },
      "outputs": [],
      "source": [
        "import numpy as np"
      ]
    },
    {
      "cell_type": "code",
      "execution_count": null,
      "metadata": {
        "id": "3_LQmq5CSoBV"
      },
      "outputs": [],
      "source": [
        "import seaborn as sns"
      ]
    },
    {
      "cell_type": "code",
      "execution_count": null,
      "metadata": {
        "id": "QNmocEPvSoBV"
      },
      "outputs": [],
      "source": [
        "import matplotlib.pyplot as plt"
      ]
    },
    {
      "cell_type": "code",
      "execution_count": null,
      "metadata": {
        "id": "x6fQWrxdSoBV"
      },
      "outputs": [],
      "source": [
        "from scipy import stats as st"
      ]
    },
    {
      "cell_type": "code",
      "execution_count": null,
      "metadata": {
        "id": "cfcu3cgBSoBV"
      },
      "outputs": [],
      "source": [
        "try:\n",
        "    df = pd.read_csv('C:/Users/Student/Desktop/games.csv')\n",
        "except:\n",
        "    df = pd.read_csv('/datasets/games.csv')"
      ]
    },
    {
      "cell_type": "code",
      "execution_count": null,
      "metadata": {
        "scrolled": true,
        "id": "YiKCVjaTSoBV",
        "outputId": "521b58e1-4a39-4a35-a85d-23e758060e51"
      },
      "outputs": [
        {
          "name": "stdout",
          "output_type": "stream",
          "text": [
            "<class 'pandas.core.frame.DataFrame'>\n",
            "RangeIndex: 16715 entries, 0 to 16714\n",
            "Data columns (total 11 columns):\n",
            " #   Column           Non-Null Count  Dtype  \n",
            "---  ------           --------------  -----  \n",
            " 0   Name             16713 non-null  object \n",
            " 1   Platform         16715 non-null  object \n",
            " 2   Year_of_Release  16446 non-null  float64\n",
            " 3   Genre            16713 non-null  object \n",
            " 4   NA_sales         16715 non-null  float64\n",
            " 5   EU_sales         16715 non-null  float64\n",
            " 6   JP_sales         16715 non-null  float64\n",
            " 7   Other_sales      16715 non-null  float64\n",
            " 8   Critic_Score     8137 non-null   float64\n",
            " 9   User_Score       10014 non-null  object \n",
            " 10  Rating           9949 non-null   object \n",
            "dtypes: float64(6), object(5)\n",
            "memory usage: 1.4+ MB\n"
          ]
        }
      ],
      "source": [
        "#изучаем датасет\n",
        "df.info()"
      ]
    },
    {
      "cell_type": "markdown",
      "metadata": {
        "id": "aOwaEjJNSoBW"
      },
      "source": [
        "**Вывод:**\n",
        "- при изучении общей информации видно, что таблица содержит 11 колонок, тип данных float64(6), object(5), общее количество строк 16715, название колонок имеет верблюжий стиль."
      ]
    },
    {
      "cell_type": "markdown",
      "metadata": {
        "id": "RYl8_s7WSoBW"
      },
      "source": [
        "## Подготовка данных"
      ]
    },
    {
      "cell_type": "markdown",
      "metadata": {
        "id": "zy4cX4HcSoBX"
      },
      "source": [
        "### Заменим название столбцов (приведём к нижнему регистру)"
      ]
    },
    {
      "cell_type": "code",
      "execution_count": null,
      "metadata": {
        "id": "Hl-5ZQGrSoBX"
      },
      "outputs": [],
      "source": [
        "df.columns = df.columns.str.lower() #привидем к нижнему регистру используя метод lower()"
      ]
    },
    {
      "cell_type": "code",
      "execution_count": null,
      "metadata": {
        "id": "xuiRiA0dSoBX",
        "outputId": "df79cb0f-3d93-4a92-e065-13bf3490b9f5"
      },
      "outputs": [
        {
          "data": {
            "text/html": [
              "<div>\n",
              "<style scoped>\n",
              "    .dataframe tbody tr th:only-of-type {\n",
              "        vertical-align: middle;\n",
              "    }\n",
              "\n",
              "    .dataframe tbody tr th {\n",
              "        vertical-align: top;\n",
              "    }\n",
              "\n",
              "    .dataframe thead th {\n",
              "        text-align: right;\n",
              "    }\n",
              "</style>\n",
              "<table border=\"1\" class=\"dataframe\">\n",
              "  <thead>\n",
              "    <tr style=\"text-align: right;\">\n",
              "      <th></th>\n",
              "      <th>name</th>\n",
              "      <th>platform</th>\n",
              "      <th>year_of_release</th>\n",
              "      <th>genre</th>\n",
              "      <th>na_sales</th>\n",
              "      <th>eu_sales</th>\n",
              "      <th>jp_sales</th>\n",
              "      <th>other_sales</th>\n",
              "      <th>critic_score</th>\n",
              "      <th>user_score</th>\n",
              "      <th>rating</th>\n",
              "    </tr>\n",
              "  </thead>\n",
              "  <tbody>\n",
              "    <tr>\n",
              "      <th>0</th>\n",
              "      <td>Wii Sports</td>\n",
              "      <td>Wii</td>\n",
              "      <td>2006.0</td>\n",
              "      <td>Sports</td>\n",
              "      <td>41.36</td>\n",
              "      <td>28.96</td>\n",
              "      <td>3.77</td>\n",
              "      <td>8.45</td>\n",
              "      <td>76.0</td>\n",
              "      <td>8</td>\n",
              "      <td>E</td>\n",
              "    </tr>\n",
              "    <tr>\n",
              "      <th>1</th>\n",
              "      <td>Super Mario Bros.</td>\n",
              "      <td>NES</td>\n",
              "      <td>1985.0</td>\n",
              "      <td>Platform</td>\n",
              "      <td>29.08</td>\n",
              "      <td>3.58</td>\n",
              "      <td>6.81</td>\n",
              "      <td>0.77</td>\n",
              "      <td>NaN</td>\n",
              "      <td>NaN</td>\n",
              "      <td>NaN</td>\n",
              "    </tr>\n",
              "    <tr>\n",
              "      <th>2</th>\n",
              "      <td>Mario Kart Wii</td>\n",
              "      <td>Wii</td>\n",
              "      <td>2008.0</td>\n",
              "      <td>Racing</td>\n",
              "      <td>15.68</td>\n",
              "      <td>12.76</td>\n",
              "      <td>3.79</td>\n",
              "      <td>3.29</td>\n",
              "      <td>82.0</td>\n",
              "      <td>8.3</td>\n",
              "      <td>E</td>\n",
              "    </tr>\n",
              "    <tr>\n",
              "      <th>3</th>\n",
              "      <td>Wii Sports Resort</td>\n",
              "      <td>Wii</td>\n",
              "      <td>2009.0</td>\n",
              "      <td>Sports</td>\n",
              "      <td>15.61</td>\n",
              "      <td>10.93</td>\n",
              "      <td>3.28</td>\n",
              "      <td>2.95</td>\n",
              "      <td>80.0</td>\n",
              "      <td>8</td>\n",
              "      <td>E</td>\n",
              "    </tr>\n",
              "    <tr>\n",
              "      <th>4</th>\n",
              "      <td>Pokemon Red/Pokemon Blue</td>\n",
              "      <td>GB</td>\n",
              "      <td>1996.0</td>\n",
              "      <td>Role-Playing</td>\n",
              "      <td>11.27</td>\n",
              "      <td>8.89</td>\n",
              "      <td>10.22</td>\n",
              "      <td>1.00</td>\n",
              "      <td>NaN</td>\n",
              "      <td>NaN</td>\n",
              "      <td>NaN</td>\n",
              "    </tr>\n",
              "  </tbody>\n",
              "</table>\n",
              "</div>"
            ],
            "text/plain": [
              "                       name platform  year_of_release         genre  na_sales  \\\n",
              "0                Wii Sports      Wii           2006.0        Sports     41.36   \n",
              "1         Super Mario Bros.      NES           1985.0      Platform     29.08   \n",
              "2            Mario Kart Wii      Wii           2008.0        Racing     15.68   \n",
              "3         Wii Sports Resort      Wii           2009.0        Sports     15.61   \n",
              "4  Pokemon Red/Pokemon Blue       GB           1996.0  Role-Playing     11.27   \n",
              "\n",
              "   eu_sales  jp_sales  other_sales  critic_score user_score rating  \n",
              "0     28.96      3.77         8.45          76.0          8      E  \n",
              "1      3.58      6.81         0.77           NaN        NaN    NaN  \n",
              "2     12.76      3.79         3.29          82.0        8.3      E  \n",
              "3     10.93      3.28         2.95          80.0          8      E  \n",
              "4      8.89     10.22         1.00           NaN        NaN    NaN  "
            ]
          },
          "execution_count": 9,
          "metadata": {},
          "output_type": "execute_result"
        }
      ],
      "source": [
        "df.head() #проверим результат"
      ]
    },
    {
      "cell_type": "markdown",
      "metadata": {
        "id": "_ev8iWxCSoBX"
      },
      "source": [
        "### Обработаем пропуски и дубликаты"
      ]
    },
    {
      "cell_type": "code",
      "execution_count": null,
      "metadata": {
        "id": "TE61brwjSoBX",
        "outputId": "b73e6581-c1f4-4da8-b9fe-55947e0cb690"
      },
      "outputs": [
        {
          "data": {
            "text/plain": [
              "0"
            ]
          },
          "execution_count": 10,
          "metadata": {},
          "output_type": "execute_result"
        }
      ],
      "source": [
        "# проверим количество дубликатов\n",
        "df.duplicated().sum()"
      ]
    },
    {
      "cell_type": "markdown",
      "metadata": {
        "id": "FsO9O3u6SoBX"
      },
      "source": [
        "**Вывод:**\n",
        "- **дубликатов не обнаружено**"
      ]
    },
    {
      "cell_type": "code",
      "execution_count": null,
      "metadata": {
        "scrolled": true,
        "id": "Y8Z_litaSoBY",
        "outputId": "4b2761cc-a0cb-4885-914a-db8bf8cbd109"
      },
      "outputs": [
        {
          "data": {
            "text/plain": [
              "name                  2\n",
              "platform              0\n",
              "year_of_release     269\n",
              "genre                 2\n",
              "na_sales              0\n",
              "eu_sales              0\n",
              "jp_sales              0\n",
              "other_sales           0\n",
              "critic_score       8578\n",
              "user_score         6701\n",
              "rating             6766\n",
              "dtype: int64"
            ]
          },
          "execution_count": 11,
          "metadata": {},
          "output_type": "execute_result"
        }
      ],
      "source": [
        "# проверим количество пропусков\n",
        "df.isna().sum()"
      ]
    },
    {
      "cell_type": "code",
      "execution_count": null,
      "metadata": {
        "id": "JyFaSU7DSoBY"
      },
      "outputs": [],
      "source": []
    },
    {
      "cell_type": "markdown",
      "metadata": {
        "id": "UQSM3b1pSoBY"
      },
      "source": [
        "**Вывод:**\n",
        "- **пропуски обнаружены в 5-ти столбцах, незначительное число пропусков разумно удалить остальные рассмотрим подробнее**"
      ]
    },
    {
      "cell_type": "markdown",
      "metadata": {
        "id": "LbsJvG6YSoBY"
      },
      "source": [
        "**столбци year_of_release, genre**"
      ]
    },
    {
      "cell_type": "code",
      "execution_count": null,
      "metadata": {
        "id": "H8tQ-XWSSoBY"
      },
      "outputs": [],
      "source": [
        "#удаляем пропуски методом dropna()\n",
        "df = df.dropna(subset=['year_of_release', 'genre'])"
      ]
    },
    {
      "cell_type": "markdown",
      "metadata": {
        "id": "YVc1g6gfSoBY"
      },
      "source": [
        "**столбец critic_score**"
      ]
    },
    {
      "cell_type": "markdown",
      "metadata": {
        "id": "wXtQObkjSoBZ"
      },
      "source": [
        "изучаем уникальные значения"
      ]
    },
    {
      "cell_type": "code",
      "execution_count": null,
      "metadata": {
        "id": "I2MYIQcZSoBZ",
        "outputId": "f0dd93f8-8f46-4273-ddf2-ac837a5579db"
      },
      "outputs": [
        {
          "data": {
            "text/plain": [
              "array([76., nan, 82., 80., 89., 58., 87., 91., 61., 97., 95., 77., 88.,\n",
              "       83., 94., 93., 85., 86., 98., 96., 90., 84., 73., 74., 78., 92.,\n",
              "       71., 72., 68., 62., 49., 67., 81., 66., 56., 79., 70., 59., 64.,\n",
              "       75., 60., 63., 69., 50., 25., 42., 44., 55., 48., 57., 29., 47.,\n",
              "       65., 54., 20., 53., 37., 38., 33., 52., 30., 32., 43., 45., 51.,\n",
              "       40., 46., 39., 34., 41., 36., 31., 27., 35., 26., 19., 28., 23.,\n",
              "       24., 21., 17., 13.])"
            ]
          },
          "execution_count": 13,
          "metadata": {},
          "output_type": "execute_result"
        }
      ],
      "source": [
        "df['critic_score'].unique() #применяем метод unique()"
      ]
    },
    {
      "cell_type": "markdown",
      "metadata": {
        "id": "WoxCAU6-SoBZ"
      },
      "source": [
        "**Вывод:**\n",
        "- **принимае, что критики недали свою оценку 8578 кол игр**\n",
        "- **возможно ошибка при сооединении двух таблиц**\n",
        "- **заполняем столбец critic_score — оценка критиков значением 0**  "
      ]
    },
    {
      "cell_type": "code",
      "execution_count": null,
      "metadata": {
        "id": "F8CE7fpcSoBZ"
      },
      "outputs": [],
      "source": [
        "df['critic_score'] = df['critic_score'].fillna(0) #заполняем пропуски значением 0"
      ]
    },
    {
      "cell_type": "markdown",
      "metadata": {
        "id": "YDVIyfbFSoBZ"
      },
      "source": [
        "**столбец user_score**"
      ]
    },
    {
      "cell_type": "markdown",
      "metadata": {
        "id": "hNZRGlJFSoBZ"
      },
      "source": [
        "изучаем уникальные значения"
      ]
    },
    {
      "cell_type": "code",
      "execution_count": null,
      "metadata": {
        "id": "CEa9Wx5dSoBa",
        "outputId": "0a609944-2e1b-424a-9039-45c670ef3ce0"
      },
      "outputs": [
        {
          "data": {
            "text/plain": [
              "array(['8', nan, '8.3', '8.5', '6.6', '8.4', '8.6', '7.7', '6.3', '7.4',\n",
              "       '8.2', '9', '7.9', '8.1', '8.7', '7.1', '3.4', '5.3', '4.8', '3.2',\n",
              "       '8.9', '6.4', '7.8', '7.5', '2.6', '7.2', '9.2', '7', '7.3', '4.3',\n",
              "       '7.6', '5.7', '5', '9.1', '6.5', 'tbd', '8.8', '6.9', '9.4', '6.8',\n",
              "       '6.1', '6.7', '5.4', '4', '4.9', '4.5', '9.3', '6.2', '4.2', '6',\n",
              "       '3.7', '4.1', '5.8', '5.6', '5.5', '4.4', '4.6', '5.9', '3.9',\n",
              "       '3.1', '2.9', '5.2', '3.3', '4.7', '5.1', '3.5', '2.5', '1.9', '3',\n",
              "       '2.7', '2.2', '2', '9.5', '2.1', '3.6', '2.8', '1.8', '3.8', '0',\n",
              "       '1.6', '9.6', '2.4', '1.7', '1.1', '0.3', '1.5', '0.7', '1.2',\n",
              "       '2.3', '0.5', '1.3', '0.2', '0.6', '1.4', '0.9', '1', '9.7'],\n",
              "      dtype=object)"
            ]
          },
          "execution_count": 15,
          "metadata": {},
          "output_type": "execute_result"
        }
      ],
      "source": [
        "df['user_score'].unique() #применяем метод unique()"
      ]
    },
    {
      "cell_type": "markdown",
      "metadata": {
        "id": "lQ2eZxOmSoBb"
      },
      "source": [
        "**Вывод:**\n",
        "- **видим,что встолбце user_score два вида пропусков nan и 'tbd'**\n",
        "- **возможно ошибка при сооединении двух таблиц**"
      ]
    },
    {
      "cell_type": "code",
      "execution_count": null,
      "metadata": {
        "scrolled": false,
        "id": "IMzby3gFSoBb",
        "outputId": "6d2bdff6-4b85-478b-9213-92d1b5d23902"
      },
      "outputs": [
        {
          "data": {
            "text/plain": [
              "2234"
            ]
          },
          "execution_count": 16,
          "metadata": {},
          "output_type": "execute_result"
        }
      ],
      "source": [
        "df[df['user_score'] == 'tbd'].nunique().sum()# найдем количество пропуско 'tbd'"
      ]
    },
    {
      "cell_type": "markdown",
      "metadata": {
        "id": "WPgPtAB1SoBb"
      },
      "source": [
        "**Вывод:**\n",
        "- **пропусков с значением 'tbd' слишком много, что бы их удалить**\n",
        "- **в столбце user_score значение 'tbd' говорит о том что, оценка пользователей неопределена**  \n",
        "- **приравняем значение 'tbd' к значению nan**"
      ]
    },
    {
      "cell_type": "code",
      "execution_count": null,
      "metadata": {
        "id": "_Xj8n9fTSoBb"
      },
      "outputs": [],
      "source": [
        "df['user_score'] = df['user_score'].replace('tbd', np.nan)#приравняем значение 'tbd' к значению nan"
      ]
    },
    {
      "cell_type": "markdown",
      "metadata": {
        "id": "fSdT77HqSoBc"
      },
      "source": [
        "**Вывод:**\n",
        "- **принимае, что пользователи недали свою оценку**\n",
        "- **заполняем столбец critic_score — оценка пользователей значением 0**"
      ]
    },
    {
      "cell_type": "code",
      "execution_count": null,
      "metadata": {
        "id": "XqOXkne4SoBc"
      },
      "outputs": [],
      "source": [
        "df['user_score'] = df['user_score'].fillna(0) #заполняем пропуски значением 0"
      ]
    },
    {
      "cell_type": "markdown",
      "metadata": {
        "id": "ff9F2GUbSoBc"
      },
      "source": [
        "**столбец rating**"
      ]
    },
    {
      "cell_type": "markdown",
      "metadata": {
        "id": "LVgLR-X3SoBc"
      },
      "source": [
        "**Вывод:**\n",
        "- **возможно ошибка при сооединении двух таблиц**"
      ]
    },
    {
      "cell_type": "code",
      "execution_count": null,
      "metadata": {
        "id": "gbDBsP7ESoBc"
      },
      "outputs": [],
      "source": [
        "# заменим пропуски на Unknown\n",
        "df['rating'] = df['rating'].fillna('Unknown')"
      ]
    },
    {
      "cell_type": "code",
      "execution_count": null,
      "metadata": {
        "id": "474VnCA7SoBc",
        "outputId": "f92dd591-e876-445f-faff-6b2e7ecf48fc"
      },
      "outputs": [
        {
          "data": {
            "text/plain": [
              "array(['E', 'Unknown', 'M', 'T', 'E10+', 'K-A', 'AO', 'EC', 'RP'],\n",
              "      dtype=object)"
            ]
          },
          "execution_count": 20,
          "metadata": {},
          "output_type": "execute_result"
        }
      ],
      "source": [
        "df['rating'].unique()"
      ]
    },
    {
      "cell_type": "code",
      "execution_count": null,
      "metadata": {
        "id": "zc7QJWlPSoBc",
        "outputId": "f6dc8e7d-b456-4d1d-b463-e9acc73d6c5f"
      },
      "outputs": [
        {
          "data": {
            "text/plain": [
              "Unknown    6676\n",
              "E          3921\n",
              "T          2905\n",
              "M          1536\n",
              "E10+       1393\n",
              "EC            8\n",
              "K-A           3\n",
              "RP            1\n",
              "AO            1\n",
              "Name: rating, dtype: int64"
            ]
          },
          "execution_count": 21,
          "metadata": {},
          "output_type": "execute_result"
        }
      ],
      "source": [
        "df['rating'].value_counts()"
      ]
    },
    {
      "cell_type": "markdown",
      "metadata": {
        "id": "lcI41rqGSoBd"
      },
      "source": [
        "**4 вида рейтинга встречаются часто: Е, Т, М и Е10+, а 4 встречаются очень редко. Их можно заменить:**\n",
        "- АО - заменить на М;\n",
        "- RP - заменить на Unknown;\n",
        "- ЕС - заменить на Е;\n",
        "- К-А - заменить на Е."
      ]
    },
    {
      "cell_type": "code",
      "execution_count": null,
      "metadata": {
        "id": "_ZUXUK69SoBd"
      },
      "outputs": [],
      "source": [
        "df.loc[df['rating'] == 'AO', 'rating'] = 'M'\n",
        "df.loc[df['rating'] == 'RP', 'rating'] = 'Unknown'\n",
        "df.loc[df['rating'].isin(['EC', 'K-A']), 'rating'] = 'E'"
      ]
    },
    {
      "cell_type": "markdown",
      "metadata": {
        "id": "7_A_ch3dSoBd"
      },
      "source": [
        "**количество пропусков после обработки**"
      ]
    },
    {
      "cell_type": "code",
      "execution_count": null,
      "metadata": {
        "id": "1SdXmAD7SoBd",
        "outputId": "1fa4a242-7348-476c-af45-c462fbfc40de"
      },
      "outputs": [
        {
          "data": {
            "text/plain": [
              "name               0\n",
              "platform           0\n",
              "year_of_release    0\n",
              "genre              0\n",
              "na_sales           0\n",
              "eu_sales           0\n",
              "jp_sales           0\n",
              "other_sales        0\n",
              "critic_score       0\n",
              "user_score         0\n",
              "rating             0\n",
              "dtype: int64"
            ]
          },
          "execution_count": 23,
          "metadata": {},
          "output_type": "execute_result"
        }
      ],
      "source": [
        "df.isna().sum()"
      ]
    },
    {
      "cell_type": "markdown",
      "metadata": {
        "id": "Ra22Kvu4SoBe"
      },
      "source": [
        "### Преобразуйем данные в нужные типы"
      ]
    },
    {
      "cell_type": "code",
      "execution_count": null,
      "metadata": {
        "id": "KBZzVDN6SoBe"
      },
      "outputs": [],
      "source": [
        "# преобразуем данный столбец к целочисленному значению\n",
        "df['critic_score'] = df['critic_score'].astype('int')\n",
        "df['year_of_release'] = df['year_of_release'].astype('int')"
      ]
    },
    {
      "cell_type": "code",
      "execution_count": null,
      "metadata": {
        "id": "ZnuhBzzhSoBe"
      },
      "outputs": [],
      "source": [
        "df['user_score'] = df['user_score'].astype('float')"
      ]
    },
    {
      "cell_type": "markdown",
      "metadata": {
        "id": "5T8QbssbSoBe"
      },
      "source": [
        "**Вывод:**\n",
        "- **столбец critic_score - оценка критиков от 1 до 10, врядли десятые повлияют на точность иследования, а восприятия таблици улучшется**\n",
        "- **столбец year_of_release - год выпуска должен быть целочисленым**\n"
      ]
    },
    {
      "cell_type": "markdown",
      "metadata": {
        "id": "sKntLlkPSoBe"
      },
      "source": [
        "**таблица после обработки пропуско, дубликато и изменения типа данных**"
      ]
    },
    {
      "cell_type": "code",
      "execution_count": null,
      "metadata": {
        "id": "PShcfvC9SoBe",
        "outputId": "4a3b89f9-dcc6-45da-c401-28d8ae1a9938"
      },
      "outputs": [
        {
          "name": "stdout",
          "output_type": "stream",
          "text": [
            "<class 'pandas.core.frame.DataFrame'>\n",
            "Int64Index: 16444 entries, 0 to 16714\n",
            "Data columns (total 11 columns):\n",
            " #   Column           Non-Null Count  Dtype  \n",
            "---  ------           --------------  -----  \n",
            " 0   name             16444 non-null  object \n",
            " 1   platform         16444 non-null  object \n",
            " 2   year_of_release  16444 non-null  int64  \n",
            " 3   genre            16444 non-null  object \n",
            " 4   na_sales         16444 non-null  float64\n",
            " 5   eu_sales         16444 non-null  float64\n",
            " 6   jp_sales         16444 non-null  float64\n",
            " 7   other_sales      16444 non-null  float64\n",
            " 8   critic_score     16444 non-null  int64  \n",
            " 9   user_score       16444 non-null  float64\n",
            " 10  rating           16444 non-null  object \n",
            "dtypes: float64(5), int64(2), object(4)\n",
            "memory usage: 1.5+ MB\n"
          ]
        }
      ],
      "source": [
        "df.info()"
      ]
    },
    {
      "cell_type": "markdown",
      "metadata": {
        "id": "GAyXpK0KSoBf"
      },
      "source": [
        "### Посчитайте суммарные продажи во всех регионах и запишите их в отдельный столбец."
      ]
    },
    {
      "cell_type": "code",
      "execution_count": null,
      "metadata": {
        "id": "oSqD4X27SoBf"
      },
      "outputs": [],
      "source": [
        "df['total_sales'] = df[['na_sales','eu_sales','jp_sales', 'other_sales']].sum(axis = 1)"
      ]
    },
    {
      "cell_type": "markdown",
      "metadata": {
        "id": "saA7DVhJSoBf"
      },
      "source": [
        "**Вывод: при подготовк данных,**\n",
        "- **пропуски обнаружены в 5-ти столбцах, незначительное число пропусков разумно удалить**\n",
        "- **изучили уникальные значения**\n",
        "- **дубликатов не обнаружено**\n",
        "- **привели к нижнему регистру название колонок**\n",
        "- **возникновение пропусков, возможно ошибка при сооединении двух таблиц**\n",
        "- **создали столбец df['total_sales']**\n",
        "- **преобразовали данные в нужные типы**"
      ]
    },
    {
      "cell_type": "markdown",
      "metadata": {
        "id": "CW2_HMU0SoBf"
      },
      "source": [
        "## Проведём исследовательский анализ данных"
      ]
    },
    {
      "cell_type": "markdown",
      "metadata": {
        "id": "e4dHIHDvSoBf"
      },
      "source": [
        "### Посмотрите, сколько игр выпускалось в разные годы."
      ]
    },
    {
      "cell_type": "code",
      "execution_count": null,
      "metadata": {
        "id": "xziogrh2SoBg",
        "outputId": "2834b5da-b164-4c03-e9d3-83e51cd95e68"
      },
      "outputs": [
        {
          "data": {
            "image/png": "[encoded data removed]",
            "text/plain": [
              "<Figure size 936x288 with 1 Axes>"
            ]
          },
          "metadata": {
            "needs_background": "light"
          },
          "output_type": "display_data"
        }
      ],
      "source": [
        "df.pivot_table(index='year_of_release', values='total_sales', aggfunc='count').reset_index().plot(\n",
        "                      x='year_of_release', y='total_sales', grid=True, figsize=(13, 4), style='y^-').set(\n",
        "                      title='количество игр выпущеное в разные годы',\n",
        "                      xlabel='год', ylabel='количество игр');"
      ]
    },
    {
      "cell_type": "markdown",
      "metadata": {
        "id": "iC6SlQgiSoBg"
      },
      "source": [
        "**Вывод:**\n",
        "- **из графика видно что пиковые значения находятся в период с 2005 года по 2010 год, далее на спад возможно повлиял кризис**"
      ]
    },
    {
      "cell_type": "markdown",
      "metadata": {
        "id": "tP9_GBKdSoBg"
      },
      "source": [
        "### Как менялись продажи по платформам"
      ]
    },
    {
      "cell_type": "code",
      "execution_count": null,
      "metadata": {
        "id": "ADxcikNZSoBg",
        "outputId": "d8eec91d-95e6-4e32-983b-7f3378a3b9af"
      },
      "outputs": [
        {
          "data": {
            "text/plain": [
              "<AxesSubplot:xlabel='platform'>"
            ]
          },
          "execution_count": 29,
          "metadata": {},
          "output_type": "execute_result"
        },
        {
          "data": {
            "image/png": "[encoded data removed]",
            "text/plain": [
              "<Figure size 504x288 with 1 Axes>"
            ]
          },
          "metadata": {
            "needs_background": "light"
          },
          "output_type": "display_data"
        }
      ],
      "source": [
        "df.pivot_table(index='platform', values='total_sales', aggfunc='sum').sort_values(\n",
        "    'total_sales', ascending=False).plot(kind='bar', figsize = (7,4))"
      ]
    },
    {
      "cell_type": "markdown",
      "metadata": {
        "id": "72N6PNsESoBh"
      },
      "source": [
        "**Вывод:**\n",
        "- **из графика видно максимальное количество продаж в 6-ти  группах: PS2, X360, PS3, Wii, DS, PS**"
      ]
    },
    {
      "cell_type": "markdown",
      "metadata": {
        "id": "wqIrFfPPSoBh"
      },
      "source": [
        "### Выбераем платформы с наибольшими суммарными продажами и строим распределение по годам."
      ]
    },
    {
      "cell_type": "code",
      "execution_count": null,
      "metadata": {
        "id": "exHXo0z1SoBh",
        "outputId": "3c489a77-2538-4890-8184-713df3a035ac"
      },
      "outputs": [
        {
          "data": {
            "image/png": "[encoded data removed]",
            "text/plain": [
              "<Figure size 936x288 with 1 Axes>"
            ]
          },
          "metadata": {
            "needs_background": "light"
          },
          "output_type": "display_data"
        }
      ],
      "source": [
        "df.query('platform == \"PS2\"').pivot_table(index='year_of_release', values='total_sales', aggfunc='sum').reset_index().plot(\n",
        "                      x='year_of_release', y='total_sales', grid=True, figsize=(13, 4), style='r^-').set(\n",
        "                      title='суммарными продажами по годам платформы  PS2',\n",
        "                      xlabel='год', ylabel='количество игр');"
      ]
    },
    {
      "cell_type": "markdown",
      "metadata": {
        "id": "gG9I9MhCSoBi"
      },
      "source": [
        "**Вывод:**\n",
        "- **платформа PS2, продажи начались 2000г, пик продаж наблюдался в период с 2001г по 2005г, затем следует спад, в 2011г. продажи прекратились**"
      ]
    },
    {
      "cell_type": "code",
      "execution_count": null,
      "metadata": {
        "scrolled": true,
        "id": "peIm7DgxSoBi",
        "outputId": "e71a2d0b-ec38-40fa-9627-f4bd3b7773be"
      },
      "outputs": [
        {
          "data": {
            "image/png": "[encoded data removed]",
            "text/plain": [
              "<Figure size 936x288 with 1 Axes>"
            ]
          },
          "metadata": {
            "needs_background": "light"
          },
          "output_type": "display_data"
        }
      ],
      "source": [
        "df.query('platform == \"X360\"').pivot_table(index='year_of_release', values='total_sales', aggfunc='sum').reset_index().plot(\n",
        "                      x='year_of_release', y='total_sales', grid=True, figsize=(13, 4), style='y^-').set(\n",
        "                      title='суммарными продажами по годам платформы X360',\n",
        "                      xlabel='год', ylabel='количество игр');"
      ]
    },
    {
      "cell_type": "markdown",
      "metadata": {
        "id": "ye7fq1ulSoBi"
      },
      "source": [
        "**Вывод:**\n",
        "- **платформа X360, продажи начались 2005г, пик продаж наблюдался в период с 2007г по 2012г, затем следует спад, в 2016г. продажи прекратились**"
      ]
    },
    {
      "cell_type": "code",
      "execution_count": null,
      "metadata": {
        "scrolled": true,
        "id": "BTuPQe1QSoBj",
        "outputId": "a40c5800-3a7a-4077-f221-89cc4fad11de"
      },
      "outputs": [
        {
          "data": {
            "image/png": "[encoded data removed]",
            "text/plain": [
              "<Figure size 936x288 with 1 Axes>"
            ]
          },
          "metadata": {
            "needs_background": "light"
          },
          "output_type": "display_data"
        }
      ],
      "source": [
        "df.query('platform == \"PS3\"').pivot_table(index='year_of_release', values='total_sales', aggfunc='sum').reset_index().plot(\n",
        "                      x='year_of_release', y='total_sales', grid=True, figsize=(13, 4), style='b^-').set(\n",
        "                      title='суммарными продажами по годам платформы  PS3',\n",
        "                      xlabel='год', ylabel='количество игр');"
      ]
    },
    {
      "cell_type": "markdown",
      "metadata": {
        "id": "4jpnOZHGSoBj"
      },
      "source": [
        "**Вывод:**\n",
        "- **платформа PS3, продажи начались 2006г, пик продаж наблюдался в период с 2008г по 2013г, затем следует спад, в 2016г. продажи прекратились**"
      ]
    },
    {
      "cell_type": "code",
      "execution_count": null,
      "metadata": {
        "id": "Luk-RGSPSoBj",
        "outputId": "0c355aa8-0e82-4030-844b-4e8c65d65c34"
      },
      "outputs": [
        {
          "data": {
            "image/png": "[encoded data removed]",
            "text/plain": [
              "<Figure size 936x288 with 1 Axes>"
            ]
          },
          "metadata": {
            "needs_background": "light"
          },
          "output_type": "display_data"
        }
      ],
      "source": [
        "df.query('platform == \"Wii\"').pivot_table(index='year_of_release', values='total_sales', aggfunc='sum').reset_index().plot(\n",
        "                      x='year_of_release', y='total_sales', grid=True, figsize=(13, 4), style='g^-').set(\n",
        "                      title='суммарными продажами по годам платформы  Wii',\n",
        "                      xlabel='год', ylabel='количество игр');"
      ]
    },
    {
      "cell_type": "markdown",
      "metadata": {
        "id": "xcuouEWaSoBj"
      },
      "source": [
        "**Вывод:**\n",
        "- **платформа Wii, продажи начались 2006г, пик продаж наблюдался в период с 2006г по 2010г, затем следует спад, в 2016г. продажи прекратились**"
      ]
    },
    {
      "cell_type": "code",
      "execution_count": null,
      "metadata": {
        "scrolled": true,
        "id": "hp8tcRL1SoBj",
        "outputId": "164848cc-abcc-4fe9-d8e6-b32be0bd47cc"
      },
      "outputs": [
        {
          "data": {
            "image/png": "[encoded data removed]",
            "text/plain": [
              "<Figure size 936x288 with 1 Axes>"
            ]
          },
          "metadata": {
            "needs_background": "light"
          },
          "output_type": "display_data"
        }
      ],
      "source": [
        "df.query('platform == \"DS\"').pivot_table(index='year_of_release', values='total_sales', aggfunc='sum').reset_index().plot(\n",
        "                      x='year_of_release', y='total_sales', grid=True, figsize=(13, 4), style='r^-').set(\n",
        "                      title='суммарными продажами по годам платформы  DS',\n",
        "                      xlabel='год', ylabel='количество игр');"
      ]
    },
    {
      "cell_type": "markdown",
      "metadata": {
        "id": "RZxrlBe2SoBj"
      },
      "source": [
        "**Вывод:**\n",
        "- **платформа DS, продажи начались 1985г, пик продаж наблюдался в период с 2005г по 2009г, затем следует спад, в 2013г. продажи прекратились**"
      ]
    },
    {
      "cell_type": "code",
      "execution_count": null,
      "metadata": {
        "id": "zyCUXjXhSoBk",
        "outputId": "eb5ad2c1-063d-49fe-e8dc-daca54971cc6"
      },
      "outputs": [
        {
          "data": {
            "image/png": "[encoded data removed]",
            "text/plain": [
              "<Figure size 936x288 with 1 Axes>"
            ]
          },
          "metadata": {
            "needs_background": "light"
          },
          "output_type": "display_data"
        }
      ],
      "source": [
        "df.query('platform == \"PS\"').pivot_table(index='year_of_release', values='total_sales', aggfunc='sum').reset_index().plot(\n",
        "                      x='year_of_release', y='total_sales', grid=True, figsize=(13, 4), style='y^-').set(\n",
        "                      title='суммарными продажами по годам платформы  PS',\n",
        "                      xlabel='год', ylabel='количество игр');"
      ]
    },
    {
      "cell_type": "markdown",
      "metadata": {
        "id": "QMB8FeDcSoBk"
      },
      "source": [
        "**Вывод:**\n",
        "- **платформа PS, продажи начались 1994г, пик продаж наблюдался в период с 1997г по 1999г, затем следует спад, в 2003г. продажи прекратились**"
      ]
    },
    {
      "cell_type": "markdown",
      "metadata": {
        "id": "zkVhTGksSoBk"
      },
      "source": [
        "**Общий вывод по пункту 3.3:**\n",
        "- **старые плотформы образовывались 1985 и 1994 годах в среднем живут от 10 до 20 лет**\n",
        "- **новые платформы появляются примерно через 2-3 года после исчезновения старых**\n",
        "    "
      ]
    },
    {
      "cell_type": "markdown",
      "metadata": {
        "id": "K5ntq_CJSoBk"
      },
      "source": [
        "### Построим прогноз на 2017 год."
      ]
    },
    {
      "cell_type": "markdown",
      "metadata": {
        "id": "pZ3o6ONASoBk"
      },
      "source": [
        "**по ранее отобранным перспективным группам X360, PS3, Wii проведем прогноз на 2017 год., на графике \"количество игр выпущеное в разные годы\" четко прослеживается аналитическое плато с 2013г по 2016г, его и возьмем за актуальный период.**"
      ]
    },
    {
      "cell_type": "code",
      "execution_count": null,
      "metadata": {
        "id": "dclNmz4ASoBk"
      },
      "outputs": [],
      "source": [
        "slice_year = df.query('year_of_release >= 2013')"
      ]
    },
    {
      "cell_type": "code",
      "execution_count": null,
      "metadata": {
        "id": "06W5xfEuSoBl",
        "outputId": "59f9f962-44d0-445b-adc0-8b37e84612f4"
      },
      "outputs": [
        {
          "data": {
            "image/png": "[encoded data removed]",
            "text/plain": [
              "<Figure size 432x288 with 1 Axes>"
            ]
          },
          "metadata": {
            "needs_background": "light"
          },
          "output_type": "display_data"
        }
      ],
      "source": [
        "slice_year.query('platform == \"X360\"').pivot_table(\n",
        "    index='year_of_release', values='total_sales', aggfunc='sum').plot(kind='bar').set(\n",
        "                      title='суммарными выпуск игр за актуальный период платформы  X360',\n",
        "                      xlabel='актуальный период', ylabel='количество игр');"
      ]
    },
    {
      "cell_type": "code",
      "execution_count": null,
      "metadata": {
        "id": "wKVviJONSoBl",
        "outputId": "48ae5806-337d-47b6-b6a5-d5ba2604279a"
      },
      "outputs": [
        {
          "data": {
            "image/png": "[encoded data removed]",
            "text/plain": [
              "<Figure size 432x288 with 1 Axes>"
            ]
          },
          "metadata": {
            "needs_background": "light"
          },
          "output_type": "display_data"
        }
      ],
      "source": [
        "slice_year.query('platform == \"PS3\"').pivot_table(\n",
        "    index='year_of_release', values='total_sales', aggfunc='sum').plot(kind='bar').set(\n",
        "                      title='суммарными выпуск игр за актуальный период платформы  PS3',\n",
        "                      xlabel='актуальный период', ylabel='количество игр');"
      ]
    },
    {
      "cell_type": "code",
      "execution_count": null,
      "metadata": {
        "id": "UuHGbfxzSoBl",
        "outputId": "ca83cc78-a654-4e47-fb05-49e7db34c926"
      },
      "outputs": [
        {
          "data": {
            "image/png": "[encoded data removed]",
            "text/plain": [
              "<Figure size 432x288 with 1 Axes>"
            ]
          },
          "metadata": {
            "needs_background": "light"
          },
          "output_type": "display_data"
        }
      ],
      "source": [
        "slice_year.query('platform == \"Wii\"').pivot_table(\n",
        "    index='year_of_release', values='total_sales', aggfunc='sum').plot(kind='bar').set(\n",
        "                      title='суммарными выпуск игр за актуальный период платформы  Wii',\n",
        "                      xlabel='актуальный период', ylabel='количество игр');"
      ]
    },
    {
      "cell_type": "markdown",
      "metadata": {
        "id": "DGeOMnAPSoBl"
      },
      "source": [
        "**Вывод:**\n",
        "- **по выше построиным гистограммам с наибольшой вероятностью можно сказать, что 2017 году будут выпускаться игры на платформах X360, PS3**"
      ]
    },
    {
      "cell_type": "markdown",
      "metadata": {
        "id": "pTSF04oPSoBm"
      },
      "source": [
        "### Выберим несколько потенциально прибыльных платформ."
      ]
    },
    {
      "cell_type": "markdown",
      "metadata": {
        "id": "mhfJDIdfSoBm"
      },
      "source": [
        "**Вывод:**\n",
        "- **наиболее прибыльными платформами можно считать X360, PS3, Wii так как они в топе по прибыли, продолительности продаж и перспективе ближайшего будущего.**\n",
        "- **есть смысл развивать и вкладываться в выше указанные платформы.**"
      ]
    },
    {
      "cell_type": "markdown",
      "metadata": {
        "id": "XL7GykMgSoBm"
      },
      "source": [
        "### Построим график «ящик с усами» по глобальным платформам."
      ]
    },
    {
      "cell_type": "code",
      "execution_count": null,
      "metadata": {
        "scrolled": true,
        "id": "peFgEZ6ASoBm",
        "outputId": "a1174800-7528-46aa-9ec4-33cfa14d6d0e"
      },
      "outputs": [
        {
          "data": {
            "image/png": "[encoded data removed]",
            "text/plain": [
              "<Figure size 1440x432 with 1 Axes>"
            ]
          },
          "metadata": {
            "needs_background": "light"
          },
          "output_type": "display_data"
        }
      ],
      "source": [
        "# построим график по глобальным продажам игр в разбивке по платформам\n",
        "fig = plt.figure(figsize = (20,6))\n",
        "sns.boxplot(data = slice_year, y = 'total_sales', x = 'platform').set(\n",
        "    title = 'Продажи по перспективным платформам за 2013-2016 гг',\n",
        "    xlabel = 'Платформы', ylabel = 'Общие продажи', ylim=(0, 3))\n",
        "plt.show()"
      ]
    },
    {
      "cell_type": "markdown",
      "metadata": {
        "id": "xXWiKgB-SoBm"
      },
      "source": [
        "**Вывод:**\n",
        "- **большевсего продаются платформы X360, PS4, XOne, WiiU, Wii**\n",
        "- **медианы у лидеров находятся примерно на одном уровне**\n",
        "- **выбросы и аномалии находятся за приделами усов**\n",
        "- **широкий размах усов у ящиков говорит о том, что в диапазон попадает большое число продаж**"
      ]
    },
    {
      "cell_type": "markdown",
      "metadata": {
        "id": "k_LyEBT0SoBm"
      },
      "source": [
        "###  Строим диаграмму рассеяния и посчитаем корреляцию между отзывами и продажами одной популярной платформы PS3."
      ]
    },
    {
      "cell_type": "code",
      "execution_count": null,
      "metadata": {
        "id": "0vOiknh-SoBm",
        "outputId": "3026d635-3a51-4bcd-959d-4165178819eb"
      },
      "outputs": [
        {
          "data": {
            "text/plain": [
              "[Text(0.5, 1.0, 'Диаграмма рассеивания между отзывами критиков и продажами'),\n",
              " Text(0.5, 0, 'Отзывы'),\n",
              " Text(0, 0.5, 'Продажи')]"
            ]
          },
          "execution_count": 41,
          "metadata": {},
          "output_type": "execute_result"
        },
        {
          "data": {
            "image/png": "[encoded data removed]",
            "text/plain": [
              "<Figure size 432x288 with 1 Axes>"
            ]
          },
          "metadata": {
            "needs_background": "light"
          },
          "output_type": "display_data"
        }
      ],
      "source": [
        "popular_platform = df.query('platform == \"PS3\"')\n",
        "popular_platform[popular_platform['critic_score'] != 0].plot(x='critic_score', y='total_sales', kind='scatter', alpha=0.6).set(\n",
        "    title='Диаграмма рассеивания между отзывами критиков и продажами', xlabel='Отзывы', ylabel='Продажи')"
      ]
    },
    {
      "cell_type": "markdown",
      "metadata": {
        "id": "j_H_XENfSoBn"
      },
      "source": [
        "**Вывод:**\n",
        "- **на диаграмме видно, что отрывов мало**\n",
        "- **в целом даграмма плотная**"
      ]
    },
    {
      "cell_type": "markdown",
      "metadata": {
        "id": "coJlZHe4SoBn"
      },
      "source": [
        "**Коэффициент Пирсона**"
      ]
    },
    {
      "cell_type": "code",
      "execution_count": null,
      "metadata": {
        "id": "6VU_eOkDSoBn",
        "outputId": "d5a2b465-878b-4554-d155-a58fea91dd9f"
      },
      "outputs": [
        {
          "name": "stdout",
          "output_type": "stream",
          "text": [
            "0.35514556594230773\n"
          ]
        }
      ],
      "source": [
        "print(popular_platform['critic_score'].corr(popular_platform['total_sales']))"
      ]
    },
    {
      "cell_type": "markdown",
      "metadata": {
        "id": "tv7yziFFSoBn"
      },
      "source": [
        "**Вывод:**\n",
        "- **Корреляция в 0.35 говорит о наличии довольно слабой связи.**"
      ]
    },
    {
      "cell_type": "code",
      "execution_count": null,
      "metadata": {
        "id": "HCcP-PVDSoBn",
        "outputId": "c28cbc4a-3231-4038-f8fa-dddf3e3b6c84"
      },
      "outputs": [
        {
          "data": {
            "text/plain": [
              "[Text(0.5, 1.0, 'Диаграмма рассеивания между отзывами пользователей и продажами'),\n",
              " Text(0.5, 0, 'Отзывы'),\n",
              " Text(0, 0.5, 'Продажи')]"
            ]
          },
          "execution_count": 43,
          "metadata": {},
          "output_type": "execute_result"
        },
        {
          "data": {
            "image/png": "[encoded data removed]",
            "text/plain": [
              "<Figure size 432x288 with 1 Axes>"
            ]
          },
          "metadata": {
            "needs_background": "light"
          },
          "output_type": "display_data"
        }
      ],
      "source": [
        "popular_platform = df.query('platform == \"PS3\"')\n",
        "popular_platform[popular_platform['user_score'] != 0].plot(x='user_score', y='total_sales', kind='scatter', alpha=0.6).set(\n",
        "    title='Диаграмма рассеивания между отзывами пользователей и продажами', xlabel='Отзывы', ylabel='Продажи')"
      ]
    },
    {
      "cell_type": "markdown",
      "metadata": {
        "id": "Te-km87vSoBo"
      },
      "source": [
        "**Вывод:**\n",
        "- **на диаграмме видно, что отрывов мало**\n",
        "- **в целом даграмма плотная**"
      ]
    },
    {
      "cell_type": "markdown",
      "metadata": {
        "id": "sB7nvNNdSoBo"
      },
      "source": [
        "**Коэффициент Пирсона**"
      ]
    },
    {
      "cell_type": "code",
      "execution_count": null,
      "metadata": {
        "id": "h9c6A2XLSoBo",
        "outputId": "fe7684c0-3316-46fc-fb9c-71cb90e9224e"
      },
      "outputs": [
        {
          "name": "stdout",
          "output_type": "stream",
          "text": [
            "0.2745827060165664\n"
          ]
        }
      ],
      "source": [
        "print(popular_platform['user_score'].corr(popular_platform['total_sales']))"
      ]
    },
    {
      "cell_type": "markdown",
      "metadata": {
        "id": "_oYy26AqSoBo"
      },
      "source": [
        "**Вывод:**\n",
        "- **Корреляция в 0.27 говорит о наличии довольно слабой связи.**"
      ]
    },
    {
      "cell_type": "markdown",
      "metadata": {
        "id": "qASFrCMTSoBo"
      },
      "source": [
        "**Общий вывод по разделу:**\n",
        "- **отзывы критиков и пользователей не влияют на продажи**"
      ]
    },
    {
      "cell_type": "markdown",
      "metadata": {
        "id": "SJ8HTkRQSoBo"
      },
      "source": [
        "### Соотнесём выводы с продажами игр на других платформах."
      ]
    },
    {
      "cell_type": "code",
      "execution_count": null,
      "metadata": {
        "id": "FYpMoaCfSoBo",
        "outputId": "e1569afe-6e2c-43c7-dc1b-5548f85f155c"
      },
      "outputs": [
        {
          "data": {
            "text/plain": [
              "[Text(0.5, 1.0, 'Диаграмма рассеивания между отзывами критиков и продажами'),\n",
              " Text(0.5, 0, 'Отзывы'),\n",
              " Text(0, 0.5, 'Продажи')]"
            ]
          },
          "execution_count": 45,
          "metadata": {},
          "output_type": "execute_result"
        },
        {
          "data": {
            "image/png": "[encoded data removed]",
            "text/plain": [
              "<Figure size 432x288 with 1 Axes>"
            ]
          },
          "metadata": {
            "needs_background": "light"
          },
          "output_type": "display_data"
        }
      ],
      "source": [
        "df[df['critic_score'] != 0].plot(x='critic_score', y='total_sales', kind='scatter', alpha=0.6).set(\n",
        "    title='Диаграмма рассеивания между отзывами критиков и продажами', xlabel='Отзывы', ylabel='Продажи')"
      ]
    },
    {
      "cell_type": "markdown",
      "metadata": {
        "id": "glaNJTCMSoBp"
      },
      "source": [
        "**Коэффициент Пирсона**"
      ]
    },
    {
      "cell_type": "code",
      "execution_count": null,
      "metadata": {
        "id": "_VOPOpIGSoBp",
        "outputId": "31ba2aab-27c8-4d4b-945c-9e0f8ad985d8"
      },
      "outputs": [
        {
          "name": "stdout",
          "output_type": "stream",
          "text": [
            "0.14865560806273065\n"
          ]
        }
      ],
      "source": [
        "print(df['critic_score'].corr(df['total_sales']))"
      ]
    },
    {
      "cell_type": "code",
      "execution_count": null,
      "metadata": {
        "id": "V2HPs4g4SoBp",
        "outputId": "f3dbd6b3-dfa7-460d-9747-6ea1dd113a24"
      },
      "outputs": [
        {
          "data": {
            "text/plain": [
              "[Text(0.5, 1.0, 'Диаграмма рассеивания между отзывами пользователей и продажами'),\n",
              " Text(0.5, 0, 'Отзывы'),\n",
              " Text(0, 0.5, 'Продажи')]"
            ]
          },
          "execution_count": 47,
          "metadata": {},
          "output_type": "execute_result"
        },
        {
          "data": {
            "image/png": "[encoded data removed]",
            "text/plain": [
              "<Figure size 432x288 with 1 Axes>"
            ]
          },
          "metadata": {
            "needs_background": "light"
          },
          "output_type": "display_data"
        }
      ],
      "source": [
        "df[df['user_score'] != 0].plot(x='user_score', y='total_sales', kind='scatter', alpha=0.6).set(\n",
        "    title='Диаграмма рассеивания между отзывами пользователей и продажами', xlabel='Отзывы', ylabel='Продажи')"
      ]
    },
    {
      "cell_type": "markdown",
      "metadata": {
        "id": "Umk2LcqcSoBp"
      },
      "source": [
        "**Коэффициент Пирсона**"
      ]
    },
    {
      "cell_type": "code",
      "execution_count": null,
      "metadata": {
        "scrolled": true,
        "id": "dx6jZHp4SoBp",
        "outputId": "3a9f5d3c-e063-498d-f50f-f7ee47ba09e7"
      },
      "outputs": [
        {
          "name": "stdout",
          "output_type": "stream",
          "text": [
            "0.1361811453991485\n"
          ]
        }
      ],
      "source": [
        "print(df['user_score'].corr(df['total_sales']))"
      ]
    },
    {
      "cell_type": "markdown",
      "metadata": {
        "id": "qXCYBlk3SoBp"
      },
      "source": [
        "**Вывод:**\n",
        "- **отзывы критиков и пользователей не влияют на продажи на других платформах**"
      ]
    },
    {
      "cell_type": "markdown",
      "metadata": {
        "id": "PXCbE5_XSoBq"
      },
      "source": [
        "### Рассмотрим общие распределение игр по жанрам медианным значение."
      ]
    },
    {
      "cell_type": "code",
      "execution_count": null,
      "metadata": {
        "id": "R6Phz8T7SoBq",
        "outputId": "c2f0b0ca-bdb0-45a7-9e35-85ec480e3297"
      },
      "outputs": [
        {
          "data": {
            "image/png": "[encoded data removed]",
            "text/plain": [
              "<Figure size 936x576 with 1 Axes>"
            ]
          },
          "metadata": {
            "needs_background": "light"
          },
          "output_type": "display_data"
        }
      ],
      "source": [
        "plt.figure(figsize=(13, 8))\n",
        "platform_slice = slice_year.pivot_table(index='genre', values='total_sales', aggfunc='median').sort_values(\n",
        "    'total_sales', ascending=False)\n",
        "(sns.barplot(data = platform_slice, x = platform_slice.index, y = 'total_sales', color = 'green'))\n",
        "plt.title('Продажи по жанрам за 2013-2016 гг', fontsize=16, color = 'blue')\n",
        "plt.xlabel('Платформы', fontsize=12, color = 'red')\n",
        "plt.ylabel('Общие продажи',fontsize=12, color = 'red')\n",
        "plt.show()"
      ]
    },
    {
      "cell_type": "markdown",
      "metadata": {
        "id": "3iWQAdyqSoBq"
      },
      "source": [
        "**Вывод:**\n",
        "- **после распределения игр по жанрам медианным значение, в топ 3 по жанрам входит Shooter,  Sport, Platform**"
      ]
    },
    {
      "cell_type": "markdown",
      "metadata": {
        "id": "BJSqUFm3SoBr"
      },
      "source": [
        "## Составим портрет пользователя каждого региона."
      ]
    },
    {
      "cell_type": "markdown",
      "metadata": {
        "id": "hRsyVsSuSoBr"
      },
      "source": [
        "### Определим для пользователя каждого региона (NA, EU, JP)"
      ]
    },
    {
      "cell_type": "markdown",
      "metadata": {
        "id": "9wyWZzF4SoBr"
      },
      "source": [
        "### Самые популярные платформы (топ-5)."
      ]
    },
    {
      "cell_type": "code",
      "execution_count": null,
      "metadata": {
        "id": "1TK8G8FCSoBr",
        "outputId": "263c7fb6-9613-44ce-cd6e-f7cedc8adb85"
      },
      "outputs": [
        {
          "data": {
            "image/png": "[encoded data removed]",
            "text/plain": [
              "<Figure size 936x576 with 1 Axes>"
            ]
          },
          "metadata": {
            "needs_background": "light"
          },
          "output_type": "display_data"
        }
      ],
      "source": [
        "# сумма проданных копий для Северной Америки по платформам\n",
        "na_platf = slice_year.groupby(['platform'])['na_sales'].agg(['sum'])\n",
        "# сумма проданных копий для Европы по платформам\n",
        "eu_platf = slice_year.groupby(['platform'])['eu_sales'].agg(['sum'])\n",
        "# сумма проданных копий для Японии по платформам\n",
        "jp_platf = slice_year.groupby(['platform'])['jp_sales'].agg(['sum'])\n",
        "# объединяем\n",
        "users_platf = pd.concat([na_platf, eu_platf, jp_platf], axis=1).reset_index()\n",
        "users_platf.columns = ['platform', 'na_sales', 'eu_sales', 'jp_sales']\n",
        "users_platf = users_platf.sort_values(by='na_sales', ascending=False)\n",
        "# строим bar plot\n",
        "users_platf.plot.bar(x=\"platform\", rot=0, figsize =(13, 8))\n",
        "plt.title('Сравнение популярности платформ в разных странах', fontsize=16, color = 'blue')\n",
        "plt.xlabel('Платформы', fontsize=12, color = 'red')\n",
        "plt.ylabel('Продажи, млн шт',fontsize=12, color = 'red')\n",
        "plt.show()"
      ]
    },
    {
      "cell_type": "markdown",
      "metadata": {
        "id": "SZVgQG_oSoBr"
      },
      "source": [
        "**Вывод:**\n",
        "- **в Америке в топ 5 входят платформы PS4, XOne, X360, PS3, 3DS**\n",
        "- **в Европе в топ 5 входят платформы PS4, PS3, XOne, X360,  3DS**\n",
        "- **в Японии в топ 5 входят платформы 3DS, PS3, PSV, PS4, WiiU**"
      ]
    },
    {
      "cell_type": "markdown",
      "metadata": {
        "id": "cjtMOsaGSoBr"
      },
      "source": [
        "### Самые популярные жанры (топ-5)."
      ]
    },
    {
      "cell_type": "code",
      "execution_count": null,
      "metadata": {
        "id": "K98k-H-WSoBs",
        "outputId": "0e6c5b06-c2a6-40a1-eea7-19209890d6f6"
      },
      "outputs": [
        {
          "data": {
            "image/png": "[encoded data removed]",
            "text/plain": [
              "<Figure size 936x576 with 1 Axes>"
            ]
          },
          "metadata": {
            "needs_background": "light"
          },
          "output_type": "display_data"
        }
      ],
      "source": [
        "# сумма проданных копий для Северной Америки по жанрам\n",
        "na_platf = slice_year.groupby(['genre'])['na_sales'].agg(['sum'])\n",
        "# сумма проданных копий для Европы по жанрам\n",
        "eu_platf = slice_year.groupby(['genre'])['eu_sales'].agg(['sum'])\n",
        "# сумма проданных копий для Японии по жанрам\n",
        "jp_platf = slice_year.groupby(['genre'])['jp_sales'].agg(['sum'])\n",
        "# объединяем\n",
        "users_platf = pd.concat([na_platf, eu_platf, jp_platf], axis=1).reset_index()\n",
        "users_platf.columns = ['genre', 'na_sales', 'eu_sales', 'jp_sales']\n",
        "users_platf = users_platf.sort_values(by='na_sales', ascending=False)\n",
        "# строим bar plot\n",
        "users_platf.plot.bar(x=\"genre\", rot=0, figsize =(13, 8))\n",
        "plt.title('Сравнение популярности платформ в разных странах', fontsize=16, color = 'blue')\n",
        "plt.xlabel('Жанры', fontsize=12, color = 'red')\n",
        "plt.ylabel('Продажи, млн шт',fontsize=12, color = 'red')\n",
        "plt.show()"
      ]
    },
    {
      "cell_type": "markdown",
      "metadata": {
        "id": "yYK3hkvQSoBs"
      },
      "source": [
        "**Вывод:**\n",
        "- **в Америке в топ 5 входят платформы Action, Shooter, Sport, Role-Playng, Misc**\n",
        "- **в Европе в топ 5 входят платформы Action, Shooter, Sport, Role-Playng, Misc**\n",
        "- **в Японии в топ 5 входят платформы Role-Playng, Action, Misc, Fighting, Shooter**"
      ]
    },
    {
      "cell_type": "markdown",
      "metadata": {
        "id": "8PGexOyGSoBs"
      },
      "source": [
        "### Оприделим влияние рейтинга ESRB на продажи в отдельном регионе."
      ]
    },
    {
      "cell_type": "code",
      "execution_count": null,
      "metadata": {
        "id": "7yPsZb6LSoBs",
        "outputId": "27fdaadc-eeaa-466e-e56c-afe4fdcc04c5"
      },
      "outputs": [
        {
          "data": {
            "image/png": "[encoded data removed]",
            "text/plain": [
              "<Figure size 936x576 with 1 Axes>"
            ]
          },
          "metadata": {
            "needs_background": "light"
          },
          "output_type": "display_data"
        }
      ],
      "source": [
        "# сумма проданных копий для Северной Америки по рейтенгу\n",
        "na_platf = slice_year.groupby(['rating'])['na_sales'].agg(['sum'])\n",
        "# сумма проданных копий для Европы по рейтенгу\n",
        "eu_platf = slice_year.groupby(['rating'])['eu_sales'].agg(['sum'])\n",
        "# сумма проданных копий для Японии по рейтенгу\n",
        "jp_platf = slice_year.groupby(['rating'])['jp_sales'].agg(['sum'])\n",
        "# объединяем\n",
        "users_platf = pd.concat([na_platf, eu_platf, jp_platf], axis=1).reset_index()\n",
        "users_platf.columns = ['rating', 'na_sales', 'eu_sales', 'jp_sales']\n",
        "users_platf = users_platf.sort_values(by='na_sales', ascending=False)\n",
        "# строим bar plot\n",
        "users_platf.plot.bar(x=\"rating\", rot=0, figsize =(13, 8))\n",
        "plt.title('Влияние рейтинга ESRB на продажи в отдельном регионе', fontsize=16, color = 'blue')\n",
        "plt.xlabel('Рейтинг', fontsize=12, color = 'red')\n",
        "plt.ylabel('Продажи, млн шт',fontsize=12, color = 'red')\n",
        "plt.show()"
      ]
    },
    {
      "cell_type": "markdown",
      "metadata": {
        "id": "2VhsSwD8SoBt"
      },
      "source": [
        "**Вывод:**\n",
        "- **из графика видно, что рейтинг влияет на продажи в отдельном регионе в связи с отличием предпочтений в Америке, Европе и Японии**"
      ]
    },
    {
      "cell_type": "markdown",
      "metadata": {
        "id": "KPTfmyIFSoBt"
      },
      "source": [
        "## Проверим гипотезы"
      ]
    },
    {
      "cell_type": "markdown",
      "metadata": {
        "id": "KA0tCkQvSoBt"
      },
      "source": [
        "### Средние пользовательские рейтинги платформ Xbox One и PC одинаковые"
      ]
    },
    {
      "cell_type": "markdown",
      "metadata": {
        "id": "RERC22CSSoBu"
      },
      "source": [
        "**Нулевая гипотеза:** Средние пользовательские рейтинги платформ Xbox One и PC одинаковые.\n",
        "\n",
        "**Альтернативная гипотеза:** Средние пользовательские рейтинги платформ Xbox One и PC различаются."
      ]
    },
    {
      "cell_type": "code",
      "execution_count": null,
      "metadata": {
        "id": "8nag8_DUSoBu",
        "outputId": "9c649c4f-0595-4ab1-8cae-fde66b8bb918"
      },
      "outputs": [
        {
          "name": "stdout",
          "output_type": "stream",
          "text": [
            "p-значение: 0.24875948537089854\n",
            "Принимаем нулевую гипотезу\n"
          ]
        }
      ],
      "source": [
        "# удаляем значения равные 0\n",
        "slice_year[slice_year['user_score'] != 0]\n",
        "\n",
        "results = st.ttest_ind(slice_year.query('platform == \"XOne\"')['user_score'], slice_year.query(\n",
        "    'platform == \"PC\"')['user_score'])\n",
        "\n",
        "alpha = .05\n",
        "print('p-значение:', results.pvalue)\n",
        "\n",
        "if results.pvalue < alpha:\n",
        "    print(\"Отвергаем нулевую гипотезу\")\n",
        "else:\n",
        "    print(\"Принимаем нулевую гипотезу\")"
      ]
    },
    {
      "cell_type": "markdown",
      "metadata": {
        "id": "EG2cULxXSoBu"
      },
      "source": [
        "**Вывод:**\n",
        "- Принимаем нулевую гипотезу"
      ]
    },
    {
      "cell_type": "markdown",
      "metadata": {
        "id": "4D_H4YTDSoBv"
      },
      "source": [
        "### Средние пользовательские рейтинги жанров Action разные"
      ]
    },
    {
      "cell_type": "markdown",
      "metadata": {
        "id": "OY__o8v_SoBv"
      },
      "source": [
        "**Нулевая гипотеза:** Средние пользовательские рейтинги жанров Action и Sports одинаковые.\n",
        "\n",
        "**Альтернативная гипотеза:** Средние пользовательские рейтинги жанров Action и Sports разные."
      ]
    },
    {
      "cell_type": "code",
      "execution_count": null,
      "metadata": {
        "id": "qtym58JMSoBv",
        "outputId": "cedfa92e-a4ed-4653-9c8b-18000ec16aed"
      },
      "outputs": [
        {
          "name": "stdout",
          "output_type": "stream",
          "text": [
            "p-значение: 0.09074207113403263\n",
            "Принимаем нулевую гипотезу\n"
          ]
        }
      ],
      "source": [
        "results = st.ttest_ind(slice_year.query('genre == \"Action\"')['user_score'], slice_year.query(\n",
        "    'genre == \"Sports\"')['user_score'])\n",
        "\n",
        "alpha = 0.05\n",
        "\n",
        "print('p-значение:', results.pvalue)\n",
        "\n",
        "if results.pvalue < alpha:\n",
        "    print(\"Отвергаем нулевую гипотезу\")\n",
        "else:\n",
        "    print(\"Принимаем нулевую гипотезу\")"
      ]
    },
    {
      "cell_type": "markdown",
      "metadata": {
        "id": "LmcaxLdNSoBv"
      },
      "source": [
        "**Вывод:**\n",
        "- Принимаем нулевую гипотезу"
      ]
    },
    {
      "cell_type": "markdown",
      "metadata": {
        "id": "s7FHu_8pSoBv"
      },
      "source": [
        "## Общий вывод:\n",
        "- изучив общую информацию и проведя подготовку данных, дубликатов не обнаружено, пропуски обнаружены в 5-ти столбцах\n",
        "- причина образования пропусков возможно ошибка при сооединении двух таблиц\n",
        "- **проведя иследовательский анализ определили:**\n",
        "- что пиковые значения продаж находятся в период с 2005 года по 2010 год, далее спад, возможно                                  повлиял кризис\n",
        "- максимальное количество продаж в 6-ти группах: PS2, X360, PS3, Wii, DS, PS\n",
        "- платформа PS2, продажи начались 2000г, пик продаж наблюдался в период с 2001г по 2005г, затем                                  следует спад, в 2011г. продажи прекратились\n",
        "- платформа X360, продажи начались 2005г, пик продаж наблюдался в период с 2007г по 2012г, затем                                следует спад, в 2016г. продажи прекратились\n",
        "- платформа PS3, продажи начались 2006г, пик продаж наблюдался в период с 2008г по 2013г, затем                                  следует с пад, в 2016г. продажи прекратились\n",
        "- платформа Wii, продажи начались 2006г, пик продаж наблюдался в период с 2006г по 2010г, затем                                  следует спад, в 2016г. продажи прекратились\n",
        "- платформа DS, продажи начались 1985г, пик продаж наблюдался в период с 2005г по 2009г, затем                                  следует спад, в 2013г. продажи прекратились\n",
        "- платформа PS, продажи начались 1994г, пик продаж наблюдался в период с 1997г по 1999г, затем                                 следует спад, в 2003г. продажи прекратились\n",
        "- старые плотформы образовывались 1985 и 1994 годах в среднем живут от 10 до 20 лет\n",
        "- новые платформы появляются примерно через 2-3 года после исчезновения старых\n",
        "- по ранее отобранным перспективным группам X360, PS3, Wii провели прогноз на 2017 год., на графике \"количество игр выпущеное в разные годы\" четко прослеживается аналитическое плато с 2013г по 2016г, его и возяли за актуальный период\n",
        "- с наибольшой вероятностью можно сказать, что 2017 году будут выпускаться игры на платформах X360, PS3\n",
        "- наиболее прибыльными платформами можно считать X360, PS3, Wii так как они в топе по прибыли, продолительности продаж и перспективе ближайшего будущего\n",
        "- есть смысл развивать и вкладываться в выше указанные платформы\n",
        "- отзывы критиков и пользователей не влияют на продажи\n",
        "- в топ 3 по жанрам входит Action, Shooter, Sport\n",
        "- **портрет пользователя каждого региона выглядит следующим образом:**\n",
        "- в Америке в топ 5 входят платформы PS4, XOne, X360, PS3, 3DS\n",
        "- в Европе в топ 5 входят платформы PS4, PS3, XOne, X360,  3DS\n",
        "- в Японии в топ 5 входят платформы 3DS, PS3, PSV, PS4, WiiU\n",
        "- в Америке в топ 5 входят платформы Action, Shooter, Sport, Role-Playng, Misc\n",
        "- в Европе в топ 5 входят платформы Action, Shooter, Sport, Role-Playng, Misc\n",
        "- в Японии в топ 5 входят платформы Role-Playng, Action, Misc, Fighting, Shooter\n",
        "- рейтинг влияет на продажи в отдельном регионе в связи с отличием                                                             предпочтений в Америке, Европе и Японии\n",
        "- **при проверке гипотиз выявили следующее:**\n",
        "- Приняли нулевую гипотезу \"Средние пользовательские рейтинги платформ Xbox One и PC                                            одинаковые.\"\n",
        "- Приняли нулевую гипотезу \"Средние пользовательские рейтинги жанров Action и Sports                                           одинаковые\""
      ]
    }
  ],
  "metadata": {
    "ExecuteTimeLog": [
      {
        "duration": 58,
        "start_time": "2023-03-15T06:43:01.919Z"
      },
      {
        "duration": 358,
        "start_time": "2023-03-15T06:43:26.642Z"
      },
      {
        "duration": 139,
        "start_time": "2023-03-15T06:43:27.278Z"
      },
      {
        "duration": 99,
        "start_time": "2023-03-15T06:44:00.504Z"
      },
      {
        "duration": 15,
        "start_time": "2023-03-15T06:46:46.635Z"
      },
      {
        "duration": 3,
        "start_time": "2023-03-15T06:53:45.611Z"
      },
      {
        "duration": 22,
        "start_time": "2023-03-15T06:54:01.427Z"
      },
      {
        "duration": 4,
        "start_time": "2023-03-15T07:05:02.224Z"
      },
      {
        "duration": 6,
        "start_time": "2023-03-15T07:05:19.482Z"
      },
      {
        "duration": 14,
        "start_time": "2023-03-15T07:05:49.148Z"
      },
      {
        "duration": 4,
        "start_time": "2023-03-15T07:05:58.320Z"
      },
      {
        "duration": 13,
        "start_time": "2023-03-15T07:05:58.670Z"
      },
      {
        "duration": 413,
        "start_time": "2023-03-15T07:06:17.503Z"
      },
      {
        "duration": 130,
        "start_time": "2023-03-15T07:06:17.918Z"
      },
      {
        "duration": 17,
        "start_time": "2023-03-15T07:06:18.050Z"
      },
      {
        "duration": 3,
        "start_time": "2023-03-15T07:06:18.069Z"
      },
      {
        "duration": 25,
        "start_time": "2023-03-15T07:06:18.074Z"
      },
      {
        "duration": 5,
        "start_time": "2023-03-15T07:06:18.101Z"
      },
      {
        "duration": 20,
        "start_time": "2023-03-15T07:06:18.107Z"
      },
      {
        "duration": 84,
        "start_time": "2023-03-15T07:09:49.785Z"
      },
      {
        "duration": 413,
        "start_time": "2023-03-15T07:10:10.909Z"
      },
      {
        "duration": 99,
        "start_time": "2023-03-15T07:10:11.325Z"
      },
      {
        "duration": 14,
        "start_time": "2023-03-15T07:10:11.426Z"
      },
      {
        "duration": 7,
        "start_time": "2023-03-15T07:10:11.441Z"
      },
      {
        "duration": 62,
        "start_time": "2023-03-15T07:10:11.449Z"
      },
      {
        "duration": 93,
        "start_time": "2023-03-15T07:10:11.512Z"
      },
      {
        "duration": 0,
        "start_time": "2023-03-15T07:10:11.607Z"
      },
      {
        "duration": 4,
        "start_time": "2023-03-15T07:10:28.321Z"
      },
      {
        "duration": 14,
        "start_time": "2023-03-15T07:10:31.746Z"
      },
      {
        "duration": 15,
        "start_time": "2023-03-15T07:11:59.288Z"
      },
      {
        "duration": 14,
        "start_time": "2023-03-15T07:11:59.914Z"
      },
      {
        "duration": 18,
        "start_time": "2023-03-15T07:20:17.280Z"
      },
      {
        "duration": 10,
        "start_time": "2023-03-15T07:22:00.339Z"
      },
      {
        "duration": 7,
        "start_time": "2023-03-15T07:30:53.758Z"
      },
      {
        "duration": 10,
        "start_time": "2023-03-15T07:32:34.171Z"
      },
      {
        "duration": 10,
        "start_time": "2023-03-15T07:34:54.323Z"
      },
      {
        "duration": 6,
        "start_time": "2023-03-15T07:39:44.843Z"
      },
      {
        "duration": 6,
        "start_time": "2023-03-15T07:40:11.406Z"
      },
      {
        "duration": 10,
        "start_time": "2023-03-15T07:51:53.669Z"
      },
      {
        "duration": 71,
        "start_time": "2023-03-15T07:52:13.123Z"
      },
      {
        "duration": 10,
        "start_time": "2023-03-15T07:52:19.223Z"
      },
      {
        "duration": 8,
        "start_time": "2023-03-15T07:52:44.886Z"
      },
      {
        "duration": 4,
        "start_time": "2023-03-15T07:54:25.955Z"
      },
      {
        "duration": 5,
        "start_time": "2023-03-15T07:56:18.995Z"
      },
      {
        "duration": 5,
        "start_time": "2023-03-15T07:59:22.849Z"
      },
      {
        "duration": 6,
        "start_time": "2023-03-15T07:59:33.390Z"
      },
      {
        "duration": 6,
        "start_time": "2023-03-15T08:02:34.042Z"
      },
      {
        "duration": 5,
        "start_time": "2023-03-15T08:07:10.429Z"
      },
      {
        "duration": 15,
        "start_time": "2023-03-15T08:11:24.754Z"
      },
      {
        "duration": 13,
        "start_time": "2023-03-15T08:12:25.797Z"
      },
      {
        "duration": 7,
        "start_time": "2023-03-15T08:13:17.899Z"
      },
      {
        "duration": 13,
        "start_time": "2023-03-15T08:14:14.127Z"
      },
      {
        "duration": 9,
        "start_time": "2023-03-15T08:16:26.128Z"
      },
      {
        "duration": 8,
        "start_time": "2023-03-15T08:18:02.582Z"
      },
      {
        "duration": 19,
        "start_time": "2023-03-15T08:29:22.423Z"
      },
      {
        "duration": 32,
        "start_time": "2023-03-15T08:30:54.461Z"
      },
      {
        "duration": 7,
        "start_time": "2023-03-15T08:43:23.099Z"
      },
      {
        "duration": 8,
        "start_time": "2023-03-15T08:43:23.640Z"
      },
      {
        "duration": 6,
        "start_time": "2023-03-15T08:43:36.928Z"
      },
      {
        "duration": 4,
        "start_time": "2023-03-15T08:46:29.279Z"
      },
      {
        "duration": 3,
        "start_time": "2023-03-15T08:49:15.170Z"
      },
      {
        "duration": 5,
        "start_time": "2023-03-15T08:49:15.677Z"
      },
      {
        "duration": 6,
        "start_time": "2023-03-15T08:49:16.712Z"
      },
      {
        "duration": 10,
        "start_time": "2023-03-15T08:50:49.252Z"
      },
      {
        "duration": 9,
        "start_time": "2023-03-15T08:52:20.623Z"
      },
      {
        "duration": 9,
        "start_time": "2023-03-15T08:55:38.726Z"
      },
      {
        "duration": 81,
        "start_time": "2023-03-15T08:59:04.803Z"
      },
      {
        "duration": 30,
        "start_time": "2023-03-15T08:59:19.426Z"
      },
      {
        "duration": 23,
        "start_time": "2023-03-15T08:59:42.943Z"
      },
      {
        "duration": 27,
        "start_time": "2023-03-15T09:00:42.615Z"
      },
      {
        "duration": 92,
        "start_time": "2023-03-15T09:04:25.017Z"
      },
      {
        "duration": 10,
        "start_time": "2023-03-15T09:04:32.029Z"
      },
      {
        "duration": 9,
        "start_time": "2023-03-15T09:04:41.113Z"
      },
      {
        "duration": 10,
        "start_time": "2023-03-15T09:05:16.735Z"
      },
      {
        "duration": 13,
        "start_time": "2023-03-15T09:05:31.109Z"
      },
      {
        "duration": 5,
        "start_time": "2023-03-15T09:07:08.656Z"
      },
      {
        "duration": 10,
        "start_time": "2023-03-15T09:10:13.924Z"
      },
      {
        "duration": 8,
        "start_time": "2023-03-15T09:10:54.434Z"
      },
      {
        "duration": 10,
        "start_time": "2023-03-15T09:11:04.907Z"
      },
      {
        "duration": 73,
        "start_time": "2023-03-15T09:12:21.029Z"
      },
      {
        "duration": 67,
        "start_time": "2023-03-15T09:12:31.217Z"
      },
      {
        "duration": 6,
        "start_time": "2023-03-15T09:16:00.910Z"
      },
      {
        "duration": 8,
        "start_time": "2023-03-15T09:16:02.644Z"
      },
      {
        "duration": 8,
        "start_time": "2023-03-15T09:16:57.174Z"
      },
      {
        "duration": 90,
        "start_time": "2023-03-15T09:19:20.264Z"
      },
      {
        "duration": 350,
        "start_time": "2023-03-15T09:22:25.246Z"
      },
      {
        "duration": 94,
        "start_time": "2023-03-15T09:22:25.598Z"
      },
      {
        "duration": 14,
        "start_time": "2023-03-15T09:22:25.694Z"
      },
      {
        "duration": 3,
        "start_time": "2023-03-15T09:22:25.710Z"
      },
      {
        "duration": 23,
        "start_time": "2023-03-15T09:22:25.715Z"
      },
      {
        "duration": 16,
        "start_time": "2023-03-15T09:22:25.740Z"
      },
      {
        "duration": 39,
        "start_time": "2023-03-15T09:22:25.758Z"
      },
      {
        "duration": 13,
        "start_time": "2023-03-15T09:22:25.798Z"
      },
      {
        "duration": 5,
        "start_time": "2023-03-15T09:22:25.813Z"
      },
      {
        "duration": 9,
        "start_time": "2023-03-15T09:22:25.821Z"
      },
      {
        "duration": 7,
        "start_time": "2023-03-15T09:22:25.832Z"
      },
      {
        "duration": 15,
        "start_time": "2023-03-15T09:22:25.840Z"
      },
      {
        "duration": 2,
        "start_time": "2023-03-15T09:22:25.856Z"
      },
      {
        "duration": 31,
        "start_time": "2023-03-15T09:22:25.860Z"
      },
      {
        "duration": 6,
        "start_time": "2023-03-15T09:22:25.892Z"
      },
      {
        "duration": 7,
        "start_time": "2023-03-15T09:22:25.899Z"
      },
      {
        "duration": 8,
        "start_time": "2023-03-15T09:22:25.908Z"
      },
      {
        "duration": 11,
        "start_time": "2023-03-15T09:22:25.918Z"
      },
      {
        "duration": 12,
        "start_time": "2023-03-15T09:22:25.930Z"
      },
      {
        "duration": 8,
        "start_time": "2023-03-15T09:22:25.943Z"
      },
      {
        "duration": 38,
        "start_time": "2023-03-15T09:22:25.953Z"
      },
      {
        "duration": 6,
        "start_time": "2023-03-15T09:32:29.141Z"
      },
      {
        "duration": 6,
        "start_time": "2023-03-15T09:32:31.374Z"
      },
      {
        "duration": 7,
        "start_time": "2023-03-15T09:33:47.571Z"
      },
      {
        "duration": 22,
        "start_time": "2023-03-15T09:35:18.723Z"
      },
      {
        "duration": 7,
        "start_time": "2023-03-15T10:16:08.929Z"
      },
      {
        "duration": 15,
        "start_time": "2023-03-15T10:16:20.527Z"
      },
      {
        "duration": 29,
        "start_time": "2023-03-15T10:16:43.186Z"
      },
      {
        "duration": 23,
        "start_time": "2023-03-15T10:16:54.726Z"
      },
      {
        "duration": 440,
        "start_time": "2023-03-17T07:42:45.576Z"
      },
      {
        "duration": 217,
        "start_time": "2023-03-17T07:42:46.018Z"
      },
      {
        "duration": 26,
        "start_time": "2023-03-17T07:42:46.236Z"
      },
      {
        "duration": 16,
        "start_time": "2023-03-17T07:42:46.264Z"
      },
      {
        "duration": 23,
        "start_time": "2023-03-17T07:42:46.284Z"
      },
      {
        "duration": 83,
        "start_time": "2023-03-17T07:42:46.309Z"
      },
      {
        "duration": 12,
        "start_time": "2023-03-17T07:42:46.394Z"
      },
      {
        "duration": 8,
        "start_time": "2023-03-17T07:42:46.408Z"
      },
      {
        "duration": 7,
        "start_time": "2023-03-17T07:42:46.418Z"
      },
      {
        "duration": 52,
        "start_time": "2023-03-17T07:42:46.426Z"
      },
      {
        "duration": 19,
        "start_time": "2023-03-17T07:42:46.480Z"
      },
      {
        "duration": 15,
        "start_time": "2023-03-17T07:42:46.501Z"
      },
      {
        "duration": 3,
        "start_time": "2023-03-17T07:42:46.518Z"
      },
      {
        "duration": 53,
        "start_time": "2023-03-17T07:42:46.524Z"
      },
      {
        "duration": 6,
        "start_time": "2023-03-17T07:42:46.579Z"
      },
      {
        "duration": 10,
        "start_time": "2023-03-17T07:42:46.590Z"
      },
      {
        "duration": 20,
        "start_time": "2023-03-17T07:42:46.602Z"
      },
      {
        "duration": 60,
        "start_time": "2023-03-17T07:42:46.623Z"
      },
      {
        "duration": 9,
        "start_time": "2023-03-17T07:42:46.685Z"
      },
      {
        "duration": 24,
        "start_time": "2023-03-17T07:42:46.696Z"
      },
      {
        "duration": 11,
        "start_time": "2023-03-17T07:42:46.722Z"
      },
      {
        "duration": 52,
        "start_time": "2023-03-17T07:42:46.754Z"
      },
      {
        "duration": 7,
        "start_time": "2023-03-17T07:42:46.808Z"
      },
      {
        "duration": 3183,
        "start_time": "2023-03-17T07:42:46.817Z"
      },
      {
        "duration": 54,
        "start_time": "2023-03-17T07:43:33.519Z"
      },
      {
        "duration": 373,
        "start_time": "2023-03-17T07:44:04.717Z"
      },
      {
        "duration": 310,
        "start_time": "2023-03-17T07:44:56.808Z"
      },
      {
        "duration": 292,
        "start_time": "2023-03-17T07:47:06.011Z"
      },
      {
        "duration": 38,
        "start_time": "2023-03-17T07:54:12.414Z"
      },
      {
        "duration": 313,
        "start_time": "2023-03-17T07:54:59.682Z"
      },
      {
        "duration": 275,
        "start_time": "2023-03-17T07:57:41.610Z"
      },
      {
        "duration": 347,
        "start_time": "2023-03-17T07:58:26.859Z"
      },
      {
        "duration": 310,
        "start_time": "2023-03-17T08:00:11.974Z"
      },
      {
        "duration": 237,
        "start_time": "2023-03-17T08:00:39.956Z"
      },
      {
        "duration": 20,
        "start_time": "2023-03-17T08:02:05.169Z"
      },
      {
        "duration": 360,
        "start_time": "2023-03-17T08:02:21.906Z"
      },
      {
        "duration": 218,
        "start_time": "2023-03-17T08:02:43.594Z"
      },
      {
        "duration": 22,
        "start_time": "2023-03-17T08:03:35.698Z"
      },
      {
        "duration": 222,
        "start_time": "2023-03-17T08:04:09.692Z"
      },
      {
        "duration": 159,
        "start_time": "2023-03-17T08:05:24.818Z"
      },
      {
        "duration": 388,
        "start_time": "2023-03-17T08:06:16.429Z"
      },
      {
        "duration": 9,
        "start_time": "2023-03-17T08:07:06.279Z"
      },
      {
        "duration": 146,
        "start_time": "2023-03-17T08:08:02.527Z"
      },
      {
        "duration": 392,
        "start_time": "2023-03-17T08:08:52.612Z"
      },
      {
        "duration": 143,
        "start_time": "2023-03-17T08:09:20.456Z"
      },
      {
        "duration": 386,
        "start_time": "2023-03-17T08:09:41.916Z"
      },
      {
        "duration": 215,
        "start_time": "2023-03-17T08:24:53.805Z"
      },
      {
        "duration": 243,
        "start_time": "2023-03-17T08:25:23.899Z"
      },
      {
        "duration": 224,
        "start_time": "2023-03-17T08:26:52.574Z"
      },
      {
        "duration": 230,
        "start_time": "2023-03-17T08:27:19.786Z"
      },
      {
        "duration": 194,
        "start_time": "2023-03-17T08:27:50.781Z"
      },
      {
        "duration": 178,
        "start_time": "2023-03-17T08:28:11.234Z"
      },
      {
        "duration": 200,
        "start_time": "2023-03-17T08:30:07.615Z"
      },
      {
        "duration": 263,
        "start_time": "2023-03-17T08:30:18.988Z"
      },
      {
        "duration": 4198,
        "start_time": "2023-03-17T08:31:59.060Z"
      },
      {
        "duration": 390,
        "start_time": "2023-03-17T08:32:20.055Z"
      },
      {
        "duration": 90,
        "start_time": "2023-03-17T08:32:20.447Z"
      },
      {
        "duration": 15,
        "start_time": "2023-03-17T08:32:20.539Z"
      },
      {
        "duration": 4,
        "start_time": "2023-03-17T08:32:20.556Z"
      },
      {
        "duration": 33,
        "start_time": "2023-03-17T08:32:20.561Z"
      },
      {
        "duration": 35,
        "start_time": "2023-03-17T08:32:20.596Z"
      },
      {
        "duration": 10,
        "start_time": "2023-03-17T08:32:20.633Z"
      },
      {
        "duration": 26,
        "start_time": "2023-03-17T08:32:20.644Z"
      },
      {
        "duration": 6,
        "start_time": "2023-03-17T08:32:20.672Z"
      },
      {
        "duration": 22,
        "start_time": "2023-03-17T08:32:20.680Z"
      },
      {
        "duration": 20,
        "start_time": "2023-03-17T08:32:20.704Z"
      },
      {
        "duration": 28,
        "start_time": "2023-03-17T08:32:20.726Z"
      },
      {
        "duration": 13,
        "start_time": "2023-03-17T08:32:20.755Z"
      },
      {
        "duration": 28,
        "start_time": "2023-03-17T08:32:20.769Z"
      },
      {
        "duration": 16,
        "start_time": "2023-03-17T08:32:20.799Z"
      },
      {
        "duration": 24,
        "start_time": "2023-03-17T08:32:20.817Z"
      },
      {
        "duration": 19,
        "start_time": "2023-03-17T08:32:20.842Z"
      },
      {
        "duration": 44,
        "start_time": "2023-03-17T08:32:20.863Z"
      },
      {
        "duration": 30,
        "start_time": "2023-03-17T08:32:20.909Z"
      },
      {
        "duration": 39,
        "start_time": "2023-03-17T08:32:20.941Z"
      },
      {
        "duration": 26,
        "start_time": "2023-03-17T08:32:20.982Z"
      },
      {
        "duration": 30,
        "start_time": "2023-03-17T08:32:21.010Z"
      },
      {
        "duration": 11,
        "start_time": "2023-03-17T08:32:21.042Z"
      },
      {
        "duration": 505,
        "start_time": "2023-03-17T08:32:21.055Z"
      },
      {
        "duration": 310,
        "start_time": "2023-03-17T08:32:21.562Z"
      },
      {
        "duration": 1682,
        "start_time": "2023-03-17T08:32:21.874Z"
      },
      {
        "duration": 0,
        "start_time": "2023-03-17T08:32:23.558Z"
      },
      {
        "duration": 184,
        "start_time": "2023-03-17T08:33:01.188Z"
      },
      {
        "duration": 173,
        "start_time": "2023-03-17T08:33:04.546Z"
      },
      {
        "duration": 237,
        "start_time": "2023-03-17T08:33:29.906Z"
      },
      {
        "duration": 197,
        "start_time": "2023-03-17T08:34:13.060Z"
      },
      {
        "duration": 164,
        "start_time": "2023-03-17T08:35:06.156Z"
      },
      {
        "duration": 179,
        "start_time": "2023-03-17T08:37:31.527Z"
      },
      {
        "duration": 166,
        "start_time": "2023-03-17T08:37:52.762Z"
      },
      {
        "duration": 175,
        "start_time": "2023-03-17T08:38:08.791Z"
      },
      {
        "duration": 185,
        "start_time": "2023-03-17T08:38:18.921Z"
      },
      {
        "duration": 169,
        "start_time": "2023-03-17T08:38:37.178Z"
      },
      {
        "duration": 143,
        "start_time": "2023-03-17T08:39:07.724Z"
      },
      {
        "duration": 180,
        "start_time": "2023-03-17T08:39:25.299Z"
      },
      {
        "duration": 196,
        "start_time": "2023-03-17T08:39:35.972Z"
      },
      {
        "duration": 68,
        "start_time": "2023-03-17T09:05:09.420Z"
      },
      {
        "duration": 64,
        "start_time": "2023-03-17T12:39:33.712Z"
      },
      {
        "duration": 8,
        "start_time": "2023-03-17T12:40:11.764Z"
      },
      {
        "duration": 516,
        "start_time": "2023-03-17T12:40:34.368Z"
      },
      {
        "duration": 140,
        "start_time": "2023-03-17T12:40:34.886Z"
      },
      {
        "duration": 21,
        "start_time": "2023-03-17T12:40:35.028Z"
      },
      {
        "duration": 27,
        "start_time": "2023-03-17T12:40:35.052Z"
      },
      {
        "duration": 56,
        "start_time": "2023-03-17T12:40:35.081Z"
      },
      {
        "duration": 35,
        "start_time": "2023-03-17T12:40:35.139Z"
      },
      {
        "duration": 16,
        "start_time": "2023-03-17T12:40:35.176Z"
      },
      {
        "duration": 35,
        "start_time": "2023-03-17T12:40:35.194Z"
      },
      {
        "duration": 27,
        "start_time": "2023-03-17T12:40:35.232Z"
      },
      {
        "duration": 29,
        "start_time": "2023-03-17T12:40:35.263Z"
      },
      {
        "duration": 24,
        "start_time": "2023-03-17T12:40:35.297Z"
      },
      {
        "duration": 33,
        "start_time": "2023-03-17T12:40:35.323Z"
      },
      {
        "duration": 4,
        "start_time": "2023-03-17T12:40:35.358Z"
      },
      {
        "duration": 18,
        "start_time": "2023-03-17T12:40:35.364Z"
      },
      {
        "duration": 29,
        "start_time": "2023-03-17T12:40:35.384Z"
      },
      {
        "duration": 11,
        "start_time": "2023-03-17T12:40:35.416Z"
      },
      {
        "duration": 27,
        "start_time": "2023-03-17T12:40:35.429Z"
      },
      {
        "duration": 16,
        "start_time": "2023-03-17T12:40:35.458Z"
      },
      {
        "duration": 16,
        "start_time": "2023-03-17T12:40:35.476Z"
      },
      {
        "duration": 27,
        "start_time": "2023-03-17T12:40:35.495Z"
      },
      {
        "duration": 9,
        "start_time": "2023-03-17T12:40:35.526Z"
      },
      {
        "duration": 34,
        "start_time": "2023-03-17T12:40:35.538Z"
      },
      {
        "duration": 14,
        "start_time": "2023-03-17T12:40:35.576Z"
      },
      {
        "duration": 676,
        "start_time": "2023-03-17T12:40:35.592Z"
      },
      {
        "duration": 355,
        "start_time": "2023-03-17T12:40:36.270Z"
      },
      {
        "duration": 193,
        "start_time": "2023-03-17T12:40:36.626Z"
      },
      {
        "duration": 265,
        "start_time": "2023-03-17T12:40:36.821Z"
      },
      {
        "duration": 210,
        "start_time": "2023-03-17T12:40:37.091Z"
      },
      {
        "duration": 197,
        "start_time": "2023-03-17T12:40:37.303Z"
      },
      {
        "duration": 206,
        "start_time": "2023-03-17T12:40:37.502Z"
      },
      {
        "duration": 197,
        "start_time": "2023-03-17T12:40:37.710Z"
      },
      {
        "duration": 264,
        "start_time": "2023-03-17T12:41:38.992Z"
      },
      {
        "duration": 202,
        "start_time": "2023-03-17T12:42:08.630Z"
      },
      {
        "duration": 10,
        "start_time": "2023-03-17T12:46:29.698Z"
      },
      {
        "duration": 225,
        "start_time": "2023-03-17T12:46:50.415Z"
      },
      {
        "duration": 185,
        "start_time": "2023-03-17T12:49:10.580Z"
      },
      {
        "duration": 201,
        "start_time": "2023-03-17T12:49:30.912Z"
      },
      {
        "duration": 194,
        "start_time": "2023-03-17T12:49:47.149Z"
      },
      {
        "duration": 8,
        "start_time": "2023-03-17T12:54:43.587Z"
      },
      {
        "duration": 142,
        "start_time": "2023-03-17T12:55:38.707Z"
      },
      {
        "duration": 1851,
        "start_time": "2023-03-17T12:56:52.088Z"
      },
      {
        "duration": 12,
        "start_time": "2023-03-17T12:58:34.316Z"
      },
      {
        "duration": 268,
        "start_time": "2023-03-17T12:58:54.283Z"
      },
      {
        "duration": 8,
        "start_time": "2023-03-17T12:59:11.749Z"
      },
      {
        "duration": 7,
        "start_time": "2023-03-17T12:59:15.770Z"
      },
      {
        "duration": 181,
        "start_time": "2023-03-17T12:59:16.205Z"
      },
      {
        "duration": 7,
        "start_time": "2023-03-17T12:59:25.969Z"
      },
      {
        "duration": 207,
        "start_time": "2023-03-17T12:59:28.171Z"
      },
      {
        "duration": 6,
        "start_time": "2023-03-17T12:59:45.346Z"
      },
      {
        "duration": 184,
        "start_time": "2023-03-17T12:59:46.085Z"
      },
      {
        "duration": 400,
        "start_time": "2023-03-17T13:00:08.000Z"
      },
      {
        "duration": 99,
        "start_time": "2023-03-17T13:00:08.402Z"
      },
      {
        "duration": 16,
        "start_time": "2023-03-17T13:00:08.503Z"
      },
      {
        "duration": 3,
        "start_time": "2023-03-17T13:00:08.520Z"
      },
      {
        "duration": 30,
        "start_time": "2023-03-17T13:00:08.525Z"
      },
      {
        "duration": 33,
        "start_time": "2023-03-17T13:00:08.558Z"
      },
      {
        "duration": 24,
        "start_time": "2023-03-17T13:00:08.594Z"
      },
      {
        "duration": 14,
        "start_time": "2023-03-17T13:00:08.621Z"
      },
      {
        "duration": 7,
        "start_time": "2023-03-17T13:00:08.638Z"
      },
      {
        "duration": 21,
        "start_time": "2023-03-17T13:00:08.646Z"
      },
      {
        "duration": 16,
        "start_time": "2023-03-17T13:00:08.669Z"
      },
      {
        "duration": 17,
        "start_time": "2023-03-17T13:00:08.687Z"
      },
      {
        "duration": 3,
        "start_time": "2023-03-17T13:00:08.706Z"
      },
      {
        "duration": 10,
        "start_time": "2023-03-17T13:00:08.712Z"
      },
      {
        "duration": 12,
        "start_time": "2023-03-17T13:00:08.724Z"
      },
      {
        "duration": 16,
        "start_time": "2023-03-17T13:00:08.738Z"
      },
      {
        "duration": 15,
        "start_time": "2023-03-17T13:00:08.755Z"
      },
      {
        "duration": 15,
        "start_time": "2023-03-17T13:00:08.772Z"
      },
      {
        "duration": 11,
        "start_time": "2023-03-17T13:00:08.788Z"
      },
      {
        "duration": 14,
        "start_time": "2023-03-17T13:00:08.801Z"
      },
      {
        "duration": 7,
        "start_time": "2023-03-17T13:00:08.816Z"
      },
      {
        "duration": 25,
        "start_time": "2023-03-17T13:00:08.825Z"
      },
      {
        "duration": 11,
        "start_time": "2023-03-17T13:00:08.851Z"
      },
      {
        "duration": 671,
        "start_time": "2023-03-17T13:00:08.864Z"
      },
      {
        "duration": 41,
        "start_time": "2023-03-17T13:00:09.538Z"
      },
      {
        "duration": 198,
        "start_time": "2023-03-17T13:00:09.581Z"
      },
      {
        "duration": 270,
        "start_time": "2023-03-17T13:00:09.781Z"
      },
      {
        "duration": 199,
        "start_time": "2023-03-17T13:00:10.053Z"
      },
      {
        "duration": 207,
        "start_time": "2023-03-17T13:00:10.254Z"
      },
      {
        "duration": 1326,
        "start_time": "2023-03-17T13:00:10.463Z"
      },
      {
        "duration": 0,
        "start_time": "2023-03-17T13:00:11.791Z"
      },
      {
        "duration": 0,
        "start_time": "2023-03-17T13:00:11.794Z"
      },
      {
        "duration": 0,
        "start_time": "2023-03-17T13:00:11.795Z"
      },
      {
        "duration": 13,
        "start_time": "2023-03-17T13:01:38.150Z"
      },
      {
        "duration": 256,
        "start_time": "2023-03-17T13:01:38.869Z"
      },
      {
        "duration": 423,
        "start_time": "2023-03-17T13:02:03.738Z"
      },
      {
        "duration": 97,
        "start_time": "2023-03-17T13:02:04.163Z"
      },
      {
        "duration": 18,
        "start_time": "2023-03-17T13:02:04.262Z"
      },
      {
        "duration": 27,
        "start_time": "2023-03-17T13:02:04.281Z"
      },
      {
        "duration": 70,
        "start_time": "2023-03-17T13:02:04.314Z"
      },
      {
        "duration": 59,
        "start_time": "2023-03-17T13:02:04.385Z"
      },
      {
        "duration": 28,
        "start_time": "2023-03-17T13:02:04.447Z"
      },
      {
        "duration": 37,
        "start_time": "2023-03-17T13:02:04.478Z"
      },
      {
        "duration": 9,
        "start_time": "2023-03-17T13:02:04.517Z"
      },
      {
        "duration": 46,
        "start_time": "2023-03-17T13:02:04.528Z"
      },
      {
        "duration": 20,
        "start_time": "2023-03-17T13:02:04.578Z"
      },
      {
        "duration": 36,
        "start_time": "2023-03-17T13:02:04.600Z"
      },
      {
        "duration": 30,
        "start_time": "2023-03-17T13:02:04.638Z"
      },
      {
        "duration": 25,
        "start_time": "2023-03-17T13:02:04.672Z"
      },
      {
        "duration": 31,
        "start_time": "2023-03-17T13:02:04.700Z"
      },
      {
        "duration": 21,
        "start_time": "2023-03-17T13:02:04.733Z"
      },
      {
        "duration": 15,
        "start_time": "2023-03-17T13:02:04.756Z"
      },
      {
        "duration": 26,
        "start_time": "2023-03-17T13:02:04.773Z"
      },
      {
        "duration": 20,
        "start_time": "2023-03-17T13:02:04.801Z"
      },
      {
        "duration": 30,
        "start_time": "2023-03-17T13:02:04.823Z"
      },
      {
        "duration": 20,
        "start_time": "2023-03-17T13:02:04.856Z"
      },
      {
        "duration": 29,
        "start_time": "2023-03-17T13:02:04.878Z"
      },
      {
        "duration": 14,
        "start_time": "2023-03-17T13:02:04.909Z"
      },
      {
        "duration": 518,
        "start_time": "2023-03-17T13:02:04.925Z"
      },
      {
        "duration": 11,
        "start_time": "2023-03-17T13:02:05.445Z"
      },
      {
        "duration": 274,
        "start_time": "2023-03-17T13:02:05.458Z"
      },
      {
        "duration": 267,
        "start_time": "2023-03-17T13:02:05.734Z"
      },
      {
        "duration": 228,
        "start_time": "2023-03-17T13:02:06.003Z"
      },
      {
        "duration": 204,
        "start_time": "2023-03-17T13:02:06.233Z"
      },
      {
        "duration": 263,
        "start_time": "2023-03-17T13:02:06.439Z"
      },
      {
        "duration": 199,
        "start_time": "2023-03-17T13:02:06.704Z"
      },
      {
        "duration": 206,
        "start_time": "2023-03-17T13:02:06.905Z"
      },
      {
        "duration": 2345,
        "start_time": "2023-03-17T13:02:07.113Z"
      },
      {
        "duration": 431,
        "start_time": "2023-03-17T13:04:30.471Z"
      },
      {
        "duration": 90,
        "start_time": "2023-03-17T13:04:30.904Z"
      },
      {
        "duration": 17,
        "start_time": "2023-03-17T13:04:30.996Z"
      },
      {
        "duration": 33,
        "start_time": "2023-03-17T13:04:31.015Z"
      },
      {
        "duration": 39,
        "start_time": "2023-03-17T13:04:31.050Z"
      },
      {
        "duration": 17,
        "start_time": "2023-03-17T13:04:31.091Z"
      },
      {
        "duration": 9,
        "start_time": "2023-03-17T13:04:31.110Z"
      },
      {
        "duration": 19,
        "start_time": "2023-03-17T13:04:31.121Z"
      },
      {
        "duration": 29,
        "start_time": "2023-03-17T13:04:31.141Z"
      },
      {
        "duration": 21,
        "start_time": "2023-03-17T13:04:31.176Z"
      },
      {
        "duration": 35,
        "start_time": "2023-03-17T13:04:31.199Z"
      },
      {
        "duration": 43,
        "start_time": "2023-03-17T13:04:31.236Z"
      },
      {
        "duration": 6,
        "start_time": "2023-03-17T13:04:31.281Z"
      },
      {
        "duration": 39,
        "start_time": "2023-03-17T13:04:31.289Z"
      },
      {
        "duration": 29,
        "start_time": "2023-03-17T13:04:31.330Z"
      },
      {
        "duration": 14,
        "start_time": "2023-03-17T13:04:31.361Z"
      },
      {
        "duration": 11,
        "start_time": "2023-03-17T13:04:31.377Z"
      },
      {
        "duration": 13,
        "start_time": "2023-03-17T13:04:31.389Z"
      },
      {
        "duration": 15,
        "start_time": "2023-03-17T13:04:31.404Z"
      },
      {
        "duration": 19,
        "start_time": "2023-03-17T13:04:31.420Z"
      },
      {
        "duration": 7,
        "start_time": "2023-03-17T13:04:31.441Z"
      },
      {
        "duration": 27,
        "start_time": "2023-03-17T13:04:31.450Z"
      },
      {
        "duration": 7,
        "start_time": "2023-03-17T13:04:31.479Z"
      },
      {
        "duration": 489,
        "start_time": "2023-03-17T13:04:31.488Z"
      },
      {
        "duration": 311,
        "start_time": "2023-03-17T13:04:31.979Z"
      },
      {
        "duration": 212,
        "start_time": "2023-03-17T13:04:32.292Z"
      },
      {
        "duration": 233,
        "start_time": "2023-03-17T13:04:32.506Z"
      },
      {
        "duration": 268,
        "start_time": "2023-03-17T13:04:32.743Z"
      },
      {
        "duration": 184,
        "start_time": "2023-03-17T13:04:33.012Z"
      },
      {
        "duration": 195,
        "start_time": "2023-03-17T13:04:33.198Z"
      },
      {
        "duration": 195,
        "start_time": "2023-03-17T13:04:33.395Z"
      },
      {
        "duration": 9,
        "start_time": "2023-03-17T13:04:33.592Z"
      },
      {
        "duration": 186,
        "start_time": "2023-03-17T13:04:33.603Z"
      },
      {
        "duration": 88,
        "start_time": "2023-03-17T13:05:38.784Z"
      },
      {
        "duration": 9,
        "start_time": "2023-03-17T13:05:46.553Z"
      },
      {
        "duration": 8,
        "start_time": "2023-03-17T13:05:49.114Z"
      },
      {
        "duration": 18,
        "start_time": "2023-03-17T13:05:49.629Z"
      },
      {
        "duration": 13,
        "start_time": "2023-03-17T13:06:41.028Z"
      },
      {
        "duration": 8,
        "start_time": "2023-03-17T13:06:46.302Z"
      },
      {
        "duration": 16,
        "start_time": "2023-03-17T13:06:47.100Z"
      },
      {
        "duration": 433,
        "start_time": "2023-03-17T13:07:02.973Z"
      },
      {
        "duration": 97,
        "start_time": "2023-03-17T13:07:03.409Z"
      },
      {
        "duration": 14,
        "start_time": "2023-03-17T13:07:03.508Z"
      },
      {
        "duration": 6,
        "start_time": "2023-03-17T13:07:03.524Z"
      },
      {
        "duration": 41,
        "start_time": "2023-03-17T13:07:03.532Z"
      },
      {
        "duration": 21,
        "start_time": "2023-03-17T13:07:03.576Z"
      },
      {
        "duration": 29,
        "start_time": "2023-03-17T13:07:03.598Z"
      },
      {
        "duration": 55,
        "start_time": "2023-03-17T13:07:03.629Z"
      },
      {
        "duration": 32,
        "start_time": "2023-03-17T13:07:03.686Z"
      },
      {
        "duration": 17,
        "start_time": "2023-03-17T13:07:03.721Z"
      },
      {
        "duration": 26,
        "start_time": "2023-03-17T13:07:03.740Z"
      },
      {
        "duration": 50,
        "start_time": "2023-03-17T13:07:03.768Z"
      },
      {
        "duration": 30,
        "start_time": "2023-03-17T13:07:03.819Z"
      },
      {
        "duration": 41,
        "start_time": "2023-03-17T13:07:03.851Z"
      },
      {
        "duration": 21,
        "start_time": "2023-03-17T13:07:03.894Z"
      },
      {
        "duration": 23,
        "start_time": "2023-03-17T13:07:03.917Z"
      },
      {
        "duration": 59,
        "start_time": "2023-03-17T13:07:03.941Z"
      },
      {
        "duration": 13,
        "start_time": "2023-03-17T13:07:04.003Z"
      },
      {
        "duration": 16,
        "start_time": "2023-03-17T13:07:04.018Z"
      },
      {
        "duration": 22,
        "start_time": "2023-03-17T13:07:04.036Z"
      },
      {
        "duration": 30,
        "start_time": "2023-03-17T13:07:04.060Z"
      },
      {
        "duration": 18,
        "start_time": "2023-03-17T13:07:04.091Z"
      },
      {
        "duration": 10,
        "start_time": "2023-03-17T13:07:04.111Z"
      },
      {
        "duration": 467,
        "start_time": "2023-03-17T13:07:04.123Z"
      },
      {
        "duration": 343,
        "start_time": "2023-03-17T13:07:04.592Z"
      },
      {
        "duration": 188,
        "start_time": "2023-03-17T13:07:04.937Z"
      },
      {
        "duration": 214,
        "start_time": "2023-03-17T13:07:05.127Z"
      },
      {
        "duration": 273,
        "start_time": "2023-03-17T13:07:05.345Z"
      },
      {
        "duration": 199,
        "start_time": "2023-03-17T13:07:05.620Z"
      },
      {
        "duration": 200,
        "start_time": "2023-03-17T13:07:05.821Z"
      },
      {
        "duration": 196,
        "start_time": "2023-03-17T13:07:06.023Z"
      },
      {
        "duration": 12,
        "start_time": "2023-03-17T13:07:06.221Z"
      },
      {
        "duration": 100,
        "start_time": "2023-03-17T13:07:06.235Z"
      },
      {
        "duration": 21,
        "start_time": "2023-03-17T13:09:01.271Z"
      },
      {
        "duration": 10,
        "start_time": "2023-03-17T13:09:05.139Z"
      },
      {
        "duration": 17,
        "start_time": "2023-03-17T13:09:05.612Z"
      },
      {
        "duration": 9,
        "start_time": "2023-03-17T13:16:45.684Z"
      },
      {
        "duration": 28,
        "start_time": "2023-03-17T13:18:07.767Z"
      },
      {
        "duration": 1322,
        "start_time": "2023-03-17T13:19:45.376Z"
      },
      {
        "duration": 505,
        "start_time": "2023-03-17T13:20:12.250Z"
      },
      {
        "duration": 98,
        "start_time": "2023-03-17T13:20:12.759Z"
      },
      {
        "duration": 17,
        "start_time": "2023-03-17T13:20:12.859Z"
      },
      {
        "duration": 4,
        "start_time": "2023-03-17T13:20:12.878Z"
      },
      {
        "duration": 27,
        "start_time": "2023-03-17T13:20:12.883Z"
      },
      {
        "duration": 19,
        "start_time": "2023-03-17T13:20:12.912Z"
      },
      {
        "duration": 11,
        "start_time": "2023-03-17T13:20:12.932Z"
      },
      {
        "duration": 41,
        "start_time": "2023-03-17T13:20:12.944Z"
      },
      {
        "duration": 23,
        "start_time": "2023-03-17T13:20:12.987Z"
      },
      {
        "duration": 5,
        "start_time": "2023-03-17T13:20:13.013Z"
      },
      {
        "duration": 12,
        "start_time": "2023-03-17T13:20:13.020Z"
      },
      {
        "duration": 17,
        "start_time": "2023-03-17T13:20:13.034Z"
      },
      {
        "duration": 2,
        "start_time": "2023-03-17T13:20:13.053Z"
      },
      {
        "duration": 5,
        "start_time": "2023-03-17T13:20:13.078Z"
      },
      {
        "duration": 9,
        "start_time": "2023-03-17T13:20:13.084Z"
      },
      {
        "duration": 11,
        "start_time": "2023-03-17T13:20:13.095Z"
      },
      {
        "duration": 8,
        "start_time": "2023-03-17T13:20:13.107Z"
      },
      {
        "duration": 13,
        "start_time": "2023-03-17T13:20:13.117Z"
      },
      {
        "duration": 10,
        "start_time": "2023-03-17T13:20:13.132Z"
      },
      {
        "duration": 34,
        "start_time": "2023-03-17T13:20:13.144Z"
      },
      {
        "duration": 5,
        "start_time": "2023-03-17T13:20:13.180Z"
      },
      {
        "duration": 20,
        "start_time": "2023-03-17T13:20:13.187Z"
      },
      {
        "duration": 5,
        "start_time": "2023-03-17T13:20:13.209Z"
      },
      {
        "duration": 548,
        "start_time": "2023-03-17T13:20:13.216Z"
      },
      {
        "duration": 295,
        "start_time": "2023-03-17T13:20:13.765Z"
      },
      {
        "duration": 182,
        "start_time": "2023-03-17T13:20:14.062Z"
      },
      {
        "duration": 207,
        "start_time": "2023-03-17T13:20:14.246Z"
      },
      {
        "duration": 257,
        "start_time": "2023-03-17T13:20:14.456Z"
      },
      {
        "duration": 174,
        "start_time": "2023-03-17T13:20:14.715Z"
      },
      {
        "duration": 195,
        "start_time": "2023-03-17T13:20:14.891Z"
      },
      {
        "duration": 190,
        "start_time": "2023-03-17T13:20:15.088Z"
      },
      {
        "duration": 7,
        "start_time": "2023-03-17T13:20:15.280Z"
      },
      {
        "duration": 1494,
        "start_time": "2023-03-17T13:20:15.289Z"
      },
      {
        "duration": 144,
        "start_time": "2023-03-17T13:21:01.236Z"
      },
      {
        "duration": 6,
        "start_time": "2023-03-17T13:21:45.521Z"
      },
      {
        "duration": 147,
        "start_time": "2023-03-17T13:21:46.707Z"
      },
      {
        "duration": 57,
        "start_time": "2023-03-17T16:36:08.562Z"
      },
      {
        "duration": 7,
        "start_time": "2023-03-17T16:36:09.964Z"
      },
      {
        "duration": 455,
        "start_time": "2023-03-17T16:36:21.831Z"
      },
      {
        "duration": 589,
        "start_time": "2023-03-17T16:36:22.288Z"
      },
      {
        "duration": 15,
        "start_time": "2023-03-17T16:36:22.878Z"
      },
      {
        "duration": 9,
        "start_time": "2023-03-17T16:36:22.895Z"
      },
      {
        "duration": 22,
        "start_time": "2023-03-17T16:36:22.906Z"
      },
      {
        "duration": 42,
        "start_time": "2023-03-17T16:36:22.930Z"
      },
      {
        "duration": 13,
        "start_time": "2023-03-17T16:36:22.974Z"
      },
      {
        "duration": 14,
        "start_time": "2023-03-17T16:36:22.989Z"
      },
      {
        "duration": 12,
        "start_time": "2023-03-17T16:36:23.005Z"
      },
      {
        "duration": 15,
        "start_time": "2023-03-17T16:36:23.019Z"
      },
      {
        "duration": 25,
        "start_time": "2023-03-17T16:36:23.036Z"
      },
      {
        "duration": 18,
        "start_time": "2023-03-17T16:36:23.062Z"
      },
      {
        "duration": 2,
        "start_time": "2023-03-17T16:36:23.082Z"
      },
      {
        "duration": 6,
        "start_time": "2023-03-17T16:36:23.086Z"
      },
      {
        "duration": 17,
        "start_time": "2023-03-17T16:36:23.094Z"
      },
      {
        "duration": 7,
        "start_time": "2023-03-17T16:36:23.112Z"
      },
      {
        "duration": 6,
        "start_time": "2023-03-17T16:36:23.122Z"
      },
      {
        "duration": 11,
        "start_time": "2023-03-17T16:36:23.130Z"
      },
      {
        "duration": 24,
        "start_time": "2023-03-17T16:36:23.142Z"
      },
      {
        "duration": 20,
        "start_time": "2023-03-17T16:36:23.167Z"
      },
      {
        "duration": 7,
        "start_time": "2023-03-17T16:36:23.189Z"
      },
      {
        "duration": 20,
        "start_time": "2023-03-17T16:36:23.198Z"
      },
      {
        "duration": 6,
        "start_time": "2023-03-17T16:36:23.220Z"
      },
      {
        "duration": 678,
        "start_time": "2023-03-17T16:36:23.227Z"
      },
      {
        "duration": 293,
        "start_time": "2023-03-17T16:36:23.907Z"
      },
      {
        "duration": 180,
        "start_time": "2023-03-17T16:36:24.202Z"
      },
      {
        "duration": 248,
        "start_time": "2023-03-17T16:36:24.384Z"
      },
      {
        "duration": 179,
        "start_time": "2023-03-17T16:36:24.645Z"
      },
      {
        "duration": 174,
        "start_time": "2023-03-17T16:36:24.826Z"
      },
      {
        "duration": 189,
        "start_time": "2023-03-17T16:36:25.002Z"
      },
      {
        "duration": 193,
        "start_time": "2023-03-17T16:36:25.193Z"
      },
      {
        "duration": 5,
        "start_time": "2023-03-17T16:36:25.388Z"
      },
      {
        "duration": 153,
        "start_time": "2023-03-17T16:36:25.395Z"
      },
      {
        "duration": 187,
        "start_time": "2023-03-17T16:38:05.466Z"
      },
      {
        "duration": 146,
        "start_time": "2023-03-17T16:39:31.089Z"
      },
      {
        "duration": 165,
        "start_time": "2023-03-17T16:40:22.467Z"
      },
      {
        "duration": 184,
        "start_time": "2023-03-17T16:40:44.096Z"
      },
      {
        "duration": 105,
        "start_time": "2023-03-17T16:43:05.379Z"
      },
      {
        "duration": 52,
        "start_time": "2023-03-17T16:43:58.867Z"
      },
      {
        "duration": 6,
        "start_time": "2023-03-17T16:44:06.219Z"
      },
      {
        "duration": 6,
        "start_time": "2023-03-17T16:44:07.320Z"
      },
      {
        "duration": 448,
        "start_time": "2023-03-17T16:44:21.022Z"
      },
      {
        "duration": 95,
        "start_time": "2023-03-17T16:44:21.474Z"
      },
      {
        "duration": 14,
        "start_time": "2023-03-17T16:44:21.571Z"
      },
      {
        "duration": 3,
        "start_time": "2023-03-17T16:44:21.587Z"
      },
      {
        "duration": 22,
        "start_time": "2023-03-17T16:44:21.592Z"
      },
      {
        "duration": 46,
        "start_time": "2023-03-17T16:44:21.615Z"
      },
      {
        "duration": 9,
        "start_time": "2023-03-17T16:44:21.670Z"
      },
      {
        "duration": 12,
        "start_time": "2023-03-17T16:44:21.680Z"
      },
      {
        "duration": 4,
        "start_time": "2023-03-17T16:44:21.694Z"
      },
      {
        "duration": 10,
        "start_time": "2023-03-17T16:44:21.699Z"
      },
      {
        "duration": 6,
        "start_time": "2023-03-17T16:44:21.710Z"
      },
      {
        "duration": 14,
        "start_time": "2023-03-17T16:44:21.718Z"
      },
      {
        "duration": 3,
        "start_time": "2023-03-17T16:44:21.733Z"
      },
      {
        "duration": 23,
        "start_time": "2023-03-17T16:44:21.742Z"
      },
      {
        "duration": 8,
        "start_time": "2023-03-17T16:44:21.768Z"
      },
      {
        "duration": 17,
        "start_time": "2023-03-17T16:44:21.778Z"
      },
      {
        "duration": 12,
        "start_time": "2023-03-17T16:44:21.797Z"
      },
      {
        "duration": 9,
        "start_time": "2023-03-17T16:44:21.811Z"
      },
      {
        "duration": 8,
        "start_time": "2023-03-17T16:44:21.821Z"
      },
      {
        "duration": 31,
        "start_time": "2023-03-17T16:44:21.830Z"
      },
      {
        "duration": 12,
        "start_time": "2023-03-17T16:44:21.863Z"
      },
      {
        "duration": 19,
        "start_time": "2023-03-17T16:44:21.877Z"
      },
      {
        "duration": 12,
        "start_time": "2023-03-17T16:44:21.898Z"
      },
      {
        "duration": 462,
        "start_time": "2023-03-17T16:44:21.912Z"
      },
      {
        "duration": 302,
        "start_time": "2023-03-17T16:44:22.375Z"
      },
      {
        "duration": 182,
        "start_time": "2023-03-17T16:44:22.689Z"
      },
      {
        "duration": 207,
        "start_time": "2023-03-17T16:44:22.873Z"
      },
      {
        "duration": 242,
        "start_time": "2023-03-17T16:44:23.081Z"
      },
      {
        "duration": 182,
        "start_time": "2023-03-17T16:44:23.325Z"
      },
      {
        "duration": 189,
        "start_time": "2023-03-17T16:44:23.509Z"
      },
      {
        "duration": 216,
        "start_time": "2023-03-17T16:44:23.700Z"
      },
      {
        "duration": 6,
        "start_time": "2023-03-17T16:44:23.917Z"
      },
      {
        "duration": 101,
        "start_time": "2023-03-17T16:44:23.925Z"
      },
      {
        "duration": 168,
        "start_time": "2023-03-17T16:44:48.368Z"
      },
      {
        "duration": 21,
        "start_time": "2023-03-17T16:44:59.965Z"
      },
      {
        "duration": 179,
        "start_time": "2023-03-17T16:45:10.994Z"
      },
      {
        "duration": 19,
        "start_time": "2023-03-17T16:45:56.476Z"
      },
      {
        "duration": 147,
        "start_time": "2023-03-17T16:47:09.431Z"
      },
      {
        "duration": 32,
        "start_time": "2023-03-17T16:47:30.683Z"
      },
      {
        "duration": 151,
        "start_time": "2023-03-17T16:47:51.166Z"
      },
      {
        "duration": 161,
        "start_time": "2023-03-17T16:48:13.311Z"
      },
      {
        "duration": 180,
        "start_time": "2023-03-17T16:48:46.126Z"
      },
      {
        "duration": 154,
        "start_time": "2023-03-17T16:49:34.838Z"
      },
      {
        "duration": 208,
        "start_time": "2023-03-17T16:50:33.508Z"
      },
      {
        "duration": 41,
        "start_time": "2023-03-17T16:51:26.620Z"
      },
      {
        "duration": 7,
        "start_time": "2023-03-17T16:56:47.952Z"
      },
      {
        "duration": 163,
        "start_time": "2023-03-17T16:56:48.422Z"
      },
      {
        "duration": 172,
        "start_time": "2023-03-17T16:56:50.556Z"
      },
      {
        "duration": 142,
        "start_time": "2023-03-17T16:56:51.558Z"
      },
      {
        "duration": 7,
        "start_time": "2023-03-17T16:57:06.731Z"
      },
      {
        "duration": 145,
        "start_time": "2023-03-17T16:57:07.214Z"
      },
      {
        "duration": 151,
        "start_time": "2023-03-17T16:57:07.835Z"
      },
      {
        "duration": 135,
        "start_time": "2023-03-17T16:57:08.665Z"
      },
      {
        "duration": 50,
        "start_time": "2023-03-17T18:57:36.395Z"
      },
      {
        "duration": 406,
        "start_time": "2023-03-17T18:59:07.889Z"
      },
      {
        "duration": 3,
        "start_time": "2023-03-17T18:59:08.297Z"
      },
      {
        "duration": 940,
        "start_time": "2023-03-17T18:59:08.302Z"
      },
      {
        "duration": 144,
        "start_time": "2023-03-17T18:59:09.244Z"
      },
      {
        "duration": 15,
        "start_time": "2023-03-17T18:59:09.390Z"
      },
      {
        "duration": 4,
        "start_time": "2023-03-17T18:59:09.407Z"
      },
      {
        "duration": 22,
        "start_time": "2023-03-17T18:59:09.413Z"
      },
      {
        "duration": 16,
        "start_time": "2023-03-17T18:59:09.436Z"
      },
      {
        "duration": 9,
        "start_time": "2023-03-17T18:59:09.454Z"
      },
      {
        "duration": 9,
        "start_time": "2023-03-17T18:59:09.465Z"
      },
      {
        "duration": 5,
        "start_time": "2023-03-17T18:59:09.476Z"
      },
      {
        "duration": 5,
        "start_time": "2023-03-17T18:59:09.483Z"
      },
      {
        "duration": 12,
        "start_time": "2023-03-17T18:59:09.490Z"
      },
      {
        "duration": 12,
        "start_time": "2023-03-17T18:59:09.530Z"
      },
      {
        "duration": 5,
        "start_time": "2023-03-17T18:59:09.543Z"
      },
      {
        "duration": 16,
        "start_time": "2023-03-17T18:59:09.550Z"
      },
      {
        "duration": 13,
        "start_time": "2023-03-17T18:59:09.567Z"
      },
      {
        "duration": 10,
        "start_time": "2023-03-17T18:59:09.581Z"
      },
      {
        "duration": 7,
        "start_time": "2023-03-17T18:59:09.592Z"
      },
      {
        "duration": 33,
        "start_time": "2023-03-17T18:59:09.601Z"
      },
      {
        "duration": 8,
        "start_time": "2023-03-17T18:59:09.635Z"
      },
      {
        "duration": 5,
        "start_time": "2023-03-17T18:59:09.645Z"
      },
      {
        "duration": 21,
        "start_time": "2023-03-17T18:59:09.652Z"
      },
      {
        "duration": 6,
        "start_time": "2023-03-17T18:59:09.675Z"
      },
      {
        "duration": 219,
        "start_time": "2023-03-17T18:59:09.682Z"
      },
      {
        "duration": 290,
        "start_time": "2023-03-17T18:59:09.903Z"
      },
      {
        "duration": 172,
        "start_time": "2023-03-17T18:59:10.195Z"
      },
      {
        "duration": 197,
        "start_time": "2023-03-17T18:59:10.369Z"
      },
      {
        "duration": 187,
        "start_time": "2023-03-17T18:59:10.568Z"
      },
      {
        "duration": 163,
        "start_time": "2023-03-17T18:59:10.757Z"
      },
      {
        "duration": 178,
        "start_time": "2023-03-17T18:59:10.922Z"
      },
      {
        "duration": 187,
        "start_time": "2023-03-17T18:59:11.102Z"
      },
      {
        "duration": 6,
        "start_time": "2023-03-17T18:59:11.290Z"
      },
      {
        "duration": 220,
        "start_time": "2023-03-17T18:59:11.298Z"
      },
      {
        "duration": 157,
        "start_time": "2023-03-17T18:59:11.520Z"
      },
      {
        "duration": 141,
        "start_time": "2023-03-17T18:59:11.679Z"
      },
      {
        "duration": 261,
        "start_time": "2023-03-17T18:59:11.822Z"
      },
      {
        "duration": 125,
        "start_time": "2023-03-17T19:00:39.469Z"
      },
      {
        "duration": 12,
        "start_time": "2023-03-17T19:01:12.941Z"
      },
      {
        "duration": 408,
        "start_time": "2023-03-17T19:01:41.765Z"
      },
      {
        "duration": 3,
        "start_time": "2023-03-17T19:01:42.175Z"
      },
      {
        "duration": 818,
        "start_time": "2023-03-17T19:01:42.180Z"
      },
      {
        "duration": 90,
        "start_time": "2023-03-17T19:01:43.001Z"
      },
      {
        "duration": 17,
        "start_time": "2023-03-17T19:01:43.093Z"
      },
      {
        "duration": 11,
        "start_time": "2023-03-17T19:01:43.112Z"
      },
      {
        "duration": 35,
        "start_time": "2023-03-17T19:01:43.124Z"
      },
      {
        "duration": 24,
        "start_time": "2023-03-17T19:01:43.161Z"
      },
      {
        "duration": 16,
        "start_time": "2023-03-17T19:01:43.187Z"
      },
      {
        "duration": 10,
        "start_time": "2023-03-17T19:01:43.207Z"
      },
      {
        "duration": 6,
        "start_time": "2023-03-17T19:01:43.233Z"
      },
      {
        "duration": 6,
        "start_time": "2023-03-17T19:01:43.241Z"
      },
      {
        "duration": 12,
        "start_time": "2023-03-17T19:01:43.249Z"
      },
      {
        "duration": 31,
        "start_time": "2023-03-17T19:01:43.263Z"
      },
      {
        "duration": 5,
        "start_time": "2023-03-17T19:01:43.295Z"
      },
      {
        "duration": 7,
        "start_time": "2023-03-17T19:01:43.302Z"
      },
      {
        "duration": 24,
        "start_time": "2023-03-17T19:01:43.311Z"
      },
      {
        "duration": 9,
        "start_time": "2023-03-17T19:01:43.336Z"
      },
      {
        "duration": 7,
        "start_time": "2023-03-17T19:01:43.347Z"
      },
      {
        "duration": 11,
        "start_time": "2023-03-17T19:01:43.356Z"
      },
      {
        "duration": 12,
        "start_time": "2023-03-17T19:01:43.369Z"
      },
      {
        "duration": 13,
        "start_time": "2023-03-17T19:01:43.383Z"
      },
      {
        "duration": 44,
        "start_time": "2023-03-17T19:01:43.397Z"
      },
      {
        "duration": 5,
        "start_time": "2023-03-17T19:01:43.443Z"
      },
      {
        "duration": 211,
        "start_time": "2023-03-17T19:01:43.450Z"
      },
      {
        "duration": 301,
        "start_time": "2023-03-17T19:01:43.663Z"
      },
      {
        "duration": 180,
        "start_time": "2023-03-17T19:01:43.967Z"
      },
      {
        "duration": 189,
        "start_time": "2023-03-17T19:01:44.151Z"
      },
      {
        "duration": 195,
        "start_time": "2023-03-17T19:01:44.342Z"
      },
      {
        "duration": 190,
        "start_time": "2023-03-17T19:01:44.539Z"
      },
      {
        "duration": 191,
        "start_time": "2023-03-17T19:01:44.732Z"
      },
      {
        "duration": 214,
        "start_time": "2023-03-17T19:01:44.930Z"
      },
      {
        "duration": 7,
        "start_time": "2023-03-17T19:01:45.146Z"
      },
      {
        "duration": 280,
        "start_time": "2023-03-17T19:01:45.155Z"
      },
      {
        "duration": 183,
        "start_time": "2023-03-17T19:01:45.437Z"
      },
      {
        "duration": 155,
        "start_time": "2023-03-17T19:01:45.623Z"
      },
      {
        "duration": 123,
        "start_time": "2023-03-17T19:01:45.780Z"
      },
      {
        "duration": 19,
        "start_time": "2023-03-17T19:02:09.176Z"
      },
      {
        "duration": 9,
        "start_time": "2023-03-17T19:04:50.227Z"
      },
      {
        "duration": 436,
        "start_time": "2023-03-17T19:05:45.726Z"
      },
      {
        "duration": 2,
        "start_time": "2023-03-17T19:05:46.165Z"
      },
      {
        "duration": 894,
        "start_time": "2023-03-17T19:05:46.169Z"
      },
      {
        "duration": 3,
        "start_time": "2023-03-17T19:05:47.065Z"
      },
      {
        "duration": 119,
        "start_time": "2023-03-17T19:05:47.069Z"
      },
      {
        "duration": 16,
        "start_time": "2023-03-17T19:05:47.190Z"
      },
      {
        "duration": 19,
        "start_time": "2023-03-17T19:05:47.207Z"
      },
      {
        "duration": 22,
        "start_time": "2023-03-17T19:05:47.228Z"
      },
      {
        "duration": 16,
        "start_time": "2023-03-17T19:05:47.252Z"
      },
      {
        "duration": 9,
        "start_time": "2023-03-17T19:05:47.270Z"
      },
      {
        "duration": 13,
        "start_time": "2023-03-17T19:05:47.281Z"
      },
      {
        "duration": 7,
        "start_time": "2023-03-17T19:05:47.296Z"
      },
      {
        "duration": 8,
        "start_time": "2023-03-17T19:05:47.305Z"
      },
      {
        "duration": 6,
        "start_time": "2023-03-17T19:05:47.331Z"
      },
      {
        "duration": 22,
        "start_time": "2023-03-17T19:05:47.339Z"
      },
      {
        "duration": 6,
        "start_time": "2023-03-17T19:05:47.363Z"
      },
      {
        "duration": 8,
        "start_time": "2023-03-17T19:05:47.371Z"
      },
      {
        "duration": 8,
        "start_time": "2023-03-17T19:05:47.381Z"
      },
      {
        "duration": 10,
        "start_time": "2023-03-17T19:05:47.391Z"
      },
      {
        "duration": 35,
        "start_time": "2023-03-17T19:05:47.403Z"
      },
      {
        "duration": 11,
        "start_time": "2023-03-17T19:05:47.440Z"
      },
      {
        "duration": 13,
        "start_time": "2023-03-17T19:05:47.454Z"
      },
      {
        "duration": 21,
        "start_time": "2023-03-17T19:05:47.469Z"
      },
      {
        "duration": 33,
        "start_time": "2023-03-17T19:05:47.492Z"
      },
      {
        "duration": 7,
        "start_time": "2023-03-17T19:05:47.527Z"
      },
      {
        "duration": 203,
        "start_time": "2023-03-17T19:05:47.536Z"
      },
      {
        "duration": 295,
        "start_time": "2023-03-17T19:05:47.741Z"
      },
      {
        "duration": 186,
        "start_time": "2023-03-17T19:05:48.040Z"
      },
      {
        "duration": 177,
        "start_time": "2023-03-17T19:05:48.230Z"
      },
      {
        "duration": 200,
        "start_time": "2023-03-17T19:05:48.409Z"
      },
      {
        "duration": 172,
        "start_time": "2023-03-17T19:05:48.611Z"
      },
      {
        "duration": 184,
        "start_time": "2023-03-17T19:05:48.784Z"
      },
      {
        "duration": 170,
        "start_time": "2023-03-17T19:05:48.971Z"
      },
      {
        "duration": 5,
        "start_time": "2023-03-17T19:05:49.143Z"
      },
      {
        "duration": 226,
        "start_time": "2023-03-17T19:05:49.150Z"
      },
      {
        "duration": 184,
        "start_time": "2023-03-17T19:05:49.378Z"
      },
      {
        "duration": 155,
        "start_time": "2023-03-17T19:05:49.563Z"
      },
      {
        "duration": 322,
        "start_time": "2023-03-17T19:05:49.720Z"
      },
      {
        "duration": 146,
        "start_time": "2023-03-17T19:07:11.930Z"
      },
      {
        "duration": 20,
        "start_time": "2023-03-17T19:09:17.104Z"
      },
      {
        "duration": 264,
        "start_time": "2023-03-17T19:32:02.253Z"
      },
      {
        "duration": 16,
        "start_time": "2023-03-17T19:34:49.855Z"
      },
      {
        "duration": 11,
        "start_time": "2023-03-17T19:35:12.450Z"
      },
      {
        "duration": 12,
        "start_time": "2023-03-17T19:37:03.058Z"
      },
      {
        "duration": 12,
        "start_time": "2023-03-17T19:37:14.607Z"
      },
      {
        "duration": 12,
        "start_time": "2023-03-17T19:38:27.953Z"
      },
      {
        "duration": 12,
        "start_time": "2023-03-17T19:42:23.217Z"
      },
      {
        "duration": 55,
        "start_time": "2023-03-17T19:44:19.933Z"
      },
      {
        "duration": 45,
        "start_time": "2023-03-17T19:45:26.522Z"
      },
      {
        "duration": 9,
        "start_time": "2023-03-17T19:46:17.831Z"
      },
      {
        "duration": 277,
        "start_time": "2023-03-17T19:46:41.079Z"
      },
      {
        "duration": 71,
        "start_time": "2023-03-17T19:49:44.553Z"
      },
      {
        "duration": 323,
        "start_time": "2023-03-17T19:51:48.583Z"
      },
      {
        "duration": 13,
        "start_time": "2023-03-17T19:51:59.709Z"
      },
      {
        "duration": 55,
        "start_time": "2023-03-18T20:06:23.571Z"
      },
      {
        "duration": 7,
        "start_time": "2023-03-18T20:06:40.909Z"
      },
      {
        "duration": 440,
        "start_time": "2023-03-18T20:07:07.573Z"
      },
      {
        "duration": 2,
        "start_time": "2023-03-18T20:07:08.016Z"
      },
      {
        "duration": 1096,
        "start_time": "2023-03-18T20:07:08.020Z"
      },
      {
        "duration": 3,
        "start_time": "2023-03-18T20:07:09.119Z"
      },
      {
        "duration": 151,
        "start_time": "2023-03-18T20:07:09.125Z"
      },
      {
        "duration": 22,
        "start_time": "2023-03-18T20:07:09.278Z"
      },
      {
        "duration": 136,
        "start_time": "2023-03-18T20:07:09.302Z"
      },
      {
        "duration": 23,
        "start_time": "2023-03-18T20:07:09.440Z"
      },
      {
        "duration": 20,
        "start_time": "2023-03-18T20:07:09.466Z"
      },
      {
        "duration": 11,
        "start_time": "2023-03-18T20:07:09.489Z"
      },
      {
        "duration": 11,
        "start_time": "2023-03-18T20:07:09.502Z"
      },
      {
        "duration": 8,
        "start_time": "2023-03-18T20:07:09.515Z"
      },
      {
        "duration": 43,
        "start_time": "2023-03-18T20:07:09.524Z"
      },
      {
        "duration": 6,
        "start_time": "2023-03-18T20:07:09.570Z"
      },
      {
        "duration": 15,
        "start_time": "2023-03-18T20:07:09.578Z"
      },
      {
        "duration": 6,
        "start_time": "2023-03-18T20:07:09.595Z"
      },
      {
        "duration": 7,
        "start_time": "2023-03-18T20:07:09.602Z"
      },
      {
        "duration": 7,
        "start_time": "2023-03-18T20:07:09.611Z"
      },
      {
        "duration": 49,
        "start_time": "2023-03-18T20:07:09.619Z"
      },
      {
        "duration": 9,
        "start_time": "2023-03-18T20:07:09.670Z"
      },
      {
        "duration": 10,
        "start_time": "2023-03-18T20:07:09.681Z"
      },
      {
        "duration": 11,
        "start_time": "2023-03-18T20:07:09.693Z"
      },
      {
        "duration": 9,
        "start_time": "2023-03-18T20:07:09.705Z"
      },
      {
        "duration": 56,
        "start_time": "2023-03-18T20:07:09.716Z"
      },
      {
        "duration": 7,
        "start_time": "2023-03-18T20:07:09.774Z"
      },
      {
        "duration": 252,
        "start_time": "2023-03-18T20:07:09.782Z"
      },
      {
        "duration": 316,
        "start_time": "2023-03-18T20:07:10.036Z"
      },
      {
        "duration": 200,
        "start_time": "2023-03-18T20:07:10.353Z"
      },
      {
        "duration": 215,
        "start_time": "2023-03-18T20:07:10.555Z"
      },
      {
        "duration": 213,
        "start_time": "2023-03-18T20:07:10.772Z"
      },
      {
        "duration": 196,
        "start_time": "2023-03-18T20:07:10.987Z"
      },
      {
        "duration": 215,
        "start_time": "2023-03-18T20:07:11.185Z"
      },
      {
        "duration": 224,
        "start_time": "2023-03-18T20:07:11.402Z"
      },
      {
        "duration": 8,
        "start_time": "2023-03-18T20:07:11.628Z"
      },
      {
        "duration": 266,
        "start_time": "2023-03-18T20:07:11.638Z"
      },
      {
        "duration": 176,
        "start_time": "2023-03-18T20:07:11.906Z"
      },
      {
        "duration": 175,
        "start_time": "2023-03-18T20:07:12.084Z"
      },
      {
        "duration": 265,
        "start_time": "2023-03-18T20:07:12.261Z"
      },
      {
        "duration": 342,
        "start_time": "2023-03-18T20:10:38.136Z"
      },
      {
        "duration": 21,
        "start_time": "2023-03-18T20:11:23.514Z"
      },
      {
        "duration": 374,
        "start_time": "2023-03-18T20:12:16.453Z"
      },
      {
        "duration": 21,
        "start_time": "2023-03-18T20:14:20.341Z"
      },
      {
        "duration": 413,
        "start_time": "2023-03-18T20:15:36.561Z"
      },
      {
        "duration": 297,
        "start_time": "2023-03-18T20:16:02.156Z"
      },
      {
        "duration": 371,
        "start_time": "2023-03-18T20:16:56.585Z"
      },
      {
        "duration": 361,
        "start_time": "2023-03-18T20:25:51.469Z"
      },
      {
        "duration": 368,
        "start_time": "2023-03-18T20:28:44.615Z"
      },
      {
        "duration": 299,
        "start_time": "2023-03-18T20:29:00.176Z"
      },
      {
        "duration": 413,
        "start_time": "2023-03-18T20:29:20.106Z"
      },
      {
        "duration": 319,
        "start_time": "2023-03-18T20:42:39.064Z"
      },
      {
        "duration": 109,
        "start_time": "2023-03-18T20:44:00.789Z"
      },
      {
        "duration": 341,
        "start_time": "2023-03-18T20:44:36.657Z"
      },
      {
        "duration": 356,
        "start_time": "2023-03-18T20:44:44.335Z"
      },
      {
        "duration": 312,
        "start_time": "2023-03-18T20:44:51.329Z"
      },
      {
        "duration": 468,
        "start_time": "2023-03-18T20:45:04.502Z"
      },
      {
        "duration": 310,
        "start_time": "2023-03-18T20:45:17.656Z"
      },
      {
        "duration": 314,
        "start_time": "2023-03-18T20:45:30.306Z"
      },
      {
        "duration": 340,
        "start_time": "2023-03-18T20:45:49.664Z"
      },
      {
        "duration": 306,
        "start_time": "2023-03-18T20:46:04.225Z"
      },
      {
        "duration": 300,
        "start_time": "2023-03-18T20:46:10.845Z"
      },
      {
        "duration": 405,
        "start_time": "2023-03-18T20:46:24.985Z"
      },
      {
        "duration": 315,
        "start_time": "2023-03-18T20:46:31.794Z"
      },
      {
        "duration": 305,
        "start_time": "2023-03-18T20:46:49.989Z"
      },
      {
        "duration": 171,
        "start_time": "2023-03-18T21:03:19.050Z"
      },
      {
        "duration": 178,
        "start_time": "2023-03-18T21:03:46.862Z"
      },
      {
        "duration": 6,
        "start_time": "2023-03-18T21:04:50.570Z"
      },
      {
        "duration": 137,
        "start_time": "2023-03-18T21:06:27.281Z"
      },
      {
        "duration": 136,
        "start_time": "2023-03-18T21:07:44.975Z"
      },
      {
        "duration": 151,
        "start_time": "2023-03-18T21:09:34.722Z"
      },
      {
        "duration": 6,
        "start_time": "2023-03-18T21:11:16.239Z"
      },
      {
        "duration": 312,
        "start_time": "2023-03-18T21:12:44.204Z"
      },
      {
        "duration": 5,
        "start_time": "2023-03-18T21:13:27.400Z"
      },
      {
        "duration": 299,
        "start_time": "2023-03-18T21:13:35.593Z"
      },
      {
        "duration": 6,
        "start_time": "2023-03-18T21:14:41.824Z"
      },
      {
        "duration": 453,
        "start_time": "2023-03-18T21:15:02.847Z"
      },
      {
        "duration": 3,
        "start_time": "2023-03-18T21:15:03.302Z"
      },
      {
        "duration": 881,
        "start_time": "2023-03-18T21:15:03.307Z"
      },
      {
        "duration": 3,
        "start_time": "2023-03-18T21:15:04.190Z"
      },
      {
        "duration": 109,
        "start_time": "2023-03-18T21:15:04.195Z"
      },
      {
        "duration": 18,
        "start_time": "2023-03-18T21:15:04.306Z"
      },
      {
        "duration": 9,
        "start_time": "2023-03-18T21:15:04.326Z"
      },
      {
        "duration": 34,
        "start_time": "2023-03-18T21:15:04.337Z"
      },
      {
        "duration": 28,
        "start_time": "2023-03-18T21:15:04.373Z"
      },
      {
        "duration": 12,
        "start_time": "2023-03-18T21:15:04.405Z"
      },
      {
        "duration": 21,
        "start_time": "2023-03-18T21:15:04.419Z"
      },
      {
        "duration": 39,
        "start_time": "2023-03-18T21:15:04.442Z"
      },
      {
        "duration": 20,
        "start_time": "2023-03-18T21:15:04.484Z"
      },
      {
        "duration": 16,
        "start_time": "2023-03-18T21:15:04.506Z"
      },
      {
        "duration": 20,
        "start_time": "2023-03-18T21:15:04.524Z"
      },
      {
        "duration": 18,
        "start_time": "2023-03-18T21:15:04.546Z"
      },
      {
        "duration": 12,
        "start_time": "2023-03-18T21:15:04.566Z"
      },
      {
        "duration": 20,
        "start_time": "2023-03-18T21:15:04.580Z"
      },
      {
        "duration": 31,
        "start_time": "2023-03-18T21:15:04.602Z"
      },
      {
        "duration": 27,
        "start_time": "2023-03-18T21:15:04.636Z"
      },
      {
        "duration": 22,
        "start_time": "2023-03-18T21:15:04.665Z"
      },
      {
        "duration": 13,
        "start_time": "2023-03-18T21:15:04.689Z"
      },
      {
        "duration": 9,
        "start_time": "2023-03-18T21:15:04.704Z"
      },
      {
        "duration": 10,
        "start_time": "2023-03-18T21:15:04.716Z"
      },
      {
        "duration": 37,
        "start_time": "2023-03-18T21:15:04.727Z"
      },
      {
        "duration": 6,
        "start_time": "2023-03-18T21:15:04.767Z"
      },
      {
        "duration": 232,
        "start_time": "2023-03-18T21:15:04.775Z"
      },
      {
        "duration": 324,
        "start_time": "2023-03-18T21:15:05.011Z"
      },
      {
        "duration": 187,
        "start_time": "2023-03-18T21:15:05.336Z"
      },
      {
        "duration": 207,
        "start_time": "2023-03-18T21:15:05.525Z"
      },
      {
        "duration": 213,
        "start_time": "2023-03-18T21:15:05.735Z"
      },
      {
        "duration": 195,
        "start_time": "2023-03-18T21:15:05.950Z"
      },
      {
        "duration": 200,
        "start_time": "2023-03-18T21:15:06.147Z"
      },
      {
        "duration": 202,
        "start_time": "2023-03-18T21:15:06.349Z"
      },
      {
        "duration": 11,
        "start_time": "2023-03-18T21:15:06.554Z"
      },
      {
        "duration": 275,
        "start_time": "2023-03-18T21:15:06.567Z"
      },
      {
        "duration": 174,
        "start_time": "2023-03-18T21:15:06.844Z"
      },
      {
        "duration": 170,
        "start_time": "2023-03-18T21:15:07.020Z"
      },
      {
        "duration": 349,
        "start_time": "2023-03-18T21:15:07.192Z"
      },
      {
        "duration": 197,
        "start_time": "2023-03-18T21:15:07.543Z"
      },
      {
        "duration": 5,
        "start_time": "2023-03-18T21:15:07.742Z"
      },
      {
        "duration": 95,
        "start_time": "2023-03-18T21:15:07.749Z"
      },
      {
        "duration": 0,
        "start_time": "2023-03-18T21:15:07.846Z"
      },
      {
        "duration": 171,
        "start_time": "2023-03-18T21:15:22.595Z"
      },
      {
        "duration": 69,
        "start_time": "2023-03-18T21:15:53.676Z"
      },
      {
        "duration": 182,
        "start_time": "2023-03-18T21:16:47.113Z"
      },
      {
        "duration": 5,
        "start_time": "2023-03-18T21:17:14.024Z"
      },
      {
        "duration": 181,
        "start_time": "2023-03-18T21:24:47.055Z"
      },
      {
        "duration": 46,
        "start_time": "2023-03-21T06:42:35.338Z"
      },
      {
        "duration": 420,
        "start_time": "2023-03-21T06:42:44.215Z"
      },
      {
        "duration": 3,
        "start_time": "2023-03-21T06:42:44.637Z"
      },
      {
        "duration": 896,
        "start_time": "2023-03-21T06:42:44.642Z"
      },
      {
        "duration": 3,
        "start_time": "2023-03-21T06:42:45.540Z"
      },
      {
        "duration": 7,
        "start_time": "2023-03-21T06:42:45.545Z"
      },
      {
        "duration": 110,
        "start_time": "2023-03-21T06:42:45.553Z"
      },
      {
        "duration": 0,
        "start_time": "2023-03-21T06:42:45.665Z"
      },
      {
        "duration": 0,
        "start_time": "2023-03-21T06:42:45.667Z"
      },
      {
        "duration": 0,
        "start_time": "2023-03-21T06:42:45.668Z"
      },
      {
        "duration": 0,
        "start_time": "2023-03-21T06:42:45.669Z"
      },
      {
        "duration": 0,
        "start_time": "2023-03-21T06:42:45.670Z"
      },
      {
        "duration": 0,
        "start_time": "2023-03-21T06:42:45.671Z"
      },
      {
        "duration": 0,
        "start_time": "2023-03-21T06:42:45.672Z"
      },
      {
        "duration": 0,
        "start_time": "2023-03-21T06:42:45.673Z"
      },
      {
        "duration": 0,
        "start_time": "2023-03-21T06:42:45.674Z"
      },
      {
        "duration": 0,
        "start_time": "2023-03-21T06:42:45.675Z"
      },
      {
        "duration": 0,
        "start_time": "2023-03-21T06:42:45.677Z"
      },
      {
        "duration": 1,
        "start_time": "2023-03-21T06:42:45.677Z"
      },
      {
        "duration": 0,
        "start_time": "2023-03-21T06:42:45.679Z"
      },
      {
        "duration": 0,
        "start_time": "2023-03-21T06:42:45.680Z"
      },
      {
        "duration": 0,
        "start_time": "2023-03-21T06:42:45.681Z"
      },
      {
        "duration": 0,
        "start_time": "2023-03-21T06:42:45.682Z"
      },
      {
        "duration": 0,
        "start_time": "2023-03-21T06:42:45.684Z"
      },
      {
        "duration": 0,
        "start_time": "2023-03-21T06:42:45.684Z"
      },
      {
        "duration": 0,
        "start_time": "2023-03-21T06:42:45.685Z"
      },
      {
        "duration": 0,
        "start_time": "2023-03-21T06:42:45.723Z"
      },
      {
        "duration": 0,
        "start_time": "2023-03-21T06:42:45.724Z"
      },
      {
        "duration": 0,
        "start_time": "2023-03-21T06:42:45.725Z"
      },
      {
        "duration": 0,
        "start_time": "2023-03-21T06:42:45.726Z"
      },
      {
        "duration": 0,
        "start_time": "2023-03-21T06:42:45.727Z"
      },
      {
        "duration": 0,
        "start_time": "2023-03-21T06:42:45.728Z"
      },
      {
        "duration": 0,
        "start_time": "2023-03-21T06:42:45.729Z"
      },
      {
        "duration": 0,
        "start_time": "2023-03-21T06:42:45.730Z"
      },
      {
        "duration": 0,
        "start_time": "2023-03-21T06:42:45.731Z"
      },
      {
        "duration": 0,
        "start_time": "2023-03-21T06:42:45.732Z"
      },
      {
        "duration": 0,
        "start_time": "2023-03-21T06:42:45.733Z"
      },
      {
        "duration": 0,
        "start_time": "2023-03-21T06:42:45.734Z"
      },
      {
        "duration": 0,
        "start_time": "2023-03-21T06:42:45.735Z"
      },
      {
        "duration": 0,
        "start_time": "2023-03-21T06:42:45.736Z"
      },
      {
        "duration": 0,
        "start_time": "2023-03-21T06:42:45.737Z"
      },
      {
        "duration": 0,
        "start_time": "2023-03-21T06:42:45.738Z"
      },
      {
        "duration": 0,
        "start_time": "2023-03-21T06:42:45.739Z"
      },
      {
        "duration": 0,
        "start_time": "2023-03-21T06:42:45.740Z"
      },
      {
        "duration": 0,
        "start_time": "2023-03-21T06:42:45.741Z"
      },
      {
        "duration": 0,
        "start_time": "2023-03-21T06:42:45.742Z"
      },
      {
        "duration": 0,
        "start_time": "2023-03-21T06:42:45.743Z"
      },
      {
        "duration": 0,
        "start_time": "2023-03-21T06:42:45.744Z"
      },
      {
        "duration": 0,
        "start_time": "2023-03-21T06:42:45.745Z"
      },
      {
        "duration": 0,
        "start_time": "2023-03-21T06:42:45.746Z"
      },
      {
        "duration": 0,
        "start_time": "2023-03-21T06:42:45.747Z"
      },
      {
        "duration": 0,
        "start_time": "2023-03-21T06:42:45.748Z"
      },
      {
        "duration": 0,
        "start_time": "2023-03-21T06:42:45.749Z"
      },
      {
        "duration": 0,
        "start_time": "2023-03-21T06:42:45.750Z"
      },
      {
        "duration": 0,
        "start_time": "2023-03-21T06:42:45.751Z"
      },
      {
        "duration": 0,
        "start_time": "2023-03-21T06:42:45.752Z"
      },
      {
        "duration": 8,
        "start_time": "2023-03-21T06:43:39.643Z"
      },
      {
        "duration": 500,
        "start_time": "2023-03-21T06:44:00.232Z"
      },
      {
        "duration": 3,
        "start_time": "2023-03-21T06:44:00.734Z"
      },
      {
        "duration": 833,
        "start_time": "2023-03-21T06:44:00.740Z"
      },
      {
        "duration": 2,
        "start_time": "2023-03-21T06:44:01.576Z"
      },
      {
        "duration": 18,
        "start_time": "2023-03-21T06:44:01.580Z"
      },
      {
        "duration": 543,
        "start_time": "2023-03-21T06:44:01.600Z"
      },
      {
        "duration": 15,
        "start_time": "2023-03-21T06:44:02.145Z"
      },
      {
        "duration": 38,
        "start_time": "2023-03-21T06:44:02.161Z"
      },
      {
        "duration": 50,
        "start_time": "2023-03-21T06:44:02.201Z"
      },
      {
        "duration": 23,
        "start_time": "2023-03-21T06:44:02.253Z"
      },
      {
        "duration": 12,
        "start_time": "2023-03-21T06:44:02.277Z"
      },
      {
        "duration": 32,
        "start_time": "2023-03-21T06:44:02.290Z"
      },
      {
        "duration": 26,
        "start_time": "2023-03-21T06:44:02.324Z"
      },
      {
        "duration": 15,
        "start_time": "2023-03-21T06:44:02.352Z"
      },
      {
        "duration": 60,
        "start_time": "2023-03-21T06:44:02.369Z"
      },
      {
        "duration": 44,
        "start_time": "2023-03-21T06:44:02.430Z"
      },
      {
        "duration": 18,
        "start_time": "2023-03-21T06:44:02.476Z"
      },
      {
        "duration": 12,
        "start_time": "2023-03-21T06:44:02.496Z"
      },
      {
        "duration": 8,
        "start_time": "2023-03-21T06:44:02.510Z"
      },
      {
        "duration": 10,
        "start_time": "2023-03-21T06:44:02.520Z"
      },
      {
        "duration": 18,
        "start_time": "2023-03-21T06:44:02.532Z"
      },
      {
        "duration": 14,
        "start_time": "2023-03-21T06:44:02.552Z"
      },
      {
        "duration": 25,
        "start_time": "2023-03-21T06:44:02.568Z"
      },
      {
        "duration": 12,
        "start_time": "2023-03-21T06:44:02.595Z"
      },
      {
        "duration": 25,
        "start_time": "2023-03-21T06:44:02.609Z"
      },
      {
        "duration": 46,
        "start_time": "2023-03-21T06:44:02.636Z"
      },
      {
        "duration": 10,
        "start_time": "2023-03-21T06:44:02.684Z"
      },
      {
        "duration": 235,
        "start_time": "2023-03-21T06:44:02.699Z"
      },
      {
        "duration": 325,
        "start_time": "2023-03-21T06:44:02.936Z"
      },
      {
        "duration": 175,
        "start_time": "2023-03-21T06:44:03.263Z"
      },
      {
        "duration": 198,
        "start_time": "2023-03-21T06:44:03.440Z"
      },
      {
        "duration": 187,
        "start_time": "2023-03-21T06:44:03.640Z"
      },
      {
        "duration": 174,
        "start_time": "2023-03-21T06:44:03.829Z"
      },
      {
        "duration": 192,
        "start_time": "2023-03-21T06:44:04.004Z"
      },
      {
        "duration": 180,
        "start_time": "2023-03-21T06:44:04.198Z"
      },
      {
        "duration": 6,
        "start_time": "2023-03-21T06:44:04.379Z"
      },
      {
        "duration": 226,
        "start_time": "2023-03-21T06:44:04.386Z"
      },
      {
        "duration": 162,
        "start_time": "2023-03-21T06:44:04.614Z"
      },
      {
        "duration": 149,
        "start_time": "2023-03-21T06:44:04.779Z"
      },
      {
        "duration": 310,
        "start_time": "2023-03-21T06:44:04.930Z"
      },
      {
        "duration": 145,
        "start_time": "2023-03-21T06:44:05.242Z"
      },
      {
        "duration": 4,
        "start_time": "2023-03-21T06:44:05.388Z"
      },
      {
        "duration": 152,
        "start_time": "2023-03-21T06:44:05.393Z"
      },
      {
        "duration": 5,
        "start_time": "2023-03-21T06:44:05.546Z"
      },
      {
        "duration": 160,
        "start_time": "2023-03-21T06:44:05.552Z"
      },
      {
        "duration": 4,
        "start_time": "2023-03-21T06:44:05.714Z"
      },
      {
        "duration": 160,
        "start_time": "2023-03-21T06:44:05.722Z"
      },
      {
        "duration": 6,
        "start_time": "2023-03-21T06:44:05.883Z"
      },
      {
        "duration": 227,
        "start_time": "2023-03-21T06:44:05.891Z"
      },
      {
        "duration": 258,
        "start_time": "2023-03-21T06:44:06.120Z"
      },
      {
        "duration": 362,
        "start_time": "2023-03-21T06:44:06.380Z"
      },
      {
        "duration": 223,
        "start_time": "2023-03-21T06:44:06.744Z"
      },
      {
        "duration": 11,
        "start_time": "2023-03-21T06:44:06.969Z"
      },
      {
        "duration": 10,
        "start_time": "2023-03-21T06:44:06.982Z"
      },
      {
        "duration": 51,
        "start_time": "2023-03-21T07:10:40.830Z"
      },
      {
        "duration": 99,
        "start_time": "2023-03-21T07:10:58.299Z"
      },
      {
        "duration": 221,
        "start_time": "2023-03-21T07:19:12.362Z"
      },
      {
        "duration": 247,
        "start_time": "2023-03-21T07:20:20.096Z"
      },
      {
        "duration": 5,
        "start_time": "2023-03-21T07:23:59.017Z"
      },
      {
        "duration": 19,
        "start_time": "2023-03-21T07:24:50.713Z"
      },
      {
        "duration": 420,
        "start_time": "2023-03-21T07:25:13.710Z"
      },
      {
        "duration": 3,
        "start_time": "2023-03-21T07:25:14.132Z"
      },
      {
        "duration": 744,
        "start_time": "2023-03-21T07:25:14.137Z"
      },
      {
        "duration": 3,
        "start_time": "2023-03-21T07:25:14.883Z"
      },
      {
        "duration": 15,
        "start_time": "2023-03-21T07:25:14.888Z"
      },
      {
        "duration": 76,
        "start_time": "2023-03-21T07:25:14.905Z"
      },
      {
        "duration": 14,
        "start_time": "2023-03-21T07:25:14.983Z"
      },
      {
        "duration": 17,
        "start_time": "2023-03-21T07:25:14.999Z"
      },
      {
        "duration": 27,
        "start_time": "2023-03-21T07:25:15.017Z"
      },
      {
        "duration": 16,
        "start_time": "2023-03-21T07:25:15.046Z"
      },
      {
        "duration": 8,
        "start_time": "2023-03-21T07:25:15.064Z"
      },
      {
        "duration": 11,
        "start_time": "2023-03-21T07:25:15.073Z"
      },
      {
        "duration": 10,
        "start_time": "2023-03-21T07:25:15.086Z"
      },
      {
        "duration": 25,
        "start_time": "2023-03-21T07:25:15.099Z"
      },
      {
        "duration": 6,
        "start_time": "2023-03-21T07:25:15.125Z"
      },
      {
        "duration": 13,
        "start_time": "2023-03-21T07:25:15.132Z"
      },
      {
        "duration": 4,
        "start_time": "2023-03-21T07:25:15.146Z"
      },
      {
        "duration": 7,
        "start_time": "2023-03-21T07:25:15.152Z"
      },
      {
        "duration": 29,
        "start_time": "2023-03-21T07:25:15.160Z"
      },
      {
        "duration": 9,
        "start_time": "2023-03-21T07:25:15.191Z"
      },
      {
        "duration": 23,
        "start_time": "2023-03-21T07:25:15.202Z"
      },
      {
        "duration": 9,
        "start_time": "2023-03-21T07:25:15.227Z"
      },
      {
        "duration": 10,
        "start_time": "2023-03-21T07:25:15.237Z"
      },
      {
        "duration": 4,
        "start_time": "2023-03-21T07:25:15.249Z"
      },
      {
        "duration": 6,
        "start_time": "2023-03-21T07:25:15.255Z"
      },
      {
        "duration": 15,
        "start_time": "2023-03-21T07:25:15.262Z"
      },
      {
        "duration": 48,
        "start_time": "2023-03-21T07:25:15.278Z"
      },
      {
        "duration": 203,
        "start_time": "2023-03-21T07:25:15.327Z"
      },
      {
        "duration": 298,
        "start_time": "2023-03-21T07:25:15.532Z"
      },
      {
        "duration": 174,
        "start_time": "2023-03-21T07:25:15.832Z"
      },
      {
        "duration": 185,
        "start_time": "2023-03-21T07:25:16.008Z"
      },
      {
        "duration": 185,
        "start_time": "2023-03-21T07:25:16.194Z"
      },
      {
        "duration": 176,
        "start_time": "2023-03-21T07:25:16.380Z"
      },
      {
        "duration": 180,
        "start_time": "2023-03-21T07:25:16.558Z"
      },
      {
        "duration": 205,
        "start_time": "2023-03-21T07:25:16.740Z"
      },
      {
        "duration": 7,
        "start_time": "2023-03-21T07:25:16.947Z"
      },
      {
        "duration": 253,
        "start_time": "2023-03-21T07:25:16.956Z"
      },
      {
        "duration": 159,
        "start_time": "2023-03-21T07:25:17.210Z"
      },
      {
        "duration": 155,
        "start_time": "2023-03-21T07:25:17.371Z"
      },
      {
        "duration": 296,
        "start_time": "2023-03-21T07:25:17.527Z"
      },
      {
        "duration": 152,
        "start_time": "2023-03-21T07:25:17.827Z"
      },
      {
        "duration": 5,
        "start_time": "2023-03-21T07:25:17.980Z"
      },
      {
        "duration": 156,
        "start_time": "2023-03-21T07:25:17.986Z"
      },
      {
        "duration": 5,
        "start_time": "2023-03-21T07:25:18.144Z"
      },
      {
        "duration": 181,
        "start_time": "2023-03-21T07:25:18.150Z"
      },
      {
        "duration": 4,
        "start_time": "2023-03-21T07:25:18.333Z"
      },
      {
        "duration": 165,
        "start_time": "2023-03-21T07:25:18.339Z"
      },
      {
        "duration": 19,
        "start_time": "2023-03-21T07:25:18.506Z"
      },
      {
        "duration": 5,
        "start_time": "2023-03-21T07:25:18.527Z"
      },
      {
        "duration": 133,
        "start_time": "2023-03-21T07:25:18.534Z"
      },
      {
        "duration": 0,
        "start_time": "2023-03-21T07:25:18.668Z"
      },
      {
        "duration": 0,
        "start_time": "2023-03-21T07:25:18.669Z"
      },
      {
        "duration": 0,
        "start_time": "2023-03-21T07:25:18.671Z"
      },
      {
        "duration": 0,
        "start_time": "2023-03-21T07:25:18.672Z"
      },
      {
        "duration": 0,
        "start_time": "2023-03-21T07:25:18.673Z"
      },
      {
        "duration": 264,
        "start_time": "2023-03-21T07:32:00.436Z"
      },
      {
        "duration": 4,
        "start_time": "2023-03-21T07:38:49.097Z"
      },
      {
        "duration": 7,
        "start_time": "2023-03-21T07:39:28.140Z"
      },
      {
        "duration": 353,
        "start_time": "2023-03-21T07:40:25.982Z"
      },
      {
        "duration": 3,
        "start_time": "2023-03-21T07:40:26.337Z"
      },
      {
        "duration": 744,
        "start_time": "2023-03-21T07:40:26.341Z"
      },
      {
        "duration": 3,
        "start_time": "2023-03-21T07:40:27.089Z"
      },
      {
        "duration": 14,
        "start_time": "2023-03-21T07:40:27.094Z"
      },
      {
        "duration": 102,
        "start_time": "2023-03-21T07:40:27.110Z"
      },
      {
        "duration": 21,
        "start_time": "2023-03-21T07:40:27.213Z"
      },
      {
        "duration": 4,
        "start_time": "2023-03-21T07:40:27.236Z"
      },
      {
        "duration": 21,
        "start_time": "2023-03-21T07:40:27.242Z"
      },
      {
        "duration": 18,
        "start_time": "2023-03-21T07:40:27.267Z"
      },
      {
        "duration": 39,
        "start_time": "2023-03-21T07:40:27.287Z"
      },
      {
        "duration": 12,
        "start_time": "2023-03-21T07:40:27.329Z"
      },
      {
        "duration": 7,
        "start_time": "2023-03-21T07:40:27.343Z"
      },
      {
        "duration": 8,
        "start_time": "2023-03-21T07:40:27.352Z"
      },
      {
        "duration": 7,
        "start_time": "2023-03-21T07:40:27.362Z"
      },
      {
        "duration": 30,
        "start_time": "2023-03-21T07:40:27.371Z"
      },
      {
        "duration": 6,
        "start_time": "2023-03-21T07:40:27.423Z"
      },
      {
        "duration": 9,
        "start_time": "2023-03-21T07:40:27.431Z"
      },
      {
        "duration": 12,
        "start_time": "2023-03-21T07:40:27.442Z"
      },
      {
        "duration": 15,
        "start_time": "2023-03-21T07:40:27.456Z"
      },
      {
        "duration": 7,
        "start_time": "2023-03-21T07:40:27.472Z"
      },
      {
        "duration": 8,
        "start_time": "2023-03-21T07:40:27.481Z"
      },
      {
        "duration": 10,
        "start_time": "2023-03-21T07:40:27.490Z"
      },
      {
        "duration": 6,
        "start_time": "2023-03-21T07:40:27.523Z"
      },
      {
        "duration": 14,
        "start_time": "2023-03-21T07:40:27.530Z"
      },
      {
        "duration": 23,
        "start_time": "2023-03-21T07:40:27.546Z"
      },
      {
        "duration": 5,
        "start_time": "2023-03-21T07:40:27.571Z"
      },
      {
        "duration": 211,
        "start_time": "2023-03-21T07:40:27.580Z"
      },
      {
        "duration": 304,
        "start_time": "2023-03-21T07:40:27.793Z"
      },
      {
        "duration": 182,
        "start_time": "2023-03-21T07:40:28.099Z"
      },
      {
        "duration": 198,
        "start_time": "2023-03-21T07:40:28.283Z"
      },
      {
        "duration": 197,
        "start_time": "2023-03-21T07:40:28.483Z"
      },
      {
        "duration": 204,
        "start_time": "2023-03-21T07:40:28.682Z"
      },
      {
        "duration": 191,
        "start_time": "2023-03-21T07:40:28.888Z"
      },
      {
        "duration": 173,
        "start_time": "2023-03-21T07:40:29.082Z"
      },
      {
        "duration": 7,
        "start_time": "2023-03-21T07:40:29.256Z"
      },
      {
        "duration": 224,
        "start_time": "2023-03-21T07:40:29.265Z"
      },
      {
        "duration": 150,
        "start_time": "2023-03-21T07:40:29.491Z"
      },
      {
        "duration": 157,
        "start_time": "2023-03-21T07:40:29.643Z"
      },
      {
        "duration": 316,
        "start_time": "2023-03-21T07:40:29.802Z"
      },
      {
        "duration": 139,
        "start_time": "2023-03-21T07:40:30.119Z"
      },
      {
        "duration": 5,
        "start_time": "2023-03-21T07:40:30.259Z"
      },
      {
        "duration": 183,
        "start_time": "2023-03-21T07:40:30.266Z"
      },
      {
        "duration": 6,
        "start_time": "2023-03-21T07:40:30.451Z"
      },
      {
        "duration": 250,
        "start_time": "2023-03-21T07:40:30.460Z"
      },
      {
        "duration": 5,
        "start_time": "2023-03-21T07:40:30.712Z"
      },
      {
        "duration": 226,
        "start_time": "2023-03-21T07:40:30.725Z"
      },
      {
        "duration": 6,
        "start_time": "2023-03-21T07:40:30.953Z"
      },
      {
        "duration": 230,
        "start_time": "2023-03-21T07:40:30.960Z"
      },
      {
        "duration": 263,
        "start_time": "2023-03-21T07:40:31.191Z"
      },
      {
        "duration": 371,
        "start_time": "2023-03-21T07:40:31.457Z"
      },
      {
        "duration": 249,
        "start_time": "2023-03-21T07:40:31.831Z"
      },
      {
        "duration": 14,
        "start_time": "2023-03-21T07:40:32.083Z"
      },
      {
        "duration": 27,
        "start_time": "2023-03-21T07:40:32.099Z"
      },
      {
        "duration": 541,
        "start_time": "2023-03-21T08:17:21.242Z"
      },
      {
        "duration": 3,
        "start_time": "2023-03-21T08:17:21.785Z"
      },
      {
        "duration": 995,
        "start_time": "2023-03-21T08:17:21.789Z"
      },
      {
        "duration": 3,
        "start_time": "2023-03-21T08:17:22.786Z"
      },
      {
        "duration": 4,
        "start_time": "2023-03-21T08:17:22.792Z"
      },
      {
        "duration": 180,
        "start_time": "2023-03-21T08:17:22.797Z"
      },
      {
        "duration": 14,
        "start_time": "2023-03-21T08:17:22.979Z"
      },
      {
        "duration": 3,
        "start_time": "2023-03-21T08:17:22.995Z"
      },
      {
        "duration": 34,
        "start_time": "2023-03-21T08:17:23.000Z"
      },
      {
        "duration": 20,
        "start_time": "2023-03-21T08:17:23.047Z"
      },
      {
        "duration": 8,
        "start_time": "2023-03-21T08:17:23.069Z"
      },
      {
        "duration": 19,
        "start_time": "2023-03-21T08:17:23.079Z"
      },
      {
        "duration": 16,
        "start_time": "2023-03-21T08:17:23.100Z"
      },
      {
        "duration": 14,
        "start_time": "2023-03-21T08:17:23.119Z"
      },
      {
        "duration": 8,
        "start_time": "2023-03-21T08:17:23.135Z"
      },
      {
        "duration": 13,
        "start_time": "2023-03-21T08:17:23.145Z"
      },
      {
        "duration": 6,
        "start_time": "2023-03-21T08:17:23.161Z"
      },
      {
        "duration": 14,
        "start_time": "2023-03-21T08:17:23.169Z"
      },
      {
        "duration": 10,
        "start_time": "2023-03-21T08:17:23.184Z"
      },
      {
        "duration": 10,
        "start_time": "2023-03-21T08:17:23.195Z"
      },
      {
        "duration": 18,
        "start_time": "2023-03-21T08:17:23.207Z"
      },
      {
        "duration": 12,
        "start_time": "2023-03-21T08:17:23.227Z"
      },
      {
        "duration": 14,
        "start_time": "2023-03-21T08:17:23.241Z"
      },
      {
        "duration": 6,
        "start_time": "2023-03-21T08:17:23.256Z"
      },
      {
        "duration": 12,
        "start_time": "2023-03-21T08:17:23.263Z"
      },
      {
        "duration": 19,
        "start_time": "2023-03-21T08:17:23.277Z"
      },
      {
        "duration": 28,
        "start_time": "2023-03-21T08:17:23.298Z"
      },
      {
        "duration": 211,
        "start_time": "2023-03-21T08:17:23.328Z"
      },
      {
        "duration": 331,
        "start_time": "2023-03-21T08:17:23.541Z"
      },
      {
        "duration": 181,
        "start_time": "2023-03-21T08:17:23.874Z"
      },
      {
        "duration": 203,
        "start_time": "2023-03-21T08:17:24.058Z"
      },
      {
        "duration": 209,
        "start_time": "2023-03-21T08:17:24.263Z"
      },
      {
        "duration": 181,
        "start_time": "2023-03-21T08:17:24.474Z"
      },
      {
        "duration": 199,
        "start_time": "2023-03-21T08:17:24.657Z"
      },
      {
        "duration": 183,
        "start_time": "2023-03-21T08:17:24.858Z"
      },
      {
        "duration": 7,
        "start_time": "2023-03-21T08:17:25.043Z"
      },
      {
        "duration": 298,
        "start_time": "2023-03-21T08:17:25.051Z"
      },
      {
        "duration": 191,
        "start_time": "2023-03-21T08:17:25.351Z"
      },
      {
        "duration": 154,
        "start_time": "2023-03-21T08:17:25.544Z"
      },
      {
        "duration": 313,
        "start_time": "2023-03-21T08:17:25.700Z"
      },
      {
        "duration": 153,
        "start_time": "2023-03-21T08:17:26.023Z"
      },
      {
        "duration": 4,
        "start_time": "2023-03-21T08:17:26.177Z"
      },
      {
        "duration": 160,
        "start_time": "2023-03-21T08:17:26.183Z"
      },
      {
        "duration": 5,
        "start_time": "2023-03-21T08:17:26.344Z"
      },
      {
        "duration": 163,
        "start_time": "2023-03-21T08:17:26.351Z"
      },
      {
        "duration": 18,
        "start_time": "2023-03-21T08:17:26.516Z"
      },
      {
        "duration": 154,
        "start_time": "2023-03-21T08:17:26.539Z"
      },
      {
        "duration": 6,
        "start_time": "2023-03-21T08:17:26.695Z"
      },
      {
        "duration": 250,
        "start_time": "2023-03-21T08:17:26.703Z"
      },
      {
        "duration": 296,
        "start_time": "2023-03-21T08:17:26.956Z"
      },
      {
        "duration": 385,
        "start_time": "2023-03-21T08:17:27.254Z"
      },
      {
        "duration": 279,
        "start_time": "2023-03-21T08:17:27.641Z"
      },
      {
        "duration": 15,
        "start_time": "2023-03-21T08:17:27.923Z"
      },
      {
        "duration": 10,
        "start_time": "2023-03-21T08:17:27.941Z"
      }
    ],
    "kernelspec": {
      "display_name": "Python 3 (ipykernel)",
      "language": "python",
      "name": "python3"
    },
    "language_info": {
      "codemirror_mode": {
        "name": "ipython",
        "version": 3
      },
      "file_extension": ".py",
      "mimetype": "text/x-python",
      "name": "python",
      "nbconvert_exporter": "python",
      "pygments_lexer": "ipython3",
      "version": "3.9.5"
    },
    "toc": {
      "base_numbering": 1,
      "nav_menu": {},
      "number_sections": true,
      "sideBar": true,
      "skip_h1_title": true,
      "title_cell": "Table of Contents",
      "title_sidebar": "Contents",
      "toc_cell": false,
      "toc_position": {},
      "toc_section_display": true,
      "toc_window_display": false
    },
    "colab": {
      "provenance": []
    }
  },
  "nbformat": 4,
  "nbformat_minor": 0
}