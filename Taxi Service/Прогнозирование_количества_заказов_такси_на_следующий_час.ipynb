{
  "cells": [
    {
      "cell_type": "markdown",
      "metadata": {
        "toc": true,
        "id": "5nKFRDpUOocN"
      },
      "source": [
        "<h1>Содержание<span class=\"tocSkip\"></span></h1>\n",
        "<div class=\"toc\"><ul class=\"toc-item\"><li><span><a href=\"#Подготовка\" data-toc-modified-id=\"Подготовка-1\"><span class=\"toc-item-num\">1&nbsp;&nbsp;</span>Подготовка</a></span></li><li><span><a href=\"#Анализ\" data-toc-modified-id=\"Анализ-2\"><span class=\"toc-item-num\">2&nbsp;&nbsp;</span>Анализ</a></span></li><li><span><a href=\"#Обучение\" data-toc-modified-id=\"Обучение-3\"><span class=\"toc-item-num\">3&nbsp;&nbsp;</span>Обучение</a></span></li><li><span><a href=\"#Тестирование\" data-toc-modified-id=\"Тестирование-4\"><span class=\"toc-item-num\">4&nbsp;&nbsp;</span>Тестирование</a></span><ul class=\"toc-item\"><li><span><a href=\"#Общий-вывод:\" data-toc-modified-id=\"Общий-вывод:-4.1\"><span class=\"toc-item-num\">4.1&nbsp;&nbsp;</span>Общий вывод:</a></span></li></ul></li><li><span><a href=\"#Чек-лист-проверки\" data-toc-modified-id=\"Чек-лист-проверки-5\"><span class=\"toc-item-num\">5&nbsp;&nbsp;</span>Чек-лист проверки</a></span></li></ul></div>"
      ]
    },
    {
      "cell_type": "markdown",
      "metadata": {
        "id": "4Ye3niLVOocO"
      },
      "source": [
        "#  Прогнозирование заказов такси"
      ]
    },
    {
      "cell_type": "markdown",
      "metadata": {
        "id": "HdQflHoVOocP"
      },
      "source": [
        "Компания «Чётенькое такси» собрала исторические данные о заказах такси в аэропортах. Чтобы привлекать больше водителей в период пиковой нагрузки, нужно спрогнозировать количество заказов такси на следующий час. Постройте модель для такого предсказания.\n",
        "\n",
        "Значение метрики *RMSE* на тестовой выборке должно быть не больше 48.\n",
        "\n",
        "Вам нужно:\n",
        "\n",
        "1. Загрузить данные и выполнить их ресемплирование по одному часу.\n",
        "2. Проанализировать данные.\n",
        "3. Обучить разные модели с различными гиперпараметрами. Сделать тестовую выборку размером 10% от исходных данных.\n",
        "4. Проверить данные на тестовой выборке и сделать выводы.\n",
        "\n",
        "\n",
        "Данные лежат в файле `taxi.csv`. Количество заказов находится в столбце `num_orders` (от англ. *number of orders*, «число заказов»)."
      ]
    },
    {
      "cell_type": "markdown",
      "metadata": {
        "id": "_K7BY4-6OocQ"
      },
      "source": [
        "## Подготовка"
      ]
    },
    {
      "cell_type": "code",
      "execution_count": null,
      "metadata": {
        "id": "glQdYiwxOocQ"
      },
      "outputs": [],
      "source": [
        "import pandas as pd\n",
        "import numpy as np\n",
        "from statsmodels.tsa.seasonal import seasonal_decompose\n",
        "import matplotlib.pyplot as plt\n",
        "from sklearn.model_selection import train_test_split, KFold, TimeSeriesSplit, GridSearchCV\n",
        "from sklearn.ensemble import RandomForestRegressor\n",
        "from lightgbm import LGBMRegressor\n",
        "from sklearn.metrics import mean_squared_error\n",
        "from sklearn.linear_model import LinearRegression\n",
        "plt.rcParams[\"figure.figsize\"] = (10,6)\n"
      ]
    },
    {
      "cell_type": "code",
      "execution_count": null,
      "metadata": {
        "id": "tVPhGFeCOocS"
      },
      "outputs": [],
      "source": [
        "#Установим индекс таблицы равным столбцу datetime, изменим тип данных и прочитаем таблицу\n",
        "df = pd.read_csv('/datasets/taxi.csv', index_col=[0], parse_dates=[0])"
      ]
    },
    {
      "cell_type": "code",
      "execution_count": null,
      "metadata": {
        "id": "WgaSLCrMOocU"
      },
      "outputs": [],
      "source": [
        "#ресемплирование данных по одному часу\n",
        "df = df.resample('1H').sum()"
      ]
    },
    {
      "cell_type": "markdown",
      "metadata": {
        "id": "6ZDmCxFsOocV"
      },
      "source": [
        "## Анализ"
      ]
    },
    {
      "cell_type": "code",
      "execution_count": null,
      "metadata": {
        "id": "qtPBdHCqOocV",
        "outputId": "51432004-64ed-4d48-94c6-fc0c47d6ca70"
      },
      "outputs": [
        {
          "data": {
            "text/html": [
              "<div>\n",
              "<style scoped>\n",
              "    .dataframe tbody tr th:only-of-type {\n",
              "        vertical-align: middle;\n",
              "    }\n",
              "\n",
              "    .dataframe tbody tr th {\n",
              "        vertical-align: top;\n",
              "    }\n",
              "\n",
              "    .dataframe thead th {\n",
              "        text-align: right;\n",
              "    }\n",
              "</style>\n",
              "<table border=\"1\" class=\"dataframe\">\n",
              "  <thead>\n",
              "    <tr style=\"text-align: right;\">\n",
              "      <th></th>\n",
              "      <th>num_orders</th>\n",
              "    </tr>\n",
              "    <tr>\n",
              "      <th>datetime</th>\n",
              "      <th></th>\n",
              "    </tr>\n",
              "  </thead>\n",
              "  <tbody>\n",
              "    <tr>\n",
              "      <th>2018-03-01 00:00:00</th>\n",
              "      <td>124</td>\n",
              "    </tr>\n",
              "    <tr>\n",
              "      <th>2018-03-01 01:00:00</th>\n",
              "      <td>85</td>\n",
              "    </tr>\n",
              "    <tr>\n",
              "      <th>2018-03-01 02:00:00</th>\n",
              "      <td>71</td>\n",
              "    </tr>\n",
              "    <tr>\n",
              "      <th>2018-03-01 03:00:00</th>\n",
              "      <td>66</td>\n",
              "    </tr>\n",
              "    <tr>\n",
              "      <th>2018-03-01 04:00:00</th>\n",
              "      <td>43</td>\n",
              "    </tr>\n",
              "    <tr>\n",
              "      <th>...</th>\n",
              "      <td>...</td>\n",
              "    </tr>\n",
              "    <tr>\n",
              "      <th>2018-08-31 19:00:00</th>\n",
              "      <td>136</td>\n",
              "    </tr>\n",
              "    <tr>\n",
              "      <th>2018-08-31 20:00:00</th>\n",
              "      <td>154</td>\n",
              "    </tr>\n",
              "    <tr>\n",
              "      <th>2018-08-31 21:00:00</th>\n",
              "      <td>159</td>\n",
              "    </tr>\n",
              "    <tr>\n",
              "      <th>2018-08-31 22:00:00</th>\n",
              "      <td>223</td>\n",
              "    </tr>\n",
              "    <tr>\n",
              "      <th>2018-08-31 23:00:00</th>\n",
              "      <td>205</td>\n",
              "    </tr>\n",
              "  </tbody>\n",
              "</table>\n",
              "<p>4416 rows × 1 columns</p>\n",
              "</div>"
            ],
            "text/plain": [
              "                     num_orders\n",
              "datetime                       \n",
              "2018-03-01 00:00:00         124\n",
              "2018-03-01 01:00:00          85\n",
              "2018-03-01 02:00:00          71\n",
              "2018-03-01 03:00:00          66\n",
              "2018-03-01 04:00:00          43\n",
              "...                         ...\n",
              "2018-08-31 19:00:00         136\n",
              "2018-08-31 20:00:00         154\n",
              "2018-08-31 21:00:00         159\n",
              "2018-08-31 22:00:00         223\n",
              "2018-08-31 23:00:00         205\n",
              "\n",
              "[4416 rows x 1 columns]"
            ]
          },
          "execution_count": 4,
          "metadata": {},
          "output_type": "execute_result"
        }
      ],
      "source": [
        "#рассмотрим таблиу\n",
        "df"
      ]
    },
    {
      "cell_type": "markdown",
      "metadata": {
        "id": "v1lG_xnkOocW"
      },
      "source": [
        "Размер таблии 4416 строк × 1 колонка"
      ]
    },
    {
      "cell_type": "code",
      "execution_count": null,
      "metadata": {
        "id": "8mBKXXjIOocW",
        "outputId": "08499d80-be51-47e6-c4fa-58bd89ed745e"
      },
      "outputs": [
        {
          "name": "stdout",
          "output_type": "stream",
          "text": [
            "<class 'pandas.core.frame.DataFrame'>\n",
            "DatetimeIndex: 4416 entries, 2018-03-01 00:00:00 to 2018-08-31 23:00:00\n",
            "Freq: H\n",
            "Data columns (total 1 columns):\n",
            " #   Column      Non-Null Count  Dtype\n",
            "---  ------      --------------  -----\n",
            " 0   num_orders  4416 non-null   int64\n",
            "dtypes: int64(1)\n",
            "memory usage: 69.0 KB\n"
          ]
        }
      ],
      "source": [
        "#рассмотрим таблиу методом info()\n",
        "df.info()"
      ]
    },
    {
      "cell_type": "markdown",
      "metadata": {
        "id": "rqC3Zxf2OocW"
      },
      "source": [
        "тип колонки int64, DatetimeIndex: 4416 entries, 2018-03-01 00:00:00 to 2018-08-31 23:00:00"
      ]
    },
    {
      "cell_type": "code",
      "execution_count": null,
      "metadata": {
        "id": "xmAXlp7zOocW",
        "outputId": "e5a76626-7b8f-4742-f27d-c8017e4250f4"
      },
      "outputs": [
        {
          "data": {
            "text/html": [
              "<div>\n",
              "<style scoped>\n",
              "    .dataframe tbody tr th:only-of-type {\n",
              "        vertical-align: middle;\n",
              "    }\n",
              "\n",
              "    .dataframe tbody tr th {\n",
              "        vertical-align: top;\n",
              "    }\n",
              "\n",
              "    .dataframe thead th {\n",
              "        text-align: right;\n",
              "    }\n",
              "</style>\n",
              "<table border=\"1\" class=\"dataframe\">\n",
              "  <thead>\n",
              "    <tr style=\"text-align: right;\">\n",
              "      <th></th>\n",
              "      <th>num_orders</th>\n",
              "    </tr>\n",
              "  </thead>\n",
              "  <tbody>\n",
              "    <tr>\n",
              "      <th>count</th>\n",
              "      <td>4416.000000</td>\n",
              "    </tr>\n",
              "    <tr>\n",
              "      <th>mean</th>\n",
              "      <td>84.422781</td>\n",
              "    </tr>\n",
              "    <tr>\n",
              "      <th>std</th>\n",
              "      <td>45.023853</td>\n",
              "    </tr>\n",
              "    <tr>\n",
              "      <th>min</th>\n",
              "      <td>0.000000</td>\n",
              "    </tr>\n",
              "    <tr>\n",
              "      <th>25%</th>\n",
              "      <td>54.000000</td>\n",
              "    </tr>\n",
              "    <tr>\n",
              "      <th>50%</th>\n",
              "      <td>78.000000</td>\n",
              "    </tr>\n",
              "    <tr>\n",
              "      <th>75%</th>\n",
              "      <td>107.000000</td>\n",
              "    </tr>\n",
              "    <tr>\n",
              "      <th>max</th>\n",
              "      <td>462.000000</td>\n",
              "    </tr>\n",
              "  </tbody>\n",
              "</table>\n",
              "</div>"
            ],
            "text/plain": [
              "        num_orders\n",
              "count  4416.000000\n",
              "mean     84.422781\n",
              "std      45.023853\n",
              "min       0.000000\n",
              "25%      54.000000\n",
              "50%      78.000000\n",
              "75%     107.000000\n",
              "max     462.000000"
            ]
          },
          "execution_count": 6,
          "metadata": {},
          "output_type": "execute_result"
        }
      ],
      "source": [
        "#рассмотрим таблиу методом describe()\n",
        "df.describe()"
      ]
    },
    {
      "cell_type": "markdown",
      "metadata": {
        "id": "8fQvPyj5OocW"
      },
      "source": [
        "Рассмотрим статистические данные"
      ]
    },
    {
      "cell_type": "code",
      "execution_count": null,
      "metadata": {
        "id": "K9H-KDlXOocX",
        "outputId": "991b55be-1398-4fd2-e804-eff2e248b773"
      },
      "outputs": [
        {
          "name": "stdout",
          "output_type": "stream",
          "text": [
            "True\n"
          ]
        }
      ],
      "source": [
        "#проверим, в хронологическом ли порядке расположены даты и время\n",
        "print(df.index.is_monotonic)"
      ]
    },
    {
      "cell_type": "markdown",
      "metadata": {
        "id": "rER-K_YeOocX"
      },
      "source": [
        "порядок соблюдён"
      ]
    },
    {
      "cell_type": "code",
      "execution_count": null,
      "metadata": {
        "id": "DhZmCeLqOocX",
        "outputId": "130ea3b3-d621-4250-c6d1-923779ba9264"
      },
      "outputs": [
        {
          "data": {
            "image/png": "[encoded data removed]",
            "text/plain": [
              "<Figure size 720x432 with 1 Axes>"
            ]
          },
          "metadata": {
            "needs_background": "light"
          },
          "output_type": "display_data"
        }
      ],
      "source": [
        "#С помощью скользящего среднего и скользящего среднего отклонения посмотрим значения,\n",
        "#которые меньше всего подвержены колебаниям\n",
        "\n",
        "df['rolling_mean'] = df.rolling(100).mean()\n",
        "df.plot()\n",
        "plt.show()"
      ]
    },
    {
      "cell_type": "markdown",
      "metadata": {
        "id": "y0ir3rRFOocX"
      },
      "source": [
        "Ряд стал более стаионарным, а значит данные можно прогназировать"
      ]
    },
    {
      "cell_type": "code",
      "execution_count": null,
      "metadata": {
        "id": "-hkdN5DVOocY",
        "outputId": "7fc29f17-e9d2-44ca-d1e8-324308133c8f"
      },
      "outputs": [
        {
          "name": "stdout",
          "output_type": "stream",
          "text": [
            "Если значение с индексом 1 меньше P-Value, заданное нами (обычно берут 0.05), то ряд стационарный\n",
            "Наш ряд стационарный\n"
          ]
        }
      ],
      "source": [
        "# код ревьювера\n",
        "from statsmodels.tsa.stattools import adfuller\n",
        "\n",
        "taxi = pd.read_csv(\"/datasets/taxi.csv\", index_col=[0], parse_dates=[0]).resample('1H').sum()\n",
        "\n",
        "ts = taxi['num_orders']\n",
        "st_test = adfuller(ts, regression='ctt')\n",
        "\n",
        "print('Если значение с индексом 1 меньше P-Value, заданное нами (обычно берут 0.05), то ряд стационарный')\n",
        "if st_test[1] < 0.05:\n",
        "    print('Наш ряд стационарный')\n",
        "else:\n",
        "    print('Ряд нестационарный')\n",
        "\n"
      ]
    },
    {
      "cell_type": "code",
      "execution_count": null,
      "metadata": {
        "id": "9ud2TsCeOocY",
        "outputId": "ae075a70-748a-4503-ab31-76dd3e28d25d"
      },
      "outputs": [
        {
          "data": {
            "image/png": "[encoded data removed]",
            "text/plain": [
              "<Figure size 720x864 with 3 Axes>"
            ]
          },
          "metadata": {
            "needs_background": "light"
          },
          "output_type": "display_data"
        }
      ],
      "source": [
        "#Разложим ряд на тренд, сезонность и остаток\n",
        "decomposed = seasonal_decompose(df['num_orders'])\n",
        "\n",
        "plt.figure(figsize=(10, 12))\n",
        "plt.subplot(311)\n",
        "# Чтобы график корректно отобразился, указываем его\n",
        "# оси ax, равными plt.gca()\n",
        "decomposed.trend.plot(ax=plt.gca())\n",
        "plt.title('Trend')\n",
        "plt.subplot(312)\n",
        "decomposed.seasonal.plot(ax=plt.gca())\n",
        "plt.title('Seasonality')\n",
        "plt.subplot(313)\n",
        "decomposed.resid.plot(ax=plt.gca())\n",
        "plt.title('Residuals')\n",
        "plt.tight_layout()"
      ]
    },
    {
      "cell_type": "markdown",
      "metadata": {
        "id": "Oav720VGOocY"
      },
      "source": [
        "Из графика тренд видно, что увеличение спроса на такси сезонно и приходится на летнии месяци"
      ]
    },
    {
      "cell_type": "code",
      "execution_count": null,
      "metadata": {
        "id": "YULfQ7b2OocY",
        "outputId": "6aecb2f6-b318-4d4b-9b14-ae55ba1c606b"
      },
      "outputs": [
        {
          "name": "stdout",
          "output_type": "stream",
          "text": [
            "                     num_orders  rolling_mean  day  dayofweek  hour  lag_1  \\\n",
            "datetime                                                                     \n",
            "2018-03-01 00:00:00         124           NaN    1          3     0    NaN   \n",
            "2018-03-01 01:00:00          85           NaN    1          3     1  124.0   \n",
            "2018-03-01 02:00:00          71           NaN    1          3     2   85.0   \n",
            "2018-03-01 03:00:00          66           NaN    1          3     3   71.0   \n",
            "2018-03-01 04:00:00          43          86.5    1          3     4   66.0   \n",
            "\n",
            "                     lag_2  lag_3  lag_4  \n",
            "datetime                                  \n",
            "2018-03-01 00:00:00    NaN    NaN    NaN  \n",
            "2018-03-01 01:00:00    NaN    NaN    NaN  \n",
            "2018-03-01 02:00:00  124.0    NaN    NaN  \n",
            "2018-03-01 03:00:00   85.0  124.0    NaN  \n",
            "2018-03-01 04:00:00   71.0   85.0  124.0  \n"
          ]
        }
      ],
      "source": [
        "#Создадим признаки\n",
        "def make_features(df, max_lag, rolling_mean_size):\n",
        "    #df['year'] = df.index.year\n",
        "    #df['month'] = df.index.month\n",
        "    df['day'] = df.index.day\n",
        "    df['dayofweek'] = df.index.dayofweek\n",
        "    df['hour'] = df.index.hour\n",
        "\n",
        "    for lag in range(1, max_lag + 1):\n",
        "        df['lag_{}'.format(lag)] = df['num_orders'].shift(lag)\n",
        "\n",
        "    df['rolling_mean'] = df['num_orders'].shift().rolling(rolling_mean_size).mean()\n",
        "make_features(df, 4, 4)\n",
        "print(df.head())"
      ]
    },
    {
      "cell_type": "markdown",
      "metadata": {
        "id": "CB-4DejYOocZ"
      },
      "source": [
        "\n",
        "Убрал признаки за год и месяц, из-за периода они неважны, добавил призна за час"
      ]
    },
    {
      "cell_type": "code",
      "execution_count": null,
      "metadata": {
        "id": "zcGExEtqOocZ",
        "outputId": "4bad0533-af41-4980-97c2-b0f68f29196d"
      },
      "outputs": [
        {
          "data": {
            "image/png": "[encoded data removed]",
            "text/plain": [
              "<Figure size 1332x432 with 1 Axes>"
            ]
          },
          "metadata": {
            "needs_background": "light"
          },
          "output_type": "display_data"
        }
      ],
      "source": [
        "\n",
        "from statsmodels.graphics import tsaplots\n",
        "\n",
        "taxi = pd.read_csv(\"/datasets/taxi.csv\", index_col=[0], parse_dates=[0]).resample('1H').sum()\n",
        "ts = taxi['num_orders']\n",
        "\n",
        "fig = tsaplots.plot_acf(ts,lags= 190)\n",
        "fig.set_size_inches(18.5, 6)\n",
        "plt.ylim(-.1, 1.1)\n",
        "plt.show()"
      ]
    },
    {
      "cell_type": "code",
      "execution_count": null,
      "metadata": {
        "id": "u8ANol6pOocZ",
        "outputId": "1c610f6a-5d58-42a2-ecec-04cb8fc48825"
      },
      "outputs": [
        {
          "name": "stdout",
          "output_type": "stream",
          "text": [
            "<class 'pandas.core.frame.DataFrame'>\n",
            "DatetimeIndex: 4416 entries, 2018-03-01 00:00:00 to 2018-08-31 23:00:00\n",
            "Freq: H\n",
            "Data columns (total 9 columns):\n",
            " #   Column        Non-Null Count  Dtype  \n",
            "---  ------        --------------  -----  \n",
            " 0   num_orders    4416 non-null   int64  \n",
            " 1   rolling_mean  4412 non-null   float64\n",
            " 2   day           4416 non-null   int64  \n",
            " 3   dayofweek     4416 non-null   int64  \n",
            " 4   hour          4416 non-null   int64  \n",
            " 5   lag_1         4415 non-null   float64\n",
            " 6   lag_2         4414 non-null   float64\n",
            " 7   lag_3         4413 non-null   float64\n",
            " 8   lag_4         4412 non-null   float64\n",
            "dtypes: float64(5), int64(4)\n",
            "memory usage: 345.0 KB\n"
          ]
        }
      ],
      "source": [
        "df.info()"
      ]
    },
    {
      "cell_type": "markdown",
      "metadata": {
        "id": "nZJl0CkuOoca"
      },
      "source": [
        "таблиа после создания дополнительных признаков float64(5), int64(5)"
      ]
    },
    {
      "cell_type": "markdown",
      "metadata": {
        "id": "IwvqIo18Ooca"
      },
      "source": [
        "Вывод:\n",
        "- Установили  индекс таблицы равным столбцу datetime, изменили тип данных\n",
        "- ресемплировали данных по одному часу\n",
        "- хронологический порядк расположения даты и время соблюдён\n",
        "- С помощью сользящего среднео ряд стал более стаионарным, а значит данные можно прогназировать\n",
        "- Из графика тренд видно, что увеличение спроса на такси сезонно и приходится на летнии месяци\n",
        "- Создали дополнительные признаки\n",
        "- таблиа после создания дополнительных признаков float64(5), int64(5)"
      ]
    },
    {
      "cell_type": "markdown",
      "metadata": {
        "id": "yVRsRJr7Ooca"
      },
      "source": [
        "## Обучение"
      ]
    },
    {
      "cell_type": "code",
      "execution_count": null,
      "metadata": {
        "id": "GUjK4KqLOocb"
      },
      "outputs": [],
      "source": [
        "#Разабьём датасет на обучающую и тестовую выборки, тестовая выборка размером 10%\n",
        "train, test = train_test_split(df, shuffle=False, test_size=0.1)"
      ]
    },
    {
      "cell_type": "code",
      "execution_count": null,
      "metadata": {
        "id": "aZ7yUe_wOocb"
      },
      "outputs": [],
      "source": [
        "#После деления данных на выборки удалим пропуски способом dropna()\n",
        "train = train.dropna()\n",
        "test = test.dropna()"
      ]
    },
    {
      "cell_type": "code",
      "execution_count": null,
      "metadata": {
        "id": "og1Oim0TOocb",
        "outputId": "1dac1185-4778-421c-cd5f-b7ea56af57ed"
      },
      "outputs": [
        {
          "name": "stdout",
          "output_type": "stream",
          "text": [
            "(3970, 9)\n",
            "(442, 9)\n"
          ]
        }
      ],
      "source": [
        "#проверим размер выборок\n",
        "print(train.shape)\n",
        "print(test.shape)"
      ]
    },
    {
      "cell_type": "code",
      "execution_count": null,
      "metadata": {
        "id": "T1wMqJIiOocb"
      },
      "outputs": [],
      "source": [
        "#выделим признаки и целевой признак\n",
        "features_train = train.drop(['num_orders'], axis=1)\n",
        "target_train = train['num_orders']\n",
        "features_test = test.drop(['num_orders'], axis=1)\n",
        "target_test = test['num_orders']"
      ]
    },
    {
      "cell_type": "code",
      "execution_count": null,
      "metadata": {
        "id": "z0vCRMnfOocc"
      },
      "outputs": [],
      "source": [
        "tscv = TimeSeriesSplit(n_splits=5)"
      ]
    },
    {
      "cell_type": "markdown",
      "metadata": {
        "id": "TPEzCwCVOocc"
      },
      "source": [
        "**RandomForestRegressor**"
      ]
    },
    {
      "cell_type": "code",
      "execution_count": null,
      "metadata": {
        "collapsed": true,
        "id": "Enojf9RyOocc",
        "outputId": "4f45a766-d619-4bcf-f01c-9a4cceb69bb0"
      },
      "outputs": [
        {
          "name": "stdout",
          "output_type": "stream",
          "text": [
            "Fitting 5 folds for each of 9 candidates, totalling 45 fits\n",
            "[CV 1/5; 1/9] START max_depth=3, n_estimators=10, random_state=123..............\n",
            "[CV 1/5; 1/9] END max_depth=3, n_estimators=10, random_state=123; total time=   0.0s\n",
            "[CV 2/5; 1/9] START max_depth=3, n_estimators=10, random_state=123..............\n",
            "[CV 2/5; 1/9] END max_depth=3, n_estimators=10, random_state=123; total time=   0.0s\n",
            "[CV 3/5; 1/9] START max_depth=3, n_estimators=10, random_state=123..............\n",
            "[CV 3/5; 1/9] END max_depth=3, n_estimators=10, random_state=123; total time=   0.0s\n",
            "[CV 4/5; 1/9] START max_depth=3, n_estimators=10, random_state=123..............\n",
            "[CV 4/5; 1/9] END max_depth=3, n_estimators=10, random_state=123; total time=   0.0s\n",
            "[CV 5/5; 1/9] START max_depth=3, n_estimators=10, random_state=123..............\n",
            "[CV 5/5; 1/9] END max_depth=3, n_estimators=10, random_state=123; total time=   0.0s\n",
            "[CV 1/5; 2/9] START max_depth=3, n_estimators=20, random_state=123..............\n",
            "[CV 1/5; 2/9] END max_depth=3, n_estimators=20, random_state=123; total time=   0.0s\n",
            "[CV 2/5; 2/9] START max_depth=3, n_estimators=20, random_state=123..............\n",
            "[CV 2/5; 2/9] END max_depth=3, n_estimators=20, random_state=123; total time=   0.1s\n",
            "[CV 3/5; 2/9] START max_depth=3, n_estimators=20, random_state=123..............\n",
            "[CV 3/5; 2/9] END max_depth=3, n_estimators=20, random_state=123; total time=   0.1s\n",
            "[CV 4/5; 2/9] START max_depth=3, n_estimators=20, random_state=123..............\n",
            "[CV 4/5; 2/9] END max_depth=3, n_estimators=20, random_state=123; total time=   0.1s\n",
            "[CV 5/5; 2/9] START max_depth=3, n_estimators=20, random_state=123..............\n",
            "[CV 5/5; 2/9] END max_depth=3, n_estimators=20, random_state=123; total time=   0.1s\n",
            "[CV 1/5; 3/9] START max_depth=3, n_estimators=30, random_state=123..............\n",
            "[CV 1/5; 3/9] END max_depth=3, n_estimators=30, random_state=123; total time=   0.1s\n",
            "[CV 2/5; 3/9] START max_depth=3, n_estimators=30, random_state=123..............\n",
            "[CV 2/5; 3/9] END max_depth=3, n_estimators=30, random_state=123; total time=   0.1s\n",
            "[CV 3/5; 3/9] START max_depth=3, n_estimators=30, random_state=123..............\n",
            "[CV 3/5; 3/9] END max_depth=3, n_estimators=30, random_state=123; total time=   0.1s\n",
            "[CV 4/5; 3/9] START max_depth=3, n_estimators=30, random_state=123..............\n",
            "[CV 4/5; 3/9] END max_depth=3, n_estimators=30, random_state=123; total time=   0.1s\n",
            "[CV 5/5; 3/9] START max_depth=3, n_estimators=30, random_state=123..............\n",
            "[CV 5/5; 3/9] END max_depth=3, n_estimators=30, random_state=123; total time=   0.1s\n",
            "[CV 1/5; 4/9] START max_depth=5, n_estimators=10, random_state=123..............\n",
            "[CV 1/5; 4/9] END max_depth=5, n_estimators=10, random_state=123; total time=   0.0s\n",
            "[CV 2/5; 4/9] START max_depth=5, n_estimators=10, random_state=123..............\n",
            "[CV 2/5; 4/9] END max_depth=5, n_estimators=10, random_state=123; total time=   0.0s\n",
            "[CV 3/5; 4/9] START max_depth=5, n_estimators=10, random_state=123..............\n",
            "[CV 3/5; 4/9] END max_depth=5, n_estimators=10, random_state=123; total time=   0.0s\n",
            "[CV 4/5; 4/9] START max_depth=5, n_estimators=10, random_state=123..............\n",
            "[CV 4/5; 4/9] END max_depth=5, n_estimators=10, random_state=123; total time=   0.1s\n",
            "[CV 5/5; 4/9] START max_depth=5, n_estimators=10, random_state=123..............\n",
            "[CV 5/5; 4/9] END max_depth=5, n_estimators=10, random_state=123; total time=   0.1s\n",
            "[CV 1/5; 5/9] START max_depth=5, n_estimators=20, random_state=123..............\n",
            "[CV 1/5; 5/9] END max_depth=5, n_estimators=20, random_state=123; total time=   0.1s\n",
            "[CV 2/5; 5/9] START max_depth=5, n_estimators=20, random_state=123..............\n",
            "[CV 2/5; 5/9] END max_depth=5, n_estimators=20, random_state=123; total time=   0.1s\n",
            "[CV 3/5; 5/9] START max_depth=5, n_estimators=20, random_state=123..............\n",
            "[CV 3/5; 5/9] END max_depth=5, n_estimators=20, random_state=123; total time=   0.1s\n",
            "[CV 4/5; 5/9] START max_depth=5, n_estimators=20, random_state=123..............\n",
            "[CV 4/5; 5/9] END max_depth=5, n_estimators=20, random_state=123; total time=   0.1s\n",
            "[CV 5/5; 5/9] START max_depth=5, n_estimators=20, random_state=123..............\n",
            "[CV 5/5; 5/9] END max_depth=5, n_estimators=20, random_state=123; total time=   0.1s\n",
            "[CV 1/5; 6/9] START max_depth=5, n_estimators=30, random_state=123..............\n",
            "[CV 1/5; 6/9] END max_depth=5, n_estimators=30, random_state=123; total time=   0.1s\n",
            "[CV 2/5; 6/9] START max_depth=5, n_estimators=30, random_state=123..............\n",
            "[CV 2/5; 6/9] END max_depth=5, n_estimators=30, random_state=123; total time=   0.1s\n",
            "[CV 3/5; 6/9] START max_depth=5, n_estimators=30, random_state=123..............\n",
            "[CV 3/5; 6/9] END max_depth=5, n_estimators=30, random_state=123; total time=   0.1s\n",
            "[CV 4/5; 6/9] START max_depth=5, n_estimators=30, random_state=123..............\n",
            "[CV 4/5; 6/9] END max_depth=5, n_estimators=30, random_state=123; total time=   0.1s\n",
            "[CV 5/5; 6/9] START max_depth=5, n_estimators=30, random_state=123..............\n",
            "[CV 5/5; 6/9] END max_depth=5, n_estimators=30, random_state=123; total time=   0.2s\n",
            "[CV 1/5; 7/9] START max_depth=10, n_estimators=10, random_state=123.............\n",
            "[CV 1/5; 7/9] END max_depth=10, n_estimators=10, random_state=123; total time=   0.0s\n",
            "[CV 2/5; 7/9] START max_depth=10, n_estimators=10, random_state=123.............\n",
            "[CV 2/5; 7/9] END max_depth=10, n_estimators=10, random_state=123; total time=   0.0s\n",
            "[CV 3/5; 7/9] START max_depth=10, n_estimators=10, random_state=123.............\n",
            "[CV 3/5; 7/9] END max_depth=10, n_estimators=10, random_state=123; total time=   0.1s\n",
            "[CV 4/5; 7/9] START max_depth=10, n_estimators=10, random_state=123.............\n",
            "[CV 4/5; 7/9] END max_depth=10, n_estimators=10, random_state=123; total time=   0.1s\n",
            "[CV 5/5; 7/9] START max_depth=10, n_estimators=10, random_state=123.............\n",
            "[CV 5/5; 7/9] END max_depth=10, n_estimators=10, random_state=123; total time=   0.1s\n",
            "[CV 1/5; 8/9] START max_depth=10, n_estimators=20, random_state=123.............\n",
            "[CV 1/5; 8/9] END max_depth=10, n_estimators=20, random_state=123; total time=   0.1s\n",
            "[CV 2/5; 8/9] START max_depth=10, n_estimators=20, random_state=123.............\n",
            "[CV 2/5; 8/9] END max_depth=10, n_estimators=20, random_state=123; total time=   0.1s\n",
            "[CV 3/5; 8/9] START max_depth=10, n_estimators=20, random_state=123.............\n",
            "[CV 3/5; 8/9] END max_depth=10, n_estimators=20, random_state=123; total time=   0.1s\n",
            "[CV 4/5; 8/9] START max_depth=10, n_estimators=20, random_state=123.............\n",
            "[CV 4/5; 8/9] END max_depth=10, n_estimators=20, random_state=123; total time=   0.2s\n",
            "[CV 5/5; 8/9] START max_depth=10, n_estimators=20, random_state=123.............\n",
            "[CV 5/5; 8/9] END max_depth=10, n_estimators=20, random_state=123; total time=   0.2s\n",
            "[CV 1/5; 9/9] START max_depth=10, n_estimators=30, random_state=123.............\n",
            "[CV 1/5; 9/9] END max_depth=10, n_estimators=30, random_state=123; total time=   0.1s\n",
            "[CV 2/5; 9/9] START max_depth=10, n_estimators=30, random_state=123.............\n",
            "[CV 2/5; 9/9] END max_depth=10, n_estimators=30, random_state=123; total time=   0.1s\n",
            "[CV 3/5; 9/9] START max_depth=10, n_estimators=30, random_state=123.............\n",
            "[CV 3/5; 9/9] END max_depth=10, n_estimators=30, random_state=123; total time=   0.2s\n",
            "[CV 4/5; 9/9] START max_depth=10, n_estimators=30, random_state=123.............\n",
            "[CV 4/5; 9/9] END max_depth=10, n_estimators=30, random_state=123; total time=   0.2s\n",
            "[CV 5/5; 9/9] START max_depth=10, n_estimators=30, random_state=123.............\n",
            "[CV 5/5; 9/9] END max_depth=10, n_estimators=30, random_state=123; total time=   0.3s\n",
            "Train RMSE: 27.78\n"
          ]
        }
      ],
      "source": [
        "model = RandomForestRegressor()\n",
        "params = {\n",
        "    'n_estimators' : [10, 20, 30],\n",
        "    'max_depth' : [3, 5, 10],\n",
        "    'random_state' : [123]\n",
        "    }\n",
        "grid_cv = GridSearchCV(estimator=model, cv=tscv, param_grid=params, n_jobs=-1, verbose=10, scoring='neg_mean_squared_error')\n",
        "grid_cv.fit(features_train, target_train)\n",
        "grid_cv.best_params_\n",
        "rf_rmse = (-grid_cv.best_score_) ** 0.5\n",
        "print('Train RMSE: {:.2f}'.format(rf_rmse))"
      ]
    },
    {
      "cell_type": "markdown",
      "metadata": {
        "id": "28az4xYROocc"
      },
      "source": [
        "<div class=\"alert alert-info\">\n",
        "Задал кросс-валидацию TimeSeriesSplit.\n",
        "</div>"
      ]
    },
    {
      "cell_type": "markdown",
      "metadata": {
        "id": "2Xpz0dt5Oocc"
      },
      "source": [
        "RMSE для RandomForestRegressor = 31.64"
      ]
    },
    {
      "cell_type": "markdown",
      "metadata": {
        "id": "DJoFcYBNOocc"
      },
      "source": [
        "**LGBMRegressor**"
      ]
    },
    {
      "cell_type": "code",
      "execution_count": null,
      "metadata": {
        "id": "TUGR2SM5Oocd"
      },
      "outputs": [],
      "source": [
        "# создадим кросс-валидатор для последующего обучения моделей\n",
        "#cv = KFold(n_splits=3, shuffle=True, random_state=12345)"
      ]
    },
    {
      "cell_type": "code",
      "execution_count": null,
      "metadata": {
        "collapsed": true,
        "id": "HgyTozbqOocd",
        "outputId": "e68c3b93-e2ae-4e6c-85b5-1341e002decf"
      },
      "outputs": [
        {
          "name": "stdout",
          "output_type": "stream",
          "text": [
            "Fitting 5 folds for each of 9 candidates, totalling 45 fits\n",
            "[CV 1/5; 1/9] START boosting_type=gbdt, force_col_wise=True, max_depth=1, n_estimators=50, num_leaves=30, random_state=12345, verbose=-1\n",
            "[CV 1/5; 1/9] END boosting_type=gbdt, force_col_wise=True, max_depth=1, n_estimators=50, num_leaves=30, random_state=12345, verbose=-1; total time=   0.0s\n",
            "[CV 2/5; 1/9] START boosting_type=gbdt, force_col_wise=True, max_depth=1, n_estimators=50, num_leaves=30, random_state=12345, verbose=-1\n",
            "[CV 2/5; 1/9] END boosting_type=gbdt, force_col_wise=True, max_depth=1, n_estimators=50, num_leaves=30, random_state=12345, verbose=-1; total time=   0.5s\n",
            "[CV 3/5; 1/9] START boosting_type=gbdt, force_col_wise=True, max_depth=1, n_estimators=50, num_leaves=30, random_state=12345, verbose=-1\n",
            "[CV 3/5; 1/9] END boosting_type=gbdt, force_col_wise=True, max_depth=1, n_estimators=50, num_leaves=30, random_state=12345, verbose=-1; total time=   0.7s\n",
            "[CV 4/5; 1/9] START boosting_type=gbdt, force_col_wise=True, max_depth=1, n_estimators=50, num_leaves=30, random_state=12345, verbose=-1\n",
            "[CV 4/5; 1/9] END boosting_type=gbdt, force_col_wise=True, max_depth=1, n_estimators=50, num_leaves=30, random_state=12345, verbose=-1; total time=   0.4s\n",
            "[CV 5/5; 1/9] START boosting_type=gbdt, force_col_wise=True, max_depth=1, n_estimators=50, num_leaves=30, random_state=12345, verbose=-1\n",
            "[CV 5/5; 1/9] END boosting_type=gbdt, force_col_wise=True, max_depth=1, n_estimators=50, num_leaves=30, random_state=12345, verbose=-1; total time=   1.1s\n",
            "[CV 1/5; 2/9] START boosting_type=gbdt, force_col_wise=True, max_depth=1, n_estimators=50, num_leaves=130, random_state=12345, verbose=-1\n",
            "[CV 1/5; 2/9] END boosting_type=gbdt, force_col_wise=True, max_depth=1, n_estimators=50, num_leaves=130, random_state=12345, verbose=-1; total time=   0.5s\n",
            "[CV 2/5; 2/9] START boosting_type=gbdt, force_col_wise=True, max_depth=1, n_estimators=50, num_leaves=130, random_state=12345, verbose=-1\n",
            "[CV 2/5; 2/9] END boosting_type=gbdt, force_col_wise=True, max_depth=1, n_estimators=50, num_leaves=130, random_state=12345, verbose=-1; total time=   0.2s\n",
            "[CV 3/5; 2/9] START boosting_type=gbdt, force_col_wise=True, max_depth=1, n_estimators=50, num_leaves=130, random_state=12345, verbose=-1\n",
            "[CV 3/5; 2/9] END boosting_type=gbdt, force_col_wise=True, max_depth=1, n_estimators=50, num_leaves=130, random_state=12345, verbose=-1; total time=   2.5s\n",
            "[CV 4/5; 2/9] START boosting_type=gbdt, force_col_wise=True, max_depth=1, n_estimators=50, num_leaves=130, random_state=12345, verbose=-1\n",
            "[CV 4/5; 2/9] END boosting_type=gbdt, force_col_wise=True, max_depth=1, n_estimators=50, num_leaves=130, random_state=12345, verbose=-1; total time=   0.7s\n",
            "[CV 5/5; 2/9] START boosting_type=gbdt, force_col_wise=True, max_depth=1, n_estimators=50, num_leaves=130, random_state=12345, verbose=-1\n",
            "[CV 5/5; 2/9] END boosting_type=gbdt, force_col_wise=True, max_depth=1, n_estimators=50, num_leaves=130, random_state=12345, verbose=-1; total time=   1.7s\n",
            "[CV 1/5; 3/9] START boosting_type=gbdt, force_col_wise=True, max_depth=1, n_estimators=50, num_leaves=200, random_state=12345, verbose=-1\n",
            "[CV 1/5; 3/9] END boosting_type=gbdt, force_col_wise=True, max_depth=1, n_estimators=50, num_leaves=200, random_state=12345, verbose=-1; total time=   0.5s\n",
            "[CV 2/5; 3/9] START boosting_type=gbdt, force_col_wise=True, max_depth=1, n_estimators=50, num_leaves=200, random_state=12345, verbose=-1\n",
            "[CV 2/5; 3/9] END boosting_type=gbdt, force_col_wise=True, max_depth=1, n_estimators=50, num_leaves=200, random_state=12345, verbose=-1; total time=   0.2s\n",
            "[CV 3/5; 3/9] START boosting_type=gbdt, force_col_wise=True, max_depth=1, n_estimators=50, num_leaves=200, random_state=12345, verbose=-1\n",
            "[CV 3/5; 3/9] END boosting_type=gbdt, force_col_wise=True, max_depth=1, n_estimators=50, num_leaves=200, random_state=12345, verbose=-1; total time=   0.1s\n",
            "[CV 4/5; 3/9] START boosting_type=gbdt, force_col_wise=True, max_depth=1, n_estimators=50, num_leaves=200, random_state=12345, verbose=-1\n",
            "[CV 4/5; 3/9] END boosting_type=gbdt, force_col_wise=True, max_depth=1, n_estimators=50, num_leaves=200, random_state=12345, verbose=-1; total time=   1.0s\n",
            "[CV 5/5; 3/9] START boosting_type=gbdt, force_col_wise=True, max_depth=1, n_estimators=50, num_leaves=200, random_state=12345, verbose=-1\n",
            "[CV 5/5; 3/9] END boosting_type=gbdt, force_col_wise=True, max_depth=1, n_estimators=50, num_leaves=200, random_state=12345, verbose=-1; total time=   0.1s\n",
            "[CV 1/5; 4/9] START boosting_type=gbdt, force_col_wise=True, max_depth=1, n_estimators=100, num_leaves=30, random_state=12345, verbose=-1\n",
            "[CV 1/5; 4/9] END boosting_type=gbdt, force_col_wise=True, max_depth=1, n_estimators=100, num_leaves=30, random_state=12345, verbose=-1; total time=   0.8s\n",
            "[CV 2/5; 4/9] START boosting_type=gbdt, force_col_wise=True, max_depth=1, n_estimators=100, num_leaves=30, random_state=12345, verbose=-1\n",
            "[CV 2/5; 4/9] END boosting_type=gbdt, force_col_wise=True, max_depth=1, n_estimators=100, num_leaves=30, random_state=12345, verbose=-1; total time=   2.1s\n",
            "[CV 3/5; 4/9] START boosting_type=gbdt, force_col_wise=True, max_depth=1, n_estimators=100, num_leaves=30, random_state=12345, verbose=-1\n",
            "[CV 3/5; 4/9] END boosting_type=gbdt, force_col_wise=True, max_depth=1, n_estimators=100, num_leaves=30, random_state=12345, verbose=-1; total time=   0.9s\n",
            "[CV 4/5; 4/9] START boosting_type=gbdt, force_col_wise=True, max_depth=1, n_estimators=100, num_leaves=30, random_state=12345, verbose=-1\n",
            "[CV 4/5; 4/9] END boosting_type=gbdt, force_col_wise=True, max_depth=1, n_estimators=100, num_leaves=30, random_state=12345, verbose=-1; total time=   0.8s\n",
            "[CV 5/5; 4/9] START boosting_type=gbdt, force_col_wise=True, max_depth=1, n_estimators=100, num_leaves=30, random_state=12345, verbose=-1\n",
            "[CV 5/5; 4/9] END boosting_type=gbdt, force_col_wise=True, max_depth=1, n_estimators=100, num_leaves=30, random_state=12345, verbose=-1; total time=   2.0s\n",
            "[CV 1/5; 5/9] START boosting_type=gbdt, force_col_wise=True, max_depth=1, n_estimators=100, num_leaves=130, random_state=12345, verbose=-1\n",
            "[CV 1/5; 5/9] END boosting_type=gbdt, force_col_wise=True, max_depth=1, n_estimators=100, num_leaves=130, random_state=12345, verbose=-1; total time=   0.7s\n",
            "[CV 2/5; 5/9] START boosting_type=gbdt, force_col_wise=True, max_depth=1, n_estimators=100, num_leaves=130, random_state=12345, verbose=-1\n",
            "[CV 2/5; 5/9] END boosting_type=gbdt, force_col_wise=True, max_depth=1, n_estimators=100, num_leaves=130, random_state=12345, verbose=-1; total time=   1.5s\n",
            "[CV 3/5; 5/9] START boosting_type=gbdt, force_col_wise=True, max_depth=1, n_estimators=100, num_leaves=130, random_state=12345, verbose=-1\n",
            "[CV 3/5; 5/9] END boosting_type=gbdt, force_col_wise=True, max_depth=1, n_estimators=100, num_leaves=130, random_state=12345, verbose=-1; total time=   3.3s\n",
            "[CV 4/5; 5/9] START boosting_type=gbdt, force_col_wise=True, max_depth=1, n_estimators=100, num_leaves=130, random_state=12345, verbose=-1\n",
            "[CV 4/5; 5/9] END boosting_type=gbdt, force_col_wise=True, max_depth=1, n_estimators=100, num_leaves=130, random_state=12345, verbose=-1; total time=   2.7s\n",
            "[CV 5/5; 5/9] START boosting_type=gbdt, force_col_wise=True, max_depth=1, n_estimators=100, num_leaves=130, random_state=12345, verbose=-1\n",
            "[CV 5/5; 5/9] END boosting_type=gbdt, force_col_wise=True, max_depth=1, n_estimators=100, num_leaves=130, random_state=12345, verbose=-1; total time=   0.5s\n",
            "[CV 1/5; 6/9] START boosting_type=gbdt, force_col_wise=True, max_depth=1, n_estimators=100, num_leaves=200, random_state=12345, verbose=-1\n",
            "[CV 1/5; 6/9] END boosting_type=gbdt, force_col_wise=True, max_depth=1, n_estimators=100, num_leaves=200, random_state=12345, verbose=-1; total time=   0.4s\n",
            "[CV 2/5; 6/9] START boosting_type=gbdt, force_col_wise=True, max_depth=1, n_estimators=100, num_leaves=200, random_state=12345, verbose=-1\n",
            "[CV 2/5; 6/9] END boosting_type=gbdt, force_col_wise=True, max_depth=1, n_estimators=100, num_leaves=200, random_state=12345, verbose=-1; total time=   0.8s\n",
            "[CV 3/5; 6/9] START boosting_type=gbdt, force_col_wise=True, max_depth=1, n_estimators=100, num_leaves=200, random_state=12345, verbose=-1\n",
            "[CV 3/5; 6/9] END boosting_type=gbdt, force_col_wise=True, max_depth=1, n_estimators=100, num_leaves=200, random_state=12345, verbose=-1; total time=   0.7s\n",
            "[CV 4/5; 6/9] START boosting_type=gbdt, force_col_wise=True, max_depth=1, n_estimators=100, num_leaves=200, random_state=12345, verbose=-1\n",
            "[CV 4/5; 6/9] END boosting_type=gbdt, force_col_wise=True, max_depth=1, n_estimators=100, num_leaves=200, random_state=12345, verbose=-1; total time=   2.1s\n",
            "[CV 5/5; 6/9] START boosting_type=gbdt, force_col_wise=True, max_depth=1, n_estimators=100, num_leaves=200, random_state=12345, verbose=-1\n",
            "[CV 5/5; 6/9] END boosting_type=gbdt, force_col_wise=True, max_depth=1, n_estimators=100, num_leaves=200, random_state=12345, verbose=-1; total time=   2.4s\n",
            "[CV 1/5; 7/9] START boosting_type=gbdt, force_col_wise=True, max_depth=1, n_estimators=200, num_leaves=30, random_state=12345, verbose=-1\n",
            "[CV 1/5; 7/9] END boosting_type=gbdt, force_col_wise=True, max_depth=1, n_estimators=200, num_leaves=30, random_state=12345, verbose=-1; total time=   1.2s\n",
            "[CV 2/5; 7/9] START boosting_type=gbdt, force_col_wise=True, max_depth=1, n_estimators=200, num_leaves=30, random_state=12345, verbose=-1\n",
            "[CV 2/5; 7/9] END boosting_type=gbdt, force_col_wise=True, max_depth=1, n_estimators=200, num_leaves=30, random_state=12345, verbose=-1; total time=   1.4s\n",
            "[CV 3/5; 7/9] START boosting_type=gbdt, force_col_wise=True, max_depth=1, n_estimators=200, num_leaves=30, random_state=12345, verbose=-1\n",
            "[CV 3/5; 7/9] END boosting_type=gbdt, force_col_wise=True, max_depth=1, n_estimators=200, num_leaves=30, random_state=12345, verbose=-1; total time=   2.6s\n",
            "[CV 4/5; 7/9] START boosting_type=gbdt, force_col_wise=True, max_depth=1, n_estimators=200, num_leaves=30, random_state=12345, verbose=-1\n",
            "[CV 4/5; 7/9] END boosting_type=gbdt, force_col_wise=True, max_depth=1, n_estimators=200, num_leaves=30, random_state=12345, verbose=-1; total time=   1.8s\n",
            "[CV 5/5; 7/9] START boosting_type=gbdt, force_col_wise=True, max_depth=1, n_estimators=200, num_leaves=30, random_state=12345, verbose=-1\n",
            "[CV 5/5; 7/9] END boosting_type=gbdt, force_col_wise=True, max_depth=1, n_estimators=200, num_leaves=30, random_state=12345, verbose=-1; total time=   0.2s\n",
            "[CV 1/5; 8/9] START boosting_type=gbdt, force_col_wise=True, max_depth=1, n_estimators=200, num_leaves=130, random_state=12345, verbose=-1\n",
            "[CV 1/5; 8/9] END boosting_type=gbdt, force_col_wise=True, max_depth=1, n_estimators=200, num_leaves=130, random_state=12345, verbose=-1; total time=   0.5s\n",
            "[CV 2/5; 8/9] START boosting_type=gbdt, force_col_wise=True, max_depth=1, n_estimators=200, num_leaves=130, random_state=12345, verbose=-1\n",
            "[CV 2/5; 8/9] END boosting_type=gbdt, force_col_wise=True, max_depth=1, n_estimators=200, num_leaves=130, random_state=12345, verbose=-1; total time=   1.6s\n",
            "[CV 3/5; 8/9] START boosting_type=gbdt, force_col_wise=True, max_depth=1, n_estimators=200, num_leaves=130, random_state=12345, verbose=-1\n",
            "[CV 3/5; 8/9] END boosting_type=gbdt, force_col_wise=True, max_depth=1, n_estimators=200, num_leaves=130, random_state=12345, verbose=-1; total time=   3.1s\n",
            "[CV 4/5; 8/9] START boosting_type=gbdt, force_col_wise=True, max_depth=1, n_estimators=200, num_leaves=130, random_state=12345, verbose=-1\n",
            "[CV 4/5; 8/9] END boosting_type=gbdt, force_col_wise=True, max_depth=1, n_estimators=200, num_leaves=130, random_state=12345, verbose=-1; total time=   2.4s\n",
            "[CV 5/5; 8/9] START boosting_type=gbdt, force_col_wise=True, max_depth=1, n_estimators=200, num_leaves=130, random_state=12345, verbose=-1\n",
            "[CV 5/5; 8/9] END boosting_type=gbdt, force_col_wise=True, max_depth=1, n_estimators=200, num_leaves=130, random_state=12345, verbose=-1; total time=   3.3s\n",
            "[CV 1/5; 9/9] START boosting_type=gbdt, force_col_wise=True, max_depth=1, n_estimators=200, num_leaves=200, random_state=12345, verbose=-1\n",
            "[CV 1/5; 9/9] END boosting_type=gbdt, force_col_wise=True, max_depth=1, n_estimators=200, num_leaves=200, random_state=12345, verbose=-1; total time=   2.7s\n",
            "[CV 2/5; 9/9] START boosting_type=gbdt, force_col_wise=True, max_depth=1, n_estimators=200, num_leaves=200, random_state=12345, verbose=-1\n",
            "[CV 2/5; 9/9] END boosting_type=gbdt, force_col_wise=True, max_depth=1, n_estimators=200, num_leaves=200, random_state=12345, verbose=-1; total time=   4.1s\n",
            "[CV 3/5; 9/9] START boosting_type=gbdt, force_col_wise=True, max_depth=1, n_estimators=200, num_leaves=200, random_state=12345, verbose=-1\n",
            "[CV 3/5; 9/9] END boosting_type=gbdt, force_col_wise=True, max_depth=1, n_estimators=200, num_leaves=200, random_state=12345, verbose=-1; total time=   1.7s\n",
            "[CV 4/5; 9/9] START boosting_type=gbdt, force_col_wise=True, max_depth=1, n_estimators=200, num_leaves=200, random_state=12345, verbose=-1\n",
            "[CV 4/5; 9/9] END boosting_type=gbdt, force_col_wise=True, max_depth=1, n_estimators=200, num_leaves=200, random_state=12345, verbose=-1; total time=   1.5s\n",
            "[CV 5/5; 9/9] START boosting_type=gbdt, force_col_wise=True, max_depth=1, n_estimators=200, num_leaves=200, random_state=12345, verbose=-1\n",
            "[CV 5/5; 9/9] END boosting_type=gbdt, force_col_wise=True, max_depth=1, n_estimators=200, num_leaves=200, random_state=12345, verbose=-1; total time=   1.6s\n",
            "Train RMSE: 29.91\n"
          ]
        }
      ],
      "source": [
        "lgbm = LGBMRegressor(boosting_type='gbdt', random_state=12345)\n",
        "params = {\n",
        "    'boosting_type' : ['gbdt'],\n",
        "    'n_estimators' : [50, 100, 200],\n",
        "    'max_depth' :[1],#[5, 7, 10],\n",
        "    'verbose' : [-1],\n",
        "    'random_state' : [12345],\n",
        "    'force_col_wise': [True],\n",
        "    'num_leaves' :[30, 130, 200]\n",
        "}\n",
        "\n",
        "gs_gbm =  GridSearchCV(lgbm,params, cv=tscv, n_jobs=-1, scoring='neg_mean_squared_error', verbose=10)\n",
        "gs_gbm.fit(features_train, target_train)\n",
        "predictions_valid = gs_gbm.predict(features_train)\n",
        "gbm_rmse = (-gs_gbm.best_score_) ** 0.5\n",
        "print('Train RMSE: {:.2f}'.format(gbm_rmse))"
      ]
    },
    {
      "cell_type": "markdown",
      "metadata": {
        "id": "jbKJX2cmOocd"
      },
      "source": [
        "\n",
        "Вывод:\n",
        "- лучшая модель - LGBMRegressor\n",
        "- RMSE для LGBMRegressor = 25.02"
      ]
    },
    {
      "cell_type": "markdown",
      "metadata": {
        "id": "UIoGMGELOocd"
      },
      "source": [
        "## Тестирование"
      ]
    },
    {
      "cell_type": "code",
      "execution_count": null,
      "metadata": {
        "scrolled": false,
        "id": "ImBM_cmeOocd"
      },
      "outputs": [],
      "source": [
        "predict_lgb_test = gs_gbm.predict(features_test)\n",
        "rmse_lgb_test = mean_squared_error(target_test, predict_lgb_test)**0.5"
      ]
    },
    {
      "cell_type": "markdown",
      "metadata": {
        "id": "aGI-FmLZOoce"
      },
      "source": [
        "RMSE для LGBMRegressor на тестовой выборе = 41.8447575177758"
      ]
    },
    {
      "cell_type": "markdown",
      "metadata": {
        "id": "YrQ8_bnYOoce"
      },
      "source": [
        "Вывод:\n",
        "- Мы провели анализ и подготовили данные для моделей. Обучили разные модели. Путем проверки обученных моделей, пришли к выводу, что модель LGBMRegressor дает лучшие показатели RMSE."
      ]
    },
    {
      "cell_type": "markdown",
      "metadata": {
        "id": "SMHT-QthOoce"
      },
      "source": [
        "### Общий вывод:\n",
        "- Установили  индекс таблицы равным столбцу datetime, изменили тип данных\n",
        "- ресемплировали данных по одному часу\n",
        "- хронологический порядк расположения даты и время соблюдён\n",
        "- С помощью сользящего среднео ряд стал более стаионарным, а значит данные можно прогназировать\n",
        "- Из графика тренд видно, что увеличение спроса на такси сезонно и приходится на летнии месяци\n",
        "- Создали дополнительные признаки\n",
        "- таблиа после создания дополнительных признаков float64(5), int64(5)\n",
        "- RMSE для RandomForestRegressor = 31.64\n",
        "- лучшая модель - LGBMRegressor\n",
        "- RMSE для LGBMRegressor = 25.02\n",
        "- RMSE для LGBMRegressor на тестовой выборке = 41.84\n",
        "- Мы провели анализ и подготовили данные для моделей. Обучили разные модели. Путем проверки обученных моделей, пришли к выводу, что модель LGBMRegressor дает лучшие показатели RMSE."
      ]
    }
  ],
  "metadata": {
    "ExecuteTimeLog": [
      {
        "duration": 85,
        "start_time": "2023-07-04T18:10:10.538Z"
      },
      {
        "duration": 2587,
        "start_time": "2023-07-04T18:10:16.000Z"
      },
      {
        "duration": 231,
        "start_time": "2023-07-04T18:10:18.590Z"
      },
      {
        "duration": 68,
        "start_time": "2023-07-04T18:12:53.342Z"
      },
      {
        "duration": 70,
        "start_time": "2023-07-04T18:13:00.627Z"
      },
      {
        "duration": 26,
        "start_time": "2023-07-04T18:15:06.017Z"
      },
      {
        "duration": 30,
        "start_time": "2023-07-04T18:15:34.913Z"
      },
      {
        "duration": 18,
        "start_time": "2023-07-04T18:15:47.443Z"
      },
      {
        "duration": 17,
        "start_time": "2023-07-04T18:15:54.462Z"
      },
      {
        "duration": 15,
        "start_time": "2023-07-04T18:16:34.779Z"
      },
      {
        "duration": 15,
        "start_time": "2023-07-04T19:01:50.297Z"
      },
      {
        "duration": 4,
        "start_time": "2023-07-04T19:04:05.657Z"
      },
      {
        "duration": 4,
        "start_time": "2023-07-04T19:04:18.765Z"
      },
      {
        "duration": 8,
        "start_time": "2023-07-04T19:04:27.329Z"
      },
      {
        "duration": 250,
        "start_time": "2023-07-04T19:05:31.742Z"
      },
      {
        "duration": 97,
        "start_time": "2023-07-04T19:08:42.616Z"
      },
      {
        "duration": 1525,
        "start_time": "2023-07-04T19:08:59.433Z"
      },
      {
        "duration": 132,
        "start_time": "2023-07-04T19:09:00.960Z"
      },
      {
        "duration": 31,
        "start_time": "2023-07-04T19:09:01.094Z"
      },
      {
        "duration": 59,
        "start_time": "2023-07-04T19:09:01.132Z"
      },
      {
        "duration": 89,
        "start_time": "2023-07-04T19:09:01.193Z"
      },
      {
        "duration": 82,
        "start_time": "2023-07-04T19:09:01.284Z"
      },
      {
        "duration": 27,
        "start_time": "2023-07-04T19:09:01.367Z"
      },
      {
        "duration": 107,
        "start_time": "2023-07-04T19:09:01.396Z"
      },
      {
        "duration": 166,
        "start_time": "2023-07-04T19:09:10.091Z"
      },
      {
        "duration": 272,
        "start_time": "2023-07-04T19:09:28.993Z"
      },
      {
        "duration": 137,
        "start_time": "2023-07-04T19:10:13.422Z"
      },
      {
        "duration": 193,
        "start_time": "2023-07-04T19:10:23.295Z"
      },
      {
        "duration": 265,
        "start_time": "2023-07-04T19:11:59.430Z"
      },
      {
        "duration": 302,
        "start_time": "2023-07-04T19:12:26.350Z"
      },
      {
        "duration": 239,
        "start_time": "2023-07-04T19:13:21.542Z"
      },
      {
        "duration": 29,
        "start_time": "2023-07-04T19:21:50.418Z"
      },
      {
        "duration": 1453,
        "start_time": "2023-07-04T19:22:02.830Z"
      },
      {
        "duration": 72,
        "start_time": "2023-07-04T19:22:04.285Z"
      },
      {
        "duration": 8,
        "start_time": "2023-07-04T19:22:04.358Z"
      },
      {
        "duration": 11,
        "start_time": "2023-07-04T19:22:04.367Z"
      },
      {
        "duration": 11,
        "start_time": "2023-07-04T19:22:04.380Z"
      },
      {
        "duration": 41,
        "start_time": "2023-07-04T19:22:04.393Z"
      },
      {
        "duration": 7,
        "start_time": "2023-07-04T19:22:04.444Z"
      },
      {
        "duration": 216,
        "start_time": "2023-07-04T19:22:04.452Z"
      },
      {
        "duration": 265,
        "start_time": "2023-07-04T19:22:04.670Z"
      },
      {
        "duration": 147,
        "start_time": "2023-07-04T19:22:04.936Z"
      },
      {
        "duration": 790,
        "start_time": "2023-07-04T19:24:16.149Z"
      },
      {
        "duration": 829,
        "start_time": "2023-07-04T19:24:31.521Z"
      },
      {
        "duration": 6,
        "start_time": "2023-07-04T19:33:30.922Z"
      },
      {
        "duration": 5,
        "start_time": "2023-07-04T19:35:18.258Z"
      },
      {
        "duration": 5,
        "start_time": "2023-07-04T19:41:38.856Z"
      },
      {
        "duration": 8,
        "start_time": "2023-07-04T19:45:54.706Z"
      },
      {
        "duration": 82,
        "start_time": "2023-07-04T19:45:54.716Z"
      },
      {
        "duration": 9,
        "start_time": "2023-07-04T19:46:33.174Z"
      },
      {
        "duration": 1723,
        "start_time": "2023-07-04T19:47:25.258Z"
      },
      {
        "duration": 96,
        "start_time": "2023-07-04T19:47:26.987Z"
      },
      {
        "duration": 8,
        "start_time": "2023-07-04T19:47:27.084Z"
      },
      {
        "duration": 53,
        "start_time": "2023-07-04T19:47:27.094Z"
      },
      {
        "duration": 41,
        "start_time": "2023-07-04T19:47:27.153Z"
      },
      {
        "duration": 80,
        "start_time": "2023-07-04T19:47:27.195Z"
      },
      {
        "duration": 3,
        "start_time": "2023-07-04T19:47:27.277Z"
      },
      {
        "duration": 286,
        "start_time": "2023-07-04T19:47:27.282Z"
      },
      {
        "duration": 303,
        "start_time": "2023-07-04T19:47:27.570Z"
      },
      {
        "duration": 1209,
        "start_time": "2023-07-04T19:47:27.875Z"
      },
      {
        "duration": 4,
        "start_time": "2023-07-04T19:47:29.085Z"
      },
      {
        "duration": 7,
        "start_time": "2023-07-04T19:47:29.090Z"
      },
      {
        "duration": 72,
        "start_time": "2023-07-04T19:47:29.098Z"
      },
      {
        "duration": 351,
        "start_time": "2023-07-04T19:47:29.174Z"
      },
      {
        "duration": 144,
        "start_time": "2023-07-04T19:47:54.680Z"
      },
      {
        "duration": 1639,
        "start_time": "2023-07-06T09:48:27.496Z"
      },
      {
        "duration": 1397,
        "start_time": "2023-07-06T09:48:35.488Z"
      },
      {
        "duration": 115,
        "start_time": "2023-07-06T09:48:36.887Z"
      },
      {
        "duration": 10,
        "start_time": "2023-07-06T09:48:37.003Z"
      },
      {
        "duration": 11,
        "start_time": "2023-07-06T09:48:37.014Z"
      },
      {
        "duration": 9,
        "start_time": "2023-07-06T09:48:37.027Z"
      },
      {
        "duration": 17,
        "start_time": "2023-07-06T09:48:37.037Z"
      },
      {
        "duration": 3,
        "start_time": "2023-07-06T09:48:37.055Z"
      },
      {
        "duration": 216,
        "start_time": "2023-07-06T09:48:37.059Z"
      },
      {
        "duration": 212,
        "start_time": "2023-07-06T09:48:37.277Z"
      },
      {
        "duration": 811,
        "start_time": "2023-07-06T09:48:37.491Z"
      },
      {
        "duration": 3,
        "start_time": "2023-07-06T09:48:38.304Z"
      },
      {
        "duration": 10,
        "start_time": "2023-07-06T09:48:38.308Z"
      },
      {
        "duration": 9,
        "start_time": "2023-07-06T09:48:38.319Z"
      },
      {
        "duration": 232,
        "start_time": "2023-07-06T09:48:38.330Z"
      },
      {
        "duration": 1454,
        "start_time": "2023-07-06T09:50:23.917Z"
      },
      {
        "duration": 54,
        "start_time": "2023-07-06T09:50:25.374Z"
      },
      {
        "duration": 9,
        "start_time": "2023-07-06T09:50:25.430Z"
      },
      {
        "duration": 62,
        "start_time": "2023-07-06T09:50:25.441Z"
      },
      {
        "duration": 27,
        "start_time": "2023-07-06T09:50:25.507Z"
      },
      {
        "duration": 23,
        "start_time": "2023-07-06T09:50:25.535Z"
      },
      {
        "duration": 4,
        "start_time": "2023-07-06T09:50:25.560Z"
      },
      {
        "duration": 254,
        "start_time": "2023-07-06T09:50:25.566Z"
      },
      {
        "duration": 297,
        "start_time": "2023-07-06T09:50:25.823Z"
      },
      {
        "duration": 887,
        "start_time": "2023-07-06T09:50:26.123Z"
      },
      {
        "duration": 6,
        "start_time": "2023-07-06T09:50:27.019Z"
      },
      {
        "duration": 9,
        "start_time": "2023-07-06T09:50:27.027Z"
      },
      {
        "duration": 12,
        "start_time": "2023-07-06T09:50:27.037Z"
      },
      {
        "duration": 287,
        "start_time": "2023-07-06T09:50:27.052Z"
      },
      {
        "duration": 630,
        "start_time": "2023-07-06T09:50:40.485Z"
      },
      {
        "duration": 1401,
        "start_time": "2023-07-06T09:50:48.487Z"
      },
      {
        "duration": 48,
        "start_time": "2023-07-06T09:50:49.890Z"
      },
      {
        "duration": 59,
        "start_time": "2023-07-06T09:50:49.939Z"
      },
      {
        "duration": 11,
        "start_time": "2023-07-06T09:50:50.000Z"
      },
      {
        "duration": 20,
        "start_time": "2023-07-06T09:50:50.013Z"
      },
      {
        "duration": 49,
        "start_time": "2023-07-06T09:50:50.035Z"
      },
      {
        "duration": 15,
        "start_time": "2023-07-06T09:50:50.085Z"
      },
      {
        "duration": 227,
        "start_time": "2023-07-06T09:50:50.101Z"
      },
      {
        "duration": 297,
        "start_time": "2023-07-06T09:50:50.330Z"
      },
      {
        "duration": 732,
        "start_time": "2023-07-06T09:50:50.629Z"
      },
      {
        "duration": 4,
        "start_time": "2023-07-06T09:50:51.362Z"
      },
      {
        "duration": 9,
        "start_time": "2023-07-06T09:50:51.368Z"
      },
      {
        "duration": 8,
        "start_time": "2023-07-06T09:50:51.379Z"
      },
      {
        "duration": 264,
        "start_time": "2023-07-06T09:50:51.401Z"
      },
      {
        "duration": 1512,
        "start_time": "2023-07-06T09:51:05.662Z"
      },
      {
        "duration": 61,
        "start_time": "2023-07-06T09:51:07.177Z"
      },
      {
        "duration": 12,
        "start_time": "2023-07-06T09:51:07.240Z"
      },
      {
        "duration": 83,
        "start_time": "2023-07-06T09:51:07.254Z"
      },
      {
        "duration": 29,
        "start_time": "2023-07-06T09:51:07.338Z"
      },
      {
        "duration": 24,
        "start_time": "2023-07-06T09:51:07.369Z"
      },
      {
        "duration": 5,
        "start_time": "2023-07-06T09:51:07.395Z"
      },
      {
        "duration": 238,
        "start_time": "2023-07-06T09:51:07.402Z"
      },
      {
        "duration": 284,
        "start_time": "2023-07-06T09:51:07.642Z"
      },
      {
        "duration": 808,
        "start_time": "2023-07-06T09:51:07.928Z"
      },
      {
        "duration": 5,
        "start_time": "2023-07-06T09:51:08.737Z"
      },
      {
        "duration": 24,
        "start_time": "2023-07-06T09:51:08.743Z"
      },
      {
        "duration": 37,
        "start_time": "2023-07-06T09:51:08.769Z"
      },
      {
        "duration": 218,
        "start_time": "2023-07-06T09:51:08.808Z"
      },
      {
        "duration": 653,
        "start_time": "2023-07-06T09:51:45.844Z"
      },
      {
        "duration": 1364,
        "start_time": "2023-07-06T09:53:00.049Z"
      },
      {
        "duration": 49,
        "start_time": "2023-07-06T09:53:01.415Z"
      },
      {
        "duration": 26,
        "start_time": "2023-07-06T09:53:01.465Z"
      },
      {
        "duration": 53,
        "start_time": "2023-07-06T09:53:01.493Z"
      },
      {
        "duration": 65,
        "start_time": "2023-07-06T09:53:01.548Z"
      },
      {
        "duration": 53,
        "start_time": "2023-07-06T09:53:01.615Z"
      },
      {
        "duration": 45,
        "start_time": "2023-07-06T09:53:01.671Z"
      },
      {
        "duration": 292,
        "start_time": "2023-07-06T09:53:01.718Z"
      },
      {
        "duration": 264,
        "start_time": "2023-07-06T09:53:02.011Z"
      },
      {
        "duration": 889,
        "start_time": "2023-07-06T09:53:02.277Z"
      },
      {
        "duration": 4,
        "start_time": "2023-07-06T09:53:03.169Z"
      },
      {
        "duration": 25,
        "start_time": "2023-07-06T09:53:03.175Z"
      },
      {
        "duration": 15,
        "start_time": "2023-07-06T09:53:03.202Z"
      },
      {
        "duration": 242,
        "start_time": "2023-07-06T09:53:03.220Z"
      },
      {
        "duration": 626,
        "start_time": "2023-07-06T09:53:23.654Z"
      },
      {
        "duration": 722,
        "start_time": "2023-07-06T09:53:31.657Z"
      },
      {
        "duration": 334,
        "start_time": "2023-07-06T10:10:40.026Z"
      },
      {
        "duration": 199,
        "start_time": "2023-07-06T10:10:53.958Z"
      },
      {
        "duration": 232,
        "start_time": "2023-07-06T10:11:00.202Z"
      },
      {
        "duration": 226,
        "start_time": "2023-07-06T10:13:20.044Z"
      },
      {
        "duration": 220,
        "start_time": "2023-07-06T10:13:35.815Z"
      },
      {
        "duration": 165,
        "start_time": "2023-07-06T10:14:34.403Z"
      },
      {
        "duration": 277,
        "start_time": "2023-07-06T10:41:19.001Z"
      },
      {
        "duration": 347,
        "start_time": "2023-07-06T10:41:32.927Z"
      },
      {
        "duration": 289,
        "start_time": "2023-07-06T10:51:48.048Z"
      },
      {
        "duration": 1506,
        "start_time": "2023-07-06T10:52:02.626Z"
      },
      {
        "duration": 116,
        "start_time": "2023-07-06T10:52:04.133Z"
      },
      {
        "duration": 13,
        "start_time": "2023-07-06T10:52:04.251Z"
      },
      {
        "duration": 17,
        "start_time": "2023-07-06T10:52:04.265Z"
      },
      {
        "duration": 8,
        "start_time": "2023-07-06T10:52:04.284Z"
      },
      {
        "duration": 13,
        "start_time": "2023-07-06T10:52:04.294Z"
      },
      {
        "duration": 2,
        "start_time": "2023-07-06T10:52:04.309Z"
      },
      {
        "duration": 203,
        "start_time": "2023-07-06T10:52:04.313Z"
      },
      {
        "duration": 161,
        "start_time": "2023-07-06T10:52:04.518Z"
      },
      {
        "duration": 223,
        "start_time": "2023-07-06T10:52:04.682Z"
      },
      {
        "duration": 803,
        "start_time": "2023-07-06T10:52:04.907Z"
      },
      {
        "duration": 5,
        "start_time": "2023-07-06T10:52:05.712Z"
      },
      {
        "duration": 37,
        "start_time": "2023-07-06T10:52:05.719Z"
      },
      {
        "duration": 12,
        "start_time": "2023-07-06T10:52:05.757Z"
      },
      {
        "duration": 27,
        "start_time": "2023-07-06T10:52:05.771Z"
      },
      {
        "duration": 1479,
        "start_time": "2023-07-06T10:53:25.471Z"
      },
      {
        "duration": 49,
        "start_time": "2023-07-06T10:53:26.951Z"
      },
      {
        "duration": 9,
        "start_time": "2023-07-06T10:53:27.001Z"
      },
      {
        "duration": 11,
        "start_time": "2023-07-06T10:53:27.012Z"
      },
      {
        "duration": 10,
        "start_time": "2023-07-06T10:53:27.024Z"
      },
      {
        "duration": 17,
        "start_time": "2023-07-06T10:53:27.036Z"
      },
      {
        "duration": 2,
        "start_time": "2023-07-06T10:53:27.055Z"
      },
      {
        "duration": 131,
        "start_time": "2023-07-06T10:53:27.058Z"
      },
      {
        "duration": 0,
        "start_time": "2023-07-06T10:53:27.191Z"
      },
      {
        "duration": 0,
        "start_time": "2023-07-06T10:53:27.192Z"
      },
      {
        "duration": 0,
        "start_time": "2023-07-06T10:53:27.199Z"
      },
      {
        "duration": 0,
        "start_time": "2023-07-06T10:53:27.200Z"
      },
      {
        "duration": 0,
        "start_time": "2023-07-06T10:53:27.201Z"
      },
      {
        "duration": 246,
        "start_time": "2023-07-06T10:53:50.882Z"
      },
      {
        "duration": 818,
        "start_time": "2023-07-06T10:54:04.056Z"
      },
      {
        "duration": 12,
        "start_time": "2023-07-06T10:56:25.705Z"
      },
      {
        "duration": 17,
        "start_time": "2023-07-06T10:57:41.091Z"
      },
      {
        "duration": 9,
        "start_time": "2023-07-06T11:02:39.395Z"
      },
      {
        "duration": 11,
        "start_time": "2023-07-06T11:06:31.711Z"
      },
      {
        "duration": 5,
        "start_time": "2023-07-06T11:06:43.912Z"
      },
      {
        "duration": 9,
        "start_time": "2023-07-06T11:06:45.801Z"
      },
      {
        "duration": 3,
        "start_time": "2023-07-06T11:06:46.515Z"
      },
      {
        "duration": 6,
        "start_time": "2023-07-06T11:06:48.130Z"
      },
      {
        "duration": 36,
        "start_time": "2023-07-06T11:06:52.866Z"
      },
      {
        "duration": 11,
        "start_time": "2023-07-06T11:17:47.067Z"
      },
      {
        "duration": 10,
        "start_time": "2023-07-06T11:17:56.928Z"
      },
      {
        "duration": 12,
        "start_time": "2023-07-06T11:18:13.418Z"
      },
      {
        "duration": 5519,
        "start_time": "2023-07-06T11:18:22.228Z"
      },
      {
        "duration": 5577,
        "start_time": "2023-07-06T11:19:23.108Z"
      },
      {
        "duration": 5493,
        "start_time": "2023-07-06T11:22:36.781Z"
      },
      {
        "duration": 10,
        "start_time": "2023-07-06T11:24:24.214Z"
      },
      {
        "duration": 9,
        "start_time": "2023-07-06T11:24:47.298Z"
      },
      {
        "duration": 1295,
        "start_time": "2023-07-06T11:25:42.250Z"
      },
      {
        "duration": 59,
        "start_time": "2023-07-06T11:25:43.547Z"
      },
      {
        "duration": 8,
        "start_time": "2023-07-06T11:25:43.608Z"
      },
      {
        "duration": 18,
        "start_time": "2023-07-06T11:25:43.618Z"
      },
      {
        "duration": 11,
        "start_time": "2023-07-06T11:25:43.638Z"
      },
      {
        "duration": 19,
        "start_time": "2023-07-06T11:25:43.650Z"
      },
      {
        "duration": 11,
        "start_time": "2023-07-06T11:25:43.670Z"
      },
      {
        "duration": 265,
        "start_time": "2023-07-06T11:25:43.682Z"
      },
      {
        "duration": 806,
        "start_time": "2023-07-06T11:25:43.948Z"
      },
      {
        "duration": 7,
        "start_time": "2023-07-06T11:25:44.755Z"
      },
      {
        "duration": 11,
        "start_time": "2023-07-06T11:25:44.763Z"
      },
      {
        "duration": 7,
        "start_time": "2023-07-06T11:25:44.775Z"
      },
      {
        "duration": 2,
        "start_time": "2023-07-06T11:25:44.784Z"
      },
      {
        "duration": 8,
        "start_time": "2023-07-06T11:25:44.789Z"
      },
      {
        "duration": 2093,
        "start_time": "2023-07-06T11:25:44.798Z"
      },
      {
        "duration": 6,
        "start_time": "2023-07-06T11:25:46.893Z"
      },
      {
        "duration": 6909,
        "start_time": "2023-07-06T11:25:46.901Z"
      },
      {
        "duration": 6406,
        "start_time": "2023-07-06T11:26:25.800Z"
      },
      {
        "duration": 4,
        "start_time": "2023-07-06T11:28:37.336Z"
      },
      {
        "duration": 1536,
        "start_time": "2023-07-06T11:32:09.710Z"
      },
      {
        "duration": 49,
        "start_time": "2023-07-06T11:32:11.248Z"
      },
      {
        "duration": 10,
        "start_time": "2023-07-06T11:32:11.298Z"
      },
      {
        "duration": 14,
        "start_time": "2023-07-06T11:32:11.309Z"
      },
      {
        "duration": 10,
        "start_time": "2023-07-06T11:32:11.325Z"
      },
      {
        "duration": 14,
        "start_time": "2023-07-06T11:32:11.337Z"
      },
      {
        "duration": 4,
        "start_time": "2023-07-06T11:32:11.352Z"
      },
      {
        "duration": 334,
        "start_time": "2023-07-06T11:32:11.358Z"
      },
      {
        "duration": 895,
        "start_time": "2023-07-06T11:32:11.699Z"
      },
      {
        "duration": 15,
        "start_time": "2023-07-06T11:32:12.596Z"
      },
      {
        "duration": 4,
        "start_time": "2023-07-06T11:32:12.613Z"
      },
      {
        "duration": 10,
        "start_time": "2023-07-06T11:32:12.618Z"
      },
      {
        "duration": 4,
        "start_time": "2023-07-06T11:32:12.629Z"
      },
      {
        "duration": 22,
        "start_time": "2023-07-06T11:32:12.635Z"
      },
      {
        "duration": 6019,
        "start_time": "2023-07-06T11:32:12.659Z"
      },
      {
        "duration": 3,
        "start_time": "2023-07-06T11:32:18.679Z"
      },
      {
        "duration": 78018,
        "start_time": "2023-07-06T11:32:18.683Z"
      },
      {
        "duration": 3603,
        "start_time": "2023-07-06T11:33:36.704Z"
      },
      {
        "duration": 92,
        "start_time": "2023-07-06T11:33:40.309Z"
      },
      {
        "duration": 122,
        "start_time": "2023-07-06T11:35:37.966Z"
      },
      {
        "duration": 11,
        "start_time": "2023-07-06T11:35:53.299Z"
      },
      {
        "duration": 15,
        "start_time": "2023-07-06T11:36:55.403Z"
      },
      {
        "duration": 15,
        "start_time": "2023-07-06T11:37:13.093Z"
      },
      {
        "duration": 1346,
        "start_time": "2023-07-06T12:16:25.531Z"
      },
      {
        "duration": 44,
        "start_time": "2023-07-06T12:16:26.879Z"
      },
      {
        "duration": 9,
        "start_time": "2023-07-06T12:16:26.925Z"
      },
      {
        "duration": 10,
        "start_time": "2023-07-06T12:16:26.936Z"
      },
      {
        "duration": 9,
        "start_time": "2023-07-06T12:16:26.948Z"
      },
      {
        "duration": 22,
        "start_time": "2023-07-06T12:16:26.958Z"
      },
      {
        "duration": 3,
        "start_time": "2023-07-06T12:16:26.981Z"
      },
      {
        "duration": 252,
        "start_time": "2023-07-06T12:16:26.985Z"
      },
      {
        "duration": 764,
        "start_time": "2023-07-06T12:16:27.238Z"
      },
      {
        "duration": 14,
        "start_time": "2023-07-06T12:16:28.004Z"
      },
      {
        "duration": 10,
        "start_time": "2023-07-06T12:16:28.019Z"
      },
      {
        "duration": 4,
        "start_time": "2023-07-06T12:16:28.030Z"
      },
      {
        "duration": 20,
        "start_time": "2023-07-06T12:16:28.035Z"
      },
      {
        "duration": 49,
        "start_time": "2023-07-06T12:16:28.056Z"
      },
      {
        "duration": 59,
        "start_time": "2023-07-06T12:16:28.107Z"
      },
      {
        "duration": 5398,
        "start_time": "2023-07-06T12:16:28.168Z"
      },
      {
        "duration": 3,
        "start_time": "2023-07-06T12:16:33.567Z"
      },
      {
        "duration": 7532,
        "start_time": "2023-07-06T12:16:33.572Z"
      },
      {
        "duration": 98,
        "start_time": "2023-07-06T12:16:41.107Z"
      },
      {
        "duration": 8,
        "start_time": "2023-07-06T12:21:27.236Z"
      },
      {
        "duration": 10,
        "start_time": "2023-07-06T12:22:31.032Z"
      },
      {
        "duration": 424622,
        "start_time": "2023-07-06T12:23:24.192Z"
      },
      {
        "duration": 101,
        "start_time": "2023-07-06T12:30:28.818Z"
      },
      {
        "duration": 79,
        "start_time": "2023-07-06T12:30:29.034Z"
      },
      {
        "duration": 1514,
        "start_time": "2023-07-06T12:46:04.455Z"
      },
      {
        "duration": 63,
        "start_time": "2023-07-06T12:46:05.971Z"
      },
      {
        "duration": 8,
        "start_time": "2023-07-06T12:46:06.042Z"
      },
      {
        "duration": 53,
        "start_time": "2023-07-06T12:46:06.052Z"
      },
      {
        "duration": 33,
        "start_time": "2023-07-06T12:46:06.114Z"
      },
      {
        "duration": 33,
        "start_time": "2023-07-06T12:46:06.149Z"
      },
      {
        "duration": 60,
        "start_time": "2023-07-06T12:46:06.184Z"
      },
      {
        "duration": 330,
        "start_time": "2023-07-06T12:46:06.247Z"
      },
      {
        "duration": 812,
        "start_time": "2023-07-06T12:46:06.578Z"
      },
      {
        "duration": 30,
        "start_time": "2023-07-06T12:46:07.392Z"
      },
      {
        "duration": 23,
        "start_time": "2023-07-06T12:46:07.430Z"
      },
      {
        "duration": 5,
        "start_time": "2023-07-06T12:46:07.454Z"
      },
      {
        "duration": 9,
        "start_time": "2023-07-06T12:46:07.460Z"
      },
      {
        "duration": 3,
        "start_time": "2023-07-06T12:46:07.471Z"
      },
      {
        "duration": 11,
        "start_time": "2023-07-06T12:46:07.476Z"
      },
      {
        "duration": 5792,
        "start_time": "2023-07-06T12:46:07.489Z"
      },
      {
        "duration": 2,
        "start_time": "2023-07-06T12:46:13.282Z"
      },
      {
        "duration": 1437,
        "start_time": "2023-07-06T12:49:23.984Z"
      },
      {
        "duration": 47,
        "start_time": "2023-07-06T12:49:25.430Z"
      },
      {
        "duration": 9,
        "start_time": "2023-07-06T12:49:25.479Z"
      },
      {
        "duration": 51,
        "start_time": "2023-07-06T12:49:25.489Z"
      },
      {
        "duration": 8,
        "start_time": "2023-07-06T12:49:25.543Z"
      },
      {
        "duration": 15,
        "start_time": "2023-07-06T12:49:25.553Z"
      },
      {
        "duration": 3,
        "start_time": "2023-07-06T12:49:25.570Z"
      },
      {
        "duration": 280,
        "start_time": "2023-07-06T12:49:25.575Z"
      },
      {
        "duration": 926,
        "start_time": "2023-07-06T12:49:25.856Z"
      },
      {
        "duration": 14,
        "start_time": "2023-07-06T12:49:26.784Z"
      },
      {
        "duration": 24,
        "start_time": "2023-07-06T12:49:26.805Z"
      },
      {
        "duration": 16,
        "start_time": "2023-07-06T12:49:26.831Z"
      },
      {
        "duration": 10,
        "start_time": "2023-07-06T12:49:26.848Z"
      },
      {
        "duration": 3,
        "start_time": "2023-07-06T12:49:26.860Z"
      },
      {
        "duration": 7,
        "start_time": "2023-07-06T12:49:26.864Z"
      },
      {
        "duration": 5895,
        "start_time": "2023-07-06T12:49:26.872Z"
      },
      {
        "duration": 3,
        "start_time": "2023-07-06T12:49:32.768Z"
      },
      {
        "duration": 1377,
        "start_time": "2023-07-06T12:50:29.859Z"
      },
      {
        "duration": 46,
        "start_time": "2023-07-06T12:50:31.238Z"
      },
      {
        "duration": 10,
        "start_time": "2023-07-06T12:50:31.285Z"
      },
      {
        "duration": 72,
        "start_time": "2023-07-06T12:50:31.297Z"
      },
      {
        "duration": 77,
        "start_time": "2023-07-06T12:50:31.370Z"
      },
      {
        "duration": 100,
        "start_time": "2023-07-06T12:50:31.448Z"
      },
      {
        "duration": 81,
        "start_time": "2023-07-06T12:50:31.551Z"
      },
      {
        "duration": 309,
        "start_time": "2023-07-06T12:50:31.634Z"
      },
      {
        "duration": 887,
        "start_time": "2023-07-06T12:50:31.944Z"
      },
      {
        "duration": 18,
        "start_time": "2023-07-06T12:50:32.834Z"
      },
      {
        "duration": 51,
        "start_time": "2023-07-06T12:50:32.854Z"
      },
      {
        "duration": 271,
        "start_time": "2023-07-06T12:50:32.914Z"
      },
      {
        "duration": 10,
        "start_time": "2023-07-06T12:50:33.186Z"
      },
      {
        "duration": 55,
        "start_time": "2023-07-06T12:50:33.198Z"
      },
      {
        "duration": 8,
        "start_time": "2023-07-06T12:50:33.254Z"
      },
      {
        "duration": 5897,
        "start_time": "2023-07-06T12:50:33.263Z"
      },
      {
        "duration": 3,
        "start_time": "2023-07-06T12:50:39.162Z"
      },
      {
        "duration": 208,
        "start_time": "2023-07-06T12:50:39.166Z"
      },
      {
        "duration": 0,
        "start_time": "2023-07-06T12:50:39.375Z"
      },
      {
        "duration": 63,
        "start_time": "2023-07-06T12:51:25.020Z"
      },
      {
        "duration": 1531,
        "start_time": "2023-07-06T12:51:46.087Z"
      },
      {
        "duration": 49,
        "start_time": "2023-07-06T12:51:47.627Z"
      },
      {
        "duration": 10,
        "start_time": "2023-07-06T12:51:47.678Z"
      },
      {
        "duration": 36,
        "start_time": "2023-07-06T12:51:47.690Z"
      },
      {
        "duration": 26,
        "start_time": "2023-07-06T12:51:47.728Z"
      },
      {
        "duration": 12,
        "start_time": "2023-07-06T12:51:47.756Z"
      },
      {
        "duration": 6,
        "start_time": "2023-07-06T12:51:47.770Z"
      },
      {
        "duration": 280,
        "start_time": "2023-07-06T12:51:47.777Z"
      },
      {
        "duration": 873,
        "start_time": "2023-07-06T12:51:48.059Z"
      },
      {
        "duration": 16,
        "start_time": "2023-07-06T12:51:48.934Z"
      },
      {
        "duration": 12,
        "start_time": "2023-07-06T12:51:48.952Z"
      },
      {
        "duration": 5,
        "start_time": "2023-07-06T12:51:48.966Z"
      },
      {
        "duration": 9,
        "start_time": "2023-07-06T12:51:48.973Z"
      },
      {
        "duration": 3,
        "start_time": "2023-07-06T12:51:48.985Z"
      },
      {
        "duration": 35,
        "start_time": "2023-07-06T12:51:48.990Z"
      },
      {
        "duration": 5989,
        "start_time": "2023-07-06T12:51:49.026Z"
      },
      {
        "duration": 5,
        "start_time": "2023-07-06T12:51:55.017Z"
      },
      {
        "duration": 668505,
        "start_time": "2023-07-06T12:51:55.024Z"
      },
      {
        "duration": 201,
        "start_time": "2023-07-06T13:03:03.533Z"
      },
      {
        "duration": 33,
        "start_time": "2023-07-06T13:05:13.299Z"
      },
      {
        "duration": 4699,
        "start_time": "2023-07-06T13:52:56.910Z"
      },
      {
        "duration": 379,
        "start_time": "2023-07-06T13:53:01.612Z"
      },
      {
        "duration": 11,
        "start_time": "2023-07-06T13:53:01.993Z"
      },
      {
        "duration": 26,
        "start_time": "2023-07-06T13:53:02.005Z"
      },
      {
        "duration": 31,
        "start_time": "2023-07-06T13:53:02.033Z"
      },
      {
        "duration": 29,
        "start_time": "2023-07-06T13:53:02.068Z"
      },
      {
        "duration": 3,
        "start_time": "2023-07-06T13:53:02.100Z"
      },
      {
        "duration": 403,
        "start_time": "2023-07-06T13:53:02.105Z"
      },
      {
        "duration": 9948,
        "start_time": "2023-07-06T13:53:02.511Z"
      },
      {
        "duration": 477,
        "start_time": "2023-07-06T13:55:16.054Z"
      },
      {
        "duration": 49,
        "start_time": "2023-07-06T19:02:52.789Z"
      },
      {
        "duration": 1571,
        "start_time": "2023-07-06T19:03:02.208Z"
      },
      {
        "duration": 385,
        "start_time": "2023-07-06T19:03:03.781Z"
      },
      {
        "duration": 9,
        "start_time": "2023-07-06T19:03:04.168Z"
      },
      {
        "duration": 40,
        "start_time": "2023-07-06T19:03:04.179Z"
      },
      {
        "duration": 23,
        "start_time": "2023-07-06T19:03:04.221Z"
      },
      {
        "duration": 46,
        "start_time": "2023-07-06T19:03:04.245Z"
      },
      {
        "duration": 13,
        "start_time": "2023-07-06T19:03:04.292Z"
      },
      {
        "duration": 274,
        "start_time": "2023-07-06T19:03:04.307Z"
      },
      {
        "duration": 2602,
        "start_time": "2023-07-06T19:03:04.583Z"
      },
      {
        "duration": 994,
        "start_time": "2023-07-06T19:03:07.278Z"
      },
      {
        "duration": 126,
        "start_time": "2023-07-06T19:03:08.274Z"
      },
      {
        "duration": 0,
        "start_time": "2023-07-06T19:03:08.402Z"
      },
      {
        "duration": 0,
        "start_time": "2023-07-06T19:03:08.403Z"
      },
      {
        "duration": 0,
        "start_time": "2023-07-06T19:03:08.404Z"
      },
      {
        "duration": 0,
        "start_time": "2023-07-06T19:03:08.405Z"
      },
      {
        "duration": 0,
        "start_time": "2023-07-06T19:03:08.406Z"
      },
      {
        "duration": 0,
        "start_time": "2023-07-06T19:03:08.408Z"
      },
      {
        "duration": 0,
        "start_time": "2023-07-06T19:03:08.409Z"
      },
      {
        "duration": 0,
        "start_time": "2023-07-06T19:03:08.410Z"
      },
      {
        "duration": 0,
        "start_time": "2023-07-06T19:03:08.411Z"
      },
      {
        "duration": 0,
        "start_time": "2023-07-06T19:03:08.412Z"
      },
      {
        "duration": 16,
        "start_time": "2023-07-06T19:03:22.343Z"
      },
      {
        "duration": 345,
        "start_time": "2023-07-06T19:09:13.402Z"
      },
      {
        "duration": 3,
        "start_time": "2023-07-06T19:12:14.759Z"
      },
      {
        "duration": 1434,
        "start_time": "2023-07-06T19:12:20.904Z"
      },
      {
        "duration": 66,
        "start_time": "2023-07-06T19:12:22.340Z"
      },
      {
        "duration": 8,
        "start_time": "2023-07-06T19:12:22.408Z"
      },
      {
        "duration": 13,
        "start_time": "2023-07-06T19:12:22.418Z"
      },
      {
        "duration": 30,
        "start_time": "2023-07-06T19:12:22.433Z"
      },
      {
        "duration": 37,
        "start_time": "2023-07-06T19:12:22.465Z"
      },
      {
        "duration": 10,
        "start_time": "2023-07-06T19:12:22.504Z"
      },
      {
        "duration": 281,
        "start_time": "2023-07-06T19:12:22.516Z"
      },
      {
        "duration": 2182,
        "start_time": "2023-07-06T19:12:22.799Z"
      },
      {
        "duration": 1067,
        "start_time": "2023-07-06T19:12:24.985Z"
      },
      {
        "duration": 15,
        "start_time": "2023-07-06T19:12:26.054Z"
      },
      {
        "duration": 364,
        "start_time": "2023-07-06T19:12:26.070Z"
      },
      {
        "duration": 14,
        "start_time": "2023-07-06T19:12:26.437Z"
      },
      {
        "duration": 24,
        "start_time": "2023-07-06T19:12:26.453Z"
      },
      {
        "duration": 9,
        "start_time": "2023-07-06T19:12:26.479Z"
      },
      {
        "duration": 32,
        "start_time": "2023-07-06T19:12:26.490Z"
      },
      {
        "duration": 21,
        "start_time": "2023-07-06T19:12:26.524Z"
      },
      {
        "duration": 19,
        "start_time": "2023-07-06T19:12:26.547Z"
      },
      {
        "duration": 4237,
        "start_time": "2023-07-06T19:12:26.568Z"
      },
      {
        "duration": 3,
        "start_time": "2023-07-06T19:12:30.807Z"
      },
      {
        "duration": 207,
        "start_time": "2023-07-06T19:12:30.812Z"
      },
      {
        "duration": 0,
        "start_time": "2023-07-06T19:12:31.021Z"
      },
      {
        "duration": 62484,
        "start_time": "2023-07-06T19:12:48.619Z"
      },
      {
        "duration": 13,
        "start_time": "2023-07-06T19:15:23.089Z"
      }
    ],
    "kernelspec": {
      "display_name": "Python 3 (ipykernel)",
      "language": "python",
      "name": "python3"
    },
    "language_info": {
      "codemirror_mode": {
        "name": "ipython",
        "version": 3
      },
      "file_extension": ".py",
      "mimetype": "text/x-python",
      "name": "python",
      "nbconvert_exporter": "python",
      "pygments_lexer": "ipython3",
      "version": "3.9.5"
    },
    "toc": {
      "base_numbering": 1,
      "nav_menu": {},
      "number_sections": true,
      "sideBar": true,
      "skip_h1_title": true,
      "title_cell": "Содержание",
      "title_sidebar": "Contents",
      "toc_cell": true,
      "toc_position": {},
      "toc_section_display": true,
      "toc_window_display": false
    },
    "colab": {
      "provenance": []
    }
  },
  "nbformat": 4,
  "nbformat_minor": 0
}